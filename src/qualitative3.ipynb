{
 "cells": [
  {
   "cell_type": "markdown",
   "metadata": {},
   "source": [
    "# Qualitative Analysis 3"
   ]
  },
  {
   "cell_type": "code",
   "execution_count": 1,
   "metadata": {},
   "outputs": [],
   "source": [
    "import pandas as pd\n",
    "import os\n",
    "import re\n",
    "import numpy as np\n",
    "import matplotlib.pyplot as plt\n",
    "import seaborn as sns\n",
    "from tqdm import tqdm\n",
    "from IPython.display import display, HTML, Markdown\n",
    "from lr.text_processing.util import pre_process_nli_df\n",
    "from collections import Counter\n",
    "from lr.stats.h_testing import get_paired_t_statistic"
   ]
  },
  {
   "cell_type": "markdown",
   "metadata": {},
   "source": [
    "## When $\\rho=0$ which test examples are affected by the transformation?"
   ]
  },
  {
   "cell_type": "code",
   "execution_count": 2,
   "metadata": {},
   "outputs": [],
   "source": [
    "m_name = \"roberta_large\"\n",
    "data = \"mnli\"\n",
    "batch = 1\n",
    "path = \"raw_results/{}/{}/syn_p_h/batch{}/rho_0p00_results.csv\".format(data, m_name, batch)\n",
    "df = pd.read_csv(path)\n",
    "\n",
    "snli_trans = pd.read_csv(\"data/{}/test_p_h_syn_noun.csv\".format(data))\n",
    "sin_noun = pd.read_csv(\"data/{}/syn_noun.csv\".format(data))\n",
    "key2id = {k:i for k,i in zip(sin_noun.key,sin_noun.index)}\n",
    "f = lambda k: key2id[k]"
   ]
  },
  {
   "cell_type": "code",
   "execution_count": 3,
   "metadata": {},
   "outputs": [],
   "source": [
    "def filter_df_by_label(df, drop_label='-'):\n",
    "    \"\"\"\n",
    "    drop observations with label 'drop_label'\n",
    "    \"\"\"\n",
    "    return df.loc[df.label != drop_label]"
   ]
  },
  {
   "cell_type": "code",
   "execution_count": 4,
   "metadata": {},
   "outputs": [],
   "source": [
    "snli_ori = pd.read_csv(\"data/{}/test.csv\".format(data))\n",
    "snli_ori = filter_df_by_label(snli_ori)\n",
    "pre_process_nli_df(snli_ori)\n",
    "snli_ori = snli_ori.reset_index(drop=True)"
   ]
  },
  {
   "cell_type": "code",
   "execution_count": 5,
   "metadata": {},
   "outputs": [
    {
     "data": {
      "text/plain": [
       "(17.214962632401, 0.03338932152491474, 19647, 0.27186270418576697)"
      ]
     },
     "execution_count": 5,
     "metadata": {},
     "output_type": "execute_result"
    }
   ],
   "source": [
    "t = get_paired_t_statistic(df)\n",
    "t"
   ]
  },
  {
   "cell_type": "code",
   "execution_count": 37,
   "metadata": {},
   "outputs": [
    {
     "name": "stdout",
     "output_type": "stream",
     "text": [
      "n = 201 | e_n = 9.6%\n",
      "0.7910447761194029 [ 0.6952516811175466 , 0.8868378711212592 ]\n"
     ]
    },
    {
     "data": {
      "image/png": "[encoded data removed]",
      "text/plain": [
       "<Figure size 432x288 with 1 Axes>"
      ]
     },
     "metadata": {
      "needs_background": "light"
     },
     "output_type": "display_data"
    }
   ],
   "source": [
    "def e(alpha, n):\n",
    "    return np.sqrt(np.log(2/alpha) / (2*n))\n",
    "\n",
    "ids = df.loc[(df.A==1) & (df.B==0)]\n",
    "ids = ids.index.tolist()\n",
    "\n",
    "b = [20,29,47,63,65, 124, 293, 322, 500,\n",
    "     537, 6113, 689, 700, 721, 750, 766,\n",
    "     1064, 1137,1168, 1225, 1283, 1284,\n",
    "     1338, 1667, 1679, 1827, 2026, 2291,\n",
    "     2317, 2350, 2374, 2484, 2673, 2723,\n",
    "     2748, 2834, 2849, 2865, 2956, 3129,\n",
    "     3144, 3285]\n",
    "\n",
    "select = b[-1]\n",
    "\n",
    "b_to_print = [65,1338] \n",
    "g = [i for i in ids[:ids.index(select)] if i not in b]\n",
    "g_to_print = [75, 52, 129, 274, 236, 768]\n",
    "\n",
    "\n",
    "more = ids[ids.index(select):]\n",
    "\n",
    "gn = len(g)\n",
    "bn = len(b)\n",
    "pct = gn/(gn+bn)\n",
    "\n",
    "n = gn+bn \n",
    "# n = 200\n",
    "\n",
    "\n",
    "e95 = lambda n: e(0.05, n)\n",
    "x = np.array(range(1,n+1))\n",
    "\n",
    "plt.plot(x, e95(x),color=\"blue\");\n",
    "p = np.random.uniform(0.5,1)\n",
    "eps = e95(x)\n",
    "n = eps.argmin()\n",
    "e_id = eps[n]\n",
    "\n",
    "\n",
    "print(\"n = {} | e_n = {:.1%}\".format(x[n], e_id))\n",
    "\n",
    "\n",
    "print(pct,\"[\",pct-e_id,\",\", pct+e_id, \"]\")"
   ]
  },
  {
   "cell_type": "code",
   "execution_count": 41,
   "metadata": {},
   "outputs": [
    {
     "data": {
      "text/markdown": [
       "### When $\\rho=0.0$, the number of disrupted sentences (1 to 0) is 1065 (5.4% of the test data)"
      ],
      "text/plain": [
       "<IPython.core.display.Markdown object>"
      ]
     },
     "metadata": {},
     "output_type": "display_data"
    },
    {
     "data": {
      "text/html": [
       "<table border=\"1\" class=\"dataframe\">\n",
       "  <thead>\n",
       "    <tr style=\"text-align: right;\">\n",
       "      <th></th>\n",
       "      <th>premise</th>\n",
       "      <th>hypothesis</th>\n",
       "      <th>label</th>\n",
       "      <th>premise_2</th>\n",
       "      <th>hypothesis_2</th>\n",
       "      <th>label_2</th>\n",
       "    </tr>\n",
       "  </thead>\n",
       "  <tbody>\n",
       "    <tr>\n",
       "      <th>3285</th>\n",
       "      <td>perhaps tax reform doesnt appeal to the new spiritualized side of bradley</td>\n",
       "      <td>bradley is spiritual now</td>\n",
       "      <td>entailment</td>\n",
       "      <td>perhaps taxation reform doesnt prayer to the new spiritualized side of bradley</td>\n",
       "      <td>bradley is negro spiritual now</td>\n",
       "      <td>entailment</td>\n",
       "    </tr>\n",
       "  </tbody>\n",
       "</table>"
      ],
      "text/plain": [
       "<IPython.core.display.HTML object>"
      ]
     },
     "metadata": {},
     "output_type": "display_data"
    }
   ],
   "source": [
    "ids = df.loc[(df.A==1) & (df.B==0)]\n",
    "ids = ids.index.tolist()\n",
    "n = len(ids)\n",
    "pct = n/df.shape[0]\n",
    "display(Markdown(r\"### When $\\rho=0.0$, the number of disrupted sentences (1 to 0) is {} ({:.1%} of the test data)\".format(n,pct)))\n",
    "comb = pd.concat([snli_ori, snli_trans.add_suffix(\"_2\")],1)\n",
    "# comb = comb.loc[ids]\n",
    "comb = comb.loc[more]\n",
    "\n",
    "# display(HTML(comb.head(n).to_html()))\n",
    "display(HTML(comb.head(1).to_html()))"
   ]
  },
  {
   "cell_type": "markdown",
   "metadata": {},
   "source": [
    "## What are the most commom transformations that appear on the error pairs?"
   ]
  },
  {
   "cell_type": "code",
   "execution_count": 45,
   "metadata": {},
   "outputs": [
    {
     "data": {
      "text/html": [
       "<div>\n",
       "<style scoped>\n",
       "    .dataframe tbody tr th:only-of-type {\n",
       "        vertical-align: middle;\n",
       "    }\n",
       "\n",
       "    .dataframe tbody tr th {\n",
       "        vertical-align: top;\n",
       "    }\n",
       "\n",
       "    .dataframe thead th {\n",
       "        text-align: right;\n",
       "    }\n",
       "</style>\n",
       "<table border=\"1\" class=\"dataframe\">\n",
       "  <thead>\n",
       "    <tr style=\"text-align: right;\">\n",
       "      <th></th>\n",
       "      <th>key</th>\n",
       "      <th>value</th>\n",
       "      <th>freq</th>\n",
       "    </tr>\n",
       "  </thead>\n",
       "  <tbody>\n",
       "    <tr>\n",
       "      <th>944</th>\n",
       "      <td>been</td>\n",
       "      <td>be</td>\n",
       "      <td>1.7%</td>\n",
       "    </tr>\n",
       "    <tr>\n",
       "      <th>340</th>\n",
       "      <td>also</td>\n",
       "      <td>too</td>\n",
       "      <td>1.0%</td>\n",
       "    </tr>\n",
       "    <tr>\n",
       "      <th>8941</th>\n",
       "      <td>said</td>\n",
       "      <td>state</td>\n",
       "      <td>0.9%</td>\n",
       "    </tr>\n",
       "    <tr>\n",
       "      <th>4970</th>\n",
       "      <td>help</td>\n",
       "      <td>aid</td>\n",
       "      <td>0.8%</td>\n",
       "    </tr>\n",
       "    <tr>\n",
       "      <th>1770</th>\n",
       "      <td>children</td>\n",
       "      <td>child</td>\n",
       "      <td>0.7%</td>\n",
       "    </tr>\n",
       "    <tr>\n",
       "      <th>6200</th>\n",
       "      <td>made</td>\n",
       "      <td>do</td>\n",
       "      <td>0.7%</td>\n",
       "    </tr>\n",
       "    <tr>\n",
       "      <th>11426</th>\n",
       "      <td>year</td>\n",
       "      <td>yr</td>\n",
       "      <td>0.7%</td>\n",
       "    </tr>\n",
       "    <tr>\n",
       "      <th>6862</th>\n",
       "      <td>need</td>\n",
       "      <td>demand</td>\n",
       "      <td>0.7%</td>\n",
       "    </tr>\n",
       "    <tr>\n",
       "      <th>948</th>\n",
       "      <td>before</td>\n",
       "      <td>earlier</td>\n",
       "      <td>0.6%</td>\n",
       "    </tr>\n",
       "    <tr>\n",
       "      <th>5435</th>\n",
       "      <td>information</td>\n",
       "      <td>info</td>\n",
       "      <td>0.6%</td>\n",
       "    </tr>\n",
       "  </tbody>\n",
       "</table>\n",
       "</div>"
      ],
      "text/plain": [
       "               key    value  freq\n",
       "944           been       be  1.7%\n",
       "340           also      too  1.0%\n",
       "8941          said    state  0.9%\n",
       "4970          help      aid  0.8%\n",
       "1770      children    child  0.7%\n",
       "6200          made       do  0.7%\n",
       "11426         year       yr  0.7%\n",
       "6862          need   demand  0.7%\n",
       "948         before  earlier  0.6%\n",
       "5435   information     info  0.6%"
      ]
     },
     "execution_count": 45,
     "metadata": {},
     "output_type": "execute_result"
    }
   ],
   "source": [
    "spaces = re.compile(' +')\n",
    "results = []\n",
    "\n",
    "comb = pd.concat([snli_ori, snli_trans.add_suffix(\"_2\")],1)\n",
    "ids = comb.index.tolist()\n",
    "for id_ in ids:\n",
    "    s = comb.loc[id_].premise + \" \" + comb.loc[id_].hypothesis\n",
    "    st = comb.loc[id_].premise_2 + \" \" + comb.loc[id_].hypothesis_2\n",
    "    s = spaces.sub(\" \",s)\n",
    "    st = spaces.sub(\" \",st)\n",
    "    s = s.strip()\n",
    "    st = st.strip()\n",
    "    s = set(s.split(\" \"))\n",
    "    st = set(st.split(\" \"))\n",
    "    diff = list(s - st)\n",
    "    try:\n",
    "        diff = list(map(f, diff))\n",
    "        results += diff\n",
    "    except KeyError:\n",
    "        pass\n",
    "#         print(id_)\n",
    "#         print(s)\n",
    "#         print(st)\n",
    "    \n",
    "    \n",
    "    \n",
    "results_c = Counter(results)\n",
    "dict_id = [i[0] for i in results_c.most_common(10)]\n",
    "sin_noun.loc[:, \"freq\"] = [results_c[i]/len(results) for i in sin_noun.index]\n",
    "sin_noun = sin_noun.sort_values(\"freq\", ascending=False)\n",
    "sin_noun.loc[:, \"freq\"] = sin_noun.freq.map(lambda x: \"{:.1%}\".format(x))\n",
    "sin_noun.head(10)"
   ]
  },
  {
   "cell_type": "code",
   "execution_count": null,
   "metadata": {},
   "outputs": [],
   "source": []
  },
  {
   "cell_type": "code",
   "execution_count": null,
   "metadata": {},
   "outputs": [],
   "source": []
  }
 ],
 "metadata": {
  "kernelspec": {
   "display_name": "Python 3",
   "language": "python",
   "name": "python3"
  },
  "language_info": {
   "codemirror_mode": {
    "name": "ipython",
    "version": 3
   },
   "file_extension": ".py",
   "mimetype": "text/x-python",
   "name": "python",
   "nbconvert_exporter": "python",
   "pygments_lexer": "ipython3",
   "version": "3.8.5"
  }
 },
 "nbformat": 4,
 "nbformat_minor": 4
}
