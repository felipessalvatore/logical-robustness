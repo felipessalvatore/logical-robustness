{
 "cells": [
  {
   "cell_type": "code",
   "execution_count": 1,
   "metadata": {},
   "outputs": [],
   "source": [
    "import pandas as pd\n",
    "import numpy as np\n",
    "import scipy.stats\n",
    "import matplotlib.pyplot as plt\n",
    "from tqdm import tqdm\n",
    "from lr.text_processing.util import pre_process_nli_df, get_vocab_count\n",
    "from lr.text_processing.transformations.util import syn_h2tranformation, syn_p2tranformation\n",
    "from lr.text_processing.transformations.util import syn2tranformation\n",
    "from lr.text_processing.transformations.util import get_augmented_data\n",
    "from lr.text_processing.transformations.structural import invert, entailment_internalization\n",
    "from lr.training.util import get_binary_label, get_ternary_label\n",
    "from lr.training.language_representation import Tfidf\n",
    "from lr.training.util import filter_df_by_label\n",
    "from lr.models.logistic_regression import LRWrapper\n",
    "from lr.stats.matched_comparison import get_disagreement_statistics\n",
    "from IPython.display import HTML, display"
   ]
  },
  {
   "cell_type": "markdown",
   "metadata": {},
   "source": [
    "# load data"
   ]
  },
  {
   "cell_type": "code",
   "execution_count": 2,
   "metadata": {},
   "outputs": [],
   "source": [
    "train_path = \"data/snli/train.csv\"\n",
    "dev_path = \"data/snli/dev.csv\"\n",
    "result_path = \"results/snli_lr_Tfidf_invert.csv\"\n",
    "debug = False\n",
    "\n",
    "df = pd.read_csv(train_path)\n",
    "dev = pd.read_csv(dev_path)\n",
    "\n",
    "if debug:\n",
    "    df = df.head(1000)\n",
    "    dev = dev.head(1000)\n",
    "\n",
    "df = filter_df_by_label(df.dropna()).reset_index(drop=True)\n",
    "dev = filter_df_by_label(dev.dropna()).reset_index(drop=True)\n",
    "\n",
    "pre_process_nli_df(df)\n",
    "pre_process_nli_df(dev)"
   ]
  },
  {
   "cell_type": "markdown",
   "metadata": {},
   "source": [
    "## Creating lexical masking"
   ]
  },
  {
   "cell_type": "code",
   "execution_count": 3,
   "metadata": {},
   "outputs": [],
   "source": [
    "head = 800\n",
    "mwords = 300\n",
    "\n",
    "c = get_vocab_count(df.head(head))\n",
    "mask = {i[0]: \"\" for i in c.most_common(mwords)}"
   ]
  },
  {
   "cell_type": "markdown",
   "metadata": {},
   "source": [
    "# get pct x t"
   ]
  },
  {
   "cell_type": "code",
   "execution_count": 107,
   "metadata": {},
   "outputs": [
    {
     "name": "stderr",
     "output_type": "stream",
     "text": [
      "  0%|          | 0/3 [00:00<?, ?it/s]/home/felsal/lr/lib/python3.6/site-packages/sklearn/linear_model/_logistic.py:940: ConvergenceWarning: lbfgs failed to converge (status=1):\n",
      "STOP: TOTAL NO. of ITERATIONS REACHED LIMIT.\n",
      "\n",
      "Increase the number of iterations (max_iter) or scale the data as shown in:\n",
      "    https://scikit-learn.org/stable/modules/preprocessing.html\n",
      "Please also refer to the documentation for alternative solver options:\n",
      "    https://scikit-learn.org/stable/modules/linear_model.html#logistic-regression\n",
      "  extra_warning_msg=_LOGISTIC_SOLVER_CONVERGENCE_MSG)\n",
      " 33%|███▎      | 1/3 [00:40<01:21, 40.53s/it]/home/felsal/lr/lib/python3.6/site-packages/sklearn/linear_model/_logistic.py:940: ConvergenceWarning: lbfgs failed to converge (status=1):\n",
      "STOP: TOTAL NO. of ITERATIONS REACHED LIMIT.\n",
      "\n",
      "Increase the number of iterations (max_iter) or scale the data as shown in:\n",
      "    https://scikit-learn.org/stable/modules/preprocessing.html\n",
      "Please also refer to the documentation for alternative solver options:\n",
      "    https://scikit-learn.org/stable/modules/linear_model.html#logistic-regression\n",
      "  extra_warning_msg=_LOGISTIC_SOLVER_CONVERGENCE_MSG)\n",
      " 67%|██████▋   | 2/3 [01:22<00:40, 40.91s/it]/home/felsal/lr/lib/python3.6/site-packages/sklearn/linear_model/_logistic.py:940: ConvergenceWarning: lbfgs failed to converge (status=1):\n",
      "STOP: TOTAL NO. of ITERATIONS REACHED LIMIT.\n",
      "\n",
      "Increase the number of iterations (max_iter) or scale the data as shown in:\n",
      "    https://scikit-learn.org/stable/modules/preprocessing.html\n",
      "Please also refer to the documentation for alternative solver options:\n",
      "    https://scikit-learn.org/stable/modules/linear_model.html#logistic-regression\n",
      "  extra_warning_msg=_LOGISTIC_SOLVER_CONVERGENCE_MSG)\n",
      "100%|██████████| 3/3 [02:03<00:00, 41.15s/it]\n"
     ]
    }
   ],
   "source": [
    "trials = 3\n",
    "max_features = None\n",
    "\n",
    "label_translation = get_ternary_label\n",
    "# label_translation = get_binary_label\n",
    "\n",
    "# transformation = syn2tranformation(mask)\n",
    "# transformation = syn_h2tranformation(mask)\n",
    "transformation = invert\n",
    "# transformation = entailment_internalization\n",
    "# transformation = syn_p2tranformation(mask)\n",
    "\n",
    "dev_t = get_augmented_data(df=dev,\n",
    "                           transformation=transformation,\n",
    "                           frac=1)\n",
    "\n",
    "\n",
    "pcts = np.linspace(0, 1, trials)\n",
    "stats = []\n",
    "\n",
    "\n",
    "\n",
    "hyperparams = {\"RepresentationFunction\": Tfidf,\n",
    "               \"max_features\": max_features,\n",
    "               \"label_translation\": label_translation,\n",
    "               \"penalty\": \"l2\",\n",
    "               \"C\": 1,\n",
    "               'solver': 'lbfgs'}\n",
    "\n",
    "for pct in tqdm(pcts):\n",
    "\n",
    "    aug = get_augmented_data(df=df,\n",
    "                             transformation=transformation,\n",
    "                             frac=pct)\n",
    "\n",
    "    lr = LRWrapper(hyperparams)\n",
    "    lr.fit(aug)\n",
    "\n",
    "\n",
    "    st = get_disagreement_statistics(df=dev,\n",
    "                                     df_t=dev_t,\n",
    "                                     model=lr,\n",
    "                                     label_translation=label_translation)\n",
    "\n",
    "    stats.append(st)\n",
    "    del lr, aug\n",
    "    \n",
    "result = pd.concat(stats)\n",
    "result.index = pcts\n",
    "result.index.name = \"pcts\""
   ]
  },
  {
   "cell_type": "markdown",
   "metadata": {},
   "source": [
    "## Plots"
   ]
  },
  {
   "cell_type": "code",
   "execution_count": 108,
   "metadata": {},
   "outputs": [
    {
     "data": {
      "image/png": "[encoded data removed]",
      "text/plain": [
       "<Figure size 432x288 with 1 Axes>"
      ]
     },
     "metadata": {
      "needs_background": "light"
     },
     "output_type": "display_data"
    }
   ],
   "source": [
    "result[[\"acc\", 'acct']].plot();"
   ]
  },
  {
   "cell_type": "code",
   "execution_count": 6,
   "metadata": {},
   "outputs": [],
   "source": [
    "result.to_csv(result_path)"
   ]
  },
  {
   "cell_type": "code",
   "execution_count": 7,
   "metadata": {},
   "outputs": [
    {
     "data": {
      "image/png": "[encoded data removed]",
      "text/plain": [
       "<Figure size 576x432 with 1 Axes>"
      ]
     },
     "metadata": {
      "needs_background": "light"
     },
     "output_type": "display_data"
    }
   ],
   "source": [
    "alpha = 0.05\n",
    "z_alpha_2 =  scipy.stats.norm.ppf(1  - (alpha/2))\n",
    "paired_t_reject_H0 = result.t1.apply(np.abs) > z_alpha_2\n",
    "paired_t_reject_H0 = paired_t_reject_H0.apply(lambda x: \"reject H0\" if x else \"retain  H0\")\n",
    "paired_t_reject_H0.name = \"paired_t\"\n",
    "\n",
    "fig, ax = plt.subplots(1,1,figsize=(8,6))\n",
    "plt.axhline(y=z_alpha_2, color='r', linestyle='-', label=r\"$z_{\\alpha/2}$\")\n",
    "plt.axhline(y=-z_alpha_2, color='r', linestyle='-')\n",
    "result[[\"t1\"]].plot(ax=ax);\n",
    "plt.legend(loc=\"best\");"
   ]
  },
  {
   "cell_type": "code",
   "execution_count": 8,
   "metadata": {},
   "outputs": [
    {
     "data": {
      "image/png": "[encoded data removed]",
      "text/plain": [
       "<Figure size 576x432 with 1 Axes>"
      ]
     },
     "metadata": {
      "needs_background": "light"
     },
     "output_type": "display_data"
    }
   ],
   "source": [
    "chi_2_alpha =  scipy.stats.chi2.ppf(1 - alpha, df=1)\n",
    "cochran_reject_H0 = result.t2 > chi_2_alpha\n",
    "cochran_reject_H0 = cochran_reject_H0.apply(lambda x: \"reject H0\" if x else \"retain  H0\")\n",
    "cochran_reject_H0.name = \"cochran\"\n",
    "\n",
    "fig, ax = plt.subplots(1,1,figsize=(8,6))\n",
    "plt.axhline(y=chi_2_alpha, color='r', linestyle='-', label=r\"$\\chi^{2}_{1,\\alpha}$\")\n",
    "plt.axhline(y=0, color='r', linestyle='-')\n",
    "result[[\"t2\"]].plot(ax=ax);\n",
    "plt.legend(loc=\"best\");"
   ]
  },
  {
   "cell_type": "markdown",
   "metadata": {},
   "source": [
    "## Tests\n",
    "### basic info"
   ]
  },
  {
   "cell_type": "code",
   "execution_count": 9,
   "metadata": {},
   "outputs": [
    {
     "data": {
      "text/html": [
       "<table border=\"1\" class=\"dataframe\">\n",
       "  <thead>\n",
       "    <tr style=\"text-align: right;\">\n",
       "      <th></th>\n",
       "      <th>cochran</th>\n",
       "    </tr>\n",
       "  </thead>\n",
       "  <tbody>\n",
       "    <tr>\n",
       "      <th>reject H0</th>\n",
       "      <td>94</td>\n",
       "    </tr>\n",
       "    <tr>\n",
       "      <th>retain  H0</th>\n",
       "      <td>6</td>\n",
       "    </tr>\n",
       "  </tbody>\n",
       "</table>"
      ],
      "text/plain": [
       "<IPython.core.display.HTML object>"
      ]
     },
     "metadata": {},
     "output_type": "display_data"
    },
    {
     "data": {
      "text/html": [
       "<table border=\"1\" class=\"dataframe\">\n",
       "  <thead>\n",
       "    <tr style=\"text-align: right;\">\n",
       "      <th></th>\n",
       "      <th>paired_t</th>\n",
       "    </tr>\n",
       "  </thead>\n",
       "  <tbody>\n",
       "    <tr>\n",
       "      <th>reject H0</th>\n",
       "      <td>94</td>\n",
       "    </tr>\n",
       "    <tr>\n",
       "      <th>retain  H0</th>\n",
       "      <td>6</td>\n",
       "    </tr>\n",
       "  </tbody>\n",
       "</table>"
      ],
      "text/plain": [
       "<IPython.core.display.HTML object>"
      ]
     },
     "metadata": {},
     "output_type": "display_data"
    },
    {
     "data": {
      "text/html": [
       "<table border=\"1\" class=\"dataframe\">\n",
       "  <thead>\n",
       "    <tr style=\"text-align: right;\">\n",
       "      <th></th>\n",
       "      <th>paired_t</th>\n",
       "      <th>cochran</th>\n",
       "    </tr>\n",
       "    <tr>\n",
       "      <th>pcts</th>\n",
       "      <th></th>\n",
       "      <th></th>\n",
       "    </tr>\n",
       "  </thead>\n",
       "  <tbody>\n",
       "  </tbody>\n",
       "</table>"
      ],
      "text/plain": [
       "<IPython.core.display.HTML object>"
      ]
     },
     "metadata": {},
     "output_type": "display_data"
    }
   ],
   "source": [
    "tests = pd.DataFrame([paired_t_reject_H0, cochran_reject_H0]).transpose()\n",
    "disagreement = tests[~ (tests.cochran == tests.paired_t)]\n",
    "display(HTML(tests.cochran.value_counts().to_frame().to_html()))\n",
    "display(HTML(tests.paired_t.value_counts().to_frame().to_html()))\n",
    "display(HTML(disagreement.to_html()))"
   ]
  },
  {
   "cell_type": "markdown",
   "metadata": {},
   "source": [
    "### p-values"
   ]
  },
  {
   "cell_type": "code",
   "execution_count": 10,
   "metadata": {},
   "outputs": [
    {
     "data": {
      "image/png": "[encoded data removed]",
      "text/plain": [
       "<Figure size 576x432 with 1 Axes>"
      ]
     },
     "metadata": {
      "needs_background": "light"
     },
     "output_type": "display_data"
    }
   ],
   "source": [
    "p_normal = lambda x: 2*scipy.stats.norm.cdf(- np.abs(x))\n",
    "p_chi2 = lambda x: 1 - scipy.stats.chi2.cdf(x,df=1)\n",
    "p_t1 = result.t1.map(p_normal)\n",
    "p_t1.name = \"paired_t\"\n",
    "p_t2 = result.t2.map(p_chi2)\n",
    "p_t2.name = \"cochran\"\n",
    "p_values = pd.DataFrame([p_t1, p_t2]).transpose()\n",
    "\n",
    "fig, ax = plt.subplots(1,1,figsize=(8,6))\n",
    "plt.axhline(y=1, color='r', linestyle='-')\n",
    "plt.axhline(y=alpha, color='r', linestyle='-', label=r\"$\\alpha$\")\n",
    "p_values.plot(ax=ax);\n",
    "plt.legend(loc=\"best\");"
   ]
  },
  {
   "cell_type": "code",
   "execution_count": 14,
   "metadata": {},
   "outputs": [
    {
     "data": {
      "text/html": [
       "<div>\n",
       "<style scoped>\n",
       "    .dataframe tbody tr th:only-of-type {\n",
       "        vertical-align: middle;\n",
       "    }\n",
       "\n",
       "    .dataframe tbody tr th {\n",
       "        vertical-align: top;\n",
       "    }\n",
       "\n",
       "    .dataframe thead th {\n",
       "        text-align: right;\n",
       "    }\n",
       "</style>\n",
       "<table border=\"1\" class=\"dataframe\">\n",
       "  <thead>\n",
       "    <tr style=\"text-align: right;\">\n",
       "      <th></th>\n",
       "      <th>premise</th>\n",
       "      <th>hypothesis</th>\n",
       "      <th>label</th>\n",
       "    </tr>\n",
       "  </thead>\n",
       "  <tbody>\n",
       "    <tr>\n",
       "      <th>0</th>\n",
       "      <td>two women are embracing while holding to go pa...</td>\n",
       "      <td>the sisters are hugging goodbye while holding ...</td>\n",
       "      <td>neutral</td>\n",
       "    </tr>\n",
       "    <tr>\n",
       "      <th>1</th>\n",
       "      <td>two women are embracing while holding to go pa...</td>\n",
       "      <td>two woman are holding packages</td>\n",
       "      <td>entailment</td>\n",
       "    </tr>\n",
       "    <tr>\n",
       "      <th>2</th>\n",
       "      <td>two women are embracing while holding to go pa...</td>\n",
       "      <td>the men are fighting outside a deli</td>\n",
       "      <td>contradiction</td>\n",
       "    </tr>\n",
       "    <tr>\n",
       "      <th>3</th>\n",
       "      <td>two young children in blue jerseys one with th...</td>\n",
       "      <td>two kids in numbered jerseys wash their hands</td>\n",
       "      <td>entailment</td>\n",
       "    </tr>\n",
       "    <tr>\n",
       "      <th>4</th>\n",
       "      <td>two young children in blue jerseys one with th...</td>\n",
       "      <td>two kids at a ballgame wash their hands</td>\n",
       "      <td>neutral</td>\n",
       "    </tr>\n",
       "  </tbody>\n",
       "</table>\n",
       "</div>"
      ],
      "text/plain": [
       "                                             premise  \\\n",
       "0  two women are embracing while holding to go pa...   \n",
       "1  two women are embracing while holding to go pa...   \n",
       "2  two women are embracing while holding to go pa...   \n",
       "3  two young children in blue jerseys one with th...   \n",
       "4  two young children in blue jerseys one with th...   \n",
       "\n",
       "                                          hypothesis          label  \n",
       "0  the sisters are hugging goodbye while holding ...        neutral  \n",
       "1                     two woman are holding packages     entailment  \n",
       "2                the men are fighting outside a deli  contradiction  \n",
       "3      two kids in numbered jerseys wash their hands     entailment  \n",
       "4            two kids at a ballgame wash their hands        neutral  "
      ]
     },
     "execution_count": 14,
     "metadata": {},
     "output_type": "execute_result"
    }
   ],
   "source": [
    "dev.head()"
   ]
  },
  {
   "cell_type": "code",
   "execution_count": 15,
   "metadata": {},
   "outputs": [
    {
     "data": {
      "text/html": [
       "<div>\n",
       "<style scoped>\n",
       "    .dataframe tbody tr th:only-of-type {\n",
       "        vertical-align: middle;\n",
       "    }\n",
       "\n",
       "    .dataframe tbody tr th {\n",
       "        vertical-align: top;\n",
       "    }\n",
       "\n",
       "    .dataframe thead th {\n",
       "        text-align: right;\n",
       "    }\n",
       "</style>\n",
       "<table border=\"1\" class=\"dataframe\">\n",
       "  <thead>\n",
       "    <tr style=\"text-align: right;\">\n",
       "      <th></th>\n",
       "      <th>premise</th>\n",
       "      <th>hypothesis</th>\n",
       "      <th>label</th>\n",
       "    </tr>\n",
       "  </thead>\n",
       "  <tbody>\n",
       "    <tr>\n",
       "      <th>0</th>\n",
       "      <td>the sisters are hugging goodbye while holding ...</td>\n",
       "      <td>two women are embracing while holding to go pa...</td>\n",
       "      <td>neutral</td>\n",
       "    </tr>\n",
       "    <tr>\n",
       "      <th>1</th>\n",
       "      <td>two women are embracing while holding to go pa...</td>\n",
       "      <td>two woman are holding packages</td>\n",
       "      <td>entailment</td>\n",
       "    </tr>\n",
       "    <tr>\n",
       "      <th>2</th>\n",
       "      <td>the men are fighting outside a deli</td>\n",
       "      <td>two women are embracing while holding to go pa...</td>\n",
       "      <td>contradiction</td>\n",
       "    </tr>\n",
       "    <tr>\n",
       "      <th>3</th>\n",
       "      <td>two young children in blue jerseys one with th...</td>\n",
       "      <td>two kids in numbered jerseys wash their hands</td>\n",
       "      <td>entailment</td>\n",
       "    </tr>\n",
       "    <tr>\n",
       "      <th>4</th>\n",
       "      <td>two kids at a ballgame wash their hands</td>\n",
       "      <td>two young children in blue jerseys one with th...</td>\n",
       "      <td>neutral</td>\n",
       "    </tr>\n",
       "  </tbody>\n",
       "</table>\n",
       "</div>"
      ],
      "text/plain": [
       "                                             premise  \\\n",
       "0  the sisters are hugging goodbye while holding ...   \n",
       "1  two women are embracing while holding to go pa...   \n",
       "2                the men are fighting outside a deli   \n",
       "3  two young children in blue jerseys one with th...   \n",
       "4            two kids at a ballgame wash their hands   \n",
       "\n",
       "                                          hypothesis          label  \n",
       "0  two women are embracing while holding to go pa...        neutral  \n",
       "1                     two woman are holding packages     entailment  \n",
       "2  two women are embracing while holding to go pa...  contradiction  \n",
       "3      two kids in numbered jerseys wash their hands     entailment  \n",
       "4  two young children in blue jerseys one with th...        neutral  "
      ]
     },
     "execution_count": 15,
     "metadata": {},
     "output_type": "execute_result"
    }
   ],
   "source": [
    "dev_t.head()"
   ]
  },
  {
   "cell_type": "code",
   "execution_count": 98,
   "metadata": {},
   "outputs": [],
   "source": [
    "from lr.training.language_representation import BOW\n",
    "\n",
    "hyperparams = {\"RepresentationFunction\": Tfidf,\n",
    "               \"max_features\": 50,\n",
    "               \"num_words\": 50,\n",
    "               \"label_translation\": label_translation,\n",
    "               \"penalty\": \"l2\",\n",
    "               \"C\": 1,\n",
    "               'solver': 'lbfgs'}\n",
    "\n",
    "\n",
    "aug = get_augmented_data(df=df,\n",
    "                         transformation=transformation,\n",
    "                         frac=0.5)\n",
    "\n",
    "lr = LRWrapper(hyperparams)\n",
    "lr.fit(aug)"
   ]
  },
  {
   "cell_type": "code",
   "execution_count": 99,
   "metadata": {},
   "outputs": [],
   "source": [
    "def get_corpus(df):\n",
    "    \"\"\"\n",
    "    get corpus from NLI dataset\n",
    "\n",
    "    :param df: NLI df\n",
    "    :type df: pd.DataFrame\n",
    "    :return: corpus, list of sentences\n",
    "    :rtype: [str]\n",
    "    \"\"\"\n",
    "    corpus = df.premise + \" \" + df.hypothesis\n",
    "    return list(corpus.values)"
   ]
  },
  {
   "cell_type": "code",
   "execution_count": 100,
   "metadata": {},
   "outputs": [],
   "source": [
    "\n",
    "corpus1 = get_corpus(dev.head(1))\n",
    "a = lr.repr.transform(corpus1).toarray()\n",
    "corpus2 = get_corpus(dev_t.head(1))\n",
    "b = lr.repr.transform(corpus2).toarray()"
   ]
  },
  {
   "cell_type": "code",
   "execution_count": 101,
   "metadata": {},
   "outputs": [
    {
     "data": {
      "text/plain": [
       "array([[0.        , 0.        , 0.33163317, 0.        , 0.        ,\n",
       "        0.        , 0.        , 0.        , 0.        , 0.        ,\n",
       "        0.        , 0.        , 0.        , 0.        , 0.        ,\n",
       "        0.        , 0.        , 0.        , 0.        , 0.57590028,\n",
       "        0.        , 0.        , 0.        , 0.        , 0.        ,\n",
       "        0.        , 0.        , 0.        , 0.        , 0.        ,\n",
       "        0.        , 0.        , 0.        , 0.        , 0.        ,\n",
       "        0.        , 0.        , 0.12263471, 0.        , 0.402402  ,\n",
       "        0.22316447, 0.        , 0.        , 0.        , 0.49019472,\n",
       "        0.        , 0.        , 0.        , 0.30215628, 0.        ]])"
      ]
     },
     "execution_count": 101,
     "metadata": {},
     "output_type": "execute_result"
    }
   ],
   "source": [
    "a"
   ]
  },
  {
   "cell_type": "code",
   "execution_count": 102,
   "metadata": {},
   "outputs": [
    {
     "data": {
      "text/plain": [
       "array([[0.        , 0.        , 0.33163317, 0.        , 0.        ,\n",
       "        0.        , 0.        , 0.        , 0.        , 0.        ,\n",
       "        0.        , 0.        , 0.        , 0.        , 0.        ,\n",
       "        0.        , 0.        , 0.        , 0.        , 0.57590028,\n",
       "        0.        , 0.        , 0.        , 0.        , 0.        ,\n",
       "        0.        , 0.        , 0.        , 0.        , 0.        ,\n",
       "        0.        , 0.        , 0.        , 0.        , 0.        ,\n",
       "        0.        , 0.        , 0.12263471, 0.        , 0.402402  ,\n",
       "        0.22316447, 0.        , 0.        , 0.        , 0.49019472,\n",
       "        0.        , 0.        , 0.        , 0.30215628, 0.        ]])"
      ]
     },
     "execution_count": 102,
     "metadata": {},
     "output_type": "execute_result"
    }
   ],
   "source": [
    "b"
   ]
  },
  {
   "cell_type": "code",
   "execution_count": 103,
   "metadata": {},
   "outputs": [],
   "source": [
    "vocab = {v: k for k, v in lr.repr.vocab.items()}"
   ]
  },
  {
   "cell_type": "code",
   "execution_count": 106,
   "metadata": {},
   "outputs": [
    {
     "data": {
      "text/plain": [
       "array([[ True,  True,  True,  True,  True,  True,  True,  True,  True,\n",
       "         True,  True,  True,  True,  True,  True,  True,  True,  True,\n",
       "         True,  True,  True,  True,  True,  True,  True,  True,  True,\n",
       "         True,  True,  True,  True,  True,  True,  True,  True,  True,\n",
       "         True,  True,  True,  True,  True,  True,  True,  True,  True,\n",
       "         True,  True,  True,  True,  True]])"
      ]
     },
     "execution_count": 106,
     "metadata": {},
     "output_type": "execute_result"
    }
   ],
   "source": [
    "a == b"
   ]
  },
  {
   "cell_type": "code",
   "execution_count": 105,
   "metadata": {},
   "outputs": [
    {
     "ename": "TypeError",
     "evalue": "can't multiply sequence by non-int of type 'numpy.float64'",
     "output_type": "error",
     "traceback": [
      "\u001b[0;31m---------------------------------------------------------------------------\u001b[0m",
      "\u001b[0;31mTypeError\u001b[0m                                 Traceback (most recent call last)",
      "\u001b[0;32m<ipython-input-105-11f1682cd7bc>\u001b[0m in \u001b[0;36m<module>\u001b[0;34m\u001b[0m\n\u001b[1;32m      2\u001b[0m \u001b[0;34m\u001b[0m\u001b[0m\n\u001b[1;32m      3\u001b[0m \u001b[0;32mfor\u001b[0m \u001b[0mi\u001b[0m\u001b[0;34m,\u001b[0m \u001b[0mj\u001b[0m \u001b[0;32min\u001b[0m \u001b[0menumerate\u001b[0m\u001b[0;34m(\u001b[0m\u001b[0ma\u001b[0m\u001b[0;34m[\u001b[0m\u001b[0;36m0\u001b[0m\u001b[0;34m]\u001b[0m\u001b[0;34m)\u001b[0m\u001b[0;34m:\u001b[0m\u001b[0;34m\u001b[0m\u001b[0;34m\u001b[0m\u001b[0m\n\u001b[0;32m----> 4\u001b[0;31m     \u001b[0mca\u001b[0m\u001b[0;34m+=\u001b[0m\u001b[0;34m[\u001b[0m\u001b[0mvocab\u001b[0m\u001b[0;34m[\u001b[0m\u001b[0mi\u001b[0m\u001b[0;34m]\u001b[0m\u001b[0;34m]\u001b[0m \u001b[0;34m*\u001b[0m \u001b[0mj\u001b[0m\u001b[0;34m\u001b[0m\u001b[0;34m\u001b[0m\u001b[0m\n\u001b[0m\u001b[1;32m      5\u001b[0m \u001b[0;34m\u001b[0m\u001b[0m\n\u001b[1;32m      6\u001b[0m \u001b[0mcb\u001b[0m \u001b[0;34m=\u001b[0m \u001b[0;34m[\u001b[0m\u001b[0;34m]\u001b[0m\u001b[0;34m\u001b[0m\u001b[0;34m\u001b[0m\u001b[0m\n",
      "\u001b[0;31mTypeError\u001b[0m: can't multiply sequence by non-int of type 'numpy.float64'"
     ]
    }
   ],
   "source": [
    "ca = []\n",
    "\n",
    "for i, j in enumerate(a[0]):\n",
    "    ca+=[vocab[i]] * j\n",
    "    \n",
    "cb = []\n",
    "\n",
    "for i, j in enumerate(b[0]):\n",
    "    cb+=[vocab[i]] * j"
   ]
  },
  {
   "cell_type": "code",
   "execution_count": null,
   "metadata": {},
   "outputs": [],
   "source": [
    "ca"
   ]
  },
  {
   "cell_type": "code",
   "execution_count": null,
   "metadata": {},
   "outputs": [],
   "source": [
    "cb"
   ]
  },
  {
   "cell_type": "code",
   "execution_count": null,
   "metadata": {},
   "outputs": [],
   "source": [
    "corpus1"
   ]
  },
  {
   "cell_type": "code",
   "execution_count": null,
   "metadata": {},
   "outputs": [],
   "source": [
    "corpus2"
   ]
  },
  {
   "cell_type": "code",
   "execution_count": null,
   "metadata": {},
   "outputs": [],
   "source": []
  },
  {
   "cell_type": "code",
   "execution_count": null,
   "metadata": {},
   "outputs": [],
   "source": []
  },
  {
   "cell_type": "code",
   "execution_count": 41,
   "metadata": {},
   "outputs": [
    {
     "data": {
      "text/plain": [
       "array([ True,  True,  True,  True,  True,  True,  True,  True,  True,\n",
       "        True,  True,  True,  True,  True,  True,  True,  True,  True,\n",
       "        True,  True,  True,  True,  True,  True,  True,  True,  True,\n",
       "        True,  True,  True,  True,  True,  True,  True,  True,  True,\n",
       "        True,  True,  True,  True,  True,  True,  True,  True,  True,\n",
       "        True,  True,  True,  True,  True])"
      ]
     },
     "execution_count": 41,
     "metadata": {},
     "output_type": "execute_result"
    }
   ],
   "source": [
    "a[1]  == b[1]"
   ]
  },
  {
   "cell_type": "code",
   "execution_count": 42,
   "metadata": {},
   "outputs": [
    {
     "data": {
      "text/plain": [
       "{'person': 30,\n",
       " 'on': 26,\n",
       " 'down': 12,\n",
       " 'is': 21,\n",
       " 'his': 18,\n",
       " 'for': 13,\n",
       " 'at': 4,\n",
       " 'an': 0,\n",
       " 'children': 10,\n",
       " 'and': 1,\n",
       " 'are': 2,\n",
       " 'their': 38,\n",
       " 'the': 37,\n",
       " 'boy': 7,\n",
       " 'in': 20,\n",
       " 'of': 25,\n",
       " 'red': 32,\n",
       " 'wearing': 43,\n",
       " 'man': 23,\n",
       " 'as': 3,\n",
       " 'to': 39,\n",
       " 'with': 46,\n",
       " 'while': 44,\n",
       " 'women': 48,\n",
       " 'one': 27,\n",
       " 'two': 40,\n",
       " 'people': 29,\n",
       " 'sitting': 34,\n",
       " 'shirt': 33,\n",
       " 'woman': 47,\n",
       " 'holding': 19,\n",
       " 'playing': 31,\n",
       " 'outside': 28,\n",
       " 'by': 8,\n",
       " 'child': 9,\n",
       " 'young': 49,\n",
       " 'girl': 15,\n",
       " 'standing': 35,\n",
       " 'street': 36,\n",
       " 'front': 14,\n",
       " 'walking': 42,\n",
       " 'her': 17,\n",
       " 'looking': 22,\n",
       " 'white': 45,\n",
       " 'black': 5,\n",
       " 'dog': 11,\n",
       " 'blue': 6,\n",
       " 'up': 41,\n",
       " 'group': 16,\n",
       " 'men': 24}"
      ]
     },
     "execution_count": 42,
     "metadata": {},
     "output_type": "execute_result"
    }
   ],
   "source": [
    "lr.repr.vocab"
   ]
  },
  {
   "cell_type": "code",
   "execution_count": null,
   "metadata": {},
   "outputs": [],
   "source": []
  }
 ],
 "metadata": {
  "kernelspec": {
   "display_name": "Python 3",
   "language": "python",
   "name": "python3"
  },
  "language_info": {
   "codemirror_mode": {
    "name": "ipython",
    "version": 3
   },
   "file_extension": ".py",
   "mimetype": "text/x-python",
   "name": "python",
   "nbconvert_exporter": "python",
   "pygments_lexer": "ipython3",
   "version": "3.6.8"
  }
 },
 "nbformat": 4,
 "nbformat_minor": 4
}
