{
 "cells": [
  {
   "cell_type": "code",
   "execution_count": 1,
   "metadata": {},
   "outputs": [],
   "source": [
    "import pandas as pd\n",
    "import numpy as np\n",
    "import matplotlib.pyplot as plt\n",
    "import seaborn as sns\n",
    "from time import time\n",
    "from lr.text_processing.util import pre_process_nli_df\n",
    "from lr.training.util import get_ternary_label\n",
    "from lr.text_processing.transformations.structural import entailment_internalization\n",
    "from lr.text_processing.transformations.synonyms import toy_transformation\n",
    "from lr.stats.h_testing import DGP, get_matched_results, get_paired_t_statistic\n",
    "from lr.stats.h_testing import get_boot_sample_under_H0,get_boot_p_value\n",
    "from lr.stats.h_testing import  LIMts_test\n",
    "from lr.training.language_representation import Tfidf\n",
    "from lr.models.logistic_regression import LRWrapper\n",
    "from lr.text_processing.transformations.wordnetsyn import p_h_transformation_noun_minimal_edition\n",
    "from lr.text_processing.transformations.wordnetsyn import parallelize\n",
    "\n",
    "import warnings\n",
    "warnings.filterwarnings(\"ignore\", category=RuntimeWarning)\n",
    "from IPython.display import display, HTML"
   ]
  },
  {
   "cell_type": "markdown",
   "metadata": {},
   "source": [
    "### Loading data"
   ]
  },
  {
   "cell_type": "code",
   "execution_count": 2,
   "metadata": {},
   "outputs": [],
   "source": [
    "train_path = \"data/toy/train.csv\"\n",
    "dev_path = \"data/toy/dev.csv\"\n",
    "train = pd.read_csv(train_path)\n",
    "dev = pd.read_csv(dev_path)\n",
    "pre_process_nli_df(train)\n",
    "pre_process_nli_df(dev)"
   ]
  },
  {
   "cell_type": "code",
   "execution_count": 5,
   "metadata": {},
   "outputs": [],
   "source": [
    "max_features = 500\n",
    "rho = 0.3\n",
    "label_translation = get_ternary_label\n",
    "transformation = lambda df: parallelize(df,\n",
    "                                        func=p_h_transformation_noun_minimal_edition,\n",
    "                                        n_cores=2)"
   ]
  },
  {
   "cell_type": "markdown",
   "metadata": {},
   "source": [
    "### Generating one sample of noise data"
   ]
  },
  {
   "cell_type": "code",
   "execution_count": 6,
   "metadata": {},
   "outputs": [
    {
     "name": "stdout",
     "output_type": "stream",
     "text": [
      "2.5314083099365234\n"
     ]
    }
   ],
   "source": [
    "dev_t = transformation(dev)\n",
    "\n",
    "dgp = DGP(data=train, transformation=transformation, rho=rho)\n",
    "\n",
    "init = time()\n",
    "train_t = dgp.get_sample()\n",
    "print(time() - init)\n"
   ]
  },
  {
   "cell_type": "markdown",
   "metadata": {},
   "source": [
    "### Performing one H test"
   ]
  },
  {
   "cell_type": "code",
   "execution_count": 7,
   "metadata": {},
   "outputs": [
    {
     "data": {
      "image/png": "[encoded data removed]",
      "text/plain": [
       "<Figure size 720x360 with 1 Axes>"
      ]
     },
     "metadata": {
      "needs_background": "light"
     },
     "output_type": "display_data"
    }
   ],
   "source": [
    "hyperparams = {\"RepresentationFunction\": Tfidf,\n",
    "               \"max_features\": max_features,\n",
    "               \"label_translation\": label_translation,\n",
    "               \"penalty\": \"l2\",\n",
    "               \"C\": 1,\n",
    "               'solver': 'lbfgs'}\n",
    "lr = LRWrapper(hyperparams)\n",
    "lr.fit(train_t)\n",
    "\n",
    "results = get_matched_results(dev, dev_t, lr, lr.label_translation)\n",
    "t_obs = get_paired_t_statistic(results)\n",
    "\n",
    "S = 1000\n",
    "t_boots = []\n",
    "for _ in range(S):\n",
    "    boot_sample = get_boot_sample_under_H0(results)\n",
    "    t = get_paired_t_statistic(boot_sample)\n",
    "    t_boots.append(t)\n",
    "\n",
    "t_boots = pd.Series(t_boots)\n",
    "p_value = get_boot_p_value(t_boots, t_obs)\n",
    "\n",
    "fig, ax = plt.subplots(figsize=(10,5))\n",
    "t_boots.hist(ax=ax, label=\"bootstrap replications\");\n",
    "plt.axvline(x=t_obs, color='r', linestyle='-', label=r\"observed ($t= ${:.3f})\".format(t_obs));\n",
    "ax.set_xlabel(\"t\", fontsize=14);\n",
    "ax.set_ylabel(\"frequency\", fontsize=14);\n",
    "ax.set_title(\"Bootstrap test histogram (p-value = {:.8f})\".format(p_value) +\"\\n\", fontsize=16)\n",
    "plt.legend(loc=\"best\");"
   ]
  },
  {
   "cell_type": "code",
   "execution_count": null,
   "metadata": {},
   "outputs": [],
   "source": []
  }
 ],
 "metadata": {
  "kernelspec": {
   "display_name": "Python 3",
   "language": "python",
   "name": "python3"
  },
  "language_info": {
   "codemirror_mode": {
    "name": "ipython",
    "version": 3
   },
   "file_extension": ".py",
   "mimetype": "text/x-python",
   "name": "python",
   "nbconvert_exporter": "python",
   "pygments_lexer": "ipython3",
   "version": "3.6.8"
  }
 },
 "nbformat": 4,
 "nbformat_minor": 2
}
