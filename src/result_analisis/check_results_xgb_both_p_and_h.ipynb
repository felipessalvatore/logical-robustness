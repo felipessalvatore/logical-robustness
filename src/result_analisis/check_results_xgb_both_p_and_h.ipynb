{
 "cells": [
  {
   "cell_type": "markdown",
   "metadata": {},
   "source": [
    "# Results for Gradient Boosting when applying syn tranformation to both premise and hypothesis"
   ]
  },
  {
   "cell_type": "code",
   "execution_count": 1,
   "metadata": {},
   "outputs": [],
   "source": [
    "import pandas as pd\n",
    "import numpy as np\n",
    "import matplotlib.pyplot as plt\n",
    "import seaborn as sns\n",
    "from IPython.display import display, HTML "
   ]
  },
  {
   "cell_type": "markdown",
   "metadata": {},
   "source": [
    "## Loading Results"
   ]
  },
  {
   "cell_type": "code",
   "execution_count": 2,
   "metadata": {},
   "outputs": [],
   "source": [
    "path_0 = \"results/snli/xgb/wordnet_p_h_rho_0p0.csv\"\n",
    "path_0p25 = \"results/snli/xgb/wordnet_p_h_rho_0p25.csv\"\n",
    "path_0p5 = \"results/snli/xgb/wordnet_p_h_rho_0p5.csv\"\n",
    "path_0p75 = \"results/snli/xgb/wordnet_p_h_rho_0p75.csv\"\n",
    "path_1 = \"results/snli/xgb/wordnet_p_h_rho_1p0.csv\""
   ]
  },
  {
   "cell_type": "markdown",
   "metadata": {},
   "source": [
    "## Results for $\\rho = 0$"
   ]
  },
  {
   "cell_type": "code",
   "execution_count": 3,
   "metadata": {},
   "outputs": [
    {
     "data": {
      "text/html": [
       "<table border=\"1\" class=\"dataframe\">\n",
       "  <thead>\n",
       "    <tr style=\"text-align: right;\">\n",
       "      <th></th>\n",
       "      <th>m</th>\n",
       "      <th>train_accuracy_mean</th>\n",
       "      <th>train_accuracy_std</th>\n",
       "      <th>validation_accuracy</th>\n",
       "      <th>transformed_validation_accuracy</th>\n",
       "      <th>observable_t_stats</th>\n",
       "      <th>p_value</th>\n",
       "      <th>transformation_time</th>\n",
       "      <th>training_time</th>\n",
       "      <th>test_time</th>\n",
       "    </tr>\n",
       "  </thead>\n",
       "  <tbody>\n",
       "    <tr>\n",
       "      <th>0</th>\n",
       "      <td>1</td>\n",
       "      <td>0.558448</td>\n",
       "      <td>0.015179</td>\n",
       "      <td>0.566653</td>\n",
       "      <td>0.527433</td>\n",
       "      <td>10.085306</td>\n",
       "      <td>0.0</td>\n",
       "      <td>0.878202</td>\n",
       "      <td>1232.771156</td>\n",
       "      <td>1243.579756</td>\n",
       "    </tr>\n",
       "    <tr>\n",
       "      <th>1</th>\n",
       "      <td>2</td>\n",
       "      <td>0.555115</td>\n",
       "      <td>0.013306</td>\n",
       "      <td>0.561573</td>\n",
       "      <td>0.525198</td>\n",
       "      <td>9.379000</td>\n",
       "      <td>0.0</td>\n",
       "      <td>0.909646</td>\n",
       "      <td>872.599670</td>\n",
       "      <td>883.436579</td>\n",
       "    </tr>\n",
       "    <tr>\n",
       "      <th>2</th>\n",
       "      <td>3</td>\n",
       "      <td>0.547460</td>\n",
       "      <td>0.014468</td>\n",
       "      <td>0.557001</td>\n",
       "      <td>0.527637</td>\n",
       "      <td>7.716925</td>\n",
       "      <td>0.0</td>\n",
       "      <td>0.858810</td>\n",
       "      <td>1021.481052</td>\n",
       "      <td>1032.357811</td>\n",
       "    </tr>\n",
       "    <tr>\n",
       "      <th>3</th>\n",
       "      <td>4</td>\n",
       "      <td>0.548790</td>\n",
       "      <td>0.006142</td>\n",
       "      <td>0.552428</td>\n",
       "      <td>0.510059</td>\n",
       "      <td>11.506647</td>\n",
       "      <td>0.0</td>\n",
       "      <td>0.857828</td>\n",
       "      <td>955.465699</td>\n",
       "      <td>966.203323</td>\n",
       "    </tr>\n",
       "    <tr>\n",
       "      <th>4</th>\n",
       "      <td>5</td>\n",
       "      <td>0.553242</td>\n",
       "      <td>0.006362</td>\n",
       "      <td>0.560760</td>\n",
       "      <td>0.524385</td>\n",
       "      <td>9.697028</td>\n",
       "      <td>0.0</td>\n",
       "      <td>0.844465</td>\n",
       "      <td>968.801881</td>\n",
       "      <td>979.632641</td>\n",
       "    </tr>\n",
       "  </tbody>\n",
       "</table>"
      ],
      "text/plain": [
       "<IPython.core.display.HTML object>"
      ]
     },
     "metadata": {},
     "output_type": "display_data"
    }
   ],
   "source": [
    "results = pd.read_csv(path_0)\n",
    "not_boot_columns = [c for c in results.columns if c.find(\"boot\") == -1]\n",
    "display(HTML(results[not_boot_columns].to_html()))"
   ]
  },
  {
   "cell_type": "markdown",
   "metadata": {},
   "source": [
    "## Results for $\\rho = 0.25$"
   ]
  },
  {
   "cell_type": "code",
   "execution_count": 4,
   "metadata": {},
   "outputs": [
    {
     "data": {
      "text/html": [
       "<table border=\"1\" class=\"dataframe\">\n",
       "  <thead>\n",
       "    <tr style=\"text-align: right;\">\n",
       "      <th></th>\n",
       "      <th>m</th>\n",
       "      <th>train_accuracy_mean</th>\n",
       "      <th>train_accuracy_std</th>\n",
       "      <th>validation_accuracy</th>\n",
       "      <th>transformed_validation_accuracy</th>\n",
       "      <th>observable_t_stats</th>\n",
       "      <th>p_value</th>\n",
       "      <th>transformation_time</th>\n",
       "      <th>training_time</th>\n",
       "      <th>test_time</th>\n",
       "    </tr>\n",
       "  </thead>\n",
       "  <tbody>\n",
       "    <tr>\n",
       "      <th>0</th>\n",
       "      <td>1</td>\n",
       "      <td>0.537604</td>\n",
       "      <td>0.024193</td>\n",
       "      <td>0.555578</td>\n",
       "      <td>0.545722</td>\n",
       "      <td>3.425095</td>\n",
       "      <td>0.000</td>\n",
       "      <td>0.934879</td>\n",
       "      <td>775.137998</td>\n",
       "      <td>785.893480</td>\n",
       "    </tr>\n",
       "    <tr>\n",
       "      <th>1</th>\n",
       "      <td>2</td>\n",
       "      <td>0.547716</td>\n",
       "      <td>0.008662</td>\n",
       "      <td>0.556289</td>\n",
       "      <td>0.543690</td>\n",
       "      <td>4.444365</td>\n",
       "      <td>0.000</td>\n",
       "      <td>0.997513</td>\n",
       "      <td>909.533102</td>\n",
       "      <td>920.455983</td>\n",
       "    </tr>\n",
       "    <tr>\n",
       "      <th>2</th>\n",
       "      <td>3</td>\n",
       "      <td>0.544525</td>\n",
       "      <td>0.014171</td>\n",
       "      <td>0.559033</td>\n",
       "      <td>0.548872</td>\n",
       "      <td>3.542217</td>\n",
       "      <td>0.002</td>\n",
       "      <td>0.959644</td>\n",
       "      <td>801.152492</td>\n",
       "      <td>811.946646</td>\n",
       "    </tr>\n",
       "    <tr>\n",
       "      <th>3</th>\n",
       "      <td>4</td>\n",
       "      <td>0.547276</td>\n",
       "      <td>0.015554</td>\n",
       "      <td>0.561573</td>\n",
       "      <td>0.550396</td>\n",
       "      <td>3.702276</td>\n",
       "      <td>0.000</td>\n",
       "      <td>0.974119</td>\n",
       "      <td>1043.492480</td>\n",
       "      <td>1054.381873</td>\n",
       "    </tr>\n",
       "    <tr>\n",
       "      <th>4</th>\n",
       "      <td>5</td>\n",
       "      <td>0.552728</td>\n",
       "      <td>0.010531</td>\n",
       "      <td>0.564418</td>\n",
       "      <td>0.554562</td>\n",
       "      <td>3.370893</td>\n",
       "      <td>0.000</td>\n",
       "      <td>0.963200</td>\n",
       "      <td>990.876730</td>\n",
       "      <td>1001.641718</td>\n",
       "    </tr>\n",
       "  </tbody>\n",
       "</table>"
      ],
      "text/plain": [
       "<IPython.core.display.HTML object>"
      ]
     },
     "metadata": {},
     "output_type": "display_data"
    }
   ],
   "source": [
    "results = pd.read_csv(path_0p25)\n",
    "not_boot_columns = [c for c in results.columns if c.find(\"boot\") == -1]\n",
    "display(HTML(results[not_boot_columns].to_html()))"
   ]
  },
  {
   "cell_type": "markdown",
   "metadata": {},
   "source": [
    "## Results for $\\rho = 0.5$"
   ]
  },
  {
   "cell_type": "code",
   "execution_count": 5,
   "metadata": {},
   "outputs": [
    {
     "data": {
      "text/html": [
       "<table border=\"1\" class=\"dataframe\">\n",
       "  <thead>\n",
       "    <tr style=\"text-align: right;\">\n",
       "      <th></th>\n",
       "      <th>m</th>\n",
       "      <th>train_accuracy_mean</th>\n",
       "      <th>train_accuracy_std</th>\n",
       "      <th>validation_accuracy</th>\n",
       "      <th>transformed_validation_accuracy</th>\n",
       "      <th>observable_t_stats</th>\n",
       "      <th>p_value</th>\n",
       "      <th>transformation_time</th>\n",
       "      <th>training_time</th>\n",
       "      <th>test_time</th>\n",
       "    </tr>\n",
       "  </thead>\n",
       "  <tbody>\n",
       "    <tr>\n",
       "      <th>0</th>\n",
       "      <td>1</td>\n",
       "      <td>0.542041</td>\n",
       "      <td>0.012532</td>\n",
       "      <td>0.546535</td>\n",
       "      <td>0.548974</td>\n",
       "      <td>-0.971778</td>\n",
       "      <td>0.364</td>\n",
       "      <td>0.953744</td>\n",
       "      <td>1045.809518</td>\n",
       "      <td>1056.531067</td>\n",
       "    </tr>\n",
       "    <tr>\n",
       "      <th>1</th>\n",
       "      <td>2</td>\n",
       "      <td>0.535773</td>\n",
       "      <td>0.023518</td>\n",
       "      <td>0.547653</td>\n",
       "      <td>0.554054</td>\n",
       "      <td>-2.537114</td>\n",
       "      <td>0.022</td>\n",
       "      <td>1.049193</td>\n",
       "      <td>728.047771</td>\n",
       "      <td>738.906431</td>\n",
       "    </tr>\n",
       "    <tr>\n",
       "      <th>2</th>\n",
       "      <td>3</td>\n",
       "      <td>0.545646</td>\n",
       "      <td>0.013569</td>\n",
       "      <td>0.553648</td>\n",
       "      <td>0.558220</td>\n",
       "      <td>-1.842045</td>\n",
       "      <td>0.072</td>\n",
       "      <td>0.991488</td>\n",
       "      <td>938.307592</td>\n",
       "      <td>949.160671</td>\n",
       "    </tr>\n",
       "    <tr>\n",
       "      <th>3</th>\n",
       "      <td>4</td>\n",
       "      <td>0.549650</td>\n",
       "      <td>0.017510</td>\n",
       "      <td>0.554562</td>\n",
       "      <td>0.560049</td>\n",
       "      <td>-2.145115</td>\n",
       "      <td>0.024</td>\n",
       "      <td>1.015130</td>\n",
       "      <td>992.218565</td>\n",
       "      <td>1003.052151</td>\n",
       "    </tr>\n",
       "    <tr>\n",
       "      <th>4</th>\n",
       "      <td>5</td>\n",
       "      <td>0.544347</td>\n",
       "      <td>0.007318</td>\n",
       "      <td>0.547856</td>\n",
       "      <td>0.554460</td>\n",
       "      <td>-2.683819</td>\n",
       "      <td>0.006</td>\n",
       "      <td>1.019193</td>\n",
       "      <td>1013.170894</td>\n",
       "      <td>1023.992072</td>\n",
       "    </tr>\n",
       "  </tbody>\n",
       "</table>"
      ],
      "text/plain": [
       "<IPython.core.display.HTML object>"
      ]
     },
     "metadata": {},
     "output_type": "display_data"
    }
   ],
   "source": [
    "results = pd.read_csv(path_0p5)\n",
    "not_boot_columns = [c for c in results.columns if c.find(\"boot\") == -1]\n",
    "display(HTML(results[not_boot_columns].to_html()))"
   ]
  },
  {
   "cell_type": "markdown",
   "metadata": {},
   "source": [
    "## Results for $\\rho = 0.75$"
   ]
  },
  {
   "cell_type": "code",
   "execution_count": 6,
   "metadata": {},
   "outputs": [
    {
     "data": {
      "text/html": [
       "<table border=\"1\" class=\"dataframe\">\n",
       "  <thead>\n",
       "    <tr style=\"text-align: right;\">\n",
       "      <th></th>\n",
       "      <th>m</th>\n",
       "      <th>train_accuracy_mean</th>\n",
       "      <th>train_accuracy_std</th>\n",
       "      <th>validation_accuracy</th>\n",
       "      <th>transformed_validation_accuracy</th>\n",
       "      <th>observable_t_stats</th>\n",
       "      <th>p_value</th>\n",
       "      <th>transformation_time</th>\n",
       "      <th>training_time</th>\n",
       "      <th>test_time</th>\n",
       "    </tr>\n",
       "  </thead>\n",
       "  <tbody>\n",
       "    <tr>\n",
       "      <th>0</th>\n",
       "      <td>1</td>\n",
       "      <td>0.546154</td>\n",
       "      <td>0.011477</td>\n",
       "      <td>0.537289</td>\n",
       "      <td>0.553851</td>\n",
       "      <td>-5.827749</td>\n",
       "      <td>0.0</td>\n",
       "      <td>0.992970</td>\n",
       "      <td>964.631224</td>\n",
       "      <td>975.381602</td>\n",
       "    </tr>\n",
       "    <tr>\n",
       "      <th>1</th>\n",
       "      <td>2</td>\n",
       "      <td>0.549822</td>\n",
       "      <td>0.017911</td>\n",
       "      <td>0.545418</td>\n",
       "      <td>0.560455</td>\n",
       "      <td>-5.156530</td>\n",
       "      <td>0.0</td>\n",
       "      <td>1.035258</td>\n",
       "      <td>1059.446287</td>\n",
       "      <td>1070.328613</td>\n",
       "    </tr>\n",
       "    <tr>\n",
       "      <th>2</th>\n",
       "      <td>3</td>\n",
       "      <td>0.544384</td>\n",
       "      <td>0.017940</td>\n",
       "      <td>0.541861</td>\n",
       "      <td>0.559236</td>\n",
       "      <td>-6.000817</td>\n",
       "      <td>0.0</td>\n",
       "      <td>1.013409</td>\n",
       "      <td>1062.816650</td>\n",
       "      <td>1073.605969</td>\n",
       "    </tr>\n",
       "    <tr>\n",
       "      <th>3</th>\n",
       "      <td>4</td>\n",
       "      <td>0.536545</td>\n",
       "      <td>0.012809</td>\n",
       "      <td>0.527941</td>\n",
       "      <td>0.544706</td>\n",
       "      <td>-5.832779</td>\n",
       "      <td>0.0</td>\n",
       "      <td>1.033504</td>\n",
       "      <td>841.707296</td>\n",
       "      <td>852.544950</td>\n",
       "    </tr>\n",
       "    <tr>\n",
       "      <th>4</th>\n",
       "      <td>5</td>\n",
       "      <td>0.545900</td>\n",
       "      <td>0.013064</td>\n",
       "      <td>0.538204</td>\n",
       "      <td>0.555375</td>\n",
       "      <td>-6.035337</td>\n",
       "      <td>0.0</td>\n",
       "      <td>1.027197</td>\n",
       "      <td>831.447154</td>\n",
       "      <td>842.272324</td>\n",
       "    </tr>\n",
       "  </tbody>\n",
       "</table>"
      ],
      "text/plain": [
       "<IPython.core.display.HTML object>"
      ]
     },
     "metadata": {},
     "output_type": "display_data"
    }
   ],
   "source": [
    "results = pd.read_csv(path_0p75)\n",
    "not_boot_columns = [c for c in results.columns if c.find(\"boot\") == -1]\n",
    "display(HTML(results[not_boot_columns].to_html()))"
   ]
  },
  {
   "cell_type": "markdown",
   "metadata": {},
   "source": [
    "## Results for $\\rho = 1.0$"
   ]
  },
  {
   "cell_type": "code",
   "execution_count": 7,
   "metadata": {},
   "outputs": [
    {
     "data": {
      "text/html": [
       "<table border=\"1\" class=\"dataframe\">\n",
       "  <thead>\n",
       "    <tr style=\"text-align: right;\">\n",
       "      <th></th>\n",
       "      <th>m</th>\n",
       "      <th>train_accuracy_mean</th>\n",
       "      <th>train_accuracy_std</th>\n",
       "      <th>validation_accuracy</th>\n",
       "      <th>transformed_validation_accuracy</th>\n",
       "      <th>observable_t_stats</th>\n",
       "      <th>p_value</th>\n",
       "      <th>transformation_time</th>\n",
       "      <th>training_time</th>\n",
       "      <th>test_time</th>\n",
       "    </tr>\n",
       "  </thead>\n",
       "  <tbody>\n",
       "    <tr>\n",
       "      <th>0</th>\n",
       "      <td>1</td>\n",
       "      <td>0.564363</td>\n",
       "      <td>0.007119</td>\n",
       "      <td>0.501829</td>\n",
       "      <td>0.571225</td>\n",
       "      <td>-15.838377</td>\n",
       "      <td>0.0</td>\n",
       "      <td>0.988177</td>\n",
       "      <td>1381.531036</td>\n",
       "      <td>1392.283223</td>\n",
       "    </tr>\n",
       "    <tr>\n",
       "      <th>1</th>\n",
       "      <td>2</td>\n",
       "      <td>0.564836</td>\n",
       "      <td>0.008339</td>\n",
       "      <td>0.500914</td>\n",
       "      <td>0.572140</td>\n",
       "      <td>-15.976978</td>\n",
       "      <td>0.0</td>\n",
       "      <td>1.088050</td>\n",
       "      <td>799.613332</td>\n",
       "      <td>810.508688</td>\n",
       "    </tr>\n",
       "    <tr>\n",
       "      <th>2</th>\n",
       "      <td>3</td>\n",
       "      <td>0.559880</td>\n",
       "      <td>0.009834</td>\n",
       "      <td>0.504267</td>\n",
       "      <td>0.570108</td>\n",
       "      <td>-15.150547</td>\n",
       "      <td>0.0</td>\n",
       "      <td>0.991272</td>\n",
       "      <td>1157.023129</td>\n",
       "      <td>1167.841389</td>\n",
       "    </tr>\n",
       "    <tr>\n",
       "      <th>3</th>\n",
       "      <td>4</td>\n",
       "      <td>0.549634</td>\n",
       "      <td>0.011664</td>\n",
       "      <td>0.498984</td>\n",
       "      <td>0.563707</td>\n",
       "      <td>-14.739323</td>\n",
       "      <td>0.0</td>\n",
       "      <td>1.016930</td>\n",
       "      <td>982.692644</td>\n",
       "      <td>993.497364</td>\n",
       "    </tr>\n",
       "    <tr>\n",
       "      <th>4</th>\n",
       "      <td>5</td>\n",
       "      <td>0.547546</td>\n",
       "      <td>0.009358</td>\n",
       "      <td>0.493497</td>\n",
       "      <td>0.552632</td>\n",
       "      <td>-13.978178</td>\n",
       "      <td>0.0</td>\n",
       "      <td>0.992580</td>\n",
       "      <td>890.123354</td>\n",
       "      <td>900.926817</td>\n",
       "    </tr>\n",
       "  </tbody>\n",
       "</table>"
      ],
      "text/plain": [
       "<IPython.core.display.HTML object>"
      ]
     },
     "metadata": {},
     "output_type": "display_data"
    }
   ],
   "source": [
    "results = pd.read_csv(path_1)\n",
    "not_boot_columns = [c for c in results.columns if c.find(\"boot\") == -1]\n",
    "display(HTML(results[not_boot_columns].to_html()))"
   ]
  },
  {
   "cell_type": "markdown",
   "metadata": {},
   "source": [
    "### Vizualizing all p-values"
   ]
  },
  {
   "cell_type": "code",
   "execution_count": 8,
   "metadata": {},
   "outputs": [
    {
     "data": {
      "image/png": "[encoded data removed]",
      "text/plain": [
       "<Figure size 720x360 with 2 Axes>"
      ]
     },
     "metadata": {
      "needs_background": "light"
     },
     "output_type": "display_data"
    }
   ],
   "source": [
    "paths = [path_0, path_0p25, path_0p5, path_0p75, path_1]\n",
    "names = [r\"$\\rho = 0$\", r\"$\\rho = 0.25$\", r\"$\\rho = 0.5$\", r\"$\\rho = 0.75$\", r\"$\\rho = 1$\"]\n",
    "\n",
    "all_p_values = {}\n",
    "for path, name in zip(paths, names):\n",
    "    results = pd.read_csv(path).p_value\n",
    "    all_p_values[name] = results \n",
    "\n",
    "fig, ax = plt.subplots(figsize=(10,5))\n",
    "sns.heatmap(pd.DataFrame(all_p_values), annot=True, cmap=\"Reds\", ax=ax);"
   ]
  },
  {
   "cell_type": "code",
   "execution_count": null,
   "metadata": {},
   "outputs": [],
   "source": []
  },
  {
   "cell_type": "code",
   "execution_count": null,
   "metadata": {},
   "outputs": [],
   "source": []
  },
  {
   "cell_type": "code",
   "execution_count": null,
   "metadata": {},
   "outputs": [],
   "source": []
  },
  {
   "cell_type": "code",
   "execution_count": null,
   "metadata": {},
   "outputs": [],
   "source": []
  },
  {
   "cell_type": "code",
   "execution_count": null,
   "metadata": {},
   "outputs": [],
   "source": []
  },
  {
   "cell_type": "code",
   "execution_count": null,
   "metadata": {},
   "outputs": [],
   "source": []
  },
  {
   "cell_type": "code",
   "execution_count": null,
   "metadata": {},
   "outputs": [],
   "source": []
  }
 ],
 "metadata": {
  "kernelspec": {
   "display_name": "Python 3",
   "language": "python",
   "name": "python3"
  },
  "language_info": {
   "codemirror_mode": {
    "name": "ipython",
    "version": 3
   },
   "file_extension": ".py",
   "mimetype": "text/x-python",
   "name": "python",
   "nbconvert_exporter": "python",
   "pygments_lexer": "ipython3",
   "version": "3.6.9"
  }
 },
 "nbformat": 4,
 "nbformat_minor": 2
}
