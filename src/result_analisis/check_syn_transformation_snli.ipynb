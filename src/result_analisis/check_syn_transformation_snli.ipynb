{
 "cells": [
  {
   "cell_type": "code",
   "execution_count": 1,
   "metadata": {},
   "outputs": [],
   "source": [
    "import pandas as pd\n",
    "from IPython.display import display, HTML\n",
    "from lr.text_processing.util import pre_process_nli_df\n",
    "from lr.training.util import filter_df_by_label\n",
    "import numpy as np\n",
    "import matplotlib.pyplot as plt\n"
   ]
  },
  {
   "cell_type": "code",
   "execution_count": 2,
   "metadata": {},
   "outputs": [],
   "source": [
    "original_path = \"data/snli/train.csv\" \n",
    "transformed_path = \"data/snli/train_p_h_syn_noun.csv\"\n",
    "\n",
    "df = pd.read_csv(original_path)\n",
    "df = filter_df_by_label(df.dropna()).reset_index(drop=True)\n",
    "pre_process_nli_df(df)\n",
    "df_t = pd.read_csv(transformed_path)"
   ]
  },
  {
   "cell_type": "code",
   "execution_count": 3,
   "metadata": {},
   "outputs": [
    {
     "name": "stdout",
     "output_type": "stream",
     "text": [
      "n = 740 | e_n = 5.0%\n"
     ]
    },
    {
     "data": {
      "image/png": "[encoded data removed]",
      "text/plain": [
       "<Figure size 432x288 with 1 Axes>"
      ]
     },
     "metadata": {
      "needs_background": "light"
     },
     "output_type": "display_data"
    }
   ],
   "source": [
    "def e(alpha, n):\n",
    "    return np.sqrt(np.log(2/alpha) / (2*n))\n",
    "\n",
    "e95 = lambda n: e(0.05, n)\n",
    "x = np.array(range(1,741))\n",
    "\n",
    "plt.plot(x, e95(x),color=\"blue\");\n",
    "p = np.random.uniform(0.5,1)\n",
    "eps = e95(x)\n",
    "n = eps.argmin()\n",
    "e_id = eps[n]\n",
    "\n",
    "\n",
    "print(\"n = {} | e_n = {:.1%}\".format(x[n], e_id))"
   ]
  },
  {
   "cell_type": "code",
   "execution_count": 4,
   "metadata": {},
   "outputs": [
    {
     "name": "stdout",
     "output_type": "stream",
     "text": [
      "\n",
      "original\n",
      "\n"
     ]
    },
    {
     "data": {
      "text/html": [
       "<table border=\"1\" class=\"dataframe\">\n",
       "  <thead>\n",
       "    <tr style=\"text-align: right;\">\n",
       "      <th></th>\n",
       "      <th>premise</th>\n",
       "      <th>hypothesis</th>\n",
       "      <th>label</th>\n",
       "    </tr>\n",
       "  </thead>\n",
       "  <tbody>\n",
       "    <tr>\n",
       "      <th>324469</th>\n",
       "      <td>one man walks past a building while another sits in front of the building on a stoop</td>\n",
       "      <td>a man is playing dance dance revolution</td>\n",
       "      <td>contradiction</td>\n",
       "    </tr>\n",
       "  </tbody>\n",
       "</table>"
      ],
      "text/plain": [
       "<IPython.core.display.HTML object>"
      ]
     },
     "metadata": {},
     "output_type": "display_data"
    },
    {
     "name": "stdout",
     "output_type": "stream",
     "text": [
      "\n",
      "modified\n",
      "\n"
     ]
    },
    {
     "data": {
      "text/html": [
       "<table border=\"1\" class=\"dataframe\">\n",
       "  <thead>\n",
       "    <tr style=\"text-align: right;\">\n",
       "      <th></th>\n",
       "      <th>premise</th>\n",
       "      <th>hypothesis</th>\n",
       "      <th>label</th>\n",
       "    </tr>\n",
       "  </thead>\n",
       "  <tbody>\n",
       "    <tr>\n",
       "      <th>324469</th>\n",
       "      <td>one adult male walks past a building while another sits in front of the building on a stoop</td>\n",
       "      <td>a adult male is playing dance dance revolution</td>\n",
       "      <td>contradiction</td>\n",
       "    </tr>\n",
       "  </tbody>\n",
       "</table>"
      ],
      "text/plain": [
       "<IPython.core.display.HTML object>"
      ]
     },
     "metadata": {},
     "output_type": "display_data"
    },
    {
     "name": "stdout",
     "output_type": "stream",
     "text": [
      "\n",
      "decide\n",
      "\n"
     ]
    },
    {
     "name": "stdin",
     "output_type": "stream",
     "text": [
      " y\n"
     ]
    },
    {
     "name": "stdout",
     "output_type": "stream",
     "text": [
      "\n",
      "original\n",
      "\n"
     ]
    },
    {
     "data": {
      "text/html": [
       "<table border=\"1\" class=\"dataframe\">\n",
       "  <thead>\n",
       "    <tr style=\"text-align: right;\">\n",
       "      <th></th>\n",
       "      <th>premise</th>\n",
       "      <th>hypothesis</th>\n",
       "      <th>label</th>\n",
       "    </tr>\n",
       "  </thead>\n",
       "  <tbody>\n",
       "    <tr>\n",
       "      <th>280808</th>\n",
       "      <td>a darkhaired boy in sunglasses is jumping</td>\n",
       "      <td>a boy weariing sunglasses is jumping</td>\n",
       "      <td>entailment</td>\n",
       "    </tr>\n",
       "  </tbody>\n",
       "</table>"
      ],
      "text/plain": [
       "<IPython.core.display.HTML object>"
      ]
     },
     "metadata": {},
     "output_type": "display_data"
    },
    {
     "name": "stdout",
     "output_type": "stream",
     "text": [
      "\n",
      "modified\n",
      "\n"
     ]
    },
    {
     "data": {
      "text/html": [
       "<table border=\"1\" class=\"dataframe\">\n",
       "  <thead>\n",
       "    <tr style=\"text-align: right;\">\n",
       "      <th></th>\n",
       "      <th>premise</th>\n",
       "      <th>hypothesis</th>\n",
       "      <th>label</th>\n",
       "    </tr>\n",
       "  </thead>\n",
       "  <tbody>\n",
       "    <tr>\n",
       "      <th>280808</th>\n",
       "      <td>a darkhaired male child in shades is jumping</td>\n",
       "      <td>a male child weariing shades is jumping</td>\n",
       "      <td>entailment</td>\n",
       "    </tr>\n",
       "  </tbody>\n",
       "</table>"
      ],
      "text/plain": [
       "<IPython.core.display.HTML object>"
      ]
     },
     "metadata": {},
     "output_type": "display_data"
    },
    {
     "name": "stdout",
     "output_type": "stream",
     "text": [
      "\n",
      "decide\n",
      "\n"
     ]
    },
    {
     "name": "stdin",
     "output_type": "stream",
     "text": [
      " y\n"
     ]
    },
    {
     "name": "stdout",
     "output_type": "stream",
     "text": [
      "\n",
      "original\n",
      "\n"
     ]
    },
    {
     "data": {
      "text/html": [
       "<table border=\"1\" class=\"dataframe\">\n",
       "  <thead>\n",
       "    <tr style=\"text-align: right;\">\n",
       "      <th></th>\n",
       "      <th>premise</th>\n",
       "      <th>hypothesis</th>\n",
       "      <th>label</th>\n",
       "    </tr>\n",
       "  </thead>\n",
       "  <tbody>\n",
       "    <tr>\n",
       "      <th>400789</th>\n",
       "      <td>a group of bicycle racers rounds a turn on an asphalt street as spectators watch from behind temporary barriers</td>\n",
       "      <td>the asphalt is hot</td>\n",
       "      <td>neutral</td>\n",
       "    </tr>\n",
       "  </tbody>\n",
       "</table>"
      ],
      "text/plain": [
       "<IPython.core.display.HTML object>"
      ]
     },
     "metadata": {},
     "output_type": "display_data"
    },
    {
     "name": "stdout",
     "output_type": "stream",
     "text": [
      "\n",
      "modified\n",
      "\n"
     ]
    },
    {
     "data": {
      "text/html": [
       "<table border=\"1\" class=\"dataframe\">\n",
       "  <thead>\n",
       "    <tr style=\"text-align: right;\">\n",
       "      <th></th>\n",
       "      <th>premise</th>\n",
       "      <th>hypothesis</th>\n",
       "      <th>label</th>\n",
       "    </tr>\n",
       "  </thead>\n",
       "  <tbody>\n",
       "    <tr>\n",
       "      <th>400789</th>\n",
       "      <td>a group of bike racers rounds a bend on an asphalt street as viewer watch from behind temporary barriers</td>\n",
       "      <td>the asphalt is hot</td>\n",
       "      <td>neutral</td>\n",
       "    </tr>\n",
       "  </tbody>\n",
       "</table>"
      ],
      "text/plain": [
       "<IPython.core.display.HTML object>"
      ]
     },
     "metadata": {},
     "output_type": "display_data"
    },
    {
     "name": "stdout",
     "output_type": "stream",
     "text": [
      "\n",
      "decide\n",
      "\n"
     ]
    },
    {
     "name": "stdin",
     "output_type": "stream",
     "text": [
      " h\n"
     ]
    }
   ],
   "source": [
    "samples = 1000\n",
    "good = []\n",
    "bad = []\n",
    "count = 0\n",
    "\n",
    "for _ in range(samples):\n",
    "    count += 1\n",
    "    original = df.sample()\n",
    "    id_ = original.index[0]\n",
    "    print(\"\\noriginal\\n\")\n",
    "    display(HTML(original.to_html()))\n",
    "    modified = df_t.loc[id_].to_frame().transpose()\n",
    "    print(\"\\nmodified\\n\")\n",
    "    display(HTML(modified.to_html()))\n",
    "    print(\"\\ndecide\\n\")\n",
    "    decision = input()\n",
    "    if decision == \"y\":\n",
    "        good.append(id_)\n",
    "    elif decision ==\"n\":\n",
    "        bad.append(id_)\n",
    "    else:\n",
    "        break"
   ]
  },
  {
   "cell_type": "markdown",
   "metadata": {},
   "source": [
    "## CI"
   ]
  },
  {
   "cell_type": "code",
   "execution_count": 5,
   "metadata": {},
   "outputs": [
    {
     "name": "stdout",
     "output_type": "stream",
     "text": [
      "count = 3\n",
      "\n",
      "len(good) = 2\n",
      "\n",
      "good pct = 1.000\n",
      "\n"
     ]
    }
   ],
   "source": [
    "n =  count-1\n",
    "g = len(good) / n\n",
    "print(\"count = {}\\n\".format(count))\n",
    "print(\"len(good) = {}\\n\".format(len(good)))\n",
    "print(\"good pct = {:.3f}\\n\".format(g))\n"
   ]
  },
  {
   "cell_type": "code",
   "execution_count": 8,
   "metadata": {},
   "outputs": [
    {
     "name": "stdout",
     "output_type": "stream",
     "text": [
      "count = 400\n",
      "\n",
      "good pct = 82.2%\n",
      "\n",
      "e95 = 6.79%\n",
      "\n",
      "good 95% pct CI = (75.5%, 89.0%)\n",
      "\n"
     ]
    }
   ],
   "source": [
    "all_ns = [38, 23, 15, 19, 17, 10,\n",
    "          13, 12, 11, 19, 30, 29,\n",
    "          14, 18, 11, 7, 10, 13,\n",
    "          17, 10, 22, 14, 14, 14]\n",
    "\n",
    "all_good = [27, 21, 12, 17, 13,\n",
    "            8, 11, 10, 9, 16, 26,\n",
    "            27, 10, 16, 9, 6, 8, 11,\n",
    "            14, 8, 19, 10, 11, 10]\n",
    "\n",
    "assert len(all_ns) == len(all_good)\n",
    "\n",
    "n = np.sum(all_ns)\n",
    "g = np.sum(all_good)\n",
    "pct = g / n\n",
    "\n",
    "# n=400\n",
    "# n=510\n",
    "\n",
    "\n",
    "l = pct - e95(n)\n",
    "u = pct + e95(n) \n",
    "\n",
    "print(\"count = {}\\n\".format(n))\n",
    "print(\"good pct = {:.1%}\\n\".format(pct))\n",
    "print(\"e95 = {:.2%}\\n\".format(e95(n)))\n",
    "print(\"good 95% pct CI = ({:.1%}, {:.1%})\\n\".format(l,u))\n"
   ]
  },
  {
   "cell_type": "markdown",
   "metadata": {},
   "source": [
    "## IDS"
   ]
  },
  {
   "cell_type": "code",
   "execution_count": 7,
   "metadata": {},
   "outputs": [],
   "source": [
    "# check = [239334]\n",
    "# good + bad"
   ]
  },
  {
   "cell_type": "code",
   "execution_count": null,
   "metadata": {},
   "outputs": [],
   "source": []
  }
 ],
 "metadata": {
  "kernelspec": {
   "display_name": "Python 3",
   "language": "python",
   "name": "python3"
  },
  "language_info": {
   "codemirror_mode": {
    "name": "ipython",
    "version": 3
   },
   "file_extension": ".py",
   "mimetype": "text/x-python",
   "name": "python",
   "nbconvert_exporter": "python",
   "pygments_lexer": "ipython3",
   "version": "3.6.8"
  }
 },
 "nbformat": 4,
 "nbformat_minor": 2
}
