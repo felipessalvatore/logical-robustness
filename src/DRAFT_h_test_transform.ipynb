{
 "cells": [
  {
   "cell_type": "code",
   "execution_count": 1,
   "metadata": {},
   "outputs": [],
   "source": [
    "from lr.models.transformers.processor import clean_df\n",
    "from lr.models.transformers.train_functions import set_seed\n",
    "from lr.models.transformers.BertWrapper import BertWrapper\n",
    "from lr.text_processing.transformations.wordnet import path_base_transformation\n",
    "\n",
    "from lr.stats.h_testing import *\n",
    "import matplotlib.pyplot as plt\n",
    "import numpy as np\n",
    "import pandas as pd\n",
    "from time import time\n",
    "import shutil\n",
    "import os"
   ]
  },
  {
   "cell_type": "markdown",
   "metadata": {},
   "source": [
    "## Data"
   ]
  },
  {
   "cell_type": "code",
   "execution_count": 2,
   "metadata": {},
   "outputs": [],
   "source": [
    "train = pd.read_csv(\"data/snli/train.csv\")\n",
    "dev_o = pd.read_csv(\"data/snli/dev.csv\")\n",
    "train = train.head(1000)\n",
    "dev_o = dev_o.head(1000)\n",
    "\n",
    "train = clean_df(train, n_cores=8)\n",
    "dev_o = clean_df(dev_o, n_cores=8)\n"
   ]
  },
  {
   "cell_type": "markdown",
   "metadata": {},
   "source": [
    "## Transformations"
   ]
  },
  {
   "cell_type": "code",
   "execution_count": 3,
   "metadata": {},
   "outputs": [],
   "source": [
    "train_path_mod = \"data/snli/train_p_h_syn_noun.csv\"\n",
    "dev_path_mod = \"data/snli/dev_p_h_syn_noun.csv\"\n",
    "\n",
    "def train_trans(df): return path_base_transformation(df, train_path_mod)\n",
    "\n",
    "def dev_trans(df): return path_base_transformation(df, dev_path_mod)"
   ]
  },
  {
   "cell_type": "markdown",
   "metadata": {},
   "source": [
    "## Val df transformation"
   ]
  },
  {
   "cell_type": "code",
   "execution_count": 4,
   "metadata": {},
   "outputs": [],
   "source": [
    "dev_t = dev_trans(dev_o)"
   ]
  },
  {
   "cell_type": "markdown",
   "metadata": {},
   "source": [
    "## Hyperparams"
   ]
  },
  {
   "cell_type": "code",
   "execution_count": 5,
   "metadata": {},
   "outputs": [],
   "source": [
    "folder = \"snli\"\n",
    "\n",
    "hyperparams = {\"local_rank\": -1,\n",
    "               \"max_seq_length\": 200,\n",
    "               \"overwrite_cache\": False,\n",
    "               \"num_train_epochs\": 1.0,\n",
    "               \"per_gpu_train_batch_size\": 32,\n",
    "               \"per_gpu_eval_batch_size\": 50,\n",
    "               \"gradient_accumulation_steps\": 1,\n",
    "               \"learning_rate\": 5e-5,\n",
    "               \"weight_decay\": 0.0,\n",
    "               \"adam_epsilon\": 1e-8,\n",
    "               \"max_grad_norm\": 1.0,\n",
    "               \"max_steps\": 4,\n",
    "               \"warmup_steps\": 0,\n",
    "               \"save_steps\": 3,\n",
    "               \"no_cuda\": False,\n",
    "               \"n_gpu\": 1,\n",
    "               \"data_set_name\": folder,\n",
    "               \"transformation_name\": \"wordnet sin tranformation p and h\",\n",
    "               \"rho\": 0.7,\n",
    "               \"model_name_or_path\": \"bert\",\n",
    "               \"output_dir\": \"bert_draft\",\n",
    "               \"number_of_simulations\": 1000,\n",
    "               \"random_state\": 42,\n",
    "               \"dgp_seed\": 123,\n",
    "               \"fp16\": False,\n",
    "               \"fp16_opt_level\": \"01\",\n",
    "               \"device\": \"cpu\",\n",
    "               \"verbose\": True,\n",
    "               \"model_type\": \"bert\",\n",
    "               \"pad_on_left\": False,\n",
    "               \"pad_token\": 0,\n",
    "               \"n_cores\": 7,\n",
    "               'eval_sample_size': 100,\n",
    "               \"pad_token_segment_id\": 0,\n",
    "               \"mask_padding_with_zero\": True,\n",
    "               \"base_path\": \"data/{}/cached_\".format(folder)}"
   ]
  },
  {
   "cell_type": "markdown",
   "metadata": {},
   "source": [
    "## Selecting one data by DGP"
   ]
  },
  {
   "cell_type": "code",
   "execution_count": 6,
   "metadata": {},
   "outputs": [],
   "source": [
    "set_seed(hyperparams[\"dgp_seed\"], 0)\n",
    "dgp = DGP(train, train_trans, rho=hyperparams[\"rho\"])\n",
    "train_ = dgp.sample_transform()"
   ]
  },
  {
   "cell_type": "markdown",
   "metadata": {},
   "source": [
    "## Testing"
   ]
  },
  {
   "cell_type": "code",
   "execution_count": 7,
   "metadata": {},
   "outputs": [
    {
     "name": "stderr",
     "output_type": "stream",
     "text": [
      "Epoch:   0%|          | 0/1 [00:00<?, ?it/s]\n",
      "Iteration:   0%|          | 0/29 [00:00<?, ?it/s]\u001b[A\n",
      "Iteration:   3%|▎         | 1/29 [00:12<05:48, 12.43s/it]\u001b[A\n",
      "Iteration:   7%|▋         | 2/29 [00:24<05:35, 12.42s/it]\u001b[A\n",
      "\n",
      "Evaluating:   0%|          | 0/2 [00:00<?, ?it/s]\u001b[A\u001b[A\n",
      "\n",
      "Evaluating:  50%|█████     | 1/2 [00:05<00:05,  5.77s/it]\u001b[A\u001b[A\n",
      "\n",
      "Evaluating: 100%|██████████| 2/2 [00:11<00:00,  5.81s/it]\u001b[A\u001b[A\n",
      "\n",
      "\n",
      "Evaluating:   0%|          | 0/2 [00:00<?, ?it/s]\u001b[A\u001b[A\n",
      "\n",
      "Evaluating:  50%|█████     | 1/2 [00:05<00:05,  5.81s/it]\u001b[A\u001b[A\n",
      "\n",
      "Evaluating: 100%|██████████| 2/2 [00:11<00:00,  5.81s/it]\u001b[A\u001b[A\n",
      "\n",
      "Iteration:  10%|█         | 3/29 [01:01<08:28, 19.55s/it]\u001b[A\n",
      "Iteration:  14%|█▍        | 4/29 [01:25<08:55, 21.44s/it]\u001b[A\n",
      "Epoch:   0%|          | 0/1 [01:25<?, ?it/s]\n",
      "Evaluating:   0%|          | 0/20 [00:00<?, ?it/s]"
     ]
    },
    {
     "name": "stdout",
     "output_type": "stream",
     "text": [
      "eval path =  data/snli/cached_test_200\n"
     ]
    },
    {
     "name": "stderr",
     "output_type": "stream",
     "text": [
      "Evaluating: 100%|██████████| 20/20 [01:54<00:00,  5.73s/it]\n",
      "Evaluating:   0%|          | 0/20 [00:00<?, ?it/s]"
     ]
    },
    {
     "name": "stdout",
     "output_type": "stream",
     "text": [
      "eval path =  data/snli/cached_test_t_200\n"
     ]
    },
    {
     "name": "stderr",
     "output_type": "stream",
     "text": [
      "Evaluating: 100%|██████████| 20/20 [01:54<00:00,  5.73s/it]\n"
     ]
    }
   ],
   "source": [
    "test_results =  h_test_transformer(df_train=train_,\n",
    "                                   df_dev=dev_o,\n",
    "                                   df_dev_t=dev_t,\n",
    "                                   ModelWrapper=BertWrapper,\n",
    "                                   hyperparams=hyperparams)"
   ]
  },
  {
   "cell_type": "code",
   "execution_count": 8,
   "metadata": {},
   "outputs": [
    {
     "data": {
      "text/html": [
       "<div>\n",
       "<style scoped>\n",
       "    .dataframe tbody tr th:only-of-type {\n",
       "        vertical-align: middle;\n",
       "    }\n",
       "\n",
       "    .dataframe tbody tr th {\n",
       "        vertical-align: top;\n",
       "    }\n",
       "\n",
       "    .dataframe thead th {\n",
       "        text-align: right;\n",
       "    }\n",
       "</style>\n",
       "<table border=\"1\" class=\"dataframe\">\n",
       "  <thead>\n",
       "    <tr style=\"text-align: right;\">\n",
       "      <th></th>\n",
       "      <th>data</th>\n",
       "      <th>model</th>\n",
       "      <th>transformation</th>\n",
       "      <th>rho</th>\n",
       "      <th>dgp_seed</th>\n",
       "      <th>random_state</th>\n",
       "      <th>number_of_simulations</th>\n",
       "      <th>validation_accuracy</th>\n",
       "      <th>transformed_validation_accuracy</th>\n",
       "      <th>observable_t_stats</th>\n",
       "      <th>...</th>\n",
       "      <th>boot_t_991</th>\n",
       "      <th>boot_t_992</th>\n",
       "      <th>boot_t_993</th>\n",
       "      <th>boot_t_994</th>\n",
       "      <th>boot_t_995</th>\n",
       "      <th>boot_t_996</th>\n",
       "      <th>boot_t_997</th>\n",
       "      <th>boot_t_998</th>\n",
       "      <th>boot_t_999</th>\n",
       "      <th>boot_t_1000</th>\n",
       "    </tr>\n",
       "  </thead>\n",
       "  <tbody>\n",
       "    <tr>\n",
       "      <th>0</th>\n",
       "      <td>snli</td>\n",
       "      <td>bert</td>\n",
       "      <td>wordnet sin tranformation p and h</td>\n",
       "      <td>0.7</td>\n",
       "      <td>123</td>\n",
       "      <td>42</td>\n",
       "      <td>1000</td>\n",
       "      <td>0.347959</td>\n",
       "      <td>0.35</td>\n",
       "      <td>-0.471458</td>\n",
       "      <td>...</td>\n",
       "      <td>0.0</td>\n",
       "      <td>-0.471458</td>\n",
       "      <td>-0.894792</td>\n",
       "      <td>-0.774834</td>\n",
       "      <td>1.635219</td>\n",
       "      <td>-1.342875</td>\n",
       "      <td>0.0</td>\n",
       "      <td>2.693193</td>\n",
       "      <td>-0.5346</td>\n",
       "      <td>0.277361</td>\n",
       "    </tr>\n",
       "  </tbody>\n",
       "</table>\n",
       "<p>1 rows × 1013 columns</p>\n",
       "</div>"
      ],
      "text/plain": [
       "   data model                     transformation  rho  dgp_seed  random_state  \\\n",
       "0  snli  bert  wordnet sin tranformation p and h  0.7       123            42   \n",
       "\n",
       "   number_of_simulations  validation_accuracy  \\\n",
       "0                   1000             0.347959   \n",
       "\n",
       "   transformed_validation_accuracy  observable_t_stats  ...  boot_t_991  \\\n",
       "0                             0.35           -0.471458  ...         0.0   \n",
       "\n",
       "   boot_t_992  boot_t_993  boot_t_994  boot_t_995  boot_t_996  boot_t_997  \\\n",
       "0   -0.471458   -0.894792   -0.774834    1.635219   -1.342875         0.0   \n",
       "\n",
       "   boot_t_998  boot_t_999  boot_t_1000  \n",
       "0    2.693193     -0.5346     0.277361  \n",
       "\n",
       "[1 rows x 1013 columns]"
      ]
     },
     "execution_count": 8,
     "metadata": {},
     "output_type": "execute_result"
    }
   ],
   "source": [
    "test_results"
   ]
  },
  {
   "cell_type": "code",
   "execution_count": 12,
   "metadata": {},
   "outputs": [
    {
     "name": "stdout",
     "output_type": "stream",
     "text": [
      "test_save (__main__.BasicLrTraining) ... ok\n",
      "test_train_binary_BOW (__main__.BasicLrTraining) ... ok\n",
      "test_train_ternary_Tfidf (__main__.BasicLrTraining) ... ok\n",
      "\n",
      "----------------------------------------------------------------------\n",
      "Ran 3 tests in 0.204s\n",
      "\n",
      "OK\n",
      "test_xgb_training (__main__.BasicXGBTraining) ... ok\n",
      "\n",
      "----------------------------------------------------------------------\n",
      "Ran 1 test in 1.528s\n",
      "\n",
      "OK\n",
      "test_syn_transformation (__main__.SynTrans) ... ok\n",
      "\n",
      "----------------------------------------------------------------------\n",
      "Ran 1 test in 3.667s\n",
      "\n",
      "OK\n",
      "test_random_seed (__main__.Htesting) ... ok\n",
      "\n",
      "----------------------------------------------------------------------\n",
      "Ran 1 test in 4.753s\n",
      "\n",
      "OK\n",
      "test_bert_training (__main__.BasicBertTraining) ... ok\n",
      "\n",
      "----------------------------------------------------------------------\n",
      "Ran 1 test in 153.030s\n",
      "\n",
      "OK\n",
      "test_bert_h_testing (__main__.BertHTesting) ... ok\n",
      "\n",
      "----------------------------------------------------------------------\n",
      "Ran 1 test in 143.853s\n",
      "\n",
      "OK\n"
     ]
    }
   ],
   "source": [
    "! bash test.sh"
   ]
  },
  {
   "cell_type": "code",
   "execution_count": null,
   "metadata": {},
   "outputs": [],
   "source": []
  }
 ],
 "metadata": {
  "kernelspec": {
   "display_name": "Python 3",
   "language": "python",
   "name": "python3"
  },
  "language_info": {
   "codemirror_mode": {
    "name": "ipython",
    "version": 3
   },
   "file_extension": ".py",
   "mimetype": "text/x-python",
   "name": "python",
   "nbconvert_exporter": "python",
   "pygments_lexer": "ipython3",
   "version": "3.6.8"
  }
 },
 "nbformat": 4,
 "nbformat_minor": 4
}
