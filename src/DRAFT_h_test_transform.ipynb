{
 "cells": [
  {
   "cell_type": "code",
   "execution_count": 6,
   "metadata": {},
   "outputs": [],
   "source": [
    "from lr.models.transformers.processor import clean_df\n",
    "from lr.models.transformers.train_functions import set_seed\n",
    "from lr.models.transformers.BertWrapper import BertWrapper\n",
    "from lr.text_processing.transformations.wordnet import path_base_transformation\n",
    "\n",
    "from lr.stats.h_testing import *\n",
    "import matplotlib.pyplot as plt\n",
    "import numpy as np\n",
    "import pandas as pd\n",
    "from time import time\n",
    "import shutil\n",
    "import os"
   ]
  },
  {
   "cell_type": "markdown",
   "metadata": {},
   "source": [
    "## Data"
   ]
  },
  {
   "cell_type": "code",
   "execution_count": 3,
   "metadata": {},
   "outputs": [],
   "source": [
    "train = pd.read_csv(\"data/snli/train.csv\")\n",
    "dev_o = pd.read_csv(\"data/snli/dev.csv\")\n",
    "train = train.head(1000)\n",
    "dev_o = dev_o.head(1000)\n",
    "\n",
    "train = clean_df(train, n_cores=8)\n",
    "dev_o = clean_df(dev_o, n_cores=8)\n"
   ]
  },
  {
   "cell_type": "markdown",
   "metadata": {},
   "source": [
    "## Transformations"
   ]
  },
  {
   "cell_type": "code",
   "execution_count": 19,
   "metadata": {},
   "outputs": [],
   "source": [
    "train_path_mod = \"data/snli/train_p_h_syn_noun.csv\"\n",
    "dev_path_mod = \"data/snli/dev_p_h_syn_noun.csv\"\n",
    "\n",
    "def train_trans(df): return path_base_transformation(df, train_path_mod)\n",
    "\n",
    "def dev_trans(df): return path_base_transformation(df, dev_path_mod)"
   ]
  },
  {
   "cell_type": "markdown",
   "metadata": {},
   "source": [
    "## Val df transformation"
   ]
  },
  {
   "cell_type": "code",
   "execution_count": 7,
   "metadata": {},
   "outputs": [],
   "source": [
    "dev_t = dev_trans(dev_o)"
   ]
  },
  {
   "cell_type": "markdown",
   "metadata": {},
   "source": [
    "## Hyperparams"
   ]
  },
  {
   "cell_type": "code",
   "execution_count": 23,
   "metadata": {},
   "outputs": [],
   "source": [
    "folder = \"snli\"\n",
    "\n",
    "hyperparams = {\"local_rank\": -1,\n",
    "               \"max_seq_length\": 200,\n",
    "               \"overwrite_cache\": False,\n",
    "               \"num_train_epochs\": 1.0,\n",
    "               \"per_gpu_train_batch_size\": 32,\n",
    "               \"per_gpu_eval_batch_size\": 50,\n",
    "               \"gradient_accumulation_steps\": 1,\n",
    "               \"learning_rate\": 5e-5,\n",
    "               \"weight_decay\": 0.0,\n",
    "               \"adam_epsilon\": 1e-8,\n",
    "               \"max_grad_norm\": 1.0,\n",
    "               \"max_steps\": 10,\n",
    "               \"warmup_steps\": 0,\n",
    "               \"save_steps\": 3,\n",
    "               \"no_cuda\": False,\n",
    "               \"n_gpu\": 1,\n",
    "               \"model_name_or_path\": \"bert\",\n",
    "               \"output_dir\": \"bert_draft\",\n",
    "               \"random_state\": 42,\n",
    "               \"fp16\": False,\n",
    "               \"fp16_opt_level\": \"01\",\n",
    "               \"device\": \"cpu\",\n",
    "               \"verbose\": True,\n",
    "               \"model_type\": \"bert\",\n",
    "               \"pad_on_left\": False,\n",
    "               \"pad_token\": 0,\n",
    "               \"n_cores\": 7,\n",
    "               'eval_sample_size': 100,\n",
    "               \"pad_token_segment_id\": 0,\n",
    "               \"mask_padding_with_zero\": True,\n",
    "               \"base_path\": \"data/{}/cached_\".format(folder)}"
   ]
  },
  {
   "cell_type": "markdown",
   "metadata": {},
   "source": [
    "## Selecting one data by DGP"
   ]
  },
  {
   "cell_type": "code",
   "execution_count": 21,
   "metadata": {},
   "outputs": [],
   "source": [
    "set_seed(hyperparams[\"random_state\"], 0)\n",
    "dgp = DGP(train, transformation, rho=0.3)\n",
    "train_ = dgp.sample()"
   ]
  },
  {
   "cell_type": "markdown",
   "metadata": {},
   "source": [
    "## Testing"
   ]
  },
  {
   "cell_type": "code",
   "execution_count": 24,
   "metadata": {},
   "outputs": [
    {
     "name": "stderr",
     "output_type": "stream",
     "text": [
      "Epoch:   0%|          | 0/1 [00:00<?, ?it/s]\n",
      "Iteration:   0%|          | 0/29 [00:00<?, ?it/s]\u001b[A\n",
      "Iteration:   3%|▎         | 1/29 [00:12<05:48, 12.44s/it]\u001b[A\n",
      "Iteration:   7%|▋         | 2/29 [00:24<05:35, 12.42s/it]\u001b[A\n",
      "\n",
      "Evaluating:   0%|          | 0/2 [00:00<?, ?it/s]\u001b[A\u001b[A\n",
      "\n",
      "Evaluating:  50%|█████     | 1/2 [00:05<00:05,  5.77s/it]\u001b[A\u001b[A\n",
      "\n",
      "Evaluating: 100%|██████████| 2/2 [00:11<00:00,  5.79s/it]\u001b[A\u001b[A\n",
      "\n",
      "\n",
      "Evaluating:   0%|          | 0/2 [00:00<?, ?it/s]\u001b[A\u001b[A\n",
      "\n",
      "Evaluating:  50%|█████     | 1/2 [00:05<00:05,  5.82s/it]\u001b[A\u001b[A\n",
      "\n",
      "Evaluating: 100%|██████████| 2/2 [00:11<00:00,  5.82s/it]\u001b[A\u001b[A\n",
      "\n",
      "Iteration:  10%|█         | 3/29 [01:00<08:28, 19.54s/it]\u001b[A\n",
      "Iteration:  14%|█▍        | 4/29 [01:13<07:14, 17.38s/it]\u001b[A\n",
      "Iteration:  17%|█▋        | 5/29 [01:25<06:20, 15.87s/it]\u001b[A\n",
      "\n",
      "Evaluating:   0%|          | 0/2 [00:00<?, ?it/s]\u001b[A\u001b[A\n",
      "\n",
      "Evaluating:  50%|█████     | 1/2 [00:05<00:05,  5.78s/it]\u001b[A\u001b[A\n",
      "\n",
      "Evaluating: 100%|██████████| 2/2 [00:11<00:00,  5.80s/it]\u001b[A\u001b[A\n",
      "\n",
      "\n",
      "Evaluating:   0%|          | 0/2 [00:00<?, ?it/s]\u001b[A\u001b[A\n",
      "\n",
      "Evaluating:  50%|█████     | 1/2 [00:05<00:05,  5.83s/it]\u001b[A\u001b[A\n",
      "\n",
      "Evaluating: 100%|██████████| 2/2 [00:11<00:00,  5.84s/it]\u001b[A\u001b[A\n",
      "\n",
      "Iteration:  21%|██        | 6/29 [02:01<08:24, 21.94s/it]\u001b[A\n",
      "Iteration:  24%|██▍       | 7/29 [02:14<06:59, 19.07s/it]\u001b[A\n",
      "Iteration:  28%|██▊       | 8/29 [02:26<05:58, 17.05s/it]\u001b[A\n",
      "\n",
      "Evaluating:   0%|          | 0/2 [00:00<?, ?it/s]\u001b[A\u001b[A\n",
      "\n",
      "Evaluating:  50%|█████     | 1/2 [00:05<00:05,  5.79s/it]\u001b[A\u001b[A\n",
      "\n",
      "Evaluating: 100%|██████████| 2/2 [00:11<00:00,  5.84s/it]\u001b[A\u001b[A\n",
      "\n",
      "\n",
      "Evaluating:   0%|          | 0/2 [00:00<?, ?it/s]\u001b[A\u001b[A\n",
      "\n",
      "Evaluating:  50%|█████     | 1/2 [00:05<00:05,  5.88s/it]\u001b[A\u001b[A\n",
      "\n",
      "Evaluating: 100%|██████████| 2/2 [00:11<00:00,  5.88s/it]\u001b[A\u001b[A\n",
      "\n",
      "Iteration:  31%|███       | 9/29 [03:02<07:36, 22.83s/it]\u001b[A\n",
      "Iteration:  34%|███▍      | 10/29 [03:27<06:34, 20.74s/it]\u001b[A\n",
      "Epoch:   0%|          | 0/1 [03:27<?, ?it/s]\n",
      "Evaluating:   0%|          | 0/20 [00:00<?, ?it/s]"
     ]
    },
    {
     "name": "stdout",
     "output_type": "stream",
     "text": [
      "eval path =  data/snli/cached_test_200\n"
     ]
    },
    {
     "name": "stderr",
     "output_type": "stream",
     "text": [
      "Evaluating: 100%|██████████| 20/20 [01:54<00:00,  5.74s/it]\n",
      "Evaluating:   0%|          | 0/20 [00:00<?, ?it/s]"
     ]
    },
    {
     "name": "stdout",
     "output_type": "stream",
     "text": [
      "eval path =  data/snli/cached_test_t_200\n"
     ]
    },
    {
     "name": "stderr",
     "output_type": "stream",
     "text": [
      "Evaluating: 100%|██████████| 20/20 [01:54<00:00,  5.75s/it]\n"
     ]
    }
   ],
   "source": [
    "test_results =  h_test_transformer(df_train=train_,\n",
    "                                   df_dev=dev_o,\n",
    "                                   df_dev_t=dev_t,\n",
    "                                   ModelWrapper=BertWrapper,\n",
    "                                   hyperparams=hyperparams,\n",
    "                                   S=1000)"
   ]
  },
  {
   "cell_type": "code",
   "execution_count": 25,
   "metadata": {},
   "outputs": [
    {
     "data": {
      "text/html": [
       "<div>\n",
       "<style scoped>\n",
       "    .dataframe tbody tr th:only-of-type {\n",
       "        vertical-align: middle;\n",
       "    }\n",
       "\n",
       "    .dataframe tbody tr th {\n",
       "        vertical-align: top;\n",
       "    }\n",
       "\n",
       "    .dataframe thead th {\n",
       "        text-align: right;\n",
       "    }\n",
       "</style>\n",
       "<table border=\"1\" class=\"dataframe\">\n",
       "  <thead>\n",
       "    <tr style=\"text-align: right;\">\n",
       "      <th></th>\n",
       "      <th>validation_accuracy</th>\n",
       "      <th>transformed_validation_accuracy</th>\n",
       "      <th>observable_t_stats</th>\n",
       "      <th>p_value</th>\n",
       "      <th>training_time</th>\n",
       "      <th>test_time</th>\n",
       "      <th>boot_t_1</th>\n",
       "      <th>boot_t_2</th>\n",
       "      <th>boot_t_3</th>\n",
       "      <th>boot_t_4</th>\n",
       "      <th>...</th>\n",
       "      <th>boot_t_991</th>\n",
       "      <th>boot_t_992</th>\n",
       "      <th>boot_t_993</th>\n",
       "      <th>boot_t_994</th>\n",
       "      <th>boot_t_995</th>\n",
       "      <th>boot_t_996</th>\n",
       "      <th>boot_t_997</th>\n",
       "      <th>boot_t_998</th>\n",
       "      <th>boot_t_999</th>\n",
       "      <th>boot_t_1000</th>\n",
       "    </tr>\n",
       "  </thead>\n",
       "  <tbody>\n",
       "    <tr>\n",
       "      <th>0</th>\n",
       "      <td>0.346939</td>\n",
       "      <td>0.345918</td>\n",
       "      <td>0.218223</td>\n",
       "      <td>0.808</td>\n",
       "      <td>207.458956</td>\n",
       "      <td>450.076278</td>\n",
       "      <td>-1.14785</td>\n",
       "      <td>1.091753</td>\n",
       "      <td>-1.177529</td>\n",
       "      <td>-2.069247</td>\n",
       "      <td>...</td>\n",
       "      <td>-0.471458</td>\n",
       "      <td>0.208519</td>\n",
       "      <td>-0.277361</td>\n",
       "      <td>-0.208519</td>\n",
       "      <td>-0.242543</td>\n",
       "      <td>-0.894792</td>\n",
       "      <td>2.069247</td>\n",
       "      <td>0.0</td>\n",
       "      <td>0.943237</td>\n",
       "      <td>-0.727803</td>\n",
       "    </tr>\n",
       "  </tbody>\n",
       "</table>\n",
       "<p>1 rows × 1006 columns</p>\n",
       "</div>"
      ],
      "text/plain": [
       "   validation_accuracy  transformed_validation_accuracy  observable_t_stats  \\\n",
       "0             0.346939                         0.345918            0.218223   \n",
       "\n",
       "   p_value  training_time   test_time  boot_t_1  boot_t_2  boot_t_3  boot_t_4  \\\n",
       "0    0.808     207.458956  450.076278  -1.14785  1.091753 -1.177529 -2.069247   \n",
       "\n",
       "   ...  boot_t_991  boot_t_992  boot_t_993  boot_t_994  boot_t_995  \\\n",
       "0  ...   -0.471458    0.208519   -0.277361   -0.208519   -0.242543   \n",
       "\n",
       "   boot_t_996  boot_t_997  boot_t_998  boot_t_999  boot_t_1000  \n",
       "0   -0.894792    2.069247         0.0    0.943237    -0.727803  \n",
       "\n",
       "[1 rows x 1006 columns]"
      ]
     },
     "execution_count": 25,
     "metadata": {},
     "output_type": "execute_result"
    }
   ],
   "source": [
    "test_results"
   ]
  },
  {
   "cell_type": "code",
   "execution_count": null,
   "metadata": {},
   "outputs": [],
   "source": [
    "test_results"
   ]
  },
  {
   "cell_type": "code",
   "execution_count": null,
   "metadata": {},
   "outputs": [],
   "source": []
  }
 ],
 "metadata": {
  "kernelspec": {
   "display_name": "Python 3",
   "language": "python",
   "name": "python3"
  },
  "language_info": {
   "codemirror_mode": {
    "name": "ipython",
    "version": 3
   },
   "file_extension": ".py",
   "mimetype": "text/x-python",
   "name": "python",
   "nbconvert_exporter": "python",
   "pygments_lexer": "ipython3",
   "version": "3.6.8"
  }
 },
 "nbformat": 4,
 "nbformat_minor": 4
}
