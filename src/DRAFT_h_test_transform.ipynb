{
 "cells": [
  {
   "cell_type": "code",
   "execution_count": 1,
   "metadata": {},
   "outputs": [],
   "source": [
    "from lr.models.transformers.processor import clean_df\n",
    "from lr.models.transformers.train_functions import set_seed\n",
    "from lr.models.transformers.BertWrapper import BertWrapper\n",
    "from lr.text_processing.transformations.structural import entailment_internalization  # noqa\n",
    "from lr.stats.h_testing import *\n",
    "import matplotlib.pyplot as plt\n",
    "import numpy as np\n",
    "import pandas as pd\n",
    "from time import time\n",
    "import shutil\n",
    "import os"
   ]
  },
  {
   "cell_type": "markdown",
   "metadata": {},
   "source": [
    "## get data"
   ]
  },
  {
   "cell_type": "code",
   "execution_count": 2,
   "metadata": {},
   "outputs": [],
   "source": [
    "transformation = entailment_internalization\n",
    "\n",
    "train = pd.read_csv(\"data/toy/train.csv\")\n",
    "dev_o = pd.read_csv(\"data/toy/dev.csv\")\n",
    "dev_t = transformation(dev_o)\n",
    "\n",
    "train = clean_df(train, n_cores=8)\n",
    "dev_o = clean_df(dev_o, n_cores=8)\n",
    "dev_t = clean_df(dev_t, n_cores=8)"
   ]
  },
  {
   "cell_type": "markdown",
   "metadata": {},
   "source": [
    "## Hyperparams"
   ]
  },
  {
   "cell_type": "code",
   "execution_count": 3,
   "metadata": {},
   "outputs": [],
   "source": [
    "folder = \"toy\"\n",
    "\n",
    "hyperparams = {\"local_rank\": -1,\n",
    "               \"max_seq_length\": 200,\n",
    "               \"overwrite_cache\": False,\n",
    "               \"num_train_epochs\": 1.0,\n",
    "               \"per_gpu_train_batch_size\": 32,\n",
    "               \"per_gpu_eval_batch_size\": 50,\n",
    "               \"gradient_accumulation_steps\": 1,\n",
    "               \"learning_rate\": 5e-5,\n",
    "               \"weight_decay\": 0.0,\n",
    "               \"adam_epsilon\": 1e-8,\n",
    "               \"max_grad_norm\": 1.0,\n",
    "               \"max_steps\": 4,\n",
    "               \"warmup_steps\": 0,\n",
    "               \"save_steps\": 3,\n",
    "               \"no_cuda\": False,\n",
    "               \"n_gpu\": 1,\n",
    "               \"model_name_or_path\": \"bert\",\n",
    "               \"output_dir\": \"bert_draft\",\n",
    "               \"random_state\": 42,\n",
    "               \"fp16\": False,\n",
    "               \"fp16_opt_level\": \"01\",\n",
    "               \"device\": \"cpu\",\n",
    "               \"verbose\": False,\n",
    "               \"model_type\": \"bert\",\n",
    "               \"pad_on_left\": False,\n",
    "               \"pad_token\": 0,\n",
    "               \"n_cores\": 7,\n",
    "               'eval_sample_size': 100,\n",
    "               \"pad_token_segment_id\": 0,\n",
    "               \"mask_padding_with_zero\": True,\n",
    "               \"base_path\": \"data/{}/cached_\".format(folder)}"
   ]
  },
  {
   "cell_type": "markdown",
   "metadata": {},
   "source": [
    "## Selecting one data by DGP"
   ]
  },
  {
   "cell_type": "code",
   "execution_count": 4,
   "metadata": {},
   "outputs": [],
   "source": [
    "set_seed(hyperparams[\"random_state\"], 0)\n",
    "dgp = DGP(train, transformation, rho=0.3)\n",
    "train_ = dgp.sample()"
   ]
  },
  {
   "cell_type": "markdown",
   "metadata": {},
   "source": [
    "## Performing the test"
   ]
  },
  {
   "cell_type": "code",
   "execution_count": 5,
   "metadata": {},
   "outputs": [],
   "source": [
    "df_train = train_\n",
    "df_dev = dev_o\n",
    "df_dev_t = dev_t\n",
    "S = 1000\n",
    "ModelWrapper = BertWrapper\n",
    "\n",
    "init = time()\n",
    "transformer = ModelWrapper(hyperparams)\n",
    "\n",
    "global_step, tr_loss, train_time = transformer.fit(df_train)\n",
    "\n",
    "dev_results = transformer.get_results(df_dev, mode=\"test\")\n",
    "dev_t_results = transformer.get_results(df_dev_t, mode=\"test_t\")\n",
    "\n",
    "m_results = get_matched_results_transformers(dev_results, dev_t_results)\n",
    "t_obs = get_paired_t_statistic(m_results)\n",
    "\n",
    "# Generate S bootstrap replications\n",
    "t_boots = []\n",
    "for _ in range(S):\n",
    "    boot_sample = get_boot_sample_under_H0(m_results)\n",
    "    t = get_paired_t_statistic(boot_sample)\n",
    "    t_boots.append(t)\n",
    "\n",
    "# Get bootstrap p-value\n",
    "t_boots = pd.Series(t_boots)\n",
    "p_value = get_boot_p_value(t_boots, t_obs)\n",
    "\n",
    "test_time = time() - init"
   ]
  },
  {
   "cell_type": "markdown",
   "metadata": {},
   "source": [
    "## Checking Values"
   ]
  },
  {
   "cell_type": "code",
   "execution_count": 6,
   "metadata": {},
   "outputs": [],
   "source": [
    "assert t_boots.sum() == 21.92981436880456\n",
    "assert p_value == 0.604\n",
    "assert t_obs == 0.5985858317644218\n",
    "assert m_results.A.mean() == 0.36\n",
    "assert m_results.B.mean() == 0.325"
   ]
  },
  {
   "cell_type": "markdown",
   "metadata": {},
   "source": [
    "## Test main function"
   ]
  },
  {
   "cell_type": "code",
   "execution_count": 7,
   "metadata": {},
   "outputs": [],
   "source": [
    "test_results =  h_test_transformer(df_train=train_,\n",
    "                                   df_dev=dev_o,\n",
    "                                   df_dev_t=dev_t,\n",
    "                                   ModelWrapper=BertWrapper,\n",
    "                                   hyperparams=hyperparams,\n",
    "                                   S=1000)"
   ]
  },
  {
   "cell_type": "code",
   "execution_count": 8,
   "metadata": {},
   "outputs": [],
   "source": [
    "assert test_results.observable_t_stats[0] == 0.5985858317644218\n",
    "assert test_results.validation_accuracy[0] == 0.36\n",
    "assert test_results.transformed_validation_accuracy[0] == 0.325\n",
    "assert test_results.p_value[0] == 0.604\n",
    "\n",
    "p_sum = (test_results[[c for c in test_results.columns if c.find(\"boot\") >-1]]).sum(1)[0] \n",
    "assert p_sum == 21.92981436880456\n"
   ]
  },
  {
   "cell_type": "code",
   "execution_count": 9,
   "metadata": {},
   "outputs": [],
   "source": [
    "hyperparams[\"random_state\"] = 123\n",
    "\n",
    "test_results =  h_test_transformer(df_train=train_,\n",
    "                                   df_dev=dev_o,\n",
    "                                   df_dev_t=dev_t,\n",
    "                                   ModelWrapper=BertWrapper,\n",
    "                                   hyperparams=hyperparams,\n",
    "                                   S=1000)"
   ]
  },
  {
   "cell_type": "code",
   "execution_count": 10,
   "metadata": {},
   "outputs": [
    {
     "data": {
      "text/html": [
       "<div>\n",
       "<style scoped>\n",
       "    .dataframe tbody tr th:only-of-type {\n",
       "        vertical-align: middle;\n",
       "    }\n",
       "\n",
       "    .dataframe tbody tr th {\n",
       "        vertical-align: top;\n",
       "    }\n",
       "\n",
       "    .dataframe thead th {\n",
       "        text-align: right;\n",
       "    }\n",
       "</style>\n",
       "<table border=\"1\" class=\"dataframe\">\n",
       "  <thead>\n",
       "    <tr style=\"text-align: right;\">\n",
       "      <th></th>\n",
       "      <th>validation_accuracy</th>\n",
       "      <th>transformed_validation_accuracy</th>\n",
       "      <th>observable_t_stats</th>\n",
       "      <th>p_value</th>\n",
       "      <th>training_time</th>\n",
       "      <th>test_time</th>\n",
       "      <th>boot_t_1</th>\n",
       "      <th>boot_t_2</th>\n",
       "      <th>boot_t_3</th>\n",
       "      <th>boot_t_4</th>\n",
       "      <th>...</th>\n",
       "      <th>boot_t_991</th>\n",
       "      <th>boot_t_992</th>\n",
       "      <th>boot_t_993</th>\n",
       "      <th>boot_t_994</th>\n",
       "      <th>boot_t_995</th>\n",
       "      <th>boot_t_996</th>\n",
       "      <th>boot_t_997</th>\n",
       "      <th>boot_t_998</th>\n",
       "      <th>boot_t_999</th>\n",
       "      <th>boot_t_1000</th>\n",
       "    </tr>\n",
       "  </thead>\n",
       "  <tbody>\n",
       "    <tr>\n",
       "      <th>0</th>\n",
       "      <td>0.435</td>\n",
       "      <td>0.325</td>\n",
       "      <td>2.227113</td>\n",
       "      <td>0.024</td>\n",
       "      <td>91.905859</td>\n",
       "      <td>153.323272</td>\n",
       "      <td>-0.594613</td>\n",
       "      <td>-0.583267</td>\n",
       "      <td>0.770943</td>\n",
       "      <td>-0.103698</td>\n",
       "      <td>...</td>\n",
       "      <td>1.907694</td>\n",
       "      <td>-0.412744</td>\n",
       "      <td>-0.606649</td>\n",
       "      <td>0.809445</td>\n",
       "      <td>-0.600541</td>\n",
       "      <td>0.0</td>\n",
       "      <td>-0.594613</td>\n",
       "      <td>0.778204</td>\n",
       "      <td>-0.304675</td>\n",
       "      <td>-1.216661</td>\n",
       "    </tr>\n",
       "  </tbody>\n",
       "</table>\n",
       "<p>1 rows × 1006 columns</p>\n",
       "</div>"
      ],
      "text/plain": [
       "   validation_accuracy  transformed_validation_accuracy  observable_t_stats  \\\n",
       "0                0.435                            0.325            2.227113   \n",
       "\n",
       "   p_value  training_time   test_time  boot_t_1  boot_t_2  boot_t_3  boot_t_4  \\\n",
       "0    0.024      91.905859  153.323272 -0.594613 -0.583267  0.770943 -0.103698   \n",
       "\n",
       "   ...  boot_t_991  boot_t_992  boot_t_993  boot_t_994  boot_t_995  \\\n",
       "0  ...    1.907694   -0.412744   -0.606649    0.809445   -0.600541   \n",
       "\n",
       "   boot_t_996  boot_t_997  boot_t_998  boot_t_999  boot_t_1000  \n",
       "0         0.0   -0.594613    0.778204   -0.304675    -1.216661  \n",
       "\n",
       "[1 rows x 1006 columns]"
      ]
     },
     "execution_count": 10,
     "metadata": {},
     "output_type": "execute_result"
    }
   ],
   "source": [
    "test_results"
   ]
  },
  {
   "cell_type": "code",
   "execution_count": null,
   "metadata": {},
   "outputs": [],
   "source": []
  },
  {
   "cell_type": "code",
   "execution_count": null,
   "metadata": {},
   "outputs": [],
   "source": []
  }
 ],
 "metadata": {
  "kernelspec": {
   "display_name": "Python 3",
   "language": "python",
   "name": "python3"
  },
  "language_info": {
   "codemirror_mode": {
    "name": "ipython",
    "version": 3
   },
   "file_extension": ".py",
   "mimetype": "text/x-python",
   "name": "python",
   "nbconvert_exporter": "python",
   "pygments_lexer": "ipython3",
   "version": "3.6.8"
  }
 },
 "nbformat": 4,
 "nbformat_minor": 4
}
