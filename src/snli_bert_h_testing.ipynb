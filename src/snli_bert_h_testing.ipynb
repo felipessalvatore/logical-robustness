{
 "cells": [
  {
   "cell_type": "code",
   "execution_count": 1,
   "metadata": {},
   "outputs": [],
   "source": [
    "from lr.models.transformers.processor import filter_df_by_label\n",
    "from lr.models.transformers.BertWrapper import BertWrapper\n",
    "from lr.stats.h_testing import *\n",
    "import matplotlib.pyplot as plt\n",
    "import numpy as np\n",
    "import pandas as pd\n",
    "from time import time\n",
    "import shutil\n",
    "import os"
   ]
  },
  {
   "cell_type": "markdown",
   "metadata": {},
   "source": [
    "### Params"
   ]
  },
  {
   "cell_type": "code",
   "execution_count": 2,
   "metadata": {},
   "outputs": [],
   "source": [
    "folder = \"snli\"\n",
    "\n",
    "hyperparams = {\"local_rank\": -1,\n",
    "               \"max_seq_length\": 200,\n",
    "               \"overwrite_cache\": False,\n",
    "               \"num_train_epochs\": 1.0,\n",
    "               \"per_gpu_train_batch_size\": 32,\n",
    "               \"per_gpu_eval_batch_size\": 300,\n",
    "               \"gradient_accumulation_steps\": 1,\n",
    "               \"learning_rate\": 5e-5,\n",
    "               \"weight_decay\": 0.0,\n",
    "               \"adam_epsilon\": 1e-8,\n",
    "               \"max_grad_norm\": 1.0,\n",
    "               \"max_steps\": 1200,\n",
    "               \"warmup_steps\": 0,\n",
    "               \"save_steps\": 100,\n",
    "               \"no_cuda\": False,\n",
    "               \"n_gpu\": 1,\n",
    "               \"model_name_or_path\": \"bert\",\n",
    "               \"output_dir\": \"bert\",\n",
    "               \"random_state\": 42,\n",
    "               \"fp16\": False,\n",
    "               \"fp16_opt_level\": \"01\",\n",
    "               \"device\": \"cpu\",\n",
    "               \"verbose\": True,\n",
    "               \"model_type\": \"bert\",\n",
    "               \"pad_on_left\": False,\n",
    "               \"pad_token\": 0,\n",
    "               \"n_cores\": 7,\n",
    "               \"pad_token_segment_id\": 0,\n",
    "               \"mask_padding_with_zero\": True,\n",
    "               \"base_path\": \"data/{}/cached_\".format(folder)}"
   ]
  },
  {
   "cell_type": "markdown",
   "metadata": {},
   "source": [
    "# loading trainded models"
   ]
  },
  {
   "cell_type": "code",
   "execution_count": 8,
   "metadata": {},
   "outputs": [
    {
     "name": "stdout",
     "output_type": "stream",
     "text": [
      "Bert, total number of parameters = 109484547\n"
     ]
    }
   ],
   "source": [
    "my_bert = BertWrapper(hyperparams)\n",
    "path = \"saved_models/bert/checkpoint-1200\"\n",
    "my_bert.load(path)\n",
    "\n",
    "param_count = my_bert.get_param_count()\n",
    "print(\"Bert, total number of parameters = {}\".format(param_count))"
   ]
  },
  {
   "cell_type": "markdown",
   "metadata": {},
   "source": [
    "## Loading DFs"
   ]
  },
  {
   "cell_type": "code",
   "execution_count": 4,
   "metadata": {},
   "outputs": [],
   "source": [
    "dev = pd.read_csv(\"data/snli/dev.csv\")\n",
    "dev_t = pd.read_csv(\"data/snli/dev_p_h_syn_noun.csv\")"
   ]
  },
  {
   "cell_type": "markdown",
   "metadata": {},
   "source": [
    "## Eval"
   ]
  },
  {
   "cell_type": "code",
   "execution_count": 5,
   "metadata": {},
   "outputs": [],
   "source": [
    "r_path = \"results/snli/bert/naive_results.csv\"\n",
    "if not os.path.exists(\"results/snli/bert/naive_results.csv\"):\n",
    "\n",
    "    init = time()\n",
    "    dev_results = my_bert.get_results(dev, mode=\"test\")\n",
    "\n",
    "    dev_t_results = my_bert.get_results(dev_t, mode=\"test_transformed\")\n",
    "    eval_time = time() - init\n",
    "    print(\"eval time = \", eval_time)\n",
    "\n",
    "    m_results = get_matched_results_transformers(dev_results,dev_t_results)\n",
    "    m_results.to_csv(r_path, index=False)\n",
    "\n",
    "else:\n",
    "    m_results = pd.read_csv(r_path)"
   ]
  },
  {
   "cell_type": "markdown",
   "metadata": {},
   "source": [
    "## Results\n",
    "### Accuracy"
   ]
  },
  {
   "cell_type": "code",
   "execution_count": 6,
   "metadata": {},
   "outputs": [
    {
     "name": "stdout",
     "output_type": "stream",
     "text": [
      "A = 84.75920% | B = 80.77626%\n"
     ]
    }
   ],
   "source": [
    "print(\"A = {:.5%} | B = {:.5%}\".format(m_results.A.mean(), m_results.B.mean()))"
   ]
  },
  {
   "cell_type": "markdown",
   "metadata": {},
   "source": [
    "### Hypothesis test"
   ]
  },
  {
   "cell_type": "code",
   "execution_count": 7,
   "metadata": {},
   "outputs": [
    {
     "data": {
      "image/png": "[encoded data removed]",
      "text/plain": [
       "<Figure size 720x360 with 1 Axes>"
      ]
     },
     "metadata": {
      "needs_background": "light"
     },
     "output_type": "display_data"
    }
   ],
   "source": [
    "S = 1000\n",
    "t_obs = get_paired_t_statistic(m_results)\n",
    "\n",
    "# Generate S bootstrap replications\n",
    "t_boots = []\n",
    "for _ in range(S):\n",
    "    boot_sample = get_boot_sample_under_H0(m_results)\n",
    "    t = get_paired_t_statistic(boot_sample)\n",
    "    t_boots.append(t)\n",
    "\n",
    "# Get bootstrap p-value\n",
    "t_boots = pd.Series(t_boots)\n",
    "p_value = get_boot_p_value(t_boots, t_obs)\n",
    "\n",
    "fig, ax = plt.subplots(figsize=(10,5))\n",
    "t_boots.hist(ax=ax, label=\"bootstrap replications\");\n",
    "plt.axvline(x=t_obs, color='r', linestyle='-', label=\"observed (t={:.1f})\".format(t_obs));\n",
    "ax.set_xlabel(\"t\", fontsize=14);\n",
    "ax.set_ylabel(\"frequency\", fontsize=14);\n",
    "ax.set_title(\"Bootstrap test histogram (p-value = {:.8f})\".format(p_value) +\"\\n\", fontsize=16)\n",
    "plt.legend(loc=\"best\");"
   ]
  },
  {
   "cell_type": "code",
   "execution_count": null,
   "metadata": {},
   "outputs": [],
   "source": []
  }
 ],
 "metadata": {
  "kernelspec": {
   "display_name": "Python 3",
   "language": "python",
   "name": "python3"
  },
  "language_info": {
   "codemirror_mode": {
    "name": "ipython",
    "version": 3
   },
   "file_extension": ".py",
   "mimetype": "text/x-python",
   "name": "python",
   "nbconvert_exporter": "python",
   "pygments_lexer": "ipython3",
   "version": "3.6.9"
  }
 },
 "nbformat": 4,
 "nbformat_minor": 4
}
