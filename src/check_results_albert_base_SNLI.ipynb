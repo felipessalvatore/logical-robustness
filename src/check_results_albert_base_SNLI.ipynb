{
 "cells": [
  {
   "cell_type": "markdown",
   "metadata": {},
   "source": [
    "# Results for ALBERT when applying syn tranformation to both premise and hypothesis"
   ]
  },
  {
   "cell_type": "code",
   "execution_count": 1,
   "metadata": {},
   "outputs": [],
   "source": [
    "import pandas as pd\n",
    "import os\n",
    "import numpy as np\n",
    "import matplotlib.pyplot as plt\n",
    "import seaborn as sns\n",
    "from tqdm import tqdm\n",
    "from IPython.display import display, HTML \n",
    "from lr.analysis.util import get_ts_from_results_folder \n",
    "from lr.analysis.util import get_rho_stats_from_result_list\n",
    "from lr.stats.h_testing import get_ks_stats_from_p_values_compared_to_uniform_dist"
   ]
  },
  {
   "cell_type": "markdown",
   "metadata": {},
   "source": [
    "## Get Results"
   ]
  },
  {
   "cell_type": "code",
   "execution_count": 2,
   "metadata": {},
   "outputs": [
    {
     "name": "stderr",
     "output_type": "stream",
     "text": [
      "100%|██████████| 9/9 [00:01<00:00,  8.60it/s]\n"
     ]
    }
   ],
   "source": [
    "all_accs = []\n",
    "all_transformed_accs = []\n",
    "all_paired_t_p_values = []\n",
    "all_dev_plus_diff = []\n",
    "all_time = []\n",
    "\n",
    "m_name = \"albert_base\"\n",
    "folder = \"snli\"\n",
    "\n",
    "test_repetitions = 9\n",
    "batchs = list(range(1, test_repetitions + 1))\n",
    "# batchs.append(9)\n",
    "# batchs = [2]\n",
    "\n",
    "for i in tqdm(batchs):\n",
    "    test_accuracy  = get_ts_from_results_folder(path=\"results/{}/{}/syn_p_h/batch{}/\".format(folder,m_name, i),\n",
    "                                                 stat=\"test_accuracy\")\n",
    "    \n",
    "    transformed_test_accuracy = get_ts_from_results_folder(path=\"results/{}/{}/syn_p_h/batch{}/\".format(folder,m_name, i),\n",
    "                                                           stat=\"transformed_test_accuracy\")\n",
    "    \n",
    "    paired_t_p_value  = get_ts_from_results_folder(path=\"results/{}/{}/syn_p_h/batch{}/\".format(folder,m_name, i),\n",
    "                                                    stat=\"paired_t_p_value\")\n",
    "    \n",
    "    diff  = get_ts_from_results_folder(path=\"results/{}/{}/syn_p_h/batch{}/\".format(folder,m_name, i),\n",
    "                                                    stat=\"dev_plus_accuracy_difference\")\n",
    "    \n",
    "    t_time  = get_ts_from_results_folder(path=\"results/{}/{}/syn_p_h/batch{}/\".format(folder,m_name,i),\n",
    "                                                    stat=\"test_time\")\n",
    "\n",
    "    \n",
    "    all_accs.append(test_accuracy)\n",
    "    all_transformed_accs.append(transformed_test_accuracy)\n",
    "    all_paired_t_p_values.append(paired_t_p_value)\n",
    "    all_dev_plus_diff.append(diff)\n",
    "    all_time.append(t_time)"
   ]
  },
  {
   "cell_type": "code",
   "execution_count": 3,
   "metadata": {},
   "outputs": [
    {
     "name": "stdout",
     "output_type": "stream",
     "text": [
      "success prob = 0.603\n"
     ]
    },
    {
     "data": {
      "text/plain": [
       "0.0    4\n",
       "0.2    6\n",
       "0.4    5\n",
       "0.5    6\n",
       "0.6    6\n",
       "0.8    6\n",
       "1.0    5\n",
       "dtype: int64"
      ]
     },
     "execution_count": 3,
     "metadata": {},
     "output_type": "execute_result"
    }
   ],
   "source": [
    "df = pd.concat(all_accs, 1)\n",
    "df.columns = batchs\n",
    "prob = (df > 0.4).mean(1).mean()\n",
    "print(\"success prob = {:.3f}\".format(prob))\n",
    "(df > 0.4).sum(1)"
   ]
  },
  {
   "cell_type": "code",
   "execution_count": 4,
   "metadata": {},
   "outputs": [
    {
     "data": {
      "text/html": [
       "<div>\n",
       "<style scoped>\n",
       "    .dataframe tbody tr th:only-of-type {\n",
       "        vertical-align: middle;\n",
       "    }\n",
       "\n",
       "    .dataframe tbody tr th {\n",
       "        vertical-align: top;\n",
       "    }\n",
       "\n",
       "    .dataframe thead th {\n",
       "        text-align: right;\n",
       "    }\n",
       "</style>\n",
       "<table border=\"1\" class=\"dataframe\">\n",
       "  <thead>\n",
       "    <tr style=\"text-align: right;\">\n",
       "      <th></th>\n",
       "      <th>1</th>\n",
       "      <th>2</th>\n",
       "      <th>3</th>\n",
       "      <th>4</th>\n",
       "      <th>5</th>\n",
       "      <th>6</th>\n",
       "      <th>7</th>\n",
       "      <th>8</th>\n",
       "      <th>9</th>\n",
       "    </tr>\n",
       "  </thead>\n",
       "  <tbody>\n",
       "    <tr>\n",
       "      <th>0.0</th>\n",
       "      <td>0.329499</td>\n",
       "      <td>0.838762</td>\n",
       "      <td>0.858815</td>\n",
       "      <td>0.342834</td>\n",
       "      <td>0.342834</td>\n",
       "      <td>0.788375</td>\n",
       "      <td>0.329499</td>\n",
       "      <td>0.831128</td>\n",
       "      <td>0.327667</td>\n",
       "    </tr>\n",
       "    <tr>\n",
       "      <th>0.2</th>\n",
       "      <td>0.524430</td>\n",
       "      <td>0.852708</td>\n",
       "      <td>0.329499</td>\n",
       "      <td>0.840187</td>\n",
       "      <td>0.857797</td>\n",
       "      <td>0.833265</td>\n",
       "      <td>0.348229</td>\n",
       "      <td>0.802423</td>\n",
       "      <td>0.000000</td>\n",
       "    </tr>\n",
       "    <tr>\n",
       "      <th>0.4</th>\n",
       "      <td>0.819931</td>\n",
       "      <td>0.327667</td>\n",
       "      <td>0.846804</td>\n",
       "      <td>0.348127</td>\n",
       "      <td>0.770257</td>\n",
       "      <td>0.327667</td>\n",
       "      <td>0.852300</td>\n",
       "      <td>0.353522</td>\n",
       "      <td>0.830924</td>\n",
       "    </tr>\n",
       "    <tr>\n",
       "      <th>0.5</th>\n",
       "      <td>0.436482</td>\n",
       "      <td>0.851384</td>\n",
       "      <td>0.751120</td>\n",
       "      <td>0.327667</td>\n",
       "      <td>0.848025</td>\n",
       "      <td>0.846091</td>\n",
       "      <td>0.396173</td>\n",
       "      <td>0.855456</td>\n",
       "      <td>0.000000</td>\n",
       "    </tr>\n",
       "    <tr>\n",
       "      <th>0.6</th>\n",
       "      <td>0.852911</td>\n",
       "      <td>0.342834</td>\n",
       "      <td>0.852402</td>\n",
       "      <td>0.842427</td>\n",
       "      <td>0.707553</td>\n",
       "      <td>0.329499</td>\n",
       "      <td>0.842732</td>\n",
       "      <td>0.655232</td>\n",
       "      <td>0.342834</td>\n",
       "    </tr>\n",
       "    <tr>\n",
       "      <th>0.8</th>\n",
       "      <td>0.844768</td>\n",
       "      <td>0.329499</td>\n",
       "      <td>0.329499</td>\n",
       "      <td>0.580415</td>\n",
       "      <td>0.806698</td>\n",
       "      <td>0.327667</td>\n",
       "      <td>0.845888</td>\n",
       "      <td>0.516694</td>\n",
       "      <td>0.841714</td>\n",
       "    </tr>\n",
       "    <tr>\n",
       "      <th>1.0</th>\n",
       "      <td>0.524735</td>\n",
       "      <td>0.327667</td>\n",
       "      <td>0.327667</td>\n",
       "      <td>0.782268</td>\n",
       "      <td>0.329499</td>\n",
       "      <td>0.838660</td>\n",
       "      <td>0.785118</td>\n",
       "      <td>0.838660</td>\n",
       "      <td>0.342834</td>\n",
       "    </tr>\n",
       "  </tbody>\n",
       "</table>\n",
       "</div>"
      ],
      "text/plain": [
       "            1         2         3         4         5         6         7  \\\n",
       "0.0  0.329499  0.838762  0.858815  0.342834  0.342834  0.788375  0.329499   \n",
       "0.2  0.524430  0.852708  0.329499  0.840187  0.857797  0.833265  0.348229   \n",
       "0.4  0.819931  0.327667  0.846804  0.348127  0.770257  0.327667  0.852300   \n",
       "0.5  0.436482  0.851384  0.751120  0.327667  0.848025  0.846091  0.396173   \n",
       "0.6  0.852911  0.342834  0.852402  0.842427  0.707553  0.329499  0.842732   \n",
       "0.8  0.844768  0.329499  0.329499  0.580415  0.806698  0.327667  0.845888   \n",
       "1.0  0.524735  0.327667  0.327667  0.782268  0.329499  0.838660  0.785118   \n",
       "\n",
       "            8         9  \n",
       "0.0  0.831128  0.327667  \n",
       "0.2  0.802423  0.000000  \n",
       "0.4  0.353522  0.830924  \n",
       "0.5  0.855456  0.000000  \n",
       "0.6  0.655232  0.342834  \n",
       "0.8  0.516694  0.841714  \n",
       "1.0  0.838660  0.342834  "
      ]
     },
     "execution_count": 4,
     "metadata": {},
     "output_type": "execute_result"
    }
   ],
   "source": [
    "df"
   ]
  },
  {
   "cell_type": "code",
   "execution_count": null,
   "metadata": {},
   "outputs": [],
   "source": [
    "total_time = pd.concat(all_time,1).sum().sum()\n",
    "n_params = 125238531\n",
    "print(\"Time for all experiments = {:.1f} hours\".format(total_time))\n",
    "print(\"Number of paramaters for RoBERTa = {}\".format(n_params))"
   ]
  },
  {
   "cell_type": "markdown",
   "metadata": {},
   "source": [
    "## Accuracy"
   ]
  },
  {
   "cell_type": "code",
   "execution_count": null,
   "metadata": {},
   "outputs": [],
   "source": [
    "rhos, mean_acc, error_acc, _ = get_rho_stats_from_result_list(all_accs)\n",
    "\n",
    "_, mean_acc_t, error_acc_t, _ = get_rho_stats_from_result_list(all_transformed_accs)\n",
    "\n",
    "fig, ax = plt.subplots(figsize=(12,6))\n",
    "ax.errorbar(rhos, mean_acc, yerr=error_acc, fmt='-o', label=\"original test data\");\n",
    "ax.errorbar(rhos, mean_acc_t, yerr=error_acc_t, fmt='-o', label=\"transformed test data\");\n",
    "ax.legend(loc=\"best\");\n",
    "ax.set_xlabel(r\"$\\rho$\", fontsize=14);\n",
    "ax.set_ylabel(\"accuracy\", fontsize=14);\n",
    "ax.set_title(\"ALBERT accuracy\\n\\ndataset: SNLI\\ntransformation: synonym substitution\\ntest repetitions: {}\\n\".format(test_repetitions));\n",
    "fig.tight_layout()\n",
    "fig.savefig('figs/albert_base_acc_snli_syn_p_h.png', bbox_inches=None, pad_inches=0.5)"
   ]
  },
  {
   "cell_type": "markdown",
   "metadata": {},
   "source": [
    "## P-values"
   ]
  },
  {
   "cell_type": "code",
   "execution_count": null,
   "metadata": {},
   "outputs": [],
   "source": [
    "rhos, mean_p_values, error_p_values, min_p_values = get_rho_stats_from_result_list(all_paired_t_p_values)\n",
    "\n",
    "alpha = 0.05\n",
    "alpha_adj = alpha / test_repetitions\n",
    "\n",
    "rejected_ids = []\n",
    "remain_ids = []\n",
    "\n",
    "for i,p in enumerate(min_p_values):\n",
    "    if p < alpha_adj:\n",
    "        rejected_ids.append(i)\n",
    "    else:\n",
    "        remain_ids.append(i)\n",
    "        \n",
    "rhos_rejected = rhos[rejected_ids]\n",
    "rhos_remain = rhos[remain_ids]\n",
    "y_rejected = mean_p_values[rejected_ids]\n",
    "y_remain = mean_p_values[remain_ids]\n",
    "error_rejected = error_p_values[rejected_ids]\n",
    "error_remain = error_p_values[remain_ids]\n",
    "\n",
    "title_msg = \"AlBERT p-values\\n\\ndataset:\"\n",
    "title_msg += \"SNLI\\ntransformation: synonym substitution\\ntest repetitions: {}\\n\".format(test_repetitions)\n",
    "title_msg += \"significance level = {:.1%} \\n\".format(alpha)\n",
    "title_msg += \"adjusted significance level = {:.2%} \\n\".format(alpha_adj)\n",
    "\n",
    "\n",
    "fig, ax = plt.subplots(figsize=(12,6))\n",
    "ax.errorbar(rhos_rejected, y_rejected, yerr=error_rejected, fmt='o', linewidth=0.50, label=\"at least one p-value is smaller than {:.2%}\".format(alpha_adj));\n",
    "ax.errorbar(rhos_remain, y_remain, yerr=error_remain, fmt='o', linewidth=0.50, label=\"all p-values are greater than {:.2%}\".format(alpha_adj));\n",
    "ax.legend(loc=\"best\");\n",
    "ax.set_xlabel(r\"$\\rho$\", fontsize=14);\n",
    "ax.set_ylabel(\"p-value\", fontsize=14);\n",
    "ax.set_title(title_msg);\n",
    "fig.tight_layout()\n",
    "fig.tight_layout()\n",
    "fig.savefig('figs/albert_p_values_snli_syn_p_h.png', bbox_inches=None, pad_inches=0.5)"
   ]
  },
  {
   "cell_type": "markdown",
   "metadata": {},
   "source": [
    "## Accuracy difference"
   ]
  },
  {
   "cell_type": "code",
   "execution_count": null,
   "metadata": {},
   "outputs": [],
   "source": [
    "rhos, diff, _,_ = get_rho_stats_from_result_list(all_dev_plus_diff)\n",
    "_, test_acc, _,_ = get_rho_stats_from_result_list(all_accs)\n",
    "_, test_acc_t, _,_ = get_rho_stats_from_result_list(all_transformed_accs)\n",
    "test_diff = np.abs(test_acc - test_acc_t)\n",
    "\n",
    "fig, ax = plt.subplots(figsize=(12,6))\n",
    "ax.errorbar(rhos, diff, fmt='-o', label=\"validation\");\n",
    "ax.errorbar(rhos, test_diff, fmt='-o', label=\"test\");\n",
    "\n",
    "ax.legend(loc=\"best\");\n",
    "ax.set_xlabel(r\"$\\rho$\", fontsize=14);\n",
    "ax.set_ylabel(\"average accuracy difference\", fontsize=14);\n",
    "ax.set_title(\"Albert accuracy difference\\n\\ndataset: SNLI\\ntransformation: synonym substitution\\ntest repetitions: {}\\n\".format(test_repetitions));\n",
    "fig.tight_layout()\n",
    "fig.savefig('figs/albert_acc_diff_snli_syn_p_h.png', bbox_inches=None, pad_inches=0.5)"
   ]
  },
  {
   "cell_type": "markdown",
   "metadata": {},
   "source": [
    "## Selecting the best $\\rho$"
   ]
  },
  {
   "cell_type": "code",
   "execution_count": null,
   "metadata": {},
   "outputs": [],
   "source": [
    "id_min = np.argmin(diff)\n",
    "min_rho = rhos[id_min]\n",
    "min_rho_test_acc = test_acc[id_min]\n",
    "min_rho_transformed_test_acc = test_acc_t[id_min]\n",
    "test_accuracy_loss_pct = np.round(((min_rho_test_acc  - test_acc[0]) / test_acc[0]) * 100, 1)\n",
    "\n",
    "analysis = {\"dataset\":\"snli\",\n",
    "            \"model\": \"ALBERT\",\n",
    "            \"rho\":min_rho,\n",
    "            \"test_accuracy_loss_pct\": test_accuracy_loss_pct,\n",
    "            \"average_test_accuracy\": min_rho_test_acc,\n",
    "            \"average_transformed_test_accuracy\": min_rho_transformed_test_acc,\n",
    "            \"combined_accuracy\": np.mean([min_rho_test_acc,min_rho_transformed_test_acc])}\n",
    "analysis = pd.DataFrame(analysis, index=[0])\n",
    "analysis"
   ]
  },
  {
   "cell_type": "code",
   "execution_count": null,
   "metadata": {},
   "outputs": [],
   "source": []
  }
 ],
 "metadata": {
  "kernelspec": {
   "display_name": "Python 3",
   "language": "python",
   "name": "python3"
  },
  "language_info": {
   "codemirror_mode": {
    "name": "ipython",
    "version": 3
   },
   "file_extension": ".py",
   "mimetype": "text/x-python",
   "name": "python",
   "nbconvert_exporter": "python",
   "pygments_lexer": "ipython3",
   "version": "3.6.9"
  }
 },
 "nbformat": 4,
 "nbformat_minor": 2
}
