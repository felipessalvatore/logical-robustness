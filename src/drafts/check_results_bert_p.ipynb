{
 "cells": [
  {
   "cell_type": "markdown",
   "metadata": {},
   "source": [
    "# Results for BERT when applying syn tranformation to the premise alone"
   ]
  },
  {
   "cell_type": "code",
   "execution_count": 1,
   "metadata": {},
   "outputs": [],
   "source": [
    "import pandas as pd\n",
    "import numpy as np\n",
    "import matplotlib.pyplot as plt\n",
    "import seaborn as sns\n",
    "from IPython.display import display, HTML \n",
    "from lr.stats.h_testing import get_boot_p_value\n",
    "from lr.analysis.util import get_boots, show_df, get_standart_results"
   ]
  },
  {
   "cell_type": "markdown",
   "metadata": {},
   "source": [
    "## Results for $\\rho = 0$"
   ]
  },
  {
   "cell_type": "code",
   "execution_count": 2,
   "metadata": {},
   "outputs": [
    {
     "data": {
      "text/html": [
       "<table border=\"1\" class=\"dataframe\">\n",
       "  <thead>\n",
       "    <tr style=\"text-align: right;\">\n",
       "      <th></th>\n",
       "      <th>data</th>\n",
       "      <th>model</th>\n",
       "      <th>transformation</th>\n",
       "      <th>rho</th>\n",
       "      <th>dgp_seed</th>\n",
       "      <th>random_state</th>\n",
       "      <th>number_of_simulations</th>\n",
       "      <th>validation_accuracy</th>\n",
       "      <th>transformed_validation_accuracy</th>\n",
       "      <th>accuracy_difference</th>\n",
       "      <th>test_size</th>\n",
       "      <th>standart_error</th>\n",
       "      <th>observable_t_stats</th>\n",
       "      <th>p_value</th>\n",
       "      <th>training_time</th>\n",
       "      <th>test_time</th>\n",
       "    </tr>\n",
       "  </thead>\n",
       "  <tbody>\n",
       "    <tr>\n",
       "      <th>0</th>\n",
       "      <td>snli</td>\n",
       "      <td>bert</td>\n",
       "      <td>wordnet sin tranformation p</td>\n",
       "      <td>0.0</td>\n",
       "      <td>27</td>\n",
       "      <td>1104</td>\n",
       "      <td>1000</td>\n",
       "      <td>0.856940</td>\n",
       "      <td>0.814164</td>\n",
       "      <td>0.042776</td>\n",
       "      <td>9842</td>\n",
       "      <td>0.275497</td>\n",
       "      <td>15.403674</td>\n",
       "      <td>0.0</td>\n",
       "      <td>5.256196</td>\n",
       "      <td>5.956873</td>\n",
       "    </tr>\n",
       "    <tr>\n",
       "      <th>1</th>\n",
       "      <td>snli</td>\n",
       "      <td>bert</td>\n",
       "      <td>wordnet sin tranformation p</td>\n",
       "      <td>0.0</td>\n",
       "      <td>178</td>\n",
       "      <td>432</td>\n",
       "      <td>1000</td>\n",
       "      <td>0.859073</td>\n",
       "      <td>0.817923</td>\n",
       "      <td>0.041150</td>\n",
       "      <td>9842</td>\n",
       "      <td>0.279768</td>\n",
       "      <td>14.592021</td>\n",
       "      <td>0.0</td>\n",
       "      <td>5.125148</td>\n",
       "      <td>5.821662</td>\n",
       "    </tr>\n",
       "  </tbody>\n",
       "</table>"
      ],
      "text/plain": [
       "<IPython.core.display.HTML object>"
      ]
     },
     "metadata": {},
     "output_type": "display_data"
    }
   ],
   "source": [
    "df1 = pd.read_csv(\"results/snli/bert/sin_p/rho_0p00_dgp_seed_27_random_state_1104.csv\")\n",
    "df2 = pd.read_csv(\"results/snli/bert/sin_p/rho_0p00_dgp_seed_178_random_state_432.csv\")\n",
    "df_rho_0 = pd.concat([df1, df2]).reset_index(drop=True)\n",
    "df_rho_0 = get_standart_results(df_rho_0)\n",
    "show_df(df_rho_0)"
   ]
  },
  {
   "cell_type": "markdown",
   "metadata": {},
   "source": [
    "## Results for $\\rho = 0.25$"
   ]
  },
  {
   "cell_type": "code",
   "execution_count": 3,
   "metadata": {},
   "outputs": [
    {
     "data": {
      "text/html": [
       "<table border=\"1\" class=\"dataframe\">\n",
       "  <thead>\n",
       "    <tr style=\"text-align: right;\">\n",
       "      <th></th>\n",
       "      <th>data</th>\n",
       "      <th>model</th>\n",
       "      <th>transformation</th>\n",
       "      <th>rho</th>\n",
       "      <th>dgp_seed</th>\n",
       "      <th>random_state</th>\n",
       "      <th>number_of_simulations</th>\n",
       "      <th>validation_accuracy</th>\n",
       "      <th>transformed_validation_accuracy</th>\n",
       "      <th>accuracy_difference</th>\n",
       "      <th>test_size</th>\n",
       "      <th>standart_error</th>\n",
       "      <th>observable_t_stats</th>\n",
       "      <th>p_value</th>\n",
       "      <th>training_time</th>\n",
       "      <th>test_time</th>\n",
       "    </tr>\n",
       "  </thead>\n",
       "  <tbody>\n",
       "    <tr>\n",
       "      <th>0</th>\n",
       "      <td>snli</td>\n",
       "      <td>bert</td>\n",
       "      <td>wordnet sin tranformation p</td>\n",
       "      <td>0.25</td>\n",
       "      <td>3</td>\n",
       "      <td>45</td>\n",
       "      <td>1000</td>\n",
       "      <td>0.854095</td>\n",
       "      <td>0.825544</td>\n",
       "      <td>0.028551</td>\n",
       "      <td>9842</td>\n",
       "      <td>0.249563</td>\n",
       "      <td>11.349695</td>\n",
       "      <td>0.0</td>\n",
       "      <td>3.934202</td>\n",
       "      <td>4.437278</td>\n",
       "    </tr>\n",
       "    <tr>\n",
       "      <th>1</th>\n",
       "      <td>snli</td>\n",
       "      <td>bert</td>\n",
       "      <td>wordnet sin tranformation p</td>\n",
       "      <td>0.25</td>\n",
       "      <td>90</td>\n",
       "      <td>18</td>\n",
       "      <td>1000</td>\n",
       "      <td>0.857752</td>\n",
       "      <td>0.830522</td>\n",
       "      <td>0.027230</td>\n",
       "      <td>9842</td>\n",
       "      <td>0.247463</td>\n",
       "      <td>10.916499</td>\n",
       "      <td>0.0</td>\n",
       "      <td>3.932224</td>\n",
       "      <td>4.436968</td>\n",
       "    </tr>\n",
       "  </tbody>\n",
       "</table>"
      ],
      "text/plain": [
       "<IPython.core.display.HTML object>"
      ]
     },
     "metadata": {},
     "output_type": "display_data"
    }
   ],
   "source": [
    "df1 = pd.read_csv(\"results/snli/bert/sin_p/rho_0p25_dgp_seed_3_random_state_45.csv\")\n",
    "df2 = pd.read_csv(\"results/snli/bert/sin_p/rho_0p25_dgp_seed_90_random_state_18.csv\")\n",
    "df_rho_0p25 = pd.concat([df1, df2]).reset_index(drop=True)\n",
    "df_rho_0p25 = get_standart_results(df_rho_0p25)\n",
    "show_df(df_rho_0p25)"
   ]
  },
  {
   "cell_type": "markdown",
   "metadata": {},
   "source": [
    "## Results for $\\rho = 0.5$"
   ]
  },
  {
   "cell_type": "code",
   "execution_count": 4,
   "metadata": {},
   "outputs": [
    {
     "data": {
      "text/html": [
       "<table border=\"1\" class=\"dataframe\">\n",
       "  <thead>\n",
       "    <tr style=\"text-align: right;\">\n",
       "      <th></th>\n",
       "      <th>data</th>\n",
       "      <th>model</th>\n",
       "      <th>transformation</th>\n",
       "      <th>rho</th>\n",
       "      <th>dgp_seed</th>\n",
       "      <th>random_state</th>\n",
       "      <th>number_of_simulations</th>\n",
       "      <th>validation_accuracy</th>\n",
       "      <th>transformed_validation_accuracy</th>\n",
       "      <th>accuracy_difference</th>\n",
       "      <th>test_size</th>\n",
       "      <th>standart_error</th>\n",
       "      <th>observable_t_stats</th>\n",
       "      <th>p_value</th>\n",
       "      <th>training_time</th>\n",
       "      <th>test_time</th>\n",
       "    </tr>\n",
       "  </thead>\n",
       "  <tbody>\n",
       "    <tr>\n",
       "      <th>0</th>\n",
       "      <td>snli</td>\n",
       "      <td>bert</td>\n",
       "      <td>wordnet sin tranformation p</td>\n",
       "      <td>0.5</td>\n",
       "      <td>38</td>\n",
       "      <td>712</td>\n",
       "      <td>1000</td>\n",
       "      <td>0.855822</td>\n",
       "      <td>0.836009</td>\n",
       "      <td>0.019813</td>\n",
       "      <td>9842</td>\n",
       "      <td>0.228781</td>\n",
       "      <td>8.591589</td>\n",
       "      <td>0.0</td>\n",
       "      <td>3.956270</td>\n",
       "      <td>4.457993</td>\n",
       "    </tr>\n",
       "    <tr>\n",
       "      <th>1</th>\n",
       "      <td>snli</td>\n",
       "      <td>bert</td>\n",
       "      <td>wordnet sin tranformation p</td>\n",
       "      <td>0.5</td>\n",
       "      <td>122</td>\n",
       "      <td>411</td>\n",
       "      <td>1000</td>\n",
       "      <td>0.855009</td>\n",
       "      <td>0.837330</td>\n",
       "      <td>0.017679</td>\n",
       "      <td>9842</td>\n",
       "      <td>0.226053</td>\n",
       "      <td>7.758864</td>\n",
       "      <td>0.0</td>\n",
       "      <td>3.945771</td>\n",
       "      <td>4.448440</td>\n",
       "    </tr>\n",
       "  </tbody>\n",
       "</table>"
      ],
      "text/plain": [
       "<IPython.core.display.HTML object>"
      ]
     },
     "metadata": {},
     "output_type": "display_data"
    }
   ],
   "source": [
    "df1 = pd.read_csv(\"results/snli/bert/sin_p/rho_0p50_dgp_seed_38_random_state_712.csv\")\n",
    "df2 = pd.read_csv(\"results/snli/bert/sin_p/rho_0p50_dgp_seed_122_random_state_411.csv\")\n",
    "df_rho_0p5 = pd.concat([df1, df2]).reset_index(drop=True)\n",
    "df_rho_0p5 = get_standart_results(df_rho_0p5)\n",
    "show_df(df_rho_0p5)"
   ]
  },
  {
   "cell_type": "markdown",
   "metadata": {},
   "source": [
    "## Results for $\\rho = 0.75$"
   ]
  },
  {
   "cell_type": "code",
   "execution_count": 5,
   "metadata": {},
   "outputs": [
    {
     "data": {
      "text/html": [
       "<table border=\"1\" class=\"dataframe\">\n",
       "  <thead>\n",
       "    <tr style=\"text-align: right;\">\n",
       "      <th></th>\n",
       "      <th>data</th>\n",
       "      <th>model</th>\n",
       "      <th>transformation</th>\n",
       "      <th>rho</th>\n",
       "      <th>dgp_seed</th>\n",
       "      <th>random_state</th>\n",
       "      <th>number_of_simulations</th>\n",
       "      <th>validation_accuracy</th>\n",
       "      <th>transformed_validation_accuracy</th>\n",
       "      <th>accuracy_difference</th>\n",
       "      <th>test_size</th>\n",
       "      <th>standart_error</th>\n",
       "      <th>observable_t_stats</th>\n",
       "      <th>p_value</th>\n",
       "      <th>training_time</th>\n",
       "      <th>test_time</th>\n",
       "    </tr>\n",
       "  </thead>\n",
       "  <tbody>\n",
       "    <tr>\n",
       "      <th>0</th>\n",
       "      <td>snli</td>\n",
       "      <td>bert</td>\n",
       "      <td>wordnet sin tranformation p</td>\n",
       "      <td>0.75</td>\n",
       "      <td>129</td>\n",
       "      <td>1453</td>\n",
       "      <td>1000</td>\n",
       "      <td>0.850742</td>\n",
       "      <td>0.839565</td>\n",
       "      <td>0.011177</td>\n",
       "      <td>9842</td>\n",
       "      <td>0.215431</td>\n",
       "      <td>5.146875</td>\n",
       "      <td>0.0</td>\n",
       "      <td>5.264714</td>\n",
       "      <td>5.953146</td>\n",
       "    </tr>\n",
       "    <tr>\n",
       "      <th>1</th>\n",
       "      <td>snli</td>\n",
       "      <td>bert</td>\n",
       "      <td>wordnet sin tranformation p</td>\n",
       "      <td>0.75</td>\n",
       "      <td>871</td>\n",
       "      <td>24</td>\n",
       "      <td>1000</td>\n",
       "      <td>0.844849</td>\n",
       "      <td>0.831843</td>\n",
       "      <td>0.013005</td>\n",
       "      <td>9842</td>\n",
       "      <td>0.209589</td>\n",
       "      <td>6.156014</td>\n",
       "      <td>0.0</td>\n",
       "      <td>5.250402</td>\n",
       "      <td>5.938955</td>\n",
       "    </tr>\n",
       "  </tbody>\n",
       "</table>"
      ],
      "text/plain": [
       "<IPython.core.display.HTML object>"
      ]
     },
     "metadata": {},
     "output_type": "display_data"
    }
   ],
   "source": [
    "df1 = pd.read_csv(\"results/snli/bert/sin_p/rho_0p75_dgp_seed_129_random_state_1453.csv\")\n",
    "df2 = pd.read_csv(\"results/snli/bert/sin_p/rho_0p75_dgp_seed_871_random_state_24.csv\")\n",
    "df_rho_0p75 = pd.concat([df1, df2]).reset_index(drop=True)\n",
    "df_rho_0p75 = get_standart_results(df_rho_0p75)\n",
    "show_df(df_rho_0p75)"
   ]
  },
  {
   "cell_type": "markdown",
   "metadata": {},
   "source": [
    "## Results for $\\rho = 1.0$"
   ]
  },
  {
   "cell_type": "code",
   "execution_count": 6,
   "metadata": {},
   "outputs": [
    {
     "data": {
      "text/html": [
       "<table border=\"1\" class=\"dataframe\">\n",
       "  <thead>\n",
       "    <tr style=\"text-align: right;\">\n",
       "      <th></th>\n",
       "      <th>data</th>\n",
       "      <th>model</th>\n",
       "      <th>transformation</th>\n",
       "      <th>rho</th>\n",
       "      <th>dgp_seed</th>\n",
       "      <th>random_state</th>\n",
       "      <th>number_of_simulations</th>\n",
       "      <th>validation_accuracy</th>\n",
       "      <th>transformed_validation_accuracy</th>\n",
       "      <th>accuracy_difference</th>\n",
       "      <th>test_size</th>\n",
       "      <th>standart_error</th>\n",
       "      <th>observable_t_stats</th>\n",
       "      <th>p_value</th>\n",
       "      <th>training_time</th>\n",
       "      <th>test_time</th>\n",
       "    </tr>\n",
       "  </thead>\n",
       "  <tbody>\n",
       "    <tr>\n",
       "      <th>0</th>\n",
       "      <td>snli</td>\n",
       "      <td>bert</td>\n",
       "      <td>wordnet sin tranformation p</td>\n",
       "      <td>1.0</td>\n",
       "      <td>158</td>\n",
       "      <td>85</td>\n",
       "      <td>1000</td>\n",
       "      <td>0.851758</td>\n",
       "      <td>0.839870</td>\n",
       "      <td>0.011888</td>\n",
       "      <td>9842</td>\n",
       "      <td>0.207463</td>\n",
       "      <td>5.684643</td>\n",
       "      <td>0.0</td>\n",
       "      <td>3.963439</td>\n",
       "      <td>4.478318</td>\n",
       "    </tr>\n",
       "    <tr>\n",
       "      <th>1</th>\n",
       "      <td>snli</td>\n",
       "      <td>bert</td>\n",
       "      <td>wordnet sin tranformation p</td>\n",
       "      <td>1.0</td>\n",
       "      <td>1013</td>\n",
       "      <td>31</td>\n",
       "      <td>1000</td>\n",
       "      <td>0.853790</td>\n",
       "      <td>0.843528</td>\n",
       "      <td>0.010262</td>\n",
       "      <td>9842</td>\n",
       "      <td>0.201590</td>\n",
       "      <td>5.050230</td>\n",
       "      <td>0.0</td>\n",
       "      <td>3.945335</td>\n",
       "      <td>4.458934</td>\n",
       "    </tr>\n",
       "  </tbody>\n",
       "</table>"
      ],
      "text/plain": [
       "<IPython.core.display.HTML object>"
      ]
     },
     "metadata": {},
     "output_type": "display_data"
    }
   ],
   "source": [
    "df1 = pd.read_csv(\"results/snli/bert/sin_p/rho_1p00_dgp_seed_158_random_state_85.csv\")\n",
    "df2 = pd.read_csv(\"results/snli/bert/sin_p/rho_1p00_dgp_seed_1013_random_state_31.csv\")\n",
    "df_rho_1p0 = pd.concat([df1, df2]).reset_index(drop=True)\n",
    "df_rho_1p0 = get_standart_results(df_rho_1p0)\n",
    "show_df(df_rho_1p0)"
   ]
  },
  {
   "cell_type": "markdown",
   "metadata": {},
   "source": [
    "## Plotting Results"
   ]
  },
  {
   "cell_type": "code",
   "execution_count": 10,
   "metadata": {},
   "outputs": [
    {
     "data": {
      "image/png": "[encoded data removed]",
      "text/plain": [
       "<Figure size 720x360 with 2 Axes>"
      ]
     },
     "metadata": {
      "needs_background": "light"
     },
     "output_type": "display_data"
    },
    {
     "data": {
      "image/png": "[encoded data removed]",
      "text/plain": [
       "<Figure size 864x432 with 1 Axes>"
      ]
     },
     "metadata": {
      "needs_background": "light"
     },
     "output_type": "display_data"
    }
   ],
   "source": [
    "dfs = [df_rho_0, df_rho_0p25, df_rho_0p5, df_rho_0p75, df_rho_1p0]\n",
    "names = [\"0.0\", \"0.25\", \"0.5\", \"0.75\", \"1.00\" ]\n",
    "\n",
    "all_p_values = {}\n",
    "for df, name in zip(dfs, names):\n",
    "    results = df.p_value\n",
    "    all_p_values[name] = results \n",
    "\n",
    "fig, ax = plt.subplots(figsize=(10,5))\n",
    "sns.heatmap(pd.DataFrame(all_p_values), annot=True,  cmap=\"YlGnBu\", linewidths=0.3, ax=ax);\n",
    "ax.set_xlabel(r\"$\\rho$\", fontsize=14);\n",
    "ax.set_ylabel(\"number of tests\", fontsize=14);\n",
    "ax.set_title(\"BERT p-values\\n\\ndataset: SNLI\\ntransformation: synonym substitution only P\\n\");\n",
    "fig.tight_layout()\n",
    "fig.savefig('figs/bert_p_values_snli_sin_p.png', bbox_inches=None, pad_inches=0.5)\n",
    "\n",
    "rhos = []\n",
    "acc_s = []\n",
    "acc_t_s = []\n",
    "\n",
    "for df in dfs:\n",
    "    acc = df.validation_accuracy.values\n",
    "    acc_s.append(acc)\n",
    "    acc_t = df.transformed_validation_accuracy.values\n",
    "    acc_t_s.append(acc_t)\n",
    "    rhos.append(df.rho.values[0])\n",
    "acc_s = np.array(acc_s)\n",
    "acc_t_s = np.array(acc_t_s)\n",
    "\n",
    "acc_c = [\"acc_{}\".format(i) for i in range(acc_s.shape[1])]\n",
    "acc_t_c = [\"acc_t_{}\".format(i) for i in range(acc_t_s.shape[1])]\n",
    "\n",
    "acc = pd.DataFrame(acc_s, index=rhos, columns=acc_c)\n",
    "acc.index.name = \"rho\"\n",
    "acc_t = pd.DataFrame(acc_t_s, index=rhos, columns=acc_t_c)\n",
    "acc_t.index.name = \"rho\"\n",
    "\n",
    "x = acc.mean(1).index\n",
    "y = acc.mean(1).values\n",
    "error = acc.std(1).values\n",
    "\n",
    "x_t = acc_t.mean(1).index\n",
    "y_t = acc_t.mean(1).values\n",
    "error_t = acc_t.std(1).values\n",
    "\n",
    "\n",
    "fig, ax = plt.subplots(figsize=(12,6))\n",
    "ax.errorbar(x, y, yerr=error, fmt='-o', label=\"original validation data\");\n",
    "ax.errorbar(x_t, y_t, yerr=error_t, fmt='-o', label=\"transformed validation data\");\n",
    "ax.legend(loc=\"best\");\n",
    "ax.set_xlabel(r\"$\\rho$\", fontsize=14);\n",
    "ax.set_ylabel(\"accuracy\", fontsize=14);\n",
    "ax.set_title(\"BERT accuracy\\n\\ndataset: SNLI\\ntransformation: synonym substitution only P\\n\");\n",
    "fig.tight_layout()\n",
    "fig.savefig('figs/bert_acc_snli_sin_p.png', bbox_inches=None, pad_inches=0.5)\n"
   ]
  },
  {
   "cell_type": "code",
   "execution_count": 8,
   "metadata": {},
   "outputs": [
    {
     "data": {
      "text/html": [
       "<div>\n",
       "<style scoped>\n",
       "    .dataframe tbody tr th:only-of-type {\n",
       "        vertical-align: middle;\n",
       "    }\n",
       "\n",
       "    .dataframe tbody tr th {\n",
       "        vertical-align: top;\n",
       "    }\n",
       "\n",
       "    .dataframe thead th {\n",
       "        text-align: right;\n",
       "    }\n",
       "</style>\n",
       "<table border=\"1\" class=\"dataframe\">\n",
       "  <thead>\n",
       "    <tr style=\"text-align: right;\">\n",
       "      <th></th>\n",
       "      <th>0.0</th>\n",
       "      <th>0.25</th>\n",
       "      <th>0.5</th>\n",
       "      <th>0.75</th>\n",
       "      <th>1.00</th>\n",
       "    </tr>\n",
       "  </thead>\n",
       "  <tbody>\n",
       "    <tr>\n",
       "      <th>0</th>\n",
       "      <td>0.0</td>\n",
       "      <td>0.0</td>\n",
       "      <td>0.0</td>\n",
       "      <td>0.0</td>\n",
       "      <td>0.0</td>\n",
       "    </tr>\n",
       "    <tr>\n",
       "      <th>1</th>\n",
       "      <td>0.0</td>\n",
       "      <td>0.0</td>\n",
       "      <td>0.0</td>\n",
       "      <td>0.0</td>\n",
       "      <td>0.0</td>\n",
       "    </tr>\n",
       "  </tbody>\n",
       "</table>\n",
       "</div>"
      ],
      "text/plain": [
       "   0.0  0.25  0.5  0.75  1.00\n",
       "0  0.0   0.0  0.0   0.0   0.0\n",
       "1  0.0   0.0  0.0   0.0   0.0"
      ]
     },
     "execution_count": 8,
     "metadata": {},
     "output_type": "execute_result"
    }
   ],
   "source": [
    "pd.DataFrame(all_p_values)"
   ]
  },
  {
   "cell_type": "code",
   "execution_count": null,
   "metadata": {},
   "outputs": [],
   "source": []
  },
  {
   "cell_type": "code",
   "execution_count": null,
   "metadata": {},
   "outputs": [],
   "source": []
  },
  {
   "cell_type": "code",
   "execution_count": null,
   "metadata": {},
   "outputs": [],
   "source": []
  },
  {
   "cell_type": "code",
   "execution_count": null,
   "metadata": {},
   "outputs": [],
   "source": []
  }
 ],
 "metadata": {
  "kernelspec": {
   "display_name": "Python 3",
   "language": "python",
   "name": "python3"
  },
  "language_info": {
   "codemirror_mode": {
    "name": "ipython",
    "version": 3
   },
   "file_extension": ".py",
   "mimetype": "text/x-python",
   "name": "python",
   "nbconvert_exporter": "python",
   "pygments_lexer": "ipython3",
   "version": "3.6.9"
  }
 },
 "nbformat": 4,
 "nbformat_minor": 2
}
