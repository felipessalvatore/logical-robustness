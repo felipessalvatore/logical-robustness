{
 "cells": [
  {
   "cell_type": "code",
   "execution_count": null,
   "metadata": {},
   "outputs": [],
   "source": [
    "# def old_to_new(df):\n",
    "#     columns = ['data', 'model', 'transformation', 'rho', 'search_random_state',\n",
    "#                'dgp_random_state', 'train_random_state', 'boot_random_state',\n",
    "#                'number_of_simulations', 'test_accuracy', 'transformed_test_accuracy',\n",
    "#                'accuracy_difference', 'test_size', 'standart_error',\n",
    "#                'observable_paired_t_stats', 'paired_t_p_value',\n",
    "#                'training_time',\n",
    "#                'test_time']\n",
    "\n",
    "#     fix_columns = ['data', 'model', 'transformation', 'rho',\n",
    "#                    'number_of_simulations', 'accuracy_difference', 'test_size', 'standart_error',\n",
    "#                    'training_time',\n",
    "#                    'test_time']\n",
    "\n",
    "#     dict_ = {}\n",
    "#     dict_['search_random_state'] = df.random_state[0]\n",
    "#     dict_['dgp_random_state'] = df.dgp_seed[0]\n",
    "#     dict_['boot_random_state'] = df.random_state[0]\n",
    "#     dict_['train_random_state'] = df.random_state[0]\n",
    "#     dict_['number_of_simulations'] = df.number_of_simulations[0]\n",
    "#     dict_['test_accuracy'] = df.validation_accuracy[0]\n",
    "#     dict_['transformed_test_accuracy'] = df.transformed_validation_accuracy[0]\n",
    "#     dict_['observable_paired_t_stats'] = df.observable_t_stats[0]\n",
    "#     dict_['paired_t_p_value'] = df.p_value[0]\n",
    "    \n",
    "    \n",
    "#     for c in fix_columns:\n",
    "#         dict_[c] = df.loc[0,c]\n",
    "    \n",
    "#     new_df = pd.DataFrame(dict_, index=[0])\n",
    "#     return new_df[columns]\n",
    "        \n",
    "    \n",
    "    \n",
    "    \n",
    "    \n",
    "    \n",
    "# # b = pd.read_csv(\"results/first version/snli/roberta_base/sin_p_h/rho_0p25_dgp_seed_29_random_state_36.csv\")\n",
    "# # b = b[[c for c in b.columns if c.find(\"boot\") ==-1]]\n",
    "# # b = old_to_new(b)\n",
    "# # b.to_csv(\"results/snli/roberta_base/syn_p_h/batch1/rho_0p25_results.csv\", index=False)"
   ]
  }
 ],
 "metadata": {
  "kernelspec": {
   "display_name": "Python 3",
   "language": "python",
   "name": "python3"
  },
  "language_info": {
   "codemirror_mode": {
    "name": "ipython",
    "version": 3
   },
   "file_extension": ".py",
   "mimetype": "text/x-python",
   "name": "python",
   "nbconvert_exporter": "python",
   "pygments_lexer": "ipython3",
   "version": "3.6.9"
  }
 },
 "nbformat": 4,
 "nbformat_minor": 2
}
