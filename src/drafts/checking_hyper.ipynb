{
 "cells": [
  {
   "cell_type": "code",
   "execution_count": 1,
   "metadata": {},
   "outputs": [],
   "source": [
    "import pandas as pd\n",
    "import glob"
   ]
  },
  {
   "cell_type": "code",
   "execution_count": 2,
   "metadata": {},
   "outputs": [],
   "source": [
    "paths = glob.glob(\"hyperparams/albert_base_mnli/*.csv\")\n",
    "dfs = [pd.read_csv(p) for p in paths]\n",
    "df = pd.concat(dfs)"
   ]
  },
  {
   "cell_type": "code",
   "execution_count": 3,
   "metadata": {},
   "outputs": [
    {
     "data": {
      "text/html": [
       "<div>\n",
       "<style scoped>\n",
       "    .dataframe tbody tr th:only-of-type {\n",
       "        vertical-align: middle;\n",
       "    }\n",
       "\n",
       "    .dataframe tbody tr th {\n",
       "        vertical-align: top;\n",
       "    }\n",
       "\n",
       "    .dataframe thead th {\n",
       "        text-align: right;\n",
       "    }\n",
       "</style>\n",
       "<table border=\"1\" class=\"dataframe\">\n",
       "  <thead>\n",
       "    <tr style=\"text-align: right;\">\n",
       "      <th></th>\n",
       "      <th>search_random_state</th>\n",
       "      <th>number_of_search_trails</th>\n",
       "      <th>expected_val_score</th>\n",
       "      <th>best_val_score</th>\n",
       "      <th>mean_fit_time</th>\n",
       "      <th>search_time</th>\n",
       "      <th>max_seq_length</th>\n",
       "      <th>num_train_epochs</th>\n",
       "      <th>learning_rate</th>\n",
       "      <th>weight_decay</th>\n",
       "      <th>adam_epsilon</th>\n",
       "      <th>max_grad_norm</th>\n",
       "    </tr>\n",
       "  </thead>\n",
       "  <tbody>\n",
       "    <tr>\n",
       "      <th>0</th>\n",
       "      <td>3459</td>\n",
       "      <td>10</td>\n",
       "      <td>0.5140</td>\n",
       "      <td>0.7827</td>\n",
       "      <td>8.967795</td>\n",
       "      <td>51.589894</td>\n",
       "      <td>130</td>\n",
       "      <td>2.0</td>\n",
       "      <td>0.000067</td>\n",
       "      <td>0.006667</td>\n",
       "      <td>2.000000e-08</td>\n",
       "      <td>0.977778</td>\n",
       "    </tr>\n",
       "    <tr>\n",
       "      <th>0</th>\n",
       "      <td>9637</td>\n",
       "      <td>5</td>\n",
       "      <td>0.5159</td>\n",
       "      <td>0.7810</td>\n",
       "      <td>7.910513</td>\n",
       "      <td>40.954845</td>\n",
       "      <td>100</td>\n",
       "      <td>2.0</td>\n",
       "      <td>0.000050</td>\n",
       "      <td>0.007778</td>\n",
       "      <td>1.000000e-08</td>\n",
       "      <td>0.944444</td>\n",
       "    </tr>\n",
       "  </tbody>\n",
       "</table>\n",
       "</div>"
      ],
      "text/plain": [
       "   search_random_state  number_of_search_trails  expected_val_score  \\\n",
       "0                 3459                       10              0.5140   \n",
       "0                 9637                        5              0.5159   \n",
       "\n",
       "   best_val_score  mean_fit_time  search_time  max_seq_length  \\\n",
       "0          0.7827       8.967795    51.589894             130   \n",
       "0          0.7810       7.910513    40.954845             100   \n",
       "\n",
       "   num_train_epochs  learning_rate  weight_decay  adam_epsilon  max_grad_norm  \n",
       "0               2.0       0.000067      0.006667  2.000000e-08       0.977778  \n",
       "0               2.0       0.000050      0.007778  1.000000e-08       0.944444  "
      ]
     },
     "execution_count": 3,
     "metadata": {},
     "output_type": "execute_result"
    }
   ],
   "source": [
    "df"
   ]
  },
  {
   "cell_type": "code",
   "execution_count": 4,
   "metadata": {},
   "outputs": [
    {
     "data": {
      "text/plain": [
       "8.439154424130916"
      ]
     },
     "execution_count": 4,
     "metadata": {},
     "output_type": "execute_result"
    }
   ],
   "source": [
    "df.mean_fit_time.mean()"
   ]
  },
  {
   "cell_type": "code",
   "execution_count": 5,
   "metadata": {},
   "outputs": [
    {
     "data": {
      "text/plain": [
       "0.51495"
      ]
     },
     "execution_count": 5,
     "metadata": {},
     "output_type": "execute_result"
    }
   ],
   "source": [
    "df.expected_val_score.mean()"
   ]
  },
  {
   "cell_type": "code",
   "execution_count": null,
   "metadata": {},
   "outputs": [],
   "source": []
  }
 ],
 "metadata": {
  "kernelspec": {
   "display_name": "Python 3",
   "language": "python",
   "name": "python3"
  },
  "language_info": {
   "codemirror_mode": {
    "name": "ipython",
    "version": 3
   },
   "file_extension": ".py",
   "mimetype": "text/x-python",
   "name": "python",
   "nbconvert_exporter": "python",
   "pygments_lexer": "ipython3",
   "version": "3.6.9"
  }
 },
 "nbformat": 4,
 "nbformat_minor": 2
}
