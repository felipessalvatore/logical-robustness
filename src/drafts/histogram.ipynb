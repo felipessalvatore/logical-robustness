{
 "cells": [
  {
   "cell_type": "code",
   "execution_count": 1,
   "metadata": {},
   "outputs": [],
   "source": [
    "import pandas as pd\n",
    "import matplotlib.pyplot as plt\n",
    "import seaborn as sns\n",
    "import numpy as np\n",
    "from lr.stats.h_testing import *"
   ]
  },
  {
   "cell_type": "code",
   "execution_count": 2,
   "metadata": {},
   "outputs": [],
   "source": [
    "m_results = pd.read_csv(\"raw_results/snli/xgb/syn_p_h/batch1/rho_0p00_results.csv\")\n",
    "\n",
    "def get_paired_t(matched_results):\n",
    "    t_obs, _, _, _ = get_paired_t_statistic(matched_results)\n",
    "    return t_obs\n",
    "\n",
    "boots = get_boots_series_under_H0(matched_results=m_results,\n",
    "                                  stats_function=get_paired_t,\n",
    "                                  number_of_simulations=1000,\n",
    "                                  random_state=123)"
   ]
  },
  {
   "cell_type": "code",
   "execution_count": 46,
   "metadata": {},
   "outputs": [
    {
     "data": {
      "image/png": "[encoded data removed]",
      "text/plain": [
       "<Figure size 576x288 with 1 Axes>"
      ]
     },
     "metadata": {
      "needs_background": "light"
     },
     "output_type": "display_data"
    }
   ],
   "source": [
    "fig, ax = plt.subplots(figsize = (8,4))\n",
    "n, bins, patches = plt.hist(x=boots, bins=\"auto\", color='gray',\n",
    "                            alpha=0.8, rwidth=0.85)\n",
    "\n",
    "for i in range(0,6):\n",
    "    patches[i].set_facecolor('k')\n",
    "for i in range(6,20):    \n",
    "    patches[i].set_facecolor('gray')\n",
    "for i in range(20, len(patches)):\n",
    "    patches[i].set_facecolor('k')\n"
   ]
  },
  {
   "cell_type": "code",
   "execution_count": null,
   "metadata": {},
   "outputs": [],
   "source": []
  }
 ],
 "metadata": {
  "kernelspec": {
   "display_name": "Python 3",
   "language": "python",
   "name": "python3"
  },
  "language_info": {
   "codemirror_mode": {
    "name": "ipython",
    "version": 3
   },
   "file_extension": ".py",
   "mimetype": "text/x-python",
   "name": "python",
   "nbconvert_exporter": "python",
   "pygments_lexer": "ipython3",
   "version": "3.6.9"
  }
 },
 "nbformat": 4,
 "nbformat_minor": 2
}
