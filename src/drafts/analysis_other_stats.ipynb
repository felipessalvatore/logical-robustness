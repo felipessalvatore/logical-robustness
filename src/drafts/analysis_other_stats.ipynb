{
 "cells": [
  {
   "cell_type": "markdown",
   "metadata": {},
   "source": [
    "# Using other test statistics"
   ]
  },
  {
   "cell_type": "code",
   "execution_count": 1,
   "metadata": {},
   "outputs": [],
   "source": [
    "import pandas as pd\n",
    "import numpy as np\n",
    "from lr.stats.h_testing import get_boots_series_under_H0\n",
    "import matplotlib.pyplot as plt"
   ]
  },
  {
   "cell_type": "code",
   "execution_count": 2,
   "metadata": {},
   "outputs": [],
   "source": [
    "model =  \"bert_base\"\n",
    "batch = 3\n",
    "path = \"raw_results/snli/{}/syn_p_h/batch{}/rho_1p00_results.csv\".format(model,batch)\n",
    "df = pd.read_csv(path)"
   ]
  },
  {
   "cell_type": "code",
   "execution_count": 3,
   "metadata": {},
   "outputs": [],
   "source": [
    "def abs_diff(results):\n",
    "    return np.abs((results.A.mean()* 100) - (results.B.mean()* 100)) "
   ]
  },
  {
   "cell_type": "code",
   "execution_count": 4,
   "metadata": {},
   "outputs": [],
   "source": [
    "diff_h0 = get_boots_series_under_H0(df, abs_diff, 5000, None)\n",
    "def upper_tail_f(x): return (diff_h0.sort_values() > x).astype(int).mean()"
   ]
  },
  {
   "cell_type": "code",
   "execution_count": 5,
   "metadata": {},
   "outputs": [
    {
     "data": {
      "image/png": "[encoded data removed]",
      "text/plain": [
       "<Figure size 576x288 with 1 Axes>"
      ]
     },
     "metadata": {
      "needs_background": "light"
     },
     "output_type": "display_data"
    }
   ],
   "source": [
    "# obs = 0.8\n",
    "obs = abs_diff(df)\n",
    "p_value = upper_tail_f(obs)\n",
    "\n",
    "fig, ax = plt.subplots(figsize = (8,4))\n",
    "n, bins, patches = plt.hist(x=diff_h0, bins='auto', color='#0504aa',\n",
    "                            alpha=0.7, rwidth=0.85);\n",
    "plt.axvline(obs, linestyle='--', color='k', label=\"p-value = {:.5f}\".format(p_value));\n",
    "ax.legend(loc=\"best\");"
   ]
  },
  {
   "cell_type": "code",
   "execution_count": null,
   "metadata": {},
   "outputs": [],
   "source": []
  },
  {
   "cell_type": "code",
   "execution_count": null,
   "metadata": {},
   "outputs": [],
   "source": []
  }
 ],
 "metadata": {
  "kernelspec": {
   "display_name": "Python 3",
   "language": "python",
   "name": "python3"
  },
  "language_info": {
   "codemirror_mode": {
    "name": "ipython",
    "version": 3
   },
   "file_extension": ".py",
   "mimetype": "text/x-python",
   "name": "python",
   "nbconvert_exporter": "python",
   "pygments_lexer": "ipython3",
   "version": "3.6.9"
  }
 },
 "nbformat": 4,
 "nbformat_minor": 2
}
