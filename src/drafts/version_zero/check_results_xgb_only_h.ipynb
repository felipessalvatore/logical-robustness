{
 "cells": [
  {
   "cell_type": "markdown",
   "metadata": {},
   "source": [
    "# Results for Gradient Boosting when applying syn tranformation only to hypothesis"
   ]
  },
  {
   "cell_type": "code",
   "execution_count": 1,
   "metadata": {},
   "outputs": [],
   "source": [
    "import pandas as pd\n",
    "import numpy as np\n",
    "import matplotlib.pyplot as plt\n",
    "import seaborn as sns\n",
    "from IPython.display import display, HTML "
   ]
  },
  {
   "cell_type": "markdown",
   "metadata": {},
   "source": [
    "## Loading Results"
   ]
  },
  {
   "cell_type": "code",
   "execution_count": 2,
   "metadata": {},
   "outputs": [],
   "source": [
    "path_0 = \"results/snli/xgb/wordnet_only_h_rho_0p0.csv\"\n",
    "path_0p25 = \"results/snli/xgb/wordnet_only_h_rho_0p25.csv\"\n",
    "path_0p5 = \"results/snli/xgb/wordnet_only_h_rho_0p5.csv\"\n",
    "path_0p75 = \"results/snli/xgb/wordnet_only_h_rho_0p75.csv\"\n",
    "path_1 = \"results/snli/xgb/wordnet_only_h_rho_1p0.csv\""
   ]
  },
  {
   "cell_type": "markdown",
   "metadata": {},
   "source": [
    "## Results for $\\rho = 0$"
   ]
  },
  {
   "cell_type": "code",
   "execution_count": 3,
   "metadata": {},
   "outputs": [
    {
     "data": {
      "text/html": [
       "<table border=\"1\" class=\"dataframe\">\n",
       "  <thead>\n",
       "    <tr style=\"text-align: right;\">\n",
       "      <th></th>\n",
       "      <th>m</th>\n",
       "      <th>train_accuracy_mean</th>\n",
       "      <th>train_accuracy_std</th>\n",
       "      <th>validation_accuracy</th>\n",
       "      <th>transformed_validation_accuracy</th>\n",
       "      <th>observable_t_stats</th>\n",
       "      <th>p_value</th>\n",
       "      <th>transformation_time</th>\n",
       "      <th>training_time</th>\n",
       "      <th>test_time</th>\n",
       "    </tr>\n",
       "  </thead>\n",
       "  <tbody>\n",
       "    <tr>\n",
       "      <th>0</th>\n",
       "      <td>1</td>\n",
       "      <td>0.551597</td>\n",
       "      <td>0.014777</td>\n",
       "      <td>0.559642</td>\n",
       "      <td>0.524588</td>\n",
       "      <td>10.808164</td>\n",
       "      <td>0.0</td>\n",
       "      <td>0.954099</td>\n",
       "      <td>1008.401869</td>\n",
       "      <td>1019.147955</td>\n",
       "    </tr>\n",
       "    <tr>\n",
       "      <th>1</th>\n",
       "      <td>2</td>\n",
       "      <td>0.554217</td>\n",
       "      <td>0.012860</td>\n",
       "      <td>0.562691</td>\n",
       "      <td>0.531904</td>\n",
       "      <td>9.361168</td>\n",
       "      <td>0.0</td>\n",
       "      <td>1.001626</td>\n",
       "      <td>1016.806427</td>\n",
       "      <td>1027.591151</td>\n",
       "    </tr>\n",
       "    <tr>\n",
       "      <th>2</th>\n",
       "      <td>3</td>\n",
       "      <td>0.547093</td>\n",
       "      <td>0.011383</td>\n",
       "      <td>0.553546</td>\n",
       "      <td>0.522353</td>\n",
       "      <td>9.829733</td>\n",
       "      <td>0.0</td>\n",
       "      <td>0.949659</td>\n",
       "      <td>954.177576</td>\n",
       "      <td>964.923795</td>\n",
       "    </tr>\n",
       "    <tr>\n",
       "      <th>3</th>\n",
       "      <td>4</td>\n",
       "      <td>0.539959</td>\n",
       "      <td>0.010100</td>\n",
       "      <td>0.548466</td>\n",
       "      <td>0.518695</td>\n",
       "      <td>8.981321</td>\n",
       "      <td>0.0</td>\n",
       "      <td>0.950220</td>\n",
       "      <td>934.334762</td>\n",
       "      <td>945.038463</td>\n",
       "    </tr>\n",
       "    <tr>\n",
       "      <th>4</th>\n",
       "      <td>5</td>\n",
       "      <td>0.553586</td>\n",
       "      <td>0.011496</td>\n",
       "      <td>0.563808</td>\n",
       "      <td>0.531091</td>\n",
       "      <td>10.619113</td>\n",
       "      <td>0.0</td>\n",
       "      <td>0.949313</td>\n",
       "      <td>979.336345</td>\n",
       "      <td>990.112800</td>\n",
       "    </tr>\n",
       "  </tbody>\n",
       "</table>"
      ],
      "text/plain": [
       "<IPython.core.display.HTML object>"
      ]
     },
     "metadata": {},
     "output_type": "display_data"
    }
   ],
   "source": [
    "results = pd.read_csv(path_0)\n",
    "not_boot_columns = [c for c in results.columns if c.find(\"boot\") == -1]\n",
    "display(HTML(results[not_boot_columns].to_html()))"
   ]
  },
  {
   "cell_type": "markdown",
   "metadata": {},
   "source": [
    "## Results for $\\rho = 0.25$"
   ]
  },
  {
   "cell_type": "code",
   "execution_count": 4,
   "metadata": {},
   "outputs": [
    {
     "data": {
      "text/html": [
       "<table border=\"1\" class=\"dataframe\">\n",
       "  <thead>\n",
       "    <tr style=\"text-align: right;\">\n",
       "      <th></th>\n",
       "      <th>m</th>\n",
       "      <th>train_accuracy_mean</th>\n",
       "      <th>train_accuracy_std</th>\n",
       "      <th>validation_accuracy</th>\n",
       "      <th>transformed_validation_accuracy</th>\n",
       "      <th>observable_t_stats</th>\n",
       "      <th>p_value</th>\n",
       "      <th>transformation_time</th>\n",
       "      <th>training_time</th>\n",
       "      <th>test_time</th>\n",
       "    </tr>\n",
       "  </thead>\n",
       "  <tbody>\n",
       "    <tr>\n",
       "      <th>0</th>\n",
       "      <td>1</td>\n",
       "      <td>0.550757</td>\n",
       "      <td>0.011230</td>\n",
       "      <td>0.563199</td>\n",
       "      <td>0.555477</td>\n",
       "      <td>3.380573</td>\n",
       "      <td>0.002</td>\n",
       "      <td>0.971794</td>\n",
       "      <td>1007.994080</td>\n",
       "      <td>1018.658330</td>\n",
       "    </tr>\n",
       "    <tr>\n",
       "      <th>1</th>\n",
       "      <td>2</td>\n",
       "      <td>0.558517</td>\n",
       "      <td>0.005488</td>\n",
       "      <td>0.566958</td>\n",
       "      <td>0.560252</td>\n",
       "      <td>2.718197</td>\n",
       "      <td>0.006</td>\n",
       "      <td>1.041696</td>\n",
       "      <td>1058.295534</td>\n",
       "      <td>1069.022384</td>\n",
       "    </tr>\n",
       "    <tr>\n",
       "      <th>2</th>\n",
       "      <td>3</td>\n",
       "      <td>0.553207</td>\n",
       "      <td>0.009446</td>\n",
       "      <td>0.563097</td>\n",
       "      <td>0.557610</td>\n",
       "      <td>2.311614</td>\n",
       "      <td>0.018</td>\n",
       "      <td>1.001135</td>\n",
       "      <td>1170.048060</td>\n",
       "      <td>1180.736664</td>\n",
       "    </tr>\n",
       "    <tr>\n",
       "      <th>3</th>\n",
       "      <td>4</td>\n",
       "      <td>0.553022</td>\n",
       "      <td>0.011757</td>\n",
       "      <td>0.559846</td>\n",
       "      <td>0.551209</td>\n",
       "      <td>3.623536</td>\n",
       "      <td>0.002</td>\n",
       "      <td>1.020241</td>\n",
       "      <td>1116.404516</td>\n",
       "      <td>1127.130946</td>\n",
       "    </tr>\n",
       "    <tr>\n",
       "      <th>4</th>\n",
       "      <td>5</td>\n",
       "      <td>0.552969</td>\n",
       "      <td>0.017109</td>\n",
       "      <td>0.561268</td>\n",
       "      <td>0.554664</td>\n",
       "      <td>2.770172</td>\n",
       "      <td>0.012</td>\n",
       "      <td>1.022677</td>\n",
       "      <td>1267.929359</td>\n",
       "      <td>1278.680036</td>\n",
       "    </tr>\n",
       "  </tbody>\n",
       "</table>"
      ],
      "text/plain": [
       "<IPython.core.display.HTML object>"
      ]
     },
     "metadata": {},
     "output_type": "display_data"
    }
   ],
   "source": [
    "results = pd.read_csv(path_0p25)\n",
    "not_boot_columns = [c for c in results.columns if c.find(\"boot\") == -1]\n",
    "display(HTML(results[not_boot_columns].to_html()))"
   ]
  },
  {
   "cell_type": "markdown",
   "metadata": {},
   "source": [
    "## Results for $\\rho = 0.5$"
   ]
  },
  {
   "cell_type": "code",
   "execution_count": 5,
   "metadata": {},
   "outputs": [
    {
     "data": {
      "text/html": [
       "<table border=\"1\" class=\"dataframe\">\n",
       "  <thead>\n",
       "    <tr style=\"text-align: right;\">\n",
       "      <th></th>\n",
       "      <th>m</th>\n",
       "      <th>train_accuracy_mean</th>\n",
       "      <th>train_accuracy_std</th>\n",
       "      <th>validation_accuracy</th>\n",
       "      <th>transformed_validation_accuracy</th>\n",
       "      <th>observable_t_stats</th>\n",
       "      <th>p_value</th>\n",
       "      <th>transformation_time</th>\n",
       "      <th>training_time</th>\n",
       "      <th>test_time</th>\n",
       "    </tr>\n",
       "  </thead>\n",
       "  <tbody>\n",
       "    <tr>\n",
       "      <th>0</th>\n",
       "      <td>1</td>\n",
       "      <td>0.550082</td>\n",
       "      <td>0.006506</td>\n",
       "      <td>0.565332</td>\n",
       "      <td>0.571530</td>\n",
       "      <td>-2.549153</td>\n",
       "      <td>0.014</td>\n",
       "      <td>1.043473</td>\n",
       "      <td>1127.736846</td>\n",
       "      <td>1138.443729</td>\n",
       "    </tr>\n",
       "    <tr>\n",
       "      <th>1</th>\n",
       "      <td>2</td>\n",
       "      <td>0.542652</td>\n",
       "      <td>0.020283</td>\n",
       "      <td>0.542573</td>\n",
       "      <td>0.553038</td>\n",
       "      <td>-4.944602</td>\n",
       "      <td>0.000</td>\n",
       "      <td>1.067047</td>\n",
       "      <td>1070.573902</td>\n",
       "      <td>1081.385627</td>\n",
       "    </tr>\n",
       "    <tr>\n",
       "      <th>2</th>\n",
       "      <td>3</td>\n",
       "      <td>0.531735</td>\n",
       "      <td>0.018101</td>\n",
       "      <td>0.534343</td>\n",
       "      <td>0.545113</td>\n",
       "      <td>-4.755427</td>\n",
       "      <td>0.000</td>\n",
       "      <td>1.081834</td>\n",
       "      <td>1106.711587</td>\n",
       "      <td>1117.474586</td>\n",
       "    </tr>\n",
       "    <tr>\n",
       "      <th>3</th>\n",
       "      <td>4</td>\n",
       "      <td>0.537145</td>\n",
       "      <td>0.022471</td>\n",
       "      <td>0.538102</td>\n",
       "      <td>0.545316</td>\n",
       "      <td>-3.148604</td>\n",
       "      <td>0.000</td>\n",
       "      <td>1.085878</td>\n",
       "      <td>832.332559</td>\n",
       "      <td>843.092467</td>\n",
       "    </tr>\n",
       "    <tr>\n",
       "      <th>4</th>\n",
       "      <td>5</td>\n",
       "      <td>0.555620</td>\n",
       "      <td>0.006336</td>\n",
       "      <td>0.563707</td>\n",
       "      <td>0.576814</td>\n",
       "      <td>-5.494044</td>\n",
       "      <td>0.000</td>\n",
       "      <td>1.074020</td>\n",
       "      <td>1520.319157</td>\n",
       "      <td>1531.103914</td>\n",
       "    </tr>\n",
       "  </tbody>\n",
       "</table>"
      ],
      "text/plain": [
       "<IPython.core.display.HTML object>"
      ]
     },
     "metadata": {},
     "output_type": "display_data"
    }
   ],
   "source": [
    "results = pd.read_csv(path_0p5)\n",
    "not_boot_columns = [c for c in results.columns if c.find(\"boot\") == -1]\n",
    "display(HTML(results[not_boot_columns].to_html()))"
   ]
  },
  {
   "cell_type": "markdown",
   "metadata": {},
   "source": [
    "## Results for $\\rho = 0.75$"
   ]
  },
  {
   "cell_type": "code",
   "execution_count": 6,
   "metadata": {},
   "outputs": [
    {
     "data": {
      "text/html": [
       "<table border=\"1\" class=\"dataframe\">\n",
       "  <thead>\n",
       "    <tr style=\"text-align: right;\">\n",
       "      <th></th>\n",
       "      <th>m</th>\n",
       "      <th>train_accuracy_mean</th>\n",
       "      <th>train_accuracy_std</th>\n",
       "      <th>validation_accuracy</th>\n",
       "      <th>transformed_validation_accuracy</th>\n",
       "      <th>observable_t_stats</th>\n",
       "      <th>p_value</th>\n",
       "      <th>transformation_time</th>\n",
       "      <th>training_time</th>\n",
       "      <th>test_time</th>\n",
       "    </tr>\n",
       "  </thead>\n",
       "  <tbody>\n",
       "    <tr>\n",
       "      <th>0</th>\n",
       "      <td>1</td>\n",
       "      <td>0.546195</td>\n",
       "      <td>0.017918</td>\n",
       "      <td>0.542471</td>\n",
       "      <td>0.560557</td>\n",
       "      <td>-7.167284</td>\n",
       "      <td>0.0</td>\n",
       "      <td>1.098487</td>\n",
       "      <td>1275.953255</td>\n",
       "      <td>1286.630761</td>\n",
       "    </tr>\n",
       "    <tr>\n",
       "      <th>1</th>\n",
       "      <td>2</td>\n",
       "      <td>0.545360</td>\n",
       "      <td>0.007240</td>\n",
       "      <td>0.537086</td>\n",
       "      <td>0.554867</td>\n",
       "      <td>-7.121307</td>\n",
       "      <td>0.0</td>\n",
       "      <td>1.120548</td>\n",
       "      <td>845.415045</td>\n",
       "      <td>856.126991</td>\n",
       "    </tr>\n",
       "    <tr>\n",
       "      <th>2</th>\n",
       "      <td>3</td>\n",
       "      <td>0.542824</td>\n",
       "      <td>0.009281</td>\n",
       "      <td>0.536476</td>\n",
       "      <td>0.558220</td>\n",
       "      <td>-8.210469</td>\n",
       "      <td>0.0</td>\n",
       "      <td>1.133294</td>\n",
       "      <td>1185.618433</td>\n",
       "      <td>1196.337941</td>\n",
       "    </tr>\n",
       "    <tr>\n",
       "      <th>3</th>\n",
       "      <td>4</td>\n",
       "      <td>0.543304</td>\n",
       "      <td>0.010429</td>\n",
       "      <td>0.539829</td>\n",
       "      <td>0.560354</td>\n",
       "      <td>-7.839982</td>\n",
       "      <td>0.0</td>\n",
       "      <td>1.130811</td>\n",
       "      <td>851.127088</td>\n",
       "      <td>861.918064</td>\n",
       "    </tr>\n",
       "    <tr>\n",
       "      <th>4</th>\n",
       "      <td>5</td>\n",
       "      <td>0.539784</td>\n",
       "      <td>0.016673</td>\n",
       "      <td>0.537086</td>\n",
       "      <td>0.559947</td>\n",
       "      <td>-8.881036</td>\n",
       "      <td>0.0</td>\n",
       "      <td>1.133732</td>\n",
       "      <td>900.827560</td>\n",
       "      <td>911.620656</td>\n",
       "    </tr>\n",
       "  </tbody>\n",
       "</table>"
      ],
      "text/plain": [
       "<IPython.core.display.HTML object>"
      ]
     },
     "metadata": {},
     "output_type": "display_data"
    }
   ],
   "source": [
    "results = pd.read_csv(path_0p75)\n",
    "not_boot_columns = [c for c in results.columns if c.find(\"boot\") == -1]\n",
    "display(HTML(results[not_boot_columns].to_html()))"
   ]
  },
  {
   "cell_type": "markdown",
   "metadata": {},
   "source": [
    "## Results for $\\rho = 1.0$"
   ]
  },
  {
   "cell_type": "code",
   "execution_count": 7,
   "metadata": {},
   "outputs": [
    {
     "data": {
      "text/html": [
       "<table border=\"1\" class=\"dataframe\">\n",
       "  <thead>\n",
       "    <tr style=\"text-align: right;\">\n",
       "      <th></th>\n",
       "      <th>m</th>\n",
       "      <th>train_accuracy_mean</th>\n",
       "      <th>train_accuracy_std</th>\n",
       "      <th>validation_accuracy</th>\n",
       "      <th>transformed_validation_accuracy</th>\n",
       "      <th>observable_t_stats</th>\n",
       "      <th>p_value</th>\n",
       "      <th>transformation_time</th>\n",
       "      <th>training_time</th>\n",
       "      <th>test_time</th>\n",
       "    </tr>\n",
       "  </thead>\n",
       "  <tbody>\n",
       "    <tr>\n",
       "      <th>0</th>\n",
       "      <td>1</td>\n",
       "      <td>0.544068</td>\n",
       "      <td>0.011243</td>\n",
       "      <td>0.522353</td>\n",
       "      <td>0.549482</td>\n",
       "      <td>-9.910961</td>\n",
       "      <td>0.0</td>\n",
       "      <td>1.147992</td>\n",
       "      <td>1334.182057</td>\n",
       "      <td>1344.866584</td>\n",
       "    </tr>\n",
       "    <tr>\n",
       "      <th>1</th>\n",
       "      <td>2</td>\n",
       "      <td>0.553342</td>\n",
       "      <td>0.011836</td>\n",
       "      <td>0.536273</td>\n",
       "      <td>0.566247</td>\n",
       "      <td>-10.300856</td>\n",
       "      <td>0.0</td>\n",
       "      <td>1.165942</td>\n",
       "      <td>1248.870708</td>\n",
       "      <td>1259.628432</td>\n",
       "    </tr>\n",
       "    <tr>\n",
       "      <th>2</th>\n",
       "      <td>3</td>\n",
       "      <td>0.539494</td>\n",
       "      <td>0.020535</td>\n",
       "      <td>0.517984</td>\n",
       "      <td>0.550803</td>\n",
       "      <td>-11.360291</td>\n",
       "      <td>0.0</td>\n",
       "      <td>1.168704</td>\n",
       "      <td>980.596656</td>\n",
       "      <td>991.313729</td>\n",
       "    </tr>\n",
       "    <tr>\n",
       "      <th>3</th>\n",
       "      <td>4</td>\n",
       "      <td>0.551490</td>\n",
       "      <td>0.032095</td>\n",
       "      <td>0.534241</td>\n",
       "      <td>0.569396</td>\n",
       "      <td>-11.772275</td>\n",
       "      <td>0.0</td>\n",
       "      <td>1.150142</td>\n",
       "      <td>1289.392732</td>\n",
       "      <td>1300.166988</td>\n",
       "    </tr>\n",
       "    <tr>\n",
       "      <th>4</th>\n",
       "      <td>5</td>\n",
       "      <td>0.543768</td>\n",
       "      <td>0.010153</td>\n",
       "      <td>0.514936</td>\n",
       "      <td>0.542776</td>\n",
       "      <td>-9.520021</td>\n",
       "      <td>0.0</td>\n",
       "      <td>1.173644</td>\n",
       "      <td>1206.137258</td>\n",
       "      <td>1216.885328</td>\n",
       "    </tr>\n",
       "  </tbody>\n",
       "</table>"
      ],
      "text/plain": [
       "<IPython.core.display.HTML object>"
      ]
     },
     "metadata": {},
     "output_type": "display_data"
    }
   ],
   "source": [
    "results = pd.read_csv(path_1)\n",
    "not_boot_columns = [c for c in results.columns if c.find(\"boot\") == -1]\n",
    "display(HTML(results[not_boot_columns].to_html()))"
   ]
  },
  {
   "cell_type": "markdown",
   "metadata": {},
   "source": [
    "### Vizualizing all p-values"
   ]
  },
  {
   "cell_type": "code",
   "execution_count": 8,
   "metadata": {},
   "outputs": [
    {
     "data": {
      "image/png": "[encoded data removed]",
      "text/plain": [
       "<Figure size 720x360 with 2 Axes>"
      ]
     },
     "metadata": {
      "needs_background": "light"
     },
     "output_type": "display_data"
    }
   ],
   "source": [
    "paths = [path_0, path_0p25, path_0p5, path_0p75, path_1]\n",
    "names = [r\"$\\rho = 0$\", r\"$\\rho = 0.25$\", r\"$\\rho = 0.5$\", r\"$\\rho = 0.75$\", r\"$\\rho = 1$\"]\n",
    "\n",
    "all_p_values = {}\n",
    "for path, name in zip(paths, names):\n",
    "    results = pd.read_csv(path).p_value\n",
    "    all_p_values[name] = results \n",
    "\n",
    "fig, ax = plt.subplots(figsize=(10,5))\n",
    "sns.heatmap(pd.DataFrame(all_p_values), annot=True, cmap=\"Reds\", ax=ax);"
   ]
  },
  {
   "cell_type": "code",
   "execution_count": null,
   "metadata": {},
   "outputs": [],
   "source": []
  },
  {
   "cell_type": "code",
   "execution_count": null,
   "metadata": {},
   "outputs": [],
   "source": []
  },
  {
   "cell_type": "code",
   "execution_count": null,
   "metadata": {},
   "outputs": [],
   "source": []
  },
  {
   "cell_type": "code",
   "execution_count": null,
   "metadata": {},
   "outputs": [],
   "source": []
  },
  {
   "cell_type": "code",
   "execution_count": null,
   "metadata": {},
   "outputs": [],
   "source": []
  },
  {
   "cell_type": "code",
   "execution_count": null,
   "metadata": {},
   "outputs": [],
   "source": []
  }
 ],
 "metadata": {
  "kernelspec": {
   "display_name": "Python 3",
   "language": "python",
   "name": "python3"
  },
  "language_info": {
   "codemirror_mode": {
    "name": "ipython",
    "version": 3
   },
   "file_extension": ".py",
   "mimetype": "text/x-python",
   "name": "python",
   "nbconvert_exporter": "python",
   "pygments_lexer": "ipython3",
   "version": "3.6.9"
  }
 },
 "nbformat": 4,
 "nbformat_minor": 2
}
