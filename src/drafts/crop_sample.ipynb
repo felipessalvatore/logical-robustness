{
 "cells": [
  {
   "cell_type": "code",
   "execution_count": 1,
   "metadata": {},
   "outputs": [],
   "source": [
    "import pandas as pd"
   ]
  },
  {
   "cell_type": "code",
   "execution_count": 2,
   "metadata": {},
   "outputs": [],
   "source": [
    "df_train_sample = pd.read_csv(\"data/snli/train_sample.csv\")\n",
    "df_train = pd.read_csv(\"data/snli/train.csv\")\n",
    "# df_train_t = pd.read_csv(\"data/snli/train_p_h_syn_noun.csv\")\n",
    "n = 10000"
   ]
  },
  {
   "cell_type": "code",
   "execution_count": 13,
   "metadata": {},
   "outputs": [],
   "source": [
    "sample2w = list(df_train_sample.premise.map(lambda x: \"_\".join(x.split(\" \")[:2])).values)\n",
    "\n",
    "# check_is_in"
   ]
  },
  {
   "cell_type": "code",
   "execution_count": 16,
   "metadata": {},
   "outputs": [
    {
     "name": "stdout",
     "output_type": "stream",
     "text": [
      "409 µs ± 3.76 µs per loop (mean ± std. dev. of 7 runs, 1000 loops each)\n"
     ]
    }
   ],
   "source": [
    "%timeit \"sfsf\" in sample2w"
   ]
  },
  {
   "cell_type": "code",
   "execution_count": 36,
   "metadata": {},
   "outputs": [
    {
     "data": {
      "text/plain": [
       "(10000, 4)"
      ]
     },
     "execution_count": 36,
     "metadata": {},
     "output_type": "execute_result"
    }
   ],
   "source": [
    "df = df_train.sample(160000).copy()\n",
    "\n",
    "# def check_in(df):\n",
    "df.loc[:, \"f2\"] = df.premise.map(lambda x: \"_\".join(x.split(\" \")[:2]))\n",
    "df = (df[~df.f2.isin(sample2w)]).head(10000)\n",
    "df.shape"
   ]
  },
  {
   "cell_type": "code",
   "execution_count": 40,
   "metadata": {},
   "outputs": [
    {
     "data": {
      "text/html": [
       "<div>\n",
       "<style scoped>\n",
       "    .dataframe tbody tr th:only-of-type {\n",
       "        vertical-align: middle;\n",
       "    }\n",
       "\n",
       "    .dataframe tbody tr th {\n",
       "        vertical-align: top;\n",
       "    }\n",
       "\n",
       "    .dataframe thead th {\n",
       "        text-align: right;\n",
       "    }\n",
       "</style>\n",
       "<table border=\"1\" class=\"dataframe\">\n",
       "  <thead>\n",
       "    <tr style=\"text-align: right;\">\n",
       "      <th></th>\n",
       "      <th>premise</th>\n",
       "      <th>hypothesis</th>\n",
       "      <th>label</th>\n",
       "    </tr>\n",
       "  </thead>\n",
       "  <tbody>\n",
       "    <tr>\n",
       "      <th>528140</th>\n",
       "      <td>A Street performer is interacting with a young...</td>\n",
       "      <td>the street performer practices in his small ap...</td>\n",
       "      <td>contradiction</td>\n",
       "    </tr>\n",
       "    <tr>\n",
       "      <th>33833</th>\n",
       "      <td>Two vehicles or trailers going away from the c...</td>\n",
       "      <td>Two vehicles are going away from the camera.</td>\n",
       "      <td>entailment</td>\n",
       "    </tr>\n",
       "    <tr>\n",
       "      <th>109887</th>\n",
       "      <td>Three seated people eating and drinking near t...</td>\n",
       "      <td>Three people are eating near a tree.</td>\n",
       "      <td>entailment</td>\n",
       "    </tr>\n",
       "    <tr>\n",
       "      <th>7603</th>\n",
       "      <td>Two buildings beyond a concrete wall facing a ...</td>\n",
       "      <td>A women is on a cellphone.</td>\n",
       "      <td>entailment</td>\n",
       "    </tr>\n",
       "    <tr>\n",
       "      <th>536000</th>\n",
       "      <td>Bike racers are starting the race by peddling ...</td>\n",
       "      <td>Bike racers begin the race.</td>\n",
       "      <td>entailment</td>\n",
       "    </tr>\n",
       "  </tbody>\n",
       "</table>\n",
       "</div>"
      ],
      "text/plain": [
       "                                                  premise  \\\n",
       "528140  A Street performer is interacting with a young...   \n",
       "33833   Two vehicles or trailers going away from the c...   \n",
       "109887  Three seated people eating and drinking near t...   \n",
       "7603    Two buildings beyond a concrete wall facing a ...   \n",
       "536000  Bike racers are starting the race by peddling ...   \n",
       "\n",
       "                                               hypothesis          label  \n",
       "528140  the street performer practices in his small ap...  contradiction  \n",
       "33833        Two vehicles are going away from the camera.     entailment  \n",
       "109887               Three people are eating near a tree.     entailment  \n",
       "7603                           A women is on a cellphone.     entailment  \n",
       "536000                        Bike racers begin the race.     entailment  "
      ]
     },
     "execution_count": 40,
     "metadata": {},
     "output_type": "execute_result"
    }
   ],
   "source": [
    "df = df.drop(\"f2\",1)\n",
    "df.head()"
   ]
  },
  {
   "cell_type": "code",
   "execution_count": 41,
   "metadata": {},
   "outputs": [],
   "source": [
    "id_= df.index"
   ]
  },
  {
   "cell_type": "code",
   "execution_count": 44,
   "metadata": {},
   "outputs": [],
   "source": [
    "df.loc[:,\"original_index\"] = df.index\n",
    "df = df.reset_index(drop=True)"
   ]
  },
  {
   "cell_type": "code",
   "execution_count": 46,
   "metadata": {},
   "outputs": [],
   "source": [
    "df.to_csv(\"data/snli/train_not_in_sample.csv\",index=False)"
   ]
  },
  {
   "cell_type": "code",
   "execution_count": null,
   "metadata": {},
   "outputs": [],
   "source": []
  }
 ],
 "metadata": {
  "kernelspec": {
   "display_name": "Python 3",
   "language": "python",
   "name": "python3"
  },
  "language_info": {
   "codemirror_mode": {
    "name": "ipython",
    "version": 3
   },
   "file_extension": ".py",
   "mimetype": "text/x-python",
   "name": "python",
   "nbconvert_exporter": "python",
   "pygments_lexer": "ipython3",
   "version": "3.6.9"
  }
 },
 "nbformat": 4,
 "nbformat_minor": 2
}
