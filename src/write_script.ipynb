{
 "cells": [
  {
   "cell_type": "code",
   "execution_count": null,
   "metadata": {},
   "outputs": [],
   "source": [
    "import os"
   ]
  },
  {
   "cell_type": "code",
   "execution_count": 5,
   "metadata": {},
   "outputs": [],
   "source": [
    "if not os.path.exists(\"results/snli/xgb/syn_p_h/batch33\"): \n",
    "    os.mkdir(\"results/snli/xgb/syn_p_h/batch33\")\n",
    "else:\n",
    "    exit()"
   ]
  },
  {
   "cell_type": "code",
   "execution_count": null,
   "metadata": {},
   "outputs": [],
   "source": [
    "import numpy as np\n",
    "import argparse\n",
    "b = 4\n",
    "all_rhos = np.array(range(0, 101)) / 100\n",
    "dgp_seeds = range(1, 50000)\n",
    "train_seeds = range(1, 50000)\n",
    "boot_seeds = range(1, 50000)\n",
    "\n",
    "with open(\"xgb_script.sh\", \"w\") as file:\n",
    "    \n",
    "    for rho in all_rhos:\n",
    "        dgp = np.random.choice(dgp_seeds)\n",
    "        train = np.random.choice(train_seeds)\n",
    "        boot = np.random.choice(boot_seeds)\n",
    "\n",
    "        command = \"python wordnet_syn_test_xgb.py {:.2f} 455 {} {} {} 16\\n\".format(rho,\n",
    "                                                                                 dgp,\n",
    "                                                                                 train,\n",
    "                                                                                 boot)\n",
    "        file.write(command)\n",
    "    file.write(\"mv results/snli/xgb/syn_p_h/rho_* results/snli/xgb/syn_p_h/batch{}\\n\".format(b))\n",
    "    file.write(\"mv raw_results/snli/xgb/syn_p_h/rho_* raw_results/snli/xgb/syn_p_h/batch{}\".format(b))\n"
   ]
  },
  {
   "cell_type": "code",
   "execution_count": null,
   "metadata": {},
   "outputs": [],
   "source": []
  }
 ],
 "metadata": {
  "kernelspec": {
   "display_name": "Python 3",
   "language": "python",
   "name": "python3"
  },
  "language_info": {
   "codemirror_mode": {
    "name": "ipython",
    "version": 3
   },
   "file_extension": ".py",
   "mimetype": "text/x-python",
   "name": "python",
   "nbconvert_exporter": "python",
   "pygments_lexer": "ipython3",
   "version": "3.6.9"
  }
 },
 "nbformat": 4,
 "nbformat_minor": 2
}
