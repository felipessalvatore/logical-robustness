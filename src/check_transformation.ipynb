{
 "cells": [
  {
   "cell_type": "code",
   "execution_count": null,
   "metadata": {},
   "outputs": [],
   "source": [
    "import pandas as pd\n",
    "from IPython.display import display, HTML\n",
    "from lr.text_processing.util import pre_process_nli_df\n",
    "from lr.training.util import filter_df_by_label\n",
    "from lr.text_processing.transformations.wordnet import path_base_transformation\n",
    "from lr.text_processing.transformations.wordnet import path_base_transformation_p\n",
    "from lr.text_processing.transformations.wordnet import path_base_transformation_h\n",
    "import numpy as np\n",
    "import matplotlib.pyplot as plt"
   ]
  },
  {
   "cell_type": "code",
   "execution_count": null,
   "metadata": {},
   "outputs": [],
   "source": [
    "from lr.stats.h_testing import DGP"
   ]
  },
  {
   "cell_type": "code",
   "execution_count": null,
   "metadata": {},
   "outputs": [],
   "source": [
    "# train = pd.read_csv(\"data/mnli/train.csv\")\n",
    "# dev = pd.read_csv(\"data/mnli/dev.csv\")\n",
    "# train = train.sample(100000)\n",
    "# dev = dev.sample(1000)\n",
    "\n",
    "# train.to_csv(\"data/mnli/train_sample.csv\", index=False)\n",
    "# train.to_csv(\"data/mnli/dev_sample.csv\", index=False)"
   ]
  },
  {
   "cell_type": "code",
   "execution_count": null,
   "metadata": {},
   "outputs": [],
   "source": [
    "original_path = \"data/snli/test.csv\" \n",
    "transformed_path = \"data/snli/test_p_h_syn_noun.csv\"\n",
    "\n",
    "df = pd.read_csv(original_path)\n",
    "df = filter_df_by_label(df.dropna()).reset_index(drop=True)\n",
    "pre_process_nli_df(df)\n",
    "\n",
    "df_t = path_base_transformation(df, transformed_path)"
   ]
  },
  {
   "cell_type": "code",
   "execution_count": null,
   "metadata": {},
   "outputs": [],
   "source": [
    "df.loc[:,\"o_index\"] = df.index.values\n",
    "f = lambda df: path_base_transformation(df, transformed_path)\n",
    "\n",
    "m = DGP(df, f, 0.5)"
   ]
  },
  {
   "cell_type": "code",
   "execution_count": null,
   "metadata": {},
   "outputs": [],
   "source": [
    "m.sample_transform()"
   ]
  },
  {
   "cell_type": "code",
   "execution_count": null,
   "metadata": {},
   "outputs": [],
   "source": [
    "df.tail()"
   ]
  },
  {
   "cell_type": "code",
   "execution_count": null,
   "metadata": {},
   "outputs": [],
   "source": [
    "display(HTML(df.head(5).to_html()))"
   ]
  },
  {
   "cell_type": "code",
   "execution_count": null,
   "metadata": {},
   "outputs": [],
   "source": [
    "display(HTML(df_t.head(5).to_html()))"
   ]
  },
  {
   "cell_type": "code",
   "execution_count": null,
   "metadata": {},
   "outputs": [],
   "source": [
    "def e(alpha, n):\n",
    "    return np.sqrt(np.log(2/alpha) / (2*n))\n",
    "\n",
    "e95 = lambda n: e(0.05, n)\n",
    "x = np.array(range(1,401))\n",
    "\n",
    "plt.plot(x, e95(x),color=\"blue\");\n",
    "p = np.random.uniform(0.5,1)\n",
    "eps = e95(x)\n",
    "n = eps.argmin()\n",
    "e_id = eps[n]\n",
    "\n",
    "\n",
    "print(\"n = {} | e_n = {:.1%}\".format(x[n], e_id))"
   ]
  },
  {
   "cell_type": "code",
   "execution_count": null,
   "metadata": {},
   "outputs": [],
   "source": [
    "samples = 500\n",
    "good = []\n",
    "bad = []\n",
    "count = 0\n",
    "\n",
    "for _ in range(samples):\n",
    "    count += 1\n",
    "    original = df.sample()\n",
    "    id_ = original.index[0]\n",
    "    print(\"\\noriginal\\n\")\n",
    "    display(HTML(original.to_html()))\n",
    "    modified = df_t.loc[id_].to_frame().transpose()\n",
    "    print()\n",
    "    print(\"\\nmodified\\n\")\n",
    "    display(HTML(modified.to_html()))\n",
    "    print(\"\\ndecide\\n\")\n",
    "    decision = input()\n",
    "    if decision == \"y\":\n",
    "        good.append(id_)\n",
    "    elif decision ==\"n\":\n",
    "        bad.append(id_)\n",
    "    else:\n",
    "        break"
   ]
  },
  {
   "cell_type": "markdown",
   "metadata": {},
   "source": [
    "## CI"
   ]
  },
  {
   "cell_type": "code",
   "execution_count": null,
   "metadata": {},
   "outputs": [],
   "source": [
    "n =  count-1\n",
    "g = len(good) / n\n",
    "print(\"count = {}\\n\".format(n))\n",
    "print(\"len(good) = {}\\n\".format(len(good)))\n",
    "print(\"good pct = {:.3f}\\n\".format(g))\n"
   ]
  },
  {
   "cell_type": "code",
   "execution_count": null,
   "metadata": {},
   "outputs": [],
   "source": [
    "# all_ns = [121, 26, 56, 69,\n",
    "#           33, 38, 37, 20]\n",
    "\n",
    "# all_good = [101, 22, 45, 58,\n",
    "#             27, 33, 32, 19]\n",
    "\n",
    "# assert len(all_ns) == len(all_good)\n",
    "\n",
    "# n = np.sum(all_ns)\n",
    "# g = np.sum(all_good)\n",
    "# pct = g / n\n",
    "\n",
    "# l = pct - e95(n)\n",
    "# u = pct + e95(n) \n",
    "\n",
    "# print(\"count = {}\\n\".format(n))\n",
    "# print(\"good pct = {:.1%}\\n\".format(pct))\n",
    "# print(\"e95 = {:.2%}\\n\".format(e95(n)))\n",
    "# print(\"good 95% pct CI = ({:.1%}, {:.1%})\\n\".format(l,u))\n"
   ]
  },
  {
   "cell_type": "markdown",
   "metadata": {},
   "source": [
    "## gathering results"
   ]
  },
  {
   "cell_type": "code",
   "execution_count": null,
   "metadata": {},
   "outputs": [],
   "source": [
    "# dict_ = {\"data\": [\"SNLI\", \"SNLI\", \"SNLI\",\n",
    "#                   \"MNLI\"],\n",
    "#          \"transformation\": [\"Syn Sub P and H\",\n",
    "#                             \"Syn Sub P only\",\n",
    "#                             \"Syn Sub H only\",\n",
    "#                             \"Syn Sub P and H\"],\n",
    "#          \"acceptance\": [\"82.2%\", \"85.0%\",\n",
    "#                         \"91.5%\", \"{:.1%}\".format(pct)],\n",
    "#          \"lower\": [\"75.5%\", \"78.2%\",\n",
    "#                    \"84.7%\", \"{:.1%}\".format(l)],\n",
    "#          \"upper\":[\"89.5%\", \"91.8%\",\n",
    "#                   \"98.3%\", \"{:.1%}\".format(u)],\n",
    "#          \"sample size\":[400, 400, 400, n],\n",
    "#          \"ok observations\":[329, 340, 366, g]}\n",
    "\n",
    "\n",
    "\n",
    "# results = pd.DataFrame(dict_)\n",
    "# results"
   ]
  },
  {
   "cell_type": "code",
   "execution_count": null,
   "metadata": {},
   "outputs": [],
   "source": []
  }
 ],
 "metadata": {
  "kernelspec": {
   "display_name": "Python 3",
   "language": "python",
   "name": "python3"
  },
  "language_info": {
   "codemirror_mode": {
    "name": "ipython",
    "version": 3
   },
   "file_extension": ".py",
   "mimetype": "text/x-python",
   "name": "python",
   "nbconvert_exporter": "python",
   "pygments_lexer": "ipython3",
   "version": "3.6.9"
  }
 },
 "nbformat": 4,
 "nbformat_minor": 4
}
