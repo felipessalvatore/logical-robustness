{
 "cells": [
  {
   "cell_type": "code",
   "execution_count": 1,
   "metadata": {},
   "outputs": [],
   "source": [
    "from lr.models.transformers.util import load_and_cache_examples\n",
    "from lr.models.transformers.util import train, set_seed, evaluate\n",
    "from torch.utils.data import TensorDataset\n",
    "import logging\n",
    "import os\n",
    "import shutil\n",
    "import torch\n",
    "import numpy as np\n",
    "import pandas as pd\n",
    "from transformers import BertTokenizer\n",
    "from transformers import BertForSequenceClassification\n"
   ]
  },
  {
   "cell_type": "markdown",
   "metadata": {},
   "source": [
    "### Params"
   ]
  },
  {
   "cell_type": "code",
   "execution_count": 2,
   "metadata": {},
   "outputs": [],
   "source": [
    "hyperparams = {\"local_rank\": -1,\n",
    "               \"max_seq_length\": 128,\n",
    "               \"overwrite_cache\": False,\n",
    "               \"cached_path\":\"data/toy/\",\n",
    "               \"train_path\": \"data/toy/train.csv\",\n",
    "               \"dev_path\":\"data/toy/dev.csv\",\n",
    "               \"num_train_epochs\":2.0,\n",
    "               \"per_gpu_train_batch_size\":8,\n",
    "               \"per_gpu_eval_batch_size\":8,\n",
    "               \"gradient_accumulation_steps\": 1,\n",
    "               \"learning_rate\":5e-5,\n",
    "               \"weight_decay\":0.0,\n",
    "               \"adam_epsilon\": 1e-8,\n",
    "               \"max_grad_norm\": 1.0,\n",
    "               \"max_steps\": -1,\n",
    "               \"warmup_steps\": 0,\n",
    "               \"save_steps\": 200,\n",
    "               \"no_cuda\":False,\n",
    "               \"n_gpu\":1,\n",
    "               \"model_name_or_path\":\"bert\",\n",
    "               \"output_dir\":\"bert\",\n",
    "               \"random_state\": 42,\n",
    "               \"fp16\":False,\n",
    "               \"fp16_opt_level\":\"01\",\n",
    "               \"device\":\"cpu\",\n",
    "               \"verbose\":True,\n",
    "               \"model_type\": \"bert\"}\n",
    "\n",
    "set_seed(hyperparams[\"random_state\"], hyperparams[\"n_gpu\"])\n",
    "\n",
    "pretrained_weights = 'bert-base-uncased'\n",
    "tokenizer = BertTokenizer.from_pretrained(pretrained_weights)\n",
    "model = BertForSequenceClassification.from_pretrained(pretrained_weights, num_labels = 3)\n"
   ]
  },
  {
   "cell_type": "markdown",
   "metadata": {},
   "source": [
    "### Eval before training"
   ]
  },
  {
   "cell_type": "code",
   "execution_count": 3,
   "metadata": {},
   "outputs": [
    {
     "name": "stderr",
     "output_type": "stream",
     "text": [
      "Evaluating: 100%|██████████| 25/25 [00:14<00:00,  1.71it/s]\n"
     ]
    },
    {
     "data": {
      "text/plain": [
       "0.36"
      ]
     },
     "execution_count": 3,
     "metadata": {},
     "output_type": "execute_result"
    }
   ],
   "source": [
    "results = evaluate(hyperparams, model, tokenizer)\n",
    "\n",
    "(results.prediction==results.label).mean()"
   ]
  },
  {
   "cell_type": "markdown",
   "metadata": {},
   "source": [
    "## Creating features"
   ]
  },
  {
   "cell_type": "code",
   "execution_count": 4,
   "metadata": {},
   "outputs": [],
   "source": [
    "train_dataset = load_and_cache_examples(hyperparams, tokenizer)"
   ]
  },
  {
   "cell_type": "code",
   "execution_count": 5,
   "metadata": {},
   "outputs": [],
   "source": [
    "dev_dataset = load_and_cache_examples(hyperparams, tokenizer, evaluate=True)"
   ]
  },
  {
   "cell_type": "markdown",
   "metadata": {},
   "source": [
    "## train"
   ]
  },
  {
   "cell_type": "code",
   "execution_count": 6,
   "metadata": {},
   "outputs": [
    {
     "name": "stderr",
     "output_type": "stream",
     "text": [
      "Epoch:   0%|          | 0/2 [00:00<?, ?it/s]\n",
      "Iteration:   0%|          | 0/100 [00:00<?, ?it/s]\u001b[A\n",
      "Iteration:   1%|          | 1/100 [00:02<04:11,  2.54s/it]\u001b[A\n",
      "Iteration:   2%|▏         | 2/100 [00:04<04:05,  2.50s/it]\u001b[A\n",
      "Iteration:   3%|▎         | 3/100 [00:07<03:59,  2.47s/it]\u001b[A\n",
      "Iteration:   4%|▍         | 4/100 [00:09<03:55,  2.45s/it]\u001b[A\n",
      "Iteration:   5%|▌         | 5/100 [00:12<03:51,  2.44s/it]\u001b[A\n",
      "Iteration:   6%|▌         | 6/100 [00:14<03:48,  2.43s/it]\u001b[A\n",
      "Iteration:   7%|▋         | 7/100 [00:16<03:45,  2.42s/it]\u001b[A\n",
      "Iteration:   8%|▊         | 8/100 [00:19<03:42,  2.42s/it]\u001b[A\n",
      "Iteration:   9%|▉         | 9/100 [00:21<03:39,  2.42s/it]\u001b[A\n",
      "Iteration:  10%|█         | 10/100 [00:24<03:37,  2.41s/it]\u001b[A\n",
      "Iteration:  11%|█         | 11/100 [00:26<03:34,  2.41s/it]\u001b[A\n",
      "Iteration:  12%|█▏        | 12/100 [00:29<03:32,  2.41s/it]\u001b[A\n",
      "Iteration:  13%|█▎        | 13/100 [00:31<03:29,  2.41s/it]\u001b[A\n",
      "Iteration:  14%|█▍        | 14/100 [00:33<03:27,  2.41s/it]\u001b[A\n",
      "Iteration:  15%|█▌        | 15/100 [00:36<03:24,  2.41s/it]\u001b[A\n",
      "Iteration:  16%|█▌        | 16/100 [00:38<03:22,  2.42s/it]\u001b[A\n",
      "Iteration:  17%|█▋        | 17/100 [00:41<03:21,  2.42s/it]\u001b[A\n",
      "Iteration:  18%|█▊        | 18/100 [00:43<03:19,  2.43s/it]\u001b[A\n",
      "Iteration:  19%|█▉        | 19/100 [00:45<03:16,  2.42s/it]\u001b[A\n",
      "Iteration:  20%|██        | 20/100 [00:48<03:13,  2.42s/it]\u001b[A\n",
      "Iteration:  21%|██        | 21/100 [00:50<03:11,  2.43s/it]\u001b[A\n",
      "Iteration:  22%|██▏       | 22/100 [00:53<03:09,  2.43s/it]\u001b[A\n",
      "Iteration:  23%|██▎       | 23/100 [00:55<03:06,  2.42s/it]\u001b[A\n",
      "Iteration:  24%|██▍       | 24/100 [00:58<03:03,  2.42s/it]\u001b[A\n",
      "Iteration:  25%|██▌       | 25/100 [01:00<03:01,  2.42s/it]\u001b[A\n",
      "Iteration:  26%|██▌       | 26/100 [01:02<02:59,  2.42s/it]\u001b[A\n",
      "Iteration:  27%|██▋       | 27/100 [01:05<02:56,  2.42s/it]\u001b[A\n",
      "Iteration:  28%|██▊       | 28/100 [01:07<02:54,  2.42s/it]\u001b[A\n",
      "Iteration:  29%|██▉       | 29/100 [01:10<02:51,  2.42s/it]\u001b[A\n",
      "Iteration:  30%|███       | 30/100 [01:12<02:49,  2.41s/it]\u001b[A\n",
      "Iteration:  31%|███       | 31/100 [01:15<02:46,  2.41s/it]\u001b[A\n",
      "Iteration:  32%|███▏      | 32/100 [01:17<02:44,  2.41s/it]\u001b[A\n",
      "Iteration:  33%|███▎      | 33/100 [01:19<02:41,  2.41s/it]\u001b[A\n",
      "Iteration:  34%|███▍      | 34/100 [01:22<02:39,  2.41s/it]\u001b[A\n",
      "Iteration:  35%|███▌      | 35/100 [01:24<02:36,  2.41s/it]\u001b[A\n",
      "Iteration:  36%|███▌      | 36/100 [01:27<02:34,  2.41s/it]\u001b[A\n",
      "Iteration:  37%|███▋      | 37/100 [01:29<02:31,  2.41s/it]\u001b[A\n",
      "Iteration:  38%|███▊      | 38/100 [01:31<02:29,  2.41s/it]\u001b[A\n",
      "Iteration:  39%|███▉      | 39/100 [01:34<02:26,  2.41s/it]\u001b[A\n",
      "Iteration:  40%|████      | 40/100 [01:36<02:24,  2.41s/it]\u001b[A\n",
      "Iteration:  41%|████      | 41/100 [01:39<02:22,  2.41s/it]\u001b[A\n",
      "Iteration:  42%|████▏     | 42/100 [01:41<02:19,  2.41s/it]\u001b[A\n",
      "Iteration:  43%|████▎     | 43/100 [01:43<02:17,  2.41s/it]\u001b[A\n",
      "Iteration:  44%|████▍     | 44/100 [01:46<02:14,  2.41s/it]\u001b[A\n",
      "Iteration:  45%|████▌     | 45/100 [01:48<02:12,  2.41s/it]\u001b[A\n",
      "Iteration:  46%|████▌     | 46/100 [01:51<02:09,  2.41s/it]\u001b[A\n",
      "Iteration:  47%|████▋     | 47/100 [01:53<02:07,  2.41s/it]\u001b[A\n",
      "Iteration:  48%|████▊     | 48/100 [01:55<02:05,  2.41s/it]\u001b[A\n",
      "Iteration:  49%|████▉     | 49/100 [01:58<02:02,  2.41s/it]\u001b[A\n",
      "Iteration:  50%|█████     | 50/100 [02:00<02:00,  2.41s/it]\u001b[A\n",
      "Iteration:  51%|█████     | 51/100 [02:03<01:58,  2.41s/it]\u001b[A\n",
      "Iteration:  52%|█████▏    | 52/100 [02:05<01:55,  2.41s/it]\u001b[A\n",
      "Iteration:  53%|█████▎    | 53/100 [02:07<01:53,  2.41s/it]\u001b[A\n",
      "Iteration:  54%|█████▍    | 54/100 [02:10<01:50,  2.41s/it]\u001b[A\n",
      "Iteration:  55%|█████▌    | 55/100 [02:12<01:48,  2.42s/it]\u001b[A\n",
      "Iteration:  56%|█████▌    | 56/100 [02:15<01:46,  2.43s/it]\u001b[A\n",
      "Iteration:  57%|█████▋    | 57/100 [02:17<01:43,  2.42s/it]\u001b[A\n",
      "Iteration:  58%|█████▊    | 58/100 [02:20<01:41,  2.42s/it]\u001b[A\n",
      "Iteration:  59%|█████▉    | 59/100 [02:22<01:38,  2.41s/it]\u001b[A\n",
      "Iteration:  60%|██████    | 60/100 [02:24<01:36,  2.41s/it]\u001b[A\n",
      "Iteration:  61%|██████    | 61/100 [02:27<01:34,  2.41s/it]\u001b[A\n",
      "Iteration:  62%|██████▏   | 62/100 [02:29<01:31,  2.41s/it]\u001b[A\n",
      "Iteration:  63%|██████▎   | 63/100 [02:32<01:29,  2.41s/it]\u001b[A\n",
      "Iteration:  64%|██████▍   | 64/100 [02:34<01:26,  2.41s/it]\u001b[A\n",
      "Iteration:  65%|██████▌   | 65/100 [02:36<01:24,  2.42s/it]\u001b[A\n",
      "Iteration:  66%|██████▌   | 66/100 [02:39<01:22,  2.41s/it]\u001b[A\n",
      "Iteration:  67%|██████▋   | 67/100 [02:41<01:19,  2.41s/it]\u001b[A\n",
      "Iteration:  68%|██████▊   | 68/100 [02:44<01:17,  2.41s/it]\u001b[A\n",
      "Iteration:  69%|██████▉   | 69/100 [02:46<01:14,  2.41s/it]\u001b[A\n",
      "Iteration:  70%|███████   | 70/100 [02:49<01:12,  2.41s/it]\u001b[A\n",
      "Iteration:  71%|███████   | 71/100 [02:51<01:10,  2.42s/it]\u001b[A\n",
      "Iteration:  72%|███████▏  | 72/100 [02:53<01:07,  2.41s/it]\u001b[A\n",
      "Iteration:  73%|███████▎  | 73/100 [02:56<01:05,  2.41s/it]\u001b[A\n",
      "Iteration:  74%|███████▍  | 74/100 [02:58<01:02,  2.41s/it]\u001b[A\n",
      "Iteration:  75%|███████▌  | 75/100 [03:01<01:00,  2.41s/it]\u001b[A\n",
      "Iteration:  76%|███████▌  | 76/100 [03:03<00:57,  2.41s/it]\u001b[A\n",
      "Iteration:  77%|███████▋  | 77/100 [03:05<00:55,  2.41s/it]\u001b[A\n",
      "Iteration:  78%|███████▊  | 78/100 [03:08<00:53,  2.41s/it]\u001b[A\n",
      "Iteration:  79%|███████▉  | 79/100 [03:10<00:50,  2.41s/it]\u001b[A\n",
      "Iteration:  80%|████████  | 80/100 [03:13<00:48,  2.41s/it]\u001b[A\n",
      "Iteration:  81%|████████  | 81/100 [03:15<00:45,  2.42s/it]\u001b[A\n",
      "Iteration:  82%|████████▏ | 82/100 [03:17<00:43,  2.41s/it]\u001b[A\n",
      "Iteration:  83%|████████▎ | 83/100 [03:20<00:41,  2.42s/it]\u001b[A\n",
      "Iteration:  84%|████████▍ | 84/100 [03:22<00:38,  2.41s/it]\u001b[A\n",
      "Iteration:  85%|████████▌ | 85/100 [03:25<00:36,  2.41s/it]\u001b[A\n",
      "Iteration:  86%|████████▌ | 86/100 [03:27<00:33,  2.41s/it]\u001b[A\n",
      "Iteration:  87%|████████▋ | 87/100 [03:30<00:31,  2.42s/it]\u001b[A\n",
      "Iteration:  88%|████████▊ | 88/100 [03:32<00:28,  2.41s/it]\u001b[A\n",
      "Iteration:  89%|████████▉ | 89/100 [03:34<00:26,  2.41s/it]\u001b[A\n",
      "Iteration:  90%|█████████ | 90/100 [03:37<00:24,  2.41s/it]\u001b[A\n",
      "Iteration:  91%|█████████ | 91/100 [03:39<00:21,  2.41s/it]\u001b[A\n",
      "Iteration:  92%|█████████▏| 92/100 [03:42<00:19,  2.41s/it]\u001b[A\n",
      "Iteration:  93%|█████████▎| 93/100 [03:44<00:16,  2.42s/it]\u001b[A\n",
      "Iteration:  94%|█████████▍| 94/100 [03:46<00:14,  2.44s/it]\u001b[A\n",
      "Iteration:  95%|█████████▌| 95/100 [03:49<00:12,  2.43s/it]\u001b[A\n",
      "Iteration:  96%|█████████▌| 96/100 [03:51<00:09,  2.43s/it]\u001b[A\n",
      "Iteration:  97%|█████████▋| 97/100 [03:54<00:07,  2.44s/it]\u001b[A\n",
      "Iteration:  98%|█████████▊| 98/100 [03:56<00:04,  2.43s/it]\u001b[A\n",
      "Iteration:  99%|█████████▉| 99/100 [03:59<00:02,  2.42s/it]\u001b[A\n",
      "Iteration: 100%|██████████| 100/100 [04:01<00:00,  2.42s/it]\u001b[A\n",
      "Epoch:  50%|█████     | 1/2 [04:01<04:01, 241.53s/it]\n",
      "Iteration:   0%|          | 0/100 [00:00<?, ?it/s]\u001b[A\n",
      "Iteration:   1%|          | 1/100 [00:02<04:01,  2.44s/it]\u001b[A\n",
      "Iteration:   2%|▏         | 2/100 [00:04<03:58,  2.43s/it]\u001b[A\n",
      "Iteration:   3%|▎         | 3/100 [00:07<03:55,  2.42s/it]\u001b[A\n",
      "Iteration:   4%|▍         | 4/100 [00:09<03:52,  2.42s/it]\u001b[A\n",
      "Iteration:   5%|▌         | 5/100 [00:12<03:49,  2.42s/it]\u001b[A\n",
      "Iteration:   6%|▌         | 6/100 [00:14<03:47,  2.42s/it]\u001b[A\n",
      "Iteration:   7%|▋         | 7/100 [00:16<03:44,  2.41s/it]\u001b[A\n",
      "Iteration:   8%|▊         | 8/100 [00:19<03:41,  2.41s/it]\u001b[A\n",
      "Iteration:   9%|▉         | 9/100 [00:21<03:39,  2.41s/it]\u001b[A\n",
      "Iteration:  10%|█         | 10/100 [00:24<03:37,  2.42s/it]\u001b[A\n",
      "Iteration:  11%|█         | 11/100 [00:26<03:35,  2.43s/it]\u001b[A\n",
      "Iteration:  12%|█▏        | 12/100 [00:29<03:33,  2.42s/it]\u001b[A\n",
      "Iteration:  13%|█▎        | 13/100 [00:31<03:30,  2.42s/it]\u001b[A\n",
      "Iteration:  14%|█▍        | 14/100 [00:33<03:28,  2.42s/it]\u001b[A\n",
      "Iteration:  15%|█▌        | 15/100 [00:36<03:25,  2.42s/it]\u001b[A\n",
      "Iteration:  16%|█▌        | 16/100 [00:38<03:23,  2.42s/it]\u001b[A\n",
      "Iteration:  17%|█▋        | 17/100 [00:41<03:21,  2.42s/it]\u001b[A\n",
      "Iteration:  18%|█▊        | 18/100 [00:43<03:18,  2.42s/it]\u001b[A\n",
      "Iteration:  19%|█▉        | 19/100 [00:45<03:15,  2.42s/it]\u001b[A\n",
      "Iteration:  20%|██        | 20/100 [00:48<03:13,  2.42s/it]\u001b[A\n",
      "Iteration:  21%|██        | 21/100 [00:50<03:11,  2.42s/it]\u001b[A\n",
      "Iteration:  22%|██▏       | 22/100 [00:53<03:08,  2.42s/it]\u001b[A\n",
      "Iteration:  23%|██▎       | 23/100 [00:55<03:05,  2.41s/it]\u001b[A\n",
      "Iteration:  24%|██▍       | 24/100 [00:58<03:03,  2.41s/it]\u001b[A\n",
      "Iteration:  25%|██▌       | 25/100 [01:00<03:00,  2.41s/it]\u001b[A\n",
      "Iteration:  26%|██▌       | 26/100 [01:02<02:58,  2.41s/it]\u001b[A\n",
      "Iteration:  27%|██▋       | 27/100 [01:05<02:55,  2.41s/it]\u001b[A\n",
      "Iteration:  28%|██▊       | 28/100 [01:07<02:53,  2.41s/it]\u001b[A\n",
      "Iteration:  29%|██▉       | 29/100 [01:10<02:51,  2.41s/it]\u001b[A\n",
      "Iteration:  30%|███       | 30/100 [01:12<02:48,  2.41s/it]\u001b[A\n",
      "Iteration:  31%|███       | 31/100 [01:14<02:46,  2.41s/it]\u001b[A\n",
      "Iteration:  32%|███▏      | 32/100 [01:17<02:43,  2.41s/it]\u001b[A\n",
      "Iteration:  33%|███▎      | 33/100 [01:19<02:41,  2.41s/it]\u001b[A\n",
      "Iteration:  34%|███▍      | 34/100 [01:22<02:38,  2.41s/it]\u001b[A\n",
      "Iteration:  35%|███▌      | 35/100 [01:24<02:36,  2.41s/it]\u001b[A\n",
      "Iteration:  36%|███▌      | 36/100 [01:26<02:34,  2.41s/it]\u001b[A\n",
      "Iteration:  37%|███▋      | 37/100 [01:29<02:31,  2.41s/it]\u001b[A\n",
      "Iteration:  38%|███▊      | 38/100 [01:31<02:29,  2.42s/it]\u001b[A\n",
      "Iteration:  39%|███▉      | 39/100 [01:34<02:27,  2.41s/it]\u001b[A\n",
      "Iteration:  40%|████      | 40/100 [01:36<02:24,  2.41s/it]\u001b[A\n",
      "Iteration:  41%|████      | 41/100 [01:38<02:22,  2.41s/it]\u001b[A\n",
      "Iteration:  42%|████▏     | 42/100 [01:41<02:19,  2.41s/it]\u001b[A\n",
      "Iteration:  43%|████▎     | 43/100 [01:43<02:17,  2.42s/it]\u001b[A\n",
      "Iteration:  44%|████▍     | 44/100 [01:46<02:15,  2.42s/it]\u001b[A\n",
      "Iteration:  45%|████▌     | 45/100 [01:48<02:12,  2.41s/it]\u001b[A\n",
      "Iteration:  46%|████▌     | 46/100 [01:51<02:10,  2.41s/it]\u001b[A\n",
      "Iteration:  47%|████▋     | 47/100 [01:53<02:07,  2.41s/it]\u001b[A\n",
      "Iteration:  48%|████▊     | 48/100 [01:55<02:05,  2.41s/it]\u001b[A\n",
      "Iteration:  49%|████▉     | 49/100 [01:58<02:02,  2.41s/it]\u001b[A\n",
      "Iteration:  50%|█████     | 50/100 [02:00<02:00,  2.41s/it]\u001b[A\n",
      "Iteration:  51%|█████     | 51/100 [02:03<01:57,  2.41s/it]\u001b[A\n",
      "Iteration:  52%|█████▏    | 52/100 [02:05<01:55,  2.41s/it]\u001b[A\n",
      "Iteration:  53%|█████▎    | 53/100 [02:07<01:53,  2.41s/it]\u001b[A\n",
      "Iteration:  54%|█████▍    | 54/100 [02:10<01:50,  2.41s/it]\u001b[A\n",
      "Iteration:  55%|█████▌    | 55/100 [02:12<01:48,  2.41s/it]\u001b[A\n",
      "Iteration:  56%|█████▌    | 56/100 [02:15<01:45,  2.41s/it]\u001b[A\n",
      "Iteration:  57%|█████▋    | 57/100 [02:17<01:43,  2.41s/it]\u001b[A\n",
      "Iteration:  58%|█████▊    | 58/100 [02:19<01:41,  2.41s/it]\u001b[A\n",
      "Iteration:  59%|█████▉    | 59/100 [02:22<01:38,  2.41s/it]\u001b[A\n",
      "Iteration:  60%|██████    | 60/100 [02:24<01:36,  2.41s/it]\u001b[A\n",
      "Iteration:  61%|██████    | 61/100 [02:27<01:33,  2.41s/it]\u001b[A\n",
      "Iteration:  62%|██████▏   | 62/100 [02:29<01:31,  2.41s/it]\u001b[A\n",
      "Iteration:  63%|██████▎   | 63/100 [02:31<01:29,  2.41s/it]\u001b[A\n",
      "Iteration:  64%|██████▍   | 64/100 [02:34<01:26,  2.41s/it]\u001b[A\n",
      "Iteration:  65%|██████▌   | 65/100 [02:36<01:24,  2.41s/it]\u001b[A\n",
      "Iteration:  66%|██████▌   | 66/100 [02:39<01:21,  2.41s/it]\u001b[A\n",
      "Iteration:  67%|██████▋   | 67/100 [02:41<01:19,  2.41s/it]\u001b[A\n",
      "Iteration:  68%|██████▊   | 68/100 [02:44<01:17,  2.41s/it]\u001b[A\n",
      "Iteration:  69%|██████▉   | 69/100 [02:46<01:14,  2.41s/it]\u001b[A\n",
      "Iteration:  70%|███████   | 70/100 [02:48<01:12,  2.41s/it]\u001b[A\n",
      "Iteration:  71%|███████   | 71/100 [02:51<01:09,  2.41s/it]\u001b[A\n",
      "Iteration:  72%|███████▏  | 72/100 [02:53<01:07,  2.41s/it]\u001b[A\n",
      "Iteration:  73%|███████▎  | 73/100 [02:56<01:05,  2.42s/it]\u001b[A\n",
      "Iteration:  74%|███████▍  | 74/100 [02:58<01:02,  2.42s/it]\u001b[A\n",
      "Iteration:  75%|███████▌  | 75/100 [03:00<01:00,  2.41s/it]\u001b[A\n",
      "Iteration:  76%|███████▌  | 76/100 [03:03<00:57,  2.41s/it]\u001b[A\n",
      "Iteration:  77%|███████▋  | 77/100 [03:05<00:55,  2.41s/it]\u001b[A\n",
      "Iteration:  78%|███████▊  | 78/100 [03:08<00:52,  2.41s/it]\u001b[A\n",
      "Iteration:  79%|███████▉  | 79/100 [03:10<00:50,  2.41s/it]\u001b[A\n",
      "Iteration:  80%|████████  | 80/100 [03:12<00:48,  2.41s/it]\u001b[A\n",
      "Iteration:  81%|████████  | 81/100 [03:15<00:45,  2.41s/it]\u001b[A\n",
      "Iteration:  82%|████████▏ | 82/100 [03:17<00:43,  2.41s/it]\u001b[A\n",
      "Iteration:  83%|████████▎ | 83/100 [03:20<00:40,  2.41s/it]\u001b[A\n",
      "Iteration:  84%|████████▍ | 84/100 [03:22<00:38,  2.41s/it]\u001b[A\n",
      "Iteration:  85%|████████▌ | 85/100 [03:25<00:36,  2.41s/it]\u001b[A\n",
      "Iteration:  86%|████████▌ | 86/100 [03:27<00:33,  2.41s/it]\u001b[A\n",
      "Iteration:  87%|████████▋ | 87/100 [03:29<00:31,  2.41s/it]\u001b[A\n",
      "Iteration:  88%|████████▊ | 88/100 [03:32<00:28,  2.41s/it]\u001b[A\n",
      "Iteration:  89%|████████▉ | 89/100 [03:34<00:26,  2.41s/it]\u001b[A\n",
      "Iteration:  90%|█████████ | 90/100 [03:37<00:24,  2.41s/it]\u001b[A\n",
      "Iteration:  91%|█████████ | 91/100 [03:39<00:21,  2.41s/it]\u001b[A\n",
      "Iteration:  92%|█████████▏| 92/100 [03:41<00:19,  2.41s/it]\u001b[A\n",
      "Iteration:  93%|█████████▎| 93/100 [03:44<00:16,  2.41s/it]\u001b[A\n",
      "Iteration:  94%|█████████▍| 94/100 [03:46<00:14,  2.40s/it]\u001b[A\n",
      "Iteration:  95%|█████████▌| 95/100 [03:49<00:12,  2.41s/it]\u001b[A\n",
      "Iteration:  96%|█████████▌| 96/100 [03:51<00:09,  2.40s/it]\u001b[A\n",
      "Iteration:  97%|█████████▋| 97/100 [03:53<00:07,  2.43s/it]\u001b[A\n",
      "Iteration:  98%|█████████▊| 98/100 [03:56<00:04,  2.42s/it]\u001b[A\n",
      "Iteration:  99%|█████████▉| 99/100 [03:58<00:02,  2.42s/it]\u001b[A\n",
      "Iteration: 100%|██████████| 100/100 [04:08<00:00,  2.48s/it]\u001b[A\n",
      "Epoch: 100%|██████████| 2/2 [08:09<00:00, 244.91s/it]\n"
     ]
    }
   ],
   "source": [
    "global_step, tr_loss = train(train_dataset, model, tokenizer, hyperparams)"
   ]
  },
  {
   "cell_type": "code",
   "execution_count": 7,
   "metadata": {},
   "outputs": [
    {
     "data": {
      "image/png": "[encoded data removed]",
      "text/plain": [
       "<Figure size 432x288 with 1 Axes>"
      ]
     },
     "metadata": {
      "needs_background": "light"
     },
     "output_type": "display_data"
    }
   ],
   "source": [
    "training_logs = pd.read_csv(\"bert/log.csv\")\n",
    "training_logs.loss.plot();"
   ]
  },
  {
   "cell_type": "markdown",
   "metadata": {},
   "source": [
    "### Eval after training"
   ]
  },
  {
   "cell_type": "code",
   "execution_count": 9,
   "metadata": {},
   "outputs": [
    {
     "name": "stderr",
     "output_type": "stream",
     "text": [
      "Evaluating: 100%|██████████| 25/25 [00:14<00:00,  1.73it/s]\n"
     ]
    },
    {
     "data": {
      "text/plain": [
       "0.485"
      ]
     },
     "execution_count": 9,
     "metadata": {},
     "output_type": "execute_result"
    }
   ],
   "source": [
    "results = evaluate(hyperparams, model, tokenizer)\n",
    "\n",
    "(results.prediction==results.label).mean()"
   ]
  },
  {
   "cell_type": "markdown",
   "metadata": {},
   "source": [
    "### Check labels"
   ]
  },
  {
   "cell_type": "code",
   "execution_count": 10,
   "metadata": {},
   "outputs": [],
   "source": [
    "from lr.training.util import get_positive_labels\n",
    "\n",
    "values = get_positive_labels(pd.read_csv(\"data/toy/dev.csv\"))\n",
    "assert np.all(results.label.values == values)"
   ]
  },
  {
   "cell_type": "code",
   "execution_count": null,
   "metadata": {},
   "outputs": [],
   "source": []
  },
  {
   "cell_type": "code",
   "execution_count": null,
   "metadata": {},
   "outputs": [],
   "source": []
  },
  {
   "cell_type": "code",
   "execution_count": 13,
   "metadata": {},
   "outputs": [],
   "source": [
    "if os.path.exists(\"example.log\"):\n",
    "    os.remove(\"example.log\")\n",
    "    \n",
    "    \n",
    "if os.path.exists(\"bert\"):\n",
    "    shutil.rmtree(\"bert\")"
   ]
  },
  {
   "cell_type": "code",
   "execution_count": null,
   "metadata": {},
   "outputs": [],
   "source": []
  }
 ],
 "metadata": {
  "kernelspec": {
   "display_name": "Python 3",
   "language": "python",
   "name": "python3"
  },
  "language_info": {
   "codemirror_mode": {
    "name": "ipython",
    "version": 3
   },
   "file_extension": ".py",
   "mimetype": "text/x-python",
   "name": "python",
   "nbconvert_exporter": "python",
   "pygments_lexer": "ipython3",
   "version": "3.6.8"
  }
 },
 "nbformat": 4,
 "nbformat_minor": 4
}
