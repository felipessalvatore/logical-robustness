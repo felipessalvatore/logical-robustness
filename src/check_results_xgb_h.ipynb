{
 "cells": [
  {
   "cell_type": "markdown",
   "metadata": {},
   "source": [
    "# Results for XGB when applying syn tranformation to hypothesis only"
   ]
  },
  {
   "cell_type": "code",
   "execution_count": 1,
   "metadata": {},
   "outputs": [],
   "source": [
    "import pandas as pd\n",
    "import numpy as np\n",
    "import matplotlib.pyplot as plt\n",
    "import seaborn as sns\n",
    "from IPython.display import display, HTML \n",
    "from lr.stats.h_testing import get_boot_p_value,update_results_with_cochran_test\n",
    "from lr.analysis.util import get_boots, show_df, get_standart_results"
   ]
  },
  {
   "cell_type": "markdown",
   "metadata": {},
   "source": [
    "## Results for $\\rho = 0$"
   ]
  },
  {
   "cell_type": "code",
   "execution_count": 2,
   "metadata": {},
   "outputs": [
    {
     "data": {
      "text/html": [
       "<table border=\"1\" class=\"dataframe\">\n",
       "  <thead>\n",
       "    <tr style=\"text-align: right;\">\n",
       "      <th></th>\n",
       "      <th>data</th>\n",
       "      <th>model</th>\n",
       "      <th>transformation</th>\n",
       "      <th>rho</th>\n",
       "      <th>dgp_seed</th>\n",
       "      <th>random_state</th>\n",
       "      <th>number_of_simulations</th>\n",
       "      <th>validation_accuracy</th>\n",
       "      <th>transformed_validation_accuracy</th>\n",
       "      <th>accuracy_difference</th>\n",
       "      <th>test_size</th>\n",
       "      <th>standart_error</th>\n",
       "      <th>observable_t_stats</th>\n",
       "      <th>p_value</th>\n",
       "      <th>cochran_statistic</th>\n",
       "      <th>cochran_p_value</th>\n",
       "      <th>training_time</th>\n",
       "      <th>test_time</th>\n",
       "    </tr>\n",
       "  </thead>\n",
       "  <tbody>\n",
       "    <tr>\n",
       "      <th>0</th>\n",
       "      <td>snli</td>\n",
       "      <td>gradient boosting</td>\n",
       "      <td>wordnet sin tranformation h only</td>\n",
       "      <td>0</td>\n",
       "      <td>2456</td>\n",
       "      <td>7842</td>\n",
       "      <td>1000</td>\n",
       "      <td>0.570006</td>\n",
       "      <td>0.537797</td>\n",
       "      <td>0.0322089</td>\n",
       "      <td>9842</td>\n",
       "      <td>0.314712</td>\n",
       "      <td>10.1532</td>\n",
       "      <td>0</td>\n",
       "      <td>102.019289</td>\n",
       "      <td>0.0</td>\n",
       "      <td>1816.75</td>\n",
       "      <td>1826.65</td>\n",
       "    </tr>\n",
       "    <tr>\n",
       "      <th>1</th>\n",
       "      <td>snli</td>\n",
       "      <td>gradient boosting</td>\n",
       "      <td>wordnet sin tranformation h only</td>\n",
       "      <td>0</td>\n",
       "      <td>548</td>\n",
       "      <td>3943</td>\n",
       "      <td>1000</td>\n",
       "      <td>0.571022</td>\n",
       "      <td>0.539016</td>\n",
       "      <td>0.0320057</td>\n",
       "      <td>9842</td>\n",
       "      <td>0.327392</td>\n",
       "      <td>9.69842</td>\n",
       "      <td>0</td>\n",
       "      <td>93.169014</td>\n",
       "      <td>0.0</td>\n",
       "      <td>1880.38</td>\n",
       "      <td>1890.49</td>\n",
       "    </tr>\n",
       "  </tbody>\n",
       "</table>"
      ],
      "text/plain": [
       "<IPython.core.display.HTML object>"
      ]
     },
     "metadata": {},
     "output_type": "display_data"
    }
   ],
   "source": [
    "df = pd.read_csv(\"results/snli/xgb/sin_h/rho_0p00_random_state_7842_3943.csv\")\n",
    "df1 = df.iloc[0].to_frame().transpose()\n",
    "df2 = df.iloc[1].to_frame().transpose().reset_index(drop=True)\n",
    "diff1 = pd.read_csv(\"raw_results/snli/xgb/sin_h/rho_0p0/results_0.csv\")\n",
    "diff2 = pd.read_csv(\"raw_results/snli/xgb/sin_h/rho_0p0/results_1.csv\")\n",
    "df1_new = update_results_with_cochran_test(df1, diff1)\n",
    "df2_new = update_results_with_cochran_test(df2, diff2)\n",
    "df_rho_0 = pd.concat([df1_new, df2_new]).reset_index(drop=True)\n",
    "df_rho_0 = get_standart_results(df_rho_0)\n",
    "show_df(df_rho_0)"
   ]
  },
  {
   "cell_type": "markdown",
   "metadata": {},
   "source": [
    "## Results for $\\rho = 0.25$"
   ]
  },
  {
   "cell_type": "code",
   "execution_count": 3,
   "metadata": {},
   "outputs": [
    {
     "data": {
      "text/html": [
       "<table border=\"1\" class=\"dataframe\">\n",
       "  <thead>\n",
       "    <tr style=\"text-align: right;\">\n",
       "      <th></th>\n",
       "      <th>data</th>\n",
       "      <th>model</th>\n",
       "      <th>transformation</th>\n",
       "      <th>rho</th>\n",
       "      <th>dgp_seed</th>\n",
       "      <th>random_state</th>\n",
       "      <th>number_of_simulations</th>\n",
       "      <th>validation_accuracy</th>\n",
       "      <th>transformed_validation_accuracy</th>\n",
       "      <th>accuracy_difference</th>\n",
       "      <th>test_size</th>\n",
       "      <th>standart_error</th>\n",
       "      <th>observable_t_stats</th>\n",
       "      <th>p_value</th>\n",
       "      <th>cochran_statistic</th>\n",
       "      <th>cochran_p_value</th>\n",
       "      <th>training_time</th>\n",
       "      <th>test_time</th>\n",
       "    </tr>\n",
       "  </thead>\n",
       "  <tbody>\n",
       "    <tr>\n",
       "      <th>0</th>\n",
       "      <td>snli</td>\n",
       "      <td>gradient boosting</td>\n",
       "      <td>wordnet sin tranformation h only</td>\n",
       "      <td>0.25</td>\n",
       "      <td>2647</td>\n",
       "      <td>4193</td>\n",
       "      <td>1000</td>\n",
       "      <td>0.562284</td>\n",
       "      <td>0.561878</td>\n",
       "      <td>0.000406421</td>\n",
       "      <td>9842</td>\n",
       "      <td>0.263239</td>\n",
       "      <td>0.153168</td>\n",
       "      <td>0.93</td>\n",
       "      <td>0.023460</td>\n",
       "      <td>0.873</td>\n",
       "      <td>2184.44</td>\n",
       "      <td>2194.4</td>\n",
       "    </tr>\n",
       "    <tr>\n",
       "      <th>1</th>\n",
       "      <td>snli</td>\n",
       "      <td>gradient boosting</td>\n",
       "      <td>wordnet sin tranformation h only</td>\n",
       "      <td>0.25</td>\n",
       "      <td>377</td>\n",
       "      <td>813</td>\n",
       "      <td>1000</td>\n",
       "      <td>0.563808</td>\n",
       "      <td>0.556594</td>\n",
       "      <td>0.00721398</td>\n",
       "      <td>9842</td>\n",
       "      <td>0.249464</td>\n",
       "      <td>2.86886</td>\n",
       "      <td>0.008</td>\n",
       "      <td>8.223491</td>\n",
       "      <td>0.005</td>\n",
       "      <td>2011.87</td>\n",
       "      <td>2022.05</td>\n",
       "    </tr>\n",
       "  </tbody>\n",
       "</table>"
      ],
      "text/plain": [
       "<IPython.core.display.HTML object>"
      ]
     },
     "metadata": {},
     "output_type": "display_data"
    }
   ],
   "source": [
    "df = pd.read_csv(\"results/snli/xgb/sin_h/rho_0p25_random_state_4193_813.csv\")\n",
    "df1 = df.iloc[0].to_frame().transpose()\n",
    "df2 = df.iloc[1].to_frame().transpose().reset_index(drop=True)\n",
    "diff1 = pd.read_csv(\"raw_results/snli/xgb/sin_h/rho_0p25/results_0.csv\")\n",
    "diff2 = pd.read_csv(\"raw_results/snli/xgb/sin_h/rho_0p25/results_1.csv\")\n",
    "df1_new = update_results_with_cochran_test(df1, diff1)\n",
    "df2_new = update_results_with_cochran_test(df2, diff2)\n",
    "df_rho_0p25 = pd.concat([df1_new, df2_new]).reset_index(drop=True)\n",
    "df_rho_0p25 = get_standart_results(df_rho_0p25)\n",
    "show_df(df_rho_0p25)"
   ]
  },
  {
   "cell_type": "markdown",
   "metadata": {},
   "source": [
    "## Results for $\\rho = 0.5$"
   ]
  },
  {
   "cell_type": "code",
   "execution_count": 4,
   "metadata": {},
   "outputs": [
    {
     "data": {
      "text/html": [
       "<table border=\"1\" class=\"dataframe\">\n",
       "  <thead>\n",
       "    <tr style=\"text-align: right;\">\n",
       "      <th></th>\n",
       "      <th>data</th>\n",
       "      <th>model</th>\n",
       "      <th>transformation</th>\n",
       "      <th>rho</th>\n",
       "      <th>dgp_seed</th>\n",
       "      <th>random_state</th>\n",
       "      <th>number_of_simulations</th>\n",
       "      <th>validation_accuracy</th>\n",
       "      <th>transformed_validation_accuracy</th>\n",
       "      <th>accuracy_difference</th>\n",
       "      <th>test_size</th>\n",
       "      <th>standart_error</th>\n",
       "      <th>observable_t_stats</th>\n",
       "      <th>p_value</th>\n",
       "      <th>cochran_statistic</th>\n",
       "      <th>cochran_p_value</th>\n",
       "      <th>training_time</th>\n",
       "      <th>test_time</th>\n",
       "    </tr>\n",
       "  </thead>\n",
       "  <tbody>\n",
       "    <tr>\n",
       "      <th>0</th>\n",
       "      <td>snli</td>\n",
       "      <td>gradient boosting</td>\n",
       "      <td>wordnet sin tranformation h only</td>\n",
       "      <td>0.5</td>\n",
       "      <td>242</td>\n",
       "      <td>149</td>\n",
       "      <td>1000</td>\n",
       "      <td>0.561471</td>\n",
       "      <td>0.567771</td>\n",
       "      <td>-0.00629953</td>\n",
       "      <td>9842</td>\n",
       "      <td>0.247238</td>\n",
       "      <td>-2.52775</td>\n",
       "      <td>0.008</td>\n",
       "      <td>6.385382</td>\n",
       "      <td>0.009</td>\n",
       "      <td>2277.11</td>\n",
       "      <td>2286.82</td>\n",
       "    </tr>\n",
       "    <tr>\n",
       "      <th>1</th>\n",
       "      <td>snli</td>\n",
       "      <td>gradient boosting</td>\n",
       "      <td>wordnet sin tranformation h only</td>\n",
       "      <td>0.5</td>\n",
       "      <td>431</td>\n",
       "      <td>272</td>\n",
       "      <td>1000</td>\n",
       "      <td>0.550803</td>\n",
       "      <td>0.559439</td>\n",
       "      <td>-0.00863646</td>\n",
       "      <td>9842</td>\n",
       "      <td>0.231678</td>\n",
       "      <td>-3.69822</td>\n",
       "      <td>0</td>\n",
       "      <td>13.657845</td>\n",
       "      <td>0.000</td>\n",
       "      <td>2430.06</td>\n",
       "      <td>2439.86</td>\n",
       "    </tr>\n",
       "  </tbody>\n",
       "</table>"
      ],
      "text/plain": [
       "<IPython.core.display.HTML object>"
      ]
     },
     "metadata": {},
     "output_type": "display_data"
    }
   ],
   "source": [
    "df = pd.read_csv(\"results/snli/xgb/sin_h/rho_0p50_random_state_149_272.csv\")\n",
    "df1 = df.iloc[0].to_frame().transpose()\n",
    "df2 = df.iloc[1].to_frame().transpose().reset_index(drop=True)\n",
    "diff1 = pd.read_csv(\"raw_results/snli/xgb/sin_h/rho_0p5/results_0.csv\")\n",
    "diff2 = pd.read_csv(\"raw_results/snli/xgb/sin_h/rho_0p5/results_1.csv\")\n",
    "df1_new = update_results_with_cochran_test(df1, diff1)\n",
    "df2_new = update_results_with_cochran_test(df2, diff2)\n",
    "df_rho_0p5 = pd.concat([df1_new, df2_new]).reset_index(drop=True)\n",
    "df_rho_0p5 = get_standart_results(df_rho_0p5)\n",
    "show_df(df_rho_0p5)"
   ]
  },
  {
   "cell_type": "markdown",
   "metadata": {},
   "source": [
    "## Results for $\\rho = 0.75$"
   ]
  },
  {
   "cell_type": "code",
   "execution_count": 5,
   "metadata": {},
   "outputs": [
    {
     "data": {
      "text/html": [
       "<table border=\"1\" class=\"dataframe\">\n",
       "  <thead>\n",
       "    <tr style=\"text-align: right;\">\n",
       "      <th></th>\n",
       "      <th>data</th>\n",
       "      <th>model</th>\n",
       "      <th>transformation</th>\n",
       "      <th>rho</th>\n",
       "      <th>dgp_seed</th>\n",
       "      <th>random_state</th>\n",
       "      <th>number_of_simulations</th>\n",
       "      <th>validation_accuracy</th>\n",
       "      <th>transformed_validation_accuracy</th>\n",
       "      <th>accuracy_difference</th>\n",
       "      <th>test_size</th>\n",
       "      <th>standart_error</th>\n",
       "      <th>observable_t_stats</th>\n",
       "      <th>p_value</th>\n",
       "      <th>cochran_statistic</th>\n",
       "      <th>cochran_p_value</th>\n",
       "      <th>training_time</th>\n",
       "      <th>test_time</th>\n",
       "    </tr>\n",
       "  </thead>\n",
       "  <tbody>\n",
       "    <tr>\n",
       "      <th>0</th>\n",
       "      <td>snli</td>\n",
       "      <td>gradient boosting</td>\n",
       "      <td>wordnet sin tranformation h only</td>\n",
       "      <td>0.75</td>\n",
       "      <td>192</td>\n",
       "      <td>3202</td>\n",
       "      <td>1000</td>\n",
       "      <td>0.551107</td>\n",
       "      <td>0.576001</td>\n",
       "      <td>-0.0248933</td>\n",
       "      <td>9842</td>\n",
       "      <td>0.268759</td>\n",
       "      <td>-9.18886</td>\n",
       "      <td>0</td>\n",
       "      <td>83.716876</td>\n",
       "      <td>0.0</td>\n",
       "      <td>2497.41</td>\n",
       "      <td>2507.22</td>\n",
       "    </tr>\n",
       "    <tr>\n",
       "      <th>1</th>\n",
       "      <td>snli</td>\n",
       "      <td>gradient boosting</td>\n",
       "      <td>wordnet sin tranformation h only</td>\n",
       "      <td>0.75</td>\n",
       "      <td>716</td>\n",
       "      <td>65</td>\n",
       "      <td>1000</td>\n",
       "      <td>0.551107</td>\n",
       "      <td>0.572749</td>\n",
       "      <td>-0.0216419</td>\n",
       "      <td>9842</td>\n",
       "      <td>0.273535</td>\n",
       "      <td>-7.8492</td>\n",
       "      <td>0</td>\n",
       "      <td>61.226721</td>\n",
       "      <td>0.0</td>\n",
       "      <td>2488.11</td>\n",
       "      <td>2498.05</td>\n",
       "    </tr>\n",
       "  </tbody>\n",
       "</table>"
      ],
      "text/plain": [
       "<IPython.core.display.HTML object>"
      ]
     },
     "metadata": {},
     "output_type": "display_data"
    }
   ],
   "source": [
    "df = pd.read_csv(\"results/snli/xgb/sin_h/rho_0p75_random_state_3202_65.csv\")\n",
    "df1 = df.iloc[0].to_frame().transpose()\n",
    "df2 = df.iloc[1].to_frame().transpose().reset_index(drop=True)\n",
    "diff1 = pd.read_csv(\"raw_results/snli/xgb/sin_h/rho_0p75/results_0.csv\")\n",
    "diff2 = pd.read_csv(\"raw_results/snli/xgb/sin_h/rho_0p75/results_1.csv\")\n",
    "df1_new = update_results_with_cochran_test(df1, diff1)\n",
    "df2_new = update_results_with_cochran_test(df2, diff2)\n",
    "df_rho_0p75 = pd.concat([df1_new, df2_new]).reset_index(drop=True)\n",
    "df_rho_0p75 = get_standart_results(df_rho_0p75)\n",
    "show_df(df_rho_0p75)"
   ]
  },
  {
   "cell_type": "markdown",
   "metadata": {},
   "source": [
    "## Results for $\\rho = 1.0$"
   ]
  },
  {
   "cell_type": "code",
   "execution_count": 6,
   "metadata": {},
   "outputs": [
    {
     "data": {
      "text/html": [
       "<table border=\"1\" class=\"dataframe\">\n",
       "  <thead>\n",
       "    <tr style=\"text-align: right;\">\n",
       "      <th></th>\n",
       "      <th>data</th>\n",
       "      <th>model</th>\n",
       "      <th>transformation</th>\n",
       "      <th>rho</th>\n",
       "      <th>dgp_seed</th>\n",
       "      <th>random_state</th>\n",
       "      <th>number_of_simulations</th>\n",
       "      <th>validation_accuracy</th>\n",
       "      <th>transformed_validation_accuracy</th>\n",
       "      <th>accuracy_difference</th>\n",
       "      <th>test_size</th>\n",
       "      <th>standart_error</th>\n",
       "      <th>observable_t_stats</th>\n",
       "      <th>p_value</th>\n",
       "      <th>cochran_statistic</th>\n",
       "      <th>cochran_p_value</th>\n",
       "      <th>training_time</th>\n",
       "      <th>test_time</th>\n",
       "    </tr>\n",
       "  </thead>\n",
       "  <tbody>\n",
       "    <tr>\n",
       "      <th>0</th>\n",
       "      <td>snli</td>\n",
       "      <td>gradient boosting</td>\n",
       "      <td>wordnet sin tranformation h only</td>\n",
       "      <td>1</td>\n",
       "      <td>4571</td>\n",
       "      <td>715</td>\n",
       "      <td>1000</td>\n",
       "      <td>0.531193</td>\n",
       "      <td>0.568584</td>\n",
       "      <td>-0.0373908</td>\n",
       "      <td>9842</td>\n",
       "      <td>0.304114</td>\n",
       "      <td>-12.1975</td>\n",
       "      <td>0</td>\n",
       "      <td>146.562771</td>\n",
       "      <td>0.0</td>\n",
       "      <td>2991.01</td>\n",
       "      <td>3001.01</td>\n",
       "    </tr>\n",
       "    <tr>\n",
       "      <th>1</th>\n",
       "      <td>snli</td>\n",
       "      <td>gradient boosting</td>\n",
       "      <td>wordnet sin tranformation h only</td>\n",
       "      <td>1</td>\n",
       "      <td>8152</td>\n",
       "      <td>766</td>\n",
       "      <td>1000</td>\n",
       "      <td>0.537391</td>\n",
       "      <td>0.578541</td>\n",
       "      <td>-0.0411502</td>\n",
       "      <td>9842</td>\n",
       "      <td>0.312695</td>\n",
       "      <td>-13.0555</td>\n",
       "      <td>0</td>\n",
       "      <td>167.543412</td>\n",
       "      <td>0.0</td>\n",
       "      <td>2928.51</td>\n",
       "      <td>2938.43</td>\n",
       "    </tr>\n",
       "  </tbody>\n",
       "</table>"
      ],
      "text/plain": [
       "<IPython.core.display.HTML object>"
      ]
     },
     "metadata": {},
     "output_type": "display_data"
    }
   ],
   "source": [
    "df = pd.read_csv(\"results/snli/xgb/sin_h/rho_1p00_random_state_715_766.csv\")\n",
    "df1 = df.iloc[0].to_frame().transpose()\n",
    "df2 = df.iloc[1].to_frame().transpose().reset_index(drop=True)\n",
    "diff1 = pd.read_csv(\"raw_results/snli/xgb/sin_h/rho_1p0/results_0.csv\")\n",
    "diff2 = pd.read_csv(\"raw_results/snli/xgb/sin_h/rho_1p0/results_1.csv\")\n",
    "df1_new = update_results_with_cochran_test(df1, diff1)\n",
    "df2_new = update_results_with_cochran_test(df2, diff2)\n",
    "df_rho_1p0 = pd.concat([df1_new, df2_new]).reset_index(drop=True)\n",
    "df_rho_1p0 = get_standart_results(df_rho_1p0)\n",
    "show_df(df_rho_1p0)"
   ]
  },
  {
   "cell_type": "markdown",
   "metadata": {},
   "source": [
    "## Plotting Results"
   ]
  },
  {
   "cell_type": "code",
   "execution_count": 7,
   "metadata": {},
   "outputs": [
    {
     "data": {
      "image/png": "[encoded data removed]",
      "text/plain": [
       "<Figure size 720x360 with 2 Axes>"
      ]
     },
     "metadata": {
      "needs_background": "light"
     },
     "output_type": "display_data"
    },
    {
     "data": {
      "image/png": "[encoded data removed]",
      "text/plain": [
       "<Figure size 720x360 with 2 Axes>"
      ]
     },
     "metadata": {
      "needs_background": "light"
     },
     "output_type": "display_data"
    },
    {
     "data": {
      "image/png": "[encoded data removed]",
      "text/plain": [
       "<Figure size 864x432 with 1 Axes>"
      ]
     },
     "metadata": {
      "needs_background": "light"
     },
     "output_type": "display_data"
    }
   ],
   "source": [
    "dfs = [df_rho_0, df_rho_0p25, df_rho_0p5, df_rho_0p75, df_rho_1p0]\n",
    "names = [\"0.0\", \"0.25\", \"0.5\", \"0.75\", \"1.00\" ]\n",
    "\n",
    "all_p_values = {}\n",
    "for df, name in zip(dfs, names):\n",
    "    results = df.p_value\n",
    "    all_p_values[name] = results.astype(np.float)\n",
    "    \n",
    "fig, ax = plt.subplots(figsize=(10,5))\n",
    "sns.heatmap(pd.DataFrame(all_p_values), annot=True, cmap=\"YlGnBu\", linewidths=0.3, ax=ax);\n",
    "ax.set_xlabel(r\"$\\rho$\", fontsize=14);\n",
    "ax.set_ylabel(\"number of tests\", fontsize=14);\n",
    "ax.set_title(\"Gradient Boosting p-values\\n\\ndataset: SNLI\\ntransformation: synonym substitution only H\\n\");\n",
    "fig.tight_layout()\n",
    "fig.savefig('figs/gb_p_values_snli_sin_h.png', bbox_inches=None, pad_inches=0.5)\n",
    "\n",
    "\n",
    "all_p_values = {}\n",
    "for df, name in zip(dfs, names):\n",
    "    results = df.cochran_p_value\n",
    "    all_p_values[name] = results.astype(np.float) \n",
    "\n",
    "\n",
    "fig, ax = plt.subplots(figsize=(10,5))\n",
    "sns.heatmap(pd.DataFrame(all_p_values), annot=True, cmap=\"YlGnBu\", linewidths=0.3, ax=ax);\n",
    "ax.set_xlabel(r\"$\\rho$\", fontsize=14);\n",
    "ax.set_ylabel(\"number of tests\", fontsize=14);\n",
    "ax.set_title(\"Gradient Boosting p-values (cochran test) \\n\\ndataset: SNLI\\ntransformation: synonym substitution only H\\n\");\n",
    "fig.tight_layout()\n",
    "fig.savefig('figs/gb_p_values_cochran_snli_sin_h.png', bbox_inches=None, pad_inches=0.5)\n",
    "\n",
    "\n",
    "rhos = []\n",
    "acc_s = []\n",
    "acc_t_s = []\n",
    "\n",
    "for df in dfs:\n",
    "    acc = df.validation_accuracy.values\n",
    "    acc_s.append(acc)\n",
    "    acc_t = df.transformed_validation_accuracy.values\n",
    "    acc_t_s.append(acc_t)\n",
    "    rhos.append(df.rho.values[0])\n",
    "acc_s = np.array(acc_s)\n",
    "acc_t_s = np.array(acc_t_s)\n",
    "\n",
    "acc_c = [\"acc_{}\".format(i) for i in range(acc_s.shape[1])]\n",
    "acc_t_c = [\"acc_t_{}\".format(i) for i in range(acc_t_s.shape[1])]\n",
    "\n",
    "acc = pd.DataFrame(acc_s, index=rhos, columns=acc_c)\n",
    "acc.index.name = \"rho\"\n",
    "acc_t = pd.DataFrame(acc_t_s, index=rhos, columns=acc_t_c)\n",
    "acc_t.index.name = \"rho\"\n",
    "\n",
    "x = acc.mean(1).index\n",
    "y = acc.mean(1).values\n",
    "error = acc.std(1).values\n",
    "\n",
    "x_t = acc_t.mean(1).index\n",
    "y_t = acc_t.mean(1).values\n",
    "error_t = acc_t.std(1).values\n",
    "\n",
    "\n",
    "fig, ax = plt.subplots(figsize=(12,6))\n",
    "ax.errorbar(x, y, yerr=error, fmt='-o', label=\"original validation data\");\n",
    "ax.errorbar(x_t, y_t, yerr=error_t, fmt='-o', label=\"transformed validation data\");\n",
    "ax.legend(loc=\"best\");\n",
    "ax.set_xlabel(r\"$\\rho$\", fontsize=14);\n",
    "ax.set_ylabel(\"accuracy\", fontsize=14);\n",
    "ax.set_title(\"Gradient Boosting accuracy\\n\\ndataset: SNLI\\ntransformation: synonym substitution only H\\n\");\n",
    "fig.tight_layout()\n",
    "fig.savefig('figs/gb_acc_snli_sin_h.png', bbox_inches=None, pad_inches=0.5)\n",
    "\n"
   ]
  },
  {
   "cell_type": "code",
   "execution_count": null,
   "metadata": {},
   "outputs": [],
   "source": []
  }
 ],
 "metadata": {
  "kernelspec": {
   "display_name": "Python 3",
   "language": "python",
   "name": "python3"
  },
  "language_info": {
   "codemirror_mode": {
    "name": "ipython",
    "version": 3
   },
   "file_extension": ".py",
   "mimetype": "text/x-python",
   "name": "python",
   "nbconvert_exporter": "python",
   "pygments_lexer": "ipython3",
   "version": "3.6.9"
  }
 },
 "nbformat": 4,
 "nbformat_minor": 2
}
