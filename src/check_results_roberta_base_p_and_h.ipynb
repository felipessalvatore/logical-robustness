{
 "cells": [
  {
   "cell_type": "markdown",
   "metadata": {},
   "source": [
    "# Results for RoBERTa base when applying syn tranformation to both premise and hypothesis"
   ]
  },
  {
   "cell_type": "code",
   "execution_count": 1,
   "metadata": {},
   "outputs": [],
   "source": [
    "import pandas as pd\n",
    "import numpy as np\n",
    "import matplotlib.pyplot as plt\n",
    "import seaborn as sns\n",
    "from IPython.display import display, HTML \n",
    "from lr.stats.h_testing import get_boot_p_value,update_results_with_cochran_test\n",
    "from lr.analysis.util import get_boots, show_df, get_standart_results"
   ]
  },
  {
   "cell_type": "markdown",
   "metadata": {},
   "source": [
    "## Results for $\\rho = 0$"
   ]
  },
  {
   "cell_type": "code",
   "execution_count": 2,
   "metadata": {},
   "outputs": [
    {
     "data": {
      "text/html": [
       "<table border=\"1\" class=\"dataframe\">\n",
       "  <thead>\n",
       "    <tr style=\"text-align: right;\">\n",
       "      <th></th>\n",
       "      <th>data</th>\n",
       "      <th>model</th>\n",
       "      <th>transformation</th>\n",
       "      <th>rho</th>\n",
       "      <th>dgp_seed</th>\n",
       "      <th>random_state</th>\n",
       "      <th>number_of_simulations</th>\n",
       "      <th>validation_accuracy</th>\n",
       "      <th>transformed_validation_accuracy</th>\n",
       "      <th>accuracy_difference</th>\n",
       "      <th>test_size</th>\n",
       "      <th>standart_error</th>\n",
       "      <th>observable_t_stats</th>\n",
       "      <th>p_value</th>\n",
       "      <th>cochran_statistic</th>\n",
       "      <th>cochran_p_value</th>\n",
       "      <th>training_time</th>\n",
       "      <th>test_time</th>\n",
       "    </tr>\n",
       "  </thead>\n",
       "  <tbody>\n",
       "    <tr>\n",
       "      <th>0</th>\n",
       "      <td>snli</td>\n",
       "      <td>roberta</td>\n",
       "      <td>wordnet sin tranformation p and h</td>\n",
       "      <td>0.0</td>\n",
       "      <td>123</td>\n",
       "      <td>457</td>\n",
       "      <td>1000</td>\n",
       "      <td>0.877362</td>\n",
       "      <td>0.842613</td>\n",
       "      <td>0.034749</td>\n",
       "      <td>9842</td>\n",
       "      <td>0.270495</td>\n",
       "      <td>12.744562</td>\n",
       "      <td>0.0</td>\n",
       "      <td>159.786885</td>\n",
       "      <td>0.0</td>\n",
       "      <td>3.961854</td>\n",
       "      <td>4.472039</td>\n",
       "    </tr>\n",
       "    <tr>\n",
       "      <th>1</th>\n",
       "      <td>snli</td>\n",
       "      <td>roberta</td>\n",
       "      <td>wordnet sin tranformation p and h</td>\n",
       "      <td>0.0</td>\n",
       "      <td>9857</td>\n",
       "      <td>3143</td>\n",
       "      <td>1000</td>\n",
       "      <td>0.879191</td>\n",
       "      <td>0.840988</td>\n",
       "      <td>0.038204</td>\n",
       "      <td>9842</td>\n",
       "      <td>0.283968</td>\n",
       "      <td>13.346805</td>\n",
       "      <td>0.0</td>\n",
       "      <td>174.970297</td>\n",
       "      <td>0.0</td>\n",
       "      <td>5.273027</td>\n",
       "      <td>5.964968</td>\n",
       "    </tr>\n",
       "  </tbody>\n",
       "</table>"
      ],
      "text/plain": [
       "<IPython.core.display.HTML object>"
      ]
     },
     "metadata": {},
     "output_type": "display_data"
    }
   ],
   "source": [
    "df1 = pd.read_csv(\"results/snli/roberta_base/sin_p_h/rho_0p00_dgp_seed_123_random_state_457.csv\")\n",
    "diff1 = pd.read_csv(\"raw_results/snli/roberta_base/sin_p_h/rho_0p0_dgp_seed_123_random_state_457_results.csv\")\n",
    "df1_new = update_results_with_cochran_test(df1, diff1)\n",
    "df2 = pd.read_csv(\"results/snli/roberta_base/sin_p_h/rho_0p00_dgp_seed_9857_random_state_3143.csv\")\n",
    "diff2 = pd.read_csv(\"raw_results/snli/roberta_base/sin_p_h/rho_0p0_dgp_seed_9857_random_state_3143_results.csv\")\n",
    "df2_new = update_results_with_cochran_test(df2, diff2)\n",
    "df_rho_0 = pd.concat([df1_new, df2_new]).reset_index(drop=True)\n",
    "df_rho_0 = get_standart_results(df_rho_0)\n",
    "show_df(df_rho_0)"
   ]
  },
  {
   "cell_type": "markdown",
   "metadata": {},
   "source": [
    "## Results for $\\rho = 0.25$"
   ]
  },
  {
   "cell_type": "code",
   "execution_count": 3,
   "metadata": {},
   "outputs": [
    {
     "data": {
      "text/html": [
       "<table border=\"1\" class=\"dataframe\">\n",
       "  <thead>\n",
       "    <tr style=\"text-align: right;\">\n",
       "      <th></th>\n",
       "      <th>data</th>\n",
       "      <th>model</th>\n",
       "      <th>transformation</th>\n",
       "      <th>rho</th>\n",
       "      <th>dgp_seed</th>\n",
       "      <th>random_state</th>\n",
       "      <th>number_of_simulations</th>\n",
       "      <th>validation_accuracy</th>\n",
       "      <th>transformed_validation_accuracy</th>\n",
       "      <th>accuracy_difference</th>\n",
       "      <th>test_size</th>\n",
       "      <th>standart_error</th>\n",
       "      <th>observable_t_stats</th>\n",
       "      <th>p_value</th>\n",
       "      <th>cochran_statistic</th>\n",
       "      <th>cochran_p_value</th>\n",
       "      <th>training_time</th>\n",
       "      <th>test_time</th>\n",
       "    </tr>\n",
       "  </thead>\n",
       "  <tbody>\n",
       "    <tr>\n",
       "      <th>0</th>\n",
       "      <td>snli</td>\n",
       "      <td>roberta</td>\n",
       "      <td>wordnet sin tranformation p and h</td>\n",
       "      <td>0.25</td>\n",
       "      <td>29</td>\n",
       "      <td>36</td>\n",
       "      <td>1000</td>\n",
       "      <td>0.878988</td>\n",
       "      <td>0.854704</td>\n",
       "      <td>0.024284</td>\n",
       "      <td>9842</td>\n",
       "      <td>0.239215</td>\n",
       "      <td>10.070894</td>\n",
       "      <td>0.0</td>\n",
       "      <td>100.388401</td>\n",
       "      <td>0.0</td>\n",
       "      <td>5.269132</td>\n",
       "      <td>5.962057</td>\n",
       "    </tr>\n",
       "    <tr>\n",
       "      <th>1</th>\n",
       "      <td>snli</td>\n",
       "      <td>roberta</td>\n",
       "      <td>wordnet sin tranformation p and h</td>\n",
       "      <td>0.25</td>\n",
       "      <td>143</td>\n",
       "      <td>311</td>\n",
       "      <td>1000</td>\n",
       "      <td>0.874721</td>\n",
       "      <td>0.849929</td>\n",
       "      <td>0.024792</td>\n",
       "      <td>9842</td>\n",
       "      <td>0.251383</td>\n",
       "      <td>9.783895</td>\n",
       "      <td>0.0</td>\n",
       "      <td>94.802548</td>\n",
       "      <td>0.0</td>\n",
       "      <td>5.273451</td>\n",
       "      <td>5.965189</td>\n",
       "    </tr>\n",
       "  </tbody>\n",
       "</table>"
      ],
      "text/plain": [
       "<IPython.core.display.HTML object>"
      ]
     },
     "metadata": {},
     "output_type": "display_data"
    }
   ],
   "source": [
    "df1 = pd.read_csv(\"results/snli/roberta_base/sin_p_h/rho_0p25_dgp_seed_29_random_state_36.csv\")\n",
    "diff1 = pd.read_csv(\"raw_results/snli/roberta_base/sin_p_h/rho_0p25_dgp_seed_29_random_state_36_results.csv\")\n",
    "df1_new = update_results_with_cochran_test(df1, diff1)\n",
    "df2 = pd.read_csv(\"results/snli/roberta_base/sin_p_h/rho_0p25_dgp_seed_143_random_state_311.csv\")\n",
    "diff2 = pd.read_csv(\"raw_results/snli/roberta_base/sin_p_h/rho_0p25_dgp_seed_143_random_state_311_results.csv\")\n",
    "df2_new = update_results_with_cochran_test(df2, diff2)\n",
    "df_rho_0p25 = pd.concat([df1_new, df2_new]).reset_index(drop=True)\n",
    "df_rho_0p25 = get_standart_results(df_rho_0p25)\n",
    "show_df(df_rho_0p25)"
   ]
  },
  {
   "cell_type": "markdown",
   "metadata": {},
   "source": [
    "## Results for $\\rho = 0.5$"
   ]
  },
  {
   "cell_type": "code",
   "execution_count": 4,
   "metadata": {},
   "outputs": [
    {
     "data": {
      "text/html": [
       "<table border=\"1\" class=\"dataframe\">\n",
       "  <thead>\n",
       "    <tr style=\"text-align: right;\">\n",
       "      <th></th>\n",
       "      <th>data</th>\n",
       "      <th>model</th>\n",
       "      <th>transformation</th>\n",
       "      <th>rho</th>\n",
       "      <th>dgp_seed</th>\n",
       "      <th>random_state</th>\n",
       "      <th>number_of_simulations</th>\n",
       "      <th>validation_accuracy</th>\n",
       "      <th>transformed_validation_accuracy</th>\n",
       "      <th>accuracy_difference</th>\n",
       "      <th>test_size</th>\n",
       "      <th>standart_error</th>\n",
       "      <th>observable_t_stats</th>\n",
       "      <th>p_value</th>\n",
       "      <th>cochran_statistic</th>\n",
       "      <th>cochran_p_value</th>\n",
       "      <th>training_time</th>\n",
       "      <th>test_time</th>\n",
       "    </tr>\n",
       "  </thead>\n",
       "  <tbody>\n",
       "    <tr>\n",
       "      <th>0</th>\n",
       "      <td>snli</td>\n",
       "      <td>roberta</td>\n",
       "      <td>wordnet sin tranformation p and h</td>\n",
       "      <td>0.5</td>\n",
       "      <td>23</td>\n",
       "      <td>18</td>\n",
       "      <td>1000</td>\n",
       "      <td>0.877464</td>\n",
       "      <td>0.855111</td>\n",
       "      <td>0.022353</td>\n",
       "      <td>9842</td>\n",
       "      <td>0.246306</td>\n",
       "      <td>9.003380</td>\n",
       "      <td>0.0</td>\n",
       "      <td>80.398671</td>\n",
       "      <td>0.0</td>\n",
       "      <td>3.969875</td>\n",
       "      <td>4.481582</td>\n",
       "    </tr>\n",
       "    <tr>\n",
       "      <th>1</th>\n",
       "      <td>snli</td>\n",
       "      <td>roberta</td>\n",
       "      <td>wordnet sin tranformation p and h</td>\n",
       "      <td>0.5</td>\n",
       "      <td>149</td>\n",
       "      <td>50</td>\n",
       "      <td>1000</td>\n",
       "      <td>0.872790</td>\n",
       "      <td>0.854603</td>\n",
       "      <td>0.018187</td>\n",
       "      <td>9842</td>\n",
       "      <td>0.249719</td>\n",
       "      <td>7.225356</td>\n",
       "      <td>0.0</td>\n",
       "      <td>51.930308</td>\n",
       "      <td>0.0</td>\n",
       "      <td>3.963076</td>\n",
       "      <td>4.475143</td>\n",
       "    </tr>\n",
       "  </tbody>\n",
       "</table>"
      ],
      "text/plain": [
       "<IPython.core.display.HTML object>"
      ]
     },
     "metadata": {},
     "output_type": "display_data"
    }
   ],
   "source": [
    "df1 = pd.read_csv(\"results/snli/roberta_base/sin_p_h/rho_0p50_dgp_seed_23_random_state_18.csv\")\n",
    "diff1 = pd.read_csv(\"raw_results/snli/roberta_base/sin_p_h/rho_0p5_dgp_seed_23_random_state_18_results.csv\")\n",
    "df1_new = update_results_with_cochran_test(df1, diff1)\n",
    "df2 = pd.read_csv(\"results/snli/roberta_base/sin_p_h/rho_0p50_dgp_seed_149_random_state_50.csv\")\n",
    "diff2 = pd.read_csv(\"raw_results/snli/roberta_base/sin_p_h/rho_0p5_dgp_seed_149_random_state_50_results.csv\")\n",
    "df2_new = update_results_with_cochran_test(df2, diff2)\n",
    "df_rho_0p5 = pd.concat([df1_new, df2_new]).reset_index(drop=True)\n",
    "df_rho_0p5 = get_standart_results(df_rho_0p5)\n",
    "show_df(df_rho_0p5)"
   ]
  },
  {
   "cell_type": "markdown",
   "metadata": {},
   "source": [
    "## Results for $\\rho = 0.75$"
   ]
  },
  {
   "cell_type": "code",
   "execution_count": 5,
   "metadata": {},
   "outputs": [
    {
     "data": {
      "text/html": [
       "<table border=\"1\" class=\"dataframe\">\n",
       "  <thead>\n",
       "    <tr style=\"text-align: right;\">\n",
       "      <th></th>\n",
       "      <th>data</th>\n",
       "      <th>model</th>\n",
       "      <th>transformation</th>\n",
       "      <th>rho</th>\n",
       "      <th>dgp_seed</th>\n",
       "      <th>random_state</th>\n",
       "      <th>number_of_simulations</th>\n",
       "      <th>validation_accuracy</th>\n",
       "      <th>transformed_validation_accuracy</th>\n",
       "      <th>accuracy_difference</th>\n",
       "      <th>test_size</th>\n",
       "      <th>standart_error</th>\n",
       "      <th>observable_t_stats</th>\n",
       "      <th>p_value</th>\n",
       "      <th>cochran_statistic</th>\n",
       "      <th>cochran_p_value</th>\n",
       "      <th>training_time</th>\n",
       "      <th>test_time</th>\n",
       "    </tr>\n",
       "  </thead>\n",
       "  <tbody>\n",
       "    <tr>\n",
       "      <th>0</th>\n",
       "      <td>snli</td>\n",
       "      <td>roberta</td>\n",
       "      <td>wordnet sin tranformation p and h</td>\n",
       "      <td>0.75</td>\n",
       "      <td>71</td>\n",
       "      <td>12</td>\n",
       "      <td>1000</td>\n",
       "      <td>0.871774</td>\n",
       "      <td>0.858769</td>\n",
       "      <td>0.013005</td>\n",
       "      <td>9842</td>\n",
       "      <td>0.237753</td>\n",
       "      <td>5.426773</td>\n",
       "      <td>0.0</td>\n",
       "      <td>29.362007</td>\n",
       "      <td>0.0</td>\n",
       "      <td>5.264317</td>\n",
       "      <td>5.956277</td>\n",
       "    </tr>\n",
       "    <tr>\n",
       "      <th>1</th>\n",
       "      <td>snli</td>\n",
       "      <td>roberta</td>\n",
       "      <td>wordnet sin tranformation p and h</td>\n",
       "      <td>0.75</td>\n",
       "      <td>34</td>\n",
       "      <td>5311</td>\n",
       "      <td>1000</td>\n",
       "      <td>0.867405</td>\n",
       "      <td>0.854501</td>\n",
       "      <td>0.012904</td>\n",
       "      <td>9842</td>\n",
       "      <td>0.234965</td>\n",
       "      <td>5.448280</td>\n",
       "      <td>0.0</td>\n",
       "      <td>29.594495</td>\n",
       "      <td>0.0</td>\n",
       "      <td>5.285015</td>\n",
       "      <td>5.976698</td>\n",
       "    </tr>\n",
       "  </tbody>\n",
       "</table>"
      ],
      "text/plain": [
       "<IPython.core.display.HTML object>"
      ]
     },
     "metadata": {},
     "output_type": "display_data"
    }
   ],
   "source": [
    "df1 = pd.read_csv(\"results/snli/roberta_base/sin_p_h/rho_0p75_dgp_seed_71_random_state_12.csv\")\n",
    "diff1 = pd.read_csv(\"raw_results/snli/roberta_base/sin_p_h/rho_0p75_dgp_seed_71_random_state_12_results.csv\")\n",
    "df1_new = update_results_with_cochran_test(df1, diff1)\n",
    "df2 = pd.read_csv(\"results/snli/roberta_base/sin_p_h/rho_0p75_dgp_seed_34_random_state_5311.csv\")\n",
    "diff2 = pd.read_csv(\"raw_results/snli/roberta_base/sin_p_h/rho_0p75_dgp_seed_34_random_state_5311_results.csv\")\n",
    "df2_new = update_results_with_cochran_test(df2, diff2)\n",
    "\n",
    "df_rho_0p75 = pd.concat([df1_new, df2_new]).reset_index(drop=True)\n",
    "df_rho_0p75 = get_standart_results(df_rho_0p75)\n",
    "show_df(df_rho_0p75)"
   ]
  },
  {
   "cell_type": "markdown",
   "metadata": {},
   "source": [
    "## Results for $\\rho = 1.0$"
   ]
  },
  {
   "cell_type": "code",
   "execution_count": 6,
   "metadata": {},
   "outputs": [
    {
     "data": {
      "text/html": [
       "<table border=\"1\" class=\"dataframe\">\n",
       "  <thead>\n",
       "    <tr style=\"text-align: right;\">\n",
       "      <th></th>\n",
       "      <th>data</th>\n",
       "      <th>model</th>\n",
       "      <th>transformation</th>\n",
       "      <th>rho</th>\n",
       "      <th>dgp_seed</th>\n",
       "      <th>random_state</th>\n",
       "      <th>number_of_simulations</th>\n",
       "      <th>validation_accuracy</th>\n",
       "      <th>transformed_validation_accuracy</th>\n",
       "      <th>accuracy_difference</th>\n",
       "      <th>test_size</th>\n",
       "      <th>standart_error</th>\n",
       "      <th>observable_t_stats</th>\n",
       "      <th>p_value</th>\n",
       "      <th>cochran_statistic</th>\n",
       "      <th>cochran_p_value</th>\n",
       "      <th>training_time</th>\n",
       "      <th>test_time</th>\n",
       "    </tr>\n",
       "  </thead>\n",
       "  <tbody>\n",
       "    <tr>\n",
       "      <th>0</th>\n",
       "      <td>snli</td>\n",
       "      <td>roberta</td>\n",
       "      <td>wordnet sin tranformation p and h</td>\n",
       "      <td>1.0</td>\n",
       "      <td>71</td>\n",
       "      <td>12</td>\n",
       "      <td>1000</td>\n",
       "      <td>0.867811</td>\n",
       "      <td>0.856330</td>\n",
       "      <td>0.011481</td>\n",
       "      <td>9842</td>\n",
       "      <td>0.248896</td>\n",
       "      <td>4.576352</td>\n",
       "      <td>0.0</td>\n",
       "      <td>20.898527</td>\n",
       "      <td>0.000</td>\n",
       "      <td>3.964856</td>\n",
       "      <td>4.476734</td>\n",
       "    </tr>\n",
       "    <tr>\n",
       "      <th>1</th>\n",
       "      <td>snli</td>\n",
       "      <td>roberta</td>\n",
       "      <td>wordnet sin tranformation p and h</td>\n",
       "      <td>1.0</td>\n",
       "      <td>524</td>\n",
       "      <td>26</td>\n",
       "      <td>1000</td>\n",
       "      <td>0.864966</td>\n",
       "      <td>0.856432</td>\n",
       "      <td>0.008535</td>\n",
       "      <td>9842</td>\n",
       "      <td>0.244277</td>\n",
       "      <td>3.466215</td>\n",
       "      <td>0.0</td>\n",
       "      <td>12.000000</td>\n",
       "      <td>0.001</td>\n",
       "      <td>3.964446</td>\n",
       "      <td>4.474546</td>\n",
       "    </tr>\n",
       "  </tbody>\n",
       "</table>"
      ],
      "text/plain": [
       "<IPython.core.display.HTML object>"
      ]
     },
     "metadata": {},
     "output_type": "display_data"
    }
   ],
   "source": [
    "df1 = pd.read_csv(\"results/snli/roberta_base/sin_p_h/rho_1p00_dgp_seed_71_random_state_12.csv\")\n",
    "diff1 = pd.read_csv(\"raw_results/snli/roberta_base/sin_p_h/rho_1p0_dgp_seed_71_random_state_12_results.csv\")\n",
    "df1_new = update_results_with_cochran_test(df1, diff1)\n",
    "\n",
    "df2 = pd.read_csv(\"results/snli/roberta_base/sin_p_h/rho_1p00_dgp_seed_524_random_state_26.csv\")\n",
    "diff2 = pd.read_csv(\"raw_results/snli/roberta_base/sin_p_h/rho_1p0_dgp_seed_524_random_state_26_results.csv\")\n",
    "df2_new = update_results_with_cochran_test(df2, diff2)\n",
    "\n",
    "\n",
    "df_rho_1p0 = pd.concat([df1_new, df2_new]).reset_index(drop=True)\n",
    "df_rho_1p0 = get_standart_results(df_rho_1p0)\n",
    "show_df(df_rho_1p0)"
   ]
  },
  {
   "cell_type": "markdown",
   "metadata": {},
   "source": [
    "## Plotting Results"
   ]
  },
  {
   "cell_type": "code",
   "execution_count": 7,
   "metadata": {},
   "outputs": [
    {
     "data": {
      "image/png": "[encoded data removed]",
      "text/plain": [
       "<Figure size 720x360 with 2 Axes>"
      ]
     },
     "metadata": {
      "needs_background": "light"
     },
     "output_type": "display_data"
    },
    {
     "data": {
      "image/png": "[encoded data removed]",
      "text/plain": [
       "<Figure size 720x360 with 2 Axes>"
      ]
     },
     "metadata": {
      "needs_background": "light"
     },
     "output_type": "display_data"
    },
    {
     "data": {
      "image/png": "[encoded data removed]",
      "text/plain": [
       "<Figure size 864x432 with 1 Axes>"
      ]
     },
     "metadata": {
      "needs_background": "light"
     },
     "output_type": "display_data"
    }
   ],
   "source": [
    "dfs = [df_rho_0, df_rho_0p25, df_rho_0p5, df_rho_0p75, df_rho_1p0]\n",
    "names = [\"0.0\", \"0.25\", \"0.5\", \"0.75\", \"1.00\" ]\n",
    "\n",
    "all_p_values = {}\n",
    "for df, name in zip(dfs, names):\n",
    "    results = df.p_value\n",
    "    all_p_values[name] = results \n",
    "\n",
    "fig, ax = plt.subplots(figsize=(10,5))\n",
    "sns.heatmap(pd.DataFrame(all_p_values), annot=True, cmap=\"YlGnBu\", linewidths=0.3, ax=ax);\n",
    "ax.set_xlabel(r\"$\\rho$\", fontsize=14);\n",
    "ax.set_ylabel(\"number of tests\", fontsize=14);\n",
    "ax.set_title(\"RoBERTa base p-values (paired t-test) \\n\\ndataset: SNLI\\ntransformation: synonym substitution\\n\");\n",
    "fig.tight_layout()\n",
    "fig.savefig('figs/roberta_base_p_values_snli_sin_p_h.png', bbox_inches=None, pad_inches=0.5)\n",
    "\n",
    "\n",
    "all_p_values = {}\n",
    "for df, name in zip(dfs, names):\n",
    "    results = df.cochran_p_value\n",
    "    all_p_values[name] = results \n",
    "\n",
    "fig, ax = plt.subplots(figsize=(10,5))\n",
    "sns.heatmap(pd.DataFrame(all_p_values), annot=True, cmap=\"YlGnBu\", linewidths=0.3, ax=ax);\n",
    "ax.set_xlabel(r\"$\\rho$\", fontsize=14);\n",
    "ax.set_ylabel(\"number of tests\", fontsize=14);\n",
    "ax.set_title(\"RoBERTa base p-values (cochran test) \\n\\ndataset: SNLI\\ntransformation: synonym substitution\\n\");\n",
    "fig.tight_layout()\n",
    "fig.savefig('figs/roberta_base_p_values_cochran_snli_sin_p_h.png', bbox_inches=None, pad_inches=0.5)\n",
    "\n",
    "\n",
    "rhos = []\n",
    "acc_s = []\n",
    "acc_t_s = []\n",
    "\n",
    "for df in dfs:\n",
    "    acc = df.validation_accuracy.values\n",
    "    acc_s.append(acc)\n",
    "    acc_t = df.transformed_validation_accuracy.values\n",
    "    acc_t_s.append(acc_t)\n",
    "    rhos.append(df.rho.values[0])\n",
    "acc_s = np.array(acc_s)\n",
    "acc_t_s = np.array(acc_t_s)\n",
    "\n",
    "acc_c = [\"acc_{}\".format(i) for i in range(acc_s.shape[1])]\n",
    "acc_t_c = [\"acc_t_{}\".format(i) for i in range(acc_t_s.shape[1])]\n",
    "\n",
    "acc = pd.DataFrame(acc_s, index=rhos, columns=acc_c)\n",
    "acc.index.name = \"rho\"\n",
    "acc_t = pd.DataFrame(acc_t_s, index=rhos, columns=acc_t_c)\n",
    "acc_t.index.name = \"rho\"\n",
    "\n",
    "x = acc.mean(1).index\n",
    "y = acc.mean(1).values\n",
    "error = acc.std(1).values\n",
    "\n",
    "x_t = acc_t.mean(1).index\n",
    "y_t = acc_t.mean(1).values\n",
    "error_t = acc_t.std(1).values\n",
    "\n",
    "\n",
    "fig, ax = plt.subplots(figsize=(12,6))\n",
    "ax.errorbar(x, y, yerr=error, fmt='-o', label=\"original validation data\");\n",
    "ax.errorbar(x_t, y_t, yerr=error_t, fmt='-o', label=\"transformed validation data\");\n",
    "ax.legend(loc=\"best\");\n",
    "ax.set_xlabel(r\"$\\rho$\", fontsize=14);\n",
    "ax.set_ylabel(\"accuracy\", fontsize=14);\n",
    "ax.set_title(\"RoBERTa base accuracy\\n\\ndataset: SNLI\\ntransformation: synonym substitution\\n\");\n",
    "fig.tight_layout()\n",
    "fig.savefig('figs/roberta_base_acc_snli_sin_p_h.png', bbox_inches=None, pad_inches=0.5)\n"
   ]
  },
  {
   "cell_type": "code",
   "execution_count": null,
   "metadata": {},
   "outputs": [],
   "source": []
  }
 ],
 "metadata": {
  "kernelspec": {
   "display_name": "Python 3",
   "language": "python",
   "name": "python3"
  },
  "language_info": {
   "codemirror_mode": {
    "name": "ipython",
    "version": 3
   },
   "file_extension": ".py",
   "mimetype": "text/x-python",
   "name": "python",
   "nbconvert_exporter": "python",
   "pygments_lexer": "ipython3",
   "version": "3.6.9"
  }
 },
 "nbformat": 4,
 "nbformat_minor": 2
}
