{
 "cells": [
  {
   "cell_type": "markdown",
   "metadata": {},
   "source": [
    "# All Results for the SNLI dataset"
   ]
  },
  {
   "cell_type": "code",
   "execution_count": 1,
   "metadata": {},
   "outputs": [],
   "source": [
    "import pandas as pd\n",
    "import os\n",
    "import numpy as np\n",
    "import matplotlib.pyplot as plt\n",
    "import seaborn as sns\n",
    "from tqdm import tqdm\n",
    "from IPython.display import display, HTML \n",
    "from lr.analysis.util import get_ts_from_results_folder \n",
    "from lr.analysis.util import get_rho_stats_from_result_list\n",
    "from lr.stats.h_testing import get_ks_stats_from_p_values_compared_to_uniform_dist\n",
    "import seaborn as sns"
   ]
  },
  {
   "cell_type": "code",
   "execution_count": 2,
   "metadata": {},
   "outputs": [],
   "source": [
    "sns.set()"
   ]
  },
  {
   "cell_type": "markdown",
   "metadata": {},
   "source": [
    "## Get Results Functions"
   ]
  },
  {
   "cell_type": "code",
   "execution_count": 3,
   "metadata": {},
   "outputs": [],
   "source": [
    "def get_results(base_path, test_repetitions, stat):\n",
    "    all_stats = []\n",
    "    batchs = range(1, test_repetitions + 1)\n",
    "    for i in tqdm(batchs):\n",
    "        sta  = get_ts_from_results_folder(path=base_path + \"{}/\".format(i),\n",
    "                                                     stat=stat)\n",
    "        all_stats.append(sta)\n",
    "    return pd.concat(all_stats,1)"
   ]
  },
  {
   "cell_type": "markdown",
   "metadata": {},
   "source": [
    "## SNLI Results"
   ]
  },
  {
   "cell_type": "code",
   "execution_count": 4,
   "metadata": {},
   "outputs": [
    {
     "name": "stderr",
     "output_type": "stream",
     "text": [
      "100%|██████████| 5/5 [00:01<00:00,  4.14it/s]\n",
      "100%|██████████| 5/5 [00:00<00:00, 56.96it/s]\n"
     ]
    }
   ],
   "source": [
    "filter_ = [0.0, 0.2, 0.4, 0.5, 0.6, 0.8, 1.0]\n",
    "p_xgb_snli = get_results(\"results/snli/xgb/syn_p_h/batch\", test_repetitions=5, stat=\"paired_t_p_value\")\n",
    "p_xgb_snli = p_xgb_snli.loc[filter_]\n",
    "p_bert_snli = get_results(\"results/snli/bert_base/syn_p_h/batch\", test_repetitions=5, stat=\"paired_t_p_value\")"
   ]
  },
  {
   "cell_type": "markdown",
   "metadata": {},
   "source": [
    "## MNLI Results"
   ]
  },
  {
   "cell_type": "code",
   "execution_count": null,
   "metadata": {},
   "outputs": [],
   "source": []
  },
  {
   "cell_type": "markdown",
   "metadata": {},
   "source": [
    "## P-values Plot"
   ]
  },
  {
   "cell_type": "code",
   "execution_count": 5,
   "metadata": {},
   "outputs": [
    {
     "data": {
      "image/png": "[encoded data removed]",
      "text/plain": [
       "<Figure size 648x432 with 2 Axes>"
      ]
     },
     "metadata": {},
     "output_type": "display_data"
    }
   ],
   "source": [
    "p_bert_snli = p_bert_snli.min(1)\n",
    "p_bert_snli.name = 'BERT'\n",
    "p_xgb_snli = p_xgb_snli.min(1)\n",
    "p_xgb_snli.name = 'Baseline'\n",
    "p_values_snli = pd.concat([p_xgb_snli, p_bert_snli],1).transpose()\n",
    "\n",
    "fig, ax = plt.subplots(figsize=(9, 6))\n",
    "sns.heatmap(p_values_snli, annot=True, fmt=\".2f\", linewidths=.5, ax=ax, cmap=\"Oranges\");\n",
    "ax.set_xlabel(r\"$\\rho$\", fontsize=14);\n",
    "ax.set_yticklabels(p_values_snli.index.values, rotation=360, ha='right',fontsize=12);\n",
    "ax.set_title(\"SNLI\", fontsize=20);"
   ]
  },
  {
   "cell_type": "code",
   "execution_count": null,
   "metadata": {},
   "outputs": [],
   "source": []
  }
 ],
 "metadata": {
  "kernelspec": {
   "display_name": "Python 3",
   "language": "python",
   "name": "python3"
  },
  "language_info": {
   "codemirror_mode": {
    "name": "ipython",
    "version": 3
   },
   "file_extension": ".py",
   "mimetype": "text/x-python",
   "name": "python",
   "nbconvert_exporter": "python",
   "pygments_lexer": "ipython3",
   "version": "3.6.9"
  }
 },
 "nbformat": 4,
 "nbformat_minor": 2
}
