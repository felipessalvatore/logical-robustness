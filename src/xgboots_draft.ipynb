{
 "cells": [
  {
   "cell_type": "code",
   "execution_count": 1,
   "metadata": {},
   "outputs": [],
   "source": [
    "import pandas as pd\n",
    "import numpy as np\n",
    "import matplotlib.pyplot as plt\n",
    "from lr.text_processing.util import pre_process_nli_df\n",
    "from lr.text_processing.util import get_corpus\n",
    "from lr.training.util import get_ternary_label, filter_df_by_label\n",
    "from lr.training.language_representation import Tfidf\n",
    "from lr.training.util import get_ternary_label\n",
    "from sklearn.model_selection import train_test_split\n",
    "import xgboost as xgb\n",
    "from sklearn.model_selection import RandomizedSearchCV"
   ]
  },
  {
   "cell_type": "markdown",
   "metadata": {},
   "source": [
    "### Loading data"
   ]
  },
  {
   "cell_type": "code",
   "execution_count": 3,
   "metadata": {},
   "outputs": [
    {
     "name": "stdout",
     "output_type": "stream",
     "text": [
      "(10000, 3)\n",
      "(1000, 3)\n"
     ]
    }
   ],
   "source": [
    "train_path = \"data/snli/train.csv\"\n",
    "dev_path = \"data/snli/dev.csv\"\n",
    "\n",
    "train = pd.read_csv(train_path)\n",
    "dev = pd.read_csv(dev_path)\n",
    "train = filter_df_by_label(train.dropna()).reset_index(drop=True)\n",
    "dev = filter_df_by_label(dev.dropna()).reset_index(drop=True)\n",
    "\n",
    "train = train.head(10000)\n",
    "dev = dev.head(1000)\n",
    "pre_process_nli_df(train)\n",
    "pre_process_nli_df(dev)\n",
    "\n",
    "\n",
    "print(train.shape)\n",
    "print(dev.shape)"
   ]
  },
  {
   "cell_type": "markdown",
   "metadata": {},
   "source": [
    "### Params"
   ]
  },
  {
   "cell_type": "code",
   "execution_count": 4,
   "metadata": {},
   "outputs": [],
   "source": [
    "param_grid = {'n_estimators': range(10,30, 5),\n",
    "                  'max_depth': range(2,31),\n",
    "                  \"reg_alpha\":np.arange(0.05, 1.05, 0.05),\n",
    "                  \"reg_gamma\":np.arange(0.05, 1.05, 0.05),\n",
    "                  \"learning_rate\":np.arange(0.05, 1.05, 0.05),\n",
    "                  \"subsample\":np.arange(0.05, 1.05, 0.05),\n",
    "                  \"colsample_bytree\":np.arange(0.05, 1.05, 0.05)}\n",
    "\n",
    "\n",
    "hyperparams = {\"RepresentationFunction\": Tfidf,\n",
    "               \"cv\":3,\n",
    "               \"random_state\": 123,\n",
    "               \"verbose\":1,\n",
    "               \"n_jobs\":1,\n",
    "               \"n_iter\":2,\n",
    "               \"max_features\": None,\n",
    "               \"label_translation\": get_ternary_label,\n",
    "               \"param_grid\": param_grid}"
   ]
  },
  {
   "cell_type": "markdown",
   "metadata": {},
   "source": [
    "## Get Features"
   ]
  },
  {
   "cell_type": "code",
   "execution_count": 6,
   "metadata": {},
   "outputs": [
    {
     "name": "stdout",
     "output_type": "stream",
     "text": [
      "(10000, 5867)\n",
      "(10000,)\n"
     ]
    }
   ],
   "source": [
    "repr_ = Tfidf(hyperparams)\n",
    "train_corpus = get_corpus(train)\n",
    "repr_.fit(train_corpus)\n",
    "X = repr_.transform(train_corpus)\n",
    "y = get_ternary_label(train)\n",
    "print(X.shape)\n",
    "print(y.shape)"
   ]
  },
  {
   "cell_type": "code",
   "execution_count": 7,
   "metadata": {},
   "outputs": [],
   "source": [
    "X_train, X_test, y_train, y_test = train_test_split(X,\n",
    "                                                    y,\n",
    "                                                    test_size=0.2,\n",
    "                                                    random_state=123)"
   ]
  },
  {
   "cell_type": "code",
   "execution_count": 8,
   "metadata": {},
   "outputs": [],
   "source": [
    "xg_cls = xgb.XGBClassifier(objective=\"multi:softprob\",\n",
    "                           n_estimatores=10,\n",
    "                           seed=123)\n",
    "\n",
    "xg_cls.fit(X_train, y_train)\n",
    "y_pred = xg_cls.predict(X_test)\n",
    "untuned_acc = np.mean(y_pred == y_test)"
   ]
  },
  {
   "cell_type": "code",
   "execution_count": 9,
   "metadata": {},
   "outputs": [
    {
     "name": "stdout",
     "output_type": "stream",
     "text": [
      "Fitting 3 folds for each of 2 candidates, totalling 6 fits\n"
     ]
    },
    {
     "name": "stderr",
     "output_type": "stream",
     "text": [
      "[Parallel(n_jobs=1)]: Using backend SequentialBackend with 1 concurrent workers.\n",
      "[Parallel(n_jobs=1)]: Done   6 out of   6 | elapsed:   12.2s finished\n"
     ]
    }
   ],
   "source": [
    "gbm = xgb.XGBClassifier(objective=\"multi:softprob\")\n",
    "params = hyperparams[\"param_grid\"]\n",
    "\n",
    "\n",
    "randomized_cv = RandomizedSearchCV(param_distributions=hyperparams[\"param_grid\"],\n",
    "                                   estimator=gbm,\n",
    "                                   scoring=\"accuracy\",\n",
    "                                   n_iter=hyperparams[\"n_iter\"],\n",
    "                                   cv=hyperparams[\"cv\"],\n",
    "                                   verbose=hyperparams[\"verbose\"],\n",
    "                                   random_state=hyperparams[\"random_state\"])\n",
    "\n",
    "\n",
    "# Fit randomized_mse to the data\n",
    "randomized_cv.fit(X,y)\n",
    "y_pred = randomized_cv.predict(X_test)\n",
    "tuned_acc = np.mean(y_pred == y_test)"
   ]
  },
  {
   "cell_type": "code",
   "execution_count": 10,
   "metadata": {},
   "outputs": [
    {
     "name": "stdout",
     "output_type": "stream",
     "text": [
      "0.5147999503009689\n",
      "{'subsample': 0.9500000000000001, 'reg_gamma': 0.2, 'reg_alpha': 0.2, 'n_estimators': 20, 'max_depth': 9, 'learning_rate': 0.4, 'colsample_bytree': 0.45}\n"
     ]
    }
   ],
   "source": [
    "print(randomized_cv.best_score_)\n",
    "print(randomized_cv.best_params_)"
   ]
  },
  {
   "cell_type": "code",
   "execution_count": 11,
   "metadata": {},
   "outputs": [
    {
     "name": "stdout",
     "output_type": "stream",
     "text": [
      "untuned acc: 0.499\n",
      "tuned acc: 0.711\n",
      "tunning gain = 70.25%\n"
     ]
    }
   ],
   "source": [
    "ratio = untuned_acc / tuned_acc\n",
    "print(\"untuned acc: {:.3f}\".format(untuned_acc))\n",
    "print(\"tuned acc: {:.3f}\".format(tuned_acc))\n",
    "print(\"tunning gain = {:.2%}\".format(ratio))"
   ]
  },
  {
   "cell_type": "code",
   "execution_count": null,
   "metadata": {},
   "outputs": [],
   "source": []
  }
 ],
 "metadata": {
  "kernelspec": {
   "display_name": "Python 3",
   "language": "python",
   "name": "python3"
  },
  "language_info": {
   "codemirror_mode": {
    "name": "ipython",
    "version": 3
   },
   "file_extension": ".py",
   "mimetype": "text/x-python",
   "name": "python",
   "nbconvert_exporter": "python",
   "pygments_lexer": "ipython3",
   "version": "3.6.9"
  }
 },
 "nbformat": 4,
 "nbformat_minor": 2
}
