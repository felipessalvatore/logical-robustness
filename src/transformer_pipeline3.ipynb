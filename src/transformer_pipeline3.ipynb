{
 "cells": [
  {
   "cell_type": "code",
   "execution_count": 1,
   "metadata": {},
   "outputs": [],
   "source": [
    "from lr.models.transformers.processor import NLIProcessor, features2dataset\n",
    "from lr.models.transformers.processor import filter_df_by_label\n",
    "from lr.models.transformers.train_functions import evaluate, train, set_seed\n",
    "\n",
    "import logging\n",
    "import os\n",
    "import shutil\n",
    "import torch\n",
    "import numpy as np\n",
    "import pandas as pd\n",
    "from transformers import BertTokenizer\n",
    "from transformers import BertForSequenceClassification\n",
    "from time import time\n",
    "from sklearn.model_selection import train_test_split"
   ]
  },
  {
   "cell_type": "markdown",
   "metadata": {},
   "source": [
    "### Params"
   ]
  },
  {
   "cell_type": "code",
   "execution_count": 2,
   "metadata": {},
   "outputs": [],
   "source": [
    "folder = \"snli\"\n",
    "\n",
    "hyperparams = {\"local_rank\": -1,\n",
    "               \"max_seq_length\": 200,\n",
    "               \"overwrite_cache\": False,\n",
    "               \"num_train_epochs\":1.0,\n",
    "               \"per_gpu_train_batch_size\":32,\n",
    "               \"per_gpu_eval_batch_size\":32,\n",
    "               \"gradient_accumulation_steps\": 1,\n",
    "               \"learning_rate\":5e-5,\n",
    "               \"weight_decay\":0.0,\n",
    "               \"adam_epsilon\": 1e-8,\n",
    "               \"max_grad_norm\": 1.0,\n",
    "               \"max_steps\": 20,\n",
    "               \"warmup_steps\": 0,\n",
    "               \"save_steps\": 2,\n",
    "               \"no_cuda\":False,\n",
    "               \"n_gpu\":1,\n",
    "               \"model_name_or_path\":\"bert\",\n",
    "               \"output_dir\":\"bert\",\n",
    "               \"random_state\": 42,\n",
    "               \"fp16\":False,\n",
    "               \"fp16_opt_level\":\"01\",\n",
    "               \"device\":\"cpu\",\n",
    "               \"verbose\":True,\n",
    "               \"model_type\": \"bert\",\n",
    "               \"pad_on_left\":False,\n",
    "               \"pad_token\":0,\n",
    "               \"pad_token_segment_id\":0,\n",
    "               \"mask_padding_with_zero\":True,\n",
    "               \"base_path\": \"data/{}/cached_\".format(folder)} "
   ]
  },
  {
   "cell_type": "markdown",
   "metadata": {},
   "source": [
    "# loading tokenizers"
   ]
  },
  {
   "cell_type": "code",
   "execution_count": 3,
   "metadata": {},
   "outputs": [],
   "source": [
    "set_seed(hyperparams[\"random_state\"], hyperparams[\"n_gpu\"])\n",
    "\n",
    "pretrained_weights = 'bert-base-uncased'\n",
    "tokenizer = BertTokenizer.from_pretrained(pretrained_weights)\n",
    "hyperparams[\"tokenizer\"] = tokenizer"
   ]
  },
  {
   "cell_type": "markdown",
   "metadata": {},
   "source": [
    "## Set results dict"
   ]
  },
  {
   "cell_type": "code",
   "execution_count": 4,
   "metadata": {},
   "outputs": [],
   "source": [
    "meta_results = {\"moment\":[],\n",
    "                \"type\":[],\n",
    "                \"loss\":[],\n",
    "                \"acc\":[],\n",
    "                \"time\":[]}"
   ]
  },
  {
   "cell_type": "markdown",
   "metadata": {},
   "source": [
    "# df"
   ]
  },
  {
   "cell_type": "code",
   "execution_count": 5,
   "metadata": {},
   "outputs": [],
   "source": [
    "train_path = \"data/{}/train.csv\".format(folder)\n",
    "set_seed(hyperparams[\"random_state\"], hyperparams[\"n_gpu\"])\n",
    "\n",
    "eval_sample_size = 100\n",
    "\n",
    "\n",
    "df = pd.read_csv(train_path)\n",
    "df = df.head(1000)\n",
    "\n",
    "df_train, df_dev = train_test_split(df, test_size=0.2)\n",
    "df_train_to_eval = df_train.sample(n=eval_sample_size, random_state=hyperparams[\"random_state\"])\n",
    "df_dev_to_eval = df_dev.sample(n=eval_sample_size,random_state=hyperparams[\"random_state\"])\n",
    "\n",
    "# assert np.all(df_train.index[:3] == [305830, 486798, 386780])"
   ]
  },
  {
   "cell_type": "markdown",
   "metadata": {},
   "source": [
    "## Creating features"
   ]
  },
  {
   "cell_type": "code",
   "execution_count": 6,
   "metadata": {},
   "outputs": [
    {
     "name": "stdout",
     "output_type": "stream",
     "text": [
      "total time = 0.033\n"
     ]
    }
   ],
   "source": [
    "processor = NLIProcessor(hyperparams)\n",
    "init = time()\n",
    "train_cached_features_file = processor.df2features(df=df_train,\n",
    "                                                   n_cores=8,\n",
    "                                                   mode=\"train\")\n",
    "\n",
    "train_to_eval_cached_features_file = processor.df2features(df=df_train_to_eval,\n",
    "                                                           n_cores=8,\n",
    "                                                           mode=\"train_to_eval\")\n",
    "\n",
    "dev_cached_features_file = processor.df2features(df=df_dev,\n",
    "                                                   n_cores=8,\n",
    "                                                   mode=\"dev\")\n",
    "\n",
    "dev_to_eval_cached_features_file = processor.df2features(df=df_dev_to_eval,\n",
    "                                                         n_cores=8,\n",
    "                                                         mode=\"dev_to_eval\")\n",
    "\n",
    "p_time = time() - init\n",
    "print(\"total time = {:.3f}\".format(p_time / 60))"
   ]
  },
  {
   "cell_type": "markdown",
   "metadata": {},
   "source": [
    "## Loading Datasets"
   ]
  },
  {
   "cell_type": "code",
   "execution_count": 7,
   "metadata": {},
   "outputs": [
    {
     "name": "stdout",
     "output_type": "stream",
     "text": [
      "total time = 0.000\n"
     ]
    }
   ],
   "source": [
    "init = time()\n",
    "train_dataset = features2dataset(train_cached_features_file)\n",
    "train_dataset_to_eval = features2dataset(train_to_eval_cached_features_file)\n",
    "dev_dataset = features2dataset(dev_cached_features_file)\n",
    "dev_dataset_to_eval = features2dataset(dev_to_eval_cached_features_file)\n",
    "p_time = time() - init\n",
    "print(\"total time = {:.3f}\".format(p_time / 60))"
   ]
  },
  {
   "cell_type": "code",
   "execution_count": 8,
   "metadata": {},
   "outputs": [
    {
     "name": "stdout",
     "output_type": "stream",
     "text": [
      "798\n",
      "100\n",
      "200\n",
      "100\n"
     ]
    }
   ],
   "source": [
    "print(len(train_dataset))\n",
    "print(len(train_dataset_to_eval))\n",
    "print(len(dev_dataset))\n",
    "print(len(dev_dataset_to_eval))"
   ]
  },
  {
   "cell_type": "markdown",
   "metadata": {},
   "source": [
    "## Loading Model"
   ]
  },
  {
   "cell_type": "code",
   "execution_count": 9,
   "metadata": {},
   "outputs": [],
   "source": [
    "model = BertForSequenceClassification.from_pretrained(pretrained_weights, num_labels = 3)"
   ]
  },
  {
   "cell_type": "markdown",
   "metadata": {},
   "source": [
    "### Eval before training\n",
    "\n",
    "#### Train sample"
   ]
  },
  {
   "cell_type": "code",
   "execution_count": 10,
   "metadata": {},
   "outputs": [
    {
     "name": "stderr",
     "output_type": "stream",
     "text": [
      "Evaluating: 100%|██████████| 4/4 [00:12<00:00,  3.03s/it]\n"
     ]
    }
   ],
   "source": [
    "train_loss, train_results = evaluate(train_dataset_to_eval, hyperparams, model)\n",
    "train_acc = (train_results.prediction==train_results.label).mean()\n",
    "\n",
    "lmap = processor.get_label_map()\n",
    "filtered = filter_df_by_label(df_train_to_eval.dropna()).reset_index(drop=True)\n",
    "assert np.all(filtered.label.map(lambda x: lmap[x]) == train_results.label)\n",
    "\n",
    "\n",
    "\n",
    "meta_results[\"moment\"].append(\"before\")\n",
    "meta_results[\"type\"].append(\"train\")\n",
    "meta_results[\"loss\"].append(train_loss)\n",
    "meta_results[\"acc\"].append(train_acc)\n",
    "meta_results[\"time\"].append(np.nan)"
   ]
  },
  {
   "cell_type": "markdown",
   "metadata": {},
   "source": [
    "#### Dev sample"
   ]
  },
  {
   "cell_type": "code",
   "execution_count": 11,
   "metadata": {},
   "outputs": [
    {
     "name": "stderr",
     "output_type": "stream",
     "text": [
      "Evaluating: 100%|██████████| 4/4 [00:12<00:00,  3.05s/it]\n"
     ]
    }
   ],
   "source": [
    "dev_loss, results = evaluate(dev_dataset_to_eval, hyperparams, model)\n",
    "dev_acc = (results.prediction==results.label).mean()\n",
    "\n",
    "\n",
    "filtered = filter_df_by_label(df_dev_to_eval.dropna()).reset_index(drop=True)\n",
    "assert np.all(filtered.label.map(lambda x: lmap[x]) == results.label)\n",
    "\n",
    "\n",
    "\n",
    "meta_results[\"moment\"].append(\"before\")\n",
    "meta_results[\"type\"].append(\"dev\")\n",
    "meta_results[\"loss\"].append(dev_loss)\n",
    "meta_results[\"acc\"].append(dev_acc)\n",
    "meta_results[\"time\"].append(np.nan)"
   ]
  },
  {
   "cell_type": "markdown",
   "metadata": {},
   "source": [
    "# Train"
   ]
  },
  {
   "cell_type": "code",
   "execution_count": 12,
   "metadata": {},
   "outputs": [
    {
     "name": "stderr",
     "output_type": "stream",
     "text": [
      "Epoch:   0%|          | 0/1 [00:00<?, ?it/s]\n",
      "Iteration:   0%|          | 0/25 [00:00<?, ?it/s]\u001b[A\n",
      "Iteration:   4%|▍         | 1/25 [00:12<04:59, 12.46s/it]\u001b[A\n",
      "\n",
      "Evaluating:   0%|          | 0/4 [00:00<?, ?it/s]\u001b[A\u001b[A\n",
      "\n",
      "Evaluating:  25%|██▌       | 1/4 [00:03<00:11,  3.69s/it]\u001b[A\u001b[A\n",
      "\n",
      "Evaluating:  50%|█████     | 2/4 [00:07<00:07,  3.71s/it]\u001b[A\u001b[A\n",
      "\n",
      "Evaluating:  75%|███████▌  | 3/4 [00:11<00:03,  3.72s/it]\u001b[A\u001b[A\n",
      "\n",
      "Evaluating: 100%|██████████| 4/4 [00:11<00:00,  2.91s/it]\u001b[A\u001b[A\n",
      "\n",
      "\n",
      "Evaluating:   0%|          | 0/4 [00:00<?, ?it/s]\u001b[A\u001b[A\n",
      "\n",
      "Evaluating:  25%|██▌       | 1/4 [00:03<00:11,  3.75s/it]\u001b[A\u001b[A\n",
      "\n",
      "Evaluating:  50%|█████     | 2/4 [00:07<00:07,  3.75s/it]\u001b[A\u001b[A\n",
      "\n",
      "Evaluating:  75%|███████▌  | 3/4 [00:11<00:03,  3.75s/it]\u001b[A\u001b[A\n",
      "\n",
      "Evaluating: 100%|██████████| 4/4 [00:11<00:00,  2.93s/it]\u001b[A\u001b[A\n",
      "\n",
      "Iteration:   8%|▊         | 2/25 [00:48<07:31, 19.63s/it]\u001b[A\n",
      "Iteration:  12%|█▏        | 3/25 [01:01<06:24, 17.46s/it]\u001b[A\n",
      "\n",
      "Evaluating:   0%|          | 0/4 [00:00<?, ?it/s]\u001b[A\u001b[A\n",
      "\n",
      "Evaluating:  25%|██▌       | 1/4 [00:03<00:11,  3.70s/it]\u001b[A\u001b[A\n",
      "\n",
      "Evaluating:  50%|█████     | 2/4 [00:07<00:07,  3.72s/it]\u001b[A\u001b[A\n",
      "\n",
      "Evaluating:  75%|███████▌  | 3/4 [00:11<00:03,  3.73s/it]\u001b[A\u001b[A\n",
      "\n",
      "Evaluating: 100%|██████████| 4/4 [00:11<00:00,  2.92s/it]\u001b[A\u001b[A\n",
      "\n",
      "\n",
      "Evaluating:   0%|          | 0/4 [00:00<?, ?it/s]\u001b[A\u001b[A\n",
      "\n",
      "Evaluating:  25%|██▌       | 1/4 [00:03<00:11,  3.75s/it]\u001b[A\u001b[A\n",
      "\n",
      "Evaluating:  50%|█████     | 2/4 [00:07<00:07,  3.75s/it]\u001b[A\u001b[A\n",
      "\n",
      "Evaluating:  75%|███████▌  | 3/4 [00:11<00:03,  3.75s/it]\u001b[A\u001b[A\n",
      "\n",
      "Evaluating: 100%|██████████| 4/4 [00:11<00:00,  2.93s/it]\u001b[A\u001b[A\n",
      "\n",
      "Iteration:  16%|█▌        | 4/25 [01:37<08:05, 23.13s/it]\u001b[A\n",
      "Iteration:  20%|██        | 5/25 [01:49<06:37, 19.89s/it]\u001b[A\n",
      "\n",
      "Evaluating:   0%|          | 0/4 [00:00<?, ?it/s]\u001b[A\u001b[A\n",
      "\n",
      "Evaluating:  25%|██▌       | 1/4 [00:03<00:11,  3.70s/it]\u001b[A\u001b[A\n",
      "\n",
      "Evaluating:  50%|█████     | 2/4 [00:07<00:07,  3.72s/it]\u001b[A\u001b[A\n",
      "\n",
      "Evaluating:  75%|███████▌  | 3/4 [00:11<00:03,  3.73s/it]\u001b[A\u001b[A\n",
      "\n",
      "Evaluating: 100%|██████████| 4/4 [00:11<00:00,  2.92s/it]\u001b[A\u001b[A\n",
      "\n",
      "\n",
      "Evaluating:   0%|          | 0/4 [00:00<?, ?it/s]\u001b[A\u001b[A\n",
      "\n",
      "Evaluating:  25%|██▌       | 1/4 [00:03<00:11,  3.79s/it]\u001b[A\u001b[A\n",
      "\n",
      "Evaluating:  50%|█████     | 2/4 [00:07<00:07,  3.78s/it]\u001b[A\u001b[A\n",
      "\n",
      "Evaluating:  75%|███████▌  | 3/4 [00:11<00:03,  3.77s/it]\u001b[A\u001b[A\n",
      "\n",
      "Evaluating: 100%|██████████| 4/4 [00:11<00:00,  2.96s/it]\u001b[A\u001b[A\n",
      "\n",
      "Iteration:  24%|██▍       | 6/25 [02:26<07:52, 24.84s/it]\u001b[A\n",
      "Iteration:  28%|██▊       | 7/25 [02:38<06:19, 21.11s/it]\u001b[A\n",
      "\n",
      "Evaluating:   0%|          | 0/4 [00:00<?, ?it/s]\u001b[A\u001b[A\n",
      "\n",
      "Evaluating:  25%|██▌       | 1/4 [00:03<00:11,  3.71s/it]\u001b[A\u001b[A\n",
      "\n",
      "Evaluating:  50%|█████     | 2/4 [00:07<00:07,  3.72s/it]\u001b[A\u001b[A\n",
      "\n",
      "Evaluating:  75%|███████▌  | 3/4 [00:11<00:03,  3.73s/it]\u001b[A\u001b[A\n",
      "\n",
      "Evaluating: 100%|██████████| 4/4 [00:11<00:00,  2.92s/it]\u001b[A\u001b[A\n",
      "\n",
      "\n",
      "Evaluating:   0%|          | 0/4 [00:00<?, ?it/s]\u001b[A\u001b[A\n",
      "\n",
      "Evaluating:  25%|██▌       | 1/4 [00:03<00:11,  3.75s/it]\u001b[A\u001b[A\n",
      "\n",
      "Evaluating:  50%|█████     | 2/4 [00:07<00:07,  3.75s/it]\u001b[A\u001b[A\n",
      "\n",
      "Evaluating:  75%|███████▌  | 3/4 [00:11<00:03,  3.75s/it]\u001b[A\u001b[A\n",
      "\n",
      "Evaluating: 100%|██████████| 4/4 [00:11<00:00,  2.94s/it]\u001b[A\u001b[A\n",
      "\n",
      "Iteration:  32%|███▏      | 8/25 [03:15<07:16, 25.68s/it]\u001b[A\n",
      "Iteration:  36%|███▌      | 9/25 [03:27<05:46, 21.68s/it]\u001b[A\n",
      "\n",
      "Evaluating:   0%|          | 0/4 [00:00<?, ?it/s]\u001b[A\u001b[A\n",
      "\n",
      "Evaluating:  25%|██▌       | 1/4 [00:03<00:11,  3.71s/it]\u001b[A\u001b[A\n",
      "\n",
      "Evaluating:  50%|█████     | 2/4 [00:07<00:07,  3.73s/it]\u001b[A\u001b[A\n",
      "\n",
      "Evaluating:  75%|███████▌  | 3/4 [00:11<00:03,  3.73s/it]\u001b[A\u001b[A\n",
      "\n",
      "Evaluating: 100%|██████████| 4/4 [00:11<00:00,  2.93s/it]\u001b[A\u001b[A\n",
      "\n",
      "\n",
      "Evaluating:   0%|          | 0/4 [00:00<?, ?it/s]\u001b[A\u001b[A\n",
      "\n",
      "Evaluating:  25%|██▌       | 1/4 [00:03<00:11,  3.76s/it]\u001b[A\u001b[A\n",
      "\n",
      "Evaluating:  50%|█████     | 2/4 [00:07<00:07,  3.76s/it]\u001b[A\u001b[A\n",
      "\n",
      "Evaluating:  75%|███████▌  | 3/4 [00:11<00:03,  3.75s/it]\u001b[A\u001b[A\n",
      "\n",
      "Evaluating: 100%|██████████| 4/4 [00:11<00:00,  2.94s/it]\u001b[A\u001b[A\n",
      "\n",
      "Iteration:  40%|████      | 10/25 [04:03<06:31, 26.10s/it]\u001b[A\n",
      "Iteration:  44%|████▍     | 11/25 [04:16<05:07, 21.98s/it]\u001b[A\n",
      "\n",
      "Evaluating:   0%|          | 0/4 [00:00<?, ?it/s]\u001b[A\u001b[A\n",
      "\n",
      "Evaluating:  25%|██▌       | 1/4 [00:03<00:11,  3.71s/it]\u001b[A\u001b[A\n",
      "\n",
      "Evaluating:  50%|█████     | 2/4 [00:07<00:07,  3.72s/it]\u001b[A\u001b[A\n",
      "\n",
      "Evaluating:  75%|███████▌  | 3/4 [00:11<00:03,  3.73s/it]\u001b[A\u001b[A\n",
      "\n",
      "Evaluating: 100%|██████████| 4/4 [00:11<00:00,  2.92s/it]\u001b[A\u001b[A\n",
      "\n",
      "\n",
      "Evaluating:   0%|          | 0/4 [00:00<?, ?it/s]\u001b[A\u001b[A\n",
      "\n",
      "Evaluating:  25%|██▌       | 1/4 [00:03<00:11,  3.75s/it]\u001b[A\u001b[A\n",
      "\n",
      "Evaluating:  50%|█████     | 2/4 [00:07<00:07,  3.75s/it]\u001b[A\u001b[A\n",
      "\n",
      "Evaluating:  75%|███████▌  | 3/4 [00:11<00:03,  3.75s/it]\u001b[A\u001b[A\n",
      "\n",
      "Evaluating: 100%|██████████| 4/4 [00:11<00:00,  2.93s/it]\u001b[A\u001b[A\n",
      "\n",
      "Iteration:  48%|████▊     | 12/25 [04:52<05:41, 26.28s/it]\u001b[A\n",
      "Iteration:  52%|█████▏    | 13/25 [05:05<04:25, 22.16s/it]\u001b[A\n",
      "\n",
      "Evaluating:   0%|          | 0/4 [00:00<?, ?it/s]\u001b[A\u001b[A\n",
      "\n",
      "Evaluating:  25%|██▌       | 1/4 [00:03<00:11,  3.71s/it]\u001b[A\u001b[A\n",
      "\n",
      "Evaluating:  50%|█████     | 2/4 [00:07<00:07,  3.73s/it]\u001b[A\u001b[A\n",
      "\n",
      "Evaluating:  75%|███████▌  | 3/4 [00:11<00:03,  3.73s/it]\u001b[A\u001b[A\n",
      "\n",
      "Evaluating: 100%|██████████| 4/4 [00:11<00:00,  2.93s/it]\u001b[A\u001b[A\n",
      "\n",
      "\n",
      "Evaluating:   0%|          | 0/4 [00:00<?, ?it/s]\u001b[A\u001b[A\n",
      "\n",
      "Evaluating:  25%|██▌       | 1/4 [00:03<00:11,  3.75s/it]\u001b[A\u001b[A\n",
      "\n",
      "Evaluating:  50%|█████     | 2/4 [00:07<00:07,  3.75s/it]\u001b[A\u001b[A\n",
      "\n",
      "Evaluating:  75%|███████▌  | 3/4 [00:11<00:03,  3.75s/it]\u001b[A\u001b[A\n",
      "\n",
      "Evaluating: 100%|██████████| 4/4 [00:11<00:00,  2.93s/it]\u001b[A\u001b[A\n",
      "\n",
      "Iteration:  56%|█████▌    | 14/25 [05:41<04:50, 26.40s/it]\u001b[A\n",
      "Iteration:  60%|██████    | 15/25 [05:53<03:41, 22.19s/it]\u001b[A\n",
      "\n",
      "Evaluating:   0%|          | 0/4 [00:00<?, ?it/s]\u001b[A\u001b[A\n",
      "\n",
      "Evaluating:  25%|██▌       | 1/4 [00:03<00:11,  3.71s/it]\u001b[A\u001b[A\n",
      "\n",
      "Evaluating:  50%|█████     | 2/4 [00:07<00:07,  3.72s/it]\u001b[A\u001b[A\n",
      "\n",
      "Evaluating:  75%|███████▌  | 3/4 [00:11<00:03,  3.73s/it]\u001b[A\u001b[A\n",
      "\n",
      "Evaluating: 100%|██████████| 4/4 [00:11<00:00,  2.93s/it]\u001b[A\u001b[A\n",
      "\n",
      "\n",
      "Evaluating:   0%|          | 0/4 [00:00<?, ?it/s]\u001b[A\u001b[A\n",
      "\n",
      "Evaluating:  25%|██▌       | 1/4 [00:03<00:11,  3.75s/it]\u001b[A\u001b[A\n",
      "\n",
      "Evaluating:  50%|█████     | 2/4 [00:07<00:07,  3.75s/it]\u001b[A\u001b[A\n",
      "\n",
      "Evaluating:  75%|███████▌  | 3/4 [00:11<00:03,  3.75s/it]\u001b[A\u001b[A\n",
      "\n",
      "Evaluating: 100%|██████████| 4/4 [00:11<00:00,  2.94s/it]\u001b[A\u001b[A\n",
      "\n",
      "Iteration:  64%|██████▍   | 16/25 [06:30<03:58, 26.45s/it]\u001b[A\n",
      "Iteration:  68%|██████▊   | 17/25 [06:42<02:57, 22.24s/it]\u001b[A\n",
      "\n",
      "Evaluating:   0%|          | 0/4 [00:00<?, ?it/s]\u001b[A\u001b[A\n",
      "\n",
      "Evaluating:  25%|██▌       | 1/4 [00:03<00:11,  3.70s/it]\u001b[A\u001b[A\n",
      "\n",
      "Evaluating:  50%|█████     | 2/4 [00:07<00:07,  3.72s/it]\u001b[A\u001b[A\n",
      "\n",
      "Evaluating:  75%|███████▌  | 3/4 [00:11<00:03,  3.73s/it]\u001b[A\u001b[A\n",
      "\n",
      "Evaluating: 100%|██████████| 4/4 [00:11<00:00,  2.92s/it]\u001b[A\u001b[A\n",
      "\n",
      "\n",
      "Evaluating:   0%|          | 0/4 [00:00<?, ?it/s]\u001b[A\u001b[A\n",
      "\n",
      "Evaluating:  25%|██▌       | 1/4 [00:03<00:11,  3.76s/it]\u001b[A\u001b[A\n",
      "\n",
      "Evaluating:  50%|█████     | 2/4 [00:07<00:07,  3.78s/it]\u001b[A\u001b[A\n",
      "\n",
      "Evaluating:  75%|███████▌  | 3/4 [00:11<00:03,  3.77s/it]\u001b[A\u001b[A\n",
      "\n",
      "Evaluating: 100%|██████████| 4/4 [00:11<00:00,  2.95s/it]\u001b[A\u001b[A\n",
      "\n",
      "Iteration:  72%|███████▏  | 18/25 [07:18<03:05, 26.49s/it]\u001b[A\n",
      "Iteration:  76%|███████▌  | 19/25 [07:31<02:13, 22.25s/it]\u001b[A\n",
      "\n",
      "Evaluating:   0%|          | 0/4 [00:00<?, ?it/s]\u001b[A\u001b[A\n",
      "\n",
      "Evaluating:  25%|██▌       | 1/4 [00:03<00:11,  3.71s/it]\u001b[A\u001b[A\n",
      "\n",
      "Evaluating:  50%|█████     | 2/4 [00:07<00:07,  3.73s/it]\u001b[A\u001b[A\n",
      "\n",
      "Evaluating:  75%|███████▌  | 3/4 [00:11<00:03,  3.73s/it]\u001b[A\u001b[A\n",
      "\n",
      "Evaluating: 100%|██████████| 4/4 [00:11<00:00,  2.93s/it]\u001b[A\u001b[A\n",
      "\n",
      "\n",
      "Evaluating:   0%|          | 0/4 [00:00<?, ?it/s]\u001b[A\u001b[A\n",
      "\n",
      "Evaluating:  25%|██▌       | 1/4 [00:03<00:11,  3.75s/it]\u001b[A\u001b[A\n",
      "\n",
      "Evaluating:  50%|█████     | 2/4 [00:07<00:07,  3.74s/it]\u001b[A\u001b[A\n",
      "\n",
      "Evaluating:  75%|███████▌  | 3/4 [00:11<00:03,  3.75s/it]\u001b[A\u001b[A\n",
      "\n",
      "Evaluating: 100%|██████████| 4/4 [00:11<00:00,  2.93s/it]\u001b[A\u001b[A\n",
      "\n",
      "Iteration:  80%|████████  | 20/25 [08:19<02:04, 25.00s/it]\u001b[A\n",
      "Epoch:   0%|          | 0/1 [08:19<?, ?it/s]\n"
     ]
    }
   ],
   "source": [
    "init = time()\n",
    "global_step, tr_loss = train(train_dataset,\n",
    "                             train_dataset_to_eval,\n",
    "                             dev_dataset_to_eval,\n",
    "                             model, tokenizer, hyperparams)\n",
    "train_time = time() - init"
   ]
  },
  {
   "cell_type": "markdown",
   "metadata": {},
   "source": [
    "### Eval after training\n",
    "\n",
    "#### Train sample"
   ]
  },
  {
   "cell_type": "code",
   "execution_count": 13,
   "metadata": {},
   "outputs": [
    {
     "name": "stderr",
     "output_type": "stream",
     "text": [
      "Evaluating: 100%|██████████| 4/4 [00:11<00:00,  2.96s/it]\n"
     ]
    }
   ],
   "source": [
    "train_loss, train_results = evaluate(train_dataset_to_eval, hyperparams, model)\n",
    "train_acc = (train_results.prediction==train_results.label).mean()\n",
    "\n",
    "filtered = filter_df_by_label(df_train_to_eval.dropna()).reset_index(drop=True)\n",
    "assert np.all(filtered.label.map(lambda x: lmap[x]) == train_results.label)\n",
    "\n",
    "\n",
    "\n",
    "meta_results[\"moment\"].append(\"after\")\n",
    "meta_results[\"type\"].append(\"train\")\n",
    "meta_results[\"loss\"].append(train_loss)\n",
    "meta_results[\"acc\"].append(train_acc)\n",
    "meta_results[\"time\"].append(train_time)"
   ]
  },
  {
   "cell_type": "markdown",
   "metadata": {},
   "source": [
    "#### Dev sample"
   ]
  },
  {
   "cell_type": "code",
   "execution_count": 14,
   "metadata": {},
   "outputs": [
    {
     "name": "stderr",
     "output_type": "stream",
     "text": [
      "Evaluating: 100%|██████████| 4/4 [00:11<00:00,  2.93s/it]\n"
     ]
    }
   ],
   "source": [
    "dev_loss, results = evaluate(dev_dataset_to_eval, hyperparams, model)\n",
    "dev_acc = (results.prediction==results.label).mean()\n",
    "\n",
    "\n",
    "filtered = filter_df_by_label(df_dev_to_eval.dropna()).reset_index(drop=True)\n",
    "assert np.all(filtered.label.map(lambda x: lmap[x]) == results.label)\n",
    "\n",
    "\n",
    "\n",
    "meta_results[\"moment\"].append(\"after\")\n",
    "meta_results[\"type\"].append(\"dev\")\n",
    "meta_results[\"loss\"].append(dev_loss)\n",
    "meta_results[\"acc\"].append(dev_acc)\n",
    "meta_results[\"time\"].append(train_time)"
   ]
  },
  {
   "cell_type": "markdown",
   "metadata": {},
   "source": [
    "## Results"
   ]
  },
  {
   "cell_type": "code",
   "execution_count": 15,
   "metadata": {},
   "outputs": [
    {
     "data": {
      "text/html": [
       "<div>\n",
       "<style scoped>\n",
       "    .dataframe tbody tr th:only-of-type {\n",
       "        vertical-align: middle;\n",
       "    }\n",
       "\n",
       "    .dataframe tbody tr th {\n",
       "        vertical-align: top;\n",
       "    }\n",
       "\n",
       "    .dataframe thead th {\n",
       "        text-align: right;\n",
       "    }\n",
       "</style>\n",
       "<table border=\"1\" class=\"dataframe\">\n",
       "  <thead>\n",
       "    <tr style=\"text-align: right;\">\n",
       "      <th></th>\n",
       "      <th>moment</th>\n",
       "      <th>type</th>\n",
       "      <th>loss</th>\n",
       "      <th>acc</th>\n",
       "      <th>time</th>\n",
       "    </tr>\n",
       "  </thead>\n",
       "  <tbody>\n",
       "    <tr>\n",
       "      <th>0</th>\n",
       "      <td>before</td>\n",
       "      <td>train</td>\n",
       "      <td>1.304386</td>\n",
       "      <td>0.33</td>\n",
       "      <td>NaN</td>\n",
       "    </tr>\n",
       "    <tr>\n",
       "      <th>1</th>\n",
       "      <td>before</td>\n",
       "      <td>dev</td>\n",
       "      <td>1.167507</td>\n",
       "      <td>0.36</td>\n",
       "      <td>NaN</td>\n",
       "    </tr>\n",
       "    <tr>\n",
       "      <th>2</th>\n",
       "      <td>after</td>\n",
       "      <td>train</td>\n",
       "      <td>1.085443</td>\n",
       "      <td>0.41</td>\n",
       "      <td>499.999792</td>\n",
       "    </tr>\n",
       "    <tr>\n",
       "      <th>3</th>\n",
       "      <td>after</td>\n",
       "      <td>dev</td>\n",
       "      <td>1.027093</td>\n",
       "      <td>0.44</td>\n",
       "      <td>499.999792</td>\n",
       "    </tr>\n",
       "  </tbody>\n",
       "</table>\n",
       "</div>"
      ],
      "text/plain": [
       "   moment   type      loss   acc        time\n",
       "0  before  train  1.304386  0.33         NaN\n",
       "1  before    dev  1.167507  0.36         NaN\n",
       "2   after  train  1.085443  0.41  499.999792\n",
       "3   after    dev  1.027093  0.44  499.999792"
      ]
     },
     "execution_count": 15,
     "metadata": {},
     "output_type": "execute_result"
    }
   ],
   "source": [
    "meta_results = pd.DataFrame(meta_results)\n",
    "meta_results.to_csv(\"meta.csv\",index=False)\n",
    "meta_results"
   ]
  },
  {
   "cell_type": "code",
   "execution_count": 21,
   "metadata": {},
   "outputs": [
    {
     "data": {
      "image/png": "[encoded data removed]",
      "text/plain": [
       "<Figure size 432x288 with 1 Axes>"
      ]
     },
     "metadata": {
      "needs_background": "light"
     },
     "output_type": "display_data"
    }
   ],
   "source": [
    "df_eval = pd.read_csv(\"bert/eval_log.csv\")\n",
    "df_eval.set_index([\"step\"])[[\"train_acc\",\"dev_acc\"]].plot();"
   ]
  },
  {
   "cell_type": "markdown",
   "metadata": {},
   "source": [
    "### loading models"
   ]
  },
  {
   "cell_type": "code",
   "execution_count": 30,
   "metadata": {},
   "outputs": [
    {
     "name": "stderr",
     "output_type": "stream",
     "text": [
      "Evaluating: 100%|██████████| 4/4 [00:11<00:00,  2.89s/it]"
     ]
    },
    {
     "name": "stdout",
     "output_type": "stream",
     "text": [
      "0.37\n"
     ]
    },
    {
     "name": "stderr",
     "output_type": "stream",
     "text": [
      "\n"
     ]
    }
   ],
   "source": [
    "s = 'bert/checkpoint-2/'\n",
    "model = BertForSequenceClassification.from_pretrained(s)\n",
    "\n",
    "dev_loss, results = evaluate(dev_dataset_to_eval, hyperparams, model)\n",
    "dev_acc = (results.prediction==results.label).mean()\n",
    "print(dev_acc )"
   ]
  },
  {
   "cell_type": "code",
   "execution_count": 31,
   "metadata": {},
   "outputs": [
    {
     "name": "stderr",
     "output_type": "stream",
     "text": [
      "Evaluating: 100%|██████████| 4/4 [00:11<00:00,  2.89s/it]"
     ]
    },
    {
     "name": "stdout",
     "output_type": "stream",
     "text": [
      "0.43\n"
     ]
    },
    {
     "name": "stderr",
     "output_type": "stream",
     "text": [
      "\n"
     ]
    }
   ],
   "source": [
    "s = 'bert/checkpoint-18/'\n",
    "model = BertForSequenceClassification.from_pretrained(s)\n",
    "\n",
    "dev_loss, results = evaluate(dev_dataset_to_eval, hyperparams, model)\n",
    "dev_acc = (results.prediction==results.label).mean()\n",
    "print(dev_acc )"
   ]
  },
  {
   "cell_type": "code",
   "execution_count": null,
   "metadata": {},
   "outputs": [],
   "source": []
  },
  {
   "cell_type": "code",
   "execution_count": null,
   "metadata": {},
   "outputs": [],
   "source": []
  }
 ],
 "metadata": {
  "kernelspec": {
   "display_name": "Python 3",
   "language": "python",
   "name": "python3"
  },
  "language_info": {
   "codemirror_mode": {
    "name": "ipython",
    "version": 3
   },
   "file_extension": ".py",
   "mimetype": "text/x-python",
   "name": "python",
   "nbconvert_exporter": "python",
   "pygments_lexer": "ipython3",
   "version": "3.6.8"
  }
 },
 "nbformat": 4,
 "nbformat_minor": 4
}
