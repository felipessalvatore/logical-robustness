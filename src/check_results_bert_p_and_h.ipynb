{
 "cells": [
  {
   "cell_type": "markdown",
   "metadata": {},
   "source": [
    "# Results for BERT when applying syn tranformation to both premise and hypothesis"
   ]
  },
  {
   "cell_type": "code",
   "execution_count": 1,
   "metadata": {},
   "outputs": [],
   "source": [
    "import pandas as pd\n",
    "import numpy as np\n",
    "import matplotlib.pyplot as plt\n",
    "import seaborn as sns\n",
    "from IPython.display import display, HTML \n",
    "from lr.stats.h_testing import get_boot_p_value\n",
    "from lr.analysis.util import get_boots, show_df, get_standart_results"
   ]
  },
  {
   "cell_type": "markdown",
   "metadata": {},
   "source": [
    "## Results for $\\rho = 0$"
   ]
  },
  {
   "cell_type": "code",
   "execution_count": 2,
   "metadata": {},
   "outputs": [
    {
     "data": {
      "text/html": [
       "<table border=\"1\" class=\"dataframe\">\n",
       "  <thead>\n",
       "    <tr style=\"text-align: right;\">\n",
       "      <th></th>\n",
       "      <th>data</th>\n",
       "      <th>model</th>\n",
       "      <th>transformation</th>\n",
       "      <th>rho</th>\n",
       "      <th>dgp_seed</th>\n",
       "      <th>random_state</th>\n",
       "      <th>number_of_simulations</th>\n",
       "      <th>validation_accuracy</th>\n",
       "      <th>transformed_validation_accuracy</th>\n",
       "      <th>accuracy_difference</th>\n",
       "      <th>test_size</th>\n",
       "      <th>standart_error</th>\n",
       "      <th>observable_t_stats</th>\n",
       "      <th>p_value</th>\n",
       "      <th>training_time</th>\n",
       "      <th>test_time</th>\n",
       "    </tr>\n",
       "  </thead>\n",
       "  <tbody>\n",
       "    <tr>\n",
       "      <th>0</th>\n",
       "      <td>snli</td>\n",
       "      <td>bert</td>\n",
       "      <td>wordnet sin tranformation p and h</td>\n",
       "      <td>0.0</td>\n",
       "      <td>12</td>\n",
       "      <td>52</td>\n",
       "      <td>1000</td>\n",
       "      <td>0.851250</td>\n",
       "      <td>0.805426</td>\n",
       "      <td>0.045824</td>\n",
       "      <td>9842</td>\n",
       "      <td>0.289758</td>\n",
       "      <td>15.689131</td>\n",
       "      <td>0.0</td>\n",
       "      <td>5.224734</td>\n",
       "      <td>5.923270</td>\n",
       "    </tr>\n",
       "    <tr>\n",
       "      <th>1</th>\n",
       "      <td>snli</td>\n",
       "      <td>bert</td>\n",
       "      <td>wordnet sin tranformation p and h</td>\n",
       "      <td>0.0</td>\n",
       "      <td>109</td>\n",
       "      <td>14</td>\n",
       "      <td>1000</td>\n",
       "      <td>0.848608</td>\n",
       "      <td>0.809388</td>\n",
       "      <td>0.039220</td>\n",
       "      <td>9842</td>\n",
       "      <td>0.284187</td>\n",
       "      <td>13.691204</td>\n",
       "      <td>0.0</td>\n",
       "      <td>5.255883</td>\n",
       "      <td>5.953357</td>\n",
       "    </tr>\n",
       "  </tbody>\n",
       "</table>"
      ],
      "text/plain": [
       "<IPython.core.display.HTML object>"
      ]
     },
     "metadata": {},
     "output_type": "display_data"
    }
   ],
   "source": [
    "df1 = pd.read_csv(\"results/snli/bert/sin_p_h/rho_0p00_dgp_seed_12_random_state_52.csv\")\n",
    "df2 = pd.read_csv(\"results/snli/bert/sin_p_h/rho_0p00_dgp_seed_109_random_state_14.csv\")\n",
    "df_rho_0 = pd.concat([df1, df2]).reset_index(drop=True)\n",
    "df_rho_0 = get_standart_results(df_rho_0)\n",
    "show_df(df_rho_0)"
   ]
  },
  {
   "cell_type": "markdown",
   "metadata": {},
   "source": [
    "## Results for $\\rho = 0.25$"
   ]
  },
  {
   "cell_type": "code",
   "execution_count": 3,
   "metadata": {},
   "outputs": [
    {
     "data": {
      "text/html": [
       "<table border=\"1\" class=\"dataframe\">\n",
       "  <thead>\n",
       "    <tr style=\"text-align: right;\">\n",
       "      <th></th>\n",
       "      <th>data</th>\n",
       "      <th>model</th>\n",
       "      <th>transformation</th>\n",
       "      <th>rho</th>\n",
       "      <th>dgp_seed</th>\n",
       "      <th>random_state</th>\n",
       "      <th>number_of_simulations</th>\n",
       "      <th>validation_accuracy</th>\n",
       "      <th>transformed_validation_accuracy</th>\n",
       "      <th>accuracy_difference</th>\n",
       "      <th>test_size</th>\n",
       "      <th>standart_error</th>\n",
       "      <th>observable_t_stats</th>\n",
       "      <th>p_value</th>\n",
       "      <th>training_time</th>\n",
       "      <th>test_time</th>\n",
       "    </tr>\n",
       "  </thead>\n",
       "  <tbody>\n",
       "    <tr>\n",
       "      <th>0</th>\n",
       "      <td>snli</td>\n",
       "      <td>bert</td>\n",
       "      <td>wordnet sin tranformation p and h</td>\n",
       "      <td>0.25</td>\n",
       "      <td>259</td>\n",
       "      <td>59</td>\n",
       "      <td>1000</td>\n",
       "      <td>0.846068</td>\n",
       "      <td>0.822902</td>\n",
       "      <td>0.023166</td>\n",
       "      <td>9842</td>\n",
       "      <td>0.255546</td>\n",
       "      <td>8.993414</td>\n",
       "      <td>0.0</td>\n",
       "      <td>3.985263</td>\n",
       "      <td>4.499651</td>\n",
       "    </tr>\n",
       "    <tr>\n",
       "      <th>1</th>\n",
       "      <td>snli</td>\n",
       "      <td>bert</td>\n",
       "      <td>wordnet sin tranformation p and h</td>\n",
       "      <td>0.25</td>\n",
       "      <td>148</td>\n",
       "      <td>7</td>\n",
       "      <td>1000</td>\n",
       "      <td>0.854400</td>\n",
       "      <td>0.828185</td>\n",
       "      <td>0.026214</td>\n",
       "      <td>9842</td>\n",
       "      <td>0.253654</td>\n",
       "      <td>10.252662</td>\n",
       "      <td>0.0</td>\n",
       "      <td>4.010465</td>\n",
       "      <td>4.526140</td>\n",
       "    </tr>\n",
       "  </tbody>\n",
       "</table>"
      ],
      "text/plain": [
       "<IPython.core.display.HTML object>"
      ]
     },
     "metadata": {},
     "output_type": "display_data"
    }
   ],
   "source": [
    "df1 = pd.read_csv(\"results/snli/bert/sin_p_h/rho_0p25_dgp_seed_259_random_state_59.csv\")\n",
    "df2 = pd.read_csv(\"results/snli/bert/sin_p_h/rho_0p25_dgp_seed_148_random_state_7.csv\")\n",
    "df_rho_0p25 = pd.concat([df1, df2]).reset_index(drop=True)\n",
    "df_rho_0p25 = get_standart_results(df_rho_0p25)\n",
    "show_df(df_rho_0p25)"
   ]
  },
  {
   "cell_type": "markdown",
   "metadata": {},
   "source": [
    "## Results for $\\rho = 0.5$"
   ]
  },
  {
   "cell_type": "code",
   "execution_count": 4,
   "metadata": {},
   "outputs": [
    {
     "data": {
      "text/html": [
       "<table border=\"1\" class=\"dataframe\">\n",
       "  <thead>\n",
       "    <tr style=\"text-align: right;\">\n",
       "      <th></th>\n",
       "      <th>data</th>\n",
       "      <th>model</th>\n",
       "      <th>transformation</th>\n",
       "      <th>rho</th>\n",
       "      <th>dgp_seed</th>\n",
       "      <th>random_state</th>\n",
       "      <th>number_of_simulations</th>\n",
       "      <th>validation_accuracy</th>\n",
       "      <th>transformed_validation_accuracy</th>\n",
       "      <th>accuracy_difference</th>\n",
       "      <th>test_size</th>\n",
       "      <th>standart_error</th>\n",
       "      <th>observable_t_stats</th>\n",
       "      <th>p_value</th>\n",
       "      <th>training_time</th>\n",
       "      <th>test_time</th>\n",
       "    </tr>\n",
       "  </thead>\n",
       "  <tbody>\n",
       "    <tr>\n",
       "      <th>0</th>\n",
       "      <td>snli</td>\n",
       "      <td>bert</td>\n",
       "      <td>wordnet sin tranformation p and h</td>\n",
       "      <td>0.5</td>\n",
       "      <td>203</td>\n",
       "      <td>45</td>\n",
       "      <td>1000</td>\n",
       "      <td>0.848202</td>\n",
       "      <td>0.828592</td>\n",
       "      <td>0.019610</td>\n",
       "      <td>9842</td>\n",
       "      <td>0.251235</td>\n",
       "      <td>7.743481</td>\n",
       "      <td>0.0</td>\n",
       "      <td>5.261768</td>\n",
       "      <td>5.964202</td>\n",
       "    </tr>\n",
       "    <tr>\n",
       "      <th>1</th>\n",
       "      <td>snli</td>\n",
       "      <td>bert</td>\n",
       "      <td>wordnet sin tranformation p and h</td>\n",
       "      <td>0.5</td>\n",
       "      <td>62</td>\n",
       "      <td>103</td>\n",
       "      <td>1000</td>\n",
       "      <td>0.847795</td>\n",
       "      <td>0.826966</td>\n",
       "      <td>0.020829</td>\n",
       "      <td>9842</td>\n",
       "      <td>0.251136</td>\n",
       "      <td>8.228155</td>\n",
       "      <td>0.0</td>\n",
       "      <td>3.969210</td>\n",
       "      <td>4.485917</td>\n",
       "    </tr>\n",
       "  </tbody>\n",
       "</table>"
      ],
      "text/plain": [
       "<IPython.core.display.HTML object>"
      ]
     },
     "metadata": {},
     "output_type": "display_data"
    }
   ],
   "source": [
    "df1 = pd.read_csv(\"results/snli/bert/sin_p_h/rho_0p50_dgp_seed_203_random_state_45.csv\")\n",
    "df2 = pd.read_csv(\"results/snli/bert/sin_p_h/rho_0p50_dgp_seed_62_random_state_103.csv\")\n",
    "df_rho_0p5 = pd.concat([df1, df2]).reset_index(drop=True)\n",
    "df_rho_0p5 = get_standart_results(df_rho_0p5)\n",
    "show_df(df_rho_0p5)"
   ]
  },
  {
   "cell_type": "markdown",
   "metadata": {},
   "source": [
    "## Results for $\\rho = 0.75$"
   ]
  },
  {
   "cell_type": "code",
   "execution_count": 5,
   "metadata": {},
   "outputs": [
    {
     "data": {
      "text/html": [
       "<table border=\"1\" class=\"dataframe\">\n",
       "  <thead>\n",
       "    <tr style=\"text-align: right;\">\n",
       "      <th></th>\n",
       "      <th>data</th>\n",
       "      <th>model</th>\n",
       "      <th>transformation</th>\n",
       "      <th>rho</th>\n",
       "      <th>dgp_seed</th>\n",
       "      <th>random_state</th>\n",
       "      <th>number_of_simulations</th>\n",
       "      <th>validation_accuracy</th>\n",
       "      <th>transformed_validation_accuracy</th>\n",
       "      <th>accuracy_difference</th>\n",
       "      <th>test_size</th>\n",
       "      <th>standart_error</th>\n",
       "      <th>observable_t_stats</th>\n",
       "      <th>p_value</th>\n",
       "      <th>training_time</th>\n",
       "      <th>test_time</th>\n",
       "    </tr>\n",
       "  </thead>\n",
       "  <tbody>\n",
       "    <tr>\n",
       "      <th>0</th>\n",
       "      <td>snli</td>\n",
       "      <td>bert</td>\n",
       "      <td>wordnet sin tranformation p and h</td>\n",
       "      <td>0.75</td>\n",
       "      <td>224</td>\n",
       "      <td>29</td>\n",
       "      <td>1000</td>\n",
       "      <td>0.840378</td>\n",
       "      <td>0.826661</td>\n",
       "      <td>0.013717</td>\n",
       "      <td>9842</td>\n",
       "      <td>0.253235</td>\n",
       "      <td>5.373634</td>\n",
       "      <td>0.0</td>\n",
       "      <td>4.032584</td>\n",
       "      <td>4.549876</td>\n",
       "    </tr>\n",
       "    <tr>\n",
       "      <th>1</th>\n",
       "      <td>snli</td>\n",
       "      <td>bert</td>\n",
       "      <td>wordnet sin tranformation p and h</td>\n",
       "      <td>0.75</td>\n",
       "      <td>40</td>\n",
       "      <td>179</td>\n",
       "      <td>1000</td>\n",
       "      <td>0.842613</td>\n",
       "      <td>0.826763</td>\n",
       "      <td>0.015850</td>\n",
       "      <td>9842</td>\n",
       "      <td>0.248860</td>\n",
       "      <td>6.318704</td>\n",
       "      <td>0.0</td>\n",
       "      <td>3.967198</td>\n",
       "      <td>4.484478</td>\n",
       "    </tr>\n",
       "  </tbody>\n",
       "</table>"
      ],
      "text/plain": [
       "<IPython.core.display.HTML object>"
      ]
     },
     "metadata": {},
     "output_type": "display_data"
    }
   ],
   "source": [
    "df1 = pd.read_csv(\"results/snli/bert/sin_p_h/rho_0p75_dgp_seed_224_random_state_29.csv\")\n",
    "df2 = pd.read_csv(\"results/snli/bert/sin_p_h/rho_0p75_dgp_seed_40_random_state_179.csv\")\n",
    "df_rho_0p75 = pd.concat([df1, df2]).reset_index(drop=True)\n",
    "df_rho_0p75 = get_standart_results(df_rho_0p75)\n",
    "show_df(df_rho_0p75)"
   ]
  },
  {
   "cell_type": "markdown",
   "metadata": {},
   "source": [
    "## Results for $\\rho = 1.0$"
   ]
  },
  {
   "cell_type": "code",
   "execution_count": 6,
   "metadata": {},
   "outputs": [
    {
     "data": {
      "text/html": [
       "<table border=\"1\" class=\"dataframe\">\n",
       "  <thead>\n",
       "    <tr style=\"text-align: right;\">\n",
       "      <th></th>\n",
       "      <th>data</th>\n",
       "      <th>model</th>\n",
       "      <th>transformation</th>\n",
       "      <th>rho</th>\n",
       "      <th>dgp_seed</th>\n",
       "      <th>random_state</th>\n",
       "      <th>number_of_simulations</th>\n",
       "      <th>validation_accuracy</th>\n",
       "      <th>transformed_validation_accuracy</th>\n",
       "      <th>accuracy_difference</th>\n",
       "      <th>test_size</th>\n",
       "      <th>standart_error</th>\n",
       "      <th>observable_t_stats</th>\n",
       "      <th>p_value</th>\n",
       "      <th>training_time</th>\n",
       "      <th>test_time</th>\n",
       "    </tr>\n",
       "  </thead>\n",
       "  <tbody>\n",
       "    <tr>\n",
       "      <th>0</th>\n",
       "      <td>snli</td>\n",
       "      <td>bert</td>\n",
       "      <td>wordnet sin tranformation p and h</td>\n",
       "      <td>1.0</td>\n",
       "      <td>185</td>\n",
       "      <td>27</td>\n",
       "      <td>1000</td>\n",
       "      <td>0.848710</td>\n",
       "      <td>0.838346</td>\n",
       "      <td>0.010364</td>\n",
       "      <td>9842</td>\n",
       "      <td>0.249556</td>\n",
       "      <td>4.119933</td>\n",
       "      <td>0.000</td>\n",
       "      <td>5.233223</td>\n",
       "      <td>5.933914</td>\n",
       "    </tr>\n",
       "    <tr>\n",
       "      <th>1</th>\n",
       "      <td>snli</td>\n",
       "      <td>bert</td>\n",
       "      <td>wordnet sin tranformation p and h</td>\n",
       "      <td>1.0</td>\n",
       "      <td>13</td>\n",
       "      <td>47</td>\n",
       "      <td>1000</td>\n",
       "      <td>0.837533</td>\n",
       "      <td>0.831030</td>\n",
       "      <td>0.006503</td>\n",
       "      <td>9842</td>\n",
       "      <td>0.257302</td>\n",
       "      <td>2.507234</td>\n",
       "      <td>0.004</td>\n",
       "      <td>5.238566</td>\n",
       "      <td>5.939505</td>\n",
       "    </tr>\n",
       "  </tbody>\n",
       "</table>"
      ],
      "text/plain": [
       "<IPython.core.display.HTML object>"
      ]
     },
     "metadata": {},
     "output_type": "display_data"
    }
   ],
   "source": [
    "df1 = pd.read_csv(\"results/snli/bert/sin_p_h/rho_1p00_dgp_seed_185_random_state_27.csv\")\n",
    "df2 = pd.read_csv(\"results/snli/bert/sin_p_h/rho_1p00_dgp_seed_13_random_state_47.csv\")\n",
    "df_rho_1p0 = pd.concat([df1, df2]).reset_index(drop=True)\n",
    "df_rho_1p0 = get_standart_results(df_rho_1p0)\n",
    "show_df(df_rho_1p0)"
   ]
  },
  {
   "cell_type": "markdown",
   "metadata": {},
   "source": [
    "## Plotting Results"
   ]
  },
  {
   "cell_type": "code",
   "execution_count": 7,
   "metadata": {},
   "outputs": [
    {
     "data": {
      "image/png": "[encoded data removed]",
      "text/plain": [
       "<Figure size 720x360 with 2 Axes>"
      ]
     },
     "metadata": {
      "needs_background": "light"
     },
     "output_type": "display_data"
    },
    {
     "data": {
      "image/png": "[encoded data removed]",
      "text/plain": [
       "<Figure size 864x432 with 1 Axes>"
      ]
     },
     "metadata": {
      "needs_background": "light"
     },
     "output_type": "display_data"
    }
   ],
   "source": [
    "dfs = [df_rho_0, df_rho_0p25, df_rho_0p5, df_rho_0p75, df_rho_1p0]\n",
    "names = [\"0.0\", \"0.25\", \"0.5\", \"0.75\", \"1.00\" ]\n",
    "\n",
    "all_p_values = {}\n",
    "for df, name in zip(dfs, names):\n",
    "    results = df.p_value\n",
    "    all_p_values[name] = results \n",
    "\n",
    "fig, ax = plt.subplots(figsize=(10,5))\n",
    "sns.heatmap(pd.DataFrame(all_p_values), annot=True, cmap=\"YlGnBu\", linewidths=0.3, ax=ax);\n",
    "ax.set_xlabel(r\"$\\rho$\", fontsize=14);\n",
    "ax.set_ylabel(\"number of tests\", fontsize=14);\n",
    "ax.set_title(\"BERT p-values\\n\\ndataset: SNLI\\ntransformation: synonym substitution\\n\");\n",
    "fig.tight_layout()\n",
    "fig.savefig('figs/bert_p_values_snli_sin_p_h.png', bbox_inches=None, pad_inches=0.5)\n",
    "\n",
    "rhos = []\n",
    "acc_s = []\n",
    "acc_t_s = []\n",
    "\n",
    "for df in dfs:\n",
    "    acc = df.validation_accuracy.values\n",
    "    acc_s.append(acc)\n",
    "    acc_t = df.transformed_validation_accuracy.values\n",
    "    acc_t_s.append(acc_t)\n",
    "    rhos.append(df.rho.values[0])\n",
    "acc_s = np.array(acc_s)\n",
    "acc_t_s = np.array(acc_t_s)\n",
    "\n",
    "acc_c = [\"acc_{}\".format(i) for i in range(acc_s.shape[1])]\n",
    "acc_t_c = [\"acc_t_{}\".format(i) for i in range(acc_t_s.shape[1])]\n",
    "\n",
    "acc = pd.DataFrame(acc_s, index=rhos, columns=acc_c)\n",
    "acc.index.name = \"rho\"\n",
    "acc_t = pd.DataFrame(acc_t_s, index=rhos, columns=acc_t_c)\n",
    "acc_t.index.name = \"rho\"\n",
    "\n",
    "x = acc.mean(1).index\n",
    "y = acc.mean(1).values\n",
    "error = acc.std(1).values\n",
    "\n",
    "x_t = acc_t.mean(1).index\n",
    "y_t = acc_t.mean(1).values\n",
    "error_t = acc_t.std(1).values\n",
    "\n",
    "\n",
    "fig, ax = plt.subplots(figsize=(12,6))\n",
    "ax.errorbar(x, y, yerr=error, fmt='-o', label=\"original validation data\");\n",
    "ax.errorbar(x_t, y_t, yerr=error_t, fmt='-o', label=\"transformed validation data\");\n",
    "ax.legend(loc=\"best\");\n",
    "ax.set_xlabel(r\"$\\rho$\", fontsize=14);\n",
    "ax.set_ylabel(\"accuracy\", fontsize=14);\n",
    "ax.set_title(\"BERT accuracy\\n\\ndataset: SNLI\\ntransformation: synonym substitution\\n\");\n",
    "fig.tight_layout()\n",
    "fig.savefig('figs/bert_acc_snli_sin_p_h.png', bbox_inches=None, pad_inches=0.5)\n"
   ]
  },
  {
   "cell_type": "code",
   "execution_count": null,
   "metadata": {},
   "outputs": [],
   "source": []
  },
  {
   "cell_type": "code",
   "execution_count": null,
   "metadata": {},
   "outputs": [],
   "source": []
  },
  {
   "cell_type": "code",
   "execution_count": null,
   "metadata": {},
   "outputs": [],
   "source": []
  },
  {
   "cell_type": "code",
   "execution_count": null,
   "metadata": {},
   "outputs": [],
   "source": []
  },
  {
   "cell_type": "code",
   "execution_count": null,
   "metadata": {},
   "outputs": [],
   "source": []
  }
 ],
 "metadata": {
  "kernelspec": {
   "display_name": "Python 3",
   "language": "python",
   "name": "python3"
  },
  "language_info": {
   "codemirror_mode": {
    "name": "ipython",
    "version": 3
   },
   "file_extension": ".py",
   "mimetype": "text/x-python",
   "name": "python",
   "nbconvert_exporter": "python",
   "pygments_lexer": "ipython3",
   "version": "3.6.9"
  }
 },
 "nbformat": 4,
 "nbformat_minor": 2
}
