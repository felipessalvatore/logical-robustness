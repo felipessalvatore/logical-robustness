{
 "cells": [
  {
   "cell_type": "code",
   "execution_count": 1,
   "metadata": {},
   "outputs": [],
   "source": [
    "import os\n",
    "import numpy as np\n",
    "import pandas as pd\n",
    "from time import time\n",
    "from lr.models.transformers.BertWrapper import BertWrapper\n",
    "from lr.text_processing.util import pre_process_nli_df\n",
    "from lr.training.util import get_ternary_label, filter_df_by_label\n",
    "from lr.text_processing.transformations.wordnet import path_base_transformation\n",
    "from lr.stats.h_testing import DGP\n",
    "from lr.stats.h_testing import get_matched_results_transformers\n",
    "from lr.stats.h_testing import get_paired_t_statistic\n",
    "from lr.stats.h_testing import get_cochran_statistic\n",
    "from lr.stats.h_testing import get_boots_series_under_H0\n",
    "from lr.stats.h_testing import get_boot_paired_t_p_value\n",
    "from lr.stats.h_testing import get_boot_cochran_p_value"
   ]
  },
  {
   "cell_type": "code",
   "execution_count": 2,
   "metadata": {},
   "outputs": [],
   "source": [
    "## Variables"
   ]
  },
  {
   "cell_type": "code",
   "execution_count": 3,
   "metadata": {},
   "outputs": [],
   "source": [
    "rho = 0.4\n",
    "search_random_state =  52\n",
    "dgp_random_state = 34\n",
    "train_random_state = 56\n",
    "boot_random_state = 562\n",
    "n_cores = 2\n",
    "folder = \"snli\"\n",
    "number_of_simulations = 1000\n",
    "verbose = True\n",
    "save_steps = 7500\n",
    "\n",
    "train_path = \"data/snli/train.csv\"\n",
    "dev_path = \"data/snli/dev.csv\"\n",
    "test_path = \"data/snli/test.csv\"\n",
    "\n",
    "train_path_mod = \"data/snli/train_p_h_syn_noun.csv\"\n",
    "dev_path_mod = \"data/snli/dev_p_h_syn_noun.csv\"\n",
    "test_path_mod = \"data/snli/test_p_h_syn_noun.csv\"\n",
    "\n",
    "search_path = \"hyperparams/bert_base_snli/search_{}.csv\".format(\n",
    "    search_random_state)\n",
    "assert os.path.exists(search_path)\n",
    "\n",
    "transformation_name = \"wordnet syn tranformation p and h\"\n",
    "output_raw_result = \"raw_results/snli/bert_base/syn_p_h/rho_{:.2f}_results\".format(\n",
    "    rho)\n",
    "output_raw_result = output_raw_result.replace(\".\", \"p\") + \".csv\"\n",
    "output_result = \"results/snli/bert_base/syn_p_h/rho_{:.2f}_results\".format(rho)\n",
    "output_result = output_result.replace(\".\", \"p\") + \".csv\"\n",
    "output_dir = \"results/snli/bert_base/syn_p_h/\""
   ]
  },
  {
   "cell_type": "code",
   "execution_count": 4,
   "metadata": {},
   "outputs": [],
   "source": [
    "# Get data"
   ]
  },
  {
   "cell_type": "code",
   "execution_count": 5,
   "metadata": {},
   "outputs": [],
   "source": [
    "init_test = time()\n",
    "\n",
    "train = pd.read_csv(train_path)\n",
    "dev = pd.read_csv(dev_path)\n",
    "test = pd.read_csv(test_path)\n",
    "\n",
    "train = filter_df_by_label(train.dropna()).reset_index(drop=True)\n",
    "dev = filter_df_by_label(dev.dropna()).reset_index(drop=True)\n",
    "test = filter_df_by_label(test.dropna()).reset_index(drop=True)\n",
    "\n",
    "pre_process_nli_df(train)\n",
    "pre_process_nli_df(dev)"
   ]
  },
  {
   "cell_type": "code",
   "execution_count": 6,
   "metadata": {},
   "outputs": [],
   "source": [
    "# Get hyperarams"
   ]
  },
  {
   "cell_type": "code",
   "execution_count": 7,
   "metadata": {},
   "outputs": [],
   "source": [
    "params_keys = ['num_train_epochs', \"max_seq_length\",\n",
    "                \"learning_rate\", \"weight_decay\",\n",
    "                \"adam_epsilon\", \"max_grad_norm\"]\n",
    "\n",
    "hyperparams = {\"local_rank\": -1,\n",
    "               \"overwrite_cache\": False,\n",
    "               \"per_gpu_train_batch_size\": 32,\n",
    "               \"per_gpu_eval_batch_size\": 50,\n",
    "               \"gradient_accumulation_steps\": 1,\n",
    "               \"max_steps\": 50, # debug\n",
    "#                \"max_steps\": -1,\n",
    "               \"warmup_steps\": 0,\n",
    "               \"save_steps\": save_steps,\n",
    "               \"no_cuda\": False,\n",
    "               \"n_gpu\": 1,\n",
    "               \"data_set_name\": folder,\n",
    "               \"transformation_name\": transformation_name,\n",
    "               \"rho\": rho,\n",
    "               \"model_name_or_path\": \"bert\",\n",
    "               \"output_dir\": output_dir,\n",
    "               \"fp16\": False,\n",
    "               \"fp16_opt_level\": \"01\",\n",
    "               \"device\": \"cpu\",\n",
    "               \"verbose\": True,\n",
    "               \"model_type\": \"bert\",\n",
    "               \"pad_on_left\": False,\n",
    "               \"pad_token\": 0,\n",
    "               \"n_cores\": n_cores,\n",
    "               'eval_sample_size': 200,\n",
    "               \"pad_token_segment_id\": 0,\n",
    "               \"mask_padding_with_zero\": True,\n",
    "               \"base_path\": \"data/{}/cached_\".format(folder),\n",
    "               \"pretrained_weights\": 'bert-base-uncased',\n",
    "               \"number_of_simulations\": number_of_simulations,\n",
    "               \"search_random_state\": search_random_state,\n",
    "               \"dgp_random_state\": dgp_random_state,\n",
    "               \"train_random_state\": train_random_state,\n",
    "               \"random_state\": train_random_state,\n",
    "               \"boot_random_state\": boot_random_state,\n",
    "               \"output_raw_result\": output_raw_result,\n",
    "               \"output_result\": output_result}\n",
    "\n",
    "search_results = pd.read_csv(search_path)\n",
    "\n",
    "for k in params_keys:\n",
    "    hyperparams[k] = search_results.loc[0, k]"
   ]
  },
  {
   "cell_type": "code",
   "execution_count": 8,
   "metadata": {},
   "outputs": [],
   "source": [
    "# Set transformed version of the datasets\n",
    "\n",
    "def train_trans(df): return path_base_transformation(df, train_path_mod)\n",
    "\n",
    "def dev_trans(df): return path_base_transformation(df, dev_path_mod)\n",
    "\n",
    "def test_trans(df): return path_base_transformation(df, test_path_mod)"
   ]
  },
  {
   "cell_type": "code",
   "execution_count": 9,
   "metadata": {},
   "outputs": [],
   "source": [
    "# get_training_sample\n",
    "\n",
    "train.loc[:, \"o_index\"] = train.index.values\n",
    "\n",
    "dgp_train = DGP(data=train,\n",
    "                transformation=train_trans,\n",
    "                rho=rho)\n",
    "\n",
    "train_ = dgp_train.sample_transform(random_state=dgp_random_state)"
   ]
  },
  {
   "cell_type": "code",
   "execution_count": 10,
   "metadata": {},
   "outputs": [
    {
     "name": "stderr",
     "output_type": "stream",
     "text": [
      "Epoch:   0%|          | 0/3 [00:00<?, ?it/s]\n",
      "Iteration:   0%|          | 0/25 [00:00<?, ?it/s]\u001b[A\n",
      "Iteration:   4%|▍         | 1/25 [00:06<02:31,  6.31s/it]\u001b[A\n",
      "Iteration:   8%|▊         | 2/25 [00:12<02:25,  6.32s/it]\u001b[A\n",
      "Iteration:  12%|█▏        | 3/25 [00:18<02:18,  6.31s/it]\u001b[A\n",
      "Iteration:  16%|█▌        | 4/25 [00:25<02:12,  6.30s/it]\u001b[A\n",
      "Iteration:  20%|██        | 5/25 [00:31<02:05,  6.29s/it]\u001b[A\n",
      "Iteration:  24%|██▍       | 6/25 [00:37<01:59,  6.29s/it]\u001b[A\n",
      "Iteration:  28%|██▊       | 7/25 [00:44<01:53,  6.30s/it]\u001b[A\n",
      "Iteration:  32%|███▏      | 8/25 [00:50<01:46,  6.29s/it]\u001b[A\n",
      "Iteration:  36%|███▌      | 9/25 [00:56<01:40,  6.29s/it]\u001b[A\n",
      "Iteration:  40%|████      | 10/25 [01:02<01:34,  6.29s/it]\u001b[A\n",
      "Iteration:  44%|████▍     | 11/25 [01:09<01:28,  6.29s/it]\u001b[A\n",
      "Iteration:  48%|████▊     | 12/25 [01:15<01:22,  6.31s/it]\u001b[A\n",
      "Iteration:  52%|█████▏    | 13/25 [01:21<01:15,  6.30s/it]\u001b[A\n",
      "Iteration:  56%|█████▌    | 14/25 [01:28<01:09,  6.29s/it]\u001b[A\n",
      "Iteration:  60%|██████    | 15/25 [01:34<01:03,  6.30s/it]\u001b[A\n",
      "Iteration:  64%|██████▍   | 16/25 [01:40<00:56,  6.30s/it]\u001b[A\n",
      "Iteration:  68%|██████▊   | 17/25 [01:47<00:50,  6.29s/it]\u001b[A\n",
      "Iteration:  72%|███████▏  | 18/25 [01:53<00:44,  6.29s/it]\u001b[A\n",
      "Iteration:  76%|███████▌  | 19/25 [01:59<00:37,  6.29s/it]\u001b[A\n",
      "Iteration:  80%|████████  | 20/25 [02:05<00:31,  6.30s/it]\u001b[A\n",
      "Iteration:  84%|████████▍ | 21/25 [02:12<00:25,  6.31s/it]\u001b[A\n",
      "Iteration:  88%|████████▊ | 22/25 [02:18<00:18,  6.32s/it]\u001b[A\n",
      "Iteration:  92%|█████████▏| 23/25 [02:24<00:12,  6.32s/it]\u001b[A\n",
      "Iteration:  96%|█████████▌| 24/25 [02:31<00:06,  6.31s/it]\u001b[A\n",
      "Iteration: 100%|██████████| 25/25 [02:37<00:00,  6.30s/it]\u001b[A\n",
      "Epoch:  33%|███▎      | 1/3 [02:37<05:15, 157.52s/it]\n",
      "Iteration:   0%|          | 0/25 [00:00<?, ?it/s]\u001b[A\n",
      "Iteration:   4%|▍         | 1/25 [00:06<02:31,  6.30s/it]\u001b[A\n",
      "Iteration:   8%|▊         | 2/25 [00:12<02:25,  6.31s/it]\u001b[A\n",
      "Iteration:  12%|█▏        | 3/25 [00:18<02:18,  6.31s/it]\u001b[A\n",
      "Iteration:  16%|█▌        | 4/25 [00:25<02:12,  6.31s/it]\u001b[A\n",
      "Iteration:  20%|██        | 5/25 [00:31<02:06,  6.31s/it]\u001b[A\n",
      "Iteration:  24%|██▍       | 6/25 [00:37<01:59,  6.31s/it]\u001b[A\n",
      "Iteration:  28%|██▊       | 7/25 [00:44<01:53,  6.30s/it]\u001b[A\n",
      "Iteration:  32%|███▏      | 8/25 [00:50<01:47,  6.30s/it]\u001b[A\n",
      "Iteration:  36%|███▌      | 9/25 [00:56<01:40,  6.31s/it]\u001b[A\n",
      "Iteration:  40%|████      | 10/25 [01:03<01:34,  6.31s/it]\u001b[A\n",
      "Iteration:  44%|████▍     | 11/25 [01:09<01:28,  6.30s/it]\u001b[A\n",
      "Iteration:  48%|████▊     | 12/25 [01:15<01:21,  6.30s/it]\u001b[A\n",
      "Iteration:  52%|█████▏    | 13/25 [01:21<01:15,  6.29s/it]\u001b[A\n",
      "Iteration:  56%|█████▌    | 14/25 [01:28<01:09,  6.29s/it]\u001b[A\n",
      "Iteration:  60%|██████    | 15/25 [01:34<01:02,  6.30s/it]\u001b[A\n",
      "Iteration:  64%|██████▍   | 16/25 [01:40<00:56,  6.30s/it]\u001b[A\n",
      "Iteration:  68%|██████▊   | 17/25 [01:47<00:50,  6.30s/it]\u001b[A\n",
      "Iteration:  72%|███████▏  | 18/25 [01:53<00:44,  6.31s/it]\u001b[A\n",
      "Iteration:  76%|███████▌  | 19/25 [01:59<00:37,  6.31s/it]\u001b[A\n",
      "Iteration:  80%|████████  | 20/25 [02:06<00:31,  6.30s/it]\u001b[A\n",
      "Iteration:  84%|████████▍ | 21/25 [02:12<00:25,  6.30s/it]\u001b[A\n",
      "Iteration:  88%|████████▊ | 22/25 [02:18<00:18,  6.30s/it]\u001b[A\n",
      "Iteration:  92%|█████████▏| 23/25 [02:24<00:12,  6.31s/it]\u001b[A\n",
      "Iteration:  96%|█████████▌| 24/25 [02:31<00:06,  6.30s/it]\u001b[A\n",
      "Iteration: 100%|██████████| 25/25 [02:37<00:00,  6.30s/it]\u001b[A\n",
      "Epoch:  67%|██████▋   | 2/3 [05:15<02:37, 157.53s/it]\n",
      "Iteration:   0%|          | 0/25 [00:06<?, ?it/s]\u001b[A\n",
      "Epoch:  67%|██████▋   | 2/3 [05:21<02:40, 160.68s/it]\n"
     ]
    }
   ],
   "source": [
    "# Train \n",
    "\n",
    "model = BertWrapper(hyperparams)\n",
    "_, _, train_time = model.fit(train_.sample(1000, random_state=10)) # debug\n",
    "# _, _, train_time = model.fit(train_)"
   ]
  },
  {
   "cell_type": "code",
   "execution_count": 11,
   "metadata": {},
   "outputs": [],
   "source": [
    "# Test set Eval "
   ]
  },
  {
   "cell_type": "code",
   "execution_count": 12,
   "metadata": {},
   "outputs": [
    {
     "name": "stderr",
     "output_type": "stream",
     "text": [
      "Evaluating:   0%|          | 0/20 [00:00<?, ?it/s]"
     ]
    },
    {
     "name": "stdout",
     "output_type": "stream",
     "text": [
      "eval path =  data/snli/cached_test_100\n"
     ]
    },
    {
     "name": "stderr",
     "output_type": "stream",
     "text": [
      "Evaluating: 100%|██████████| 20/20 [00:56<00:00,  2.83s/it]\n",
      "Evaluating:   0%|          | 0/20 [00:00<?, ?it/s]"
     ]
    },
    {
     "name": "stdout",
     "output_type": "stream",
     "text": [
      "eval path =  data/snli/cached_test_t_100\n"
     ]
    },
    {
     "name": "stderr",
     "output_type": "stream",
     "text": [
      "Evaluating: 100%|██████████| 20/20 [00:56<00:00,  2.83s/it]\n"
     ]
    }
   ],
   "source": [
    "test_t = test_trans(test)\n",
    "test_results = model.get_results(test.iloc[:1000], mode=\"test\")\n",
    "test_t_results = model.get_results(test_t.iloc[:1000], mode=\"test_t\")"
   ]
  },
  {
   "cell_type": "code",
   "execution_count": 13,
   "metadata": {},
   "outputs": [],
   "source": [
    "# Getting statistics"
   ]
  },
  {
   "cell_type": "code",
   "execution_count": 14,
   "metadata": {},
   "outputs": [],
   "source": [
    "m_results = get_matched_results_transformers(test_results, test_t_results)\n",
    "\n",
    "test_acc = m_results.A.mean()\n",
    "transformed_test_acc = m_results.B.mean()\n",
    "t_obs, acc_diff, test_size, standart_error = get_paired_t_statistic(\n",
    "    m_results)\n",
    "cochran_obs = get_cochran_statistic(m_results)\n",
    "\n",
    "# get simulations\n",
    "def get_paired_t(matched_results):\n",
    "    t_obs, _, _, _ = get_paired_t_statistic(matched_results)\n",
    "    return t_obs\n",
    "\n",
    "paired_t_boots = get_boots_series_under_H0(m_results,\n",
    "                                           get_paired_t,\n",
    "                                           number_of_simulations,\n",
    "                                           boot_random_state)\n",
    "\n",
    "cochran_boots = get_boots_series_under_H0(m_results,\n",
    "                                          get_cochran_statistic,\n",
    "                                          number_of_simulations,\n",
    "                                          boot_random_state)\n",
    "\n",
    "paired_t_p_value = get_boot_paired_t_p_value(paired_t_boots, t_obs)\n",
    "\n",
    "cochran_p_value = get_boot_cochran_p_value(cochran_boots, cochran_obs)\n",
    "\n",
    "htest_time = time() - init_test"
   ]
  },
  {
   "cell_type": "code",
   "execution_count": 15,
   "metadata": {},
   "outputs": [
    {
     "name": "stdout",
     "output_type": "stream",
     "text": [
      "raw_results/snli/bert_base/syn_p_h/rho_0p40_results.csv\n",
      "results/snli/bert_base/syn_p_h/rho_0p40_results.csv\n"
     ]
    }
   ],
   "source": [
    "# Aggregate all results\n",
    "\n",
    "dict_ = {\"data\": [hyperparams[\"data_set_name\"]],\n",
    "         \"model\": [hyperparams[\"model_name_or_path\"]],\n",
    "         \"transformation\": [hyperparams[\"transformation_name\"]],\n",
    "         \"rho\": [rho],\n",
    "         \"search_random_state\": [hyperparams[\"search_random_state\"]],\n",
    "         \"dgp_random_state\": [dgp_random_state],\n",
    "         \"train_random_state\": [hyperparams[\"train_random_state\"]],\n",
    "         \"boot_random_state\": [boot_random_state],\n",
    "         \"number_of_simulations\": [number_of_simulations],\n",
    "         \"test_accuracy\": [test_acc],\n",
    "         \"transformed_test_accuracy\": [transformed_test_acc],\n",
    "         \"accuracy_difference\": [acc_diff],\n",
    "         \"test_size\": [test_size],\n",
    "         \"standart_error\": [standart_error],\n",
    "         \"observable_paired_t_stats\": [t_obs],\n",
    "         \"paired_t_p_value\": [paired_t_p_value],\n",
    "         \"observable_cochran_stats\": [cochran_obs],\n",
    "         \"cochran_p_value\": [cochran_p_value],\n",
    "         \"training_time\": [train_time / 3600],\n",
    "         \"test_time\": [htest_time / 3600]}\n",
    "\n",
    "test_results = pd.DataFrame(dict_)\n",
    "m_results.to_csv(output_raw_result, index=False)\n",
    "test_results.to_csv(output_result, index=False)\n",
    "if verbose:\n",
    "    print(output_raw_result)\n",
    "    print(output_result)"
   ]
  },
  {
   "cell_type": "code",
   "execution_count": 16,
   "metadata": {},
   "outputs": [
    {
     "data": {
      "text/html": [
       "<div>\n",
       "<style scoped>\n",
       "    .dataframe tbody tr th:only-of-type {\n",
       "        vertical-align: middle;\n",
       "    }\n",
       "\n",
       "    .dataframe tbody tr th {\n",
       "        vertical-align: top;\n",
       "    }\n",
       "\n",
       "    .dataframe thead th {\n",
       "        text-align: right;\n",
       "    }\n",
       "</style>\n",
       "<table border=\"1\" class=\"dataframe\">\n",
       "  <thead>\n",
       "    <tr style=\"text-align: right;\">\n",
       "      <th></th>\n",
       "      <th>data</th>\n",
       "      <th>model</th>\n",
       "      <th>transformation</th>\n",
       "      <th>rho</th>\n",
       "      <th>search_random_state</th>\n",
       "      <th>dgp_random_state</th>\n",
       "      <th>train_random_state</th>\n",
       "      <th>boot_random_state</th>\n",
       "      <th>number_of_simulations</th>\n",
       "      <th>test_accuracy</th>\n",
       "      <th>transformed_test_accuracy</th>\n",
       "      <th>accuracy_difference</th>\n",
       "      <th>test_size</th>\n",
       "      <th>standart_error</th>\n",
       "      <th>observable_paired_t_stats</th>\n",
       "      <th>paired_t_p_value</th>\n",
       "      <th>observable_cochran_stats</th>\n",
       "      <th>cochran_p_value</th>\n",
       "      <th>training_time</th>\n",
       "      <th>test_time</th>\n",
       "    </tr>\n",
       "  </thead>\n",
       "  <tbody>\n",
       "    <tr>\n",
       "      <th>0</th>\n",
       "      <td>snli</td>\n",
       "      <td>bert</td>\n",
       "      <td>wordnet syn tranformation p and h</td>\n",
       "      <td>0.4</td>\n",
       "      <td>52</td>\n",
       "      <td>34</td>\n",
       "      <td>56</td>\n",
       "      <td>562</td>\n",
       "      <td>1000</td>\n",
       "      <td>0.636</td>\n",
       "      <td>0.607</td>\n",
       "      <td>0.029</td>\n",
       "      <td>1000</td>\n",
       "      <td>0.325821</td>\n",
       "      <td>2.814619</td>\n",
       "      <td>0.002</td>\n",
       "      <td>7.859813</td>\n",
       "      <td>0.002</td>\n",
       "      <td>0.089271</td>\n",
       "      <td>0.128227</td>\n",
       "    </tr>\n",
       "  </tbody>\n",
       "</table>\n",
       "</div>"
      ],
      "text/plain": [
       "   data model                     transformation  rho  search_random_state  \\\n",
       "0  snli  bert  wordnet syn tranformation p and h  0.4                   52   \n",
       "\n",
       "   dgp_random_state  train_random_state  boot_random_state  \\\n",
       "0                34                  56                562   \n",
       "\n",
       "   number_of_simulations  test_accuracy  transformed_test_accuracy  \\\n",
       "0                   1000          0.636                      0.607   \n",
       "\n",
       "   accuracy_difference  test_size  standart_error  observable_paired_t_stats  \\\n",
       "0                0.029       1000        0.325821                   2.814619   \n",
       "\n",
       "   paired_t_p_value  observable_cochran_stats  cochran_p_value  training_time  \\\n",
       "0             0.002                  7.859813            0.002       0.089271   \n",
       "\n",
       "   test_time  \n",
       "0   0.128227  "
      ]
     },
     "execution_count": 16,
     "metadata": {},
     "output_type": "execute_result"
    }
   ],
   "source": [
    "test_results"
   ]
  },
  {
   "cell_type": "code",
   "execution_count": null,
   "metadata": {},
   "outputs": [],
   "source": []
  }
 ],
 "metadata": {
  "kernelspec": {
   "display_name": "Python 3",
   "language": "python",
   "name": "python3"
  },
  "language_info": {
   "codemirror_mode": {
    "name": "ipython",
    "version": 3
   },
   "file_extension": ".py",
   "mimetype": "text/x-python",
   "name": "python",
   "nbconvert_exporter": "python",
   "pygments_lexer": "ipython3",
   "version": "3.6.8"
  }
 },
 "nbformat": 4,
 "nbformat_minor": 4
}
