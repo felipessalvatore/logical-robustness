{
 "cells": [
  {
   "cell_type": "code",
   "execution_count": 1,
   "metadata": {},
   "outputs": [],
   "source": [
    "import pandas as pd\n",
    "import numpy as np\n",
    "from lr.text_processing.util import pre_process_nli_df\n",
    "from lr.text_processing.transformations.util import get_transformed_part_by_syn\n",
    "from lr.text_processing.transformations.util import syn2tranformation\n",
    "from lr.text_processing.transformations.util import get_augmented_data\n",
    "from lr.text_processing.transformations.synonyms import toy\n",
    "from lr.training.util import label2ternary_label"
   ]
  },
  {
   "cell_type": "code",
   "execution_count": 2,
   "metadata": {},
   "outputs": [
    {
     "data": {
      "text/html": [
       "<div>\n",
       "<style scoped>\n",
       "    .dataframe tbody tr th:only-of-type {\n",
       "        vertical-align: middle;\n",
       "    }\n",
       "\n",
       "    .dataframe tbody tr th {\n",
       "        vertical-align: top;\n",
       "    }\n",
       "\n",
       "    .dataframe thead th {\n",
       "        text-align: right;\n",
       "    }\n",
       "</style>\n",
       "<table border=\"1\" class=\"dataframe\">\n",
       "  <thead>\n",
       "    <tr style=\"text-align: right;\">\n",
       "      <th></th>\n",
       "      <th>premise</th>\n",
       "      <th>hypothesis</th>\n",
       "      <th>label</th>\n",
       "    </tr>\n",
       "  </thead>\n",
       "  <tbody>\n",
       "    <tr>\n",
       "      <th>0</th>\n",
       "      <td>A couple playing with a little boy on the beach.</td>\n",
       "      <td>A couple are playing with a young child outside.</td>\n",
       "      <td>entailment</td>\n",
       "    </tr>\n",
       "    <tr>\n",
       "      <th>1</th>\n",
       "      <td>A man with a red shirt is watching another man...</td>\n",
       "      <td>The men are outside.</td>\n",
       "      <td>neutral</td>\n",
       "    </tr>\n",
       "    <tr>\n",
       "      <th>2</th>\n",
       "      <td>A busy city that looks like New York City.</td>\n",
       "      <td>The city looks like Lawrence, Kansas.</td>\n",
       "      <td>contradiction</td>\n",
       "    </tr>\n",
       "    <tr>\n",
       "      <th>3</th>\n",
       "      <td>A blond woman with two children is checking ou...</td>\n",
       "      <td>A mother is with her two children at Walmart b...</td>\n",
       "      <td>neutral</td>\n",
       "    </tr>\n",
       "    <tr>\n",
       "      <th>4</th>\n",
       "      <td>Two people pose for the camera.</td>\n",
       "      <td>People pose for a family picture.</td>\n",
       "      <td>neutral</td>\n",
       "    </tr>\n",
       "  </tbody>\n",
       "</table>\n",
       "</div>"
      ],
      "text/plain": [
       "                                             premise  \\\n",
       "0   A couple playing with a little boy on the beach.   \n",
       "1  A man with a red shirt is watching another man...   \n",
       "2         A busy city that looks like New York City.   \n",
       "3  A blond woman with two children is checking ou...   \n",
       "4                    Two people pose for the camera.   \n",
       "\n",
       "                                          hypothesis          label  \n",
       "0   A couple are playing with a young child outside.     entailment  \n",
       "1                               The men are outside.        neutral  \n",
       "2              The city looks like Lawrence, Kansas.  contradiction  \n",
       "3  A mother is with her two children at Walmart b...        neutral  \n",
       "4                  People pose for a family picture.        neutral  "
      ]
     },
     "execution_count": 2,
     "metadata": {},
     "output_type": "execute_result"
    }
   ],
   "source": [
    "df = pd.read_csv(\"data/toy/train.csv\")\n",
    "df.head(5)"
   ]
  },
  {
   "cell_type": "code",
   "execution_count": 3,
   "metadata": {},
   "outputs": [
    {
     "data": {
      "text/html": [
       "<div>\n",
       "<style scoped>\n",
       "    .dataframe tbody tr th:only-of-type {\n",
       "        vertical-align: middle;\n",
       "    }\n",
       "\n",
       "    .dataframe tbody tr th {\n",
       "        vertical-align: top;\n",
       "    }\n",
       "\n",
       "    .dataframe thead th {\n",
       "        text-align: right;\n",
       "    }\n",
       "</style>\n",
       "<table border=\"1\" class=\"dataframe\">\n",
       "  <thead>\n",
       "    <tr style=\"text-align: right;\">\n",
       "      <th></th>\n",
       "      <th>premise</th>\n",
       "      <th>hypothesis</th>\n",
       "      <th>label</th>\n",
       "    </tr>\n",
       "  </thead>\n",
       "  <tbody>\n",
       "    <tr>\n",
       "      <th>0</th>\n",
       "      <td>a couple playing with a little boy on the beach</td>\n",
       "      <td>a couple are playing with a young child outside</td>\n",
       "      <td>1</td>\n",
       "    </tr>\n",
       "    <tr>\n",
       "      <th>1</th>\n",
       "      <td>a man with a red shirt is watching another man...</td>\n",
       "      <td>the men are outside</td>\n",
       "      <td>0</td>\n",
       "    </tr>\n",
       "    <tr>\n",
       "      <th>2</th>\n",
       "      <td>a busy city that looks like new york city</td>\n",
       "      <td>the city looks like lawrence kansas</td>\n",
       "      <td>-1</td>\n",
       "    </tr>\n",
       "    <tr>\n",
       "      <th>3</th>\n",
       "      <td>a blond woman with two children is checking ou...</td>\n",
       "      <td>a mother is with her two children at walmart b...</td>\n",
       "      <td>0</td>\n",
       "    </tr>\n",
       "    <tr>\n",
       "      <th>4</th>\n",
       "      <td>two people pose for the camera</td>\n",
       "      <td>people pose for a family picture</td>\n",
       "      <td>0</td>\n",
       "    </tr>\n",
       "  </tbody>\n",
       "</table>\n",
       "</div>"
      ],
      "text/plain": [
       "                                             premise  \\\n",
       "0    a couple playing with a little boy on the beach   \n",
       "1  a man with a red shirt is watching another man...   \n",
       "2          a busy city that looks like new york city   \n",
       "3  a blond woman with two children is checking ou...   \n",
       "4                     two people pose for the camera   \n",
       "\n",
       "                                          hypothesis  label  \n",
       "0    a couple are playing with a young child outside      1  \n",
       "1                                the men are outside      0  \n",
       "2                the city looks like lawrence kansas     -1  \n",
       "3  a mother is with her two children at walmart b...      0  \n",
       "4                   people pose for a family picture      0  "
      ]
     },
     "execution_count": 3,
     "metadata": {},
     "output_type": "execute_result"
    }
   ],
   "source": [
    "pre_process_nli_df(df)\n",
    "label2ternary_label(df)\n",
    "df.head(5)"
   ]
  },
  {
   "cell_type": "markdown",
   "metadata": {},
   "source": [
    "### number of modifications using `toy`"
   ]
  },
  {
   "cell_type": "code",
   "execution_count": 4,
   "metadata": {},
   "outputs": [
    {
     "name": "stdout",
     "output_type": "stream",
     "text": [
      "(392, 3)\n"
     ]
    },
    {
     "data": {
      "text/html": [
       "<div>\n",
       "<style scoped>\n",
       "    .dataframe tbody tr th:only-of-type {\n",
       "        vertical-align: middle;\n",
       "    }\n",
       "\n",
       "    .dataframe tbody tr th {\n",
       "        vertical-align: top;\n",
       "    }\n",
       "\n",
       "    .dataframe thead th {\n",
       "        text-align: right;\n",
       "    }\n",
       "</style>\n",
       "<table border=\"1\" class=\"dataframe\">\n",
       "  <thead>\n",
       "    <tr style=\"text-align: right;\">\n",
       "      <th></th>\n",
       "      <th>premise</th>\n",
       "      <th>hypothesis</th>\n",
       "      <th>label</th>\n",
       "    </tr>\n",
       "  </thead>\n",
       "  <tbody>\n",
       "    <tr>\n",
       "      <th>1</th>\n",
       "      <td>a man with a red shirt is watching another man...</td>\n",
       "      <td>the men are outside</td>\n",
       "      <td>0</td>\n",
       "    </tr>\n",
       "    <tr>\n",
       "      <th>2</th>\n",
       "      <td>a busy city that looks like new york city</td>\n",
       "      <td>the city looks like lawrence kansas</td>\n",
       "      <td>-1</td>\n",
       "    </tr>\n",
       "    <tr>\n",
       "      <th>3</th>\n",
       "      <td>a blond woman with two children is checking ou...</td>\n",
       "      <td>a mother is with her two children at walmart b...</td>\n",
       "      <td>0</td>\n",
       "    </tr>\n",
       "    <tr>\n",
       "      <th>5</th>\n",
       "      <td>a man in a bright green shirt shows a woman in...</td>\n",
       "      <td>the woman is wearing blue</td>\n",
       "      <td>-1</td>\n",
       "    </tr>\n",
       "    <tr>\n",
       "      <th>8</th>\n",
       "      <td>a man with a beard wearing a red shirt with gr...</td>\n",
       "      <td>a man is dragging a sled behind him</td>\n",
       "      <td>0</td>\n",
       "    </tr>\n",
       "  </tbody>\n",
       "</table>\n",
       "</div>"
      ],
      "text/plain": [
       "                                             premise  \\\n",
       "1  a man with a red shirt is watching another man...   \n",
       "2          a busy city that looks like new york city   \n",
       "3  a blond woman with two children is checking ou...   \n",
       "5  a man in a bright green shirt shows a woman in...   \n",
       "8  a man with a beard wearing a red shirt with gr...   \n",
       "\n",
       "                                          hypothesis  label  \n",
       "1                                the men are outside      0  \n",
       "2                the city looks like lawrence kansas     -1  \n",
       "3  a mother is with her two children at walmart b...      0  \n",
       "5                          the woman is wearing blue     -1  \n",
       "8                a man is dragging a sled behind him      0  "
      ]
     },
     "execution_count": 4,
     "metadata": {},
     "output_type": "execute_result"
    }
   ],
   "source": [
    "df_t = get_transformed_part_by_syn(df, toy)\n",
    "print(df_t.shape)\n",
    "df_t.head(5)"
   ]
  },
  {
   "cell_type": "code",
   "execution_count": 11,
   "metadata": {},
   "outputs": [
    {
     "data": {
      "text/html": [
       "<div>\n",
       "<style scoped>\n",
       "    .dataframe tbody tr th:only-of-type {\n",
       "        vertical-align: middle;\n",
       "    }\n",
       "\n",
       "    .dataframe tbody tr th {\n",
       "        vertical-align: top;\n",
       "    }\n",
       "\n",
       "    .dataframe thead th {\n",
       "        text-align: right;\n",
       "    }\n",
       "</style>\n",
       "<table border=\"1\" class=\"dataframe\">\n",
       "  <thead>\n",
       "    <tr style=\"text-align: right;\">\n",
       "      <th></th>\n",
       "      <th>premise</th>\n",
       "      <th>hypothesis</th>\n",
       "      <th>label</th>\n",
       "    </tr>\n",
       "  </thead>\n",
       "  <tbody>\n",
       "    <tr>\n",
       "      <th>0</th>\n",
       "      <td>a couple playing with a little boy on the beach</td>\n",
       "      <td>a couple are playing with a young child outside</td>\n",
       "      <td>1</td>\n",
       "    </tr>\n",
       "    <tr>\n",
       "      <th>1</th>\n",
       "      <td>a guy with a red shirt is watching another guy...</td>\n",
       "      <td>the men are outside</td>\n",
       "      <td>0</td>\n",
       "    </tr>\n",
       "    <tr>\n",
       "      <th>2</th>\n",
       "      <td>a busy town that looks like new york town</td>\n",
       "      <td>the town looks like lawrence kansas</td>\n",
       "      <td>-1</td>\n",
       "    </tr>\n",
       "    <tr>\n",
       "      <th>3</th>\n",
       "      <td>a blond gal with two children is checking out ...</td>\n",
       "      <td>a mother is with her two children at walmart b...</td>\n",
       "      <td>0</td>\n",
       "    </tr>\n",
       "    <tr>\n",
       "      <th>4</th>\n",
       "      <td>two people pose for the camera</td>\n",
       "      <td>people pose for a family picture</td>\n",
       "      <td>0</td>\n",
       "    </tr>\n",
       "    <tr>\n",
       "      <th>5</th>\n",
       "      <td>a guy in a bright green shirt shows a gal in a...</td>\n",
       "      <td>the gal is wearing blue</td>\n",
       "      <td>-1</td>\n",
       "    </tr>\n",
       "    <tr>\n",
       "      <th>6</th>\n",
       "      <td>two older men are talking</td>\n",
       "      <td>two people are having a conversation</td>\n",
       "      <td>1</td>\n",
       "    </tr>\n",
       "  </tbody>\n",
       "</table>\n",
       "</div>"
      ],
      "text/plain": [
       "                                             premise  \\\n",
       "0    a couple playing with a little boy on the beach   \n",
       "1  a guy with a red shirt is watching another guy...   \n",
       "2          a busy town that looks like new york town   \n",
       "3  a blond gal with two children is checking out ...   \n",
       "4                     two people pose for the camera   \n",
       "5  a guy in a bright green shirt shows a gal in a...   \n",
       "6                          two older men are talking   \n",
       "\n",
       "                                          hypothesis  label  \n",
       "0    a couple are playing with a young child outside      1  \n",
       "1                                the men are outside      0  \n",
       "2                the town looks like lawrence kansas     -1  \n",
       "3  a mother is with her two children at walmart b...      0  \n",
       "4                   people pose for a family picture      0  \n",
       "5                            the gal is wearing blue     -1  \n",
       "6               two people are having a conversation      1  "
      ]
     },
     "execution_count": 11,
     "metadata": {},
     "output_type": "execute_result"
    }
   ],
   "source": [
    "aug = get_augmented_data(df=df.copy(),\n",
    "                         transformation=syn2tranformation(toy),\n",
    "                         frac=1)\n",
    "aug.head(7)"
   ]
  },
  {
   "cell_type": "code",
   "execution_count": 17,
   "metadata": {},
   "outputs": [
    {
     "data": {
      "text/plain": [
       "392"
      ]
     },
     "execution_count": 17,
     "metadata": {},
     "output_type": "execute_result"
    }
   ],
   "source": [
    "a = (aug.premise != df.premise) | (aug.hypothesis != df.hypothesis)\n",
    "a.sum()"
   ]
  },
  {
   "cell_type": "code",
   "execution_count": 19,
   "metadata": {},
   "outputs": [],
   "source": [
    "aug = get_augmented_data(df=df.copy(),\n",
    "                         transformation=syn2tranformation(toy),\n",
    "                         frac=0)\n",
    "a = (aug.premise != df.premise) | (aug.hypothesis != df.hypothesis)\n",
    "a.sum()"
   ]
  },
  {
   "cell_type": "code",
   "execution_count": 20,
   "metadata": {},
   "outputs": [
    {
     "data": {
      "text/plain": [
       "0"
      ]
     },
     "execution_count": 20,
     "metadata": {},
     "output_type": "execute_result"
    }
   ],
   "source": [
    "a = (aug.premise != df.premise) | (aug.hypothesis != df.hypothesis)\n",
    "a.sum()"
   ]
  },
  {
   "cell_type": "code",
   "execution_count": null,
   "metadata": {},
   "outputs": [],
   "source": []
  },
  {
   "cell_type": "code",
   "execution_count": null,
   "metadata": {},
   "outputs": [],
   "source": []
  }
 ],
 "metadata": {
  "kernelspec": {
   "display_name": "Python 3",
   "language": "python",
   "name": "python3"
  },
  "language_info": {
   "codemirror_mode": {
    "name": "ipython",
    "version": 3
   },
   "file_extension": ".py",
   "mimetype": "text/x-python",
   "name": "python",
   "nbconvert_exporter": "python",
   "pygments_lexer": "ipython3",
   "version": "3.6.8"
  }
 },
 "nbformat": 4,
 "nbformat_minor": 2
}
