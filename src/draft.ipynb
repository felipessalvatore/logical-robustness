{
 "cells": [
  {
   "cell_type": "code",
   "execution_count": 1,
   "metadata": {},
   "outputs": [],
   "source": [
    "import pandas as pd\n",
    "import numpy as np\n",
    "import matplotlib.pyplot as plt\n",
    "from lr.text_processing.util import pre_process_nli_df\n",
    "from lr.training.util import get_ternary_label, filter_df_by_label\n",
    "from lr.text_processing.transformations.wordnet import path_base_transformation\n",
    "\n",
    "from sklearn.exceptions import ConvergenceWarning\n",
    "import warnings\n",
    "warnings.filterwarnings(\"ignore\", category=RuntimeWarning)\n",
    "warnings.filterwarnings(\"ignore\", category=ConvergenceWarning)"
   ]
  },
  {
   "cell_type": "markdown",
   "metadata": {},
   "source": [
    "### Loading data"
   ]
  },
  {
   "cell_type": "code",
   "execution_count": 2,
   "metadata": {},
   "outputs": [],
   "source": [
    "train_path = \"data/snli/train.csv\"\n",
    "dev_path = \"data/snli/dev.csv\"\n",
    "\n",
    "train_path_mod = \"data/snli/train_p_h_syn_noun.csv\"\n",
    "dev_path_mod = \"data/snli/dev_p_h_syn_noun.csv\"\n",
    "\n",
    "train_trans = lambda df: path_base_transformation(df, train_path_mod)\n",
    "dev_trans = lambda df: path_base_transformation(df, dev_path_mod)\n",
    "\n",
    "\n",
    "train = pd.read_csv(train_path)\n",
    "dev = pd.read_csv(dev_path)\n",
    "train = filter_df_by_label(train.dropna()).reset_index(drop=True)\n",
    "dev = filter_df_by_label(dev.dropna()).reset_index(drop=True)\n",
    "\n",
    "train = train.head(10000)\n",
    "dev = dev.head(1000)\n",
    "\n",
    "dev_t = dev_trans(dev)\n",
    "\n",
    "pre_process_nli_df(train)\n",
    "pre_process_nli_df(dev)\n",
    "\n",
    "# print(train.shape)\n",
    "# print(dev.shape)"
   ]
  },
  {
   "cell_type": "markdown",
   "metadata": {},
   "source": [
    "### Params"
   ]
  },
  {
   "cell_type": "code",
   "execution_count": 3,
   "metadata": {},
   "outputs": [],
   "source": [
    "from lr.training.language_representation import Tfidf\n",
    "from lr.training.util import get_ternary_label\n",
    "\n",
    "max_features = None\n",
    "\n",
    "param_grid = {\"C\": np.linspace(0, 3, 50),\n",
    "              \"penalty\":[\"l2\"]}\n",
    "\n",
    "\n",
    "hyperparams = {\"RepresentationFunction\": Tfidf,\n",
    "               \"cv\":5,\n",
    "               \"solver\": 'lbfgs',\n",
    "               \"random_state\": None,\n",
    "               \"verbose\":False,\n",
    "               \"n_jobs\":1,\n",
    "               \"n_iter\":2,\n",
    "               \"max_features\": max_features,\n",
    "               \"label_translation\": get_ternary_label,\n",
    "               \"param_grid\": param_grid}"
   ]
  },
  {
   "cell_type": "code",
   "execution_count": 4,
   "metadata": {},
   "outputs": [],
   "source": [
    "np.random.seed(1234)"
   ]
  },
  {
   "cell_type": "markdown",
   "metadata": {},
   "source": [
    "\n",
    "## DGP"
   ]
  },
  {
   "cell_type": "code",
   "execution_count": 5,
   "metadata": {},
   "outputs": [],
   "source": [
    "from lr.stats.h_testing import DGP\n",
    "\n",
    "M = 1\n",
    "\n",
    "dgp = DGP(train, train_trans, rho=0.3)\n",
    "\n",
    "train_ = dgp.sample()"
   ]
  },
  {
   "cell_type": "markdown",
   "metadata": {},
   "source": [
    "## Train different models on the same sample"
   ]
  },
  {
   "cell_type": "code",
   "execution_count": 6,
   "metadata": {},
   "outputs": [],
   "source": [
    "from lr.models.logistic_regression import LRWrapper\n",
    "\n",
    "E = 2\n",
    "\n",
    "\n",
    "models = []\n",
    "\n",
    "for e in range(E):\n",
    "    lr = LRWrapper(hyperparams)\n",
    "    lr.fit(train_)\n",
    "    models.append(lr)\n"
   ]
  },
  {
   "cell_type": "markdown",
   "metadata": {},
   "source": [
    "### Get majority vote"
   ]
  },
  {
   "cell_type": "code",
   "execution_count": 7,
   "metadata": {},
   "outputs": [],
   "source": [
    "from lr.stats.h_testing import  Majority\n",
    "\n",
    "\n",
    "accs = [lr.get_acc(train_) for lr in models]\n",
    "lr = Majority(models)\n",
    "\n",
    "# print(\"mean acc = {:.3f} | std = {:.3f}\".format(np.mean(accs), np.std(accs)))\n",
    "# print(\"majority vote acc = {:.5f}\".format(lr.get_acc(train_)))\n"
   ]
  },
  {
   "cell_type": "markdown",
   "metadata": {},
   "source": [
    "### Get t statistic using majority model and dev data"
   ]
  },
  {
   "cell_type": "code",
   "execution_count": 8,
   "metadata": {},
   "outputs": [],
   "source": [
    "from lr.stats.h_testing import  get_matched_results, get_paired_t_statistic\n",
    "\n",
    "results = get_matched_results(dev, dev_t, lr, lr.label_translation)\n",
    "t_obs = get_paired_t_statistic(results)\n",
    "\n",
    "# print(t_obs)"
   ]
  },
  {
   "cell_type": "markdown",
   "metadata": {},
   "source": [
    "-0.22299378798752204"
   ]
  },
  {
   "cell_type": "code",
   "execution_count": 9,
   "metadata": {},
   "outputs": [],
   "source": [
    "from lr.stats.h_testing import get_boot_sample_under_H0\n",
    "from lr.stats.h_testing import get_boot_p_value\n",
    "\n",
    "\n",
    "S = 1000\n",
    "\n",
    "t_boots = []\n",
    "\n",
    "for _ in range(S):\n",
    "    boot_sample_result = get_boot_sample_under_H0(results)\n",
    "    boot_t = get_paired_t_statistic(boot_sample_result)\n",
    "    t_boots.append(boot_t)\n",
    "    \n",
    "t_boots = pd.Series(t_boots)\n",
    "\n",
    "p_value = get_boot_p_value(t_boots, t_obs)\n",
    "\n",
    "# fig, ax = plt.subplots(figsize=(10,5))\n",
    "# t_boots.hist(ax=ax, label=\"bootstrap replications\");\n",
    "# plt.axvline(x=t_obs, color='r', linestyle='-', label=\"observed\");\n",
    "# ax.set_xlabel(\"t\", fontsize=14);\n",
    "# ax.set_ylabel(\"frequency\", fontsize=14);\n",
    "# ax.set_title(\"Bootstrap test histogram (p-value = {:.8f})\".format(p_value) +\"\\n\", fontsize=16)\n",
    "# plt.legend(loc=\"best\");"
   ]
  },
  {
   "cell_type": "markdown",
   "metadata": {},
   "source": [
    "0.84"
   ]
  },
  {
   "cell_type": "code",
   "execution_count": 10,
   "metadata": {},
   "outputs": [
    {
     "name": "stdout",
     "output_type": "stream",
     "text": [
      "m = 1 | time: 24.27 sec\n"
     ]
    }
   ],
   "source": [
    "from lr.stats.h_testing import LIMts_test\n",
    "\n",
    "hyperparams[\"verbose\"] = False\n",
    "\n",
    "b = LIMts_test(train=train,\n",
    "               dev=dev,\n",
    "               train_transformation=train_trans,\n",
    "               dev_transformation=dev_trans,\n",
    "               rho=0.3,\n",
    "               Model=LRWrapper,\n",
    "               hyperparams=hyperparams,\n",
    "               M=1,\n",
    "               E=2,\n",
    "               S=1000,\n",
    "               verbose=True,\n",
    "               random_state=1234)"
   ]
  },
  {
   "cell_type": "code",
   "execution_count": 11,
   "metadata": {},
   "outputs": [],
   "source": [
    "assert np.all(b.observable_t_stats == t_obs)\n",
    "assert np.all(b.p_value == p_value)"
   ]
  },
  {
   "cell_type": "code",
   "execution_count": null,
   "metadata": {},
   "outputs": [],
   "source": []
  },
  {
   "cell_type": "code",
   "execution_count": null,
   "metadata": {},
   "outputs": [],
   "source": []
  },
  {
   "cell_type": "code",
   "execution_count": null,
   "metadata": {},
   "outputs": [],
   "source": []
  },
  {
   "cell_type": "code",
   "execution_count": null,
   "metadata": {},
   "outputs": [],
   "source": []
  },
  {
   "cell_type": "code",
   "execution_count": null,
   "metadata": {},
   "outputs": [],
   "source": []
  },
  {
   "cell_type": "code",
   "execution_count": null,
   "metadata": {},
   "outputs": [],
   "source": []
  }
 ],
 "metadata": {
  "kernelspec": {
   "display_name": "Python 3",
   "language": "python",
   "name": "python3"
  },
  "language_info": {
   "codemirror_mode": {
    "name": "ipython",
    "version": 3
   },
   "file_extension": ".py",
   "mimetype": "text/x-python",
   "name": "python",
   "nbconvert_exporter": "python",
   "pygments_lexer": "ipython3",
   "version": "3.6.8"
  }
 },
 "nbformat": 4,
 "nbformat_minor": 2
}
