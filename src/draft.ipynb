{
 "cells": [
  {
   "cell_type": "code",
   "execution_count": 1,
   "metadata": {},
   "outputs": [],
   "source": [
    "import pandas as pd\n",
    "import numpy as np\n",
    "from lr.text_processing.util import pre_process_nli_df, get_corpus\n",
    "from lr.text_processing.transformations.util import get_transformed_part_by_syn\n",
    "from lr.text_processing.transformations.util import syn2tranformation\n",
    "from lr.text_processing.transformations.util import get_augmented_data\n",
    "from lr.text_processing.transformations.synonyms import toy\n",
    "from lr.text_processing.transformations.structural import invert, entailment_internalization\n",
    "from lr.training.util import label2ternary_label, label2binary_label\n",
    "from lr.training.language_representation import BOW"
   ]
  },
  {
   "cell_type": "code",
   "execution_count": 2,
   "metadata": {},
   "outputs": [
    {
     "data": {
      "text/html": [
       "<div>\n",
       "<style scoped>\n",
       "    .dataframe tbody tr th:only-of-type {\n",
       "        vertical-align: middle;\n",
       "    }\n",
       "\n",
       "    .dataframe tbody tr th {\n",
       "        vertical-align: top;\n",
       "    }\n",
       "\n",
       "    .dataframe thead th {\n",
       "        text-align: right;\n",
       "    }\n",
       "</style>\n",
       "<table border=\"1\" class=\"dataframe\">\n",
       "  <thead>\n",
       "    <tr style=\"text-align: right;\">\n",
       "      <th></th>\n",
       "      <th>premise</th>\n",
       "      <th>hypothesis</th>\n",
       "      <th>label</th>\n",
       "    </tr>\n",
       "  </thead>\n",
       "  <tbody>\n",
       "    <tr>\n",
       "      <th>0</th>\n",
       "      <td>A couple playing with a little boy on the beach.</td>\n",
       "      <td>A couple are playing with a young child outside.</td>\n",
       "      <td>entailment</td>\n",
       "    </tr>\n",
       "    <tr>\n",
       "      <th>1</th>\n",
       "      <td>A man with a red shirt is watching another man...</td>\n",
       "      <td>The men are outside.</td>\n",
       "      <td>neutral</td>\n",
       "    </tr>\n",
       "    <tr>\n",
       "      <th>2</th>\n",
       "      <td>A busy city that looks like New York City.</td>\n",
       "      <td>The city looks like Lawrence, Kansas.</td>\n",
       "      <td>contradiction</td>\n",
       "    </tr>\n",
       "    <tr>\n",
       "      <th>3</th>\n",
       "      <td>A blond woman with two children is checking ou...</td>\n",
       "      <td>A mother is with her two children at Walmart b...</td>\n",
       "      <td>neutral</td>\n",
       "    </tr>\n",
       "    <tr>\n",
       "      <th>4</th>\n",
       "      <td>Two people pose for the camera.</td>\n",
       "      <td>People pose for a family picture.</td>\n",
       "      <td>neutral</td>\n",
       "    </tr>\n",
       "  </tbody>\n",
       "</table>\n",
       "</div>"
      ],
      "text/plain": [
       "                                             premise  \\\n",
       "0   A couple playing with a little boy on the beach.   \n",
       "1  A man with a red shirt is watching another man...   \n",
       "2         A busy city that looks like New York City.   \n",
       "3  A blond woman with two children is checking ou...   \n",
       "4                    Two people pose for the camera.   \n",
       "\n",
       "                                          hypothesis          label  \n",
       "0   A couple are playing with a young child outside.     entailment  \n",
       "1                               The men are outside.        neutral  \n",
       "2              The city looks like Lawrence, Kansas.  contradiction  \n",
       "3  A mother is with her two children at Walmart b...        neutral  \n",
       "4                  People pose for a family picture.        neutral  "
      ]
     },
     "execution_count": 2,
     "metadata": {},
     "output_type": "execute_result"
    }
   ],
   "source": [
    "df = pd.read_csv(\"data/toy/train.csv\")\n",
    "dev = pd.read_csv(\"data/toy/dev.csv\")\n",
    "df.head(5)"
   ]
  },
  {
   "cell_type": "code",
   "execution_count": 3,
   "metadata": {},
   "outputs": [
    {
     "data": {
      "text/html": [
       "<div>\n",
       "<style scoped>\n",
       "    .dataframe tbody tr th:only-of-type {\n",
       "        vertical-align: middle;\n",
       "    }\n",
       "\n",
       "    .dataframe tbody tr th {\n",
       "        vertical-align: top;\n",
       "    }\n",
       "\n",
       "    .dataframe thead th {\n",
       "        text-align: right;\n",
       "    }\n",
       "</style>\n",
       "<table border=\"1\" class=\"dataframe\">\n",
       "  <thead>\n",
       "    <tr style=\"text-align: right;\">\n",
       "      <th></th>\n",
       "      <th>premise</th>\n",
       "      <th>hypothesis</th>\n",
       "      <th>label</th>\n",
       "    </tr>\n",
       "  </thead>\n",
       "  <tbody>\n",
       "    <tr>\n",
       "      <th>0</th>\n",
       "      <td>a couple playing with a little boy on the beach</td>\n",
       "      <td>a couple are playing with a young child outside</td>\n",
       "      <td>1</td>\n",
       "    </tr>\n",
       "    <tr>\n",
       "      <th>1</th>\n",
       "      <td>a man with a red shirt is watching another man...</td>\n",
       "      <td>the men are outside</td>\n",
       "      <td>0</td>\n",
       "    </tr>\n",
       "    <tr>\n",
       "      <th>2</th>\n",
       "      <td>a busy city that looks like new york city</td>\n",
       "      <td>the city looks like lawrence kansas</td>\n",
       "      <td>-1</td>\n",
       "    </tr>\n",
       "    <tr>\n",
       "      <th>3</th>\n",
       "      <td>a blond woman with two children is checking ou...</td>\n",
       "      <td>a mother is with her two children at walmart b...</td>\n",
       "      <td>0</td>\n",
       "    </tr>\n",
       "    <tr>\n",
       "      <th>4</th>\n",
       "      <td>two people pose for the camera</td>\n",
       "      <td>people pose for a family picture</td>\n",
       "      <td>0</td>\n",
       "    </tr>\n",
       "  </tbody>\n",
       "</table>\n",
       "</div>"
      ],
      "text/plain": [
       "                                             premise  \\\n",
       "0    a couple playing with a little boy on the beach   \n",
       "1  a man with a red shirt is watching another man...   \n",
       "2          a busy city that looks like new york city   \n",
       "3  a blond woman with two children is checking ou...   \n",
       "4                     two people pose for the camera   \n",
       "\n",
       "                                          hypothesis  label  \n",
       "0    a couple are playing with a young child outside      1  \n",
       "1                                the men are outside      0  \n",
       "2                the city looks like lawrence kansas     -1  \n",
       "3  a mother is with her two children at walmart b...      0  \n",
       "4                   people pose for a family picture      0  "
      ]
     },
     "execution_count": 3,
     "metadata": {},
     "output_type": "execute_result"
    }
   ],
   "source": [
    "pre_process_nli_df(df)\n",
    "# label2binary_label(df)\n",
    "label2ternary_label(df)\n",
    "\n",
    "df.head(5)"
   ]
  },
  {
   "cell_type": "code",
   "execution_count": 4,
   "metadata": {},
   "outputs": [
    {
     "name": "stderr",
     "output_type": "stream",
     "text": [
      "/usr/local/lib/python3.6/dist-packages/sklearn/linear_model/_logistic.py:940: ConvergenceWarning: lbfgs failed to converge (status=1):\n",
      "STOP: TOTAL NO. of ITERATIONS REACHED LIMIT.\n",
      "\n",
      "Increase the number of iterations (max_iter) or scale the data as shown in:\n",
      "    https://scikit-learn.org/stable/modules/preprocessing.html\n",
      "Please also refer to the documentation for alternative solver options:\n",
      "    https://scikit-learn.org/stable/modules/linear_model.html#logistic-regression\n",
      "  extra_warning_msg=_LOGISTIC_SOLVER_CONVERGENCE_MSG)\n"
     ]
    },
    {
     "data": {
      "text/plain": [
       "0.755"
      ]
     },
     "execution_count": 4,
     "metadata": {},
     "output_type": "execute_result"
    }
   ],
   "source": [
    "from sklearn.linear_model import LogisticRegression\n",
    "b = BOW({\"num_words\": 500})\n",
    "c = get_corpus(df)\n",
    "b.fit(c)\n",
    "X = b.transform(c)\n",
    "y = df.label\n",
    "m = LogisticRegression()\n",
    "m = m.fit(X,y)\n",
    "acc = (m.predict(X) == y).mean()\n",
    "# assert acc > 0.6\n",
    "acc"
   ]
  },
  {
   "cell_type": "code",
   "execution_count": 5,
   "metadata": {},
   "outputs": [
    {
     "name": "stdout",
     "output_type": "stream",
     "text": [
      "0.755\n"
     ]
    }
   ],
   "source": [
    "print(acc)"
   ]
  },
  {
   "cell_type": "code",
   "execution_count": 6,
   "metadata": {},
   "outputs": [],
   "source": [
    "pre_process_nli_df(dev)\n",
    "label2ternary_label(dev)\n",
    "c = get_corpus(dev)\n",
    "X = b.transform(c)\n",
    "y = dev.label\n",
    "acc = (m.predict(X) == y).mean()"
   ]
  },
  {
   "cell_type": "code",
   "execution_count": 7,
   "metadata": {},
   "outputs": [
    {
     "name": "stdout",
     "output_type": "stream",
     "text": [
      "0.25\n"
     ]
    }
   ],
   "source": [
    "print(acc)"
   ]
  },
  {
   "cell_type": "code",
   "execution_count": null,
   "metadata": {},
   "outputs": [],
   "source": []
  }
 ],
 "metadata": {
  "kernelspec": {
   "display_name": "Python 3",
   "language": "python",
   "name": "python3"
  },
  "language_info": {
   "codemirror_mode": {
    "name": "ipython",
    "version": 3
   },
   "file_extension": ".py",
   "mimetype": "text/x-python",
   "name": "python",
   "nbconvert_exporter": "python",
   "pygments_lexer": "ipython3",
   "version": "3.6.8"
  }
 },
 "nbformat": 4,
 "nbformat_minor": 2
}
