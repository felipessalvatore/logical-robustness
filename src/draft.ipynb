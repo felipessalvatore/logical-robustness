{
 "cells": [
  {
   "cell_type": "code",
   "execution_count": 16,
   "metadata": {},
   "outputs": [],
   "source": [
    "import numpy as np\n",
    "import pandas as pd\n",
    "import os\n",
    "from lr.text_processing.util import pre_process_nli_df  # noqa\n",
    "from lr.text_processing.util import get_corpus  # noqa\n",
    "from lr.training.util import get_ternary_label, filter_df_by_label  # noqa\n",
    "from lr.training.language_representation import Tfidf  # noqa\n",
    "from lr.models.xgb import XGBCWrapper  # noqa"
   ]
  },
  {
   "cell_type": "code",
   "execution_count": null,
   "metadata": {},
   "outputs": [],
   "source": [
    "## Variables"
   ]
  },
  {
   "cell_type": "code",
   "execution_count": 17,
   "metadata": {},
   "outputs": [],
   "source": [
    "train_path = \"data/toy/train.csv\"\n",
    "dev_path = \"data/toy/dev.csv\"\n",
    "\n",
    "search_path = \"hyperparams/xgb_snli/search_455.csv\"\n",
    "\n",
    "verbose = True\n",
    "n_jobs = 3\n",
    "random_state = 34\n",
    "max_features = None\n",
    "dgp_seed = 342"
   ]
  },
  {
   "cell_type": "code",
   "execution_count": null,
   "metadata": {},
   "outputs": [],
   "source": [
    "## Get data"
   ]
  },
  {
   "cell_type": "code",
   "execution_count": 18,
   "metadata": {},
   "outputs": [],
   "source": [
    "train = pd.read_csv(train_path)\n",
    "dev = pd.read_csv(dev_path)\n",
    "train = filter_df_by_label(train.dropna()).reset_index(drop=True)\n",
    "dev = filter_df_by_label(dev.dropna()).reset_index(drop=True)\n",
    "pre_process_nli_df(train)\n",
    "pre_process_nli_df(dev)"
   ]
  },
  {
   "cell_type": "code",
   "execution_count": 19,
   "metadata": {},
   "outputs": [],
   "source": [
    "## Get hyperarams"
   ]
  },
  {
   "cell_type": "code",
   "execution_count": 15,
   "metadata": {},
   "outputs": [
    {
     "data": {
      "text/plain": [
       "0.32"
      ]
     },
     "execution_count": 15,
     "metadata": {},
     "output_type": "execute_result"
    }
   ],
   "source": [
    "params_keys = ['n_estimators', 'max_depth', \"reg_alpha\",\n",
    "               \"reg_gamma\", \"learning_rate\", \"subsample\", \"colsample_bytree\"]\n",
    "\n",
    "hyperparams = {\"RepresentationFunction\": Tfidf,\n",
    "               \"random_state\": random_state,\n",
    "               \"n_jobs\": n_jobs,\n",
    "               \"max_features\": max_features,\n",
    "               \"label_translation\": get_ternary_label,\n",
    "               \"dgp_seed\": dgp_seed,\n",
    "               \"data_set_name\": \"snli\",\n",
    "               \"transformation_name\": None,\n",
    "               \"rho\": 0.3,\n",
    "               \"model_name_or_path\": \"gradient boosting\",\n",
    "               \"number_of_simulations\": 10000,\n",
    "                \"output_dir\": None,\n",
    "               \"verbose\": verbose}\n",
    "\n",
    "search_results = pd.read_csv(search_path) \n",
    "               \n",
    "for k in params_keys:\n",
    "    hyperparams[k] = search_results.loc[0,k]"
   ]
  },
  {
   "cell_type": "code",
   "execution_count": null,
   "metadata": {},
   "outputs": [],
   "source": [
    "model = XGBCWrapper(hyperparams)\n",
    "model.fit(train)\n",
    "model.get_acc(dev)"
   ]
  },
  {
   "cell_type": "code",
   "execution_count": null,
   "metadata": {},
   "outputs": [],
   "source": []
  },
  {
   "cell_type": "code",
   "execution_count": null,
   "metadata": {},
   "outputs": [],
   "source": []
  },
  {
   "cell_type": "code",
   "execution_count": null,
   "metadata": {},
   "outputs": [],
   "source": []
  },
  {
   "cell_type": "code",
   "execution_count": null,
   "metadata": {},
   "outputs": [],
   "source": []
  },
  {
   "cell_type": "code",
   "execution_count": null,
   "metadata": {},
   "outputs": [],
   "source": []
  },
  {
   "cell_type": "code",
   "execution_count": null,
   "metadata": {},
   "outputs": [],
   "source": []
  },
  {
   "cell_type": "code",
   "execution_count": null,
   "metadata": {},
   "outputs": [],
   "source": []
  }
 ],
 "metadata": {
  "kernelspec": {
   "display_name": "Python 3",
   "language": "python",
   "name": "python3"
  },
  "language_info": {
   "codemirror_mode": {
    "name": "ipython",
    "version": 3
   },
   "file_extension": ".py",
   "mimetype": "text/x-python",
   "name": "python",
   "nbconvert_exporter": "python",
   "pygments_lexer": "ipython3",
   "version": "3.6.9"
  }
 },
 "nbformat": 4,
 "nbformat_minor": 2
}
