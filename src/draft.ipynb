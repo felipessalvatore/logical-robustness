{
 "cells": [
  {
   "cell_type": "code",
   "execution_count": 1,
   "metadata": {},
   "outputs": [],
   "source": [
    "import os\n",
    "import numpy as np\n",
    "import pandas as pd\n",
    "from time import time\n",
    "from lr.models.transformers.BertWrapper import BertWrapper\n",
    "from lr.models.transformers.processor import clean_df\n",
    "from lr.training.util import filter_df_by_label\n",
    "from tqdm import tqdm"
   ]
  },
  {
   "cell_type": "code",
   "execution_count": 2,
   "metadata": {},
   "outputs": [],
   "source": [
    "## Variables"
   ]
  },
  {
   "cell_type": "code",
   "execution_count": 3,
   "metadata": {},
   "outputs": [
    {
     "name": "stdout",
     "output_type": "stream",
     "text": [
      "clean train\n",
      "clean dev\n",
      "train.shape (49914, 4)\n",
      "dev.shape (9842, 4)\n"
     ]
    }
   ],
   "source": [
    "# Get data\n",
    "folder = \"snli\"\n",
    "train_path = \"data/{}/train_sample.csv\".format(folder)\n",
    "dev_path = \"data/{}/dev.csv\".format(folder)\n",
    "output_dir_name = \"hyperparams/bert_base_snli\"\n",
    "verbose= True\n",
    "n_cores = 2\n",
    "random_state = 52\n",
    "\n",
    "train = pd.read_csv(train_path)\n",
    "dev = pd.read_csv(dev_path)\n",
    "\n",
    "if verbose:\n",
    "    print(\"clean train\")\n",
    "train = clean_df(train, n_cores=n_cores)\n",
    "\n",
    "if verbose:\n",
    "    print(\"clean dev\")\n",
    "dev = clean_df(dev, n_cores=n_cores)\n",
    "\n",
    "if verbose:\n",
    "    print(\"train.shape\", train.shape)\n",
    "    print(\"dev.shape\", dev.shape)\n",
    "\n"
   ]
  },
  {
   "cell_type": "code",
   "execution_count": 4,
   "metadata": {},
   "outputs": [],
   "source": [
    "# Get hyperarams\n",
    "basic_hyperparams = {\"local_rank\": -1,\n",
    "                     \"max_seq_length\": 200,\n",
    "                     \"overwrite_cache\": False,\n",
    "                     \"num_train_epochs\": 1.0,\n",
    "                     \"per_gpu_train_batch_size\": 32,\n",
    "                     \"per_gpu_eval_batch_size\": 50,\n",
    "                     \"gradient_accumulation_steps\": 1,\n",
    "                     \"learning_rate\": 5e-5,\n",
    "                     \"weight_decay\": 0.0,\n",
    "                     \"adam_epsilon\": 1e-8,\n",
    "                     \"max_grad_norm\": 1.0,\n",
    "                     \"max_steps\": 50,\n",
    "#                      \"max_steps\": -1,\n",
    "                     \"warmup_steps\": 0,\n",
    "                     \"save_steps\": 8580,\n",
    "                     \"no_cuda\": False,\n",
    "                     \"n_gpu\": 1,\n",
    "                     \"data_set_name\": folder,\n",
    "                     \"transformation_name\": None,\n",
    "                     \"number_of_simulations\": 1000,\n",
    "                     \"rho\": 0.0,\n",
    "                     \"model_name_or_path\": \"bert\",\n",
    "                     \"output_dir\": \"zero\",\n",
    "                     \"random_state\": random_state,\n",
    "                     \"dgp_seed\": random_state,\n",
    "                     \"fp16\": False,\n",
    "                     \"fp16_opt_level\": \"01\",\n",
    "                     \"device\": \"cpu\",\n",
    "                     \"verbose\": True,\n",
    "                     \"model_type\": \"bert\",\n",
    "                     \"pad_on_left\": False,\n",
    "                     \"pad_token\": 0,\n",
    "                     \"n_cores\": n_cores,\n",
    "                     'eval_sample_size': 200,\n",
    "                     \"pad_token_segment_id\": 0,\n",
    "                     \"mask_padding_with_zero\": True,\n",
    "                     \"base_path\": \"data/{}/cached_\".format(folder),\n",
    "                     \"pretrained_weights\": 'bert-base-uncased'}"
   ]
  },
  {
   "cell_type": "code",
   "execution_count": 5,
   "metadata": {},
   "outputs": [
    {
     "name": "stderr",
     "output_type": "stream",
     "text": [
      "Epoch:   0%|          | 0/1 [00:00<?, ?it/s]\n",
      "Iteration:   0%|          | 0/1554 [00:00<?, ?it/s]\u001b[A\n",
      "Iteration:   0%|          | 1/1554 [00:12<5:25:39, 12.58s/it]\u001b[A\n",
      "Iteration:   0%|          | 2/1554 [00:25<5:25:21, 12.58s/it]\u001b[A\n",
      "Iteration:   0%|          | 3/1554 [00:37<5:24:19, 12.55s/it]\u001b[A\n",
      "Iteration:   0%|          | 4/1554 [00:50<5:23:17, 12.51s/it]\u001b[A\n",
      "Iteration:   0%|          | 5/1554 [01:02<5:22:19, 12.48s/it]\u001b[A\n",
      "Iteration:   0%|          | 6/1554 [01:14<5:21:29, 12.46s/it]\u001b[A\n",
      "Iteration:   0%|          | 7/1554 [01:27<5:21:22, 12.46s/it]\u001b[A\n",
      "Iteration:   1%|          | 8/1554 [01:39<5:21:01, 12.46s/it]\u001b[A\n",
      "Iteration:   1%|          | 9/1554 [01:52<5:20:31, 12.45s/it]\u001b[A\n",
      "Iteration:   1%|          | 10/1554 [02:04<5:19:59, 12.43s/it]\u001b[A\n",
      "Iteration:   1%|          | 11/1554 [02:17<5:19:55, 12.44s/it]\u001b[A\n",
      "Iteration:   1%|          | 12/1554 [02:29<5:19:22, 12.43s/it]\u001b[A\n",
      "Iteration:   1%|          | 13/1554 [02:41<5:19:23, 12.44s/it]\u001b[A\n",
      "Iteration:   1%|          | 14/1554 [02:54<5:19:12, 12.44s/it]\u001b[A\n",
      "Iteration:   1%|          | 15/1554 [03:06<5:18:48, 12.43s/it]\u001b[A\n",
      "Iteration:   1%|          | 16/1554 [03:19<5:18:24, 12.42s/it]\u001b[A\n",
      "Iteration:   1%|          | 17/1554 [03:31<5:18:49, 12.45s/it]\u001b[A\n",
      "Iteration:   1%|          | 18/1554 [03:44<5:18:20, 12.44s/it]\u001b[A\n",
      "Iteration:   1%|          | 19/1554 [03:56<5:17:56, 12.43s/it]\u001b[A\n",
      "Iteration:   1%|▏         | 20/1554 [04:08<5:17:34, 12.42s/it]\u001b[A\n",
      "Iteration:   1%|▏         | 21/1554 [04:21<5:17:34, 12.43s/it]\u001b[A\n",
      "Iteration:   1%|▏         | 22/1554 [04:33<5:17:10, 12.42s/it]\u001b[A\n",
      "Iteration:   1%|▏         | 23/1554 [04:46<5:17:23, 12.44s/it]\u001b[A\n",
      "Iteration:   2%|▏         | 24/1554 [04:58<5:17:22, 12.45s/it]\u001b[A\n",
      "Iteration:   2%|▏         | 25/1554 [05:11<5:17:17, 12.45s/it]\u001b[A\n",
      "Iteration:   2%|▏         | 26/1554 [05:23<5:16:47, 12.44s/it]\u001b[A\n",
      "Iteration:   2%|▏         | 27/1554 [05:36<5:16:53, 12.45s/it]\u001b[A\n",
      "Iteration:   2%|▏         | 28/1554 [05:48<5:16:24, 12.44s/it]\u001b[A\n",
      "Iteration:   2%|▏         | 29/1554 [06:00<5:15:58, 12.43s/it]\u001b[A\n",
      "Iteration:   2%|▏         | 30/1554 [06:13<5:15:22, 12.42s/it]\u001b[A\n",
      "Iteration:   2%|▏         | 31/1554 [06:25<5:15:07, 12.41s/it]\u001b[A\n",
      "Iteration:   2%|▏         | 32/1554 [06:38<5:14:53, 12.41s/it]\u001b[A\n",
      "Iteration:   2%|▏         | 33/1554 [06:50<5:14:52, 12.42s/it]\u001b[A\n",
      "Iteration:   2%|▏         | 34/1554 [07:02<5:14:43, 12.42s/it]\u001b[A\n",
      "Iteration:   2%|▏         | 35/1554 [07:15<5:14:24, 12.42s/it]\u001b[A\n",
      "Iteration:   2%|▏         | 36/1554 [07:27<5:14:05, 12.41s/it]\u001b[A\n",
      "Iteration:   2%|▏         | 37/1554 [07:40<5:13:58, 12.42s/it]\u001b[A\n",
      "Iteration:   2%|▏         | 38/1554 [07:52<5:13:21, 12.40s/it]\u001b[A\n",
      "Iteration:   3%|▎         | 39/1554 [08:05<5:13:27, 12.41s/it]\u001b[A\n",
      "Iteration:   3%|▎         | 40/1554 [08:17<5:13:14, 12.41s/it]\u001b[A\n",
      "Iteration:   3%|▎         | 41/1554 [08:29<5:13:10, 12.42s/it]\u001b[A\n",
      "Iteration:   3%|▎         | 42/1554 [08:42<5:13:01, 12.42s/it]\u001b[A\n",
      "Iteration:   3%|▎         | 43/1554 [08:54<5:12:55, 12.43s/it]\u001b[A\n",
      "Iteration:   3%|▎         | 44/1554 [09:07<5:12:49, 12.43s/it]\u001b[A\n",
      "Iteration:   3%|▎         | 45/1554 [09:19<5:13:22, 12.46s/it]\u001b[A\n",
      "Iteration:   3%|▎         | 46/1554 [09:32<5:12:37, 12.44s/it]\u001b[A\n",
      "Iteration:   3%|▎         | 47/1554 [09:44<5:12:21, 12.44s/it]\u001b[A\n",
      "Iteration:   3%|▎         | 48/1554 [09:56<5:11:50, 12.42s/it]\u001b[A\n",
      "Iteration:   3%|▎         | 49/1554 [10:09<5:11:34, 12.42s/it]\u001b[A\n",
      "Iteration:   3%|▎         | 50/1554 [10:34<5:17:58, 12.69s/it]\u001b[A\n",
      "Epoch:   0%|          | 0/1 [10:34<?, ?it/s]\n"
     ]
    }
   ],
   "source": [
    "hyperparams = basic_hyperparams.copy()\n",
    "model = BertWrapper(hyperparams)\n",
    "init = time()\n",
    "model.fit(train)\n",
    "train_time = time() - init"
   ]
  },
  {
   "cell_type": "code",
   "execution_count": 6,
   "metadata": {},
   "outputs": [
    {
     "name": "stdout",
     "output_type": "stream",
     "text": [
      "eval path =  data/snli/cached_dev_200\n"
     ]
    },
    {
     "name": "stderr",
     "output_type": "stream",
     "text": [
      "Evaluating: 100%|██████████| 197/197 [19:12<00:00,  5.85s/it]\n"
     ]
    }
   ],
   "source": [
    "result = model.get_results(dev, mode=\"dev\")\n",
    "acc = result.indicator.mean()"
   ]
  },
  {
   "cell_type": "code",
   "execution_count": 19,
   "metadata": {},
   "outputs": [],
   "source": [
    "n_iter = 2\n",
    "\n",
    "choice_0 = {'num_train_epochs':1.0,\n",
    "             \"max_seq_length\": 200,\n",
    "             \"learning_rate\": 5e-5,\n",
    "             \"weight_decay\": 0.0,\n",
    "             \"adam_epsilon\": 1e-8,\n",
    "             \"max_grad_norm\": 1.0}\n",
    "\n",
    "param_grid = {\"max_seq_length\": range(50, 210, 10),\n",
    "              \"num_train_epochs\": np.linspace(1, 2.5, 10),\n",
    "              \"learning_rate\": np.linspace(0.00005, 1, 10),\n",
    "              \"weight_decay\": np.linspace(0, 0.1, 10),\n",
    "              \"adam_epsilon\": np.linspace(1e-8, 0.1, 10),\n",
    "              \"max_grad_norm\": np.linspace(0.00005, 1, 10)}\n",
    "\n",
    "np.random.seed(random_state)\n",
    "choices = [choice_0]\n",
    "\n",
    "for i in range(n_iter - 1):\n",
    "    hyper_choice = {}\n",
    "    for k in param_grid:\n",
    "        hyper_choice[k] = np.random.choice(param_grid[k])\n",
    "    choices.append(hyper_choice)"
   ]
  },
  {
   "cell_type": "code",
   "execution_count": 7,
   "metadata": {},
   "outputs": [],
   "source": [
    "\n",
    "#     param_grid = {\"max_seq_length\": range(50, 210, 10),\n",
    "#                   \"num_train_epochs\": np.linspace(1, 2.5, 10),\n",
    "#                   \"learning_rate\": np.linspace(0.00005, 1, 10),\n",
    "#                   \"weight_decay\": np.linspace(0, 0.1, 10),\n",
    "#                   \"adam_epsilon\": np.linspace(1e-8, 0.1, 10),\n",
    "#                   \"max_grad_norm\": np.linspace(0.00005, 1, 10)}\n",
    "\n",
    "#     np.random.seed(random_state)\n",
    "#     choices = []\n",
    "\n",
    "#     for i in range(n_iter):\n",
    "#         hyper_choice = {}\n",
    "#         for k in param_grid:\n",
    "#             hyper_choice[k] = np.random.choice(param_grid[k])\n",
    "#         choices.append(hyper_choice)\n",
    "\n",
    "#     # Search\n",
    "\n",
    "#     all_accs = []\n",
    "#     all_train_times = []\n",
    "#     init_search = time()\n",
    "\n",
    "#     for hyper_choice in tqdm(choices):\n",
    "#         hyperparams = basic_hyperparams.copy()\n",
    "#         hyperparams.update(hyper_choice)\n",
    "#         model = BertWrapper(hyperparams)\n",
    "#         init = time()\n",
    "#         model.fit(train)\n",
    "#         train_time = time() - init\n",
    "#         result = model.get_results(dev, mode=\"dev\")\n",
    "#         acc = result.indicator.mean()\n",
    "#         all_accs.append(acc)\n",
    "#         all_train_times.append(train_time)\n",
    "#         clean_folder(folder)\n",
    "\n",
    "#     search_time = time() - init_search\n",
    "#     search_time = search_time / 3600\n",
    "\n",
    "#     # Store Results\n",
    "\n",
    "#     best_id = np.argmax(all_accs)\n",
    "#     best_score = all_accs[best_id]\n",
    "#     param_df = pd.DataFrame(choices[best_id], index=[0])\n",
    "\n",
    "#     dict_ = {\"search_random_state\": [random_state],\n",
    "#              \"number_of_search_trails\": [n_iter],\n",
    "#              \"expected_val_score\": [np.mean(all_accs)],\n",
    "#              \"best_val_score\": [best_score],\n",
    "#              \"mean_fit_time\": [np.mean(all_train_times) / 3600],\n",
    "#              \"search_time\": [search_time]}\n",
    "#     search_results = pd.DataFrame(dict_)\n",
    "#     search_results = pd.merge(\n",
    "#         search_results,\n",
    "#         param_df,\n",
    "#         left_index=True,\n",
    "#         right_index=True)\n",
    "#     path = output_dir_name + \"/search_{}.csv\".format(random_state)\n",
    "#     clean_folder_log(output_dir_name)\n",
    "#     search_results.to_csv(path, index=False)\n",
    "\n",
    "\n",
    "# if __name__ == '__main__':\n",
    "\n",
    "#     parser = argparse.ArgumentParser()\n",
    "\n",
    "#     parser.add_argument('random_state',\n",
    "#                         type=int,\n",
    "#                         help='random_state')\n",
    "\n",
    "#     parser.add_argument('n_iter',\n",
    "#                         type=int,\n",
    "#                         help='number of iterations')\n",
    "\n",
    "#     parser.add_argument('n_cores',\n",
    "#                         type=int,\n",
    "#                         help='number of cores')\n",
    "#     args = parser.parse_args()\n",
    "\n",
    "#     folder = \"snli\"\n",
    "#     train_path = \"data/{}/train_sample.csv\".format(folder)\n",
    "#     dev_path = \"data/{}/dev.csv\".format(folder)\n",
    "#     output_dir_name = \"hyperparams/bert_base_snli\"\n",
    "\n",
    "#     search(train_path=train_path,\n",
    "#            dev_path=dev_path,\n",
    "#            random_state=args.random_state,\n",
    "#            folder=folder,\n",
    "#            n_iter=args.n_iter,\n",
    "#            n_cores=args.n_cores,\n",
    "#            output_dir_name=output_dir_name,\n",
    "#            verbose=True)\n"
   ]
  },
  {
   "cell_type": "code",
   "execution_count": null,
   "metadata": {},
   "outputs": [],
   "source": []
  },
  {
   "cell_type": "code",
   "execution_count": null,
   "metadata": {},
   "outputs": [],
   "source": []
  },
  {
   "cell_type": "code",
   "execution_count": 21,
   "metadata": {},
   "outputs": [
    {
     "name": "stdout",
     "output_type": "stream",
     "text": [
      "***** acc = 30.0% *****\n",
      "\n"
     ]
    }
   ],
   "source": [
    "print(\"***** acc = {:.1%} *****\\n\".format(0.3))"
   ]
  },
  {
   "cell_type": "code",
   "execution_count": null,
   "metadata": {},
   "outputs": [],
   "source": []
  }
 ],
 "metadata": {
  "kernelspec": {
   "display_name": "Python 3",
   "language": "python",
   "name": "python3"
  },
  "language_info": {
   "codemirror_mode": {
    "name": "ipython",
    "version": 3
   },
   "file_extension": ".py",
   "mimetype": "text/x-python",
   "name": "python",
   "nbconvert_exporter": "python",
   "pygments_lexer": "ipython3",
   "version": "3.6.8"
  }
 },
 "nbformat": 4,
 "nbformat_minor": 4
}
