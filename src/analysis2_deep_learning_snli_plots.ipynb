{
 "cells": [
  {
   "cell_type": "markdown",
   "metadata": {},
   "source": [
    "# SNLI RESULTS"
   ]
  },
  {
   "cell_type": "code",
   "execution_count": 1,
   "metadata": {},
   "outputs": [],
   "source": [
    "import pandas as pd\n",
    "import os\n",
    "import numpy as np\n",
    "import matplotlib.pyplot as plt\n",
    "import seaborn as sns\n",
    "from tqdm import tqdm\n",
    "from IPython.display import display, HTML \n",
    "from lr.analysis.util import get_ts_from_results_folder \n",
    "from lr.stats.h_testing import get_paired_t_statistic\n",
    "\n",
    "from glob import glob"
   ]
  },
  {
   "cell_type": "markdown",
   "metadata": {},
   "source": [
    "## Baseline"
   ]
  },
  {
   "cell_type": "code",
   "execution_count": 2,
   "metadata": {},
   "outputs": [
    {
     "name": "stderr",
     "output_type": "stream",
     "text": [
      "100%|██████████| 5/5 [00:02<00:00,  1.84it/s]\n"
     ]
    }
   ],
   "source": [
    "folder = \"snli\"\n",
    "model = \"xgb\"\n",
    "\n",
    "paired_t_p_values_baseline = []\n",
    "observable_paired_t_stats_baseline = []\n",
    "\n",
    "test_repetitions = 5\n",
    "batchs = range(1, test_repetitions + 1)\n",
    "\n",
    "for i in tqdm(batchs):\n",
    "    \n",
    "    p  = get_ts_from_results_folder(path=\"results/{}/{}/syn_p_h/batch{}/\".format(folder,model, i),\n",
    "                                                    stat=\"paired_t_p_value\")\n",
    "    t = get_ts_from_results_folder(path=\"results/{}/{}/syn_p_h/batch{}/\".format(folder,model, i),\n",
    "                                                    stat=\"observable_paired_t_stats\")\n",
    "    \n",
    "    paired_t_p_values_baseline.append(p)\n",
    "    observable_paired_t_stats_baseline.append(t)\n",
    "    \n",
    "paired_t_p_values_baseline = pd.concat(paired_t_p_values_baseline, 1)\n",
    "paired_t_p_values_baseline.columns = batchs\n",
    "paired_t_p_values_baseline = paired_t_p_values_baseline.loc[[0.00, 0.20, 0.40, 0.50, 0.60, 0.8, 1.0]]\n",
    "\n",
    "observable_paired_t_stats_baseline = pd.concat(observable_paired_t_stats_baseline, 1)\n",
    "observable_paired_t_stats_baseline.columns = batchs\n",
    "observable_paired_t_stats_baseline = observable_paired_t_stats_baseline.loc[[0.00, 0.20, 0.40, 0.50, 0.60, 0.8, 1.0]]\n"
   ]
  },
  {
   "cell_type": "markdown",
   "metadata": {},
   "source": [
    "## BERT"
   ]
  },
  {
   "cell_type": "code",
   "execution_count": 3,
   "metadata": {},
   "outputs": [
    {
     "name": "stderr",
     "output_type": "stream",
     "text": [
      "100%|██████████| 5/5 [00:00<00:00, 24.93it/s]\n"
     ]
    }
   ],
   "source": [
    "folder = \"snli\"\n",
    "model = \"bert_base\"\n",
    "\n",
    "paired_t_p_values_bert = []\n",
    "observable_paired_t_stats_bert = []\n",
    "\n",
    "test_repetitions = 5\n",
    "batchs = range(1, test_repetitions + 1)\n",
    "\n",
    "for i in tqdm(batchs):\n",
    "    \n",
    "    p  = get_ts_from_results_folder(path=\"results/{}/{}/syn_p_h/batch{}/\".format(folder,model, i),\n",
    "                                                    stat=\"paired_t_p_value\")\n",
    "    t = get_ts_from_results_folder(path=\"results/{}/{}/syn_p_h/batch{}/\".format(folder,model, i),\n",
    "                                                    stat=\"observable_paired_t_stats\")\n",
    "    \n",
    "    paired_t_p_values_bert.append(p)\n",
    "    observable_paired_t_stats_bert.append(t)\n",
    "    \n",
    "paired_t_p_values_bert = pd.concat(paired_t_p_values_bert, 1)\n",
    "paired_t_p_values_bert.columns = batchs\n",
    "\n",
    "observable_paired_t_stats_bert = pd.concat(observable_paired_t_stats_bert, 1)\n",
    "observable_paired_t_stats_bert.columns = batchs\n"
   ]
  },
  {
   "cell_type": "markdown",
   "metadata": {},
   "source": [
    "## RoBERTa"
   ]
  },
  {
   "cell_type": "code",
   "execution_count": 4,
   "metadata": {},
   "outputs": [
    {
     "name": "stderr",
     "output_type": "stream",
     "text": [
      "100%|██████████| 5/5 [00:00<00:00, 24.25it/s]\n"
     ]
    }
   ],
   "source": [
    "folder = \"snli\"\n",
    "model = \"roberta_base\"\n",
    "\n",
    "paired_t_p_values_roberta = []\n",
    "observable_paired_t_stats_roberta = []\n",
    "\n",
    "test_repetitions = 5\n",
    "batchs = range(1, test_repetitions + 1)\n",
    "\n",
    "for i in tqdm(batchs):\n",
    "    \n",
    "    p  = get_ts_from_results_folder(path=\"results/{}/{}/syn_p_h/batch{}/\".format(folder,model, i),\n",
    "                                                    stat=\"paired_t_p_value\")\n",
    "    t = get_ts_from_results_folder(path=\"results/{}/{}/syn_p_h/batch{}/\".format(folder,model, i),\n",
    "                                                    stat=\"observable_paired_t_stats\")\n",
    "    \n",
    "    paired_t_p_values_roberta.append(p)\n",
    "    observable_paired_t_stats_roberta.append(t)\n",
    "    \n",
    "paired_t_p_values_roberta = pd.concat(paired_t_p_values_roberta, 1)\n",
    "paired_t_p_values_roberta.columns = batchs\n",
    "\n",
    "observable_paired_t_stats_roberta = pd.concat(observable_paired_t_stats_roberta, 1)\n",
    "observable_paired_t_stats_roberta.columns = batchs\n"
   ]
  },
  {
   "cell_type": "markdown",
   "metadata": {},
   "source": [
    "## XLNet"
   ]
  },
  {
   "cell_type": "code",
   "execution_count": 5,
   "metadata": {},
   "outputs": [
    {
     "name": "stderr",
     "output_type": "stream",
     "text": [
      "100%|██████████| 5/5 [00:00<00:00, 25.86it/s]\n"
     ]
    }
   ],
   "source": [
    "folder = \"snli\"\n",
    "model = \"xlnet_base\"\n",
    "\n",
    "paired_t_p_values_xlnet = []\n",
    "observable_paired_t_stats_xlnet = []\n",
    "\n",
    "test_repetitions = 5\n",
    "batchs = range(1, test_repetitions + 1)\n",
    "\n",
    "for i in tqdm(batchs):\n",
    "    \n",
    "    p  = get_ts_from_results_folder(path=\"results/{}/{}/syn_p_h/batch{}/\".format(folder,model, i),\n",
    "                                                    stat=\"paired_t_p_value\")\n",
    "    t = get_ts_from_results_folder(path=\"results/{}/{}/syn_p_h/batch{}/\".format(folder,model, i),\n",
    "                                                    stat=\"observable_paired_t_stats\")\n",
    "    \n",
    "    paired_t_p_values_xlnet.append(p)\n",
    "    observable_paired_t_stats_xlnet.append(t)\n",
    "    \n",
    "paired_t_p_values_xlnet = pd.concat(paired_t_p_values_xlnet, 1)\n",
    "paired_t_p_values_xlnet.columns = batchs\n",
    "\n",
    "observable_paired_t_stats_xlnet = pd.concat(observable_paired_t_stats_xlnet, 1)\n",
    "observable_paired_t_stats_xlnet.columns = batchs"
   ]
  },
  {
   "cell_type": "markdown",
   "metadata": {},
   "source": [
    "## ALBERT"
   ]
  },
  {
   "cell_type": "code",
   "execution_count": 6,
   "metadata": {},
   "outputs": [
    {
     "name": "stderr",
     "output_type": "stream",
     "text": [
      "100%|██████████| 5/5 [00:00<00:00, 24.33it/s]\n"
     ]
    }
   ],
   "source": [
    "folder = \"snli\"\n",
    "model = \"albert_base\"\n",
    "\n",
    "paired_t_p_values_albert = []\n",
    "observable_paired_t_stats_albert = []\n",
    "\n",
    "test_repetitions = 5\n",
    "batchs = range(1, test_repetitions + 1)\n",
    "\n",
    "for i in tqdm(batchs):\n",
    "    \n",
    "    p  = get_ts_from_results_folder(path=\"results/{}/{}/syn_p_h/batch{}/\".format(folder,model, i),\n",
    "                                                    stat=\"paired_t_p_value\")\n",
    "    t = get_ts_from_results_folder(path=\"results/{}/{}/syn_p_h/batch{}/\".format(folder,model, i),\n",
    "                                                    stat=\"observable_paired_t_stats\")\n",
    "    \n",
    "    paired_t_p_values_albert.append(p)\n",
    "    observable_paired_t_stats_albert.append(t)\n",
    "    \n",
    "paired_t_p_values_albert = pd.concat(paired_t_p_values_albert, 1)\n",
    "paired_t_p_values_albert.columns = batchs\n",
    "\n",
    "observable_paired_t_stats_albert = pd.concat(observable_paired_t_stats_albert, 1)\n",
    "observable_paired_t_stats_albert.columns = batchs"
   ]
  },
  {
   "cell_type": "markdown",
   "metadata": {},
   "source": [
    "## PLOT "
   ]
  },
  {
   "cell_type": "code",
   "execution_count": 7,
   "metadata": {},
   "outputs": [
    {
     "data": {
      "image/png": "[encoded data removed]",
      "text/plain": [
       "<Figure size 756x396 with 1 Axes>"
      ]
     },
     "metadata": {
      "needs_background": "light"
     },
     "output_type": "display_data"
    }
   ],
   "source": [
    "fig, ax = plt.subplots(figsize=(10.5,5.5))\n",
    "ax.errorbar(observable_paired_t_stats_baseline.index,\n",
    "            observable_paired_t_stats_baseline.mean(1),\n",
    "            yerr=observable_paired_t_stats_baseline.std(1),\n",
    "            fmt='-', linewidth=1.00, label=\"baseline\");\n",
    "\n",
    "ax.errorbar(observable_paired_t_stats_bert.index,\n",
    "            observable_paired_t_stats_bert.mean(1),\n",
    "            yerr=observable_paired_t_stats_bert.std(1),\n",
    "            fmt='-', linewidth=1.00, label=\"BERT\");\n",
    "\n",
    "ax.errorbar(observable_paired_t_stats_roberta.index,\n",
    "            observable_paired_t_stats_roberta.mean(1),\n",
    "            yerr=observable_paired_t_stats_roberta.std(1),\n",
    "            fmt='-', linewidth=1.00, label=\"RoBERTa\");\n",
    "\n",
    "\n",
    "ax.errorbar(observable_paired_t_stats_xlnet.index,\n",
    "            observable_paired_t_stats_xlnet.mean(1),\n",
    "            yerr=observable_paired_t_stats_xlnet.std(1),\n",
    "            fmt='-', linewidth=1.00, label=\"XLNet\");\n",
    "\n",
    "\n",
    "ax.errorbar(observable_paired_t_stats_albert.index,\n",
    "            observable_paired_t_stats_albert.mean(1),\n",
    "            yerr=observable_paired_t_stats_albert.std(1),\n",
    "            fmt='-', linewidth=1.00, label=\"ALBERT\");\n",
    "\n",
    "\n",
    "\n",
    "ax.set_title(\"SNLI\", fontsize=18);\n",
    "ax.legend(loc=\"best\");\n",
    "ax.set_xlabel(r\"$\\rho$\", fontsize=14);\n",
    "ax.set_ylabel(\"test statistic\", fontsize=14);\n",
    "ax.legend(loc=\"best\");\n",
    "fig.savefig('figs/paper/snli_test_statistic.png', bbox_inches=None, pad_inches=0.5)\n",
    "\n"
   ]
  },
  {
   "cell_type": "code",
   "execution_count": 8,
   "metadata": {},
   "outputs": [
    {
     "ename": "NameError",
     "evalue": "name 'fsfsfsff' is not defined",
     "output_type": "error",
     "traceback": [
      "\u001b[0;31m---------------------------------------------------------------------------\u001b[0m",
      "\u001b[0;31mNameError\u001b[0m                                 Traceback (most recent call last)",
      "\u001b[0;32m<ipython-input-8-802f2b384ffd>\u001b[0m in \u001b[0;36m<module>\u001b[0;34m\u001b[0m\n\u001b[0;32m----> 1\u001b[0;31m \u001b[0mfsfsfsff\u001b[0m\u001b[0;34m\u001b[0m\u001b[0;34m\u001b[0m\u001b[0m\n\u001b[0m",
      "\u001b[0;31mNameError\u001b[0m: name 'fsfsfsff' is not defined"
     ]
    }
   ],
   "source": [
    "fsfsfsff"
   ]
  },
  {
   "cell_type": "code",
   "execution_count": null,
   "metadata": {},
   "outputs": [],
   "source": []
  },
  {
   "cell_type": "code",
   "execution_count": null,
   "metadata": {},
   "outputs": [],
   "source": []
  },
  {
   "cell_type": "code",
   "execution_count": null,
   "metadata": {},
   "outputs": [],
   "source": []
  },
  {
   "cell_type": "code",
   "execution_count": null,
   "metadata": {},
   "outputs": [],
   "source": []
  },
  {
   "cell_type": "code",
   "execution_count": null,
   "metadata": {},
   "outputs": [],
   "source": []
  },
  {
   "cell_type": "code",
   "execution_count": null,
   "metadata": {},
   "outputs": [],
   "source": []
  },
  {
   "cell_type": "markdown",
   "metadata": {},
   "source": [
    "# t-stat for each category"
   ]
  },
  {
   "cell_type": "code",
   "execution_count": null,
   "metadata": {},
   "outputs": [],
   "source": [
    "def get_ts_from_path(base_path, nli_map):\n",
    "    rhos = []\n",
    "    neutral_t = []\n",
    "    contradiction_t = []\n",
    "    entailment_t = []\n",
    "    paths =  glob(base_path)\n",
    "\n",
    "    for path in paths:\n",
    "        df = pd.read_csv(path)\n",
    "        df.label = df.label.map(lambda x: nli_map[x])\n",
    "        df_n = df.query(\"label=='neutral'\")\n",
    "        df_c = df.query(\"label=='contradiction'\")\n",
    "        df_e = df.query(\"label=='entailment'\")\n",
    "        t_n, _,_,_ = get_paired_t_statistic(df_n)\n",
    "        t_c, _,_,_ = get_paired_t_statistic(df_c)\n",
    "        t_e, _,_,_ = get_paired_t_statistic(df_e)\n",
    "        rho = path.split(\"/\")[-1].split(\"_\")[1].replace(\"p\",\".\")\n",
    "        rho = float(rho)\n",
    "        neutral_t.append(t_n)\n",
    "        contradiction_t.append(t_c)\n",
    "        entailment_t.append(t_e)\n",
    "        rhos.append(rho)\n",
    "\n",
    "    neutral_t = pd.Series(neutral_t,index=rhos).sort_index()\n",
    "    contradiction_t = pd.Series(contradiction_t,index=rhos).sort_index()\n",
    "    entailment_t = pd.Series(entailment_t,index=rhos).sort_index()\n",
    "    neutral_t.name = \"neutral\"\n",
    "    contradiction_t.name = \"contradiction\"\n",
    "    entailment_t.name = \"entailment\"\n",
    "    return neutral_t, contradiction_t, entailment_t"
   ]
  },
  {
   "cell_type": "code",
   "execution_count": null,
   "metadata": {},
   "outputs": [],
   "source": [
    "nli2ternary = {1: \"entailment\",\n",
    "               -1: \"contradiction\",\n",
    "               0: \"neutral\"}\n",
    "\n",
    "folder = \"snli\"\n",
    "test_repetitions = 5\n",
    "batchs = range(1, test_repetitions + 1)\n",
    "all_n_snli = []\n",
    "all_c_snli = []\n",
    "all_e_snli = []\n",
    "\n",
    "for i in tqdm(batchs):\n",
    "    base_path = \"raw_results/{}/xgb/syn_p_h/batch{}/*.csv\".format(folder, i)\n",
    "    neutral_t, contradiction_t, entailment_t = get_ts_from_path(base_path=base_path, nli_map=nli2ternary)\n",
    "    all_n_snli.append(neutral_t)\n",
    "    all_c_snli.append(contradiction_t)\n",
    "    all_e_snli.append(entailment_t)\n",
    "    \n",
    "all_n_snli = pd.concat(all_n_snli, 1)\n",
    "all_c_snli = pd.concat(all_c_snli, 1)\n",
    "all_e_snli = pd.concat(all_e_snli, 1)\n",
    "\n",
    "folder = \"mnli\"\n",
    "test_repetitions = 5\n",
    "batchs = range(1, test_repetitions + 1)\n",
    "all_n_mnli = []\n",
    "all_c_mnli = []\n",
    "all_e_mnli = []\n",
    "\n",
    "for i in tqdm(batchs):\n",
    "    base_path = \"raw_results/{}/xgb/syn_p_h/batch{}/*.csv\".format(folder, i)\n",
    "    neutral_t, contradiction_t, entailment_t = get_ts_from_path(base_path=base_path, nli_map=nli2ternary)\n",
    "    all_n_mnli.append(neutral_t)\n",
    "    all_c_mnli.append(contradiction_t)\n",
    "    all_e_mnli.append(entailment_t)\n",
    "    \n",
    "all_n_mnli = pd.concat(all_n_mnli, 1)\n",
    "all_c_mnli = pd.concat(all_c_mnli, 1)\n",
    "all_e_mnli = pd.concat(all_e_mnli, 1)\n",
    "\n",
    "df_snli = pd.concat([all_n_snli.mean(1), all_c_snli.mean(1), all_e_snli.mean(1)], 1)\n",
    "df_mnli = pd.concat([all_n_mnli.mean(1), all_c_mnli.mean(1), all_e_mnli.mean(1)], 1)\n",
    "df_snli.columns = [\"neutral\", \"contradiction\", \"entailment\"]\n",
    "df_mnli.columns = [\"neutral\", \"contradiction\", \"entailment\"]\n",
    "corr_snli = df_snli.corr()\n",
    "mask_snli = np.triu(np.ones_like(corr_snli, dtype=bool))\n",
    "corr_mnli = df_mnli.corr()\n",
    "mask_mnli = np.triu(np.ones_like(corr_mnli, dtype=bool))"
   ]
  },
  {
   "cell_type": "code",
   "execution_count": null,
   "metadata": {},
   "outputs": [],
   "source": [
    "fig, ax = plt.subplots(2,2, figsize=(14,12))\n",
    "ax[0,0].errorbar(all_n_snli.index, all_n_snli.mean(1), yerr=all_n_snli.std(1), fmt='-', linewidth=0.50, label=\"neutral\");\n",
    "ax[0,0].errorbar(all_c_snli.index, all_c_snli.mean(1), yerr=all_c_snli.std(1), fmt='-', linewidth=0.50, label=\"contradiction\");\n",
    "ax[0,0].errorbar(all_e_snli.index, all_e_snli.mean(1), yerr=all_e_snli.std(1), fmt='-', linewidth=0.50, label=\"entailment\");\n",
    "ax[0,0].set_xlabel(r\"$\\rho$\", fontsize=14);\n",
    "ax[0,0].set_ylabel(\"test statistic\", fontsize=14);\n",
    "ax[0,0].legend(loc=\"best\");\n",
    "# ax[0,0].hlines(0, 0, 1, colors='k',linestyles=\"--\") \n",
    "\n",
    "sns.heatmap(corr_snli, mask=mask_snli, cmap=\"Blues\", center=0, linewidths=1, annot=True, fmt=\".2f\",cbar=False, ax=ax[0,1]);\n",
    "\n",
    "ax[1,0].errorbar(all_n_mnli.index, all_n_mnli.mean(1), yerr=all_n_mnli.std(1), fmt='-', linewidth=0.50, label=\"neutral\");\n",
    "ax[1,0].errorbar(all_c_mnli.index, all_c_mnli.mean(1), yerr=all_c_mnli.std(1), fmt='-', linewidth=0.50, label=\"contradiction\");\n",
    "ax[1,0].errorbar(all_e_mnli.index, all_e_mnli.mean(1), yerr=all_e_mnli.std(1), fmt='-', linewidth=0.50, label=\"entailment\");\n",
    "sns.heatmap(corr_mnli, mask=mask_mnli, cmap=\"Blues\", center=0, linewidths=1, annot=True, fmt=\".2f\",cbar=False, ax=ax[1,1]);\n",
    "ax[1,0].set_xlabel(r\"$\\rho$\", fontsize=14);\n",
    "ax[1,0].set_ylabel(\"test statistic\", fontsize=14);\n",
    "ax[1,0].legend(loc=\"best\");\n",
    "# ax[1,0].hlines(0, 0, 1, colors='k',linestyles=\"--\")\n",
    "\n",
    "# Adjust vertical_spacing = 0.5 * axes_height\n",
    "plt.subplots_adjust(hspace=0.3, wspace=0.3)\n",
    "\n",
    "\n",
    "# Add text in figure coordinates\n",
    "plt.figtext(0.5, 0.5, 'MNLI', ha='center', va='center',fontsize=18);\n",
    "plt.figtext(0.5, 0.95, 'SNLI', ha='center', va='center',fontsize=18);\n",
    "\n",
    "\n",
    "ax[0,0].set_title(\"Accuracy difference per category\", fontsize=16);\n",
    "ax[0,1].set_title(\"Correlation\", fontsize=16);\n",
    "ax[1,0].set_title(\"Accuracy difference per category\", fontsize=16);\n",
    "ax[1,1].set_title(\"Correlation\", fontsize=16);\n",
    "\n",
    "fig.savefig('figs/paper/baseline_t_stas_cat.png', bbox_inches=None, pad_inches=0.5)"
   ]
  },
  {
   "cell_type": "markdown",
   "metadata": {},
   "source": [
    "# Entailment accuracy"
   ]
  },
  {
   "cell_type": "code",
   "execution_count": null,
   "metadata": {},
   "outputs": [],
   "source": [
    "def get_acc_from_ent(base_path, nli_map):\n",
    "    rhos = []\n",
    "    entailment_acc = []\n",
    "    entailment_acc_t = []\n",
    "    \n",
    "    paths =  glob(base_path)\n",
    "\n",
    "    for path in paths:\n",
    "        df = pd.read_csv(path)\n",
    "        df.label = df.label.map(lambda x: nli_map[x])\n",
    "        df_e = df.query(\"label=='entailment'\")\n",
    "        rho = path.split(\"/\")[-1].split(\"_\")[1].replace(\"p\",\".\")\n",
    "        rho = float(rho)\n",
    "\n",
    "        entailment_acc.append(df_e.A.mean())\n",
    "        entailment_acc_t.append(df_e.B.mean())        \n",
    "        rhos.append(rho)\n",
    "\n",
    "    entailment_acc = pd.Series(entailment_acc,index=rhos).sort_index()\n",
    "    entailment_acc_t = pd.Series(entailment_acc_t,index=rhos).sort_index()\n",
    "    entailment_acc.name = \"original accuracy\"\n",
    "    entailment_acc_t.name = \"transformed accuracy\"\n",
    "    return entailment_acc, entailment_acc_t"
   ]
  },
  {
   "cell_type": "code",
   "execution_count": null,
   "metadata": {},
   "outputs": [],
   "source": [
    "folder = \"snli\"\n",
    "test_repetitions = 5\n",
    "batchs = range(1, test_repetitions + 1)\n",
    "all_e_snli_acc = []\n",
    "all_e_snli_acc_t = []\n",
    "\n",
    "\n",
    "for i in tqdm(batchs):\n",
    "    base_path = \"raw_results/{}/xgb/syn_p_h/batch{}/*.csv\".format(folder, i)\n",
    "    entailment_acc, entailment_acc_t = get_acc_from_ent(base_path=base_path, nli_map=nli2ternary)\n",
    "    all_e_snli_acc.append(entailment_acc)\n",
    "    all_e_snli_acc_t.append(entailment_acc_t)\n",
    "    \n",
    "all_e_snli_acc = pd.concat(all_e_snli_acc, 1)\n",
    "all_e_snli_acc_t = pd.concat(all_e_snli_acc_t, 1)\n",
    "\n",
    "\n",
    "folder = \"mnli\"\n",
    "test_repetitions = 5\n",
    "batchs = range(1, test_repetitions + 1)\n",
    "all_e_mnli_acc = []\n",
    "all_e_mnli_acc_t = []\n",
    "\n",
    "\n",
    "for i in tqdm(batchs):\n",
    "    base_path = \"raw_results/{}/xgb/syn_p_h/batch{}/*.csv\".format(folder, i)\n",
    "    entailment_acc, entailment_acc_t = get_acc_from_ent(base_path=base_path, nli_map=nli2ternary)\n",
    "    all_e_mnli_acc.append(entailment_acc)\n",
    "    all_e_mnli_acc_t.append(entailment_acc_t)\n",
    "    \n",
    "all_e_mnli_acc = pd.concat(all_e_mnli_acc, 1)\n",
    "all_e_mnli_acc_t = pd.concat(all_e_mnli_acc_t, 1)\n",
    "\n"
   ]
  },
  {
   "cell_type": "code",
   "execution_count": null,
   "metadata": {},
   "outputs": [],
   "source": [
    "fig, ax = plt.subplots(2, figsize=(14,7))\n",
    "ax[0].errorbar(all_e_snli_acc.index, all_e_snli_acc.mean(1), yerr=all_e_snli_acc.std(1), fmt='-', linewidth=0.80, label=\"original\");\n",
    "ax[0].errorbar(all_e_snli_acc_t.index, all_e_snli_acc_t.mean(1), yerr=all_e_snli_acc_t.std(1), fmt='-', linewidth=0.80, label=\"transformed\");\n",
    "ax[0].set_title(\"SNLI (entailment part)\", fontsize=18);\n",
    "# ax[0].legend(loc=\"best\");\n",
    "\n",
    "plt.subplots_adjust(hspace=0.3, wspace=0.3)\n",
    "\n",
    "ax[1].errorbar(all_e_mnli_acc.index, all_e_mnli_acc.mean(1), yerr=all_e_mnli_acc.std(1), fmt='-', linewidth=0.80, label=\"original\");\n",
    "ax[1].errorbar(all_e_mnli_acc_t.index, all_e_mnli_acc_t.mean(1), yerr=all_e_mnli_acc_t.std(1), fmt='-', linewidth=0.80, label=\"transformed\");\n",
    "ax[1].set_title(\"MNLI (entailment part)\", fontsize=18);\n",
    "ax[1].set_xlabel(r\"$\\rho$\", fontsize=14);\n",
    "ax[1].set_ylabel(\"accuracy\", fontsize=14);\n",
    "ax[1].legend(loc=\"best\");\n",
    "fig.savefig('figs/paper/baseline_entailment_acc.png', bbox_inches=None, pad_inches=0.5)\n",
    "\n"
   ]
  },
  {
   "cell_type": "code",
   "execution_count": null,
   "metadata": {},
   "outputs": [],
   "source": []
  }
 ],
 "metadata": {
  "kernelspec": {
   "display_name": "Python 3",
   "language": "python",
   "name": "python3"
  },
  "language_info": {
   "codemirror_mode": {
    "name": "ipython",
    "version": 3
   },
   "file_extension": ".py",
   "mimetype": "text/x-python",
   "name": "python",
   "nbconvert_exporter": "python",
   "pygments_lexer": "ipython3",
   "version": "3.6.9"
  }
 },
 "nbformat": 4,
 "nbformat_minor": 4
}
