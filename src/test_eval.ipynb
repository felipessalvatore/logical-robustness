{
 "cells": [
  {
   "cell_type": "code",
   "execution_count": null,
   "metadata": {},
   "outputs": [],
   "source": [
    "from transformers import BertForSequenceClassification\n",
    "from lr.models.transformers.processor import clean_df\n",
    "from lr.text_processing.transformations.wordnet import path_base_transformation\n",
    "from lr.stats.h_testing import h_test_transformer_trained_model\n",
    "import matplotlib.pyplot as plt\n",
    "import numpy as np\n",
    "import pandas as pd\n",
    "from time import time\n",
    "import shutil\n",
    "import os"
   ]
  },
  {
   "cell_type": "markdown",
   "metadata": {},
   "source": [
    "## Load model"
   ]
  },
  {
   "cell_type": "code",
   "execution_count": null,
   "metadata": {},
   "outputs": [],
   "source": [
    "save_path = 'bert_p_h_rho_1p00_dgp_seed_13_random_state_47/checkpoint-750/'\n",
    "saved_model = BertForSequenceClassification.from_pretrained(save_path)"
   ]
  },
  {
   "cell_type": "markdown",
   "metadata": {},
   "source": [
    "## Perform Testing"
   ]
  },
  {
   "cell_type": "code",
   "execution_count": null,
   "metadata": {},
   "outputs": [],
   "source": [
    "# Variables\n",
    "\n",
    "folder = \"snli\"\n",
    "result_folder = \"results/snli/bert/sin_p_h/\"\n",
    "transformation_name = \"wordnet sin tranformation p and h\"\n",
    "n_cores = 7\n",
    "rho = 1.0\n",
    "dgp_seed = 13\n",
    "random_state = 47\n",
    "name = \"rho_{:.2f}_dgp_seed_{}_random_state_{}\".format(rho, dgp_seed, random_state)\n",
    "name = name.replace(\".\", \"p\")\n",
    "output_dir_name = \"bert_p_h_\" + name\n",
    "\n",
    "# Data\n",
    "\n",
    "train = pd.read_csv(\"data/{}/train.csv\".format(folder))\n",
    "dev_o = pd.read_csv(\"data/{}/dev.csv\".format(folder))\n",
    "\n",
    "print(\"clean train\")\n",
    "train = clean_df(train, n_cores=n_cores)\n",
    "\n",
    "print(\"clean dev\")\n",
    "dev_o = clean_df(dev_o, n_cores=n_cores)\n",
    "\n",
    "# Transformations\n",
    "\n",
    "train_path_mod = \"data/{}/train_p_h_syn_noun.csv\".format(folder)\n",
    "dev_path_mod = \"data/{}/dev_p_h_syn_noun.csv\".format(folder)\n",
    "\n",
    "def train_trans(df): return path_base_transformation(df, train_path_mod)\n",
    "def dev_trans(df): return path_base_transformation(df, dev_path_mod)\n",
    "\n",
    "print(\"transform dev\")\n",
    "dev_t = dev_trans(dev_o)\n",
    "\n",
    "# Hyperparams\n",
    "\n",
    "hyperparams = {\"local_rank\": -1,\n",
    "               \"max_seq_length\": 200,\n",
    "               \"overwrite_cache\": False,\n",
    "               \"num_train_epochs\": 1.0,\n",
    "               \"per_gpu_train_batch_size\": 32,\n",
    "               \"per_gpu_eval_batch_size\": 50,\n",
    "               \"gradient_accumulation_steps\": 1,\n",
    "               \"learning_rate\": 5e-5,\n",
    "               \"weight_decay\": 0.0,\n",
    "               \"adam_epsilon\": 1e-8,\n",
    "               \"max_grad_norm\": 1.0,\n",
    "               \"max_steps\": 1500,\n",
    "               \"warmup_steps\": 0,\n",
    "               \"save_steps\": 250,\n",
    "               \"no_cuda\": False,\n",
    "               \"n_gpu\": 1,\n",
    "               \"data_set_name\": folder,\n",
    "               \"transformation_name\": transformation_name,\n",
    "               \"number_of_simulations\": 1000,\n",
    "               \"rho\": rho,\n",
    "               \"model_name_or_path\": \"bert\",\n",
    "               \"output_dir\": output_dir_name,\n",
    "               \"random_state\": random_state,\n",
    "               \"dgp_seed\": dgp_seed,\n",
    "               \"fp16\": False,\n",
    "               \"fp16_opt_level\": \"01\",\n",
    "               \"device\": \"cpu\",\n",
    "               \"verbose\": True,\n",
    "               \"model_type\": \"bert\",\n",
    "               \"pad_on_left\": False,\n",
    "               \"pad_token\": 0,\n",
    "               \"n_cores\": n_cores,\n",
    "               'eval_sample_size': 200,\n",
    "               \"pad_token_segment_id\": 0,\n",
    "               \"mask_padding_with_zero\": True,\n",
    "               \"base_path\": \"data/{}/cached_\".format(folder)}\n",
    "\n",
    "\n",
    "# Testing\n",
    "\n",
    "print(\"testing\")\n",
    "\n",
    "test_results = h_test_transformer_trained_model(df_dev=dev_o,\n",
    "                                                df_dev_t=dev_t,\n",
    "                                                transformer=saved_model,\n",
    "                                                hyperparams=hyperparams)\n",
    "\n",
    "# # Saving Results\n",
    "\n",
    "# result_path = result_folder + name\n",
    "# result_path = result_path.replace(\".\", \"p\") + \".csv\"\n",
    "# test_results.to_csv(result_path, index=False)\n",
    "\n",
    "# print()\n",
    "# print(\"results in {}\".format(result_path))\n",
    "\n"
   ]
  },
  {
   "cell_type": "code",
   "execution_count": null,
   "metadata": {},
   "outputs": [],
   "source": [
    "test_results"
   ]
  }
 ],
 "metadata": {
  "kernelspec": {
   "display_name": "Python 3",
   "language": "python",
   "name": "python3"
  },
  "language_info": {
   "codemirror_mode": {
    "name": "ipython",
    "version": 3
   },
   "file_extension": ".py",
   "mimetype": "text/x-python",
   "name": "python",
   "nbconvert_exporter": "python",
   "pygments_lexer": "ipython3",
   "version": "3.6.8"
  }
 },
 "nbformat": 4,
 "nbformat_minor": 4
}
