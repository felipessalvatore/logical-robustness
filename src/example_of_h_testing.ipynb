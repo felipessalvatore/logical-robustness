{
 "cells": [
  {
   "cell_type": "code",
   "execution_count": 1,
   "metadata": {},
   "outputs": [],
   "source": [
    "import pandas as pd\n",
    "import numpy as np\n",
    "import matplotlib.pyplot as plt\n",
    "from lr.text_processing.util import pre_process_nli_df\n",
    "from lr.training.util import get_ternary_label, filter_df_by_label\n",
    "from lr.text_processing.transformations.wordnet import path_base_transformation\n",
    "from lr.training.language_representation import Tfidf\n",
    "from lr.training.util import get_ternary_label\n",
    "from lr.models.logistic_regression import LRWrapper\n",
    "from lr.stats.h_testing import LIMts_test\n",
    "from IPython.display import display, HTML \n",
    "from sklearn.exceptions import ConvergenceWarning\n",
    "import warnings\n",
    "warnings.filterwarnings(\"ignore\", category=RuntimeWarning)\n",
    "warnings.filterwarnings(\"ignore\", category=ConvergenceWarning)"
   ]
  },
  {
   "cell_type": "markdown",
   "metadata": {},
   "source": [
    "### Loading data"
   ]
  },
  {
   "cell_type": "code",
   "execution_count": 2,
   "metadata": {},
   "outputs": [
    {
     "name": "stdout",
     "output_type": "stream",
     "text": [
      "(10000, 3)\n",
      "(1000, 3)\n"
     ]
    }
   ],
   "source": [
    "train_path = \"data/snli/train.csv\"\n",
    "dev_path = \"data/snli/dev.csv\"\n",
    "\n",
    "train_path_mod = \"data/snli/train_p_h_syn_noun.csv\"\n",
    "dev_path_mod = \"data/snli/dev_p_h_syn_noun.csv\"\n",
    "\n",
    "train_trans = lambda df: path_base_transformation(df, train_path_mod)\n",
    "dev_trans = lambda df: path_base_transformation(df, dev_path_mod)\n",
    "\n",
    "\n",
    "train = pd.read_csv(train_path)\n",
    "dev = pd.read_csv(dev_path)\n",
    "train = filter_df_by_label(train.dropna()).reset_index(drop=True)\n",
    "dev = filter_df_by_label(dev.dropna()).reset_index(drop=True)\n",
    "\n",
    "train = train.head(10000)\n",
    "dev = dev.head(1000)\n",
    "\n",
    "dev_t = dev_trans(dev)\n",
    "\n",
    "pre_process_nli_df(train)\n",
    "pre_process_nli_df(dev)\n",
    "\n",
    "print(train.shape)\n",
    "print(dev.shape)"
   ]
  },
  {
   "cell_type": "markdown",
   "metadata": {},
   "source": [
    "### Params"
   ]
  },
  {
   "cell_type": "code",
   "execution_count": 3,
   "metadata": {},
   "outputs": [],
   "source": [
    "max_features = None\n",
    "\n",
    "param_grid = {\"C\": np.linspace(0, 3, 50),\n",
    "              \"penalty\":[\"l2\"]}\n",
    "\n",
    "\n",
    "hyperparams = {\"RepresentationFunction\": Tfidf,\n",
    "               \"cv\":5,\n",
    "               \"solver\": 'lbfgs',\n",
    "               \"random_state\": None,\n",
    "               \"verbose\":False,\n",
    "               \"n_jobs\":1,\n",
    "               \"n_iter\":2,\n",
    "               \"max_features\": max_features,\n",
    "               \"label_translation\": get_ternary_label,\n",
    "               \"param_grid\": param_grid}"
   ]
  },
  {
   "cell_type": "code",
   "execution_count": 4,
   "metadata": {},
   "outputs": [
    {
     "name": "stdout",
     "output_type": "stream",
     "text": [
      "m = 1 | time: 70.33 sec\n",
      "m = 2 | time: 78.75 sec\n",
      "m = 3 | time: 71.87 sec\n"
     ]
    }
   ],
   "source": [
    "results = LIMts_test(train=train,\n",
    "               dev=dev,\n",
    "               train_transformation=train_trans,\n",
    "               dev_transformation=dev_trans,\n",
    "               rho=0.3,\n",
    "               Model=LRWrapper,\n",
    "               hyperparams=hyperparams,\n",
    "               M=3,\n",
    "               E=5,\n",
    "               S=1000,\n",
    "               verbose=True,\n",
    "               random_state=1234)"
   ]
  },
  {
   "cell_type": "markdown",
   "metadata": {},
   "source": [
    "### All Results"
   ]
  },
  {
   "cell_type": "code",
   "execution_count": 5,
   "metadata": {},
   "outputs": [
    {
     "data": {
      "text/html": [
       "<table border=\"1\" class=\"dataframe\">\n",
       "  <thead>\n",
       "    <tr style=\"text-align: right;\">\n",
       "      <th></th>\n",
       "      <th>m</th>\n",
       "      <th>train_accuracy_mean</th>\n",
       "      <th>train_accuracy_std</th>\n",
       "      <th>validation_accuracy</th>\n",
       "      <th>transformed_validation_accuracy</th>\n",
       "      <th>observable_t_stats</th>\n",
       "      <th>p_value</th>\n",
       "      <th>transformation_time</th>\n",
       "      <th>training_time</th>\n",
       "      <th>test_time</th>\n",
       "    </tr>\n",
       "  </thead>\n",
       "  <tbody>\n",
       "    <tr>\n",
       "      <th>0</th>\n",
       "      <td>1</td>\n",
       "      <td>0.50180</td>\n",
       "      <td>0.001221</td>\n",
       "      <td>0.499</td>\n",
       "      <td>0.505</td>\n",
       "      <td>-0.447258</td>\n",
       "      <td>0.658</td>\n",
       "      <td>0.855869</td>\n",
       "      <td>66.397296</td>\n",
       "      <td>70.330943</td>\n",
       "    </tr>\n",
       "    <tr>\n",
       "      <th>1</th>\n",
       "      <td>2</td>\n",
       "      <td>0.49510</td>\n",
       "      <td>0.002454</td>\n",
       "      <td>0.511</td>\n",
       "      <td>0.503</td>\n",
       "      <td>0.606590</td>\n",
       "      <td>0.584</td>\n",
       "      <td>0.935041</td>\n",
       "      <td>73.853272</td>\n",
       "      <td>78.748606</td>\n",
       "    </tr>\n",
       "    <tr>\n",
       "      <th>2</th>\n",
       "      <td>3</td>\n",
       "      <td>0.49984</td>\n",
       "      <td>0.002221</td>\n",
       "      <td>0.509</td>\n",
       "      <td>0.505</td>\n",
       "      <td>0.296513</td>\n",
       "      <td>0.774</td>\n",
       "      <td>0.906486</td>\n",
       "      <td>68.142519</td>\n",
       "      <td>71.872683</td>\n",
       "    </tr>\n",
       "  </tbody>\n",
       "</table>"
      ],
      "text/plain": [
       "<IPython.core.display.HTML object>"
      ]
     },
     "metadata": {},
     "output_type": "display_data"
    }
   ],
   "source": [
    "not_boot_columns = [c for c in results.columns if c.find(\"boot\") == -1]\n",
    "display(HTML(results[not_boot_columns].to_html()))"
   ]
  },
  {
   "cell_type": "markdown",
   "metadata": {},
   "source": [
    "### Especific result for one noised sample"
   ]
  },
  {
   "cell_type": "code",
   "execution_count": 18,
   "metadata": {},
   "outputs": [
    {
     "data": {
      "image/png": "[encoded data removed]",
      "text/plain": [
       "<Figure size 720x360 with 1 Axes>"
      ]
     },
     "metadata": {
      "needs_background": "light"
     },
     "output_type": "display_data"
    }
   ],
   "source": [
    "id_ = 0\n",
    "\n",
    "results_id = results.iloc[id_].to_frame().transpose().reset_index(drop=True)\n",
    "t_obs = results_id.observable_t_stats[0]\n",
    "p_value = results_id.p_value[0]\n",
    "\n",
    "\n",
    "boot_columns = [c for c in results_id.columns if c.find(\"boot\") > -1]\n",
    "\n",
    "t_boots = results_id[boot_columns].transpose()\n",
    "\n",
    "\n",
    "fig, ax = plt.subplots(figsize=(10,5))\n",
    "t_boots.hist(ax=ax, label=\"bootstrap replications\");\n",
    "plt.axvline(x=t_obs, color='r', linestyle='-', label=\"observed\");\n",
    "ax.set_xlabel(\"t\", fontsize=14);\n",
    "ax.set_ylabel(\"frequency\", fontsize=14);\n",
    "ax.set_title(\"Bootstrap test histogram (M = {} | p-value = {:.8f})\".format(id_+1, p_value) +\"\\n\", fontsize=16)\n",
    "plt.legend(loc=\"best\");"
   ]
  },
  {
   "cell_type": "code",
   "execution_count": null,
   "metadata": {},
   "outputs": [],
   "source": []
  },
  {
   "cell_type": "code",
   "execution_count": null,
   "metadata": {},
   "outputs": [],
   "source": []
  },
  {
   "cell_type": "code",
   "execution_count": null,
   "metadata": {},
   "outputs": [],
   "source": []
  }
 ],
 "metadata": {
  "kernelspec": {
   "display_name": "Python 3",
   "language": "python",
   "name": "python3"
  },
  "language_info": {
   "codemirror_mode": {
    "name": "ipython",
    "version": 3
   },
   "file_extension": ".py",
   "mimetype": "text/x-python",
   "name": "python",
   "nbconvert_exporter": "python",
   "pygments_lexer": "ipython3",
   "version": "3.6.9"
  }
 },
 "nbformat": 4,
 "nbformat_minor": 2
}
