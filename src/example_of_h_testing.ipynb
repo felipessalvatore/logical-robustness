{
 "cells": [
  {
   "cell_type": "code",
   "execution_count": 1,
   "metadata": {},
   "outputs": [],
   "source": [
    "import pandas as pd\n",
    "import numpy as np\n",
    "import matplotlib.pyplot as plt\n",
    "from lr.text_processing.util import pre_process_nli_df\n",
    "from lr.training.util import get_ternary_label, filter_df_by_label\n",
    "from lr.text_processing.transformations.wordnet import path_base_transformation\n",
    "from lr.text_processing.transformations.wordnet import path_base_transformation_p\n",
    "from lr.text_processing.transformations.wordnet import path_base_transformation_h\n",
    "from lr.training.language_representation import Tfidf\n",
    "from lr.training.util import get_ternary_label\n",
    "from lr.models.logistic_regression import LRWrapper\n",
    "from lr.stats.h_testing import LIMts_test\n",
    "from IPython.display import display, HTML \n",
    "from sklearn.exceptions import ConvergenceWarning\n",
    "import warnings\n",
    "warnings.filterwarnings(\"ignore\", category=RuntimeWarning)\n",
    "warnings.filterwarnings(\"ignore\", category=ConvergenceWarning)"
   ]
  },
  {
   "cell_type": "markdown",
   "metadata": {},
   "source": [
    "### Loading data"
   ]
  },
  {
   "cell_type": "code",
   "execution_count": 2,
   "metadata": {},
   "outputs": [
    {
     "name": "stdout",
     "output_type": "stream",
     "text": [
      "(10000, 3)\n",
      "(1000, 3)\n"
     ]
    }
   ],
   "source": [
    "train_path = \"data/snli/train.csv\"\n",
    "dev_path = \"data/snli/dev.csv\"\n",
    "\n",
    "train_path_mod = \"data/snli/train_p_h_syn_noun.csv\"\n",
    "dev_path_mod = \"data/snli/dev_p_h_syn_noun.csv\"\n",
    "\n",
    "train_trans = lambda df: path_base_transformation(df, train_path_mod)\n",
    "dev_trans = lambda df: path_base_transformation(df, dev_path_mod)\n",
    "\n",
    "# train_trans = lambda df: path_base_transformation_p(df, train_path_mod)\n",
    "# dev_trans = lambda df: path_base_transformation_p(df, dev_path_mod)\n",
    "\n",
    "# train_trans = lambda df: path_base_transformation_h(df, train_path_mod)\n",
    "# dev_trans = lambda df: path_base_transformation_h(df, dev_path_mod)\n",
    "\n",
    "\n",
    "\n",
    "\n",
    "\n",
    "train = pd.read_csv(train_path)\n",
    "dev = pd.read_csv(dev_path)\n",
    "train = filter_df_by_label(train.dropna()).reset_index(drop=True)\n",
    "dev = filter_df_by_label(dev.dropna()).reset_index(drop=True)\n",
    "\n",
    "train = train.head(10000)\n",
    "dev = dev.head(1000)\n",
    "pre_process_nli_df(train)\n",
    "pre_process_nli_df(dev)\n",
    "dev_t = dev_trans(dev)\n",
    "\n",
    "\n",
    "print(train.shape)\n",
    "print(dev.shape)"
   ]
  },
  {
   "cell_type": "markdown",
   "metadata": {},
   "source": [
    "### Params"
   ]
  },
  {
   "cell_type": "code",
   "execution_count": 3,
   "metadata": {},
   "outputs": [],
   "source": [
    "max_features = None\n",
    "\n",
    "param_grid = {\"C\": np.linspace(0, 3, 500),\n",
    "              \"penalty\":[\"l2\"]}\n",
    "\n",
    "\n",
    "hyperparams = {\"RepresentationFunction\": Tfidf,\n",
    "               \"cv\":5,\n",
    "               \"solver\": 'lbfgs',\n",
    "               \"random_state\": None,\n",
    "               \"verbose\":False,\n",
    "               \"n_jobs\":1,\n",
    "               \"n_iter\":2,\n",
    "               \"max_features\": max_features,\n",
    "               \"label_translation\": get_ternary_label,\n",
    "               \"param_grid\": param_grid}"
   ]
  },
  {
   "cell_type": "code",
   "execution_count": 4,
   "metadata": {},
   "outputs": [
    {
     "name": "stdout",
     "output_type": "stream",
     "text": [
      "m = 1 | time: 60.82 sec\n",
      "m = 2 | time: 61.90 sec\n",
      "m = 3 | time: 73.63 sec\n"
     ]
    }
   ],
   "source": [
    "results = LIMts_test(train=train,\n",
    "               dev=dev,\n",
    "               train_transformation=train_trans,\n",
    "               dev_transformation=dev_trans,\n",
    "               rho=0.3,\n",
    "               Model=LRWrapper,\n",
    "               hyperparams=hyperparams,\n",
    "               M=1,\n",
    "               E=5,\n",
    "               S=1000,\n",
    "               verbose=True,\n",
    "               random_state=1234)"
   ]
  },
  {
   "cell_type": "markdown",
   "metadata": {},
   "source": [
    "### All Results"
   ]
  },
  {
   "cell_type": "code",
   "execution_count": 5,
   "metadata": {},
   "outputs": [
    {
     "data": {
      "text/html": [
       "<table border=\"1\" class=\"dataframe\">\n",
       "  <thead>\n",
       "    <tr style=\"text-align: right;\">\n",
       "      <th></th>\n",
       "      <th>m</th>\n",
       "      <th>train_accuracy_mean</th>\n",
       "      <th>train_accuracy_std</th>\n",
       "      <th>validation_accuracy</th>\n",
       "      <th>transformed_validation_accuracy</th>\n",
       "      <th>observable_t_stats</th>\n",
       "      <th>p_value</th>\n",
       "      <th>transformation_time</th>\n",
       "      <th>training_time</th>\n",
       "      <th>test_time</th>\n",
       "    </tr>\n",
       "  </thead>\n",
       "  <tbody>\n",
       "    <tr>\n",
       "      <th>0</th>\n",
       "      <td>1</td>\n",
       "      <td>0.50148</td>\n",
       "      <td>0.001070</td>\n",
       "      <td>0.500</td>\n",
       "      <td>0.507</td>\n",
       "      <td>-0.517524</td>\n",
       "      <td>0.564</td>\n",
       "      <td>0.802914</td>\n",
       "      <td>57.515486</td>\n",
       "      <td>60.824563</td>\n",
       "    </tr>\n",
       "    <tr>\n",
       "      <th>1</th>\n",
       "      <td>2</td>\n",
       "      <td>0.50190</td>\n",
       "      <td>0.001161</td>\n",
       "      <td>0.507</td>\n",
       "      <td>0.506</td>\n",
       "      <td>0.074330</td>\n",
       "      <td>0.938</td>\n",
       "      <td>0.832822</td>\n",
       "      <td>58.486489</td>\n",
       "      <td>61.902476</td>\n",
       "    </tr>\n",
       "    <tr>\n",
       "      <th>2</th>\n",
       "      <td>3</td>\n",
       "      <td>0.49970</td>\n",
       "      <td>0.001540</td>\n",
       "      <td>0.504</td>\n",
       "      <td>0.501</td>\n",
       "      <td>0.212669</td>\n",
       "      <td>0.840</td>\n",
       "      <td>0.838008</td>\n",
       "      <td>68.878022</td>\n",
       "      <td>73.634708</td>\n",
       "    </tr>\n",
       "  </tbody>\n",
       "</table>"
      ],
      "text/plain": [
       "<IPython.core.display.HTML object>"
      ]
     },
     "metadata": {},
     "output_type": "display_data"
    }
   ],
   "source": [
    "not_boot_columns = [c for c in results.columns if c.find(\"boot\") == -1]\n",
    "display(HTML(results[not_boot_columns].to_html()))"
   ]
  },
  {
   "cell_type": "markdown",
   "metadata": {},
   "source": [
    "### Especific result for one noised sample"
   ]
  },
  {
   "cell_type": "code",
   "execution_count": 6,
   "metadata": {},
   "outputs": [
    {
     "data": {
      "image/png": "[encoded data removed]",
      "text/plain": [
       "<Figure size 720x360 with 1 Axes>"
      ]
     },
     "metadata": {
      "needs_background": "light"
     },
     "output_type": "display_data"
    }
   ],
   "source": [
    "id_ = 0\n",
    "\n",
    "results_id = results.iloc[id_].to_frame().transpose().reset_index(drop=True)\n",
    "t_obs = results_id.observable_t_stats[0]\n",
    "p_value = results_id.p_value[0]\n",
    "\n",
    "\n",
    "boot_columns = [c for c in results_id.columns if c.find(\"boot\") > -1]\n",
    "\n",
    "t_boots = results_id[boot_columns].transpose()\n",
    "\n",
    "\n",
    "fig, ax = plt.subplots(figsize=(10,5))\n",
    "t_boots.hist(ax=ax, label=\"bootstrap replications\");\n",
    "plt.axvline(x=t_obs, color='r', linestyle='-', label=r\"observed ($t= {:.2f})$\".format(t_obs));\n",
    "ax.set_xlabel(\"t\", fontsize=14);\n",
    "ax.set_ylabel(\"frequency\", fontsize=14);\n",
    "ax.set_title(\"Bootstrap test histogram (M = {} | p-value = {:.8f})\".format(id_+1, p_value) +\"\\n\", fontsize=16)\n",
    "plt.legend(loc=\"best\");"
   ]
  },
  {
   "cell_type": "code",
   "execution_count": 10,
   "metadata": {},
   "outputs": [
    {
     "data": {
      "text/html": [
       "<div>\n",
       "<style scoped>\n",
       "    .dataframe tbody tr th:only-of-type {\n",
       "        vertical-align: middle;\n",
       "    }\n",
       "\n",
       "    .dataframe tbody tr th {\n",
       "        vertical-align: top;\n",
       "    }\n",
       "\n",
       "    .dataframe thead th {\n",
       "        text-align: right;\n",
       "    }\n",
       "</style>\n",
       "<table border=\"1\" class=\"dataframe\">\n",
       "  <thead>\n",
       "    <tr style=\"text-align: right;\">\n",
       "      <th></th>\n",
       "      <th>m</th>\n",
       "      <th>train_accuracy_mean</th>\n",
       "      <th>train_accuracy_std</th>\n",
       "      <th>validation_accuracy</th>\n",
       "      <th>transformed_validation_accuracy</th>\n",
       "      <th>observable_t_stats</th>\n",
       "      <th>p_value</th>\n",
       "      <th>transformation_time</th>\n",
       "      <th>training_time</th>\n",
       "      <th>test_time</th>\n",
       "      <th>...</th>\n",
       "      <th>boot_t_991</th>\n",
       "      <th>boot_t_992</th>\n",
       "      <th>boot_t_993</th>\n",
       "      <th>boot_t_994</th>\n",
       "      <th>boot_t_995</th>\n",
       "      <th>boot_t_996</th>\n",
       "      <th>boot_t_997</th>\n",
       "      <th>boot_t_998</th>\n",
       "      <th>boot_t_999</th>\n",
       "      <th>boot_t_1000</th>\n",
       "    </tr>\n",
       "  </thead>\n",
       "  <tbody>\n",
       "    <tr>\n",
       "      <th>0</th>\n",
       "      <td>1</td>\n",
       "      <td>0.50148</td>\n",
       "      <td>0.00107</td>\n",
       "      <td>0.5</td>\n",
       "      <td>0.507</td>\n",
       "      <td>-0.517524</td>\n",
       "      <td>0.564</td>\n",
       "      <td>0.869766</td>\n",
       "      <td>69.428773</td>\n",
       "      <td>73.295779</td>\n",
       "      <td>...</td>\n",
       "      <td>-0.70511</td>\n",
       "      <td>-0.42644</td>\n",
       "      <td>-0.373744</td>\n",
       "      <td>2.303554</td>\n",
       "      <td>0.700821</td>\n",
       "      <td>0.562342</td>\n",
       "      <td>0.149908</td>\n",
       "      <td>0.07785</td>\n",
       "      <td>-0.479687</td>\n",
       "      <td>0.665446</td>\n",
       "    </tr>\n",
       "  </tbody>\n",
       "</table>\n",
       "<p>1 rows × 1010 columns</p>\n",
       "</div>"
      ],
      "text/plain": [
       "   m  train_accuracy_mean  train_accuracy_std  validation_accuracy  \\\n",
       "0  1              0.50148             0.00107                  0.5   \n",
       "\n",
       "   transformed_validation_accuracy  observable_t_stats  p_value  \\\n",
       "0                            0.507           -0.517524    0.564   \n",
       "\n",
       "   transformation_time  training_time  test_time  ...  boot_t_991  boot_t_992  \\\n",
       "0             0.869766      69.428773  73.295779  ...    -0.70511    -0.42644   \n",
       "\n",
       "   boot_t_993  boot_t_994  boot_t_995  boot_t_996  boot_t_997  boot_t_998  \\\n",
       "0   -0.373744    2.303554    0.700821    0.562342    0.149908     0.07785   \n",
       "\n",
       "   boot_t_999  boot_t_1000  \n",
       "0   -0.479687     0.665446  \n",
       "\n",
       "[1 rows x 1010 columns]"
      ]
     },
     "execution_count": 10,
     "metadata": {},
     "output_type": "execute_result"
    }
   ],
   "source": [
    "# pd.read_csv(\"results/snli/lr/wordnet_p_h_rho_0p3.csv\")"
   ]
  },
  {
   "cell_type": "code",
   "execution_count": null,
   "metadata": {},
   "outputs": [],
   "source": []
  },
  {
   "cell_type": "code",
   "execution_count": null,
   "metadata": {},
   "outputs": [],
   "source": []
  }
 ],
 "metadata": {
  "kernelspec": {
   "display_name": "Python 3",
   "language": "python",
   "name": "python3"
  },
  "language_info": {
   "codemirror_mode": {
    "name": "ipython",
    "version": 3
   },
   "file_extension": ".py",
   "mimetype": "text/x-python",
   "name": "python",
   "nbconvert_exporter": "python",
   "pygments_lexer": "ipython3",
   "version": "3.6.9"
  }
 },
 "nbformat": 4,
 "nbformat_minor": 2
}
