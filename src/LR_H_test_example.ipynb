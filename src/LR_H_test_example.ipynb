{
 "cells": [
  {
   "cell_type": "code",
   "execution_count": 1,
   "metadata": {},
   "outputs": [],
   "source": [
    "import pandas as pd\n",
    "import numpy as np\n",
    "import matplotlib.pyplot as plt\n",
    "from lr.text_processing.util import pre_process_nli_df\n",
    "from lr.training.util import get_ternary_label\n",
    "from lr.stats.h_testing import  LIMts_test, get_matched_results, get_boot_p_value\n",
    "from lr.stats.h_testing import  get_paired_t_statistic, get_boot_sample_under_H0\n",
    "from lr.stats.h_testing import  Ensemble, DGP\n",
    "\n",
    "from lr.training.util import filter_df_by_label\n",
    "from lr.text_processing.transformations.structural import entailment_internalization\n",
    "from lr.text_processing.transformations.wordnet import path_base_transformation\n",
    "from lr.training.language_representation import Tfidf\n",
    "from lr.models.logistic_regression import LRWrapper\n",
    "from sklearn.linear_model import LogisticRegression\n",
    "from sklearn.model_selection import RandomizedSearchCV\n",
    "from sklearn.metrics import confusion_matrix, classification_report\n",
    "from sklearn.exceptions import ConvergenceWarning\n",
    "import warnings\n",
    "warnings.filterwarnings(\"ignore\", category=RuntimeWarning)\n",
    "warnings.filterwarnings(\"ignore\", category=ConvergenceWarning)"
   ]
  },
  {
   "cell_type": "markdown",
   "metadata": {},
   "source": [
    "### Loading data"
   ]
  },
  {
   "cell_type": "code",
   "execution_count": 2,
   "metadata": {},
   "outputs": [],
   "source": [
    "train_path = \"data/snli/train.csv\"\n",
    "dev_path = \"data/snli/dev.csv\"\n",
    "\n",
    "train_path_mod = \"data/snli/train_p_h_syn_noun.csv\"\n",
    "dev_path_mod = \"data/snli/dev_p_h_syn_noun.csv\"\n",
    "\n",
    "train_trans = lambda df: path_base_transformation(df, train_path_mod)\n",
    "dev_trans = lambda df: path_base_transformation(df, dev_path_mod)\n",
    "\n",
    "\n",
    "train = pd.read_csv(train_path)\n",
    "dev = pd.read_csv(dev_path)\n",
    "train = filter_df_by_label(train.dropna()).reset_index(drop=True)\n",
    "dev = filter_df_by_label(dev.dropna()).reset_index(drop=True)\n",
    "\n",
    "train = train.head(10000)\n",
    "dev = dev.head(1000)\n",
    "\n",
    "dev_t = dev_trans(dev)\n",
    "\n",
    "pre_process_nli_df(train)\n",
    "pre_process_nli_df(dev)"
   ]
  },
  {
   "cell_type": "code",
   "execution_count": 3,
   "metadata": {},
   "outputs": [
    {
     "name": "stdout",
     "output_type": "stream",
     "text": [
      "(10000, 3)\n",
      "(1000, 3)\n"
     ]
    }
   ],
   "source": [
    "print(train.shape)\n",
    "print(dev.shape)"
   ]
  },
  {
   "cell_type": "markdown",
   "metadata": {},
   "source": [
    "### Checking data"
   ]
  },
  {
   "cell_type": "code",
   "execution_count": 4,
   "metadata": {},
   "outputs": [
    {
     "data": {
      "text/html": [
       "<div>\n",
       "<style scoped>\n",
       "    .dataframe tbody tr th:only-of-type {\n",
       "        vertical-align: middle;\n",
       "    }\n",
       "\n",
       "    .dataframe tbody tr th {\n",
       "        vertical-align: top;\n",
       "    }\n",
       "\n",
       "    .dataframe thead th {\n",
       "        text-align: right;\n",
       "    }\n",
       "</style>\n",
       "<table border=\"1\" class=\"dataframe\">\n",
       "  <thead>\n",
       "    <tr style=\"text-align: right;\">\n",
       "      <th></th>\n",
       "      <th>premise</th>\n",
       "      <th>hypothesis</th>\n",
       "      <th>label</th>\n",
       "    </tr>\n",
       "  </thead>\n",
       "  <tbody>\n",
       "    <tr>\n",
       "      <th>5161</th>\n",
       "      <td>one brown and one mostly black dog are either ...</td>\n",
       "      <td>the dogs are playing with a toy</td>\n",
       "      <td>neutral</td>\n",
       "    </tr>\n",
       "    <tr>\n",
       "      <th>8744</th>\n",
       "      <td>a child in a blue jacket and black cap sits am...</td>\n",
       "      <td>the child is not standing</td>\n",
       "      <td>entailment</td>\n",
       "    </tr>\n",
       "    <tr>\n",
       "      <th>5002</th>\n",
       "      <td>someone riding sideways on a motorcycle</td>\n",
       "      <td>a person is on a motorcycle</td>\n",
       "      <td>entailment</td>\n",
       "    </tr>\n",
       "  </tbody>\n",
       "</table>\n",
       "</div>"
      ],
      "text/plain": [
       "                                                premise  \\\n",
       "5161  one brown and one mostly black dog are either ...   \n",
       "8744  a child in a blue jacket and black cap sits am...   \n",
       "5002            someone riding sideways on a motorcycle   \n",
       "\n",
       "                           hypothesis       label  \n",
       "5161  the dogs are playing with a toy     neutral  \n",
       "8744        the child is not standing  entailment  \n",
       "5002      a person is on a motorcycle  entailment  "
      ]
     },
     "execution_count": 4,
     "metadata": {},
     "output_type": "execute_result"
    }
   ],
   "source": [
    "s = train.sample(3)\n",
    "s"
   ]
  },
  {
   "cell_type": "code",
   "execution_count": 5,
   "metadata": {},
   "outputs": [
    {
     "data": {
      "text/html": [
       "<div>\n",
       "<style scoped>\n",
       "    .dataframe tbody tr th:only-of-type {\n",
       "        vertical-align: middle;\n",
       "    }\n",
       "\n",
       "    .dataframe tbody tr th {\n",
       "        vertical-align: top;\n",
       "    }\n",
       "\n",
       "    .dataframe thead th {\n",
       "        text-align: right;\n",
       "    }\n",
       "</style>\n",
       "<table border=\"1\" class=\"dataframe\">\n",
       "  <thead>\n",
       "    <tr style=\"text-align: right;\">\n",
       "      <th></th>\n",
       "      <th>premise</th>\n",
       "      <th>hypothesis</th>\n",
       "      <th>label</th>\n",
       "    </tr>\n",
       "  </thead>\n",
       "  <tbody>\n",
       "    <tr>\n",
       "      <th>5161</th>\n",
       "      <td>one brown and one mostly black domestic dog ar...</td>\n",
       "      <td>the dogs are playing with a plaything</td>\n",
       "      <td>neutral</td>\n",
       "    </tr>\n",
       "    <tr>\n",
       "      <th>8744</th>\n",
       "      <td>a kid in a blue jacket and black cap sits amon...</td>\n",
       "      <td>the kid is not standing</td>\n",
       "      <td>entailment</td>\n",
       "    </tr>\n",
       "    <tr>\n",
       "      <th>5002</th>\n",
       "      <td>someone riding crabwise on a bike</td>\n",
       "      <td>a individual is on a bike</td>\n",
       "      <td>entailment</td>\n",
       "    </tr>\n",
       "  </tbody>\n",
       "</table>\n",
       "</div>"
      ],
      "text/plain": [
       "                                                premise  \\\n",
       "5161  one brown and one mostly black domestic dog ar...   \n",
       "8744  a kid in a blue jacket and black cap sits amon...   \n",
       "5002                 someone riding crabwise on a bike    \n",
       "\n",
       "                                  hypothesis       label  \n",
       "5161   the dogs are playing with a plaything     neutral  \n",
       "8744                 the kid is not standing  entailment  \n",
       "5002               a individual is on a bike  entailment  "
      ]
     },
     "execution_count": 5,
     "metadata": {},
     "output_type": "execute_result"
    }
   ],
   "source": [
    "train_trans(s)"
   ]
  },
  {
   "cell_type": "markdown",
   "metadata": {},
   "source": [
    "### Params"
   ]
  },
  {
   "cell_type": "code",
   "execution_count": 6,
   "metadata": {},
   "outputs": [],
   "source": [
    "max_features = None\n",
    "\n",
    "param_grid = {\"C\": np.linspace(0, 3, 50),\n",
    "              \"penalty\":[\"l2\"]}\n",
    "\n",
    "\n",
    "hyperparams = {\"RepresentationFunction\": Tfidf,\n",
    "               \"cv\":5,\n",
    "               \"solver\": 'lbfgs',\n",
    "               \"verbose\":True,\n",
    "               \"n_jobs\":1,\n",
    "               \"n_iter\":2,\n",
    "               \"random_state\":42,\n",
    "               \"max_features\": max_features,\n",
    "               \"label_translation\": get_ternary_label,\n",
    "               \"param_grid\": param_grid}"
   ]
  },
  {
   "cell_type": "markdown",
   "metadata": {},
   "source": [
    "\n",
    "## DGP"
   ]
  },
  {
   "cell_type": "code",
   "execution_count": 7,
   "metadata": {},
   "outputs": [],
   "source": [
    "dgp = DGP(train, train_trans, rho=0.3)\n",
    "train_ = dgp.sample(random_state=24)"
   ]
  },
  {
   "cell_type": "code",
   "execution_count": null,
   "metadata": {},
   "outputs": [],
   "source": []
  },
  {
   "cell_type": "code",
   "execution_count": null,
   "metadata": {},
   "outputs": [],
   "source": []
  },
  {
   "cell_type": "markdown",
   "metadata": {},
   "source": [
    "### Naive Training in 2 parts"
   ]
  },
  {
   "cell_type": "code",
   "execution_count": 8,
   "metadata": {},
   "outputs": [
    {
     "name": "stdout",
     "output_type": "stream",
     "text": [
      "Fitting 5 folds for each of 2 candidates, totalling 10 fits\n"
     ]
    },
    {
     "name": "stderr",
     "output_type": "stream",
     "text": [
      "[Parallel(n_jobs=1)]: Using backend SequentialBackend with 1 concurrent workers.\n",
      "[Parallel(n_jobs=1)]: Done  10 out of  10 | elapsed:   10.7s finished\n"
     ]
    },
    {
     "name": "stdout",
     "output_type": "stream",
     "text": [
      "0.6469\n",
      "{'penalty': 'l2', 'C': 0.7959183673469388}\n"
     ]
    }
   ],
   "source": [
    "lr1 = LRWrapper(hyperparams)\n",
    "lr1.fit(train_)\n",
    "print(lr1.get_acc(train_))\n",
    "print(lr1.model.best_params_)"
   ]
  },
  {
   "cell_type": "code",
   "execution_count": 9,
   "metadata": {},
   "outputs": [
    {
     "name": "stdout",
     "output_type": "stream",
     "text": [
      "Fitting 5 folds for each of 2 candidates, totalling 10 fits\n"
     ]
    },
    {
     "name": "stderr",
     "output_type": "stream",
     "text": [
      "[Parallel(n_jobs=1)]: Using backend SequentialBackend with 1 concurrent workers.\n",
      "[Parallel(n_jobs=1)]: Done  10 out of  10 | elapsed:   10.4s finished\n"
     ]
    },
    {
     "name": "stdout",
     "output_type": "stream",
     "text": [
      "0.7087\n",
      "{'penalty': 'l2', 'C': 2.4489795918367347}\n"
     ]
    }
   ],
   "source": [
    "hyperparams[\"random_state\"] = 56\n",
    "\n",
    "lr2 = LRWrapper(hyperparams)\n",
    "lr2.fit(train_)\n",
    "print(lr2.get_acc(train_))\n",
    "print(lr2.model.best_params_)"
   ]
  },
  {
   "cell_type": "code",
   "execution_count": 11,
   "metadata": {},
   "outputs": [
    {
     "name": "stdout",
     "output_type": "stream",
     "text": [
      "0.6778 0.030899999999999983\n"
     ]
    }
   ],
   "source": [
    "accs = [lr2.get_acc(train_), lr1.get_acc(train_)]\n",
    "print(np.mean(accs), np.std(accs))"
   ]
  },
  {
   "cell_type": "code",
   "execution_count": 12,
   "metadata": {},
   "outputs": [
    {
     "name": "stdout",
     "output_type": "stream",
     "text": [
      "0.6834\n"
     ]
    }
   ],
   "source": [
    "lr = Ensemble([lr1, lr2])\n",
    "\n",
    "print(lr.get_acc(train_))"
   ]
  },
  {
   "cell_type": "markdown",
   "metadata": {},
   "source": [
    "### Get t statistic for the observable results and matched results\n",
    "\n",
    "- {'penalty': 'l2', 'C': 0.7959183673469388}\n",
    "\n",
    "- {'penalty': 'l2', 'C': 2.4489795918367347}\n",
    "\n",
    "lr acc = 0.6834\n",
    "\n",
    "t = -0.3104751733020508\n",
    "\n"
   ]
  },
  {
   "cell_type": "code",
   "execution_count": 13,
   "metadata": {},
   "outputs": [
    {
     "name": "stdout",
     "output_type": "stream",
     "text": [
      "-0.3104751733020508\n"
     ]
    }
   ],
   "source": [
    "\n",
    "results = get_matched_results(dev, dev_t, lr, lr.label_translation)\n",
    "t_obs = get_paired_t_statistic(results)\n",
    "\n",
    "print(t_obs)"
   ]
  },
  {
   "cell_type": "markdown",
   "metadata": {},
   "source": [
    "### Get $S$ bootstrap replications under H0"
   ]
  },
  {
   "cell_type": "code",
   "execution_count": null,
   "metadata": {},
   "outputs": [],
   "source": []
  },
  {
   "cell_type": "code",
   "execution_count": null,
   "metadata": {},
   "outputs": [],
   "source": []
  },
  {
   "cell_type": "code",
   "execution_count": null,
   "metadata": {},
   "outputs": [],
   "source": []
  },
  {
   "cell_type": "code",
   "execution_count": null,
   "metadata": {},
   "outputs": [],
   "source": []
  },
  {
   "cell_type": "code",
   "execution_count": null,
   "metadata": {},
   "outputs": [],
   "source": []
  },
  {
   "cell_type": "code",
   "execution_count": 16,
   "metadata": {},
   "outputs": [],
   "source": [
    "S = 1000\n",
    "t_boots = []\n",
    "for _ in range(S):\n",
    "    boot_sample = get_boot_sample_under_H0(results)\n",
    "    t = get_paired_t_statistic(boot_sample)\n",
    "    t_boots.append(t)\n",
    "\n",
    "t_boots = pd.Series(t_boots)"
   ]
  },
  {
   "cell_type": "markdown",
   "metadata": {},
   "source": [
    "### Calculating the associated p-value"
   ]
  },
  {
   "cell_type": "code",
   "execution_count": 17,
   "metadata": {},
   "outputs": [
    {
     "data": {
      "image/png": "[encoded data removed]",
      "text/plain": [
       "<Figure size 720x360 with 1 Axes>"
      ]
     },
     "metadata": {
      "needs_background": "light"
     },
     "output_type": "display_data"
    }
   ],
   "source": [
    "p_value = get_boot_p_value(t_boots, t_obs)\n",
    "\n",
    "fig, ax = plt.subplots(figsize=(10,5))\n",
    "t_boots.hist(ax=ax, label=\"bootstrap replications\");\n",
    "plt.axvline(x=t_obs, color='r', linestyle='-', label=\"observed\");\n",
    "ax.set_xlabel(\"t\", fontsize=14);\n",
    "ax.set_ylabel(\"frequency\", fontsize=14);\n",
    "ax.set_title(\"Bootstrap test histogram (p-value = {:.8f})\".format(p_value) +\"\\n\", fontsize=16)\n",
    "plt.legend(loc=\"best\");"
   ]
  },
  {
   "cell_type": "markdown",
   "metadata": {},
   "source": [
    "### Performing multiple tests\n",
    "\n",
    "**test1: entailment internalization**"
   ]
  },
  {
   "cell_type": "code",
   "execution_count": null,
   "metadata": {},
   "outputs": [],
   "source": [
    "# M,E,S = 5,2,1000\n",
    "\n",
    "\n",
    "# tests1 = LIMts_test(train=train,\n",
    "#                     dev=dev,\n",
    "#                     train_transformation=train_trans,\n",
    "#                     dev_transformation=dev_trans,\n",
    "#                     rho=0.78,\n",
    "#                     Model=LRWrapper,\n",
    "#                     hyperparams=hyperparams,\n",
    "#                     M=M,\n",
    "#                     E=E,\n",
    "#                     S=S)\n",
    "\n",
    "# tests1"
   ]
  },
  {
   "cell_type": "code",
   "execution_count": null,
   "metadata": {},
   "outputs": [],
   "source": []
  }
 ],
 "metadata": {
  "kernelspec": {
   "display_name": "Python 3",
   "language": "python",
   "name": "python3"
  },
  "language_info": {
   "codemirror_mode": {
    "name": "ipython",
    "version": 3
   },
   "file_extension": ".py",
   "mimetype": "text/x-python",
   "name": "python",
   "nbconvert_exporter": "python",
   "pygments_lexer": "ipython3",
   "version": "3.6.8"
  }
 },
 "nbformat": 4,
 "nbformat_minor": 2
}
