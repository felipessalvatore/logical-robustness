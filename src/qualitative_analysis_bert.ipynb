{
 "cells": [
  {
   "cell_type": "markdown",
   "metadata": {},
   "source": [
    "# Qualitative analysis BERT"
   ]
  },
  {
   "cell_type": "code",
   "execution_count": null,
   "metadata": {},
   "outputs": [],
   "source": [
    "import pandas as pd\n",
    "from IPython.display import display, HTML\n",
    "from lr.text_processing.util import pre_process_nli_df\n",
    "from lr.training.util import filter_df_by_label\n",
    "from lr.text_processing.transformations.wordnet import path_base_transformation\n",
    "from lr.analysis.util import get_mismatch, join_df_list\n",
    "import numpy as np\n",
    "import matplotlib.pyplot as plt"
   ]
  },
  {
   "cell_type": "markdown",
   "metadata": {},
   "source": [
    "## Getting all errors"
   ]
  },
  {
   "cell_type": "code",
   "execution_count": null,
   "metadata": {},
   "outputs": [],
   "source": [
    "paths = [\"raw_results/snli/bert_base/sin_p_h/rho_0p00_dgp_seed_12_random_state_52_results.csv\",\n",
    "        \"raw_results/snli/bert_base/sin_p_h/rho_0p00_dgp_seed_109_random_state_14_results.csv\",\n",
    "        \"raw_results/snli/bert_base/sin_p_h/rho_0p25_dgp_seed_259_random_state_59_results.csv\",\n",
    "        \"raw_results/snli/bert_base/sin_p_h/rho_0p25_dgp_seed_148_random_state_7_results.csv\",\n",
    "        \"raw_results/snli/bert_base/sin_p_h/rho_0p50_dgp_seed_203_random_state_45_results.csv\",\n",
    "        \"raw_results/snli/bert_base/sin_p_h/rho_0p50_dgp_seed_62_random_state_103_results.csv\",\n",
    "        \"raw_results/snli/bert_base/sin_p_h/rho_0p75_dgp_seed_224_random_state_29_results.csv\",\n",
    "        \"raw_results/snli/bert_base/sin_p_h/rho_0p75_dgp_seed_40_random_state_179_results.csv\",\n",
    "        \"raw_results/snli/bert_base/sin_p_h/rho_1p00_dgp_seed_185_random_state_27_results.csv\",\n",
    "        \"raw_results/snli/bert_base/sin_p_h/rho_1p00_dgp_seed_13_random_state_47_results.csv\"]\n",
    "\n",
    "all_ms = []\n",
    "\n",
    "for i,p in enumerate(paths):\n",
    "    df = pd.read_csv(p)\n",
    "    name = \"bert_{}\".format(i)\n",
    "    m = get_mismatch(df, name)\n",
    "    all_ms.append(m)\n",
    "\n",
    "results = join_df_list(all_ms)\n",
    "results = results.sum(1).sort_values(ascending=False)\n",
    "results = results[results>5]\n",
    "\n",
    "original_path = \"data/snli/dev.csv\" \n",
    "transformed_path = \"data/snli/dev_p_h_syn_noun.csv\"\n",
    "\n",
    "df = pd.read_csv(original_path)\n",
    "df = filter_df_by_label(df.dropna()).reset_index(drop=True)\n",
    "pre_process_nli_df(df)\n",
    "df = df.loc[results.index]\n",
    "df.loc[:, \"number_of_erros\"] = results.values\n",
    "\n",
    "df_t = path_base_transformation(df, transformed_path)\n",
    "df_t = df_t.loc[results.index]\n",
    "df_t.loc[:, \"number_of_erros\"] = results.values"
   ]
  },
  {
   "cell_type": "markdown",
   "metadata": {},
   "source": [
    "## Looking at the errors"
   ]
  },
  {
   "cell_type": "code",
   "execution_count": null,
   "metadata": {},
   "outputs": [],
   "source": [
    "severe_error = []\n",
    "passable_error = []\n",
    "count = 0\n",
    "analysis = []\n",
    "\n",
    "for i in range(results.shape[0]):\n",
    "    count += 1\n",
    "    original = df.iloc[i,:].to_frame().transpose()\n",
    "    id_ = original.index[0]\n",
    "    print(\"\\noriginal\\n\")\n",
    "    display(HTML(original.to_html()))\n",
    "    modified = df_t.iloc[i,:].to_frame().transpose()\n",
    "    print()\n",
    "    print(\"\\nmodified\\n\")\n",
    "    display(HTML(modified.to_html()))\n",
    "    print(\"\\ndecide\\n\")\n",
    "    decision = input()\n",
    "    if decision == \"y\":\n",
    "        severe_error.append(id_)\n",
    "        analysis.append(True)\n",
    "    elif decision ==\"n\":\n",
    "        passable_error.append(id_)\n",
    "        analysis.append(False)\n",
    "    else:\n",
    "        break\n"
   ]
  },
  {
   "cell_type": "code",
   "execution_count": null,
   "metadata": {},
   "outputs": [],
   "source": [
    "n =  count-1\n",
    "analysis_pct = len(severe_error) / n\n",
    "\n",
    "print(\"count = {}\\n\".format(n))\n",
    "print(\"len(severe_error) = {}\\n\".format(len(severe_error)))\n",
    "print(\"analysis pct = {:.3f}\\n\".format(analysis_pct))\n"
   ]
  },
  {
   "cell_type": "code",
   "execution_count": null,
   "metadata": {},
   "outputs": [],
   "source": []
  }
 ],
 "metadata": {
  "kernelspec": {
   "display_name": "Python 3",
   "language": "python",
   "name": "python3"
  },
  "language_info": {
   "codemirror_mode": {
    "name": "ipython",
    "version": 3
   },
   "file_extension": ".py",
   "mimetype": "text/x-python",
   "name": "python",
   "nbconvert_exporter": "python",
   "pygments_lexer": "ipython3",
   "version": "3.6.9"
  }
 },
 "nbformat": 4,
 "nbformat_minor": 2
}
