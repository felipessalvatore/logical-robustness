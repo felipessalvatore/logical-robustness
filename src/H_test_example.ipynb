{
 "cells": [
  {
   "cell_type": "code",
   "execution_count": 1,
   "metadata": {},
   "outputs": [],
   "source": [
    "import pandas as pd\n",
    "import numpy as np\n",
    "import matplotlib.pyplot as plt\n",
    "import seaborn as sns\n",
    "from lr.text_processing.util import pre_process_nli_df\n",
    "from lr.training.util import get_ternary_label\n",
    "from lr.text_processing.transformations.structural import entailment_internalization\n",
    "from lr.text_processing.transformations.synonyms import toy_transformation\n",
    "from lr.stats.h_testing import DGP, get_matched_results, get_paired_t_statistic\n",
    "from lr.stats.h_testing import get_boot_sample_under_H0,get_boot_p_value\n",
    "from lr.stats.h_testing import  LIMts_test\n",
    "from lr.training.language_representation import Tfidf\n",
    "from lr.models.logistic_regression import LRWrapper\n",
    "import warnings\n",
    "warnings.filterwarnings(\"ignore\", category=RuntimeWarning)"
   ]
  },
  {
   "cell_type": "markdown",
   "metadata": {},
   "source": [
    "### Loading data"
   ]
  },
  {
   "cell_type": "code",
   "execution_count": 2,
   "metadata": {},
   "outputs": [],
   "source": [
    "train_path = \"data/toy/train.csv\"\n",
    "dev_path = \"data/toy/dev.csv\"\n",
    "train = pd.read_csv(train_path)\n",
    "dev = pd.read_csv(dev_path)\n",
    "pre_process_nli_df(train)\n",
    "pre_process_nli_df(dev)"
   ]
  },
  {
   "cell_type": "markdown",
   "metadata": {},
   "source": [
    "### Training a model using one version of the modified data"
   ]
  },
  {
   "cell_type": "code",
   "execution_count": 3,
   "metadata": {},
   "outputs": [],
   "source": [
    "max_features = 500\n",
    "rho = 0.001\n",
    "label_translation = get_ternary_label\n",
    "transformation = entailment_internalization \n",
    "\n",
    "dgp = DGP(data=train, transformation=transformation, rho=rho)\n",
    "train_t = dgp.get_sample()\n",
    "\n",
    "hyperparams = {\"RepresentationFunction\": Tfidf,\n",
    "               \"max_features\": max_features,\n",
    "               \"label_translation\": label_translation,\n",
    "               \"penalty\": \"l2\",\n",
    "               \"C\": 1,\n",
    "               'solver': 'lbfgs'}\n",
    "lr = LRWrapper(hyperparams)\n",
    "lr.fit(train_t)"
   ]
  },
  {
   "cell_type": "markdown",
   "metadata": {},
   "source": [
    "### Get t statistic for the observable results and matched results"
   ]
  },
  {
   "cell_type": "code",
   "execution_count": 4,
   "metadata": {},
   "outputs": [
    {
     "name": "stdout",
     "output_type": "stream",
     "text": [
      "-1.6783627165933783\n"
     ]
    }
   ],
   "source": [
    "dev_t = transformation(dev)\n",
    "\n",
    "results = get_matched_results(dev, dev_t, lr, lr.label_translation)\n",
    "t_obs = get_paired_t_statistic(results)\n",
    "\n",
    "print(t_obs)"
   ]
  },
  {
   "cell_type": "markdown",
   "metadata": {},
   "source": [
    "### Get $S$ bootstrap replications under H0"
   ]
  },
  {
   "cell_type": "code",
   "execution_count": 5,
   "metadata": {},
   "outputs": [],
   "source": [
    "S = 1000\n",
    "t_boots = []\n",
    "for _ in range(S):\n",
    "    boot_sample = get_boot_sample_under_H0(results)\n",
    "    t = get_paired_t_statistic(boot_sample)\n",
    "    t_boots.append(t)\n",
    "\n",
    "t_boots = pd.Series(t_boots)"
   ]
  },
  {
   "cell_type": "markdown",
   "metadata": {},
   "source": [
    "### Calculating the associated p-value"
   ]
  },
  {
   "cell_type": "code",
   "execution_count": 6,
   "metadata": {},
   "outputs": [
    {
     "data": {
      "image/png": "[encoded data removed]",
      "text/plain": [
       "<Figure size 720x360 with 1 Axes>"
      ]
     },
     "metadata": {
      "needs_background": "light"
     },
     "output_type": "display_data"
    }
   ],
   "source": [
    "p_value = get_boot_p_value(t_boots, t_obs)\n",
    "\n",
    "fig, ax = plt.subplots(figsize=(10,5))\n",
    "t_boots.hist(ax=ax, label=\"bootstrap replications\");\n",
    "plt.axvline(x=t_obs, color='r', linestyle='-', label=\"observed\");\n",
    "ax.set_xlabel(\"t\", fontsize=14);\n",
    "ax.set_ylabel(\"frequency\", fontsize=14);\n",
    "ax.set_title(\"Bootstrap test histogram (p-value = {:.8f})\".format(p_value) +\"\\n\", fontsize=16)\n",
    "plt.legend(loc=\"best\");"
   ]
  },
  {
   "cell_type": "markdown",
   "metadata": {},
   "source": [
    "### Performing multiple tests\n",
    "\n",
    "**test1: entailment internalization**"
   ]
  },
  {
   "cell_type": "code",
   "execution_count": 7,
   "metadata": {},
   "outputs": [
    {
     "data": {
      "text/html": [
       "<div>\n",
       "<style scoped>\n",
       "    .dataframe tbody tr th:only-of-type {\n",
       "        vertical-align: middle;\n",
       "    }\n",
       "\n",
       "    .dataframe tbody tr th {\n",
       "        vertical-align: top;\n",
       "    }\n",
       "\n",
       "    .dataframe thead th {\n",
       "        text-align: right;\n",
       "    }\n",
       "</style>\n",
       "<table border=\"1\" class=\"dataframe\">\n",
       "  <thead>\n",
       "    <tr style=\"text-align: right;\">\n",
       "      <th></th>\n",
       "      <th>m</th>\n",
       "      <th>e</th>\n",
       "      <th>validation_accuracy</th>\n",
       "      <th>transformed_validation_accuracy</th>\n",
       "      <th>observable_t_stats</th>\n",
       "      <th>p_value</th>\n",
       "      <th>transformation_time</th>\n",
       "      <th>training_time</th>\n",
       "      <th>test_time</th>\n",
       "      <th>boot_t_1</th>\n",
       "      <th>...</th>\n",
       "      <th>boot_t_991</th>\n",
       "      <th>boot_t_992</th>\n",
       "      <th>boot_t_993</th>\n",
       "      <th>boot_t_994</th>\n",
       "      <th>boot_t_995</th>\n",
       "      <th>boot_t_996</th>\n",
       "      <th>boot_t_997</th>\n",
       "      <th>boot_t_998</th>\n",
       "      <th>boot_t_999</th>\n",
       "      <th>boot_t_1000</th>\n",
       "    </tr>\n",
       "  </thead>\n",
       "  <tbody>\n",
       "    <tr>\n",
       "      <th>0</th>\n",
       "      <td>1</td>\n",
       "      <td>1</td>\n",
       "      <td>0.315</td>\n",
       "      <td>0.560</td>\n",
       "      <td>-8.056095</td>\n",
       "      <td>0.0</td>\n",
       "      <td>0.009335</td>\n",
       "      <td>0.064844</td>\n",
       "      <td>2.448991</td>\n",
       "      <td>0.142864</td>\n",
       "      <td>...</td>\n",
       "      <td>-0.384252</td>\n",
       "      <td>0.730297</td>\n",
       "      <td>0.282899</td>\n",
       "      <td>2.086533</td>\n",
       "      <td>0.000000</td>\n",
       "      <td>1.002509</td>\n",
       "      <td>0.674967</td>\n",
       "      <td>1.070544</td>\n",
       "      <td>-0.525588</td>\n",
       "      <td>1.318478</td>\n",
       "    </tr>\n",
       "    <tr>\n",
       "      <th>1</th>\n",
       "      <td>2</td>\n",
       "      <td>1</td>\n",
       "      <td>0.305</td>\n",
       "      <td>0.555</td>\n",
       "      <td>-8.164966</td>\n",
       "      <td>0.0</td>\n",
       "      <td>0.006514</td>\n",
       "      <td>0.058909</td>\n",
       "      <td>2.458179</td>\n",
       "      <td>0.145873</td>\n",
       "      <td>...</td>\n",
       "      <td>-2.002252</td>\n",
       "      <td>-0.687614</td>\n",
       "      <td>-0.428768</td>\n",
       "      <td>1.450953</td>\n",
       "      <td>0.142864</td>\n",
       "      <td>0.782062</td>\n",
       "      <td>2.082630</td>\n",
       "      <td>0.277403</td>\n",
       "      <td>1.210455</td>\n",
       "      <td>0.000000</td>\n",
       "    </tr>\n",
       "    <tr>\n",
       "      <th>2</th>\n",
       "      <td>3</td>\n",
       "      <td>1</td>\n",
       "      <td>0.310</td>\n",
       "      <td>0.555</td>\n",
       "      <td>-8.056095</td>\n",
       "      <td>0.0</td>\n",
       "      <td>0.006340</td>\n",
       "      <td>0.064698</td>\n",
       "      <td>2.521910</td>\n",
       "      <td>0.288735</td>\n",
       "      <td>...</td>\n",
       "      <td>0.149079</td>\n",
       "      <td>2.162952</td>\n",
       "      <td>-0.145873</td>\n",
       "      <td>-0.333426</td>\n",
       "      <td>0.590281</td>\n",
       "      <td>0.651635</td>\n",
       "      <td>0.308680</td>\n",
       "      <td>-0.468779</td>\n",
       "      <td>-0.149079</td>\n",
       "      <td>1.581221</td>\n",
       "    </tr>\n",
       "    <tr>\n",
       "      <th>3</th>\n",
       "      <td>4</td>\n",
       "      <td>1</td>\n",
       "      <td>0.300</td>\n",
       "      <td>0.550</td>\n",
       "      <td>-8.164966</td>\n",
       "      <td>0.0</td>\n",
       "      <td>0.008367</td>\n",
       "      <td>0.065384</td>\n",
       "      <td>2.994194</td>\n",
       "      <td>-1.046351</td>\n",
       "      <td>...</td>\n",
       "      <td>0.277403</td>\n",
       "      <td>0.149079</td>\n",
       "      <td>-1.265286</td>\n",
       "      <td>-1.291061</td>\n",
       "      <td>-0.701000</td>\n",
       "      <td>-0.715199</td>\n",
       "      <td>0.288735</td>\n",
       "      <td>1.393466</td>\n",
       "      <td>-2.587853</td>\n",
       "      <td>-0.730297</td>\n",
       "    </tr>\n",
       "    <tr>\n",
       "      <th>4</th>\n",
       "      <td>5</td>\n",
       "      <td>1</td>\n",
       "      <td>0.295</td>\n",
       "      <td>0.540</td>\n",
       "      <td>-8.056095</td>\n",
       "      <td>0.0</td>\n",
       "      <td>0.007887</td>\n",
       "      <td>0.060554</td>\n",
       "      <td>2.779962</td>\n",
       "      <td>0.590281</td>\n",
       "      <td>...</td>\n",
       "      <td>-1.046351</td>\n",
       "      <td>0.142864</td>\n",
       "      <td>0.156183</td>\n",
       "      <td>-0.544735</td>\n",
       "      <td>1.135009</td>\n",
       "      <td>-0.294948</td>\n",
       "      <td>0.282899</td>\n",
       "      <td>-0.457735</td>\n",
       "      <td>-0.412257</td>\n",
       "      <td>1.002509</td>\n",
       "    </tr>\n",
       "  </tbody>\n",
       "</table>\n",
       "<p>5 rows × 1009 columns</p>\n",
       "</div>"
      ],
      "text/plain": [
       "   m  e  validation_accuracy  transformed_validation_accuracy  \\\n",
       "0  1  1                0.315                            0.560   \n",
       "1  2  1                0.305                            0.555   \n",
       "2  3  1                0.310                            0.555   \n",
       "3  4  1                0.300                            0.550   \n",
       "4  5  1                0.295                            0.540   \n",
       "\n",
       "   observable_t_stats  p_value  transformation_time  training_time  test_time  \\\n",
       "0           -8.056095      0.0             0.009335       0.064844   2.448991   \n",
       "1           -8.164966      0.0             0.006514       0.058909   2.458179   \n",
       "2           -8.056095      0.0             0.006340       0.064698   2.521910   \n",
       "3           -8.164966      0.0             0.008367       0.065384   2.994194   \n",
       "4           -8.056095      0.0             0.007887       0.060554   2.779962   \n",
       "\n",
       "   boot_t_1  ...  boot_t_991  boot_t_992  boot_t_993  boot_t_994  boot_t_995  \\\n",
       "0  0.142864  ...   -0.384252    0.730297    0.282899    2.086533    0.000000   \n",
       "1  0.145873  ...   -2.002252   -0.687614   -0.428768    1.450953    0.142864   \n",
       "2  0.288735  ...    0.149079    2.162952   -0.145873   -0.333426    0.590281   \n",
       "3 -1.046351  ...    0.277403    0.149079   -1.265286   -1.291061   -0.701000   \n",
       "4  0.590281  ...   -1.046351    0.142864    0.156183   -0.544735    1.135009   \n",
       "\n",
       "   boot_t_996  boot_t_997  boot_t_998  boot_t_999  boot_t_1000  \n",
       "0    1.002509    0.674967    1.070544   -0.525588     1.318478  \n",
       "1    0.782062    2.082630    0.277403    1.210455     0.000000  \n",
       "2    0.651635    0.308680   -0.468779   -0.149079     1.581221  \n",
       "3   -0.715199    0.288735    1.393466   -2.587853    -0.730297  \n",
       "4   -0.294948    0.282899   -0.457735   -0.412257     1.002509  \n",
       "\n",
       "[5 rows x 1009 columns]"
      ]
     },
     "execution_count": 7,
     "metadata": {},
     "output_type": "execute_result"
    }
   ],
   "source": [
    "M,E,S = 5,1,1000\n",
    "\n",
    "\n",
    "tests1 = LIMts_test(train=train,\n",
    "                    dev=dev,\n",
    "                    train_transformation=entailment_internalization,\n",
    "                    dev_transformation=entailment_internalization,\n",
    "                    rho=0.78,\n",
    "                    Model=LRWrapper,\n",
    "                    hyperparams=hyperparams,\n",
    "                    M=M,\n",
    "                    E=E,\n",
    "                    S=S)\n",
    "\n",
    "tests1"
   ]
  },
  {
   "cell_type": "markdown",
   "metadata": {},
   "source": [
    "### Diferent bootstrap distributions for each experiment"
   ]
  },
  {
   "cell_type": "code",
   "execution_count": 8,
   "metadata": {},
   "outputs": [
    {
     "data": {
      "image/png": "[encoded data removed]",
      "text/plain": [
       "<Figure size 432x288 with 1 Axes>"
      ]
     },
     "metadata": {
      "needs_background": "light"
     },
     "output_type": "display_data"
    }
   ],
   "source": [
    "tests1.iloc[0][[\"boot_t_{}\".format(i+1) for i in range(S)]].hist();\n",
    "tests1.iloc[2][[\"boot_t_{}\".format(i+1) for i in range(S)]].hist();\n",
    "tests1.iloc[3][[\"boot_t_{}\".format(i+1) for i in range(S)]].hist();"
   ]
  },
  {
   "cell_type": "markdown",
   "metadata": {},
   "source": [
    "**test2: toy transformation**"
   ]
  },
  {
   "cell_type": "code",
   "execution_count": 9,
   "metadata": {},
   "outputs": [
    {
     "data": {
      "text/html": [
       "<div>\n",
       "<style scoped>\n",
       "    .dataframe tbody tr th:only-of-type {\n",
       "        vertical-align: middle;\n",
       "    }\n",
       "\n",
       "    .dataframe tbody tr th {\n",
       "        vertical-align: top;\n",
       "    }\n",
       "\n",
       "    .dataframe thead th {\n",
       "        text-align: right;\n",
       "    }\n",
       "</style>\n",
       "<table border=\"1\" class=\"dataframe\">\n",
       "  <thead>\n",
       "    <tr style=\"text-align: right;\">\n",
       "      <th></th>\n",
       "      <th>m</th>\n",
       "      <th>e</th>\n",
       "      <th>validation_accuracy</th>\n",
       "      <th>transformed_validation_accuracy</th>\n",
       "      <th>observable_t_stats</th>\n",
       "      <th>p_value</th>\n",
       "      <th>transformation_time</th>\n",
       "      <th>training_time</th>\n",
       "      <th>test_time</th>\n",
       "      <th>boot_t_1</th>\n",
       "      <th>...</th>\n",
       "      <th>boot_t_991</th>\n",
       "      <th>boot_t_992</th>\n",
       "      <th>boot_t_993</th>\n",
       "      <th>boot_t_994</th>\n",
       "      <th>boot_t_995</th>\n",
       "      <th>boot_t_996</th>\n",
       "      <th>boot_t_997</th>\n",
       "      <th>boot_t_998</th>\n",
       "      <th>boot_t_999</th>\n",
       "      <th>boot_t_1000</th>\n",
       "    </tr>\n",
       "  </thead>\n",
       "  <tbody>\n",
       "    <tr>\n",
       "      <th>0</th>\n",
       "      <td>1</td>\n",
       "      <td>1</td>\n",
       "      <td>0.210</td>\n",
       "      <td>0.215</td>\n",
       "      <td>-0.258242</td>\n",
       "      <td>0.834</td>\n",
       "      <td>0.006319</td>\n",
       "      <td>0.050345</td>\n",
       "      <td>2.900291</td>\n",
       "      <td>1.710117</td>\n",
       "      <td>...</td>\n",
       "      <td>1.347719</td>\n",
       "      <td>0.301580</td>\n",
       "      <td>-2.264554</td>\n",
       "      <td>0.785674</td>\n",
       "      <td>1.072113</td>\n",
       "      <td>1.347719</td>\n",
       "      <td>0.944911</td>\n",
       "      <td>0.707992</td>\n",
       "      <td>0.833494</td>\n",
       "      <td>-0.242571</td>\n",
       "    </tr>\n",
       "    <tr>\n",
       "      <th>1</th>\n",
       "      <td>2</td>\n",
       "      <td>1</td>\n",
       "      <td>0.215</td>\n",
       "      <td>0.220</td>\n",
       "      <td>-0.301580</td>\n",
       "      <td>0.798</td>\n",
       "      <td>0.004953</td>\n",
       "      <td>0.048887</td>\n",
       "      <td>2.664079</td>\n",
       "      <td>-1.270001</td>\n",
       "      <td>...</td>\n",
       "      <td>0.000000</td>\n",
       "      <td>0.534905</td>\n",
       "      <td>-0.689064</td>\n",
       "      <td>-1.643990</td>\n",
       "      <td>1.421338</td>\n",
       "      <td>0.000000</td>\n",
       "      <td>-1.613977</td>\n",
       "      <td>1.914677</td>\n",
       "      <td>-0.333426</td>\n",
       "      <td>0.000000</td>\n",
       "    </tr>\n",
       "    <tr>\n",
       "      <th>2</th>\n",
       "      <td>3</td>\n",
       "      <td>1</td>\n",
       "      <td>0.220</td>\n",
       "      <td>0.220</td>\n",
       "      <td>0.000000</td>\n",
       "      <td>0.936</td>\n",
       "      <td>0.003973</td>\n",
       "      <td>0.045165</td>\n",
       "      <td>2.770225</td>\n",
       "      <td>2.145596</td>\n",
       "      <td>...</td>\n",
       "      <td>-0.707992</td>\n",
       "      <td>0.500313</td>\n",
       "      <td>-0.775761</td>\n",
       "      <td>0.000000</td>\n",
       "      <td>-0.817861</td>\n",
       "      <td>0.258242</td>\n",
       "      <td>0.000000</td>\n",
       "      <td>1.158569</td>\n",
       "      <td>1.002509</td>\n",
       "      <td>1.002509</td>\n",
       "    </tr>\n",
       "    <tr>\n",
       "      <th>3</th>\n",
       "      <td>4</td>\n",
       "      <td>1</td>\n",
       "      <td>0.225</td>\n",
       "      <td>0.230</td>\n",
       "      <td>-0.378100</td>\n",
       "      <td>0.734</td>\n",
       "      <td>0.005162</td>\n",
       "      <td>0.056518</td>\n",
       "      <td>2.730058</td>\n",
       "      <td>0.633089</td>\n",
       "      <td>...</td>\n",
       "      <td>1.002509</td>\n",
       "      <td>-1.270001</td>\n",
       "      <td>-0.817861</td>\n",
       "      <td>0.707992</td>\n",
       "      <td>0.378100</td>\n",
       "      <td>-1.137556</td>\n",
       "      <td>1.002509</td>\n",
       "      <td>-0.333426</td>\n",
       "      <td>-1.745189</td>\n",
       "      <td>0.378100</td>\n",
       "    </tr>\n",
       "    <tr>\n",
       "      <th>4</th>\n",
       "      <td>5</td>\n",
       "      <td>1</td>\n",
       "      <td>0.210</td>\n",
       "      <td>0.225</td>\n",
       "      <td>-0.906390</td>\n",
       "      <td>0.392</td>\n",
       "      <td>0.003781</td>\n",
       "      <td>0.047217</td>\n",
       "      <td>2.452296</td>\n",
       "      <td>2.535966</td>\n",
       "      <td>...</td>\n",
       "      <td>0.000000</td>\n",
       "      <td>-1.678363</td>\n",
       "      <td>0.000000</td>\n",
       "      <td>0.577832</td>\n",
       "      <td>-0.277403</td>\n",
       "      <td>-1.072113</td>\n",
       "      <td>0.000000</td>\n",
       "      <td>1.217161</td>\n",
       "      <td>-0.277403</td>\n",
       "      <td>0.534905</td>\n",
       "    </tr>\n",
       "  </tbody>\n",
       "</table>\n",
       "<p>5 rows × 1009 columns</p>\n",
       "</div>"
      ],
      "text/plain": [
       "   m  e  validation_accuracy  transformed_validation_accuracy  \\\n",
       "0  1  1                0.210                            0.215   \n",
       "1  2  1                0.215                            0.220   \n",
       "2  3  1                0.220                            0.220   \n",
       "3  4  1                0.225                            0.230   \n",
       "4  5  1                0.210                            0.225   \n",
       "\n",
       "   observable_t_stats  p_value  transformation_time  training_time  test_time  \\\n",
       "0           -0.258242    0.834             0.006319       0.050345   2.900291   \n",
       "1           -0.301580    0.798             0.004953       0.048887   2.664079   \n",
       "2            0.000000    0.936             0.003973       0.045165   2.770225   \n",
       "3           -0.378100    0.734             0.005162       0.056518   2.730058   \n",
       "4           -0.906390    0.392             0.003781       0.047217   2.452296   \n",
       "\n",
       "   boot_t_1  ...  boot_t_991  boot_t_992  boot_t_993  boot_t_994  boot_t_995  \\\n",
       "0  1.710117  ...    1.347719    0.301580   -2.264554    0.785674    1.072113   \n",
       "1 -1.270001  ...    0.000000    0.534905   -0.689064   -1.643990    1.421338   \n",
       "2  2.145596  ...   -0.707992    0.500313   -0.775761    0.000000   -0.817861   \n",
       "3  0.633089  ...    1.002509   -1.270001   -0.817861    0.707992    0.378100   \n",
       "4  2.535966  ...    0.000000   -1.678363    0.000000    0.577832   -0.277403   \n",
       "\n",
       "   boot_t_996  boot_t_997  boot_t_998  boot_t_999  boot_t_1000  \n",
       "0    1.347719    0.944911    0.707992    0.833494    -0.242571  \n",
       "1    0.000000   -1.613977    1.914677   -0.333426     0.000000  \n",
       "2    0.258242    0.000000    1.158569    1.002509     1.002509  \n",
       "3   -1.137556    1.002509   -0.333426   -1.745189     0.378100  \n",
       "4   -1.072113    0.000000    1.217161   -0.277403     0.534905  \n",
       "\n",
       "[5 rows x 1009 columns]"
      ]
     },
     "execution_count": 9,
     "metadata": {},
     "output_type": "execute_result"
    }
   ],
   "source": [
    "tests2 = LIMts_test(train=train,\n",
    "                   dev=dev,\n",
    "                   train_transformation=toy_transformation,\n",
    "                   dev_transformation=toy_transformation,\n",
    "                   rho=0.78,\n",
    "                   Model=LRWrapper,\n",
    "                   hyperparams=hyperparams,\n",
    "                   M=M,\n",
    "                   E=E,\n",
    "                   S=S)\n",
    "\n",
    "tests2"
   ]
  },
  {
   "cell_type": "code",
   "execution_count": 10,
   "metadata": {},
   "outputs": [
    {
     "data": {
      "image/png": "[encoded data removed]",
      "text/plain": [
       "<Figure size 432x288 with 1 Axes>"
      ]
     },
     "metadata": {
      "needs_background": "light"
     },
     "output_type": "display_data"
    }
   ],
   "source": [
    "tests2.iloc[0][[\"boot_t_{}\".format(i+1) for i in range(S)]].hist();\n",
    "tests2.iloc[2][[\"boot_t_{}\".format(i+1) for i in range(S)]].hist();\n",
    "tests2.iloc[3][[\"boot_t_{}\".format(i+1) for i in range(S)]].hist();"
   ]
  },
  {
   "cell_type": "code",
   "execution_count": 11,
   "metadata": {},
   "outputs": [],
   "source": [
    "assert np.all(tests1.p_value < (0.05/M*E))\n",
    "assert not np.all(tests2.p_value < (0.05/M*E))"
   ]
  },
  {
   "cell_type": "code",
   "execution_count": null,
   "metadata": {},
   "outputs": [],
   "source": []
  },
  {
   "cell_type": "code",
   "execution_count": null,
   "metadata": {},
   "outputs": [],
   "source": []
  }
 ],
 "metadata": {
  "kernelspec": {
   "display_name": "Python 3",
   "language": "python",
   "name": "python3"
  },
  "language_info": {
   "codemirror_mode": {
    "name": "ipython",
    "version": 3
   },
   "file_extension": ".py",
   "mimetype": "text/x-python",
   "name": "python",
   "nbconvert_exporter": "python",
   "pygments_lexer": "ipython3",
   "version": "3.6.8"
  }
 },
 "nbformat": 4,
 "nbformat_minor": 2
}
