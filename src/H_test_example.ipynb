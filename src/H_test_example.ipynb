{
 "cells": [
  {
   "cell_type": "code",
   "execution_count": 1,
   "metadata": {},
   "outputs": [],
   "source": [
    "import pandas as pd\n",
    "import numpy as np\n",
    "import matplotlib.pyplot as plt\n",
    "import seaborn as sns\n",
    "from lr.text_processing.util import pre_process_nli_df\n",
    "from lr.training.util import get_ternary_label\n",
    "from lr.text_processing.transformations.structural import entailment_internalization\n",
    "from lr.text_processing.transformations.synonyms import toy_transformation\n",
    "from lr.stats.h_testing import DGP, get_matched_results, get_paired_t_statistic\n",
    "from lr.stats.h_testing import get_boot_sample_under_H0,get_boot_p_value\n",
    "from lr.stats.h_testing import  LIMts_test\n",
    "from lr.training.language_representation import Tfidf\n",
    "from lr.models.logistic_regression import LRWrapper\n",
    "import warnings\n",
    "warnings.filterwarnings(\"ignore\", category=RuntimeWarning)"
   ]
  },
  {
   "cell_type": "markdown",
   "metadata": {},
   "source": [
    "### Loading data"
   ]
  },
  {
   "cell_type": "code",
   "execution_count": 2,
   "metadata": {},
   "outputs": [],
   "source": [
    "train_path = \"data/toy/train.csv\"\n",
    "dev_path = \"data/toy/dev.csv\"\n",
    "train = pd.read_csv(train_path)\n",
    "dev = pd.read_csv(dev_path)\n",
    "pre_process_nli_df(train)\n",
    "pre_process_nli_df(dev)"
   ]
  },
  {
   "cell_type": "markdown",
   "metadata": {},
   "source": [
    "### Training a model using one version of the modified data"
   ]
  },
  {
   "cell_type": "code",
   "execution_count": 3,
   "metadata": {},
   "outputs": [],
   "source": [
    "max_features = 500\n",
    "rho = 0.001\n",
    "label_translation = get_ternary_label\n",
    "transformation = entailment_internalization \n",
    "\n",
    "dgp = DGP(data=train, transformation=transformation, rho=rho)\n",
    "train_t = dgp.get_sample()\n",
    "\n",
    "hyperparams = {\"RepresentationFunction\": Tfidf,\n",
    "               \"max_features\": max_features,\n",
    "               \"label_translation\": label_translation,\n",
    "               \"penalty\": \"l2\",\n",
    "               \"C\": 1,\n",
    "               'solver': 'lbfgs'}\n",
    "lr = LRWrapper(hyperparams)\n",
    "lr.fit(train_t)"
   ]
  },
  {
   "cell_type": "markdown",
   "metadata": {},
   "source": [
    "### Get t statistic for the observable results and matched results"
   ]
  },
  {
   "cell_type": "code",
   "execution_count": 4,
   "metadata": {},
   "outputs": [
    {
     "name": "stdout",
     "output_type": "stream",
     "text": [
      "-1.536514528773881\n"
     ]
    }
   ],
   "source": [
    "dev_t = transformation(dev)\n",
    "\n",
    "results = get_matched_results(dev, dev_t, lr, lr.label_translation)\n",
    "t_obs = get_paired_t_statistic(results)\n",
    "\n",
    "print(t_obs)"
   ]
  },
  {
   "cell_type": "markdown",
   "metadata": {},
   "source": [
    "### Get $S$ bootstrap replications under H0"
   ]
  },
  {
   "cell_type": "code",
   "execution_count": 5,
   "metadata": {},
   "outputs": [],
   "source": [
    "S = 1000\n",
    "t_boots = []\n",
    "for _ in range(S):\n",
    "    boot_sample = get_boot_sample_under_H0(results)\n",
    "    t = get_paired_t_statistic(boot_sample)\n",
    "    t_boots.append(t)\n",
    "\n",
    "t_boots = pd.Series(t_boots)"
   ]
  },
  {
   "cell_type": "markdown",
   "metadata": {},
   "source": [
    "### Calculating the associated p-value"
   ]
  },
  {
   "cell_type": "code",
   "execution_count": 6,
   "metadata": {},
   "outputs": [
    {
     "data": {
      "image/png": "[encoded data removed]",
      "text/plain": [
       "<Figure size 720x360 with 1 Axes>"
      ]
     },
     "metadata": {
      "needs_background": "light"
     },
     "output_type": "display_data"
    }
   ],
   "source": [
    "p_value = get_boot_p_value(t_boots, t_obs)\n",
    "\n",
    "fig, ax = plt.subplots(figsize=(10,5))\n",
    "t_boots.hist(ax=ax, label=\"bootstrap replications\");\n",
    "plt.axvline(x=t_obs, color='r', linestyle='-', label=\"observed\");\n",
    "ax.set_xlabel(\"t\", fontsize=14);\n",
    "ax.set_ylabel(\"frequency\", fontsize=14);\n",
    "ax.set_title(\"Bootstrap test histogram (p-value = {:.8f})\".format(p_value) +\"\\n\", fontsize=16)\n",
    "plt.legend(loc=\"best\");"
   ]
  },
  {
   "cell_type": "markdown",
   "metadata": {},
   "source": [
    "### Performing multiple tests\n",
    "\n",
    "**test1: entailment internalization**"
   ]
  },
  {
   "cell_type": "code",
   "execution_count": 7,
   "metadata": {},
   "outputs": [
    {
     "data": {
      "text/html": [
       "<div>\n",
       "<style scoped>\n",
       "    .dataframe tbody tr th:only-of-type {\n",
       "        vertical-align: middle;\n",
       "    }\n",
       "\n",
       "    .dataframe tbody tr th {\n",
       "        vertical-align: top;\n",
       "    }\n",
       "\n",
       "    .dataframe thead th {\n",
       "        text-align: right;\n",
       "    }\n",
       "</style>\n",
       "<table border=\"1\" class=\"dataframe\">\n",
       "  <thead>\n",
       "    <tr style=\"text-align: right;\">\n",
       "      <th></th>\n",
       "      <th>m</th>\n",
       "      <th>e</th>\n",
       "      <th>observable_t_stats</th>\n",
       "      <th>p_value</th>\n",
       "      <th>time</th>\n",
       "      <th>boot_t_1</th>\n",
       "      <th>boot_t_2</th>\n",
       "      <th>boot_t_3</th>\n",
       "      <th>boot_t_4</th>\n",
       "      <th>boot_t_5</th>\n",
       "      <th>...</th>\n",
       "      <th>boot_t_991</th>\n",
       "      <th>boot_t_992</th>\n",
       "      <th>boot_t_993</th>\n",
       "      <th>boot_t_994</th>\n",
       "      <th>boot_t_995</th>\n",
       "      <th>boot_t_996</th>\n",
       "      <th>boot_t_997</th>\n",
       "      <th>boot_t_998</th>\n",
       "      <th>boot_t_999</th>\n",
       "      <th>boot_t_1000</th>\n",
       "    </tr>\n",
       "  </thead>\n",
       "  <tbody>\n",
       "    <tr>\n",
       "      <th>0</th>\n",
       "      <td>1</td>\n",
       "      <td>1</td>\n",
       "      <td>-7.510676</td>\n",
       "      <td>0.0</td>\n",
       "      <td>2.280654</td>\n",
       "      <td>-2.292273</td>\n",
       "      <td>0.906390</td>\n",
       "      <td>1.091902</td>\n",
       "      <td>-0.447437</td>\n",
       "      <td>-1.046351</td>\n",
       "      <td>...</td>\n",
       "      <td>-0.590281</td>\n",
       "      <td>-0.730297</td>\n",
       "      <td>0.437805</td>\n",
       "      <td>0.785674</td>\n",
       "      <td>-1.046351</td>\n",
       "      <td>0.000000</td>\n",
       "      <td>-1.516196</td>\n",
       "      <td>0.000000</td>\n",
       "      <td>0.577832</td>\n",
       "      <td>-1.183660</td>\n",
       "    </tr>\n",
       "    <tr>\n",
       "      <th>1</th>\n",
       "      <td>2</td>\n",
       "      <td>1</td>\n",
       "      <td>-8.056095</td>\n",
       "      <td>0.0</td>\n",
       "      <td>2.326341</td>\n",
       "      <td>-0.137367</td>\n",
       "      <td>-0.662994</td>\n",
       "      <td>0.428768</td>\n",
       "      <td>0.428768</td>\n",
       "      <td>-0.437805</td>\n",
       "      <td>...</td>\n",
       "      <td>-0.140035</td>\n",
       "      <td>1.378997</td>\n",
       "      <td>-1.023727</td>\n",
       "      <td>-1.318761</td>\n",
       "      <td>0.437805</td>\n",
       "      <td>-0.137367</td>\n",
       "      <td>0.447437</td>\n",
       "      <td>-0.701000</td>\n",
       "      <td>-0.730297</td>\n",
       "      <td>0.566139</td>\n",
       "    </tr>\n",
       "    <tr>\n",
       "      <th>2</th>\n",
       "      <td>3</td>\n",
       "      <td>1</td>\n",
       "      <td>-7.620008</td>\n",
       "      <td>0.0</td>\n",
       "      <td>2.350477</td>\n",
       "      <td>-0.715199</td>\n",
       "      <td>0.149079</td>\n",
       "      <td>-0.823387</td>\n",
       "      <td>-2.086533</td>\n",
       "      <td>0.156183</td>\n",
       "      <td>...</td>\n",
       "      <td>-0.603572</td>\n",
       "      <td>0.142864</td>\n",
       "      <td>-0.324528</td>\n",
       "      <td>0.294948</td>\n",
       "      <td>-0.633089</td>\n",
       "      <td>0.000000</td>\n",
       "      <td>0.000000</td>\n",
       "      <td>-0.730297</td>\n",
       "      <td>0.132459</td>\n",
       "      <td>-0.160138</td>\n",
       "    </tr>\n",
       "    <tr>\n",
       "      <th>3</th>\n",
       "      <td>4</td>\n",
       "      <td>1</td>\n",
       "      <td>-8.056095</td>\n",
       "      <td>0.0</td>\n",
       "      <td>2.950548</td>\n",
       "      <td>-0.929172</td>\n",
       "      <td>0.420269</td>\n",
       "      <td>-1.053361</td>\n",
       "      <td>-0.850060</td>\n",
       "      <td>-0.577832</td>\n",
       "      <td>...</td>\n",
       "      <td>-0.945989</td>\n",
       "      <td>0.000000</td>\n",
       "      <td>0.447437</td>\n",
       "      <td>0.324528</td>\n",
       "      <td>0.555127</td>\n",
       "      <td>-1.650919</td>\n",
       "      <td>0.282899</td>\n",
       "      <td>-0.282899</td>\n",
       "      <td>-0.590281</td>\n",
       "      <td>1.291061</td>\n",
       "    </tr>\n",
       "    <tr>\n",
       "      <th>4</th>\n",
       "      <td>5</td>\n",
       "      <td>1</td>\n",
       "      <td>-8.056095</td>\n",
       "      <td>0.0</td>\n",
       "      <td>3.150721</td>\n",
       "      <td>0.850060</td>\n",
       "      <td>1.158569</td>\n",
       "      <td>-0.397517</td>\n",
       "      <td>0.397517</td>\n",
       "      <td>0.137367</td>\n",
       "      <td>...</td>\n",
       "      <td>-1.072113</td>\n",
       "      <td>1.270001</td>\n",
       "      <td>0.000000</td>\n",
       "      <td>-0.152507</td>\n",
       "      <td>-0.500313</td>\n",
       "      <td>0.603572</td>\n",
       "      <td>0.566139</td>\n",
       "      <td>-1.393466</td>\n",
       "      <td>0.913220</td>\n",
       "      <td>-0.301580</td>\n",
       "    </tr>\n",
       "  </tbody>\n",
       "</table>\n",
       "<p>5 rows × 1005 columns</p>\n",
       "</div>"
      ],
      "text/plain": [
       "   m  e  observable_t_stats  p_value      time  boot_t_1  boot_t_2  boot_t_3  \\\n",
       "0  1  1           -7.510676      0.0  2.280654 -2.292273  0.906390  1.091902   \n",
       "1  2  1           -8.056095      0.0  2.326341 -0.137367 -0.662994  0.428768   \n",
       "2  3  1           -7.620008      0.0  2.350477 -0.715199  0.149079 -0.823387   \n",
       "3  4  1           -8.056095      0.0  2.950548 -0.929172  0.420269 -1.053361   \n",
       "4  5  1           -8.056095      0.0  3.150721  0.850060  1.158569 -0.397517   \n",
       "\n",
       "   boot_t_4  boot_t_5  ...  boot_t_991  boot_t_992  boot_t_993  boot_t_994  \\\n",
       "0 -0.447437 -1.046351  ...   -0.590281   -0.730297    0.437805    0.785674   \n",
       "1  0.428768 -0.437805  ...   -0.140035    1.378997   -1.023727   -1.318761   \n",
       "2 -2.086533  0.156183  ...   -0.603572    0.142864   -0.324528    0.294948   \n",
       "3 -0.850060 -0.577832  ...   -0.945989    0.000000    0.447437    0.324528   \n",
       "4  0.397517  0.137367  ...   -1.072113    1.270001    0.000000   -0.152507   \n",
       "\n",
       "   boot_t_995  boot_t_996  boot_t_997  boot_t_998  boot_t_999  boot_t_1000  \n",
       "0   -1.046351    0.000000   -1.516196    0.000000    0.577832    -1.183660  \n",
       "1    0.437805   -0.137367    0.447437   -0.701000   -0.730297     0.566139  \n",
       "2   -0.633089    0.000000    0.000000   -0.730297    0.132459    -0.160138  \n",
       "3    0.555127   -1.650919    0.282899   -0.282899   -0.590281     1.291061  \n",
       "4   -0.500313    0.603572    0.566139   -1.393466    0.913220    -0.301580  \n",
       "\n",
       "[5 rows x 1005 columns]"
      ]
     },
     "execution_count": 7,
     "metadata": {},
     "output_type": "execute_result"
    }
   ],
   "source": [
    "M,E,S = 5,1,1000\n",
    "\n",
    "\n",
    "tests1 = LIMts_test(train=train,\n",
    "                    dev=dev,\n",
    "                    transformation=entailment_internalization,\n",
    "                    rho=0.78,\n",
    "                    Model=LRWrapper,\n",
    "                    hyperparams=hyperparams,\n",
    "                    M=M,\n",
    "                    E=E,\n",
    "                    S=S)\n",
    "\n",
    "tests1"
   ]
  },
  {
   "cell_type": "markdown",
   "metadata": {},
   "source": [
    "### Diferent bootstrap distributions for each experiment"
   ]
  },
  {
   "cell_type": "code",
   "execution_count": 8,
   "metadata": {},
   "outputs": [
    {
     "data": {
      "image/png": "[encoded data removed]",
      "text/plain": [
       "<Figure size 432x288 with 1 Axes>"
      ]
     },
     "metadata": {
      "needs_background": "light"
     },
     "output_type": "display_data"
    }
   ],
   "source": [
    "tests1.iloc[0][[\"boot_t_{}\".format(i+1) for i in range(S)]].hist();\n",
    "tests1.iloc[2][[\"boot_t_{}\".format(i+1) for i in range(S)]].hist();\n",
    "tests1.iloc[3][[\"boot_t_{}\".format(i+1) for i in range(S)]].hist();"
   ]
  },
  {
   "cell_type": "markdown",
   "metadata": {},
   "source": [
    "**test2: toy transformation**"
   ]
  },
  {
   "cell_type": "code",
   "execution_count": 9,
   "metadata": {},
   "outputs": [
    {
     "data": {
      "text/html": [
       "<div>\n",
       "<style scoped>\n",
       "    .dataframe tbody tr th:only-of-type {\n",
       "        vertical-align: middle;\n",
       "    }\n",
       "\n",
       "    .dataframe tbody tr th {\n",
       "        vertical-align: top;\n",
       "    }\n",
       "\n",
       "    .dataframe thead th {\n",
       "        text-align: right;\n",
       "    }\n",
       "</style>\n",
       "<table border=\"1\" class=\"dataframe\">\n",
       "  <thead>\n",
       "    <tr style=\"text-align: right;\">\n",
       "      <th></th>\n",
       "      <th>m</th>\n",
       "      <th>e</th>\n",
       "      <th>observable_t_stats</th>\n",
       "      <th>p_value</th>\n",
       "      <th>time</th>\n",
       "      <th>boot_t_1</th>\n",
       "      <th>boot_t_2</th>\n",
       "      <th>boot_t_3</th>\n",
       "      <th>boot_t_4</th>\n",
       "      <th>boot_t_5</th>\n",
       "      <th>...</th>\n",
       "      <th>boot_t_991</th>\n",
       "      <th>boot_t_992</th>\n",
       "      <th>boot_t_993</th>\n",
       "      <th>boot_t_994</th>\n",
       "      <th>boot_t_995</th>\n",
       "      <th>boot_t_996</th>\n",
       "      <th>boot_t_997</th>\n",
       "      <th>boot_t_998</th>\n",
       "      <th>boot_t_999</th>\n",
       "      <th>boot_t_1000</th>\n",
       "    </tr>\n",
       "  </thead>\n",
       "  <tbody>\n",
       "    <tr>\n",
       "      <th>0</th>\n",
       "      <td>1</td>\n",
       "      <td>1</td>\n",
       "      <td>2.487080</td>\n",
       "      <td>0.004</td>\n",
       "      <td>2.768560</td>\n",
       "      <td>2.145596</td>\n",
       "      <td>-1.347719</td>\n",
       "      <td>0.000000</td>\n",
       "      <td>-0.577832</td>\n",
       "      <td>-1.347719</td>\n",
       "      <td>...</td>\n",
       "      <td>-0.633089</td>\n",
       "      <td>0.817861</td>\n",
       "      <td>1.643990</td>\n",
       "      <td>-1.643990</td>\n",
       "      <td>1.158569</td>\n",
       "      <td>0.000000</td>\n",
       "      <td>0.000000</td>\n",
       "      <td>2.020305</td>\n",
       "      <td>-0.378100</td>\n",
       "      <td>1.137556</td>\n",
       "    </tr>\n",
       "    <tr>\n",
       "      <th>1</th>\n",
       "      <td>2</td>\n",
       "      <td>1</td>\n",
       "      <td>0.447437</td>\n",
       "      <td>0.656</td>\n",
       "      <td>2.747800</td>\n",
       "      <td>0.000000</td>\n",
       "      <td>0.000000</td>\n",
       "      <td>0.000000</td>\n",
       "      <td>-0.577832</td>\n",
       "      <td>0.000000</td>\n",
       "      <td>...</td>\n",
       "      <td>0.817861</td>\n",
       "      <td>-0.577832</td>\n",
       "      <td>-1.347719</td>\n",
       "      <td>1.002509</td>\n",
       "      <td>0.000000</td>\n",
       "      <td>0.000000</td>\n",
       "      <td>-0.817861</td>\n",
       "      <td>-1.002509</td>\n",
       "      <td>0.577832</td>\n",
       "      <td>0.447437</td>\n",
       "    </tr>\n",
       "    <tr>\n",
       "      <th>2</th>\n",
       "      <td>3</td>\n",
       "      <td>1</td>\n",
       "      <td>-0.577832</td>\n",
       "      <td>0.698</td>\n",
       "      <td>2.839052</td>\n",
       "      <td>-0.577832</td>\n",
       "      <td>1.421338</td>\n",
       "      <td>-0.447437</td>\n",
       "      <td>-0.447437</td>\n",
       "      <td>1.421338</td>\n",
       "      <td>...</td>\n",
       "      <td>NaN</td>\n",
       "      <td>-0.577832</td>\n",
       "      <td>-1.002509</td>\n",
       "      <td>-1.002509</td>\n",
       "      <td>1.421338</td>\n",
       "      <td>0.577832</td>\n",
       "      <td>-0.447437</td>\n",
       "      <td>-1.002509</td>\n",
       "      <td>1.421338</td>\n",
       "      <td>0.577832</td>\n",
       "    </tr>\n",
       "    <tr>\n",
       "      <th>3</th>\n",
       "      <td>4</td>\n",
       "      <td>1</td>\n",
       "      <td>-0.707992</td>\n",
       "      <td>0.548</td>\n",
       "      <td>2.690866</td>\n",
       "      <td>-0.333426</td>\n",
       "      <td>-0.534905</td>\n",
       "      <td>0.301580</td>\n",
       "      <td>2.535966</td>\n",
       "      <td>0.833494</td>\n",
       "      <td>...</td>\n",
       "      <td>-0.378100</td>\n",
       "      <td>0.447437</td>\n",
       "      <td>-0.378100</td>\n",
       "      <td>0.000000</td>\n",
       "      <td>-1.270001</td>\n",
       "      <td>1.137556</td>\n",
       "      <td>-1.137556</td>\n",
       "      <td>-1.643990</td>\n",
       "      <td>1.393466</td>\n",
       "      <td>1.421338</td>\n",
       "    </tr>\n",
       "    <tr>\n",
       "      <th>4</th>\n",
       "      <td>5</td>\n",
       "      <td>1</td>\n",
       "      <td>0.000000</td>\n",
       "      <td>0.908</td>\n",
       "      <td>2.996548</td>\n",
       "      <td>0.775761</td>\n",
       "      <td>0.534905</td>\n",
       "      <td>-0.277403</td>\n",
       "      <td>1.803339</td>\n",
       "      <td>-1.421338</td>\n",
       "      <td>...</td>\n",
       "      <td>-0.944911</td>\n",
       "      <td>0.896221</td>\n",
       "      <td>0.000000</td>\n",
       "      <td>-0.944911</td>\n",
       "      <td>-1.217161</td>\n",
       "      <td>0.000000</td>\n",
       "      <td>-0.471667</td>\n",
       "      <td>0.471667</td>\n",
       "      <td>-1.710117</td>\n",
       "      <td>-1.508509</td>\n",
       "    </tr>\n",
       "  </tbody>\n",
       "</table>\n",
       "<p>5 rows × 1005 columns</p>\n",
       "</div>"
      ],
      "text/plain": [
       "   m  e  observable_t_stats  p_value      time  boot_t_1  boot_t_2  boot_t_3  \\\n",
       "0  1  1            2.487080    0.004  2.768560  2.145596 -1.347719  0.000000   \n",
       "1  2  1            0.447437    0.656  2.747800  0.000000  0.000000  0.000000   \n",
       "2  3  1           -0.577832    0.698  2.839052 -0.577832  1.421338 -0.447437   \n",
       "3  4  1           -0.707992    0.548  2.690866 -0.333426 -0.534905  0.301580   \n",
       "4  5  1            0.000000    0.908  2.996548  0.775761  0.534905 -0.277403   \n",
       "\n",
       "   boot_t_4  boot_t_5  ...  boot_t_991  boot_t_992  boot_t_993  boot_t_994  \\\n",
       "0 -0.577832 -1.347719  ...   -0.633089    0.817861    1.643990   -1.643990   \n",
       "1 -0.577832  0.000000  ...    0.817861   -0.577832   -1.347719    1.002509   \n",
       "2 -0.447437  1.421338  ...         NaN   -0.577832   -1.002509   -1.002509   \n",
       "3  2.535966  0.833494  ...   -0.378100    0.447437   -0.378100    0.000000   \n",
       "4  1.803339 -1.421338  ...   -0.944911    0.896221    0.000000   -0.944911   \n",
       "\n",
       "   boot_t_995  boot_t_996  boot_t_997  boot_t_998  boot_t_999  boot_t_1000  \n",
       "0    1.158569    0.000000    0.000000    2.020305   -0.378100     1.137556  \n",
       "1    0.000000    0.000000   -0.817861   -1.002509    0.577832     0.447437  \n",
       "2    1.421338    0.577832   -0.447437   -1.002509    1.421338     0.577832  \n",
       "3   -1.270001    1.137556   -1.137556   -1.643990    1.393466     1.421338  \n",
       "4   -1.217161    0.000000   -0.471667    0.471667   -1.710117    -1.508509  \n",
       "\n",
       "[5 rows x 1005 columns]"
      ]
     },
     "execution_count": 9,
     "metadata": {},
     "output_type": "execute_result"
    }
   ],
   "source": [
    "tests2 = LIMts_test(train=train,\n",
    "                   dev=dev,\n",
    "                   transformation=toy_transformation,\n",
    "                   rho=0.78,\n",
    "                   Model=LRWrapper,\n",
    "                   hyperparams=hyperparams,\n",
    "                   M=M,\n",
    "                   E=E,\n",
    "                   S=S)\n",
    "\n",
    "tests2"
   ]
  },
  {
   "cell_type": "code",
   "execution_count": 10,
   "metadata": {},
   "outputs": [
    {
     "data": {
      "image/png": "[encoded data removed]",
      "text/plain": [
       "<Figure size 432x288 with 1 Axes>"
      ]
     },
     "metadata": {
      "needs_background": "light"
     },
     "output_type": "display_data"
    }
   ],
   "source": [
    "tests2.iloc[0][[\"boot_t_{}\".format(i+1) for i in range(S)]].hist();\n",
    "tests2.iloc[2][[\"boot_t_{}\".format(i+1) for i in range(S)]].hist();\n",
    "tests2.iloc[3][[\"boot_t_{}\".format(i+1) for i in range(S)]].hist();"
   ]
  },
  {
   "cell_type": "code",
   "execution_count": 11,
   "metadata": {},
   "outputs": [],
   "source": [
    "assert np.all(tests1.p_value < (0.05/M*E))\n",
    "assert not np.all(tests2.p_value < (0.05/M*E))"
   ]
  },
  {
   "cell_type": "code",
   "execution_count": null,
   "metadata": {},
   "outputs": [],
   "source": []
  },
  {
   "cell_type": "code",
   "execution_count": null,
   "metadata": {},
   "outputs": [],
   "source": []
  }
 ],
 "metadata": {
  "kernelspec": {
   "display_name": "Python 3",
   "language": "python",
   "name": "python3"
  },
  "language_info": {
   "codemirror_mode": {
    "name": "ipython",
    "version": 3
   },
   "file_extension": ".py",
   "mimetype": "text/x-python",
   "name": "python",
   "nbconvert_exporter": "python",
   "pygments_lexer": "ipython3",
   "version": "3.6.8"
  }
 },
 "nbformat": 4,
 "nbformat_minor": 2
}
