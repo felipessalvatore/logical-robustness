{
 "cells": [
  {
   "cell_type": "code",
   "execution_count": 1,
   "metadata": {},
   "outputs": [],
   "source": [
    "import pandas as pd\n",
    "import numpy as np\n",
    "import matplotlib.pyplot as plt\n",
    "import seaborn as sns\n",
    "from lr.text_processing.util import pre_process_nli_df\n",
    "from lr.training.util import get_ternary_label\n",
    "from lr.text_processing.transformations.structural import entailment_internalization\n",
    "from lr.text_processing.transformations.synonyms import toy_transformation\n",
    "from lr.stats.h_testing import DGP, get_matched_results, get_paired_t_statistic\n",
    "from lr.stats.h_testing import get_boot_sample_under_H0,get_boot_p_value\n",
    "from lr.stats.h_testing import  LIMts_test\n",
    "from lr.training.language_representation import Tfidf\n",
    "from lr.models.logistic_regression import LRWrapper\n",
    "import warnings\n",
    "warnings.filterwarnings(\"ignore\", category=RuntimeWarning)"
   ]
  },
  {
   "cell_type": "markdown",
   "metadata": {},
   "source": [
    "### Loading data"
   ]
  },
  {
   "cell_type": "code",
   "execution_count": 2,
   "metadata": {},
   "outputs": [],
   "source": [
    "train_path = \"data/toy/train.csv\"\n",
    "dev_path = \"data/toy/dev.csv\"\n",
    "train = pd.read_csv(train_path)\n",
    "dev = pd.read_csv(dev_path)\n",
    "pre_process_nli_df(train)\n",
    "pre_process_nli_df(dev)"
   ]
  },
  {
   "cell_type": "markdown",
   "metadata": {},
   "source": [
    "### Training a model using one version of the modified data"
   ]
  },
  {
   "cell_type": "code",
   "execution_count": 3,
   "metadata": {},
   "outputs": [],
   "source": [
    "max_features = 500\n",
    "rho = 0.001\n",
    "label_translation = get_ternary_label\n",
    "transformation = entailment_internalization \n",
    "\n",
    "dgp = DGP(data=train, transformation=transformation, rho=rho)\n",
    "train_t = dgp.get_sample()\n",
    "\n",
    "hyperparams = {\"RepresentationFunction\": Tfidf,\n",
    "               \"max_features\": max_features,\n",
    "               \"label_translation\": label_translation,\n",
    "               \"penalty\": \"l2\",\n",
    "               \"C\": 1,\n",
    "               'solver': 'lbfgs'}\n",
    "lr = LRWrapper(hyperparams)\n",
    "lr.fit(train_t)"
   ]
  },
  {
   "cell_type": "markdown",
   "metadata": {},
   "source": [
    "### Get t statistic for the observable results and matched results"
   ]
  },
  {
   "cell_type": "code",
   "execution_count": 4,
   "metadata": {},
   "outputs": [
    {
     "name": "stdout",
     "output_type": "stream",
     "text": [
      "-1.2964074471043285\n"
     ]
    }
   ],
   "source": [
    "dev_t = transformation(dev)\n",
    "\n",
    "results = get_matched_results(dev, dev_t, lr, lr.label_translation)\n",
    "t_obs = get_paired_t_statistic(results)\n",
    "\n",
    "print(t_obs)"
   ]
  },
  {
   "cell_type": "markdown",
   "metadata": {},
   "source": [
    "### Get $S$ bootstrap replications under H0"
   ]
  },
  {
   "cell_type": "code",
   "execution_count": 5,
   "metadata": {},
   "outputs": [],
   "source": [
    "S = 1000\n",
    "t_boots = []\n",
    "for _ in range(S):\n",
    "    boot_sample = get_boot_sample_under_H0(results)\n",
    "    t = get_paired_t_statistic(boot_sample)\n",
    "    t_boots.append(t)\n",
    "\n",
    "t_boots = pd.Series(t_boots)"
   ]
  },
  {
   "cell_type": "markdown",
   "metadata": {},
   "source": [
    "### Calculating the associated p-value"
   ]
  },
  {
   "cell_type": "code",
   "execution_count": 6,
   "metadata": {},
   "outputs": [
    {
     "data": {
      "image/png": "[encoded data removed]",
      "text/plain": [
       "<Figure size 720x360 with 1 Axes>"
      ]
     },
     "metadata": {
      "needs_background": "light"
     },
     "output_type": "display_data"
    }
   ],
   "source": [
    "p_value = get_boot_p_value(t_boots, t_obs)\n",
    "\n",
    "fig, ax = plt.subplots(figsize=(10,5))\n",
    "t_boots.hist(ax=ax, label=\"bootstrap replications\");\n",
    "plt.axvline(x=t_obs, color='r', linestyle='-', label=\"observed\");\n",
    "ax.set_xlabel(\"t\", fontsize=14);\n",
    "ax.set_ylabel(\"frequency\", fontsize=14);\n",
    "ax.set_title(\"Bootstrap test histogram (p-value = {:.8f})\".format(p_value) +\"\\n\", fontsize=16)\n",
    "plt.legend(loc=\"best\");"
   ]
  },
  {
   "cell_type": "markdown",
   "metadata": {},
   "source": [
    "### Performing multiple tests\n",
    "\n",
    "**test1: entailment internalization**"
   ]
  },
  {
   "cell_type": "code",
   "execution_count": 7,
   "metadata": {},
   "outputs": [
    {
     "data": {
      "text/html": [
       "<div>\n",
       "<style scoped>\n",
       "    .dataframe tbody tr th:only-of-type {\n",
       "        vertical-align: middle;\n",
       "    }\n",
       "\n",
       "    .dataframe tbody tr th {\n",
       "        vertical-align: top;\n",
       "    }\n",
       "\n",
       "    .dataframe thead th {\n",
       "        text-align: right;\n",
       "    }\n",
       "</style>\n",
       "<table border=\"1\" class=\"dataframe\">\n",
       "  <thead>\n",
       "    <tr style=\"text-align: right;\">\n",
       "      <th></th>\n",
       "      <th>experiment_index</th>\n",
       "      <th>observable_t_stats</th>\n",
       "      <th>p_value</th>\n",
       "      <th>boot_t_1</th>\n",
       "      <th>boot_t_2</th>\n",
       "      <th>boot_t_3</th>\n",
       "      <th>boot_t_4</th>\n",
       "      <th>boot_t_5</th>\n",
       "      <th>boot_t_6</th>\n",
       "      <th>boot_t_7</th>\n",
       "      <th>...</th>\n",
       "      <th>boot_t_991</th>\n",
       "      <th>boot_t_992</th>\n",
       "      <th>boot_t_993</th>\n",
       "      <th>boot_t_994</th>\n",
       "      <th>boot_t_995</th>\n",
       "      <th>boot_t_996</th>\n",
       "      <th>boot_t_997</th>\n",
       "      <th>boot_t_998</th>\n",
       "      <th>boot_t_999</th>\n",
       "      <th>boot_t_1000</th>\n",
       "    </tr>\n",
       "  </thead>\n",
       "  <tbody>\n",
       "    <tr>\n",
       "      <th>0</th>\n",
       "      <td>(1, 1)</td>\n",
       "      <td>-8.164966</td>\n",
       "      <td>0.0</td>\n",
       "      <td>1.046351</td>\n",
       "      <td>0.746393</td>\n",
       "      <td>0.534905</td>\n",
       "      <td>-0.277403</td>\n",
       "      <td>-1.913524</td>\n",
       "      <td>-0.803075</td>\n",
       "      <td>-0.525588</td>\n",
       "      <td>...</td>\n",
       "      <td>0.555127</td>\n",
       "      <td>-1.239156</td>\n",
       "      <td>0.687614</td>\n",
       "      <td>-1.491465</td>\n",
       "      <td>0.000000</td>\n",
       "      <td>0.128042</td>\n",
       "      <td>-0.134846</td>\n",
       "      <td>1.124435</td>\n",
       "      <td>-0.420269</td>\n",
       "      <td>-0.468779</td>\n",
       "    </tr>\n",
       "    <tr>\n",
       "      <th>1</th>\n",
       "      <td>(2, 1)</td>\n",
       "      <td>-8.273837</td>\n",
       "      <td>0.0</td>\n",
       "      <td>0.137367</td>\n",
       "      <td>0.000000</td>\n",
       "      <td>1.549526</td>\n",
       "      <td>0.000000</td>\n",
       "      <td>0.301580</td>\n",
       "      <td>-1.218053</td>\n",
       "      <td>0.294948</td>\n",
       "      <td>...</td>\n",
       "      <td>-0.412257</td>\n",
       "      <td>1.412558</td>\n",
       "      <td>-0.282899</td>\n",
       "      <td>-0.927810</td>\n",
       "      <td>-0.137367</td>\n",
       "      <td>-0.763109</td>\n",
       "      <td>0.404686</td>\n",
       "      <td>1.046351</td>\n",
       "      <td>0.282899</td>\n",
       "      <td>0.566139</td>\n",
       "    </tr>\n",
       "    <tr>\n",
       "      <th>2</th>\n",
       "      <td>(3, 1)</td>\n",
       "      <td>-8.164966</td>\n",
       "      <td>0.0</td>\n",
       "      <td>-1.393466</td>\n",
       "      <td>0.134846</td>\n",
       "      <td>1.275153</td>\n",
       "      <td>0.577832</td>\n",
       "      <td>0.000000</td>\n",
       "      <td>1.240996</td>\n",
       "      <td>0.982559</td>\n",
       "      <td>...</td>\n",
       "      <td>0.308680</td>\n",
       "      <td>0.282899</td>\n",
       "      <td>0.701000</td>\n",
       "      <td>1.023727</td>\n",
       "      <td>-0.272216</td>\n",
       "      <td>0.000000</td>\n",
       "      <td>-0.272216</td>\n",
       "      <td>0.833494</td>\n",
       "      <td>0.603572</td>\n",
       "      <td>-0.412257</td>\n",
       "    </tr>\n",
       "    <tr>\n",
       "      <th>3</th>\n",
       "      <td>(4, 1)</td>\n",
       "      <td>-8.164966</td>\n",
       "      <td>0.0</td>\n",
       "      <td>0.000000</td>\n",
       "      <td>0.566139</td>\n",
       "      <td>-0.746393</td>\n",
       "      <td>0.950825</td>\n",
       "      <td>-3.584247</td>\n",
       "      <td>-1.393466</td>\n",
       "      <td>-0.301580</td>\n",
       "      <td>...</td>\n",
       "      <td>0.577832</td>\n",
       "      <td>0.000000</td>\n",
       "      <td>-0.420269</td>\n",
       "      <td>0.428768</td>\n",
       "      <td>-0.651635</td>\n",
       "      <td>0.987128</td>\n",
       "      <td>-0.577832</td>\n",
       "      <td>0.132459</td>\n",
       "      <td>-0.950825</td>\n",
       "      <td>-0.687614</td>\n",
       "    </tr>\n",
       "    <tr>\n",
       "      <th>4</th>\n",
       "      <td>(5, 1)</td>\n",
       "      <td>-8.164966</td>\n",
       "      <td>0.0</td>\n",
       "      <td>0.437805</td>\n",
       "      <td>0.142864</td>\n",
       "      <td>0.000000</td>\n",
       "      <td>0.534905</td>\n",
       "      <td>-1.439477</td>\n",
       "      <td>0.000000</td>\n",
       "      <td>0.294948</td>\n",
       "      <td>...</td>\n",
       "      <td>0.420269</td>\n",
       "      <td>-0.651635</td>\n",
       "      <td>-1.070544</td>\n",
       "      <td>0.763604</td>\n",
       "      <td>0.867654</td>\n",
       "      <td>0.447437</td>\n",
       "      <td>-1.196337</td>\n",
       "      <td>0.000000</td>\n",
       "      <td>-0.577832</td>\n",
       "      <td>0.258242</td>\n",
       "    </tr>\n",
       "  </tbody>\n",
       "</table>\n",
       "<p>5 rows × 1003 columns</p>\n",
       "</div>"
      ],
      "text/plain": [
       "  experiment_index  observable_t_stats  p_value  boot_t_1  boot_t_2  boot_t_3  \\\n",
       "0           (1, 1)           -8.164966      0.0  1.046351  0.746393  0.534905   \n",
       "1           (2, 1)           -8.273837      0.0  0.137367  0.000000  1.549526   \n",
       "2           (3, 1)           -8.164966      0.0 -1.393466  0.134846  1.275153   \n",
       "3           (4, 1)           -8.164966      0.0  0.000000  0.566139 -0.746393   \n",
       "4           (5, 1)           -8.164966      0.0  0.437805  0.142864  0.000000   \n",
       "\n",
       "   boot_t_4  boot_t_5  boot_t_6  boot_t_7  ...  boot_t_991  boot_t_992  \\\n",
       "0 -0.277403 -1.913524 -0.803075 -0.525588  ...    0.555127   -1.239156   \n",
       "1  0.000000  0.301580 -1.218053  0.294948  ...   -0.412257    1.412558   \n",
       "2  0.577832  0.000000  1.240996  0.982559  ...    0.308680    0.282899   \n",
       "3  0.950825 -3.584247 -1.393466 -0.301580  ...    0.577832    0.000000   \n",
       "4  0.534905 -1.439477  0.000000  0.294948  ...    0.420269   -0.651635   \n",
       "\n",
       "   boot_t_993  boot_t_994  boot_t_995  boot_t_996  boot_t_997  boot_t_998  \\\n",
       "0    0.687614   -1.491465    0.000000    0.128042   -0.134846    1.124435   \n",
       "1   -0.282899   -0.927810   -0.137367   -0.763109    0.404686    1.046351   \n",
       "2    0.701000    1.023727   -0.272216    0.000000   -0.272216    0.833494   \n",
       "3   -0.420269    0.428768   -0.651635    0.987128   -0.577832    0.132459   \n",
       "4   -1.070544    0.763604    0.867654    0.447437   -1.196337    0.000000   \n",
       "\n",
       "   boot_t_999  boot_t_1000  \n",
       "0   -0.420269    -0.468779  \n",
       "1    0.282899     0.566139  \n",
       "2    0.603572    -0.412257  \n",
       "3   -0.950825    -0.687614  \n",
       "4   -0.577832     0.258242  \n",
       "\n",
       "[5 rows x 1003 columns]"
      ]
     },
     "execution_count": 7,
     "metadata": {},
     "output_type": "execute_result"
    }
   ],
   "source": [
    "M,E,S = 5,1,1000\n",
    "\n",
    "\n",
    "tests1 = LIMts_test(train=train,\n",
    "                   dev=dev,\n",
    "                   transformation=entailment_internalization,\n",
    "                   rho=0.78,\n",
    "                   Model=LRWrapper,\n",
    "                   hyperparams=hyperparams,\n",
    "                   M=M,\n",
    "                   E=E,\n",
    "                   S=S)\n",
    "\n",
    "tests1"
   ]
  },
  {
   "cell_type": "markdown",
   "metadata": {},
   "source": [
    "### Diferent bootstrap distributions for each experiment"
   ]
  },
  {
   "cell_type": "code",
   "execution_count": 8,
   "metadata": {},
   "outputs": [
    {
     "data": {
      "image/png": "[encoded data removed]",
      "text/plain": [
       "<Figure size 432x288 with 1 Axes>"
      ]
     },
     "metadata": {
      "needs_background": "light"
     },
     "output_type": "display_data"
    }
   ],
   "source": [
    "tests1.iloc[0][[\"boot_t_{}\".format(i+1) for i in range(S)]].hist();\n",
    "tests1.iloc[2][[\"boot_t_{}\".format(i+1) for i in range(S)]].hist();\n",
    "tests1.iloc[3][[\"boot_t_{}\".format(i+1) for i in range(S)]].hist();"
   ]
  },
  {
   "cell_type": "markdown",
   "metadata": {},
   "source": [
    "**test2: toy transformation**"
   ]
  },
  {
   "cell_type": "code",
   "execution_count": 9,
   "metadata": {},
   "outputs": [
    {
     "data": {
      "text/html": [
       "<div>\n",
       "<style scoped>\n",
       "    .dataframe tbody tr th:only-of-type {\n",
       "        vertical-align: middle;\n",
       "    }\n",
       "\n",
       "    .dataframe tbody tr th {\n",
       "        vertical-align: top;\n",
       "    }\n",
       "\n",
       "    .dataframe thead th {\n",
       "        text-align: right;\n",
       "    }\n",
       "</style>\n",
       "<table border=\"1\" class=\"dataframe\">\n",
       "  <thead>\n",
       "    <tr style=\"text-align: right;\">\n",
       "      <th></th>\n",
       "      <th>experiment_index</th>\n",
       "      <th>observable_t_stats</th>\n",
       "      <th>p_value</th>\n",
       "      <th>boot_t_1</th>\n",
       "      <th>boot_t_2</th>\n",
       "      <th>boot_t_3</th>\n",
       "      <th>boot_t_4</th>\n",
       "      <th>boot_t_5</th>\n",
       "      <th>boot_t_6</th>\n",
       "      <th>boot_t_7</th>\n",
       "      <th>...</th>\n",
       "      <th>boot_t_991</th>\n",
       "      <th>boot_t_992</th>\n",
       "      <th>boot_t_993</th>\n",
       "      <th>boot_t_994</th>\n",
       "      <th>boot_t_995</th>\n",
       "      <th>boot_t_996</th>\n",
       "      <th>boot_t_997</th>\n",
       "      <th>boot_t_998</th>\n",
       "      <th>boot_t_999</th>\n",
       "      <th>boot_t_1000</th>\n",
       "    </tr>\n",
       "  </thead>\n",
       "  <tbody>\n",
       "    <tr>\n",
       "      <th>0</th>\n",
       "      <td>(1, 1)</td>\n",
       "      <td>0.906390</td>\n",
       "      <td>0.350</td>\n",
       "      <td>0.906390</td>\n",
       "      <td>0.000000</td>\n",
       "      <td>-1.393466</td>\n",
       "      <td>-0.301580</td>\n",
       "      <td>-0.277403</td>\n",
       "      <td>-0.471667</td>\n",
       "      <td>-1.613977</td>\n",
       "      <td>...</td>\n",
       "      <td>-0.775761</td>\n",
       "      <td>-0.906390</td>\n",
       "      <td>-1.393466</td>\n",
       "      <td>-0.833494</td>\n",
       "      <td>-0.333426</td>\n",
       "      <td>1.296407</td>\n",
       "      <td>0.000000</td>\n",
       "      <td>-1.270001</td>\n",
       "      <td>-2.340823</td>\n",
       "      <td>0.707992</td>\n",
       "    </tr>\n",
       "    <tr>\n",
       "      <th>1</th>\n",
       "      <td>(2, 1)</td>\n",
       "      <td>0.333426</td>\n",
       "      <td>0.742</td>\n",
       "      <td>0.000000</td>\n",
       "      <td>-0.906390</td>\n",
       "      <td>-2.145596</td>\n",
       "      <td>-0.301580</td>\n",
       "      <td>0.000000</td>\n",
       "      <td>-1.072113</td>\n",
       "      <td>1.678363</td>\n",
       "      <td>...</td>\n",
       "      <td>-2.264554</td>\n",
       "      <td>1.270001</td>\n",
       "      <td>-1.158569</td>\n",
       "      <td>-0.707992</td>\n",
       "      <td>-1.347719</td>\n",
       "      <td>1.002509</td>\n",
       "      <td>1.072113</td>\n",
       "      <td>-0.378100</td>\n",
       "      <td>-0.378100</td>\n",
       "      <td>1.137556</td>\n",
       "    </tr>\n",
       "    <tr>\n",
       "      <th>2</th>\n",
       "      <td>(3, 1)</td>\n",
       "      <td>0.000000</td>\n",
       "      <td>0.850</td>\n",
       "      <td>0.000000</td>\n",
       "      <td>0.301580</td>\n",
       "      <td>-1.002509</td>\n",
       "      <td>1.002509</td>\n",
       "      <td>-0.728572</td>\n",
       "      <td>-0.447437</td>\n",
       "      <td>0.000000</td>\n",
       "      <td>...</td>\n",
       "      <td>0.633089</td>\n",
       "      <td>-0.447437</td>\n",
       "      <td>0.277403</td>\n",
       "      <td>-0.333426</td>\n",
       "      <td>0.633089</td>\n",
       "      <td>-1.516196</td>\n",
       "      <td>-1.002509</td>\n",
       "      <td>-0.707992</td>\n",
       "      <td>0.447437</td>\n",
       "      <td>-0.906390</td>\n",
       "    </tr>\n",
       "    <tr>\n",
       "      <th>3</th>\n",
       "      <td>(4, 1)</td>\n",
       "      <td>0.833494</td>\n",
       "      <td>0.418</td>\n",
       "      <td>-0.277403</td>\n",
       "      <td>-1.508509</td>\n",
       "      <td>0.000000</td>\n",
       "      <td>0.775761</td>\n",
       "      <td>-0.500313</td>\n",
       "      <td>0.000000</td>\n",
       "      <td>1.002509</td>\n",
       "      <td>...</td>\n",
       "      <td>-0.728572</td>\n",
       "      <td>-0.775761</td>\n",
       "      <td>-0.906390</td>\n",
       "      <td>-1.072113</td>\n",
       "      <td>1.072113</td>\n",
       "      <td>-0.301580</td>\n",
       "      <td>0.301580</td>\n",
       "      <td>-1.508509</td>\n",
       "      <td>2.571297</td>\n",
       "      <td>1.508509</td>\n",
       "    </tr>\n",
       "    <tr>\n",
       "      <th>4</th>\n",
       "      <td>(5, 1)</td>\n",
       "      <td>0.000000</td>\n",
       "      <td>0.832</td>\n",
       "      <td>-1.393466</td>\n",
       "      <td>1.296407</td>\n",
       "      <td>1.745189</td>\n",
       "      <td>-0.333426</td>\n",
       "      <td>-0.500313</td>\n",
       "      <td>1.421338</td>\n",
       "      <td>-1.960008</td>\n",
       "      <td>...</td>\n",
       "      <td>1.296407</td>\n",
       "      <td>-1.393466</td>\n",
       "      <td>0.301580</td>\n",
       "      <td>-0.301580</td>\n",
       "      <td>0.534905</td>\n",
       "      <td>-0.577832</td>\n",
       "      <td>-1.150871</td>\n",
       "      <td>1.158569</td>\n",
       "      <td>-1.270001</td>\n",
       "      <td>-0.277403</td>\n",
       "    </tr>\n",
       "  </tbody>\n",
       "</table>\n",
       "<p>5 rows × 1003 columns</p>\n",
       "</div>"
      ],
      "text/plain": [
       "  experiment_index  observable_t_stats  p_value  boot_t_1  boot_t_2  boot_t_3  \\\n",
       "0           (1, 1)            0.906390    0.350  0.906390  0.000000 -1.393466   \n",
       "1           (2, 1)            0.333426    0.742  0.000000 -0.906390 -2.145596   \n",
       "2           (3, 1)            0.000000    0.850  0.000000  0.301580 -1.002509   \n",
       "3           (4, 1)            0.833494    0.418 -0.277403 -1.508509  0.000000   \n",
       "4           (5, 1)            0.000000    0.832 -1.393466  1.296407  1.745189   \n",
       "\n",
       "   boot_t_4  boot_t_5  boot_t_6  boot_t_7  ...  boot_t_991  boot_t_992  \\\n",
       "0 -0.301580 -0.277403 -0.471667 -1.613977  ...   -0.775761   -0.906390   \n",
       "1 -0.301580  0.000000 -1.072113  1.678363  ...   -2.264554    1.270001   \n",
       "2  1.002509 -0.728572 -0.447437  0.000000  ...    0.633089   -0.447437   \n",
       "3  0.775761 -0.500313  0.000000  1.002509  ...   -0.728572   -0.775761   \n",
       "4 -0.333426 -0.500313  1.421338 -1.960008  ...    1.296407   -1.393466   \n",
       "\n",
       "   boot_t_993  boot_t_994  boot_t_995  boot_t_996  boot_t_997  boot_t_998  \\\n",
       "0   -1.393466   -0.833494   -0.333426    1.296407    0.000000   -1.270001   \n",
       "1   -1.158569   -0.707992   -1.347719    1.002509    1.072113   -0.378100   \n",
       "2    0.277403   -0.333426    0.633089   -1.516196   -1.002509   -0.707992   \n",
       "3   -0.906390   -1.072113    1.072113   -0.301580    0.301580   -1.508509   \n",
       "4    0.301580   -0.301580    0.534905   -0.577832   -1.150871    1.158569   \n",
       "\n",
       "   boot_t_999  boot_t_1000  \n",
       "0   -2.340823     0.707992  \n",
       "1   -0.378100     1.137556  \n",
       "2    0.447437    -0.906390  \n",
       "3    2.571297     1.508509  \n",
       "4   -1.270001    -0.277403  \n",
       "\n",
       "[5 rows x 1003 columns]"
      ]
     },
     "execution_count": 9,
     "metadata": {},
     "output_type": "execute_result"
    }
   ],
   "source": [
    "tests2 = LIMts_test(train=train,\n",
    "                   dev=dev,\n",
    "                   transformation=toy_transformation,\n",
    "                   rho=0.78,\n",
    "                   Model=LRWrapper,\n",
    "                   hyperparams=hyperparams,\n",
    "                   M=M,\n",
    "                   E=E,\n",
    "                   S=S)\n",
    "\n",
    "tests2"
   ]
  },
  {
   "cell_type": "code",
   "execution_count": 10,
   "metadata": {},
   "outputs": [
    {
     "data": {
      "image/png": "[encoded data removed]",
      "text/plain": [
       "<Figure size 432x288 with 1 Axes>"
      ]
     },
     "metadata": {
      "needs_background": "light"
     },
     "output_type": "display_data"
    }
   ],
   "source": [
    "tests2.iloc[0][[\"boot_t_{}\".format(i+1) for i in range(S)]].hist();\n",
    "tests2.iloc[2][[\"boot_t_{}\".format(i+1) for i in range(S)]].hist();\n",
    "tests2.iloc[3][[\"boot_t_{}\".format(i+1) for i in range(S)]].hist();"
   ]
  },
  {
   "cell_type": "code",
   "execution_count": 11,
   "metadata": {},
   "outputs": [],
   "source": [
    "assert np.all(tests1.p_value < (0.05/M*E))\n",
    "assert not np.all(tests2.p_value < (0.05/M*E))"
   ]
  },
  {
   "cell_type": "code",
   "execution_count": null,
   "metadata": {},
   "outputs": [],
   "source": []
  },
  {
   "cell_type": "code",
   "execution_count": null,
   "metadata": {},
   "outputs": [],
   "source": []
  }
 ],
 "metadata": {
  "kernelspec": {
   "display_name": "Python 3",
   "language": "python",
   "name": "python3"
  },
  "language_info": {
   "codemirror_mode": {
    "name": "ipython",
    "version": 3
   },
   "file_extension": ".py",
   "mimetype": "text/x-python",
   "name": "python",
   "nbconvert_exporter": "python",
   "pygments_lexer": "ipython3",
   "version": "3.6.8"
  }
 },
 "nbformat": 4,
 "nbformat_minor": 2
}
