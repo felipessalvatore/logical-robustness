{
 "cells": [
  {
   "cell_type": "code",
   "execution_count": 1,
   "metadata": {},
   "outputs": [],
   "source": [
    "import pandas as pd\n",
    "import numpy as np\n",
    "import matplotlib.pyplot as plt\n",
    "import seaborn as sns\n",
    "from lr.text_processing.util import pre_process_nli_df\n",
    "from lr.training.util import get_ternary_label\n",
    "from lr.text_processing.transformations.structural import entailment_internalization\n",
    "from lr.stats.h_testing import DGP, get_matched_results, get_paired_t_statistic\n",
    "from lr.stats.h_testing import get_boot_sample_under_H0,get_boot_p_value\n",
    "from lr.training.language_representation import Tfidf\n",
    "from lr.models.logistic_regression import LRWrapper"
   ]
  },
  {
   "cell_type": "markdown",
   "metadata": {},
   "source": [
    "### Loading data"
   ]
  },
  {
   "cell_type": "code",
   "execution_count": 2,
   "metadata": {},
   "outputs": [],
   "source": [
    "train_path = \"data/toy/train.csv\"\n",
    "dev_path = \"data/toy/dev.csv\"\n",
    "train = pd.read_csv(train_path)\n",
    "dev = pd.read_csv(dev_path)\n",
    "pre_process_nli_df(train)\n",
    "pre_process_nli_df(dev)"
   ]
  },
  {
   "cell_type": "markdown",
   "metadata": {},
   "source": [
    "### Training a model using one version of the modified data"
   ]
  },
  {
   "cell_type": "code",
   "execution_count": 12,
   "metadata": {},
   "outputs": [],
   "source": [
    "max_features = 500\n",
    "rho = 0.001\n",
    "label_translation = get_ternary_label\n",
    "transformation = entailment_internalization \n",
    "\n",
    "dgp = DGP(data=train, transformation=transformation, rho=rho)\n",
    "train_t = dgp.get_sample()\n",
    "\n",
    "hyperparams = {\"RepresentationFunction\": Tfidf,\n",
    "               \"max_features\": max_features,\n",
    "               \"label_translation\": label_translation,\n",
    "               \"penalty\": \"l2\",\n",
    "               \"C\": 1,\n",
    "               'solver': 'lbfgs'}\n",
    "lr = LRWrapper(hyperparams)\n",
    "lr.fit(train_t)"
   ]
  },
  {
   "cell_type": "markdown",
   "metadata": {},
   "source": [
    "### Get t statistic for the observable results and matched results"
   ]
  },
  {
   "cell_type": "code",
   "execution_count": 16,
   "metadata": {},
   "outputs": [
    {
     "name": "stdout",
     "output_type": "stream",
     "text": [
      "-1.2964074471043285\n"
     ]
    }
   ],
   "source": [
    "dev_t = transformation(dev)\n",
    "\n",
    "results = get_matched_results(dev, dev_t, lr, lr.label_translation)\n",
    "t_obs = get_paired_t_statistic(results)\n",
    "\n",
    "print(t_obs)"
   ]
  },
  {
   "cell_type": "markdown",
   "metadata": {},
   "source": [
    "### Get $S$ bootstrap replications under H0"
   ]
  },
  {
   "cell_type": "code",
   "execution_count": 14,
   "metadata": {},
   "outputs": [],
   "source": [
    "S = 1000\n",
    "t_boots = []\n",
    "for _ in range(S):\n",
    "    boot_sample = get_boot_sample_under_H0(results)\n",
    "    t = get_paired_t_statistic(boot_sample)\n",
    "    t_boots.append(t)\n",
    "\n",
    "t_boots = pd.Series(t_boots)"
   ]
  },
  {
   "cell_type": "markdown",
   "metadata": {},
   "source": [
    "### Calculating the associated p-value"
   ]
  },
  {
   "cell_type": "code",
   "execution_count": 15,
   "metadata": {},
   "outputs": [
    {
     "data": {
      "image/png": "[encoded data removed]",
      "text/plain": [
       "<Figure size 720x360 with 1 Axes>"
      ]
     },
     "metadata": {
      "needs_background": "light"
     },
     "output_type": "display_data"
    }
   ],
   "source": [
    "p_value = get_boot_p_value(t_boots, t_obs)\n",
    "\n",
    "fig, ax = plt.subplots(figsize=(10,5))\n",
    "t_boots.hist(ax=ax, label=\"bootstrap replications\");\n",
    "plt.axvline(x=t_obs, color='r', linestyle='-', label=\"observed\");\n",
    "ax.set_xlabel(\"t\", fontsize=14);\n",
    "ax.set_ylabel(\"frequency\", fontsize=14);\n",
    "ax.set_title(\"Bootstrap test histogram (p-value = {:.8f})\".format(p_value) +\"\\n\", fontsize=16)\n",
    "plt.legend(loc=\"best\");"
   ]
  },
  {
   "cell_type": "code",
   "execution_count": 71,
   "metadata": {},
   "outputs": [],
   "source": [
    "def LIMts_test(train,dev, transformation, rho,\n",
    "               Model, hyperparams, M, E, S):\n",
    "    dgp = DGP(data=train, transformation=transformation, rho=rho)\n",
    "    dev_t = transformation(dev)\n",
    "    index_pair = []\n",
    "    all_t_obs = []\n",
    "    all_p_values = []\n",
    "    all_t_boots = []\n",
    "    t_columns = [\"boot_t_{}\".format(i+1) for i in range(S)]\n",
    "    for m in range(M):\n",
    "        train_t = dgp.get_sample()\n",
    "        for e in range(E):\n",
    "            index_pair.append((m+1,e+1))\n",
    "            model = Model(hyperparams)\n",
    "            model.fit(train_t)\n",
    "            results = get_matched_results(dev, dev_t, model, model.label_translation)\n",
    "            t_obs = get_paired_t_statistic(results)\n",
    "            all_t_obs.append(t_obs)\n",
    "            t_boots = []\n",
    "            for _ in range(S):\n",
    "                boot_sample = get_boot_sample_under_H0(results)\n",
    "                t = get_paired_t_statistic(boot_sample)\n",
    "                t_boots.append(t)\n",
    "            t_boots = pd.Series(t_boots)\n",
    "            p_value = get_boot_p_value(t_boots, t_obs)\n",
    "            all_p_values.append(p_value)\n",
    "            t_boots_t = t_boots.to_frame().transpose()\n",
    "            t_boots_t.columns = t_columns\n",
    "            all_t_boots.append(t_boots_t)\n",
    "            \n",
    "    dict_ = {\"experiment_index\": index_pair,\n",
    "             \"observable_t_stats\": all_t_obs,\n",
    "             \"p_value\":all_p_values}\n",
    "\n",
    "    test_results = pd.DataFrame(dict_)\n",
    "    t_boots_df = pd.concat(all_t_boots).reset_index(drop=True)\n",
    "    combined_information = pd.merge(test_results,\n",
    "                                    t_boots_df,\n",
    "                                    right_index=True,\n",
    "                                    left_index=True)\n",
    "    return combined_information"
   ]
  },
  {
   "cell_type": "code",
   "execution_count": 75,
   "metadata": {},
   "outputs": [
    {
     "data": {
      "text/html": [
       "<div>\n",
       "<style scoped>\n",
       "    .dataframe tbody tr th:only-of-type {\n",
       "        vertical-align: middle;\n",
       "    }\n",
       "\n",
       "    .dataframe tbody tr th {\n",
       "        vertical-align: top;\n",
       "    }\n",
       "\n",
       "    .dataframe thead th {\n",
       "        text-align: right;\n",
       "    }\n",
       "</style>\n",
       "<table border=\"1\" class=\"dataframe\">\n",
       "  <thead>\n",
       "    <tr style=\"text-align: right;\">\n",
       "      <th></th>\n",
       "      <th>experiment_index</th>\n",
       "      <th>observable_t_stats</th>\n",
       "      <th>p_value</th>\n",
       "      <th>boot_t_1</th>\n",
       "      <th>boot_t_2</th>\n",
       "      <th>boot_t_3</th>\n",
       "      <th>boot_t_4</th>\n",
       "      <th>boot_t_5</th>\n",
       "      <th>boot_t_6</th>\n",
       "      <th>boot_t_7</th>\n",
       "      <th>...</th>\n",
       "      <th>boot_t_91</th>\n",
       "      <th>boot_t_92</th>\n",
       "      <th>boot_t_93</th>\n",
       "      <th>boot_t_94</th>\n",
       "      <th>boot_t_95</th>\n",
       "      <th>boot_t_96</th>\n",
       "      <th>boot_t_97</th>\n",
       "      <th>boot_t_98</th>\n",
       "      <th>boot_t_99</th>\n",
       "      <th>boot_t_100</th>\n",
       "    </tr>\n",
       "  </thead>\n",
       "  <tbody>\n",
       "    <tr>\n",
       "      <th>0</th>\n",
       "      <td>(1, 1)</td>\n",
       "      <td>-7.181388</td>\n",
       "      <td>0.0</td>\n",
       "      <td>-0.555127</td>\n",
       "      <td>1.239156</td>\n",
       "      <td>-0.149079</td>\n",
       "      <td>-0.763604</td>\n",
       "      <td>0.480662</td>\n",
       "      <td>1.303270</td>\n",
       "      <td>-1.023727</td>\n",
       "      <td>...</td>\n",
       "      <td>1.339299</td>\n",
       "      <td>1.520572</td>\n",
       "      <td>-0.686803</td>\n",
       "      <td>1.303270</td>\n",
       "      <td>-0.145873</td>\n",
       "      <td>0.457735</td>\n",
       "      <td>-1.781742</td>\n",
       "      <td>0.590281</td>\n",
       "      <td>-0.468779</td>\n",
       "      <td>0.412257</td>\n",
       "    </tr>\n",
       "    <tr>\n",
       "      <th>1</th>\n",
       "      <td>(2, 1)</td>\n",
       "      <td>-6.960403</td>\n",
       "      <td>0.0</td>\n",
       "      <td>0.899843</td>\n",
       "      <td>1.210455</td>\n",
       "      <td>-1.096497</td>\n",
       "      <td>-0.823387</td>\n",
       "      <td>0.950825</td>\n",
       "      <td>0.522589</td>\n",
       "      <td>0.906390</td>\n",
       "      <td>...</td>\n",
       "      <td>0.152507</td>\n",
       "      <td>0.782062</td>\n",
       "      <td>0.468779</td>\n",
       "      <td>0.174091</td>\n",
       "      <td>0.288735</td>\n",
       "      <td>0.000000</td>\n",
       "      <td>-0.353664</td>\n",
       "      <td>0.324528</td>\n",
       "      <td>1.766542</td>\n",
       "      <td>-1.187379</td>\n",
       "    </tr>\n",
       "    <tr>\n",
       "      <th>2</th>\n",
       "      <td>(3, 1)</td>\n",
       "      <td>-7.300956</td>\n",
       "      <td>0.0</td>\n",
       "      <td>0.447437</td>\n",
       "      <td>0.730297</td>\n",
       "      <td>1.091902</td>\n",
       "      <td>0.000000</td>\n",
       "      <td>0.397517</td>\n",
       "      <td>0.945989</td>\n",
       "      <td>2.507357</td>\n",
       "      <td>...</td>\n",
       "      <td>-1.745189</td>\n",
       "      <td>-0.480662</td>\n",
       "      <td>0.447437</td>\n",
       "      <td>-0.633089</td>\n",
       "      <td>-1.187379</td>\n",
       "      <td>-1.112830</td>\n",
       "      <td>-0.447437</td>\n",
       "      <td>-0.140035</td>\n",
       "      <td>1.823357</td>\n",
       "      <td>-0.950825</td>\n",
       "    </tr>\n",
       "    <tr>\n",
       "      <th>3</th>\n",
       "      <td>(4, 1)</td>\n",
       "      <td>-7.838234</td>\n",
       "      <td>0.0</td>\n",
       "      <td>-0.975642</td>\n",
       "      <td>0.674967</td>\n",
       "      <td>0.000000</td>\n",
       "      <td>-0.746393</td>\n",
       "      <td>0.308680</td>\n",
       "      <td>-0.277403</td>\n",
       "      <td>0.590281</td>\n",
       "      <td>...</td>\n",
       "      <td>0.617802</td>\n",
       "      <td>0.617802</td>\n",
       "      <td>-0.566139</td>\n",
       "      <td>0.149079</td>\n",
       "      <td>0.000000</td>\n",
       "      <td>-0.566139</td>\n",
       "      <td>-0.927810</td>\n",
       "      <td>0.000000</td>\n",
       "      <td>-0.730297</td>\n",
       "      <td>-0.507419</td>\n",
       "    </tr>\n",
       "    <tr>\n",
       "      <th>4</th>\n",
       "      <td>(5, 1)</td>\n",
       "      <td>-7.291403</td>\n",
       "      <td>0.0</td>\n",
       "      <td>-0.522589</td>\n",
       "      <td>0.149079</td>\n",
       "      <td>-0.333426</td>\n",
       "      <td>0.164410</td>\n",
       "      <td>-1.421338</td>\n",
       "      <td>-0.522589</td>\n",
       "      <td>-0.846668</td>\n",
       "      <td>...</td>\n",
       "      <td>-1.448695</td>\n",
       "      <td>-1.576402</td>\n",
       "      <td>-1.046351</td>\n",
       "      <td>0.617802</td>\n",
       "      <td>-0.493497</td>\n",
       "      <td>-0.975642</td>\n",
       "      <td>-1.053361</td>\n",
       "      <td>0.324528</td>\n",
       "      <td>-0.846668</td>\n",
       "      <td>-0.156183</td>\n",
       "    </tr>\n",
       "  </tbody>\n",
       "</table>\n",
       "<p>5 rows × 103 columns</p>\n",
       "</div>"
      ],
      "text/plain": [
       "  experiment_index  observable_t_stats  p_value  boot_t_1  boot_t_2  boot_t_3  \\\n",
       "0           (1, 1)           -7.181388      0.0 -0.555127  1.239156 -0.149079   \n",
       "1           (2, 1)           -6.960403      0.0  0.899843  1.210455 -1.096497   \n",
       "2           (3, 1)           -7.300956      0.0  0.447437  0.730297  1.091902   \n",
       "3           (4, 1)           -7.838234      0.0 -0.975642  0.674967  0.000000   \n",
       "4           (5, 1)           -7.291403      0.0 -0.522589  0.149079 -0.333426   \n",
       "\n",
       "   boot_t_4  boot_t_5  boot_t_6  boot_t_7  ...  boot_t_91  boot_t_92  \\\n",
       "0 -0.763604  0.480662  1.303270 -1.023727  ...   1.339299   1.520572   \n",
       "1 -0.823387  0.950825  0.522589  0.906390  ...   0.152507   0.782062   \n",
       "2  0.000000  0.397517  0.945989  2.507357  ...  -1.745189  -0.480662   \n",
       "3 -0.746393  0.308680 -0.277403  0.590281  ...   0.617802   0.617802   \n",
       "4  0.164410 -1.421338 -0.522589 -0.846668  ...  -1.448695  -1.576402   \n",
       "\n",
       "   boot_t_93  boot_t_94  boot_t_95  boot_t_96  boot_t_97  boot_t_98  \\\n",
       "0  -0.686803   1.303270  -0.145873   0.457735  -1.781742   0.590281   \n",
       "1   0.468779   0.174091   0.288735   0.000000  -0.353664   0.324528   \n",
       "2   0.447437  -0.633089  -1.187379  -1.112830  -0.447437  -0.140035   \n",
       "3  -0.566139   0.149079   0.000000  -0.566139  -0.927810   0.000000   \n",
       "4  -1.046351   0.617802  -0.493497  -0.975642  -1.053361   0.324528   \n",
       "\n",
       "   boot_t_99  boot_t_100  \n",
       "0  -0.468779    0.412257  \n",
       "1   1.766542   -1.187379  \n",
       "2   1.823357   -0.950825  \n",
       "3  -0.730297   -0.507419  \n",
       "4  -0.846668   -0.156183  \n",
       "\n",
       "[5 rows x 103 columns]"
      ]
     },
     "execution_count": 75,
     "metadata": {},
     "output_type": "execute_result"
    }
   ],
   "source": [
    "tests = LIMts_test(train=train,\n",
    "                   dev=dev,\n",
    "                   transformation=transformation,\n",
    "                   rho=0.58,\n",
    "                   Model=LRWrapper,\n",
    "                   hyperparams=hyperparams,\n",
    "                   M=5,\n",
    "                   E=1,\n",
    "                   S=100)\n",
    "\n",
    "tests"
   ]
  },
  {
   "cell_type": "code",
   "execution_count": null,
   "metadata": {},
   "outputs": [],
   "source": []
  },
  {
   "cell_type": "code",
   "execution_count": null,
   "metadata": {},
   "outputs": [],
   "source": []
  },
  {
   "cell_type": "code",
   "execution_count": null,
   "metadata": {},
   "outputs": [],
   "source": []
  },
  {
   "cell_type": "code",
   "execution_count": null,
   "metadata": {},
   "outputs": [],
   "source": []
  },
  {
   "cell_type": "code",
   "execution_count": null,
   "metadata": {},
   "outputs": [],
   "source": []
  }
 ],
 "metadata": {
  "kernelspec": {
   "display_name": "Python 3",
   "language": "python",
   "name": "python3"
  },
  "language_info": {
   "codemirror_mode": {
    "name": "ipython",
    "version": 3
   },
   "file_extension": ".py",
   "mimetype": "text/x-python",
   "name": "python",
   "nbconvert_exporter": "python",
   "pygments_lexer": "ipython3",
   "version": "3.6.8"
  }
 },
 "nbformat": 4,
 "nbformat_minor": 2
}
