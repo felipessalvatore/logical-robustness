{
 "cells": [
  {
   "cell_type": "code",
   "execution_count": 1,
   "metadata": {},
   "outputs": [],
   "source": [
    "import pandas as pd\n",
    "import numpy as np\n",
    "import matplotlib.pyplot as plt\n",
    "import seaborn as sns\n",
    "from lr.text_processing.util import pre_process_nli_df\n",
    "from lr.training.util import get_ternary_label\n",
    "from lr.text_processing.transformations.structural import entailment_internalization\n",
    "from lr.text_processing.transformations.synonyms import toy_transformation\n",
    "from lr.stats.h_testing import DGP, get_matched_results, get_paired_t_statistic\n",
    "from lr.stats.h_testing import get_boot_sample_under_H0,get_boot_p_value\n",
    "from lr.stats.h_testing import  LIMts_test\n",
    "from lr.training.language_representation import Tfidf\n",
    "from lr.models.logistic_regression import LRWrapper\n",
    "import warnings\n",
    "warnings.filterwarnings(\"ignore\", category=RuntimeWarning)"
   ]
  },
  {
   "cell_type": "markdown",
   "metadata": {},
   "source": [
    "### Loading data"
   ]
  },
  {
   "cell_type": "code",
   "execution_count": 2,
   "metadata": {},
   "outputs": [],
   "source": [
    "train_path = \"data/toy/train.csv\"\n",
    "dev_path = \"data/toy/dev.csv\"\n",
    "train = pd.read_csv(train_path)\n",
    "dev = pd.read_csv(dev_path)\n",
    "pre_process_nli_df(train)\n",
    "pre_process_nli_df(dev)"
   ]
  },
  {
   "cell_type": "markdown",
   "metadata": {},
   "source": [
    "### Training a model using one version of the modified data"
   ]
  },
  {
   "cell_type": "code",
   "execution_count": 3,
   "metadata": {},
   "outputs": [],
   "source": [
    "max_features = 500\n",
    "rho = 0.001\n",
    "label_translation = get_ternary_label\n",
    "transformation = entailment_internalization \n",
    "\n",
    "dgp = DGP(data=train, transformation=transformation, rho=rho)\n",
    "train_t = dgp.get_sample()\n",
    "\n",
    "hyperparams = {\"RepresentationFunction\": Tfidf,\n",
    "               \"max_features\": max_features,\n",
    "               \"label_translation\": label_translation,\n",
    "               \"penalty\": \"l2\",\n",
    "               \"C\": 1.0,\n",
    "               'solver': 'lbfgs'}\n",
    "lr = LRWrapper(hyperparams)\n",
    "lr.fit(train_t)"
   ]
  },
  {
   "cell_type": "markdown",
   "metadata": {},
   "source": [
    "### Get t statistic for the observable results and matched results"
   ]
  },
  {
   "cell_type": "code",
   "execution_count": 4,
   "metadata": {},
   "outputs": [
    {
     "name": "stdout",
     "output_type": "stream",
     "text": [
      "-1.718147118350231\n"
     ]
    }
   ],
   "source": [
    "dev_t = transformation(dev)\n",
    "\n",
    "results = get_matched_results(dev, dev_t, lr, lr.label_translation)\n",
    "t_obs = get_paired_t_statistic(results)\n",
    "\n",
    "print(t_obs)"
   ]
  },
  {
   "cell_type": "markdown",
   "metadata": {},
   "source": [
    "### Get $S$ bootstrap replications under H0"
   ]
  },
  {
   "cell_type": "code",
   "execution_count": 5,
   "metadata": {},
   "outputs": [],
   "source": [
    "S = 1000\n",
    "t_boots = []\n",
    "for _ in range(S):\n",
    "    boot_sample = get_boot_sample_under_H0(results)\n",
    "    t = get_paired_t_statistic(boot_sample)\n",
    "    t_boots.append(t)\n",
    "\n",
    "t_boots = pd.Series(t_boots)"
   ]
  },
  {
   "cell_type": "markdown",
   "metadata": {},
   "source": [
    "### Calculating the associated p-value"
   ]
  },
  {
   "cell_type": "code",
   "execution_count": 6,
   "metadata": {},
   "outputs": [
    {
     "data": {
      "image/png": "[encoded data removed]",
      "text/plain": [
       "<Figure size 720x360 with 1 Axes>"
      ]
     },
     "metadata": {
      "needs_background": "light"
     },
     "output_type": "display_data"
    }
   ],
   "source": [
    "p_value = get_boot_p_value(t_boots, t_obs)\n",
    "\n",
    "fig, ax = plt.subplots(figsize=(10,5))\n",
    "t_boots.hist(ax=ax, label=\"bootstrap replications\");\n",
    "plt.axvline(x=t_obs, color='r', linestyle='-', label=\"observed\");\n",
    "ax.set_xlabel(\"t\", fontsize=14);\n",
    "ax.set_ylabel(\"frequency\", fontsize=14);\n",
    "ax.set_title(\"Bootstrap test histogram (p-value = {:.8f})\".format(p_value) +\"\\n\", fontsize=16)\n",
    "plt.legend(loc=\"best\");"
   ]
  },
  {
   "cell_type": "markdown",
   "metadata": {},
   "source": [
    "### Performing multiple tests\n",
    "\n",
    "**test1: entailment internalization**"
   ]
  },
  {
   "cell_type": "code",
   "execution_count": 7,
   "metadata": {},
   "outputs": [
    {
     "data": {
      "text/html": [
       "<div>\n",
       "<style scoped>\n",
       "    .dataframe tbody tr th:only-of-type {\n",
       "        vertical-align: middle;\n",
       "    }\n",
       "\n",
       "    .dataframe tbody tr th {\n",
       "        vertical-align: top;\n",
       "    }\n",
       "\n",
       "    .dataframe thead th {\n",
       "        text-align: right;\n",
       "    }\n",
       "</style>\n",
       "<table border=\"1\" class=\"dataframe\">\n",
       "  <thead>\n",
       "    <tr style=\"text-align: right;\">\n",
       "      <th></th>\n",
       "      <th>m</th>\n",
       "      <th>train_accuracy_mean</th>\n",
       "      <th>train_accuracy_std</th>\n",
       "      <th>train_accuracy_ensemble</th>\n",
       "      <th>validation_accuracy</th>\n",
       "      <th>transformed_validation_accuracy</th>\n",
       "      <th>observable_t_stats</th>\n",
       "      <th>p_value</th>\n",
       "      <th>transformation_time</th>\n",
       "      <th>training_time</th>\n",
       "      <th>...</th>\n",
       "      <th>boot_t_991</th>\n",
       "      <th>boot_t_992</th>\n",
       "      <th>boot_t_993</th>\n",
       "      <th>boot_t_994</th>\n",
       "      <th>boot_t_995</th>\n",
       "      <th>boot_t_996</th>\n",
       "      <th>boot_t_997</th>\n",
       "      <th>boot_t_998</th>\n",
       "      <th>boot_t_999</th>\n",
       "      <th>boot_t_1000</th>\n",
       "    </tr>\n",
       "  </thead>\n",
       "  <tbody>\n",
       "    <tr>\n",
       "      <th>0</th>\n",
       "      <td>1</td>\n",
       "      <td>0.74375</td>\n",
       "      <td>0.0</td>\n",
       "      <td>0.74375</td>\n",
       "      <td>0.325</td>\n",
       "      <td>0.570</td>\n",
       "      <td>-8.056095</td>\n",
       "      <td>0.0</td>\n",
       "      <td>0.008339</td>\n",
       "      <td>0.142235</td>\n",
       "      <td>...</td>\n",
       "      <td>0.963754</td>\n",
       "      <td>-0.142864</td>\n",
       "      <td>1.183660</td>\n",
       "      <td>0.715199</td>\n",
       "      <td>0.468779</td>\n",
       "      <td>-1.265286</td>\n",
       "      <td>1.650919</td>\n",
       "      <td>0.288735</td>\n",
       "      <td>0.906390</td>\n",
       "      <td>-0.282899</td>\n",
       "    </tr>\n",
       "    <tr>\n",
       "      <th>1</th>\n",
       "      <td>2</td>\n",
       "      <td>0.75250</td>\n",
       "      <td>0.0</td>\n",
       "      <td>0.75250</td>\n",
       "      <td>0.325</td>\n",
       "      <td>0.555</td>\n",
       "      <td>-7.729182</td>\n",
       "      <td>0.0</td>\n",
       "      <td>0.010693</td>\n",
       "      <td>0.125319</td>\n",
       "      <td>...</td>\n",
       "      <td>-0.428768</td>\n",
       "      <td>0.145873</td>\n",
       "      <td>0.142864</td>\n",
       "      <td>0.152507</td>\n",
       "      <td>0.850060</td>\n",
       "      <td>0.000000</td>\n",
       "      <td>-0.577832</td>\n",
       "      <td>0.801927</td>\n",
       "      <td>-2.123977</td>\n",
       "      <td>1.439477</td>\n",
       "    </tr>\n",
       "    <tr>\n",
       "      <th>2</th>\n",
       "      <td>3</td>\n",
       "      <td>0.74750</td>\n",
       "      <td>0.0</td>\n",
       "      <td>0.74750</td>\n",
       "      <td>0.325</td>\n",
       "      <td>0.570</td>\n",
       "      <td>-8.056095</td>\n",
       "      <td>0.0</td>\n",
       "      <td>0.005926</td>\n",
       "      <td>0.127675</td>\n",
       "      <td>...</td>\n",
       "      <td>-0.343098</td>\n",
       "      <td>0.715199</td>\n",
       "      <td>-0.149079</td>\n",
       "      <td>-0.817861</td>\n",
       "      <td>-1.112830</td>\n",
       "      <td>1.873366</td>\n",
       "      <td>-2.292273</td>\n",
       "      <td>-1.303270</td>\n",
       "      <td>0.404686</td>\n",
       "      <td>0.301580</td>\n",
       "    </tr>\n",
       "    <tr>\n",
       "      <th>3</th>\n",
       "      <td>4</td>\n",
       "      <td>0.73750</td>\n",
       "      <td>0.0</td>\n",
       "      <td>0.73750</td>\n",
       "      <td>0.305</td>\n",
       "      <td>0.570</td>\n",
       "      <td>-8.491693</td>\n",
       "      <td>0.0</td>\n",
       "      <td>0.005984</td>\n",
       "      <td>0.101684</td>\n",
       "      <td>...</td>\n",
       "      <td>0.384252</td>\n",
       "      <td>1.792223</td>\n",
       "      <td>-0.428768</td>\n",
       "      <td>-0.730297</td>\n",
       "      <td>0.000000</td>\n",
       "      <td>0.789064</td>\n",
       "      <td>0.000000</td>\n",
       "      <td>0.662994</td>\n",
       "      <td>0.397517</td>\n",
       "      <td>-0.544735</td>\n",
       "    </tr>\n",
       "    <tr>\n",
       "      <th>4</th>\n",
       "      <td>5</td>\n",
       "      <td>0.75375</td>\n",
       "      <td>0.0</td>\n",
       "      <td>0.75375</td>\n",
       "      <td>0.300</td>\n",
       "      <td>0.540</td>\n",
       "      <td>-7.947194</td>\n",
       "      <td>0.0</td>\n",
       "      <td>0.006005</td>\n",
       "      <td>0.103209</td>\n",
       "      <td>...</td>\n",
       "      <td>0.282899</td>\n",
       "      <td>-0.294948</td>\n",
       "      <td>-0.898063</td>\n",
       "      <td>0.272216</td>\n",
       "      <td>-0.149079</td>\n",
       "      <td>-0.288735</td>\n",
       "      <td>0.246220</td>\n",
       "      <td>0.140035</td>\n",
       "      <td>0.886388</td>\n",
       "      <td>0.288735</td>\n",
       "    </tr>\n",
       "  </tbody>\n",
       "</table>\n",
       "<p>5 rows × 1011 columns</p>\n",
       "</div>"
      ],
      "text/plain": [
       "   m  train_accuracy_mean  train_accuracy_std  train_accuracy_ensemble  \\\n",
       "0  1              0.74375                 0.0                  0.74375   \n",
       "1  2              0.75250                 0.0                  0.75250   \n",
       "2  3              0.74750                 0.0                  0.74750   \n",
       "3  4              0.73750                 0.0                  0.73750   \n",
       "4  5              0.75375                 0.0                  0.75375   \n",
       "\n",
       "   validation_accuracy  transformed_validation_accuracy  observable_t_stats  \\\n",
       "0                0.325                            0.570           -8.056095   \n",
       "1                0.325                            0.555           -7.729182   \n",
       "2                0.325                            0.570           -8.056095   \n",
       "3                0.305                            0.570           -8.491693   \n",
       "4                0.300                            0.540           -7.947194   \n",
       "\n",
       "   p_value  transformation_time  training_time  ...  boot_t_991  boot_t_992  \\\n",
       "0      0.0             0.008339       0.142235  ...    0.963754   -0.142864   \n",
       "1      0.0             0.010693       0.125319  ...   -0.428768    0.145873   \n",
       "2      0.0             0.005926       0.127675  ...   -0.343098    0.715199   \n",
       "3      0.0             0.005984       0.101684  ...    0.384252    1.792223   \n",
       "4      0.0             0.006005       0.103209  ...    0.282899   -0.294948   \n",
       "\n",
       "   boot_t_993  boot_t_994  boot_t_995  boot_t_996  boot_t_997  boot_t_998  \\\n",
       "0    1.183660    0.715199    0.468779   -1.265286    1.650919    0.288735   \n",
       "1    0.142864    0.152507    0.850060    0.000000   -0.577832    0.801927   \n",
       "2   -0.149079   -0.817861   -1.112830    1.873366   -2.292273   -1.303270   \n",
       "3   -0.428768   -0.730297    0.000000    0.789064    0.000000    0.662994   \n",
       "4   -0.898063    0.272216   -0.149079   -0.288735    0.246220    0.140035   \n",
       "\n",
       "   boot_t_999  boot_t_1000  \n",
       "0    0.906390    -0.282899  \n",
       "1   -2.123977     1.439477  \n",
       "2    0.404686     0.301580  \n",
       "3    0.397517    -0.544735  \n",
       "4    0.886388     0.288735  \n",
       "\n",
       "[5 rows x 1011 columns]"
      ]
     },
     "execution_count": 7,
     "metadata": {},
     "output_type": "execute_result"
    }
   ],
   "source": [
    "M,E,S = 5,2,1000\n",
    "\n",
    "\n",
    "tests1 = LIMts_test(train=train,\n",
    "                    dev=dev,\n",
    "                    train_transformation=entailment_internalization,\n",
    "                    dev_transformation=entailment_internalization,\n",
    "                    rho=0.78,\n",
    "                    Model=LRWrapper,\n",
    "                    hyperparams=hyperparams,\n",
    "                    M=M,\n",
    "                    E=E,\n",
    "                    S=S)\n",
    "\n",
    "tests1"
   ]
  },
  {
   "cell_type": "markdown",
   "metadata": {},
   "source": [
    "### Diferent bootstrap distributions for each experiment"
   ]
  },
  {
   "cell_type": "code",
   "execution_count": 8,
   "metadata": {},
   "outputs": [
    {
     "data": {
      "image/png": "[encoded data removed]",
      "text/plain": [
       "<Figure size 432x288 with 1 Axes>"
      ]
     },
     "metadata": {
      "needs_background": "light"
     },
     "output_type": "display_data"
    }
   ],
   "source": [
    "tests1.iloc[0][[\"boot_t_{}\".format(i+1) for i in range(S)]].hist();\n",
    "tests1.iloc[2][[\"boot_t_{}\".format(i+1) for i in range(S)]].hist();\n",
    "tests1.iloc[3][[\"boot_t_{}\".format(i+1) for i in range(S)]].hist();"
   ]
  },
  {
   "cell_type": "markdown",
   "metadata": {},
   "source": [
    "**test2: toy transformation**"
   ]
  },
  {
   "cell_type": "code",
   "execution_count": 9,
   "metadata": {},
   "outputs": [
    {
     "data": {
      "text/html": [
       "<div>\n",
       "<style scoped>\n",
       "    .dataframe tbody tr th:only-of-type {\n",
       "        vertical-align: middle;\n",
       "    }\n",
       "\n",
       "    .dataframe tbody tr th {\n",
       "        vertical-align: top;\n",
       "    }\n",
       "\n",
       "    .dataframe thead th {\n",
       "        text-align: right;\n",
       "    }\n",
       "</style>\n",
       "<table border=\"1\" class=\"dataframe\">\n",
       "  <thead>\n",
       "    <tr style=\"text-align: right;\">\n",
       "      <th></th>\n",
       "      <th>m</th>\n",
       "      <th>train_accuracy_mean</th>\n",
       "      <th>train_accuracy_std</th>\n",
       "      <th>train_accuracy_ensemble</th>\n",
       "      <th>validation_accuracy</th>\n",
       "      <th>transformed_validation_accuracy</th>\n",
       "      <th>observable_t_stats</th>\n",
       "      <th>p_value</th>\n",
       "      <th>transformation_time</th>\n",
       "      <th>training_time</th>\n",
       "      <th>...</th>\n",
       "      <th>boot_t_991</th>\n",
       "      <th>boot_t_992</th>\n",
       "      <th>boot_t_993</th>\n",
       "      <th>boot_t_994</th>\n",
       "      <th>boot_t_995</th>\n",
       "      <th>boot_t_996</th>\n",
       "      <th>boot_t_997</th>\n",
       "      <th>boot_t_998</th>\n",
       "      <th>boot_t_999</th>\n",
       "      <th>boot_t_1000</th>\n",
       "    </tr>\n",
       "  </thead>\n",
       "  <tbody>\n",
       "    <tr>\n",
       "      <th>0</th>\n",
       "      <td>1</td>\n",
       "      <td>0.63875</td>\n",
       "      <td>0.0</td>\n",
       "      <td>0.63875</td>\n",
       "      <td>0.230</td>\n",
       "      <td>0.220</td>\n",
       "      <td>0.707992</td>\n",
       "      <td>0.488</td>\n",
       "      <td>0.007718</td>\n",
       "      <td>0.054796</td>\n",
       "      <td>...</td>\n",
       "      <td>-0.378100</td>\n",
       "      <td>0.707992</td>\n",
       "      <td>0.447437</td>\n",
       "      <td>-0.277403</td>\n",
       "      <td>0.707992</td>\n",
       "      <td>0.000000</td>\n",
       "      <td>0.378100</td>\n",
       "      <td>1.270001</td>\n",
       "      <td>2.264554</td>\n",
       "      <td>0.000000</td>\n",
       "    </tr>\n",
       "    <tr>\n",
       "      <th>1</th>\n",
       "      <td>2</td>\n",
       "      <td>0.64875</td>\n",
       "      <td>0.0</td>\n",
       "      <td>0.64875</td>\n",
       "      <td>0.195</td>\n",
       "      <td>0.230</td>\n",
       "      <td>-1.960008</td>\n",
       "      <td>0.062</td>\n",
       "      <td>0.003507</td>\n",
       "      <td>0.040737</td>\n",
       "      <td>...</td>\n",
       "      <td>-0.775761</td>\n",
       "      <td>-0.906390</td>\n",
       "      <td>-0.896221</td>\n",
       "      <td>-1.002509</td>\n",
       "      <td>0.301580</td>\n",
       "      <td>-0.833494</td>\n",
       "      <td>0.906390</td>\n",
       "      <td>0.000000</td>\n",
       "      <td>-2.020305</td>\n",
       "      <td>0.000000</td>\n",
       "    </tr>\n",
       "    <tr>\n",
       "      <th>2</th>\n",
       "      <td>3</td>\n",
       "      <td>0.64625</td>\n",
       "      <td>0.0</td>\n",
       "      <td>0.64625</td>\n",
       "      <td>0.220</td>\n",
       "      <td>0.220</td>\n",
       "      <td>0.000000</td>\n",
       "      <td>0.790</td>\n",
       "      <td>0.004069</td>\n",
       "      <td>0.042897</td>\n",
       "      <td>...</td>\n",
       "      <td>0.577832</td>\n",
       "      <td>1.347719</td>\n",
       "      <td>-2.264554</td>\n",
       "      <td>1.421338</td>\n",
       "      <td>-0.447437</td>\n",
       "      <td>2.487080</td>\n",
       "      <td>-1.002509</td>\n",
       "      <td>0.906390</td>\n",
       "      <td>-1.002509</td>\n",
       "      <td>1.002509</td>\n",
       "    </tr>\n",
       "    <tr>\n",
       "      <th>3</th>\n",
       "      <td>4</td>\n",
       "      <td>0.65000</td>\n",
       "      <td>0.0</td>\n",
       "      <td>0.65000</td>\n",
       "      <td>0.225</td>\n",
       "      <td>0.230</td>\n",
       "      <td>-0.447437</td>\n",
       "      <td>0.790</td>\n",
       "      <td>0.003581</td>\n",
       "      <td>0.041727</td>\n",
       "      <td>...</td>\n",
       "      <td>0.577832</td>\n",
       "      <td>0.817861</td>\n",
       "      <td>-1.002509</td>\n",
       "      <td>-1.270001</td>\n",
       "      <td>1.643990</td>\n",
       "      <td>-0.817861</td>\n",
       "      <td>-1.745189</td>\n",
       "      <td>-1.421338</td>\n",
       "      <td>-1.421338</td>\n",
       "      <td>1.347719</td>\n",
       "    </tr>\n",
       "    <tr>\n",
       "      <th>4</th>\n",
       "      <td>5</td>\n",
       "      <td>0.64500</td>\n",
       "      <td>0.0</td>\n",
       "      <td>0.64500</td>\n",
       "      <td>0.215</td>\n",
       "      <td>0.215</td>\n",
       "      <td>0.000000</td>\n",
       "      <td>0.908</td>\n",
       "      <td>0.003597</td>\n",
       "      <td>0.042431</td>\n",
       "      <td>...</td>\n",
       "      <td>0.633089</td>\n",
       "      <td>-0.577832</td>\n",
       "      <td>0.378100</td>\n",
       "      <td>-1.270001</td>\n",
       "      <td>-0.301580</td>\n",
       "      <td>-0.707992</td>\n",
       "      <td>1.002509</td>\n",
       "      <td>-0.447437</td>\n",
       "      <td>-0.447437</td>\n",
       "      <td>0.000000</td>\n",
       "    </tr>\n",
       "  </tbody>\n",
       "</table>\n",
       "<p>5 rows × 1011 columns</p>\n",
       "</div>"
      ],
      "text/plain": [
       "   m  train_accuracy_mean  train_accuracy_std  train_accuracy_ensemble  \\\n",
       "0  1              0.63875                 0.0                  0.63875   \n",
       "1  2              0.64875                 0.0                  0.64875   \n",
       "2  3              0.64625                 0.0                  0.64625   \n",
       "3  4              0.65000                 0.0                  0.65000   \n",
       "4  5              0.64500                 0.0                  0.64500   \n",
       "\n",
       "   validation_accuracy  transformed_validation_accuracy  observable_t_stats  \\\n",
       "0                0.230                            0.220            0.707992   \n",
       "1                0.195                            0.230           -1.960008   \n",
       "2                0.220                            0.220            0.000000   \n",
       "3                0.225                            0.230           -0.447437   \n",
       "4                0.215                            0.215            0.000000   \n",
       "\n",
       "   p_value  transformation_time  training_time  ...  boot_t_991  boot_t_992  \\\n",
       "0    0.488             0.007718       0.054796  ...   -0.378100    0.707992   \n",
       "1    0.062             0.003507       0.040737  ...   -0.775761   -0.906390   \n",
       "2    0.790             0.004069       0.042897  ...    0.577832    1.347719   \n",
       "3    0.790             0.003581       0.041727  ...    0.577832    0.817861   \n",
       "4    0.908             0.003597       0.042431  ...    0.633089   -0.577832   \n",
       "\n",
       "   boot_t_993  boot_t_994  boot_t_995  boot_t_996  boot_t_997  boot_t_998  \\\n",
       "0    0.447437   -0.277403    0.707992    0.000000    0.378100    1.270001   \n",
       "1   -0.896221   -1.002509    0.301580   -0.833494    0.906390    0.000000   \n",
       "2   -2.264554    1.421338   -0.447437    2.487080   -1.002509    0.906390   \n",
       "3   -1.002509   -1.270001    1.643990   -0.817861   -1.745189   -1.421338   \n",
       "4    0.378100   -1.270001   -0.301580   -0.707992    1.002509   -0.447437   \n",
       "\n",
       "   boot_t_999  boot_t_1000  \n",
       "0    2.264554     0.000000  \n",
       "1   -2.020305     0.000000  \n",
       "2   -1.002509     1.002509  \n",
       "3   -1.421338     1.347719  \n",
       "4   -0.447437     0.000000  \n",
       "\n",
       "[5 rows x 1011 columns]"
      ]
     },
     "execution_count": 9,
     "metadata": {},
     "output_type": "execute_result"
    }
   ],
   "source": [
    "tests2 = LIMts_test(train=train,\n",
    "                   dev=dev,\n",
    "                   train_transformation=toy_transformation,\n",
    "                   dev_transformation=toy_transformation,\n",
    "                   rho=0.78,\n",
    "                   Model=LRWrapper,\n",
    "                   hyperparams=hyperparams,\n",
    "                   M=M,\n",
    "                   E=1,\n",
    "                   S=S)\n",
    "\n",
    "tests2"
   ]
  },
  {
   "cell_type": "code",
   "execution_count": 10,
   "metadata": {},
   "outputs": [
    {
     "data": {
      "image/png": "[encoded data removed]",
      "text/plain": [
       "<Figure size 432x288 with 1 Axes>"
      ]
     },
     "metadata": {
      "needs_background": "light"
     },
     "output_type": "display_data"
    }
   ],
   "source": [
    "tests2.iloc[0][[\"boot_t_{}\".format(i+1) for i in range(S)]].hist();\n",
    "tests2.iloc[2][[\"boot_t_{}\".format(i+1) for i in range(S)]].hist();\n",
    "tests2.iloc[3][[\"boot_t_{}\".format(i+1) for i in range(S)]].hist();"
   ]
  },
  {
   "cell_type": "code",
   "execution_count": 12,
   "metadata": {},
   "outputs": [],
   "source": [
    "assert np.any(tests1.p_value < (0.05/M))\n",
    "assert not np.any(tests2.p_value < (0.05/M))"
   ]
  },
  {
   "cell_type": "code",
   "execution_count": 14,
   "metadata": {},
   "outputs": [
    {
     "data": {
      "text/plain": [
       "0    0.488\n",
       "1    0.062\n",
       "2    0.790\n",
       "3    0.790\n",
       "4    0.908\n",
       "Name: p_value, dtype: float64"
      ]
     },
     "execution_count": 14,
     "metadata": {},
     "output_type": "execute_result"
    }
   ],
   "source": [
    "tests2.p_value"
   ]
  },
  {
   "cell_type": "code",
   "execution_count": null,
   "metadata": {},
   "outputs": [],
   "source": []
  }
 ],
 "metadata": {
  "kernelspec": {
   "display_name": "Python 3",
   "language": "python",
   "name": "python3"
  },
  "language_info": {
   "codemirror_mode": {
    "name": "ipython",
    "version": 3
   },
   "file_extension": ".py",
   "mimetype": "text/x-python",
   "name": "python",
   "nbconvert_exporter": "python",
   "pygments_lexer": "ipython3",
   "version": "3.6.8"
  }
 },
 "nbformat": 4,
 "nbformat_minor": 2
}
