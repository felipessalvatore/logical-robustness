{
 "cells": [
  {
   "cell_type": "code",
   "execution_count": 1,
   "metadata": {},
   "outputs": [],
   "source": [
    "import pandas as pd\n",
    "import numpy as np\n",
    "import matplotlib.pyplot as plt\n",
    "import seaborn as sns\n",
    "from lr.text_processing.util import pre_process_nli_df\n",
    "from lr.training.util import get_ternary_label\n",
    "from lr.text_processing.transformations.structural import entailment_internalization\n",
    "from lr.text_processing.transformations.synonyms import toy_transformation\n",
    "from lr.stats.h_testing import DGP, get_matched_results, get_paired_t_statistic\n",
    "from lr.stats.h_testing import get_boot_sample_under_H0,get_boot_p_value\n",
    "from lr.stats.h_testing import  LIMts_test\n",
    "from lr.training.language_representation import Tfidf\n",
    "from lr.models.logistic_regression import LRWrapper\n",
    "import warnings\n",
    "warnings.filterwarnings(\"ignore\", category=RuntimeWarning)"
   ]
  },
  {
   "cell_type": "markdown",
   "metadata": {},
   "source": [
    "### Loading data"
   ]
  },
  {
   "cell_type": "code",
   "execution_count": 2,
   "metadata": {},
   "outputs": [],
   "source": [
    "train_path = \"data/toy/train.csv\"\n",
    "dev_path = \"data/toy/dev.csv\"\n",
    "train = pd.read_csv(train_path)\n",
    "dev = pd.read_csv(dev_path)\n",
    "pre_process_nli_df(train)\n",
    "pre_process_nli_df(dev)"
   ]
  },
  {
   "cell_type": "markdown",
   "metadata": {},
   "source": [
    "### Training a model using one version of the modified data"
   ]
  },
  {
   "cell_type": "code",
   "execution_count": 3,
   "metadata": {},
   "outputs": [],
   "source": [
    "max_features = 500\n",
    "rho = 0.001\n",
    "label_translation = get_ternary_label\n",
    "transformation = entailment_internalization \n",
    "\n",
    "dgp = DGP(data=train, transformation=transformation, rho=rho)\n",
    "train_t = dgp.get_sample()\n",
    "\n",
    "hyperparams = {\"RepresentationFunction\": Tfidf,\n",
    "               \"max_features\": max_features,\n",
    "               \"label_translation\": label_translation,\n",
    "               \"penalty\": \"l2\",\n",
    "               \"C\": 1,\n",
    "               'solver': 'lbfgs'}\n",
    "lr = LRWrapper(hyperparams)\n",
    "lr.fit(train_t)"
   ]
  },
  {
   "cell_type": "markdown",
   "metadata": {},
   "source": [
    "### Get t statistic for the observable results and matched results"
   ]
  },
  {
   "cell_type": "code",
   "execution_count": 4,
   "metadata": {},
   "outputs": [
    {
     "name": "stdout",
     "output_type": "stream",
     "text": [
      "-1.2964074471043285\n"
     ]
    }
   ],
   "source": [
    "dev_t = transformation(dev)\n",
    "\n",
    "results = get_matched_results(dev, dev_t, lr, lr.label_translation)\n",
    "t_obs = get_paired_t_statistic(results)\n",
    "\n",
    "print(t_obs)"
   ]
  },
  {
   "cell_type": "markdown",
   "metadata": {},
   "source": [
    "### Get $S$ bootstrap replications under H0"
   ]
  },
  {
   "cell_type": "code",
   "execution_count": 5,
   "metadata": {},
   "outputs": [],
   "source": [
    "S = 1000\n",
    "t_boots = []\n",
    "for _ in range(S):\n",
    "    boot_sample = get_boot_sample_under_H0(results)\n",
    "    t = get_paired_t_statistic(boot_sample)\n",
    "    t_boots.append(t)\n",
    "\n",
    "t_boots = pd.Series(t_boots)"
   ]
  },
  {
   "cell_type": "markdown",
   "metadata": {},
   "source": [
    "### Calculating the associated p-value"
   ]
  },
  {
   "cell_type": "code",
   "execution_count": 6,
   "metadata": {},
   "outputs": [
    {
     "data": {
      "image/png": "[encoded data removed]",
      "text/plain": [
       "<Figure size 720x360 with 1 Axes>"
      ]
     },
     "metadata": {
      "needs_background": "light"
     },
     "output_type": "display_data"
    }
   ],
   "source": [
    "p_value = get_boot_p_value(t_boots, t_obs)\n",
    "\n",
    "fig, ax = plt.subplots(figsize=(10,5))\n",
    "t_boots.hist(ax=ax, label=\"bootstrap replications\");\n",
    "plt.axvline(x=t_obs, color='r', linestyle='-', label=\"observed\");\n",
    "ax.set_xlabel(\"t\", fontsize=14);\n",
    "ax.set_ylabel(\"frequency\", fontsize=14);\n",
    "ax.set_title(\"Bootstrap test histogram (p-value = {:.8f})\".format(p_value) +\"\\n\", fontsize=16)\n",
    "plt.legend(loc=\"best\");"
   ]
  },
  {
   "cell_type": "markdown",
   "metadata": {},
   "source": [
    "### Performing multiple tests\n",
    "\n",
    "**test1: entailment internalization**"
   ]
  },
  {
   "cell_type": "code",
   "execution_count": 7,
   "metadata": {},
   "outputs": [
    {
     "data": {
      "text/html": [
       "<div>\n",
       "<style scoped>\n",
       "    .dataframe tbody tr th:only-of-type {\n",
       "        vertical-align: middle;\n",
       "    }\n",
       "\n",
       "    .dataframe tbody tr th {\n",
       "        vertical-align: top;\n",
       "    }\n",
       "\n",
       "    .dataframe thead th {\n",
       "        text-align: right;\n",
       "    }\n",
       "</style>\n",
       "<table border=\"1\" class=\"dataframe\">\n",
       "  <thead>\n",
       "    <tr style=\"text-align: right;\">\n",
       "      <th></th>\n",
       "      <th>m</th>\n",
       "      <th>e</th>\n",
       "      <th>validation_accuracy</th>\n",
       "      <th>transformed_validation_accuracy</th>\n",
       "      <th>observable_t_stats</th>\n",
       "      <th>p_value</th>\n",
       "      <th>transformation_time</th>\n",
       "      <th>training_time</th>\n",
       "      <th>test_time</th>\n",
       "      <th>boot_t_1</th>\n",
       "      <th>...</th>\n",
       "      <th>boot_t_991</th>\n",
       "      <th>boot_t_992</th>\n",
       "      <th>boot_t_993</th>\n",
       "      <th>boot_t_994</th>\n",
       "      <th>boot_t_995</th>\n",
       "      <th>boot_t_996</th>\n",
       "      <th>boot_t_997</th>\n",
       "      <th>boot_t_998</th>\n",
       "      <th>boot_t_999</th>\n",
       "      <th>boot_t_1000</th>\n",
       "    </tr>\n",
       "  </thead>\n",
       "  <tbody>\n",
       "    <tr>\n",
       "      <th>0</th>\n",
       "      <td>1</td>\n",
       "      <td>1</td>\n",
       "      <td>0.285</td>\n",
       "      <td>0.525</td>\n",
       "      <td>-7.947194</td>\n",
       "      <td>0.0</td>\n",
       "      <td>0.013366</td>\n",
       "      <td>0.060534</td>\n",
       "      <td>2.307883</td>\n",
       "      <td>-0.142864</td>\n",
       "      <td>...</td>\n",
       "      <td>2.043608</td>\n",
       "      <td>1.783315</td>\n",
       "      <td>-1.112830</td>\n",
       "      <td>-0.555127</td>\n",
       "      <td>1.318761</td>\n",
       "      <td>1.239156</td>\n",
       "      <td>-1.002509</td>\n",
       "      <td>-0.686803</td>\n",
       "      <td>-0.294948</td>\n",
       "      <td>0.899843</td>\n",
       "    </tr>\n",
       "    <tr>\n",
       "      <th>1</th>\n",
       "      <td>2</td>\n",
       "      <td>1</td>\n",
       "      <td>0.300</td>\n",
       "      <td>0.540</td>\n",
       "      <td>-7.947194</td>\n",
       "      <td>0.0</td>\n",
       "      <td>0.006512</td>\n",
       "      <td>0.055785</td>\n",
       "      <td>2.442291</td>\n",
       "      <td>0.152507</td>\n",
       "      <td>...</td>\n",
       "      <td>-1.112830</td>\n",
       "      <td>0.262658</td>\n",
       "      <td>0.000000</td>\n",
       "      <td>1.023727</td>\n",
       "      <td>1.053361</td>\n",
       "      <td>-1.002509</td>\n",
       "      <td>-0.288735</td>\n",
       "      <td>-0.420269</td>\n",
       "      <td>1.046351</td>\n",
       "      <td>-1.581221</td>\n",
       "    </tr>\n",
       "    <tr>\n",
       "      <th>2</th>\n",
       "      <td>3</td>\n",
       "      <td>1</td>\n",
       "      <td>0.315</td>\n",
       "      <td>0.545</td>\n",
       "      <td>-7.729182</td>\n",
       "      <td>0.0</td>\n",
       "      <td>0.005711</td>\n",
       "      <td>0.051252</td>\n",
       "      <td>2.363859</td>\n",
       "      <td>-0.534905</td>\n",
       "      <td>...</td>\n",
       "      <td>-0.420269</td>\n",
       "      <td>0.277403</td>\n",
       "      <td>0.000000</td>\n",
       "      <td>-0.149079</td>\n",
       "      <td>0.160138</td>\n",
       "      <td>0.149079</td>\n",
       "      <td>-0.746393</td>\n",
       "      <td>0.308680</td>\n",
       "      <td>-1.450953</td>\n",
       "      <td>-0.288735</td>\n",
       "    </tr>\n",
       "    <tr>\n",
       "      <th>3</th>\n",
       "      <td>4</td>\n",
       "      <td>1</td>\n",
       "      <td>0.305</td>\n",
       "      <td>0.550</td>\n",
       "      <td>-8.056095</td>\n",
       "      <td>0.0</td>\n",
       "      <td>0.006003</td>\n",
       "      <td>0.067814</td>\n",
       "      <td>2.259454</td>\n",
       "      <td>-1.960008</td>\n",
       "      <td>...</td>\n",
       "      <td>0.544735</td>\n",
       "      <td>0.633089</td>\n",
       "      <td>1.367172</td>\n",
       "      <td>-1.370776</td>\n",
       "      <td>-0.468779</td>\n",
       "      <td>-1.887416</td>\n",
       "      <td>0.000000</td>\n",
       "      <td>0.457735</td>\n",
       "      <td>0.404686</td>\n",
       "      <td>1.558573</td>\n",
       "    </tr>\n",
       "    <tr>\n",
       "      <th>4</th>\n",
       "      <td>5</td>\n",
       "      <td>1</td>\n",
       "      <td>0.325</td>\n",
       "      <td>0.580</td>\n",
       "      <td>-8.273837</td>\n",
       "      <td>0.0</td>\n",
       "      <td>0.005707</td>\n",
       "      <td>0.054465</td>\n",
       "      <td>2.313537</td>\n",
       "      <td>-0.420269</td>\n",
       "      <td>...</td>\n",
       "      <td>0.000000</td>\n",
       "      <td>1.239156</td>\n",
       "      <td>-1.585549</td>\n",
       "      <td>-0.272216</td>\n",
       "      <td>-2.043608</td>\n",
       "      <td>1.046351</td>\n",
       "      <td>1.614943</td>\n",
       "      <td>0.566139</td>\n",
       "      <td>-0.134846</td>\n",
       "      <td>0.142864</td>\n",
       "    </tr>\n",
       "  </tbody>\n",
       "</table>\n",
       "<p>5 rows × 1009 columns</p>\n",
       "</div>"
      ],
      "text/plain": [
       "   m  e  validation_accuracy  transformed_validation_accuracy  \\\n",
       "0  1  1                0.285                            0.525   \n",
       "1  2  1                0.300                            0.540   \n",
       "2  3  1                0.315                            0.545   \n",
       "3  4  1                0.305                            0.550   \n",
       "4  5  1                0.325                            0.580   \n",
       "\n",
       "   observable_t_stats  p_value  transformation_time  training_time  test_time  \\\n",
       "0           -7.947194      0.0             0.013366       0.060534   2.307883   \n",
       "1           -7.947194      0.0             0.006512       0.055785   2.442291   \n",
       "2           -7.729182      0.0             0.005711       0.051252   2.363859   \n",
       "3           -8.056095      0.0             0.006003       0.067814   2.259454   \n",
       "4           -8.273837      0.0             0.005707       0.054465   2.313537   \n",
       "\n",
       "   boot_t_1  ...  boot_t_991  boot_t_992  boot_t_993  boot_t_994  boot_t_995  \\\n",
       "0 -0.142864  ...    2.043608    1.783315   -1.112830   -0.555127    1.318761   \n",
       "1  0.152507  ...   -1.112830    0.262658    0.000000    1.023727    1.053361   \n",
       "2 -0.534905  ...   -0.420269    0.277403    0.000000   -0.149079    0.160138   \n",
       "3 -1.960008  ...    0.544735    0.633089    1.367172   -1.370776   -0.468779   \n",
       "4 -0.420269  ...    0.000000    1.239156   -1.585549   -0.272216   -2.043608   \n",
       "\n",
       "   boot_t_996  boot_t_997  boot_t_998  boot_t_999  boot_t_1000  \n",
       "0    1.239156   -1.002509   -0.686803   -0.294948     0.899843  \n",
       "1   -1.002509   -0.288735   -0.420269    1.046351    -1.581221  \n",
       "2    0.149079   -0.746393    0.308680   -1.450953    -0.288735  \n",
       "3   -1.887416    0.000000    0.457735    0.404686     1.558573  \n",
       "4    1.046351    1.614943    0.566139   -0.134846     0.142864  \n",
       "\n",
       "[5 rows x 1009 columns]"
      ]
     },
     "execution_count": 7,
     "metadata": {},
     "output_type": "execute_result"
    }
   ],
   "source": [
    "M,E,S = 5,1,1000\n",
    "\n",
    "\n",
    "tests1 = LIMts_test(train=train,\n",
    "                    dev=dev,\n",
    "                    transformation=entailment_internalization,\n",
    "                    rho=0.78,\n",
    "                    Model=LRWrapper,\n",
    "                    hyperparams=hyperparams,\n",
    "                    M=M,\n",
    "                    E=E,\n",
    "                    S=S)\n",
    "\n",
    "tests1"
   ]
  },
  {
   "cell_type": "markdown",
   "metadata": {},
   "source": [
    "### Diferent bootstrap distributions for each experiment"
   ]
  },
  {
   "cell_type": "code",
   "execution_count": 8,
   "metadata": {},
   "outputs": [
    {
     "data": {
      "image/png": "[encoded data removed]",
      "text/plain": [
       "<Figure size 432x288 with 1 Axes>"
      ]
     },
     "metadata": {
      "needs_background": "light"
     },
     "output_type": "display_data"
    }
   ],
   "source": [
    "tests1.iloc[0][[\"boot_t_{}\".format(i+1) for i in range(S)]].hist();\n",
    "tests1.iloc[2][[\"boot_t_{}\".format(i+1) for i in range(S)]].hist();\n",
    "tests1.iloc[3][[\"boot_t_{}\".format(i+1) for i in range(S)]].hist();"
   ]
  },
  {
   "cell_type": "markdown",
   "metadata": {},
   "source": [
    "**test2: toy transformation**"
   ]
  },
  {
   "cell_type": "code",
   "execution_count": 9,
   "metadata": {},
   "outputs": [
    {
     "data": {
      "text/html": [
       "<div>\n",
       "<style scoped>\n",
       "    .dataframe tbody tr th:only-of-type {\n",
       "        vertical-align: middle;\n",
       "    }\n",
       "\n",
       "    .dataframe tbody tr th {\n",
       "        vertical-align: top;\n",
       "    }\n",
       "\n",
       "    .dataframe thead th {\n",
       "        text-align: right;\n",
       "    }\n",
       "</style>\n",
       "<table border=\"1\" class=\"dataframe\">\n",
       "  <thead>\n",
       "    <tr style=\"text-align: right;\">\n",
       "      <th></th>\n",
       "      <th>m</th>\n",
       "      <th>e</th>\n",
       "      <th>validation_accuracy</th>\n",
       "      <th>transformed_validation_accuracy</th>\n",
       "      <th>observable_t_stats</th>\n",
       "      <th>p_value</th>\n",
       "      <th>transformation_time</th>\n",
       "      <th>training_time</th>\n",
       "      <th>test_time</th>\n",
       "      <th>boot_t_1</th>\n",
       "      <th>...</th>\n",
       "      <th>boot_t_991</th>\n",
       "      <th>boot_t_992</th>\n",
       "      <th>boot_t_993</th>\n",
       "      <th>boot_t_994</th>\n",
       "      <th>boot_t_995</th>\n",
       "      <th>boot_t_996</th>\n",
       "      <th>boot_t_997</th>\n",
       "      <th>boot_t_998</th>\n",
       "      <th>boot_t_999</th>\n",
       "      <th>boot_t_1000</th>\n",
       "    </tr>\n",
       "  </thead>\n",
       "  <tbody>\n",
       "    <tr>\n",
       "      <th>0</th>\n",
       "      <td>1</td>\n",
       "      <td>1</td>\n",
       "      <td>0.230</td>\n",
       "      <td>0.220</td>\n",
       "      <td>0.577832</td>\n",
       "      <td>0.532</td>\n",
       "      <td>0.006033</td>\n",
       "      <td>0.045222</td>\n",
       "      <td>2.425029</td>\n",
       "      <td>0.000000</td>\n",
       "      <td>...</td>\n",
       "      <td>0.833494</td>\n",
       "      <td>1.150871</td>\n",
       "      <td>-1.002509</td>\n",
       "      <td>0.577832</td>\n",
       "      <td>-1.822336</td>\n",
       "      <td>-0.277403</td>\n",
       "      <td>-0.534905</td>\n",
       "      <td>-1.347719</td>\n",
       "      <td>1.296407</td>\n",
       "      <td>-0.277403</td>\n",
       "    </tr>\n",
       "    <tr>\n",
       "      <th>1</th>\n",
       "      <td>2</td>\n",
       "      <td>1</td>\n",
       "      <td>0.210</td>\n",
       "      <td>0.205</td>\n",
       "      <td>0.277403</td>\n",
       "      <td>0.798</td>\n",
       "      <td>0.003642</td>\n",
       "      <td>0.047525</td>\n",
       "      <td>2.351373</td>\n",
       "      <td>-1.393466</td>\n",
       "      <td>...</td>\n",
       "      <td>-1.508509</td>\n",
       "      <td>0.728572</td>\n",
       "      <td>1.914677</td>\n",
       "      <td>1.002509</td>\n",
       "      <td>0.333426</td>\n",
       "      <td>-0.707992</td>\n",
       "      <td>-0.258242</td>\n",
       "      <td>0.471667</td>\n",
       "      <td>-1.002509</td>\n",
       "      <td>-0.577832</td>\n",
       "    </tr>\n",
       "    <tr>\n",
       "      <th>2</th>\n",
       "      <td>3</td>\n",
       "      <td>1</td>\n",
       "      <td>0.205</td>\n",
       "      <td>0.220</td>\n",
       "      <td>-1.347719</td>\n",
       "      <td>0.224</td>\n",
       "      <td>0.003916</td>\n",
       "      <td>0.055310</td>\n",
       "      <td>2.532464</td>\n",
       "      <td>-0.707992</td>\n",
       "      <td>...</td>\n",
       "      <td>-1.347719</td>\n",
       "      <td>1.002509</td>\n",
       "      <td>-0.577832</td>\n",
       "      <td>-1.745189</td>\n",
       "      <td>-2.020305</td>\n",
       "      <td>0.000000</td>\n",
       "      <td>-0.447437</td>\n",
       "      <td>-0.577832</td>\n",
       "      <td>1.002509</td>\n",
       "      <td>0.577832</td>\n",
       "    </tr>\n",
       "    <tr>\n",
       "      <th>3</th>\n",
       "      <td>4</td>\n",
       "      <td>1</td>\n",
       "      <td>0.205</td>\n",
       "      <td>0.215</td>\n",
       "      <td>-0.633089</td>\n",
       "      <td>0.520</td>\n",
       "      <td>0.004526</td>\n",
       "      <td>0.044667</td>\n",
       "      <td>2.400237</td>\n",
       "      <td>-1.270001</td>\n",
       "      <td>...</td>\n",
       "      <td>0.333426</td>\n",
       "      <td>0.817861</td>\n",
       "      <td>-1.508509</td>\n",
       "      <td>-1.678363</td>\n",
       "      <td>-0.906390</td>\n",
       "      <td>-2.340823</td>\n",
       "      <td>1.072113</td>\n",
       "      <td>0.471667</td>\n",
       "      <td>0.000000</td>\n",
       "      <td>-0.833494</td>\n",
       "    </tr>\n",
       "    <tr>\n",
       "      <th>4</th>\n",
       "      <td>5</td>\n",
       "      <td>1</td>\n",
       "      <td>0.220</td>\n",
       "      <td>0.225</td>\n",
       "      <td>-0.447437</td>\n",
       "      <td>0.766</td>\n",
       "      <td>0.003872</td>\n",
       "      <td>0.044157</td>\n",
       "      <td>2.338308</td>\n",
       "      <td>-1.643990</td>\n",
       "      <td>...</td>\n",
       "      <td>-0.577832</td>\n",
       "      <td>1.002509</td>\n",
       "      <td>-0.577832</td>\n",
       "      <td>-1.347719</td>\n",
       "      <td>-0.447437</td>\n",
       "      <td>0.577832</td>\n",
       "      <td>0.447437</td>\n",
       "      <td>-1.002509</td>\n",
       "      <td>0.000000</td>\n",
       "      <td>-1.002509</td>\n",
       "    </tr>\n",
       "  </tbody>\n",
       "</table>\n",
       "<p>5 rows × 1009 columns</p>\n",
       "</div>"
      ],
      "text/plain": [
       "   m  e  validation_accuracy  transformed_validation_accuracy  \\\n",
       "0  1  1                0.230                            0.220   \n",
       "1  2  1                0.210                            0.205   \n",
       "2  3  1                0.205                            0.220   \n",
       "3  4  1                0.205                            0.215   \n",
       "4  5  1                0.220                            0.225   \n",
       "\n",
       "   observable_t_stats  p_value  transformation_time  training_time  test_time  \\\n",
       "0            0.577832    0.532             0.006033       0.045222   2.425029   \n",
       "1            0.277403    0.798             0.003642       0.047525   2.351373   \n",
       "2           -1.347719    0.224             0.003916       0.055310   2.532464   \n",
       "3           -0.633089    0.520             0.004526       0.044667   2.400237   \n",
       "4           -0.447437    0.766             0.003872       0.044157   2.338308   \n",
       "\n",
       "   boot_t_1  ...  boot_t_991  boot_t_992  boot_t_993  boot_t_994  boot_t_995  \\\n",
       "0  0.000000  ...    0.833494    1.150871   -1.002509    0.577832   -1.822336   \n",
       "1 -1.393466  ...   -1.508509    0.728572    1.914677    1.002509    0.333426   \n",
       "2 -0.707992  ...   -1.347719    1.002509   -0.577832   -1.745189   -2.020305   \n",
       "3 -1.270001  ...    0.333426    0.817861   -1.508509   -1.678363   -0.906390   \n",
       "4 -1.643990  ...   -0.577832    1.002509   -0.577832   -1.347719   -0.447437   \n",
       "\n",
       "   boot_t_996  boot_t_997  boot_t_998  boot_t_999  boot_t_1000  \n",
       "0   -0.277403   -0.534905   -1.347719    1.296407    -0.277403  \n",
       "1   -0.707992   -0.258242    0.471667   -1.002509    -0.577832  \n",
       "2    0.000000   -0.447437   -0.577832    1.002509     0.577832  \n",
       "3   -2.340823    1.072113    0.471667    0.000000    -0.833494  \n",
       "4    0.577832    0.447437   -1.002509    0.000000    -1.002509  \n",
       "\n",
       "[5 rows x 1009 columns]"
      ]
     },
     "execution_count": 9,
     "metadata": {},
     "output_type": "execute_result"
    }
   ],
   "source": [
    "tests2 = LIMts_test(train=train,\n",
    "                   dev=dev,\n",
    "                   transformation=toy_transformation,\n",
    "                   rho=0.78,\n",
    "                   Model=LRWrapper,\n",
    "                   hyperparams=hyperparams,\n",
    "                   M=M,\n",
    "                   E=E,\n",
    "                   S=S)\n",
    "\n",
    "tests2"
   ]
  },
  {
   "cell_type": "code",
   "execution_count": 10,
   "metadata": {},
   "outputs": [
    {
     "data": {
      "image/png": "[encoded data removed]",
      "text/plain": [
       "<Figure size 432x288 with 1 Axes>"
      ]
     },
     "metadata": {
      "needs_background": "light"
     },
     "output_type": "display_data"
    }
   ],
   "source": [
    "tests2.iloc[0][[\"boot_t_{}\".format(i+1) for i in range(S)]].hist();\n",
    "tests2.iloc[2][[\"boot_t_{}\".format(i+1) for i in range(S)]].hist();\n",
    "tests2.iloc[3][[\"boot_t_{}\".format(i+1) for i in range(S)]].hist();"
   ]
  },
  {
   "cell_type": "code",
   "execution_count": 11,
   "metadata": {},
   "outputs": [],
   "source": [
    "assert np.all(tests1.p_value < (0.05/M*E))\n",
    "assert not np.all(tests2.p_value < (0.05/M*E))"
   ]
  },
  {
   "cell_type": "code",
   "execution_count": null,
   "metadata": {},
   "outputs": [],
   "source": []
  },
  {
   "cell_type": "code",
   "execution_count": null,
   "metadata": {},
   "outputs": [],
   "source": []
  }
 ],
 "metadata": {
  "kernelspec": {
   "display_name": "Python 3",
   "language": "python",
   "name": "python3"
  },
  "language_info": {
   "codemirror_mode": {
    "name": "ipython",
    "version": 3
   },
   "file_extension": ".py",
   "mimetype": "text/x-python",
   "name": "python",
   "nbconvert_exporter": "python",
   "pygments_lexer": "ipython3",
   "version": "3.6.8"
  }
 },
 "nbformat": 4,
 "nbformat_minor": 2
}
