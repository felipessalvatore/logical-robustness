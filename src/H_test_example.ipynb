{
 "cells": [
  {
   "cell_type": "code",
   "execution_count": 1,
   "metadata": {},
   "outputs": [],
   "source": [
    "import pandas as pd\n",
    "import numpy as np\n",
    "import matplotlib.pyplot as plt\n",
    "import seaborn as sns\n",
    "from lr.text_processing.util import pre_process_nli_df\n",
    "from lr.training.util import get_ternary_label\n",
    "from lr.text_processing.transformations.structural import entailment_internalization\n",
    "from lr.text_processing.transformations.synonyms import toy_transformation\n",
    "from lr.stats.h_testing import DGP, get_matched_results, get_paired_t_statistic\n",
    "from lr.stats.h_testing import get_boot_sample_under_H0,get_boot_p_value\n",
    "from lr.stats.h_testing import  LIMts_test\n",
    "from lr.training.language_representation import Tfidf\n",
    "from lr.models.logistic_regression import LRWrapper\n",
    "import warnings\n",
    "warnings.filterwarnings(\"ignore\", category=RuntimeWarning)"
   ]
  },
  {
   "cell_type": "markdown",
   "metadata": {},
   "source": [
    "### Loading data"
   ]
  },
  {
   "cell_type": "code",
   "execution_count": 2,
   "metadata": {},
   "outputs": [],
   "source": [
    "train_path = \"data/toy/train.csv\"\n",
    "dev_path = \"data/toy/dev.csv\"\n",
    "train = pd.read_csv(train_path)\n",
    "dev = pd.read_csv(dev_path)\n",
    "pre_process_nli_df(train)\n",
    "pre_process_nli_df(dev)"
   ]
  },
  {
   "cell_type": "markdown",
   "metadata": {},
   "source": [
    "### Training a model using one version of the modified data"
   ]
  },
  {
   "cell_type": "code",
   "execution_count": 3,
   "metadata": {},
   "outputs": [],
   "source": [
    "max_features = 500\n",
    "rho = 0.001\n",
    "label_translation = get_ternary_label\n",
    "transformation = entailment_internalization \n",
    "\n",
    "dgp = DGP(data=train, transformation=transformation, rho=rho)\n",
    "train_t = dgp.get_sample()\n",
    "\n",
    "hyperparams = {\"RepresentationFunction\": Tfidf,\n",
    "               \"max_features\": max_features,\n",
    "               \"label_translation\": label_translation,\n",
    "               \"penalty\": \"l2\",\n",
    "               \"C\": 1,\n",
    "               'solver': 'lbfgs'}\n",
    "lr = LRWrapper(hyperparams)\n",
    "lr.fit(train_t)"
   ]
  },
  {
   "cell_type": "markdown",
   "metadata": {},
   "source": [
    "### Get t statistic for the observable results and matched results"
   ]
  },
  {
   "cell_type": "code",
   "execution_count": 4,
   "metadata": {},
   "outputs": [
    {
     "name": "stdout",
     "output_type": "stream",
     "text": [
      "-1.2964074471043285\n"
     ]
    }
   ],
   "source": [
    "dev_t = transformation(dev)\n",
    "\n",
    "results = get_matched_results(dev, dev_t, lr, lr.label_translation)\n",
    "t_obs = get_paired_t_statistic(results)\n",
    "\n",
    "print(t_obs)"
   ]
  },
  {
   "cell_type": "markdown",
   "metadata": {},
   "source": [
    "### Get $S$ bootstrap replications under H0"
   ]
  },
  {
   "cell_type": "code",
   "execution_count": 5,
   "metadata": {},
   "outputs": [],
   "source": [
    "S = 1000\n",
    "t_boots = []\n",
    "for _ in range(S):\n",
    "    boot_sample = get_boot_sample_under_H0(results)\n",
    "    t = get_paired_t_statistic(boot_sample)\n",
    "    t_boots.append(t)\n",
    "\n",
    "t_boots = pd.Series(t_boots)"
   ]
  },
  {
   "cell_type": "markdown",
   "metadata": {},
   "source": [
    "### Calculating the associated p-value"
   ]
  },
  {
   "cell_type": "code",
   "execution_count": 6,
   "metadata": {},
   "outputs": [
    {
     "data": {
      "image/png": "[encoded data removed]",
      "text/plain": [
       "<Figure size 720x360 with 1 Axes>"
      ]
     },
     "metadata": {
      "needs_background": "light"
     },
     "output_type": "display_data"
    }
   ],
   "source": [
    "p_value = get_boot_p_value(t_boots, t_obs)\n",
    "\n",
    "fig, ax = plt.subplots(figsize=(10,5))\n",
    "t_boots.hist(ax=ax, label=\"bootstrap replications\");\n",
    "plt.axvline(x=t_obs, color='r', linestyle='-', label=\"observed\");\n",
    "ax.set_xlabel(\"t\", fontsize=14);\n",
    "ax.set_ylabel(\"frequency\", fontsize=14);\n",
    "ax.set_title(\"Bootstrap test histogram (p-value = {:.8f})\".format(p_value) +\"\\n\", fontsize=16)\n",
    "plt.legend(loc=\"best\");"
   ]
  },
  {
   "cell_type": "markdown",
   "metadata": {},
   "source": [
    "### Performing multiple tests\n",
    "\n",
    "**test1: entailment internalization**"
   ]
  },
  {
   "cell_type": "code",
   "execution_count": 7,
   "metadata": {},
   "outputs": [
    {
     "data": {
      "text/html": [
       "<div>\n",
       "<style scoped>\n",
       "    .dataframe tbody tr th:only-of-type {\n",
       "        vertical-align: middle;\n",
       "    }\n",
       "\n",
       "    .dataframe tbody tr th {\n",
       "        vertical-align: top;\n",
       "    }\n",
       "\n",
       "    .dataframe thead th {\n",
       "        text-align: right;\n",
       "    }\n",
       "</style>\n",
       "<table border=\"1\" class=\"dataframe\">\n",
       "  <thead>\n",
       "    <tr style=\"text-align: right;\">\n",
       "      <th></th>\n",
       "      <th>m</th>\n",
       "      <th>e</th>\n",
       "      <th>validation_accuracy</th>\n",
       "      <th>transformed_validation_accuracy</th>\n",
       "      <th>observable_t_stats</th>\n",
       "      <th>p_value</th>\n",
       "      <th>transformation_time</th>\n",
       "      <th>training_time</th>\n",
       "      <th>test_time</th>\n",
       "      <th>boot_t_1</th>\n",
       "      <th>...</th>\n",
       "      <th>boot_t_991</th>\n",
       "      <th>boot_t_992</th>\n",
       "      <th>boot_t_993</th>\n",
       "      <th>boot_t_994</th>\n",
       "      <th>boot_t_995</th>\n",
       "      <th>boot_t_996</th>\n",
       "      <th>boot_t_997</th>\n",
       "      <th>boot_t_998</th>\n",
       "      <th>boot_t_999</th>\n",
       "      <th>boot_t_1000</th>\n",
       "    </tr>\n",
       "  </thead>\n",
       "  <tbody>\n",
       "    <tr>\n",
       "      <th>0</th>\n",
       "      <td>1</td>\n",
       "      <td>1</td>\n",
       "      <td>0.310</td>\n",
       "      <td>0.550</td>\n",
       "      <td>-7.947194</td>\n",
       "      <td>0.0</td>\n",
       "      <td>0.011596</td>\n",
       "      <td>0.059425</td>\n",
       "      <td>2.189541</td>\n",
       "      <td>0.590281</td>\n",
       "      <td>...</td>\n",
       "      <td>0.566139</td>\n",
       "      <td>0.590281</td>\n",
       "      <td>-0.534905</td>\n",
       "      <td>-0.590281</td>\n",
       "      <td>-0.555127</td>\n",
       "      <td>0.149079</td>\n",
       "      <td>0.746393</td>\n",
       "      <td>-0.633089</td>\n",
       "      <td>0.603572</td>\n",
       "      <td>1.347719</td>\n",
       "    </tr>\n",
       "    <tr>\n",
       "      <th>1</th>\n",
       "      <td>2</td>\n",
       "      <td>1</td>\n",
       "      <td>0.310</td>\n",
       "      <td>0.515</td>\n",
       "      <td>-6.970713</td>\n",
       "      <td>0.0</td>\n",
       "      <td>0.005819</td>\n",
       "      <td>0.047955</td>\n",
       "      <td>2.178184</td>\n",
       "      <td>0.867654</td>\n",
       "      <td>...</td>\n",
       "      <td>0.316307</td>\n",
       "      <td>-1.303270</td>\n",
       "      <td>0.152507</td>\n",
       "      <td>-1.487756</td>\n",
       "      <td>-0.782062</td>\n",
       "      <td>0.687614</td>\n",
       "      <td>-0.633089</td>\n",
       "      <td>0.817861</td>\n",
       "      <td>0.000000</td>\n",
       "      <td>-0.763604</td>\n",
       "    </tr>\n",
       "    <tr>\n",
       "      <th>2</th>\n",
       "      <td>3</td>\n",
       "      <td>1</td>\n",
       "      <td>0.290</td>\n",
       "      <td>0.540</td>\n",
       "      <td>-8.164966</td>\n",
       "      <td>0.0</td>\n",
       "      <td>0.007228</td>\n",
       "      <td>0.056557</td>\n",
       "      <td>2.788715</td>\n",
       "      <td>-0.715199</td>\n",
       "      <td>...</td>\n",
       "      <td>-1.552301</td>\n",
       "      <td>0.963754</td>\n",
       "      <td>0.137367</td>\n",
       "      <td>-0.950825</td>\n",
       "      <td>-0.577832</td>\n",
       "      <td>0.730297</td>\n",
       "      <td>0.000000</td>\n",
       "      <td>-0.447437</td>\n",
       "      <td>-0.763604</td>\n",
       "      <td>-0.867654</td>\n",
       "    </tr>\n",
       "    <tr>\n",
       "      <th>3</th>\n",
       "      <td>4</td>\n",
       "      <td>1</td>\n",
       "      <td>0.325</td>\n",
       "      <td>0.575</td>\n",
       "      <td>-8.164966</td>\n",
       "      <td>0.0</td>\n",
       "      <td>0.007075</td>\n",
       "      <td>0.060547</td>\n",
       "      <td>2.681469</td>\n",
       "      <td>0.782062</td>\n",
       "      <td>...</td>\n",
       "      <td>0.149079</td>\n",
       "      <td>-0.782062</td>\n",
       "      <td>-0.457735</td>\n",
       "      <td>0.945989</td>\n",
       "      <td>-0.428768</td>\n",
       "      <td>-1.135009</td>\n",
       "      <td>-0.630567</td>\n",
       "      <td>0.301580</td>\n",
       "      <td>0.294948</td>\n",
       "      <td>0.000000</td>\n",
       "    </tr>\n",
       "    <tr>\n",
       "      <th>4</th>\n",
       "      <td>5</td>\n",
       "      <td>1</td>\n",
       "      <td>0.305</td>\n",
       "      <td>0.545</td>\n",
       "      <td>-7.947194</td>\n",
       "      <td>0.0</td>\n",
       "      <td>0.006939</td>\n",
       "      <td>0.059989</td>\n",
       "      <td>2.846319</td>\n",
       "      <td>0.277403</td>\n",
       "      <td>...</td>\n",
       "      <td>-0.140035</td>\n",
       "      <td>0.294948</td>\n",
       "      <td>0.149079</td>\n",
       "      <td>-0.412257</td>\n",
       "      <td>1.154622</td>\n",
       "      <td>-0.428768</td>\n",
       "      <td>-0.687614</td>\n",
       "      <td>-0.457735</td>\n",
       "      <td>-0.142864</td>\n",
       "      <td>0.000000</td>\n",
       "    </tr>\n",
       "  </tbody>\n",
       "</table>\n",
       "<p>5 rows × 1009 columns</p>\n",
       "</div>"
      ],
      "text/plain": [
       "   m  e  validation_accuracy  transformed_validation_accuracy  \\\n",
       "0  1  1                0.310                            0.550   \n",
       "1  2  1                0.310                            0.515   \n",
       "2  3  1                0.290                            0.540   \n",
       "3  4  1                0.325                            0.575   \n",
       "4  5  1                0.305                            0.545   \n",
       "\n",
       "   observable_t_stats  p_value  transformation_time  training_time  test_time  \\\n",
       "0           -7.947194      0.0             0.011596       0.059425   2.189541   \n",
       "1           -6.970713      0.0             0.005819       0.047955   2.178184   \n",
       "2           -8.164966      0.0             0.007228       0.056557   2.788715   \n",
       "3           -8.164966      0.0             0.007075       0.060547   2.681469   \n",
       "4           -7.947194      0.0             0.006939       0.059989   2.846319   \n",
       "\n",
       "   boot_t_1  ...  boot_t_991  boot_t_992  boot_t_993  boot_t_994  boot_t_995  \\\n",
       "0  0.590281  ...    0.566139    0.590281   -0.534905   -0.590281   -0.555127   \n",
       "1  0.867654  ...    0.316307   -1.303270    0.152507   -1.487756   -0.782062   \n",
       "2 -0.715199  ...   -1.552301    0.963754    0.137367   -0.950825   -0.577832   \n",
       "3  0.782062  ...    0.149079   -0.782062   -0.457735    0.945989   -0.428768   \n",
       "4  0.277403  ...   -0.140035    0.294948    0.149079   -0.412257    1.154622   \n",
       "\n",
       "   boot_t_996  boot_t_997  boot_t_998  boot_t_999  boot_t_1000  \n",
       "0    0.149079    0.746393   -0.633089    0.603572     1.347719  \n",
       "1    0.687614   -0.633089    0.817861    0.000000    -0.763604  \n",
       "2    0.730297    0.000000   -0.447437   -0.763604    -0.867654  \n",
       "3   -1.135009   -0.630567    0.301580    0.294948     0.000000  \n",
       "4   -0.428768   -0.687614   -0.457735   -0.142864     0.000000  \n",
       "\n",
       "[5 rows x 1009 columns]"
      ]
     },
     "execution_count": 7,
     "metadata": {},
     "output_type": "execute_result"
    }
   ],
   "source": [
    "M,E,S = 5,1,1000\n",
    "\n",
    "\n",
    "tests1 = LIMts_test(train=train,\n",
    "                    dev=dev,\n",
    "                    transformation=entailment_internalization,\n",
    "                    rho=0.78,\n",
    "                    Model=LRWrapper,\n",
    "                    hyperparams=hyperparams,\n",
    "                    M=M,\n",
    "                    E=E,\n",
    "                    S=S)\n",
    "\n",
    "tests1"
   ]
  },
  {
   "cell_type": "markdown",
   "metadata": {},
   "source": [
    "### Diferent bootstrap distributions for each experiment"
   ]
  },
  {
   "cell_type": "code",
   "execution_count": 8,
   "metadata": {},
   "outputs": [
    {
     "data": {
      "image/png": "[encoded data removed]",
      "text/plain": [
       "<Figure size 432x288 with 1 Axes>"
      ]
     },
     "metadata": {
      "needs_background": "light"
     },
     "output_type": "display_data"
    }
   ],
   "source": [
    "tests1.iloc[0][[\"boot_t_{}\".format(i+1) for i in range(S)]].hist();\n",
    "tests1.iloc[2][[\"boot_t_{}\".format(i+1) for i in range(S)]].hist();\n",
    "tests1.iloc[3][[\"boot_t_{}\".format(i+1) for i in range(S)]].hist();"
   ]
  },
  {
   "cell_type": "markdown",
   "metadata": {},
   "source": [
    "**test2: toy transformation**"
   ]
  },
  {
   "cell_type": "code",
   "execution_count": 9,
   "metadata": {},
   "outputs": [
    {
     "data": {
      "text/html": [
       "<div>\n",
       "<style scoped>\n",
       "    .dataframe tbody tr th:only-of-type {\n",
       "        vertical-align: middle;\n",
       "    }\n",
       "\n",
       "    .dataframe tbody tr th {\n",
       "        vertical-align: top;\n",
       "    }\n",
       "\n",
       "    .dataframe thead th {\n",
       "        text-align: right;\n",
       "    }\n",
       "</style>\n",
       "<table border=\"1\" class=\"dataframe\">\n",
       "  <thead>\n",
       "    <tr style=\"text-align: right;\">\n",
       "      <th></th>\n",
       "      <th>m</th>\n",
       "      <th>e</th>\n",
       "      <th>validation_accuracy</th>\n",
       "      <th>transformed_validation_accuracy</th>\n",
       "      <th>observable_t_stats</th>\n",
       "      <th>p_value</th>\n",
       "      <th>transformation_time</th>\n",
       "      <th>training_time</th>\n",
       "      <th>test_time</th>\n",
       "      <th>boot_t_1</th>\n",
       "      <th>...</th>\n",
       "      <th>boot_t_991</th>\n",
       "      <th>boot_t_992</th>\n",
       "      <th>boot_t_993</th>\n",
       "      <th>boot_t_994</th>\n",
       "      <th>boot_t_995</th>\n",
       "      <th>boot_t_996</th>\n",
       "      <th>boot_t_997</th>\n",
       "      <th>boot_t_998</th>\n",
       "      <th>boot_t_999</th>\n",
       "      <th>boot_t_1000</th>\n",
       "    </tr>\n",
       "  </thead>\n",
       "  <tbody>\n",
       "    <tr>\n",
       "      <th>0</th>\n",
       "      <td>1</td>\n",
       "      <td>1</td>\n",
       "      <td>0.205</td>\n",
       "      <td>0.230</td>\n",
       "      <td>-1.516196</td>\n",
       "      <td>0.132</td>\n",
       "      <td>0.005717</td>\n",
       "      <td>0.046471</td>\n",
       "      <td>2.264626</td>\n",
       "      <td>-0.817861</td>\n",
       "      <td>...</td>\n",
       "      <td>1.960008</td>\n",
       "      <td>0.633089</td>\n",
       "      <td>0.000000</td>\n",
       "      <td>1.270001</td>\n",
       "      <td>1.270001</td>\n",
       "      <td>1.002509</td>\n",
       "      <td>-0.906390</td>\n",
       "      <td>-0.301580</td>\n",
       "      <td>-0.277403</td>\n",
       "      <td>1.158569</td>\n",
       "    </tr>\n",
       "    <tr>\n",
       "      <th>1</th>\n",
       "      <td>2</td>\n",
       "      <td>1</td>\n",
       "      <td>0.215</td>\n",
       "      <td>0.210</td>\n",
       "      <td>0.301580</td>\n",
       "      <td>0.742</td>\n",
       "      <td>0.003661</td>\n",
       "      <td>0.046892</td>\n",
       "      <td>2.510396</td>\n",
       "      <td>-1.914677</td>\n",
       "      <td>...</td>\n",
       "      <td>1.914677</td>\n",
       "      <td>0.000000</td>\n",
       "      <td>0.000000</td>\n",
       "      <td>-1.393466</td>\n",
       "      <td>-1.270001</td>\n",
       "      <td>1.137556</td>\n",
       "      <td>0.447437</td>\n",
       "      <td>1.643990</td>\n",
       "      <td>-1.002509</td>\n",
       "      <td>0.000000</td>\n",
       "    </tr>\n",
       "    <tr>\n",
       "      <th>2</th>\n",
       "      <td>3</td>\n",
       "      <td>1</td>\n",
       "      <td>0.210</td>\n",
       "      <td>0.215</td>\n",
       "      <td>-0.301580</td>\n",
       "      <td>0.840</td>\n",
       "      <td>0.004508</td>\n",
       "      <td>0.046590</td>\n",
       "      <td>2.289030</td>\n",
       "      <td>0.534905</td>\n",
       "      <td>...</td>\n",
       "      <td>-1.643990</td>\n",
       "      <td>1.270001</td>\n",
       "      <td>-1.158569</td>\n",
       "      <td>0.242571</td>\n",
       "      <td>-0.728572</td>\n",
       "      <td>-1.270001</td>\n",
       "      <td>1.678363</td>\n",
       "      <td>-1.002509</td>\n",
       "      <td>0.000000</td>\n",
       "      <td>0.000000</td>\n",
       "    </tr>\n",
       "    <tr>\n",
       "      <th>3</th>\n",
       "      <td>4</td>\n",
       "      <td>1</td>\n",
       "      <td>0.225</td>\n",
       "      <td>0.220</td>\n",
       "      <td>0.301580</td>\n",
       "      <td>0.724</td>\n",
       "      <td>0.005466</td>\n",
       "      <td>0.050515</td>\n",
       "      <td>2.464297</td>\n",
       "      <td>-1.072113</td>\n",
       "      <td>...</td>\n",
       "      <td>0.258242</td>\n",
       "      <td>-0.277403</td>\n",
       "      <td>0.333426</td>\n",
       "      <td>-2.571297</td>\n",
       "      <td>1.002509</td>\n",
       "      <td>-0.633089</td>\n",
       "      <td>0.817861</td>\n",
       "      <td>-1.516196</td>\n",
       "      <td>-1.158569</td>\n",
       "      <td>0.277403</td>\n",
       "    </tr>\n",
       "    <tr>\n",
       "      <th>4</th>\n",
       "      <td>5</td>\n",
       "      <td>1</td>\n",
       "      <td>0.220</td>\n",
       "      <td>0.210</td>\n",
       "      <td>0.500313</td>\n",
       "      <td>0.590</td>\n",
       "      <td>0.006248</td>\n",
       "      <td>0.054873</td>\n",
       "      <td>2.332450</td>\n",
       "      <td>0.944911</td>\n",
       "      <td>...</td>\n",
       "      <td>-0.500313</td>\n",
       "      <td>-1.745189</td>\n",
       "      <td>-0.633089</td>\n",
       "      <td>1.822336</td>\n",
       "      <td>0.258242</td>\n",
       "      <td>-1.284470</td>\n",
       "      <td>0.600541</td>\n",
       "      <td>0.534905</td>\n",
       "      <td>0.500313</td>\n",
       "      <td>-1.296407</td>\n",
       "    </tr>\n",
       "  </tbody>\n",
       "</table>\n",
       "<p>5 rows × 1009 columns</p>\n",
       "</div>"
      ],
      "text/plain": [
       "   m  e  validation_accuracy  transformed_validation_accuracy  \\\n",
       "0  1  1                0.205                            0.230   \n",
       "1  2  1                0.215                            0.210   \n",
       "2  3  1                0.210                            0.215   \n",
       "3  4  1                0.225                            0.220   \n",
       "4  5  1                0.220                            0.210   \n",
       "\n",
       "   observable_t_stats  p_value  transformation_time  training_time  test_time  \\\n",
       "0           -1.516196    0.132             0.005717       0.046471   2.264626   \n",
       "1            0.301580    0.742             0.003661       0.046892   2.510396   \n",
       "2           -0.301580    0.840             0.004508       0.046590   2.289030   \n",
       "3            0.301580    0.724             0.005466       0.050515   2.464297   \n",
       "4            0.500313    0.590             0.006248       0.054873   2.332450   \n",
       "\n",
       "   boot_t_1  ...  boot_t_991  boot_t_992  boot_t_993  boot_t_994  boot_t_995  \\\n",
       "0 -0.817861  ...    1.960008    0.633089    0.000000    1.270001    1.270001   \n",
       "1 -1.914677  ...    1.914677    0.000000    0.000000   -1.393466   -1.270001   \n",
       "2  0.534905  ...   -1.643990    1.270001   -1.158569    0.242571   -0.728572   \n",
       "3 -1.072113  ...    0.258242   -0.277403    0.333426   -2.571297    1.002509   \n",
       "4  0.944911  ...   -0.500313   -1.745189   -0.633089    1.822336    0.258242   \n",
       "\n",
       "   boot_t_996  boot_t_997  boot_t_998  boot_t_999  boot_t_1000  \n",
       "0    1.002509   -0.906390   -0.301580   -0.277403     1.158569  \n",
       "1    1.137556    0.447437    1.643990   -1.002509     0.000000  \n",
       "2   -1.270001    1.678363   -1.002509    0.000000     0.000000  \n",
       "3   -0.633089    0.817861   -1.516196   -1.158569     0.277403  \n",
       "4   -1.284470    0.600541    0.534905    0.500313    -1.296407  \n",
       "\n",
       "[5 rows x 1009 columns]"
      ]
     },
     "execution_count": 9,
     "metadata": {},
     "output_type": "execute_result"
    }
   ],
   "source": [
    "tests2 = LIMts_test(train=train,\n",
    "                   dev=dev,\n",
    "                   transformation=toy_transformation,\n",
    "                   rho=0.78,\n",
    "                   Model=LRWrapper,\n",
    "                   hyperparams=hyperparams,\n",
    "                   M=M,\n",
    "                   E=E,\n",
    "                   S=S)\n",
    "\n",
    "tests2"
   ]
  },
  {
   "cell_type": "code",
   "execution_count": 10,
   "metadata": {},
   "outputs": [
    {
     "data": {
      "image/png": "[encoded data removed]",
      "text/plain": [
       "<Figure size 432x288 with 1 Axes>"
      ]
     },
     "metadata": {
      "needs_background": "light"
     },
     "output_type": "display_data"
    }
   ],
   "source": [
    "tests2.iloc[0][[\"boot_t_{}\".format(i+1) for i in range(S)]].hist();\n",
    "tests2.iloc[2][[\"boot_t_{}\".format(i+1) for i in range(S)]].hist();\n",
    "tests2.iloc[3][[\"boot_t_{}\".format(i+1) for i in range(S)]].hist();"
   ]
  },
  {
   "cell_type": "code",
   "execution_count": 11,
   "metadata": {},
   "outputs": [],
   "source": [
    "assert np.all(tests1.p_value < (0.05/M*E))\n",
    "assert not np.all(tests2.p_value < (0.05/M*E))"
   ]
  },
  {
   "cell_type": "code",
   "execution_count": null,
   "metadata": {},
   "outputs": [],
   "source": []
  },
  {
   "cell_type": "code",
   "execution_count": null,
   "metadata": {},
   "outputs": [],
   "source": []
  }
 ],
 "metadata": {
  "kernelspec": {
   "display_name": "Python 3",
   "language": "python",
   "name": "python3"
  },
  "language_info": {
   "codemirror_mode": {
    "name": "ipython",
    "version": 3
   },
   "file_extension": ".py",
   "mimetype": "text/x-python",
   "name": "python",
   "nbconvert_exporter": "python",
   "pygments_lexer": "ipython3",
   "version": "3.6.8"
  }
 },
 "nbformat": 4,
 "nbformat_minor": 2
}
