{
 "cells": [
  {
   "cell_type": "code",
   "execution_count": 1,
   "metadata": {},
   "outputs": [],
   "source": [
    "import pandas as pd\n",
    "import numpy as np\n",
    "import matplotlib.pyplot as plt\n",
    "import seaborn as sns\n",
    "from lr.text_processing.util import pre_process_nli_df\n",
    "from lr.training.util import get_ternary_label\n",
    "from lr.text_processing.transformations.structural import entailment_internalization\n",
    "from lr.stats.h_testing import DGP, get_matched_results, get_paired_t_statistic\n",
    "from lr.stats.h_testing import get_boot_sample_under_H0,get_boot_p_value\n",
    "from lr.training.language_representation import Tfidf\n",
    "from lr.models.logistic_regression import LRWrapper"
   ]
  },
  {
   "cell_type": "markdown",
   "metadata": {},
   "source": [
    "### Loading data"
   ]
  },
  {
   "cell_type": "code",
   "execution_count": 2,
   "metadata": {},
   "outputs": [],
   "source": [
    "train_path = \"data/toy/train.csv\"\n",
    "dev_path = \"data/toy/dev.csv\"\n",
    "train = pd.read_csv(train_path)\n",
    "dev = pd.read_csv(dev_path)\n",
    "pre_process_nli_df(train)\n",
    "pre_process_nli_df(dev)"
   ]
  },
  {
   "cell_type": "markdown",
   "metadata": {},
   "source": [
    "### Training a model using one version of the modified data"
   ]
  },
  {
   "cell_type": "code",
   "execution_count": 3,
   "metadata": {},
   "outputs": [],
   "source": [
    "max_features = 500\n",
    "rho = 0.001\n",
    "label_translation = get_ternary_label\n",
    "transformation = entailment_internalization \n",
    "\n",
    "dgp = DGP(data=train, transformation=transformation, rho=rho)\n",
    "train_t = dgp.get_sample()\n",
    "\n",
    "hyperparams = {\"RepresentationFunction\": Tfidf,\n",
    "               \"max_features\": max_features,\n",
    "               \"label_translation\": label_translation,\n",
    "               \"penalty\": \"l2\",\n",
    "               \"C\": 1,\n",
    "               'solver': 'lbfgs'}\n",
    "lr = LRWrapper(hyperparams)\n",
    "lr.fit(train_t)"
   ]
  },
  {
   "cell_type": "markdown",
   "metadata": {},
   "source": [
    "### Get t statistic for the observable results and matched results"
   ]
  },
  {
   "cell_type": "code",
   "execution_count": 4,
   "metadata": {},
   "outputs": [
    {
     "name": "stdout",
     "output_type": "stream",
     "text": [
      "-1.6783627165933783\n"
     ]
    }
   ],
   "source": [
    "dev_t = transformation(dev)\n",
    "\n",
    "results = get_matched_results(dev, dev_t, lr, lr.label_translation)\n",
    "t_obs = get_paired_t_statistic(results)\n",
    "\n",
    "print(t_obs)"
   ]
  },
  {
   "cell_type": "markdown",
   "metadata": {},
   "source": [
    "### Get $S$ bootstrap replications under H0"
   ]
  },
  {
   "cell_type": "code",
   "execution_count": 5,
   "metadata": {},
   "outputs": [],
   "source": [
    "S = 1000\n",
    "t_boots = []\n",
    "for _ in range(S):\n",
    "    boot_sample = get_boot_sample_under_H0(results)\n",
    "    t = get_paired_t_statistic(boot_sample)\n",
    "    t_boots.append(t)\n",
    "\n",
    "t_boots = pd.Series(t_boots)"
   ]
  },
  {
   "cell_type": "markdown",
   "metadata": {},
   "source": [
    "### Calculating the associated p-value"
   ]
  },
  {
   "cell_type": "code",
   "execution_count": 6,
   "metadata": {},
   "outputs": [
    {
     "data": {
      "image/png": "[encoded data removed]",
      "text/plain": [
       "<Figure size 720x360 with 1 Axes>"
      ]
     },
     "metadata": {
      "needs_background": "light"
     },
     "output_type": "display_data"
    }
   ],
   "source": [
    "p_value = get_boot_p_value(t_boots, t_obs)\n",
    "\n",
    "fig, ax = plt.subplots(figsize=(10,5))\n",
    "t_boots.hist(ax=ax, label=\"bootstrap replications\");\n",
    "plt.axvline(x=t_obs, color='r', linestyle='-', label=\"observed\");\n",
    "ax.set_xlabel(\"t\", fontsize=14);\n",
    "ax.set_ylabel(\"frequency\", fontsize=14);\n",
    "ax.set_title(\"Bootstrap test histogram (p-value = {:.8f})\".format(p_value) +\"\\n\", fontsize=16)\n",
    "plt.legend(loc=\"best\");"
   ]
  },
  {
   "cell_type": "code",
   "execution_count": 7,
   "metadata": {},
   "outputs": [],
   "source": [
    "def LIMts_test(train,dev, transformation, rho,\n",
    "               Model, hyperparams, M, E, S):\n",
    "    dgp = DGP(data=train, transformation=transformation, rho=rho)\n",
    "    dev_t = transformation(dev)\n",
    "    index_pair = []\n",
    "    all_t_obs = []\n",
    "    all_p_values = []\n",
    "    all_t_boots = []\n",
    "    t_columns = [\"boot_t_{}\".format(i+1) for i in range(S)]\n",
    "    for m in range(M):\n",
    "        train_t = dgp.get_sample()\n",
    "        for e in range(E):\n",
    "            index_pair.append((m+1,e+1))\n",
    "            model = Model(hyperparams)\n",
    "            model.fit(train_t)\n",
    "            results = get_matched_results(dev, dev_t, model, model.label_translation)\n",
    "            t_obs = get_paired_t_statistic(results)\n",
    "            all_t_obs.append(t_obs)\n",
    "            t_boots = []\n",
    "            for _ in range(S):\n",
    "                boot_sample = get_boot_sample_under_H0(results)\n",
    "                t = get_paired_t_statistic(boot_sample)\n",
    "                t_boots.append(t)\n",
    "            t_boots = pd.Series(t_boots)\n",
    "            p_value = get_boot_p_value(t_boots, t_obs)\n",
    "            all_p_values.append(p_value)\n",
    "            t_boots_t = t_boots.to_frame().transpose()\n",
    "            t_boots_t.columns = t_columns\n",
    "            all_t_boots.append(t_boots_t)\n",
    "            \n",
    "    dict_ = {\"experiment_index\": index_pair,\n",
    "             \"observable_t_stats\": all_t_obs,\n",
    "             \"p_value\":all_p_values}\n",
    "\n",
    "    test_results = pd.DataFrame(dict_)\n",
    "    t_boots_df = pd.concat(all_t_boots).reset_index(drop=True)\n",
    "    combined_information = pd.merge(test_results,\n",
    "                                    t_boots_df,\n",
    "                                    right_index=True,\n",
    "                                    left_index=True)\n",
    "    return combined_information"
   ]
  },
  {
   "cell_type": "code",
   "execution_count": 8,
   "metadata": {},
   "outputs": [
    {
     "data": {
      "text/html": [
       "<div>\n",
       "<style scoped>\n",
       "    .dataframe tbody tr th:only-of-type {\n",
       "        vertical-align: middle;\n",
       "    }\n",
       "\n",
       "    .dataframe tbody tr th {\n",
       "        vertical-align: top;\n",
       "    }\n",
       "\n",
       "    .dataframe thead th {\n",
       "        text-align: right;\n",
       "    }\n",
       "</style>\n",
       "<table border=\"1\" class=\"dataframe\">\n",
       "  <thead>\n",
       "    <tr style=\"text-align: right;\">\n",
       "      <th></th>\n",
       "      <th>experiment_index</th>\n",
       "      <th>observable_t_stats</th>\n",
       "      <th>p_value</th>\n",
       "      <th>boot_t_1</th>\n",
       "      <th>boot_t_2</th>\n",
       "      <th>boot_t_3</th>\n",
       "      <th>boot_t_4</th>\n",
       "      <th>boot_t_5</th>\n",
       "      <th>boot_t_6</th>\n",
       "      <th>boot_t_7</th>\n",
       "      <th>...</th>\n",
       "      <th>boot_t_991</th>\n",
       "      <th>boot_t_992</th>\n",
       "      <th>boot_t_993</th>\n",
       "      <th>boot_t_994</th>\n",
       "      <th>boot_t_995</th>\n",
       "      <th>boot_t_996</th>\n",
       "      <th>boot_t_997</th>\n",
       "      <th>boot_t_998</th>\n",
       "      <th>boot_t_999</th>\n",
       "      <th>boot_t_1000</th>\n",
       "    </tr>\n",
       "  </thead>\n",
       "  <tbody>\n",
       "    <tr>\n",
       "      <th>0</th>\n",
       "      <td>(1, 1)</td>\n",
       "      <td>-8.382736</td>\n",
       "      <td>0.0</td>\n",
       "      <td>-0.867654</td>\n",
       "      <td>-0.833494</td>\n",
       "      <td>1.464780</td>\n",
       "      <td>-0.662994</td>\n",
       "      <td>-1.464780</td>\n",
       "      <td>0.480662</td>\n",
       "      <td>-0.308680</td>\n",
       "      <td>...</td>\n",
       "      <td>-0.833494</td>\n",
       "      <td>-0.763109</td>\n",
       "      <td>1.210455</td>\n",
       "      <td>0.132459</td>\n",
       "      <td>0.850060</td>\n",
       "      <td>-0.633089</td>\n",
       "      <td>0.397517</td>\n",
       "      <td>-0.132459</td>\n",
       "      <td>0.140035</td>\n",
       "      <td>-0.715199</td>\n",
       "    </tr>\n",
       "    <tr>\n",
       "      <th>1</th>\n",
       "      <td>(2, 1)</td>\n",
       "      <td>-8.056095</td>\n",
       "      <td>0.0</td>\n",
       "      <td>-0.906390</td>\n",
       "      <td>-0.132459</td>\n",
       "      <td>-0.149079</td>\n",
       "      <td>0.000000</td>\n",
       "      <td>-0.447437</td>\n",
       "      <td>1.491465</td>\n",
       "      <td>0.850060</td>\n",
       "      <td>...</td>\n",
       "      <td>-2.162952</td>\n",
       "      <td>-0.730297</td>\n",
       "      <td>0.886388</td>\n",
       "      <td>-0.142864</td>\n",
       "      <td>-0.775761</td>\n",
       "      <td>-0.620771</td>\n",
       "      <td>-0.140035</td>\n",
       "      <td>-0.288735</td>\n",
       "      <td>1.318761</td>\n",
       "      <td>0.867654</td>\n",
       "    </tr>\n",
       "    <tr>\n",
       "      <th>2</th>\n",
       "      <td>(3, 1)</td>\n",
       "      <td>-7.838234</td>\n",
       "      <td>0.0</td>\n",
       "      <td>1.070544</td>\n",
       "      <td>-0.929172</td>\n",
       "      <td>0.145873</td>\n",
       "      <td>-0.590281</td>\n",
       "      <td>-0.867654</td>\n",
       "      <td>-0.468779</td>\n",
       "      <td>-0.603572</td>\n",
       "      <td>...</td>\n",
       "      <td>0.000000</td>\n",
       "      <td>-0.288735</td>\n",
       "      <td>0.457735</td>\n",
       "      <td>1.867718</td>\n",
       "      <td>0.534905</td>\n",
       "      <td>-0.137367</td>\n",
       "      <td>0.000000</td>\n",
       "      <td>2.167888</td>\n",
       "      <td>0.833494</td>\n",
       "      <td>-0.651635</td>\n",
       "    </tr>\n",
       "    <tr>\n",
       "      <th>3</th>\n",
       "      <td>(4, 1)</td>\n",
       "      <td>-8.056095</td>\n",
       "      <td>0.0</td>\n",
       "      <td>0.640841</td>\n",
       "      <td>-0.457735</td>\n",
       "      <td>-1.112830</td>\n",
       "      <td>-0.152507</td>\n",
       "      <td>-0.412257</td>\n",
       "      <td>0.674967</td>\n",
       "      <td>-0.715199</td>\n",
       "      <td>...</td>\n",
       "      <td>0.000000</td>\n",
       "      <td>-0.145873</td>\n",
       "      <td>0.603572</td>\n",
       "      <td>-1.023727</td>\n",
       "      <td>-0.145873</td>\n",
       "      <td>-0.617802</td>\n",
       "      <td>2.041676</td>\n",
       "      <td>-1.824054</td>\n",
       "      <td>-2.764980</td>\n",
       "      <td>1.775233</td>\n",
       "    </tr>\n",
       "    <tr>\n",
       "      <th>4</th>\n",
       "      <td>(5, 1)</td>\n",
       "      <td>-7.838234</td>\n",
       "      <td>0.0</td>\n",
       "      <td>-0.782062</td>\n",
       "      <td>0.149079</td>\n",
       "      <td>0.000000</td>\n",
       "      <td>0.000000</td>\n",
       "      <td>-0.137367</td>\n",
       "      <td>0.000000</td>\n",
       "      <td>-1.632993</td>\n",
       "      <td>...</td>\n",
       "      <td>0.833494</td>\n",
       "      <td>0.687614</td>\n",
       "      <td>-1.135009</td>\n",
       "      <td>-0.316307</td>\n",
       "      <td>1.135009</td>\n",
       "      <td>2.002252</td>\n",
       "      <td>1.675742</td>\n",
       "      <td>-0.833494</td>\n",
       "      <td>1.135009</td>\n",
       "      <td>-1.913524</td>\n",
       "    </tr>\n",
       "  </tbody>\n",
       "</table>\n",
       "<p>5 rows × 1003 columns</p>\n",
       "</div>"
      ],
      "text/plain": [
       "  experiment_index  observable_t_stats  p_value  boot_t_1  boot_t_2  boot_t_3  \\\n",
       "0           (1, 1)           -8.382736      0.0 -0.867654 -0.833494  1.464780   \n",
       "1           (2, 1)           -8.056095      0.0 -0.906390 -0.132459 -0.149079   \n",
       "2           (3, 1)           -7.838234      0.0  1.070544 -0.929172  0.145873   \n",
       "3           (4, 1)           -8.056095      0.0  0.640841 -0.457735 -1.112830   \n",
       "4           (5, 1)           -7.838234      0.0 -0.782062  0.149079  0.000000   \n",
       "\n",
       "   boot_t_4  boot_t_5  boot_t_6  boot_t_7  ...  boot_t_991  boot_t_992  \\\n",
       "0 -0.662994 -1.464780  0.480662 -0.308680  ...   -0.833494   -0.763109   \n",
       "1  0.000000 -0.447437  1.491465  0.850060  ...   -2.162952   -0.730297   \n",
       "2 -0.590281 -0.867654 -0.468779 -0.603572  ...    0.000000   -0.288735   \n",
       "3 -0.152507 -0.412257  0.674967 -0.715199  ...    0.000000   -0.145873   \n",
       "4  0.000000 -0.137367  0.000000 -1.632993  ...    0.833494    0.687614   \n",
       "\n",
       "   boot_t_993  boot_t_994  boot_t_995  boot_t_996  boot_t_997  boot_t_998  \\\n",
       "0    1.210455    0.132459    0.850060   -0.633089    0.397517   -0.132459   \n",
       "1    0.886388   -0.142864   -0.775761   -0.620771   -0.140035   -0.288735   \n",
       "2    0.457735    1.867718    0.534905   -0.137367    0.000000    2.167888   \n",
       "3    0.603572   -1.023727   -0.145873   -0.617802    2.041676   -1.824054   \n",
       "4   -1.135009   -0.316307    1.135009    2.002252    1.675742   -0.833494   \n",
       "\n",
       "   boot_t_999  boot_t_1000  \n",
       "0    0.140035    -0.715199  \n",
       "1    1.318761     0.867654  \n",
       "2    0.833494    -0.651635  \n",
       "3   -2.764980     1.775233  \n",
       "4    1.135009    -1.913524  \n",
       "\n",
       "[5 rows x 1003 columns]"
      ]
     },
     "execution_count": 8,
     "metadata": {},
     "output_type": "execute_result"
    }
   ],
   "source": [
    "tests = LIMts_test(train=train,\n",
    "                   dev=dev,\n",
    "                   transformation=transformation,\n",
    "                   rho=0.78,\n",
    "                   Model=LRWrapper,\n",
    "                   hyperparams=hyperparams,\n",
    "                   M=5,\n",
    "                   E=1,\n",
    "                   S=1000)\n",
    "\n",
    "tests"
   ]
  },
  {
   "cell_type": "code",
   "execution_count": 9,
   "metadata": {},
   "outputs": [
    {
     "data": {
      "image/png": "[encoded data removed]",
      "text/plain": [
       "<Figure size 432x288 with 1 Axes>"
      ]
     },
     "metadata": {
      "needs_background": "light"
     },
     "output_type": "display_data"
    }
   ],
   "source": [
    "tests.iloc[0][[\"boot_t_{}\".format(i+1) for i in range(1000)]].hist();\n",
    "tests.iloc[2][[\"boot_t_{}\".format(i+1) for i in range(1000)]].hist();\n",
    "tests.iloc[3][[\"boot_t_{}\".format(i+1) for i in range(1000)]].hist();"
   ]
  },
  {
   "cell_type": "code",
   "execution_count": null,
   "metadata": {},
   "outputs": [],
   "source": []
  },
  {
   "cell_type": "code",
   "execution_count": null,
   "metadata": {},
   "outputs": [],
   "source": []
  },
  {
   "cell_type": "code",
   "execution_count": null,
   "metadata": {},
   "outputs": [],
   "source": []
  },
  {
   "cell_type": "code",
   "execution_count": null,
   "metadata": {},
   "outputs": [],
   "source": []
  }
 ],
 "metadata": {
  "kernelspec": {
   "display_name": "Python 3",
   "language": "python",
   "name": "python3"
  },
  "language_info": {
   "codemirror_mode": {
    "name": "ipython",
    "version": 3
   },
   "file_extension": ".py",
   "mimetype": "text/x-python",
   "name": "python",
   "nbconvert_exporter": "python",
   "pygments_lexer": "ipython3",
   "version": "3.6.8"
  }
 },
 "nbformat": 4,
 "nbformat_minor": 2
}
