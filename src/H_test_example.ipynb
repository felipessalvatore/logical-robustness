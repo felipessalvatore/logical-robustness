{
 "cells": [
  {
   "cell_type": "code",
   "execution_count": 1,
   "metadata": {},
   "outputs": [],
   "source": [
    "import pandas as pd\n",
    "import numpy as np\n",
    "import matplotlib.pyplot as plt\n",
    "import seaborn as sns\n",
    "from lr.text_processing.util import pre_process_nli_df\n",
    "from lr.training.util import get_ternary_label\n",
    "from lr.text_processing.transformations.structural import entailment_internalization\n",
    "from lr.text_processing.transformations.synonyms import toy_transformation\n",
    "from lr.stats.h_testing import DGP, get_matched_results, get_paired_t_statistic\n",
    "from lr.stats.h_testing import get_boot_sample_under_H0,get_boot_p_value\n",
    "from lr.stats.h_testing import  LIMts_test\n",
    "from lr.training.language_representation import Tfidf\n",
    "from lr.models.logistic_regression import LRWrapper\n",
    "import warnings\n",
    "warnings.filterwarnings(\"ignore\", category=RuntimeWarning)"
   ]
  },
  {
   "cell_type": "markdown",
   "metadata": {},
   "source": [
    "### Loading data"
   ]
  },
  {
   "cell_type": "code",
   "execution_count": 2,
   "metadata": {},
   "outputs": [],
   "source": [
    "train_path = \"data/toy/train.csv\"\n",
    "dev_path = \"data/toy/dev.csv\"\n",
    "train = pd.read_csv(train_path)\n",
    "dev = pd.read_csv(dev_path)\n",
    "pre_process_nli_df(train)\n",
    "pre_process_nli_df(dev)"
   ]
  },
  {
   "cell_type": "markdown",
   "metadata": {},
   "source": [
    "### Training a model using one version of the modified data"
   ]
  },
  {
   "cell_type": "code",
   "execution_count": 3,
   "metadata": {},
   "outputs": [],
   "source": [
    "max_features = 500\n",
    "rho = 0.001\n",
    "label_translation = get_ternary_label\n",
    "transformation = entailment_internalization \n",
    "\n",
    "dgp = DGP(data=train, transformation=transformation, rho=rho)\n",
    "train_t = dgp.get_sample()\n",
    "\n",
    "hyperparams = {\"RepresentationFunction\": Tfidf,\n",
    "               \"max_features\": max_features,\n",
    "               \"label_translation\": label_translation,\n",
    "               \"penalty\": \"l2\",\n",
    "               \"C\": 1,\n",
    "               'solver': 'lbfgs'}\n",
    "lr = LRWrapper(hyperparams)\n",
    "lr.fit(train_t)"
   ]
  },
  {
   "cell_type": "markdown",
   "metadata": {},
   "source": [
    "### Get t statistic for the observable results and matched results"
   ]
  },
  {
   "cell_type": "code",
   "execution_count": 4,
   "metadata": {},
   "outputs": [
    {
     "name": "stdout",
     "output_type": "stream",
     "text": [
      "-1.2964074471043285\n"
     ]
    }
   ],
   "source": [
    "dev_t = transformation(dev)\n",
    "\n",
    "results = get_matched_results(dev, dev_t, lr, lr.label_translation)\n",
    "t_obs = get_paired_t_statistic(results)\n",
    "\n",
    "print(t_obs)"
   ]
  },
  {
   "cell_type": "markdown",
   "metadata": {},
   "source": [
    "### Get $S$ bootstrap replications under H0"
   ]
  },
  {
   "cell_type": "code",
   "execution_count": 5,
   "metadata": {},
   "outputs": [],
   "source": [
    "S = 1000\n",
    "t_boots = []\n",
    "for _ in range(S):\n",
    "    boot_sample = get_boot_sample_under_H0(results)\n",
    "    t = get_paired_t_statistic(boot_sample)\n",
    "    t_boots.append(t)\n",
    "\n",
    "t_boots = pd.Series(t_boots)"
   ]
  },
  {
   "cell_type": "markdown",
   "metadata": {},
   "source": [
    "### Calculating the associated p-value"
   ]
  },
  {
   "cell_type": "code",
   "execution_count": 6,
   "metadata": {},
   "outputs": [
    {
     "data": {
      "image/png": "[encoded data removed]",
      "text/plain": [
       "<Figure size 720x360 with 1 Axes>"
      ]
     },
     "metadata": {
      "needs_background": "light"
     },
     "output_type": "display_data"
    }
   ],
   "source": [
    "p_value = get_boot_p_value(t_boots, t_obs)\n",
    "\n",
    "fig, ax = plt.subplots(figsize=(10,5))\n",
    "t_boots.hist(ax=ax, label=\"bootstrap replications\");\n",
    "plt.axvline(x=t_obs, color='r', linestyle='-', label=\"observed\");\n",
    "ax.set_xlabel(\"t\", fontsize=14);\n",
    "ax.set_ylabel(\"frequency\", fontsize=14);\n",
    "ax.set_title(\"Bootstrap test histogram (p-value = {:.8f})\".format(p_value) +\"\\n\", fontsize=16)\n",
    "plt.legend(loc=\"best\");"
   ]
  },
  {
   "cell_type": "markdown",
   "metadata": {},
   "source": [
    "### Performing multiple tests\n",
    "\n",
    "**test1: entailment internalization**"
   ]
  },
  {
   "cell_type": "code",
   "execution_count": 7,
   "metadata": {},
   "outputs": [
    {
     "data": {
      "text/html": [
       "<div>\n",
       "<style scoped>\n",
       "    .dataframe tbody tr th:only-of-type {\n",
       "        vertical-align: middle;\n",
       "    }\n",
       "\n",
       "    .dataframe tbody tr th {\n",
       "        vertical-align: top;\n",
       "    }\n",
       "\n",
       "    .dataframe thead th {\n",
       "        text-align: right;\n",
       "    }\n",
       "</style>\n",
       "<table border=\"1\" class=\"dataframe\">\n",
       "  <thead>\n",
       "    <tr style=\"text-align: right;\">\n",
       "      <th></th>\n",
       "      <th>m</th>\n",
       "      <th>e</th>\n",
       "      <th>observable_t_stats</th>\n",
       "      <th>p_value</th>\n",
       "      <th>time</th>\n",
       "      <th>boot_t_1</th>\n",
       "      <th>boot_t_2</th>\n",
       "      <th>boot_t_3</th>\n",
       "      <th>boot_t_4</th>\n",
       "      <th>boot_t_5</th>\n",
       "      <th>...</th>\n",
       "      <th>boot_t_991</th>\n",
       "      <th>boot_t_992</th>\n",
       "      <th>boot_t_993</th>\n",
       "      <th>boot_t_994</th>\n",
       "      <th>boot_t_995</th>\n",
       "      <th>boot_t_996</th>\n",
       "      <th>boot_t_997</th>\n",
       "      <th>boot_t_998</th>\n",
       "      <th>boot_t_999</th>\n",
       "      <th>boot_t_1000</th>\n",
       "    </tr>\n",
       "  </thead>\n",
       "  <tbody>\n",
       "    <tr>\n",
       "      <th>0</th>\n",
       "      <td>1</td>\n",
       "      <td>1</td>\n",
       "      <td>-8.056095</td>\n",
       "      <td>0.0</td>\n",
       "      <td>2.764807</td>\n",
       "      <td>-1.183660</td>\n",
       "      <td>-0.137367</td>\n",
       "      <td>-0.701000</td>\n",
       "      <td>0.000000</td>\n",
       "      <td>0.447437</td>\n",
       "      <td>...</td>\n",
       "      <td>0.294948</td>\n",
       "      <td>0.000000</td>\n",
       "      <td>0.000000</td>\n",
       "      <td>-0.288735</td>\n",
       "      <td>-0.566139</td>\n",
       "      <td>-0.420269</td>\n",
       "      <td>1.023727</td>\n",
       "      <td>-0.950825</td>\n",
       "      <td>-1.210455</td>\n",
       "      <td>-0.160138</td>\n",
       "    </tr>\n",
       "    <tr>\n",
       "      <th>1</th>\n",
       "      <td>2</td>\n",
       "      <td>1</td>\n",
       "      <td>-8.273837</td>\n",
       "      <td>0.0</td>\n",
       "      <td>2.577779</td>\n",
       "      <td>1.393466</td>\n",
       "      <td>-0.534905</td>\n",
       "      <td>-0.301580</td>\n",
       "      <td>-0.277403</td>\n",
       "      <td>1.854020</td>\n",
       "      <td>...</td>\n",
       "      <td>0.137367</td>\n",
       "      <td>-1.023727</td>\n",
       "      <td>-0.493497</td>\n",
       "      <td>-1.183660</td>\n",
       "      <td>1.766542</td>\n",
       "      <td>-0.130194</td>\n",
       "      <td>0.715199</td>\n",
       "      <td>-1.519665</td>\n",
       "      <td>1.183660</td>\n",
       "      <td>0.000000</td>\n",
       "    </tr>\n",
       "    <tr>\n",
       "      <th>2</th>\n",
       "      <td>3</td>\n",
       "      <td>1</td>\n",
       "      <td>-7.838234</td>\n",
       "      <td>0.0</td>\n",
       "      <td>2.622548</td>\n",
       "      <td>1.046351</td>\n",
       "      <td>-1.091902</td>\n",
       "      <td>-0.160138</td>\n",
       "      <td>-1.412558</td>\n",
       "      <td>-0.782062</td>\n",
       "      <td>...</td>\n",
       "      <td>0.633089</td>\n",
       "      <td>1.448695</td>\n",
       "      <td>-0.324528</td>\n",
       "      <td>-0.801927</td>\n",
       "      <td>0.886388</td>\n",
       "      <td>-1.096497</td>\n",
       "      <td>-0.343098</td>\n",
       "      <td>-0.235735</td>\n",
       "      <td>0.701000</td>\n",
       "      <td>-1.581221</td>\n",
       "    </tr>\n",
       "    <tr>\n",
       "      <th>3</th>\n",
       "      <td>4</td>\n",
       "      <td>1</td>\n",
       "      <td>-8.164966</td>\n",
       "      <td>0.0</td>\n",
       "      <td>2.648875</td>\n",
       "      <td>1.339299</td>\n",
       "      <td>0.000000</td>\n",
       "      <td>-0.420269</td>\n",
       "      <td>-0.555127</td>\n",
       "      <td>1.549526</td>\n",
       "      <td>...</td>\n",
       "      <td>1.091902</td>\n",
       "      <td>-0.640841</td>\n",
       "      <td>0.134846</td>\n",
       "      <td>-2.123977</td>\n",
       "      <td>-0.437805</td>\n",
       "      <td>0.140035</td>\n",
       "      <td>0.000000</td>\n",
       "      <td>0.132459</td>\n",
       "      <td>-0.140035</td>\n",
       "      <td>0.142864</td>\n",
       "    </tr>\n",
       "    <tr>\n",
       "      <th>4</th>\n",
       "      <td>5</td>\n",
       "      <td>1</td>\n",
       "      <td>-8.164966</td>\n",
       "      <td>0.0</td>\n",
       "      <td>2.634927</td>\n",
       "      <td>-0.258242</td>\n",
       "      <td>0.000000</td>\n",
       "      <td>0.982559</td>\n",
       "      <td>0.534905</td>\n",
       "      <td>-1.464780</td>\n",
       "      <td>...</td>\n",
       "      <td>-0.390716</td>\n",
       "      <td>1.135009</td>\n",
       "      <td>-1.393466</td>\n",
       "      <td>0.000000</td>\n",
       "      <td>1.240996</td>\n",
       "      <td>-1.462980</td>\n",
       "      <td>0.000000</td>\n",
       "      <td>-0.288735</td>\n",
       "      <td>-0.145873</td>\n",
       "      <td>0.833494</td>\n",
       "    </tr>\n",
       "  </tbody>\n",
       "</table>\n",
       "<p>5 rows × 1005 columns</p>\n",
       "</div>"
      ],
      "text/plain": [
       "   m  e  observable_t_stats  p_value      time  boot_t_1  boot_t_2  boot_t_3  \\\n",
       "0  1  1           -8.056095      0.0  2.764807 -1.183660 -0.137367 -0.701000   \n",
       "1  2  1           -8.273837      0.0  2.577779  1.393466 -0.534905 -0.301580   \n",
       "2  3  1           -7.838234      0.0  2.622548  1.046351 -1.091902 -0.160138   \n",
       "3  4  1           -8.164966      0.0  2.648875  1.339299  0.000000 -0.420269   \n",
       "4  5  1           -8.164966      0.0  2.634927 -0.258242  0.000000  0.982559   \n",
       "\n",
       "   boot_t_4  boot_t_5  ...  boot_t_991  boot_t_992  boot_t_993  boot_t_994  \\\n",
       "0  0.000000  0.447437  ...    0.294948    0.000000    0.000000   -0.288735   \n",
       "1 -0.277403  1.854020  ...    0.137367   -1.023727   -0.493497   -1.183660   \n",
       "2 -1.412558 -0.782062  ...    0.633089    1.448695   -0.324528   -0.801927   \n",
       "3 -0.555127  1.549526  ...    1.091902   -0.640841    0.134846   -2.123977   \n",
       "4  0.534905 -1.464780  ...   -0.390716    1.135009   -1.393466    0.000000   \n",
       "\n",
       "   boot_t_995  boot_t_996  boot_t_997  boot_t_998  boot_t_999  boot_t_1000  \n",
       "0   -0.566139   -0.420269    1.023727   -0.950825   -1.210455    -0.160138  \n",
       "1    1.766542   -0.130194    0.715199   -1.519665    1.183660     0.000000  \n",
       "2    0.886388   -1.096497   -0.343098   -0.235735    0.701000    -1.581221  \n",
       "3   -0.437805    0.140035    0.000000    0.132459   -0.140035     0.142864  \n",
       "4    1.240996   -1.462980    0.000000   -0.288735   -0.145873     0.833494  \n",
       "\n",
       "[5 rows x 1005 columns]"
      ]
     },
     "execution_count": 7,
     "metadata": {},
     "output_type": "execute_result"
    }
   ],
   "source": [
    "M,E,S = 5,1,1000\n",
    "\n",
    "\n",
    "tests1 = LIMts_test(train=train,\n",
    "                   dev=dev,\n",
    "                   transformation=entailment_internalization,\n",
    "                   rho=0.78,\n",
    "                   Model=LRWrapper,\n",
    "                   hyperparams=hyperparams,\n",
    "                   M=M,\n",
    "                   E=E,\n",
    "                   S=S)\n",
    "\n",
    "tests1"
   ]
  },
  {
   "cell_type": "markdown",
   "metadata": {},
   "source": [
    "### Diferent bootstrap distributions for each experiment"
   ]
  },
  {
   "cell_type": "code",
   "execution_count": 8,
   "metadata": {},
   "outputs": [
    {
     "data": {
      "image/png": "[encoded data removed]",
      "text/plain": [
       "<Figure size 432x288 with 1 Axes>"
      ]
     },
     "metadata": {
      "needs_background": "light"
     },
     "output_type": "display_data"
    }
   ],
   "source": [
    "tests1.iloc[0][[\"boot_t_{}\".format(i+1) for i in range(S)]].hist();\n",
    "tests1.iloc[2][[\"boot_t_{}\".format(i+1) for i in range(S)]].hist();\n",
    "tests1.iloc[3][[\"boot_t_{}\".format(i+1) for i in range(S)]].hist();"
   ]
  },
  {
   "cell_type": "markdown",
   "metadata": {},
   "source": [
    "**test2: toy transformation**"
   ]
  },
  {
   "cell_type": "code",
   "execution_count": 9,
   "metadata": {},
   "outputs": [
    {
     "data": {
      "text/html": [
       "<div>\n",
       "<style scoped>\n",
       "    .dataframe tbody tr th:only-of-type {\n",
       "        vertical-align: middle;\n",
       "    }\n",
       "\n",
       "    .dataframe tbody tr th {\n",
       "        vertical-align: top;\n",
       "    }\n",
       "\n",
       "    .dataframe thead th {\n",
       "        text-align: right;\n",
       "    }\n",
       "</style>\n",
       "<table border=\"1\" class=\"dataframe\">\n",
       "  <thead>\n",
       "    <tr style=\"text-align: right;\">\n",
       "      <th></th>\n",
       "      <th>m</th>\n",
       "      <th>e</th>\n",
       "      <th>observable_t_stats</th>\n",
       "      <th>p_value</th>\n",
       "      <th>time</th>\n",
       "      <th>boot_t_1</th>\n",
       "      <th>boot_t_2</th>\n",
       "      <th>boot_t_3</th>\n",
       "      <th>boot_t_4</th>\n",
       "      <th>boot_t_5</th>\n",
       "      <th>...</th>\n",
       "      <th>boot_t_991</th>\n",
       "      <th>boot_t_992</th>\n",
       "      <th>boot_t_993</th>\n",
       "      <th>boot_t_994</th>\n",
       "      <th>boot_t_995</th>\n",
       "      <th>boot_t_996</th>\n",
       "      <th>boot_t_997</th>\n",
       "      <th>boot_t_998</th>\n",
       "      <th>boot_t_999</th>\n",
       "      <th>boot_t_1000</th>\n",
       "    </tr>\n",
       "  </thead>\n",
       "  <tbody>\n",
       "    <tr>\n",
       "      <th>0</th>\n",
       "      <td>1</td>\n",
       "      <td>1</td>\n",
       "      <td>0.378100</td>\n",
       "      <td>0.730</td>\n",
       "      <td>2.652996</td>\n",
       "      <td>-1.643990</td>\n",
       "      <td>-0.817861</td>\n",
       "      <td>2.571297</td>\n",
       "      <td>0.577832</td>\n",
       "      <td>0.000000</td>\n",
       "      <td>...</td>\n",
       "      <td>-0.817861</td>\n",
       "      <td>-1.002509</td>\n",
       "      <td>-0.333426</td>\n",
       "      <td>1.270001</td>\n",
       "      <td>-1.643990</td>\n",
       "      <td>0.447437</td>\n",
       "      <td>-1.137556</td>\n",
       "      <td>-0.817861</td>\n",
       "      <td>1.421338</td>\n",
       "      <td>-1.347719</td>\n",
       "    </tr>\n",
       "    <tr>\n",
       "      <th>1</th>\n",
       "      <td>2</td>\n",
       "      <td>1</td>\n",
       "      <td>0.000000</td>\n",
       "      <td>0.926</td>\n",
       "      <td>3.079986</td>\n",
       "      <td>-0.626156</td>\n",
       "      <td>0.471667</td>\n",
       "      <td>0.258242</td>\n",
       "      <td>0.633089</td>\n",
       "      <td>0.577832</td>\n",
       "      <td>...</td>\n",
       "      <td>0.000000</td>\n",
       "      <td>0.944911</td>\n",
       "      <td>-2.162952</td>\n",
       "      <td>0.242571</td>\n",
       "      <td>1.745189</td>\n",
       "      <td>0.534905</td>\n",
       "      <td>0.258242</td>\n",
       "      <td>0.000000</td>\n",
       "      <td>0.301580</td>\n",
       "      <td>0.242571</td>\n",
       "    </tr>\n",
       "    <tr>\n",
       "      <th>2</th>\n",
       "      <td>3</td>\n",
       "      <td>1</td>\n",
       "      <td>0.906390</td>\n",
       "      <td>0.342</td>\n",
       "      <td>3.171580</td>\n",
       "      <td>0.000000</td>\n",
       "      <td>-0.577832</td>\n",
       "      <td>-1.270001</td>\n",
       "      <td>-1.643990</td>\n",
       "      <td>-1.137556</td>\n",
       "      <td>...</td>\n",
       "      <td>0.833494</td>\n",
       "      <td>0.906390</td>\n",
       "      <td>0.577832</td>\n",
       "      <td>1.002509</td>\n",
       "      <td>0.301580</td>\n",
       "      <td>-0.378100</td>\n",
       "      <td>0.277403</td>\n",
       "      <td>-0.301580</td>\n",
       "      <td>-1.002509</td>\n",
       "      <td>-1.002509</td>\n",
       "    </tr>\n",
       "    <tr>\n",
       "      <th>3</th>\n",
       "      <td>4</td>\n",
       "      <td>1</td>\n",
       "      <td>-0.633089</td>\n",
       "      <td>0.560</td>\n",
       "      <td>2.928428</td>\n",
       "      <td>0.500313</td>\n",
       "      <td>-0.378100</td>\n",
       "      <td>-0.471667</td>\n",
       "      <td>0.534905</td>\n",
       "      <td>-2.721655</td>\n",
       "      <td>...</td>\n",
       "      <td>-0.301580</td>\n",
       "      <td>-1.822336</td>\n",
       "      <td>-1.296407</td>\n",
       "      <td>0.447437</td>\n",
       "      <td>0.000000</td>\n",
       "      <td>1.270001</td>\n",
       "      <td>0.000000</td>\n",
       "      <td>0.000000</td>\n",
       "      <td>-1.137556</td>\n",
       "      <td>-0.378100</td>\n",
       "    </tr>\n",
       "    <tr>\n",
       "      <th>4</th>\n",
       "      <td>5</td>\n",
       "      <td>1</td>\n",
       "      <td>-0.378100</td>\n",
       "      <td>0.768</td>\n",
       "      <td>2.708773</td>\n",
       "      <td>-1.745189</td>\n",
       "      <td>1.137556</td>\n",
       "      <td>0.633089</td>\n",
       "      <td>1.643990</td>\n",
       "      <td>2.487080</td>\n",
       "      <td>...</td>\n",
       "      <td>1.137556</td>\n",
       "      <td>0.707992</td>\n",
       "      <td>-1.002509</td>\n",
       "      <td>-0.707992</td>\n",
       "      <td>0.000000</td>\n",
       "      <td>1.347719</td>\n",
       "      <td>-0.378100</td>\n",
       "      <td>1.137556</td>\n",
       "      <td>-0.447437</td>\n",
       "      <td>1.137556</td>\n",
       "    </tr>\n",
       "  </tbody>\n",
       "</table>\n",
       "<p>5 rows × 1005 columns</p>\n",
       "</div>"
      ],
      "text/plain": [
       "   m  e  observable_t_stats  p_value      time  boot_t_1  boot_t_2  boot_t_3  \\\n",
       "0  1  1            0.378100    0.730  2.652996 -1.643990 -0.817861  2.571297   \n",
       "1  2  1            0.000000    0.926  3.079986 -0.626156  0.471667  0.258242   \n",
       "2  3  1            0.906390    0.342  3.171580  0.000000 -0.577832 -1.270001   \n",
       "3  4  1           -0.633089    0.560  2.928428  0.500313 -0.378100 -0.471667   \n",
       "4  5  1           -0.378100    0.768  2.708773 -1.745189  1.137556  0.633089   \n",
       "\n",
       "   boot_t_4  boot_t_5  ...  boot_t_991  boot_t_992  boot_t_993  boot_t_994  \\\n",
       "0  0.577832  0.000000  ...   -0.817861   -1.002509   -0.333426    1.270001   \n",
       "1  0.633089  0.577832  ...    0.000000    0.944911   -2.162952    0.242571   \n",
       "2 -1.643990 -1.137556  ...    0.833494    0.906390    0.577832    1.002509   \n",
       "3  0.534905 -2.721655  ...   -0.301580   -1.822336   -1.296407    0.447437   \n",
       "4  1.643990  2.487080  ...    1.137556    0.707992   -1.002509   -0.707992   \n",
       "\n",
       "   boot_t_995  boot_t_996  boot_t_997  boot_t_998  boot_t_999  boot_t_1000  \n",
       "0   -1.643990    0.447437   -1.137556   -0.817861    1.421338    -1.347719  \n",
       "1    1.745189    0.534905    0.258242    0.000000    0.301580     0.242571  \n",
       "2    0.301580   -0.378100    0.277403   -0.301580   -1.002509    -1.002509  \n",
       "3    0.000000    1.270001    0.000000    0.000000   -1.137556    -0.378100  \n",
       "4    0.000000    1.347719   -0.378100    1.137556   -0.447437     1.137556  \n",
       "\n",
       "[5 rows x 1005 columns]"
      ]
     },
     "execution_count": 9,
     "metadata": {},
     "output_type": "execute_result"
    }
   ],
   "source": [
    "tests2 = LIMts_test(train=train,\n",
    "                   dev=dev,\n",
    "                   transformation=toy_transformation,\n",
    "                   rho=0.78,\n",
    "                   Model=LRWrapper,\n",
    "                   hyperparams=hyperparams,\n",
    "                   M=M,\n",
    "                   E=E,\n",
    "                   S=S)\n",
    "\n",
    "tests2"
   ]
  },
  {
   "cell_type": "code",
   "execution_count": 10,
   "metadata": {},
   "outputs": [
    {
     "data": {
      "image/png": "[encoded data removed]",
      "text/plain": [
       "<Figure size 432x288 with 1 Axes>"
      ]
     },
     "metadata": {
      "needs_background": "light"
     },
     "output_type": "display_data"
    }
   ],
   "source": [
    "tests2.iloc[0][[\"boot_t_{}\".format(i+1) for i in range(S)]].hist();\n",
    "tests2.iloc[2][[\"boot_t_{}\".format(i+1) for i in range(S)]].hist();\n",
    "tests2.iloc[3][[\"boot_t_{}\".format(i+1) for i in range(S)]].hist();"
   ]
  },
  {
   "cell_type": "code",
   "execution_count": 11,
   "metadata": {},
   "outputs": [],
   "source": [
    "assert np.all(tests1.p_value < (0.05/M*E))\n",
    "assert not np.all(tests2.p_value < (0.05/M*E))"
   ]
  },
  {
   "cell_type": "code",
   "execution_count": null,
   "metadata": {},
   "outputs": [],
   "source": []
  },
  {
   "cell_type": "code",
   "execution_count": null,
   "metadata": {},
   "outputs": [],
   "source": []
  }
 ],
 "metadata": {
  "kernelspec": {
   "display_name": "Python 3",
   "language": "python",
   "name": "python3"
  },
  "language_info": {
   "codemirror_mode": {
    "name": "ipython",
    "version": 3
   },
   "file_extension": ".py",
   "mimetype": "text/x-python",
   "name": "python",
   "nbconvert_exporter": "python",
   "pygments_lexer": "ipython3",
   "version": "3.6.8"
  }
 },
 "nbformat": 4,
 "nbformat_minor": 2
}
