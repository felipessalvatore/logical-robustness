{
 "cells": [
  {
   "cell_type": "markdown",
   "metadata": {},
   "source": [
    "# Results for XGB when applying syn tranformation to both premise and hypothesis"
   ]
  },
  {
   "cell_type": "code",
   "execution_count": 1,
   "metadata": {},
   "outputs": [],
   "source": [
    "import pandas as pd\n",
    "import numpy as np\n",
    "import matplotlib.pyplot as plt\n",
    "import seaborn as sns\n",
    "from IPython.display import display, HTML \n",
    "from lr.stats.h_testing import get_boot_p_value,update_results_with_cochran_test\n",
    "from lr.analysis.util import get_boots, show_df, get_standart_results"
   ]
  },
  {
   "cell_type": "markdown",
   "metadata": {},
   "source": [
    "## Results for $\\rho = 0$"
   ]
  },
  {
   "cell_type": "code",
   "execution_count": 2,
   "metadata": {},
   "outputs": [
    {
     "data": {
      "text/html": [
       "<table border=\"1\" class=\"dataframe\">\n",
       "  <thead>\n",
       "    <tr style=\"text-align: right;\">\n",
       "      <th></th>\n",
       "      <th>data</th>\n",
       "      <th>model</th>\n",
       "      <th>transformation</th>\n",
       "      <th>rho</th>\n",
       "      <th>dgp_seed</th>\n",
       "      <th>random_state</th>\n",
       "      <th>number_of_simulations</th>\n",
       "      <th>validation_accuracy</th>\n",
       "      <th>transformed_validation_accuracy</th>\n",
       "      <th>accuracy_difference</th>\n",
       "      <th>test_size</th>\n",
       "      <th>standart_error</th>\n",
       "      <th>observable_t_stats</th>\n",
       "      <th>p_value</th>\n",
       "      <th>cochran_statistic</th>\n",
       "      <th>cochran_p_value</th>\n",
       "      <th>training_time</th>\n",
       "      <th>test_time</th>\n",
       "    </tr>\n",
       "  </thead>\n",
       "  <tbody>\n",
       "    <tr>\n",
       "      <th>0</th>\n",
       "      <td>snli</td>\n",
       "      <td>gradient boosting</td>\n",
       "      <td>wordnet sin tranformation p and h</td>\n",
       "      <td>0</td>\n",
       "      <td>12456</td>\n",
       "      <td>17842</td>\n",
       "      <td>1000</td>\n",
       "      <td>0.582402</td>\n",
       "      <td>0.534647</td>\n",
       "      <td>0.0477545</td>\n",
       "      <td>9842</td>\n",
       "      <td>0.395765</td>\n",
       "      <td>11.9707</td>\n",
       "      <td>0</td>\n",
       "      <td>141.240409</td>\n",
       "      <td>0.0</td>\n",
       "      <td>3264.88</td>\n",
       "      <td>3273.29</td>\n",
       "    </tr>\n",
       "    <tr>\n",
       "      <th>1</th>\n",
       "      <td>snli</td>\n",
       "      <td>gradient boosting</td>\n",
       "      <td>wordnet sin tranformation p and h</td>\n",
       "      <td>0</td>\n",
       "      <td>1548</td>\n",
       "      <td>13943</td>\n",
       "      <td>1000</td>\n",
       "      <td>0.582402</td>\n",
       "      <td>0.529059</td>\n",
       "      <td>0.0396261</td>\n",
       "      <td>9842</td>\n",
       "      <td>0.391765</td>\n",
       "      <td>10.0345</td>\n",
       "      <td>0</td>\n",
       "      <td>141.240409</td>\n",
       "      <td>0.0</td>\n",
       "      <td>3369.22</td>\n",
       "      <td>3377.67</td>\n",
       "    </tr>\n",
       "  </tbody>\n",
       "</table>"
      ],
      "text/plain": [
       "<IPython.core.display.HTML object>"
      ]
     },
     "metadata": {},
     "output_type": "display_data"
    }
   ],
   "source": [
    "df = pd.read_csv(\"results/snli/xgb/sin_p_h/rho_0p00_random_state_17842_13943.csv\")\n",
    "df1 = df.iloc[0].to_frame().transpose()\n",
    "df2 = df.iloc[1].to_frame().transpose().reset_index(drop=True)\n",
    "diff1 = pd.read_csv(\"raw_results/snli/xgb/sin_p_h/rho_0p0/results_0.csv\")\n",
    "diff2 = pd.read_csv(\"raw_results/snli/xgb/sin_p_h/rho_0p0/results_1.csv\")\n",
    "\n",
    "df1.loc[:, \"validation_accuracy\"] = [diff1.A.mean()] # fixing problem\n",
    "df2.loc[:, \"validation_accuracy\"] = [diff2.A.mean()] # fixing problem\n",
    "\n",
    "df1_new = update_results_with_cochran_test(df1, diff1)\n",
    "df2_new = update_results_with_cochran_test(df2, diff2)\n",
    "\n",
    "\n",
    "df_rho_0 = pd.concat([df1_new, df2_new]).reset_index(drop=True)\n",
    "df_rho_0 = get_standart_results(df_rho_0)\n",
    "show_df(df_rho_0)"
   ]
  },
  {
   "cell_type": "markdown",
   "metadata": {},
   "source": [
    "## Results for $\\rho = 0.25$"
   ]
  },
  {
   "cell_type": "code",
   "execution_count": 3,
   "metadata": {},
   "outputs": [
    {
     "data": {
      "text/html": [
       "<table border=\"1\" class=\"dataframe\">\n",
       "  <thead>\n",
       "    <tr style=\"text-align: right;\">\n",
       "      <th></th>\n",
       "      <th>data</th>\n",
       "      <th>model</th>\n",
       "      <th>transformation</th>\n",
       "      <th>rho</th>\n",
       "      <th>dgp_seed</th>\n",
       "      <th>random_state</th>\n",
       "      <th>number_of_simulations</th>\n",
       "      <th>validation_accuracy</th>\n",
       "      <th>transformed_validation_accuracy</th>\n",
       "      <th>accuracy_difference</th>\n",
       "      <th>test_size</th>\n",
       "      <th>standart_error</th>\n",
       "      <th>observable_t_stats</th>\n",
       "      <th>p_value</th>\n",
       "      <th>cochran_statistic</th>\n",
       "      <th>cochran_p_value</th>\n",
       "      <th>training_time</th>\n",
       "      <th>test_time</th>\n",
       "    </tr>\n",
       "  </thead>\n",
       "  <tbody>\n",
       "    <tr>\n",
       "      <th>0</th>\n",
       "      <td>snli</td>\n",
       "      <td>gradient boosting</td>\n",
       "      <td>wordnet sin tranformation p and h</td>\n",
       "      <td>0.25</td>\n",
       "      <td>12647</td>\n",
       "      <td>14193</td>\n",
       "      <td>1000</td>\n",
       "      <td>0.581183</td>\n",
       "      <td>0.574274</td>\n",
       "      <td>0.00690916</td>\n",
       "      <td>9842</td>\n",
       "      <td>0.30232</td>\n",
       "      <td>2.26726</td>\n",
       "      <td>0.024</td>\n",
       "      <td>5.137778</td>\n",
       "      <td>0.026</td>\n",
       "      <td>207.335</td>\n",
       "      <td>215.796</td>\n",
       "    </tr>\n",
       "    <tr>\n",
       "      <th>1</th>\n",
       "      <td>snli</td>\n",
       "      <td>gradient boosting</td>\n",
       "      <td>wordnet sin tranformation p and h</td>\n",
       "      <td>0.25</td>\n",
       "      <td>1377</td>\n",
       "      <td>1813</td>\n",
       "      <td>1000</td>\n",
       "      <td>0.577525</td>\n",
       "      <td>0.567568</td>\n",
       "      <td>0.00995733</td>\n",
       "      <td>9842</td>\n",
       "      <td>0.294746</td>\n",
       "      <td>3.35148</td>\n",
       "      <td>0</td>\n",
       "      <td>11.219626</td>\n",
       "      <td>0.001</td>\n",
       "      <td>211.825</td>\n",
       "      <td>220.319</td>\n",
       "    </tr>\n",
       "  </tbody>\n",
       "</table>"
      ],
      "text/plain": [
       "<IPython.core.display.HTML object>"
      ]
     },
     "metadata": {},
     "output_type": "display_data"
    }
   ],
   "source": [
    "df = pd.read_csv(\"results/snli/xgb/sin_p_h/rho_0p25_random_state_14193_1813.csv\")\n",
    "df1 = df.iloc[0].to_frame().transpose()\n",
    "df2 = df.iloc[1].to_frame().transpose().reset_index(drop=True)\n",
    "diff1 = pd.read_csv(\"raw_results/snli/xgb/sin_p_h/rho_0p25/results_0.csv\")\n",
    "diff2 = pd.read_csv(\"raw_results/snli/xgb/sin_p_h/rho_0p25/results_1.csv\")\n",
    "\n",
    "df1.loc[:, \"validation_accuracy\"] = [diff1.A.mean()] # fixing problem\n",
    "df2.loc[:, \"validation_accuracy\"] = [diff2.A.mean()] # fixing problem\n",
    "\n",
    "\n",
    "df1_new = update_results_with_cochran_test(df1, diff1)\n",
    "df2_new = update_results_with_cochran_test(df2, diff2)\n",
    "\n",
    "\n",
    "df_rho_0p25 = pd.concat([df1_new, df2_new]).reset_index(drop=True)\n",
    "df_rho_0p25 = get_standart_results(df_rho_0p25)\n",
    "show_df(df_rho_0p25)"
   ]
  },
  {
   "cell_type": "markdown",
   "metadata": {},
   "source": [
    "## Results for $\\rho = 0.5$"
   ]
  },
  {
   "cell_type": "code",
   "execution_count": 4,
   "metadata": {},
   "outputs": [
    {
     "data": {
      "text/html": [
       "<table border=\"1\" class=\"dataframe\">\n",
       "  <thead>\n",
       "    <tr style=\"text-align: right;\">\n",
       "      <th></th>\n",
       "      <th>data</th>\n",
       "      <th>model</th>\n",
       "      <th>transformation</th>\n",
       "      <th>rho</th>\n",
       "      <th>dgp_seed</th>\n",
       "      <th>random_state</th>\n",
       "      <th>number_of_simulations</th>\n",
       "      <th>validation_accuracy</th>\n",
       "      <th>transformed_validation_accuracy</th>\n",
       "      <th>accuracy_difference</th>\n",
       "      <th>test_size</th>\n",
       "      <th>standart_error</th>\n",
       "      <th>observable_t_stats</th>\n",
       "      <th>p_value</th>\n",
       "      <th>cochran_statistic</th>\n",
       "      <th>cochran_p_value</th>\n",
       "      <th>training_time</th>\n",
       "      <th>test_time</th>\n",
       "    </tr>\n",
       "  </thead>\n",
       "  <tbody>\n",
       "    <tr>\n",
       "      <th>0</th>\n",
       "      <td>snli</td>\n",
       "      <td>gradient boosting</td>\n",
       "      <td>wordnet sin tranformation p and h</td>\n",
       "      <td>0.5</td>\n",
       "      <td>1242</td>\n",
       "      <td>1149</td>\n",
       "      <td>1000</td>\n",
       "      <td>0.574680</td>\n",
       "      <td>0.572038</td>\n",
       "      <td>0.00264174</td>\n",
       "      <td>9842</td>\n",
       "      <td>0.263226</td>\n",
       "      <td>0.995642</td>\n",
       "      <td>0.322</td>\n",
       "      <td>0.991202</td>\n",
       "      <td>0.337</td>\n",
       "      <td>214.285</td>\n",
       "      <td>222.733</td>\n",
       "    </tr>\n",
       "    <tr>\n",
       "      <th>1</th>\n",
       "      <td>snli</td>\n",
       "      <td>gradient boosting</td>\n",
       "      <td>wordnet sin tranformation p and h</td>\n",
       "      <td>0.5</td>\n",
       "      <td>1431</td>\n",
       "      <td>1272</td>\n",
       "      <td>1000</td>\n",
       "      <td>0.575594</td>\n",
       "      <td>0.576001</td>\n",
       "      <td>-0.000406421</td>\n",
       "      <td>9842</td>\n",
       "      <td>0.273833</td>\n",
       "      <td>-0.147242</td>\n",
       "      <td>0.87</td>\n",
       "      <td>0.021680</td>\n",
       "      <td>0.895</td>\n",
       "      <td>213.774</td>\n",
       "      <td>222.224</td>\n",
       "    </tr>\n",
       "  </tbody>\n",
       "</table>"
      ],
      "text/plain": [
       "<IPython.core.display.HTML object>"
      ]
     },
     "metadata": {},
     "output_type": "display_data"
    }
   ],
   "source": [
    "df = pd.read_csv(\"results/snli/xgb/sin_p_h/rho_0p50_random_state_1149_1272.csv\")\n",
    "df1 = df.iloc[0].to_frame().transpose()\n",
    "df2 = df.iloc[1].to_frame().transpose().reset_index(drop=True)\n",
    "diff1 = pd.read_csv(\"raw_results/snli/xgb/sin_p_h/rho_0p5/results_0.csv\")\n",
    "diff2 = pd.read_csv(\"raw_results/snli/xgb/sin_p_h/rho_0p5/results_1.csv\")\n",
    "\n",
    "df1.loc[:, \"validation_accuracy\"] = [diff1.A.mean()] # fixing problem\n",
    "df2.loc[:, \"validation_accuracy\"] = [diff2.A.mean()] # fixing problem\n",
    "\n",
    "\n",
    "df1_new = update_results_with_cochran_test(df1, diff1)\n",
    "df2_new = update_results_with_cochran_test(df2, diff2)\n",
    "\n",
    "\n",
    "df_rho_0p5= pd.concat([df1_new, df2_new]).reset_index(drop=True)\n",
    "df_rho_0p5 = get_standart_results(df_rho_0p5)\n",
    "show_df(df_rho_0p5)"
   ]
  },
  {
   "cell_type": "markdown",
   "metadata": {},
   "source": [
    "## Results for $\\rho = 0.75$"
   ]
  },
  {
   "cell_type": "code",
   "execution_count": 5,
   "metadata": {},
   "outputs": [
    {
     "data": {
      "text/html": [
       "<table border=\"1\" class=\"dataframe\">\n",
       "  <thead>\n",
       "    <tr style=\"text-align: right;\">\n",
       "      <th></th>\n",
       "      <th>data</th>\n",
       "      <th>model</th>\n",
       "      <th>transformation</th>\n",
       "      <th>rho</th>\n",
       "      <th>dgp_seed</th>\n",
       "      <th>random_state</th>\n",
       "      <th>number_of_simulations</th>\n",
       "      <th>validation_accuracy</th>\n",
       "      <th>transformed_validation_accuracy</th>\n",
       "      <th>accuracy_difference</th>\n",
       "      <th>test_size</th>\n",
       "      <th>standart_error</th>\n",
       "      <th>observable_t_stats</th>\n",
       "      <th>p_value</th>\n",
       "      <th>cochran_statistic</th>\n",
       "      <th>cochran_p_value</th>\n",
       "      <th>training_time</th>\n",
       "      <th>test_time</th>\n",
       "    </tr>\n",
       "  </thead>\n",
       "  <tbody>\n",
       "    <tr>\n",
       "      <th>0</th>\n",
       "      <td>snli</td>\n",
       "      <td>gradient boosting</td>\n",
       "      <td>wordnet sin tranformation p and h</td>\n",
       "      <td>0.75</td>\n",
       "      <td>1192</td>\n",
       "      <td>13202</td>\n",
       "      <td>1000</td>\n",
       "      <td>0.569498</td>\n",
       "      <td>0.582402</td>\n",
       "      <td>-0.0129039</td>\n",
       "      <td>9842</td>\n",
       "      <td>0.303298</td>\n",
       "      <td>-4.22078</td>\n",
       "      <td>0</td>\n",
       "      <td>17.782800</td>\n",
       "      <td>0.000</td>\n",
       "      <td>217.502</td>\n",
       "      <td>225.975</td>\n",
       "    </tr>\n",
       "    <tr>\n",
       "      <th>1</th>\n",
       "      <td>snli</td>\n",
       "      <td>gradient boosting</td>\n",
       "      <td>wordnet sin tranformation p and h</td>\n",
       "      <td>0.75</td>\n",
       "      <td>1716</td>\n",
       "      <td>165</td>\n",
       "      <td>1000</td>\n",
       "      <td>0.571225</td>\n",
       "      <td>0.580776</td>\n",
       "      <td>-0.0095509</td>\n",
       "      <td>9842</td>\n",
       "      <td>0.301575</td>\n",
       "      <td>-3.14189</td>\n",
       "      <td>0.006</td>\n",
       "      <td>9.861607</td>\n",
       "      <td>0.003</td>\n",
       "      <td>200.561</td>\n",
       "      <td>209.075</td>\n",
       "    </tr>\n",
       "  </tbody>\n",
       "</table>"
      ],
      "text/plain": [
       "<IPython.core.display.HTML object>"
      ]
     },
     "metadata": {},
     "output_type": "display_data"
    }
   ],
   "source": [
    "df = pd.read_csv(\"results/snli/xgb/sin_p_h/rho_0p75_random_state_13202_165.csv\")\n",
    "df1 = df.iloc[0].to_frame().transpose()\n",
    "df2 = df.iloc[1].to_frame().transpose().reset_index(drop=True)\n",
    "diff1 = pd.read_csv(\"raw_results/snli/xgb/sin_p_h/rho_0p75/results_0.csv\")\n",
    "diff2 = pd.read_csv(\"raw_results/snli/xgb/sin_p_h/rho_0p75/results_1.csv\")\n",
    "\n",
    "df1.loc[:, \"validation_accuracy\"] = [diff1.A.mean()] # fixing problem\n",
    "df2.loc[:, \"validation_accuracy\"] = [diff2.A.mean()] # fixing problem\n",
    "\n",
    "df1_new = update_results_with_cochran_test(df1, diff1)\n",
    "df2_new = update_results_with_cochran_test(df2, diff2)\n",
    "\n",
    "\n",
    "df_rho_0p75= pd.concat([df1_new, df2_new]).reset_index(drop=True)\n",
    "df_rho_0p75 = get_standart_results(df_rho_0p75)\n",
    "show_df(df_rho_0p75)"
   ]
  },
  {
   "cell_type": "markdown",
   "metadata": {},
   "source": [
    "## Results for $\\rho = 1.0$"
   ]
  },
  {
   "cell_type": "code",
   "execution_count": 6,
   "metadata": {},
   "outputs": [
    {
     "data": {
      "text/html": [
       "<table border=\"1\" class=\"dataframe\">\n",
       "  <thead>\n",
       "    <tr style=\"text-align: right;\">\n",
       "      <th></th>\n",
       "      <th>data</th>\n",
       "      <th>model</th>\n",
       "      <th>transformation</th>\n",
       "      <th>rho</th>\n",
       "      <th>dgp_seed</th>\n",
       "      <th>random_state</th>\n",
       "      <th>number_of_simulations</th>\n",
       "      <th>validation_accuracy</th>\n",
       "      <th>transformed_validation_accuracy</th>\n",
       "      <th>accuracy_difference</th>\n",
       "      <th>test_size</th>\n",
       "      <th>standart_error</th>\n",
       "      <th>observable_t_stats</th>\n",
       "      <th>p_value</th>\n",
       "      <th>cochran_statistic</th>\n",
       "      <th>cochran_p_value</th>\n",
       "      <th>training_time</th>\n",
       "      <th>test_time</th>\n",
       "    </tr>\n",
       "  </thead>\n",
       "  <tbody>\n",
       "    <tr>\n",
       "      <th>0</th>\n",
       "      <td>snli</td>\n",
       "      <td>gradient boosting</td>\n",
       "      <td>wordnet sin tranformation p and h</td>\n",
       "      <td>1</td>\n",
       "      <td>14571</td>\n",
       "      <td>1715</td>\n",
       "      <td>1000</td>\n",
       "      <td>0.516765</td>\n",
       "      <td>0.58352</td>\n",
       "      <td>-0.0667547</td>\n",
       "      <td>9842</td>\n",
       "      <td>0.429451</td>\n",
       "      <td>-15.4209</td>\n",
       "      <td>0</td>\n",
       "      <td>232.19419</td>\n",
       "      <td>0.0</td>\n",
       "      <td>212.368</td>\n",
       "      <td>220.861</td>\n",
       "    </tr>\n",
       "    <tr>\n",
       "      <th>1</th>\n",
       "      <td>snli</td>\n",
       "      <td>gradient boosting</td>\n",
       "      <td>wordnet sin tranformation p and h</td>\n",
       "      <td>1</td>\n",
       "      <td>18152</td>\n",
       "      <td>1766</td>\n",
       "      <td>1000</td>\n",
       "      <td>0.516765</td>\n",
       "      <td>0.58352</td>\n",
       "      <td>-0.0667547</td>\n",
       "      <td>9842</td>\n",
       "      <td>0.429451</td>\n",
       "      <td>-15.4209</td>\n",
       "      <td>0</td>\n",
       "      <td>232.19419</td>\n",
       "      <td>0.0</td>\n",
       "      <td>218.377</td>\n",
       "      <td>226.804</td>\n",
       "    </tr>\n",
       "  </tbody>\n",
       "</table>"
      ],
      "text/plain": [
       "<IPython.core.display.HTML object>"
      ]
     },
     "metadata": {},
     "output_type": "display_data"
    }
   ],
   "source": [
    "df = pd.read_csv(\"results/snli/xgb/sin_p_h/rho_1p00_random_state_1715_1766.csv\")\n",
    "df1 = df.iloc[0].to_frame().transpose()\n",
    "df2 = df.iloc[1].to_frame().transpose().reset_index(drop=True)\n",
    "diff1 = pd.read_csv(\"raw_results/snli/xgb/sin_p_h/rho_1p0/results_0.csv\")\n",
    "diff2 = pd.read_csv(\"raw_results/snli/xgb/sin_p_h/rho_1p0/results_1.csv\")\n",
    "\n",
    "df1.loc[:, \"validation_accuracy\"] = [diff1.A.mean()] # fixing problem\n",
    "df2.loc[:, \"validation_accuracy\"] = [diff2.A.mean()] # fixing problem\n",
    "\n",
    "df1_new = update_results_with_cochran_test(df1, diff1)\n",
    "df2_new = update_results_with_cochran_test(df2, diff2)\n",
    "\n",
    "\n",
    "df_rho_1p0 = pd.concat([df1_new, df2_new]).reset_index(drop=True)\n",
    "df_rho_1p0 = get_standart_results(df_rho_1p0)\n",
    "show_df(df_rho_1p0)"
   ]
  },
  {
   "cell_type": "markdown",
   "metadata": {},
   "source": [
    "## Plotting Results"
   ]
  },
  {
   "cell_type": "code",
   "execution_count": 7,
   "metadata": {},
   "outputs": [
    {
     "data": {
      "image/png": "[encoded data removed]",
      "text/plain": [
       "<Figure size 720x360 with 2 Axes>"
      ]
     },
     "metadata": {
      "needs_background": "light"
     },
     "output_type": "display_data"
    },
    {
     "data": {
      "image/png": "[encoded data removed]",
      "text/plain": [
       "<Figure size 720x360 with 2 Axes>"
      ]
     },
     "metadata": {
      "needs_background": "light"
     },
     "output_type": "display_data"
    },
    {
     "data": {
      "image/png": "[encoded data removed]",
      "text/plain": [
       "<Figure size 864x432 with 1 Axes>"
      ]
     },
     "metadata": {
      "needs_background": "light"
     },
     "output_type": "display_data"
    }
   ],
   "source": [
    "dfs = [df_rho_0, df_rho_0p25, df_rho_0p5, df_rho_0p75, df_rho_1p0]\n",
    "names = [\"0.0\", \"0.25\", \"0.5\", \"0.75\", \"1.00\" ]\n",
    "\n",
    "all_p_values = {}\n",
    "for df, name in zip(dfs, names):\n",
    "    results = df.p_value\n",
    "    all_p_values[name] = results.astype(np.float)\n",
    "    \n",
    "fig, ax = plt.subplots(figsize=(10,5))\n",
    "sns.heatmap(pd.DataFrame(all_p_values), annot=True, cmap=\"YlGnBu\", linewidths=0.3, ax=ax);\n",
    "ax.set_xlabel(r\"$\\rho$\", fontsize=14);\n",
    "ax.set_ylabel(\"number of tests\", fontsize=14);\n",
    "ax.set_title(\"Gradient Boosting p-values\\n\\ndataset: SNLI\\ntransformation: synonym substitution\\n\");\n",
    "fig.tight_layout()\n",
    "fig.savefig('figs/gb_p_values_snli_sin_p_h.png', bbox_inches=None, pad_inches=0.5)\n",
    "\n",
    "\n",
    "all_p_values = {}\n",
    "for df, name in zip(dfs, names):\n",
    "    results = df.cochran_p_value\n",
    "    all_p_values[name] = results.astype(np.float) \n",
    "\n",
    "\n",
    "fig, ax = plt.subplots(figsize=(10,5))\n",
    "sns.heatmap(pd.DataFrame(all_p_values), annot=True, cmap=\"YlGnBu\", linewidths=0.3, ax=ax);\n",
    "ax.set_xlabel(r\"$\\rho$\", fontsize=14);\n",
    "ax.set_ylabel(\"number of tests\", fontsize=14);\n",
    "ax.set_title(\"Gradient Boosting p-values (cochran test) \\n\\ndataset: SNLI\\ntransformation: synonym substitution\\n\");\n",
    "fig.tight_layout()\n",
    "fig.savefig('figs/gb_p_values_cochran_snli_sin_p_h.png', bbox_inches=None, pad_inches=0.5)\n",
    "\n",
    "\n",
    "rhos = []\n",
    "acc_s = []\n",
    "acc_t_s = []\n",
    "\n",
    "for df in dfs:\n",
    "    acc = df.validation_accuracy.values\n",
    "    acc_s.append(acc)\n",
    "    acc_t = df.transformed_validation_accuracy.values\n",
    "    acc_t_s.append(acc_t)\n",
    "    rhos.append(df.rho.values[0])\n",
    "acc_s = np.array(acc_s)\n",
    "acc_t_s = np.array(acc_t_s)\n",
    "\n",
    "acc_c = [\"acc_{}\".format(i) for i in range(acc_s.shape[1])]\n",
    "acc_t_c = [\"acc_t_{}\".format(i) for i in range(acc_t_s.shape[1])]\n",
    "\n",
    "acc = pd.DataFrame(acc_s, index=rhos, columns=acc_c)\n",
    "acc.index.name = \"rho\"\n",
    "acc_t = pd.DataFrame(acc_t_s, index=rhos, columns=acc_t_c)\n",
    "acc_t.index.name = \"rho\"\n",
    "\n",
    "x = acc.mean(1).index\n",
    "y = acc.mean(1).values\n",
    "error = acc.std(1).values\n",
    "\n",
    "x_t = acc_t.mean(1).index\n",
    "y_t = acc_t.mean(1).values\n",
    "error_t = acc_t.std(1).values\n",
    "\n",
    "\n",
    "fig, ax = plt.subplots(figsize=(12,6))\n",
    "ax.errorbar(x, y, yerr=error, fmt='-o', label=\"original validation data\");\n",
    "ax.errorbar(x_t, y_t, yerr=error_t, fmt='-o', label=\"transformed validation data\");\n",
    "ax.legend(loc=\"best\");\n",
    "ax.set_xlabel(r\"$\\rho$\", fontsize=14);\n",
    "ax.set_ylabel(\"accuracy\", fontsize=14);\n",
    "ax.set_title(\"Gradient Boosting accuracy\\n\\ndataset: SNLI\\ntransformation: synonym substitution\\n\");\n",
    "fig.tight_layout()\n",
    "fig.savefig('figs/gb_acc_snli_sin_p_h.png', bbox_inches=None, pad_inches=0.5)"
   ]
  },
  {
   "cell_type": "code",
   "execution_count": null,
   "metadata": {},
   "outputs": [],
   "source": []
  }
 ],
 "metadata": {
  "kernelspec": {
   "display_name": "Python 3",
   "language": "python",
   "name": "python3"
  },
  "language_info": {
   "codemirror_mode": {
    "name": "ipython",
    "version": 3
   },
   "file_extension": ".py",
   "mimetype": "text/x-python",
   "name": "python",
   "nbconvert_exporter": "python",
   "pygments_lexer": "ipython3",
   "version": "3.6.9"
  }
 },
 "nbformat": 4,
 "nbformat_minor": 2
}
