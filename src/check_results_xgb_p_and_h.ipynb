{
 "cells": [
  {
   "cell_type": "markdown",
   "metadata": {},
   "source": [
    "# Results for XGB when applying syn tranformation to both premise and hypothesis"
   ]
  },
  {
   "cell_type": "code",
   "execution_count": 1,
   "metadata": {},
   "outputs": [],
   "source": [
    "import pandas as pd\n",
    "import numpy as np\n",
    "import matplotlib.pyplot as plt\n",
    "import seaborn as sns\n",
    "from IPython.display import display, HTML \n",
    "from lr.stats.h_testing import get_boot_p_value,update_results_with_cochran_test\n",
    "from lr.analysis.util import get_boots, show_df, get_standart_results"
   ]
  },
  {
   "cell_type": "markdown",
   "metadata": {},
   "source": [
    "## Results for $\\rho = 0$"
   ]
  },
  {
   "cell_type": "code",
   "execution_count": 5,
   "metadata": {},
   "outputs": [
    {
     "data": {
      "text/html": [
       "<table border=\"1\" class=\"dataframe\">\n",
       "  <thead>\n",
       "    <tr style=\"text-align: right;\">\n",
       "      <th></th>\n",
       "      <th>data</th>\n",
       "      <th>model</th>\n",
       "      <th>transformation</th>\n",
       "      <th>rho</th>\n",
       "      <th>dgp_seed</th>\n",
       "      <th>random_state</th>\n",
       "      <th>number_of_simulations</th>\n",
       "      <th>validation_accuracy</th>\n",
       "      <th>transformed_validation_accuracy</th>\n",
       "      <th>accuracy_difference</th>\n",
       "      <th>test_size</th>\n",
       "      <th>standart_error</th>\n",
       "      <th>observable_t_stats</th>\n",
       "      <th>p_value</th>\n",
       "      <th>cochran_statistic</th>\n",
       "      <th>cochran_p_value</th>\n",
       "      <th>training_time</th>\n",
       "      <th>test_time</th>\n",
       "    </tr>\n",
       "  </thead>\n",
       "  <tbody>\n",
       "    <tr>\n",
       "      <th>0</th>\n",
       "      <td>snli</td>\n",
       "      <td>gradient boosting</td>\n",
       "      <td>wordnet sin tranformation p and h</td>\n",
       "      <td>0</td>\n",
       "      <td>26</td>\n",
       "      <td>42</td>\n",
       "      <td>1000</td>\n",
       "      <td>0.569396</td>\n",
       "      <td>0.534038</td>\n",
       "      <td>0.0353587</td>\n",
       "      <td>9842</td>\n",
       "      <td>0.394755</td>\n",
       "      <td>8.88607</td>\n",
       "      <td>0</td>\n",
       "      <td>78.333765</td>\n",
       "      <td>0.0</td>\n",
       "      <td>1994.06</td>\n",
       "      <td>2004.08</td>\n",
       "    </tr>\n",
       "    <tr>\n",
       "      <th>1</th>\n",
       "      <td>snli</td>\n",
       "      <td>gradient boosting</td>\n",
       "      <td>wordnet sin tranformation p and h</td>\n",
       "      <td>0</td>\n",
       "      <td>48</td>\n",
       "      <td>343</td>\n",
       "      <td>1000</td>\n",
       "      <td>0.578744</td>\n",
       "      <td>0.53607</td>\n",
       "      <td>0.0426743</td>\n",
       "      <td>9842</td>\n",
       "      <td>0.390405</td>\n",
       "      <td>10.8441</td>\n",
       "      <td>0</td>\n",
       "      <td>116.205534</td>\n",
       "      <td>0.0</td>\n",
       "      <td>1913.27</td>\n",
       "      <td>1923.06</td>\n",
       "    </tr>\n",
       "  </tbody>\n",
       "</table>"
      ],
      "text/plain": [
       "<IPython.core.display.HTML object>"
      ]
     },
     "metadata": {},
     "output_type": "display_data"
    }
   ],
   "source": [
    "df = pd.read_csv(\"results/snli/xgb/sin_p_h/rho_0p00_random_state_42_343.csv\")\n",
    "df1 = df.iloc[0].to_frame().transpose()\n",
    "df2 = df.iloc[1].to_frame().transpose().reset_index(drop=True)\n",
    "diff1 = pd.read_csv(\"raw_results/snli/xgb/sin_p_h/rho_0p0/results_0.csv\")\n",
    "diff2 = pd.read_csv(\"raw_results/snli/xgb/sin_p_h/rho_0p0/results_1.csv\")\n",
    "df1_new = update_results_with_cochran_test(df1, diff1)\n",
    "df2_new = update_results_with_cochran_test(df2, diff2)\n",
    "\n",
    "\n",
    "df_rho_0 = pd.concat([df1_new, df2_new]).reset_index(drop=True)\n",
    "df_rho_0 = get_standart_results(df_rho_0)\n",
    "show_df(df_rho_0)"
   ]
  },
  {
   "cell_type": "markdown",
   "metadata": {},
   "source": [
    "## Results for $\\rho = 0.25$"
   ]
  },
  {
   "cell_type": "code",
   "execution_count": 6,
   "metadata": {},
   "outputs": [
    {
     "data": {
      "text/html": [
       "<table border=\"1\" class=\"dataframe\">\n",
       "  <thead>\n",
       "    <tr style=\"text-align: right;\">\n",
       "      <th></th>\n",
       "      <th>data</th>\n",
       "      <th>model</th>\n",
       "      <th>transformation</th>\n",
       "      <th>rho</th>\n",
       "      <th>dgp_seed</th>\n",
       "      <th>random_state</th>\n",
       "      <th>number_of_simulations</th>\n",
       "      <th>validation_accuracy</th>\n",
       "      <th>transformed_validation_accuracy</th>\n",
       "      <th>accuracy_difference</th>\n",
       "      <th>test_size</th>\n",
       "      <th>standart_error</th>\n",
       "      <th>observable_t_stats</th>\n",
       "      <th>p_value</th>\n",
       "      <th>cochran_statistic</th>\n",
       "      <th>cochran_p_value</th>\n",
       "      <th>training_time</th>\n",
       "      <th>test_time</th>\n",
       "    </tr>\n",
       "  </thead>\n",
       "  <tbody>\n",
       "    <tr>\n",
       "      <th>0</th>\n",
       "      <td>snli</td>\n",
       "      <td>gradient boosting</td>\n",
       "      <td>wordnet sin tranformation p and h</td>\n",
       "      <td>0.25</td>\n",
       "      <td>27</td>\n",
       "      <td>413</td>\n",
       "      <td>1000</td>\n",
       "      <td>0.579049</td>\n",
       "      <td>0.56838</td>\n",
       "      <td>0.0106686</td>\n",
       "      <td>9842</td>\n",
       "      <td>0.305387</td>\n",
       "      <td>3.46574</td>\n",
       "      <td>0.002</td>\n",
       "      <td>11.996736</td>\n",
       "      <td>0.000</td>\n",
       "      <td>2063.7</td>\n",
       "      <td>2073.85</td>\n",
       "    </tr>\n",
       "    <tr>\n",
       "      <th>1</th>\n",
       "      <td>snli</td>\n",
       "      <td>gradient boosting</td>\n",
       "      <td>wordnet sin tranformation p and h</td>\n",
       "      <td>0.25</td>\n",
       "      <td>37</td>\n",
       "      <td>13</td>\n",
       "      <td>1000</td>\n",
       "      <td>0.573969</td>\n",
       "      <td>0.571429</td>\n",
       "      <td>0.00254013</td>\n",
       "      <td>9842</td>\n",
       "      <td>0.305231</td>\n",
       "      <td>0.825601</td>\n",
       "      <td>0.43</td>\n",
       "      <td>0.681570</td>\n",
       "      <td>0.428</td>\n",
       "      <td>2112.72</td>\n",
       "      <td>2122.76</td>\n",
       "    </tr>\n",
       "  </tbody>\n",
       "</table>"
      ],
      "text/plain": [
       "<IPython.core.display.HTML object>"
      ]
     },
     "metadata": {},
     "output_type": "display_data"
    }
   ],
   "source": [
    "df = pd.read_csv(\"results/snli/xgb/sin_p_h/rho_0p25_random_state_413_13.csv\")\n",
    "df1 = df.iloc[0].to_frame().transpose()\n",
    "df2 = df.iloc[1].to_frame().transpose().reset_index(drop=True)\n",
    "diff1 = pd.read_csv(\"raw_results/snli/xgb/sin_p_h/rho_0p25/results_0.csv\")\n",
    "diff2 = pd.read_csv(\"raw_results/snli/xgb/sin_p_h/rho_0p25/results_1.csv\")\n",
    "df1_new = update_results_with_cochran_test(df1, diff1)\n",
    "df2_new = update_results_with_cochran_test(df2, diff2)\n",
    "\n",
    "\n",
    "df_rho_0p25 = pd.concat([df1_new, df2_new]).reset_index(drop=True)\n",
    "df_rho_0p25 = get_standart_results(df_rho_0p25)\n",
    "show_df(df_rho_0p25)"
   ]
  },
  {
   "cell_type": "markdown",
   "metadata": {},
   "source": [
    "## Results for $\\rho = 0.5$"
   ]
  },
  {
   "cell_type": "code",
   "execution_count": 7,
   "metadata": {},
   "outputs": [
    {
     "data": {
      "text/html": [
       "<table border=\"1\" class=\"dataframe\">\n",
       "  <thead>\n",
       "    <tr style=\"text-align: right;\">\n",
       "      <th></th>\n",
       "      <th>data</th>\n",
       "      <th>model</th>\n",
       "      <th>transformation</th>\n",
       "      <th>rho</th>\n",
       "      <th>dgp_seed</th>\n",
       "      <th>random_state</th>\n",
       "      <th>number_of_simulations</th>\n",
       "      <th>validation_accuracy</th>\n",
       "      <th>transformed_validation_accuracy</th>\n",
       "      <th>accuracy_difference</th>\n",
       "      <th>test_size</th>\n",
       "      <th>standart_error</th>\n",
       "      <th>observable_t_stats</th>\n",
       "      <th>p_value</th>\n",
       "      <th>cochran_statistic</th>\n",
       "      <th>cochran_p_value</th>\n",
       "      <th>training_time</th>\n",
       "      <th>test_time</th>\n",
       "    </tr>\n",
       "  </thead>\n",
       "  <tbody>\n",
       "    <tr>\n",
       "      <th>0</th>\n",
       "      <td>snli</td>\n",
       "      <td>gradient boosting</td>\n",
       "      <td>wordnet sin tranformation p and h</td>\n",
       "      <td>0.5</td>\n",
       "      <td>2</td>\n",
       "      <td>19</td>\n",
       "      <td>1000</td>\n",
       "      <td>0.565637</td>\n",
       "      <td>0.56584</td>\n",
       "      <td>-0.000203211</td>\n",
       "      <td>9842</td>\n",
       "      <td>0.267071</td>\n",
       "      <td>-0.0754852</td>\n",
       "      <td>0.968</td>\n",
       "      <td>0.005698</td>\n",
       "      <td>0.938</td>\n",
       "      <td>2190.88</td>\n",
       "      <td>2201.15</td>\n",
       "    </tr>\n",
       "    <tr>\n",
       "      <th>1</th>\n",
       "      <td>snli</td>\n",
       "      <td>gradient boosting</td>\n",
       "      <td>wordnet sin tranformation p and h</td>\n",
       "      <td>0.5</td>\n",
       "      <td>41</td>\n",
       "      <td>22</td>\n",
       "      <td>1000</td>\n",
       "      <td>0.568177</td>\n",
       "      <td>0.568787</td>\n",
       "      <td>-0.000609632</td>\n",
       "      <td>9842</td>\n",
       "      <td>0.281878</td>\n",
       "      <td>-0.21456</td>\n",
       "      <td>0.79</td>\n",
       "      <td>0.046036</td>\n",
       "      <td>0.811</td>\n",
       "      <td>1647.99</td>\n",
       "      <td>1658.11</td>\n",
       "    </tr>\n",
       "  </tbody>\n",
       "</table>"
      ],
      "text/plain": [
       "<IPython.core.display.HTML object>"
      ]
     },
     "metadata": {},
     "output_type": "display_data"
    }
   ],
   "source": [
    "df = pd.read_csv(\"results/snli/xgb/sin_p_h/rho_0p50_random_state_19_22.csv\")\n",
    "df1 = df.iloc[0].to_frame().transpose()\n",
    "df2 = df.iloc[1].to_frame().transpose().reset_index(drop=True)\n",
    "diff1 = pd.read_csv(\"raw_results/snli/xgb/sin_p_h/rho_0p5/results_0.csv\")\n",
    "diff2 = pd.read_csv(\"raw_results/snli/xgb/sin_p_h/rho_0p5/results_1.csv\")\n",
    "df1_new = update_results_with_cochran_test(df1, diff1)\n",
    "df2_new = update_results_with_cochran_test(df2, diff2)\n",
    "\n",
    "\n",
    "df_rho_0p5= pd.concat([df1_new, df2_new]).reset_index(drop=True)\n",
    "df_rho_0p5 = get_standart_results(df_rho_0p5)\n",
    "show_df(df_rho_0p5)"
   ]
  },
  {
   "cell_type": "markdown",
   "metadata": {},
   "source": [
    "## Results for $\\rho = 0.75$"
   ]
  },
  {
   "cell_type": "code",
   "execution_count": 9,
   "metadata": {},
   "outputs": [
    {
     "data": {
      "text/html": [
       "<table border=\"1\" class=\"dataframe\">\n",
       "  <thead>\n",
       "    <tr style=\"text-align: right;\">\n",
       "      <th></th>\n",
       "      <th>data</th>\n",
       "      <th>model</th>\n",
       "      <th>transformation</th>\n",
       "      <th>rho</th>\n",
       "      <th>dgp_seed</th>\n",
       "      <th>random_state</th>\n",
       "      <th>number_of_simulations</th>\n",
       "      <th>validation_accuracy</th>\n",
       "      <th>transformed_validation_accuracy</th>\n",
       "      <th>accuracy_difference</th>\n",
       "      <th>test_size</th>\n",
       "      <th>standart_error</th>\n",
       "      <th>observable_t_stats</th>\n",
       "      <th>p_value</th>\n",
       "      <th>cochran_statistic</th>\n",
       "      <th>cochran_p_value</th>\n",
       "      <th>training_time</th>\n",
       "      <th>test_time</th>\n",
       "    </tr>\n",
       "  </thead>\n",
       "  <tbody>\n",
       "    <tr>\n",
       "      <th>0</th>\n",
       "      <td>snli</td>\n",
       "      <td>gradient boosting</td>\n",
       "      <td>wordnet sin tranformation p and h</td>\n",
       "      <td>0.75</td>\n",
       "      <td>19</td>\n",
       "      <td>322</td>\n",
       "      <td>1000</td>\n",
       "      <td>0.55446</td>\n",
       "      <td>0.568076</td>\n",
       "      <td>-0.0136151</td>\n",
       "      <td>9842</td>\n",
       "      <td>0.312994</td>\n",
       "      <td>-4.31546</td>\n",
       "      <td>0</td>\n",
       "      <td>18.587992</td>\n",
       "      <td>0.0</td>\n",
       "      <td>2122.82</td>\n",
       "      <td>2133.03</td>\n",
       "    </tr>\n",
       "    <tr>\n",
       "      <th>1</th>\n",
       "      <td>snli</td>\n",
       "      <td>gradient boosting</td>\n",
       "      <td>wordnet sin tranformation p and h</td>\n",
       "      <td>0.75</td>\n",
       "      <td>16</td>\n",
       "      <td>5</td>\n",
       "      <td>1000</td>\n",
       "      <td>0.562589</td>\n",
       "      <td>0.572749</td>\n",
       "      <td>-0.0101605</td>\n",
       "      <td>9842</td>\n",
       "      <td>0.322398</td>\n",
       "      <td>-3.12655</td>\n",
       "      <td>0</td>\n",
       "      <td>9.765625</td>\n",
       "      <td>0.0</td>\n",
       "      <td>1925.05</td>\n",
       "      <td>1935.18</td>\n",
       "    </tr>\n",
       "  </tbody>\n",
       "</table>"
      ],
      "text/plain": [
       "<IPython.core.display.HTML object>"
      ]
     },
     "metadata": {},
     "output_type": "display_data"
    }
   ],
   "source": [
    "df = pd.read_csv(\"results/snli/xgb/sin_p_h/rho_0p75_random_state_322_5.csv\")\n",
    "df1 = df.iloc[0].to_frame().transpose()\n",
    "df2 = df.iloc[1].to_frame().transpose().reset_index(drop=True)\n",
    "diff1 = pd.read_csv(\"raw_results/snli/xgb/sin_p_h/rho_0p75/results_0.csv\")\n",
    "diff2 = pd.read_csv(\"raw_results/snli/xgb/sin_p_h/rho_0p75/results_1.csv\")\n",
    "df1_new = update_results_with_cochran_test(df1, diff1)\n",
    "df2_new = update_results_with_cochran_test(df2, diff2)\n",
    "\n",
    "\n",
    "df_rho_0p75= pd.concat([df1_new, df2_new]).reset_index(drop=True)\n",
    "df_rho_0p75 = get_standart_results(df_rho_0p75)\n",
    "show_df(df_rho_0p75)"
   ]
  },
  {
   "cell_type": "markdown",
   "metadata": {},
   "source": [
    "## Results for $\\rho = 1.0$"
   ]
  },
  {
   "cell_type": "code",
   "execution_count": 10,
   "metadata": {},
   "outputs": [
    {
     "data": {
      "text/html": [
       "<table border=\"1\" class=\"dataframe\">\n",
       "  <thead>\n",
       "    <tr style=\"text-align: right;\">\n",
       "      <th></th>\n",
       "      <th>data</th>\n",
       "      <th>model</th>\n",
       "      <th>transformation</th>\n",
       "      <th>rho</th>\n",
       "      <th>dgp_seed</th>\n",
       "      <th>random_state</th>\n",
       "      <th>number_of_simulations</th>\n",
       "      <th>validation_accuracy</th>\n",
       "      <th>transformed_validation_accuracy</th>\n",
       "      <th>accuracy_difference</th>\n",
       "      <th>test_size</th>\n",
       "      <th>standart_error</th>\n",
       "      <th>observable_t_stats</th>\n",
       "      <th>p_value</th>\n",
       "      <th>cochran_statistic</th>\n",
       "      <th>cochran_p_value</th>\n",
       "      <th>training_time</th>\n",
       "      <th>test_time</th>\n",
       "    </tr>\n",
       "  </thead>\n",
       "  <tbody>\n",
       "    <tr>\n",
       "      <th>0</th>\n",
       "      <td>snli</td>\n",
       "      <td>gradient boosting</td>\n",
       "      <td>wordnet sin tranformation p and h</td>\n",
       "      <td>1</td>\n",
       "      <td>45</td>\n",
       "      <td>1</td>\n",
       "      <td>1000</td>\n",
       "      <td>0.515038</td>\n",
       "      <td>0.570921</td>\n",
       "      <td>-0.055883</td>\n",
       "      <td>9842</td>\n",
       "      <td>0.441366</td>\n",
       "      <td>-12.5609</td>\n",
       "      <td>0</td>\n",
       "      <td>155.287474</td>\n",
       "      <td>0.0</td>\n",
       "      <td>1907.92</td>\n",
       "      <td>1917.85</td>\n",
       "    </tr>\n",
       "    <tr>\n",
       "      <th>1</th>\n",
       "      <td>snli</td>\n",
       "      <td>gradient boosting</td>\n",
       "      <td>wordnet sin tranformation p and h</td>\n",
       "      <td>1</td>\n",
       "      <td>152</td>\n",
       "      <td>76</td>\n",
       "      <td>1000</td>\n",
       "      <td>0.512599</td>\n",
       "      <td>0.572851</td>\n",
       "      <td>-0.060252</td>\n",
       "      <td>9842</td>\n",
       "      <td>0.442746</td>\n",
       "      <td>-13.5008</td>\n",
       "      <td>0</td>\n",
       "      <td>178.956234</td>\n",
       "      <td>0.0</td>\n",
       "      <td>1954.65</td>\n",
       "      <td>1964.64</td>\n",
       "    </tr>\n",
       "  </tbody>\n",
       "</table>"
      ],
      "text/plain": [
       "<IPython.core.display.HTML object>"
      ]
     },
     "metadata": {},
     "output_type": "display_data"
    }
   ],
   "source": [
    "df = pd.read_csv(\"results/snli/xgb/sin_p_h/rho_1p00_random_state_1_76.csv\")\n",
    "df1 = df.iloc[0].to_frame().transpose()\n",
    "df2 = df.iloc[1].to_frame().transpose().reset_index(drop=True)\n",
    "diff1 = pd.read_csv(\"raw_results/snli/xgb/sin_p_h/rho_1p0/results_0.csv\")\n",
    "diff2 = pd.read_csv(\"raw_results/snli/xgb/sin_p_h/rho_1p0/results_1.csv\")\n",
    "df1_new = update_results_with_cochran_test(df1, diff1)\n",
    "df2_new = update_results_with_cochran_test(df2, diff2)\n",
    "\n",
    "\n",
    "df_rho_1p0 = pd.concat([df1_new, df2_new]).reset_index(drop=True)\n",
    "df_rho_1p0 = get_standart_results(df_rho_1p0)\n",
    "show_df(df_rho_1p0)"
   ]
  },
  {
   "cell_type": "code",
   "execution_count": 27,
   "metadata": {},
   "outputs": [
    {
     "data": {
      "image/png": "[encoded data removed]",
      "text/plain": [
       "<Figure size 720x360 with 2 Axes>"
      ]
     },
     "metadata": {
      "needs_background": "light"
     },
     "output_type": "display_data"
    }
   ],
   "source": [
    "dfs = [df_rho_0, df_rho_0p25, df_rho_0p5, df_rho_0p75, df_rho_1p0]\n",
    "names = [\"0.0\", \"0.25\", \"0.5\", \"0.75\", \"1.00\" ]\n",
    "\n",
    "all_p_values = {}\n",
    "for df, name in zip(dfs, names):\n",
    "    results = df.p_value\n",
    "    all_p_values[name] = results.astype(np.float)\n",
    "    \n",
    "fig, ax = plt.subplots(figsize=(10,5))\n",
    "sns.heatmap(pd.DataFrame(all_p_values), annot=True, cmap=\"YlGnBu\", linewidths=0.3, ax=ax);\n",
    "ax.set_xlabel(r\"$\\rho$\", fontsize=14);\n",
    "ax.set_ylabel(\"number of tests\", fontsize=14);\n",
    "ax.set_title(\"Gradient Boosting p-values\\n\\ndataset: SNLI\\ntransformation: synonym substitution\\n\");\n",
    "fig.tight_layout()\n",
    "fig.savefig('figs/gb_p_values_snli_sin_p_h.png', bbox_inches=None, pad_inches=0.5)\n"
   ]
  },
  {
   "cell_type": "markdown",
   "metadata": {},
   "source": [
    "## Plotting Results"
   ]
  },
  {
   "cell_type": "code",
   "execution_count": 29,
   "metadata": {},
   "outputs": [
    {
     "data": {
      "image/png": "[encoded data removed]",
      "text/plain": [
       "<Figure size 720x360 with 2 Axes>"
      ]
     },
     "metadata": {
      "needs_background": "light"
     },
     "output_type": "display_data"
    },
    {
     "data": {
      "image/png": "[encoded data removed]",
      "text/plain": [
       "<Figure size 720x360 with 2 Axes>"
      ]
     },
     "metadata": {
      "needs_background": "light"
     },
     "output_type": "display_data"
    },
    {
     "data": {
      "image/png": "[encoded data removed]",
      "text/plain": [
       "<Figure size 864x432 with 1 Axes>"
      ]
     },
     "metadata": {
      "needs_background": "light"
     },
     "output_type": "display_data"
    }
   ],
   "source": [
    "dfs = [df_rho_0, df_rho_0p25, df_rho_0p5, df_rho_0p75, df_rho_1p0]\n",
    "names = [\"0.0\", \"0.25\", \"0.5\", \"0.75\", \"1.00\" ]\n",
    "\n",
    "all_p_values = {}\n",
    "for df, name in zip(dfs, names):\n",
    "    results = df.p_value\n",
    "    all_p_values[name] = results.astype(np.float)\n",
    "    \n",
    "fig, ax = plt.subplots(figsize=(10,5))\n",
    "sns.heatmap(pd.DataFrame(all_p_values), annot=True, cmap=\"YlGnBu\", linewidths=0.3, ax=ax);\n",
    "ax.set_xlabel(r\"$\\rho$\", fontsize=14);\n",
    "ax.set_ylabel(\"number of tests\", fontsize=14);\n",
    "ax.set_title(\"Gradient Boosting p-values\\n\\ndataset: SNLI\\ntransformation: synonym substitution\\n\");\n",
    "fig.tight_layout()\n",
    "fig.savefig('figs/gb_p_values_snli_sin_p_h.png', bbox_inches=None, pad_inches=0.5)\n",
    "\n",
    "\n",
    "all_p_values = {}\n",
    "for df, name in zip(dfs, names):\n",
    "    results = df.cochran_p_value\n",
    "    all_p_values[name] = results.astype(np.float) \n",
    "\n",
    "\n",
    "fig, ax = plt.subplots(figsize=(10,5))\n",
    "sns.heatmap(pd.DataFrame(all_p_values), annot=True, cmap=\"YlGnBu\", linewidths=0.3, ax=ax);\n",
    "ax.set_xlabel(r\"$\\rho$\", fontsize=14);\n",
    "ax.set_ylabel(\"number of tests\", fontsize=14);\n",
    "ax.set_title(\"Gradient Boosting p-values (cochran test) \\n\\ndataset: SNLI\\ntransformation: synonym substitution\\n\");\n",
    "fig.tight_layout()\n",
    "fig.savefig('figs/gb_p_values_cochran_snli_sin_p_h.png', bbox_inches=None, pad_inches=0.5)\n",
    "\n",
    "\n",
    "rhos = []\n",
    "acc_s = []\n",
    "acc_t_s = []\n",
    "\n",
    "for df in dfs:\n",
    "    acc = df.validation_accuracy.values\n",
    "    acc_s.append(acc)\n",
    "    acc_t = df.transformed_validation_accuracy.values\n",
    "    acc_t_s.append(acc_t)\n",
    "    rhos.append(df.rho.values[0])\n",
    "acc_s = np.array(acc_s)\n",
    "acc_t_s = np.array(acc_t_s)\n",
    "\n",
    "acc_c = [\"acc_{}\".format(i) for i in range(acc_s.shape[1])]\n",
    "acc_t_c = [\"acc_t_{}\".format(i) for i in range(acc_t_s.shape[1])]\n",
    "\n",
    "acc = pd.DataFrame(acc_s, index=rhos, columns=acc_c)\n",
    "acc.index.name = \"rho\"\n",
    "acc_t = pd.DataFrame(acc_t_s, index=rhos, columns=acc_t_c)\n",
    "acc_t.index.name = \"rho\"\n",
    "\n",
    "x = acc.mean(1).index\n",
    "y = acc.mean(1).values\n",
    "error = acc.std(1).values\n",
    "\n",
    "x_t = acc_t.mean(1).index\n",
    "y_t = acc_t.mean(1).values\n",
    "error_t = acc_t.std(1).values\n",
    "\n",
    "\n",
    "fig, ax = plt.subplots(figsize=(12,6))\n",
    "ax.errorbar(x, y, yerr=error, fmt='-o', label=\"original validation data\");\n",
    "ax.errorbar(x_t, y_t, yerr=error_t, fmt='-o', label=\"transformed validation data\");\n",
    "ax.legend(loc=\"best\");\n",
    "ax.set_xlabel(r\"$\\rho$\", fontsize=14);\n",
    "ax.set_ylabel(\"accuracy\", fontsize=14);\n",
    "ax.set_title(\"Gradient Boosting accuracy\\n\\ndataset: SNLI\\ntransformation: synonym substitution\\n\");\n",
    "fig.tight_layout()\n",
    "fig.savefig('figs/gb_acc_snli_sin_p_h.png', bbox_inches=None, pad_inches=0.5)\n",
    "\n"
   ]
  },
  {
   "cell_type": "code",
   "execution_count": null,
   "metadata": {},
   "outputs": [],
   "source": []
  }
 ],
 "metadata": {
  "kernelspec": {
   "display_name": "Python 3",
   "language": "python",
   "name": "python3"
  },
  "language_info": {
   "codemirror_mode": {
    "name": "ipython",
    "version": 3
   },
   "file_extension": ".py",
   "mimetype": "text/x-python",
   "name": "python",
   "nbconvert_exporter": "python",
   "pygments_lexer": "ipython3",
   "version": "3.6.9"
  }
 },
 "nbformat": 4,
 "nbformat_minor": 2
}
