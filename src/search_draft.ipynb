{
 "cells": [
  {
   "cell_type": "code",
   "execution_count": 1,
   "metadata": {},
   "outputs": [],
   "source": [
    "from sklearn.model_selection import train_test_split\n",
    "from sklearn.model_selection import RandomizedSearchCV\n",
    "from lr.models.transformers.processor import clean_df\n",
    "from lr.models.transformers.BertWrapper import BertWrapper\n",
    "import matplotlib.pyplot as plt\n",
    "import numpy as np\n",
    "import pandas as pd\n",
    "from time import time\n",
    "import shutil\n",
    "import os\n",
    "import argparse"
   ]
  },
  {
   "cell_type": "code",
   "execution_count": 2,
   "metadata": {},
   "outputs": [],
   "source": [
    "# Variables\n",
    "folder = \"snli\"\n",
    "# folder = \"toy\"\n",
    "\n",
    "n_cores = 8\n",
    "rho = 0\n",
    "random_state = None\n",
    "dgp_seed = None\n",
    "n_inter = 50\n",
    "\n",
    "output_dir_name = \"bert_base_snli_search\"\n",
    "\n",
    "basic_hyperparams = {\"local_rank\": -1,\n",
    "             \"max_seq_length\": 10,\n",
    "             \"overwrite_cache\": False,\n",
    "             \"num_train_epochs\": 1.0,\n",
    "             \"per_gpu_train_batch_size\": 32,\n",
    "             \"per_gpu_eval_batch_size\": 50,\n",
    "             \"gradient_accumulation_steps\": 1,\n",
    "             \"learning_rate\": 5e-5,\n",
    "             \"weight_decay\": 0.0,\n",
    "             \"adam_epsilon\": 1e-8,\n",
    "             \"max_grad_norm\": 1.0,\n",
    "             \"max_steps\": -1,\n",
    "             \"warmup_steps\": 0,\n",
    "             \"save_steps\": 8580,\n",
    "             \"no_cuda\": False,\n",
    "             \"n_gpu\": 1,\n",
    "             \"data_set_name\": folder,\n",
    "             \"transformation_name\": None,\n",
    "             \"number_of_simulations\": 1000,\n",
    "             \"rho\": rho,\n",
    "             \"model_name_or_path\": \"bert\",\n",
    "             \"output_dir\": output_dir_name,\n",
    "             \"random_state\": random_state,\n",
    "             \"dgp_seed\": dgp_seed,\n",
    "             \"fp16\": False,\n",
    "             \"fp16_opt_level\": \"01\",\n",
    "             \"device\": \"cpu\",\n",
    "             \"verbose\": True,\n",
    "             \"model_type\": \"bert\",\n",
    "             \"pad_on_left\": False,\n",
    "             \"pad_token\": 0,\n",
    "             \"n_cores\": n_cores,\n",
    "             'eval_sample_size': 200,\n",
    "             \"pad_token_segment_id\": 0,\n",
    "             \"mask_padding_with_zero\": True,\n",
    "             \"base_path\": \"data/{}/cached_\".format(folder),\n",
    "             \"pretrained_weights\": 'bert-base-uncased'}"
   ]
  },
  {
   "cell_type": "code",
   "execution_count": 3,
   "metadata": {},
   "outputs": [
    {
     "name": "stdout",
     "output_type": "stream",
     "text": [
      "clean train\n",
      "clean dev\n",
      "train.shape (640, 4)\n",
      "dev.shape (160, 4)\n"
     ]
    }
   ],
   "source": [
    "train = pd.read_csv(\"data/{}/train.csv\".format(folder))\n",
    "train = train.sample(10000)\n",
    "\n",
    "\n",
    "train, dev_o = train_test_split(train, test_size=0.2)\n",
    "print(\"clean train\")\n",
    "train = clean_df(train, n_cores=n_cores)\n",
    "\n",
    "print(\"clean dev\")\n",
    "dev_o = clean_df(dev_o, n_cores=n_cores)\n",
    "\n",
    "\n",
    "\n",
    "\n",
    "print(\"train.shape\", train.shape)\n",
    "print(\"dev.shape\", dev_o.shape)"
   ]
  },
  {
   "cell_type": "code",
   "execution_count": 4,
   "metadata": {},
   "outputs": [],
   "source": [
    "param_grid = {\"max_seq_length\": range(50, 210,10),\n",
    "             \"num_train_epochs\": np.linspace(1,2.5, 10),       \n",
    "             \"learning_rate\": np.linspace(0.00005,1, 100),\n",
    "             \"weight_decay\": np.linspace(0,0.1, 100),\n",
    "             \"adam_epsilon\": np.linspace(1e-8, 0.1, 100),\n",
    "             \"max_grad_norm\": np.linspace(0.00005,1, 100)}"
   ]
  },
  {
   "cell_type": "code",
   "execution_count": 6,
   "metadata": {},
   "outputs": [
    {
     "name": "stderr",
     "output_type": "stream",
     "text": [
      "Epoch:   0%|          | 0/1 [00:00<?, ?it/s]\n",
      "Iteration:   0%|          | 0/14 [00:00<?, ?it/s]\u001b[A\n",
      "Iteration:   7%|▋         | 1/14 [00:03<00:51,  3.98s/it]\u001b[A\n",
      "Iteration:  14%|█▍        | 2/14 [00:07<00:47,  3.96s/it]\u001b[A\n",
      "Iteration:  21%|██▏       | 3/14 [00:11<00:43,  3.95s/it]\u001b[A\n",
      "Iteration:  29%|██▊       | 4/14 [00:15<00:39,  3.95s/it]\u001b[A\n",
      "Iteration:  36%|███▌      | 5/14 [00:19<00:35,  3.95s/it]\u001b[A\n",
      "Iteration:  43%|████▎     | 6/14 [00:23<00:31,  3.94s/it]\u001b[A\n",
      "Iteration:  50%|█████     | 7/14 [00:27<00:27,  3.95s/it]\u001b[A\n",
      "Iteration:  57%|█████▋    | 8/14 [00:31<00:23,  3.95s/it]\u001b[A\n",
      "Iteration:  64%|██████▍   | 9/14 [00:35<00:19,  3.95s/it]\u001b[A\n",
      "Iteration:  71%|███████▏  | 10/14 [00:39<00:15,  3.94s/it]\u001b[A\n",
      "Iteration:  79%|███████▊  | 11/14 [00:43<00:11,  3.95s/it]\u001b[A\n",
      "Iteration:  86%|████████▌ | 12/14 [00:47<00:07,  3.95s/it]\u001b[A\n",
      "Iteration:  93%|█████████▎| 13/14 [00:51<00:03,  3.95s/it]\u001b[A\n",
      "Iteration: 100%|██████████| 14/14 [00:54<00:00,  3.89s/it]\u001b[A\n",
      "Epoch: 100%|██████████| 1/1 [00:54<00:00, 54.43s/it]\n",
      "Evaluating:   0%|          | 0/4 [00:00<?, ?it/s]"
     ]
    },
    {
     "name": "stdout",
     "output_type": "stream",
     "text": [
      "eval path =  data/toy/cached_dev_60\n"
     ]
    },
    {
     "name": "stderr",
     "output_type": "stream",
     "text": [
      "Evaluating: 100%|██████████| 4/4 [00:05<00:00,  1.33s/it]\n",
      "Epoch:   0%|          | 0/2 [00:00<?, ?it/s]\n",
      "Iteration:   0%|          | 0/14 [00:00<?, ?it/s]\u001b[A\n",
      "Iteration:   7%|▋         | 1/14 [00:06<01:28,  6.82s/it]\u001b[A\n",
      "Iteration:  14%|█▍        | 2/14 [00:13<01:22,  6.84s/it]\u001b[A\n",
      "Iteration:  21%|██▏       | 3/14 [00:20<01:15,  6.85s/it]\u001b[A\n",
      "Iteration:  29%|██▊       | 4/14 [00:27<01:08,  6.85s/it]\u001b[A\n",
      "Iteration:  36%|███▌      | 5/14 [00:34<01:01,  6.85s/it]\u001b[A\n",
      "Iteration:  43%|████▎     | 6/14 [00:41<00:54,  6.86s/it]\u001b[A\n",
      "Iteration:  50%|█████     | 7/14 [00:48<00:48,  6.87s/it]\u001b[A\n",
      "Iteration:  57%|█████▋    | 8/14 [00:54<00:41,  6.87s/it]\u001b[A\n",
      "Iteration:  64%|██████▍   | 9/14 [01:01<00:34,  6.87s/it]\u001b[A\n",
      "Iteration:  71%|███████▏  | 10/14 [01:08<00:27,  6.87s/it]\u001b[A\n",
      "Iteration:  79%|███████▊  | 11/14 [01:15<00:20,  6.88s/it]\u001b[A\n",
      "Iteration:  86%|████████▌ | 12/14 [01:22<00:13,  6.88s/it]\u001b[A\n",
      "Iteration:  93%|█████████▎| 13/14 [01:29<00:06,  6.88s/it]\u001b[A\n",
      "Iteration: 100%|██████████| 14/14 [01:34<00:00,  6.76s/it]\u001b[A\n",
      "Epoch:  50%|█████     | 1/2 [01:34<01:34, 94.58s/it]\n",
      "Iteration:   0%|          | 0/14 [00:00<?, ?it/s]\u001b[A\n",
      "Iteration:   7%|▋         | 1/14 [00:06<01:29,  6.87s/it]\u001b[A\n",
      "Iteration:  14%|█▍        | 2/14 [00:13<01:22,  6.88s/it]\u001b[A\n",
      "Iteration:  21%|██▏       | 3/14 [00:20<01:15,  6.89s/it]\u001b[A\n",
      "Iteration:  29%|██▊       | 4/14 [00:27<01:09,  6.91s/it]\u001b[A\n",
      "Iteration:  36%|███▌      | 5/14 [00:34<01:02,  6.90s/it]\u001b[A\n",
      "Iteration:  43%|████▎     | 6/14 [00:41<00:55,  6.90s/it]\u001b[A\n",
      "Iteration:  50%|█████     | 7/14 [00:48<00:48,  6.89s/it]\u001b[A\n",
      "Iteration:  57%|█████▋    | 8/14 [00:55<00:41,  6.89s/it]\u001b[A\n",
      "Iteration:  64%|██████▍   | 9/14 [01:02<00:34,  6.89s/it]\u001b[A\n",
      "Iteration:  71%|███████▏  | 10/14 [01:08<00:27,  6.89s/it]\u001b[A\n",
      "Iteration:  79%|███████▊  | 11/14 [01:15<00:20,  6.90s/it]\u001b[A\n",
      "Iteration:  86%|████████▌ | 12/14 [01:22<00:13,  6.90s/it]\u001b[A\n",
      "Iteration:  93%|█████████▎| 13/14 [01:29<00:06,  6.89s/it]\u001b[A\n",
      "Iteration: 100%|██████████| 14/14 [01:34<00:00,  6.78s/it]\u001b[A\n",
      "Epoch: 100%|██████████| 2/2 [03:09<00:00, 94.72s/it]\n",
      "Evaluating:   0%|          | 0/4 [00:00<?, ?it/s]"
     ]
    },
    {
     "name": "stdout",
     "output_type": "stream",
     "text": [
      "eval path =  data/toy/cached_dev_110\n"
     ]
    },
    {
     "name": "stderr",
     "output_type": "stream",
     "text": [
      "Evaluating: 100%|██████████| 4/4 [00:09<00:00,  2.49s/it]\n"
     ]
    }
   ],
   "source": [
    "all_hypers = []\n",
    "all_times = []\n",
    "all_accs = []\n",
    "\n",
    "for i in range(n_inter):\n",
    "    hyperparams = basic_hyperparams.copy()\n",
    "    for param in param_grid:\n",
    "        hyperparams[param] =  np.random.choice(param_grid[param])\n",
    "    if hyperparams[\"random_state\"] is None:\n",
    "        hyperparams[\"random_state\"] = np.random.choice(range(1, 2333233))\n",
    "    model = BertWrapper(hyperparams)\n",
    "    init = time()\n",
    "    model.fit(train)\n",
    "    train_time = time() - init\n",
    "    result = model.get_results(dev_o, mode=\"dev\")\n",
    "    acc = result.indicator.mean()\n",
    "    all_hypers.append(hyperparams)\n",
    "    all_times.append(train_time)\n",
    "    all_accs.append(acc)\n",
    "    del hyperparams, model"
   ]
  },
  {
   "cell_type": "code",
   "execution_count": 8,
   "metadata": {},
   "outputs": [],
   "source": [
    "# Save best params Define the majority model\n",
    "i = np.argmax(all_accs)\n",
    "best_assigment = all_hypers[i]\n",
    "t_time = all_times[i]\n",
    "best_score = all_accs[i]\n",
    "\n",
    "\n",
    "\n",
    "with open(output_dir_name + \"/params.txt\", \"w\") as file:\n",
    "    for key in best_assigment:\n",
    "        file.write(\"{} = {}\\n\".format(key, best_assigment[key]))\n",
    "    file.write(\"\\nbest_acc = {:.1%}\".format(best_score))\n",
    "    file.write(\"\\ntime = {:.1f} s\".format(t_time))\n",
    "    file.write(\"\\nnumber of search trials = {}\".format(n_inter))"
   ]
  },
  {
   "cell_type": "code",
   "execution_count": null,
   "metadata": {},
   "outputs": [],
   "source": []
  }
 ],
 "metadata": {
  "kernelspec": {
   "display_name": "Python 3",
   "language": "python",
   "name": "python3"
  },
  "language_info": {
   "codemirror_mode": {
    "name": "ipython",
    "version": 3
   },
   "file_extension": ".py",
   "mimetype": "text/x-python",
   "name": "python",
   "nbconvert_exporter": "python",
   "pygments_lexer": "ipython3",
   "version": "3.6.8"
  }
 },
 "nbformat": 4,
 "nbformat_minor": 4
}
