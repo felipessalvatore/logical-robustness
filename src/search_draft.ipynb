{
 "cells": [
  {
   "cell_type": "code",
   "execution_count": 1,
   "metadata": {},
   "outputs": [
    {
     "name": "stderr",
     "output_type": "stream",
     "text": [
      "/home/felsal/.local/lib/python3.6/site-packages/tensorflow/python/framework/dtypes.py:516: FutureWarning: Passing (type, 1) or '1type' as a synonym of type is deprecated; in a future version of numpy, it will be understood as (type, (1,)) / '(1,)type'.\n",
      "  _np_qint8 = np.dtype([(\"qint8\", np.int8, 1)])\n",
      "/home/felsal/.local/lib/python3.6/site-packages/tensorflow/python/framework/dtypes.py:517: FutureWarning: Passing (type, 1) or '1type' as a synonym of type is deprecated; in a future version of numpy, it will be understood as (type, (1,)) / '(1,)type'.\n",
      "  _np_quint8 = np.dtype([(\"quint8\", np.uint8, 1)])\n",
      "/home/felsal/.local/lib/python3.6/site-packages/tensorflow/python/framework/dtypes.py:518: FutureWarning: Passing (type, 1) or '1type' as a synonym of type is deprecated; in a future version of numpy, it will be understood as (type, (1,)) / '(1,)type'.\n",
      "  _np_qint16 = np.dtype([(\"qint16\", np.int16, 1)])\n",
      "/home/felsal/.local/lib/python3.6/site-packages/tensorflow/python/framework/dtypes.py:519: FutureWarning: Passing (type, 1) or '1type' as a synonym of type is deprecated; in a future version of numpy, it will be understood as (type, (1,)) / '(1,)type'.\n",
      "  _np_quint16 = np.dtype([(\"quint16\", np.uint16, 1)])\n",
      "/home/felsal/.local/lib/python3.6/site-packages/tensorflow/python/framework/dtypes.py:520: FutureWarning: Passing (type, 1) or '1type' as a synonym of type is deprecated; in a future version of numpy, it will be understood as (type, (1,)) / '(1,)type'.\n",
      "  _np_qint32 = np.dtype([(\"qint32\", np.int32, 1)])\n",
      "/home/felsal/.local/lib/python3.6/site-packages/tensorflow/python/framework/dtypes.py:525: FutureWarning: Passing (type, 1) or '1type' as a synonym of type is deprecated; in a future version of numpy, it will be understood as (type, (1,)) / '(1,)type'.\n",
      "  np_resource = np.dtype([(\"resource\", np.ubyte, 1)])\n",
      "/home/felsal/.local/lib/python3.6/site-packages/tensorboard/compat/tensorflow_stub/dtypes.py:541: FutureWarning: Passing (type, 1) or '1type' as a synonym of type is deprecated; in a future version of numpy, it will be understood as (type, (1,)) / '(1,)type'.\n",
      "  _np_qint8 = np.dtype([(\"qint8\", np.int8, 1)])\n",
      "/home/felsal/.local/lib/python3.6/site-packages/tensorboard/compat/tensorflow_stub/dtypes.py:542: FutureWarning: Passing (type, 1) or '1type' as a synonym of type is deprecated; in a future version of numpy, it will be understood as (type, (1,)) / '(1,)type'.\n",
      "  _np_quint8 = np.dtype([(\"quint8\", np.uint8, 1)])\n",
      "/home/felsal/.local/lib/python3.6/site-packages/tensorboard/compat/tensorflow_stub/dtypes.py:543: FutureWarning: Passing (type, 1) or '1type' as a synonym of type is deprecated; in a future version of numpy, it will be understood as (type, (1,)) / '(1,)type'.\n",
      "  _np_qint16 = np.dtype([(\"qint16\", np.int16, 1)])\n",
      "/home/felsal/.local/lib/python3.6/site-packages/tensorboard/compat/tensorflow_stub/dtypes.py:544: FutureWarning: Passing (type, 1) or '1type' as a synonym of type is deprecated; in a future version of numpy, it will be understood as (type, (1,)) / '(1,)type'.\n",
      "  _np_quint16 = np.dtype([(\"quint16\", np.uint16, 1)])\n",
      "/home/felsal/.local/lib/python3.6/site-packages/tensorboard/compat/tensorflow_stub/dtypes.py:545: FutureWarning: Passing (type, 1) or '1type' as a synonym of type is deprecated; in a future version of numpy, it will be understood as (type, (1,)) / '(1,)type'.\n",
      "  _np_qint32 = np.dtype([(\"qint32\", np.int32, 1)])\n",
      "/home/felsal/.local/lib/python3.6/site-packages/tensorboard/compat/tensorflow_stub/dtypes.py:550: FutureWarning: Passing (type, 1) or '1type' as a synonym of type is deprecated; in a future version of numpy, it will be understood as (type, (1,)) / '(1,)type'.\n",
      "  np_resource = np.dtype([(\"resource\", np.ubyte, 1)])\n"
     ]
    }
   ],
   "source": [
    "from sklearn.model_selection import train_test_split\n",
    "from sklearn.model_selection import RandomizedSearchCV\n",
    "from lr.models.transformers.processor import clean_df\n",
    "from lr.models.transformers.BertWrapper import BertWrapper\n",
    "import matplotlib.pyplot as plt\n",
    "import numpy as np\n",
    "import pandas as pd\n",
    "from time import time\n",
    "import shutil\n",
    "import os\n",
    "import argparse"
   ]
  },
  {
   "cell_type": "code",
   "execution_count": null,
   "metadata": {},
   "outputs": [],
   "source": []
  },
  {
   "cell_type": "code",
   "execution_count": 42,
   "metadata": {},
   "outputs": [],
   "source": [
    "basic_hyperparams = {\"local_rank\": -1,\n",
    "             \"max_seq_length\": 10,\n",
    "             \"overwrite_cache\": False,\n",
    "             \"num_train_epochs\": 1.0,\n",
    "             \"per_gpu_train_batch_size\": 32,\n",
    "             \"per_gpu_eval_batch_size\": 50,\n",
    "             \"gradient_accumulation_steps\": 1,\n",
    "             \"learning_rate\": 5e-5,\n",
    "             \"weight_decay\": 0.0,\n",
    "             \"adam_epsilon\": 1e-8,\n",
    "             \"max_grad_norm\": 1.0,\n",
    "             \"max_steps\": -1,\n",
    "             \"warmup_steps\": 0,\n",
    "             \"save_steps\": 8580,\n",
    "             \"no_cuda\": False,\n",
    "             \"n_gpu\": 1,\n",
    "             \"data_set_name\": folder,\n",
    "             \"transformation_name\": None,\n",
    "             \"number_of_simulations\": 1000,\n",
    "             \"rho\": rho,\n",
    "             \"model_name_or_path\": \"bert\",\n",
    "             \"output_dir\": output_dir_name,\n",
    "             \"random_state\": random_state,\n",
    "             \"dgp_seed\": dgp_seed,\n",
    "             \"fp16\": False,\n",
    "             \"fp16_opt_level\": \"01\",\n",
    "             \"device\": \"cpu\",\n",
    "             \"verbose\": True,\n",
    "             \"model_type\": \"bert\",\n",
    "             \"pad_on_left\": False,\n",
    "             \"pad_token\": 0,\n",
    "             \"n_cores\": n_cores,\n",
    "             'eval_sample_size': 200,\n",
    "             \"pad_token_segment_id\": 0,\n",
    "             \"mask_padding_with_zero\": True,\n",
    "             \"base_path\": \"data/{}/cached_\".format(folder),\n",
    "             \"pretrained_weights\": 'bert-base-uncased'}"
   ]
  },
  {
   "cell_type": "code",
   "execution_count": 44,
   "metadata": {},
   "outputs": [
    {
     "name": "stdout",
     "output_type": "stream",
     "text": [
      "clean train\n",
      "clean dev\n"
     ]
    }
   ],
   "source": [
    "# Variables\n",
    "n_cores = 1\n",
    "rho = 0\n",
    "random_state = 123\n",
    "dgp_seed = None\n",
    "n_inter = 3\n",
    "\n",
    "folder = \"toy\"\n",
    "output_dir_name = \"bert_base_snli_search\"\n",
    "train = pd.read_csv(\"data/{}/train.csv\".format(folder))\n",
    "train, dev_o = train_test_split(train, test_size=0.2)\n",
    "\n",
    "print(\"clean train\")\n",
    "train = clean_df(train, n_cores=n_cores)\n",
    "\n",
    "print(\"clean dev\")\n",
    "dev_o = clean_df(dev_o, n_cores=n_cores)\n",
    "\n",
    "param_grid = {\"max_seq_length\": range(50, 210,10),\n",
    "             \"num_train_epochs\": np.linspace(1,2.5, 10),       \n",
    "             \"learning_rate\": np.linspace(0.00005,1, 100),\n",
    "             \"weight_decay\": np.linspace(0,0.1, 100),\n",
    "             \"adam_epsilon\": np.linspace(1e-8, 0.1, 100),\n",
    "             \"max_grad_norm\": np.linspace(0.00005,1, 100)}\n",
    "\n",
    "all_hypers = []\n",
    "all_times = []\n",
    "all_accs = []\n",
    "\n",
    "for i in range(n_inter):\n",
    "    hyperparams = basic_hyperparams.copy()\n",
    "    for param in param_grid:\n",
    "        hyperparams[param] =  np.random.choice(param_grid[param])\n",
    "    model = BertWrapper(hyperparams)\n",
    "    init = time.time()\n",
    "    model.fit(train)\n",
    "    train_time = init - time.time()\n",
    "    result = model.get_results(dev_o, mode=\"dev\")\n",
    "    acc = result.indicator.mean()\n",
    "    all_hypers.appens(hyperparams)\n",
    "    all_times.appens(train_time)\n",
    "    all_accs.appens(acc)\n",
    "    \n",
    "    \n",
    "    \n",
    "\n",
    "\n",
    "\n",
    "\n"
   ]
  },
  {
   "cell_type": "code",
   "execution_count": 40,
   "metadata": {},
   "outputs": [
    {
     "data": {
      "text/plain": [
       "5156"
      ]
     },
     "execution_count": 40,
     "metadata": {},
     "output_type": "execute_result"
    }
   ],
   "source": []
  },
  {
   "cell_type": "code",
   "execution_count": null,
   "metadata": {},
   "outputs": [],
   "source": []
  }
 ],
 "metadata": {
  "kernelspec": {
   "display_name": "Python 3",
   "language": "python",
   "name": "python3"
  },
  "language_info": {
   "codemirror_mode": {
    "name": "ipython",
    "version": 3
   },
   "file_extension": ".py",
   "mimetype": "text/x-python",
   "name": "python",
   "nbconvert_exporter": "python",
   "pygments_lexer": "ipython3",
   "version": "3.6.9"
  }
 },
 "nbformat": 4,
 "nbformat_minor": 2
}
