{
 "cells": [
  {
   "cell_type": "code",
   "execution_count": 1,
   "metadata": {},
   "outputs": [],
   "source": [
    "from lr.models.transformers.processor import *\n",
    "from lr.models.transformers.util import evaluate, train\n",
    "\n",
    "import logging\n",
    "import os\n",
    "import shutil\n",
    "import torch\n",
    "import numpy as np\n",
    "import pandas as pd\n",
    "from transformers import BertTokenizer\n",
    "from transformers import BertForSequenceClassification\n",
    "from time import time\n",
    "from sklearn.model_selection import train_test_split"
   ]
  },
  {
   "cell_type": "markdown",
   "metadata": {},
   "source": [
    "### Params"
   ]
  },
  {
   "cell_type": "code",
   "execution_count": 2,
   "metadata": {},
   "outputs": [],
   "source": [
    "folder = \"snli\"\n",
    "\n",
    "hyperparams = {\"local_rank\": -1,\n",
    "               \"max_seq_length\": 200,\n",
    "               \"overwrite_cache\": False,\n",
    "               \"num_train_epochs\":1.0,\n",
    "               \"per_gpu_train_batch_size\":32,\n",
    "               \"per_gpu_eval_batch_size\":32,\n",
    "               \"gradient_accumulation_steps\": 1,\n",
    "               \"learning_rate\":5e-5,\n",
    "               \"weight_decay\":0.0,\n",
    "               \"adam_epsilon\": 1e-8,\n",
    "               \"max_grad_norm\": 1.0,\n",
    "               \"max_steps\": 300,\n",
    "               \"warmup_steps\": 0,\n",
    "               \"save_steps\": 50,\n",
    "               \"no_cuda\":False,\n",
    "               \"n_gpu\":1,\n",
    "               \"model_name_or_path\":\"bert\",\n",
    "               \"output_dir\":\"bert\",\n",
    "               \"random_state\": 42,\n",
    "               \"fp16\":False,\n",
    "               \"fp16_opt_level\":\"01\",\n",
    "               \"device\":\"cpu\",\n",
    "               \"verbose\":True,\n",
    "               \"model_type\": \"bert\",\n",
    "               \"pad_on_left\":False,\n",
    "               \"pad_token\":0,\n",
    "               \"pad_token_segment_id\":0,\n",
    "               \"mask_padding_with_zero\":True,\n",
    "               \"base_path\": \"data/{}/cached_\".format(folder)} "
   ]
  },
  {
   "cell_type": "markdown",
   "metadata": {},
   "source": [
    "# loading tokenizers"
   ]
  },
  {
   "cell_type": "code",
   "execution_count": 3,
   "metadata": {},
   "outputs": [],
   "source": [
    "set_seed(hyperparams[\"random_state\"], hyperparams[\"n_gpu\"])\n",
    "\n",
    "pretrained_weights = 'bert-base-uncased'\n",
    "tokenizer = BertTokenizer.from_pretrained(pretrained_weights)\n",
    "hyperparams[\"tokenizer\"] = tokenizer"
   ]
  },
  {
   "cell_type": "markdown",
   "metadata": {},
   "source": [
    "## Set results dict"
   ]
  },
  {
   "cell_type": "code",
   "execution_count": 4,
   "metadata": {},
   "outputs": [],
   "source": [
    "meta_results = {\"moment\":[],\n",
    "                \"type\":[],\n",
    "                \"loss\":[],\n",
    "                \"acc\":[],\n",
    "                \"time\":[]}"
   ]
  },
  {
   "cell_type": "markdown",
   "metadata": {},
   "source": [
    "# df"
   ]
  },
  {
   "cell_type": "code",
   "execution_count": 5,
   "metadata": {},
   "outputs": [],
   "source": [
    "train_path = \"data/{}/train.csv\".format(folder)\n",
    "set_seed(hyperparams[\"random_state\"], hyperparams[\"n_gpu\"])\n",
    "\n",
    "eval_sample_size = 1000\n",
    "\n",
    "\n",
    "df = pd.read_csv(train_path)\n",
    "\n",
    "\n",
    "df_train, df_dev = train_test_split(df, test_size=0.2)\n",
    "df_train_to_eval = df_train.sample(n=eval_sample_size, random_state=hyperparams[\"random_state\"])\n",
    "df_dev_to_eval = df_dev.sample(n=eval_sample_size,random_state=hyperparams[\"random_state\"])\n",
    "\n",
    "assert np.all(df_train.index[:3] == [305830, 486798, 386780])"
   ]
  },
  {
   "cell_type": "markdown",
   "metadata": {},
   "source": [
    "## Creating features"
   ]
  },
  {
   "cell_type": "code",
   "execution_count": 6,
   "metadata": {},
   "outputs": [
    {
     "name": "stdout",
     "output_type": "stream",
     "text": [
      "total time = 2.804\n"
     ]
    }
   ],
   "source": [
    "processor = NLIProcessor(hyperparams)\n",
    "init = time()\n",
    "train_cached_features_file = processor.df2features(df=df_train,\n",
    "                                                   n_cores=8,\n",
    "                                                   mode=\"train\")\n",
    "\n",
    "train_to_eval_cached_features_file = processor.df2features(df=df_train_to_eval,\n",
    "                                                           n_cores=8,\n",
    "                                                           mode=\"train_to_eval\")\n",
    "\n",
    "dev_cached_features_file = processor.df2features(df=df_dev,\n",
    "                                                   n_cores=8,\n",
    "                                                   mode=\"dev\")\n",
    "\n",
    "dev_to_eval_cached_features_file = processor.df2features(df=df_dev_to_eval,\n",
    "                                                         n_cores=8,\n",
    "                                                         mode=\"dev_to_eval\")\n",
    "\n",
    "p_time = time() - init\n",
    "print(\"total time = {:.3f}\".format(p_time / 60))"
   ]
  },
  {
   "cell_type": "markdown",
   "metadata": {},
   "source": [
    "## Loading Datasets"
   ]
  },
  {
   "cell_type": "code",
   "execution_count": 7,
   "metadata": {},
   "outputs": [
    {
     "name": "stdout",
     "output_type": "stream",
     "text": [
      "total time = 0.271\n"
     ]
    }
   ],
   "source": [
    "init = time()\n",
    "train_dataset = features2dataset(train_cached_features_file)\n",
    "train_dataset_to_eval = features2dataset(train_to_eval_cached_features_file)\n",
    "dev_dataset = features2dataset(dev_cached_features_file)\n",
    "dev_dataset_to_eval = features2dataset(dev_to_eval_cached_features_file)\n",
    "p_time = time() - init\n",
    "print(\"total time = {:.3f}\".format(p_time / 60))"
   ]
  },
  {
   "cell_type": "code",
   "execution_count": 8,
   "metadata": {},
   "outputs": [
    {
     "name": "stdout",
     "output_type": "stream",
     "text": [
      "439494\n",
      "1000\n",
      "109867\n",
      "1000\n"
     ]
    }
   ],
   "source": [
    "print(len(train_dataset))\n",
    "print(len(train_dataset_to_eval))\n",
    "print(len(dev_dataset))\n",
    "print(len(dev_dataset_to_eval))"
   ]
  },
  {
   "cell_type": "markdown",
   "metadata": {},
   "source": [
    "## Loading Model"
   ]
  },
  {
   "cell_type": "code",
   "execution_count": 9,
   "metadata": {},
   "outputs": [],
   "source": [
    "model = BertForSequenceClassification.from_pretrained(pretrained_weights, num_labels = 3)"
   ]
  },
  {
   "cell_type": "markdown",
   "metadata": {},
   "source": [
    "### Eval before training\n",
    "\n",
    "#### Train sample"
   ]
  },
  {
   "cell_type": "code",
   "execution_count": 10,
   "metadata": {},
   "outputs": [
    {
     "name": "stderr",
     "output_type": "stream",
     "text": [
      "Evaluating: 100%|██████████| 32/32 [01:57<00:00,  3.67s/it]\n"
     ]
    }
   ],
   "source": [
    "train_loss, train_results = evaluate(train_dataset_to_eval, hyperparams, model)\n",
    "train_acc = (train_results.prediction==train_results.label).mean()\n",
    "\n",
    "lmap = processor.get_label_map()\n",
    "filtered = filter_df_by_label(df_train_to_eval.dropna()).reset_index(drop=True)\n",
    "assert np.all(filtered.label.map(lambda x: lmap[x]) == train_results.label)\n",
    "\n",
    "\n",
    "\n",
    "meta_results[\"moment\"].append(\"before\")\n",
    "meta_results[\"type\"].append(\"train\")\n",
    "meta_results[\"loss\"].append(train_loss)\n",
    "meta_results[\"acc\"].append(train_acc)\n",
    "meta_results[\"time\"].append(np.nan)"
   ]
  },
  {
   "cell_type": "markdown",
   "metadata": {},
   "source": [
    "#### Dev sample"
   ]
  },
  {
   "cell_type": "code",
   "execution_count": 11,
   "metadata": {},
   "outputs": [
    {
     "name": "stderr",
     "output_type": "stream",
     "text": [
      "Evaluating: 100%|██████████| 32/32 [01:57<00:00,  3.67s/it]\n"
     ]
    }
   ],
   "source": [
    "dev_loss, results = evaluate(dev_dataset_to_eval, hyperparams, model)\n",
    "dev_acc = (results.prediction==results.label).mean()\n",
    "\n",
    "\n",
    "filtered = filter_df_by_label(df_dev_to_eval.dropna()).reset_index(drop=True)\n",
    "assert np.all(filtered.label.map(lambda x: lmap[x]) == results.label)\n",
    "\n",
    "\n",
    "\n",
    "meta_results[\"moment\"].append(\"before\")\n",
    "meta_results[\"type\"].append(\"dev\")\n",
    "meta_results[\"loss\"].append(dev_loss)\n",
    "meta_results[\"acc\"].append(dev_acc)\n",
    "meta_results[\"time\"].append(np.nan)"
   ]
  },
  {
   "cell_type": "markdown",
   "metadata": {},
   "source": [
    "# Train"
   ]
  },
  {
   "cell_type": "code",
   "execution_count": 12,
   "metadata": {},
   "outputs": [
    {
     "name": "stderr",
     "output_type": "stream",
     "text": [
      "Epoch:   0%|          | 0/1 [00:00<?, ?it/s]\n",
      "Iteration:   0%|          | 0/13735 [00:00<?, ?it/s]\u001b[A\n",
      "Iteration:   0%|          | 1/13735 [00:12<48:02:45, 12.59s/it]\u001b[A\n",
      "Iteration:   0%|          | 2/13735 [00:25<47:58:13, 12.58s/it]\u001b[A\n",
      "Iteration:   0%|          | 3/13735 [00:37<47:50:03, 12.54s/it]\u001b[A\n",
      "Iteration:   0%|          | 4/13735 [00:49<47:38:54, 12.49s/it]\u001b[A\n",
      "Iteration:   0%|          | 5/13735 [01:02<47:27:44, 12.44s/it]\u001b[A\n",
      "Iteration:   0%|          | 6/13735 [01:14<47:20:12, 12.41s/it]\u001b[A\n",
      "Iteration:   0%|          | 7/13735 [01:26<47:13:53, 12.39s/it]\u001b[A\n",
      "Iteration:   0%|          | 8/13735 [01:39<47:15:21, 12.39s/it]\u001b[A\n",
      "Iteration:   0%|          | 9/13735 [01:51<47:10:01, 12.37s/it]\u001b[A\n",
      "Iteration:   0%|          | 10/13735 [02:04<47:14:09, 12.39s/it]\u001b[A\n",
      "Iteration:   0%|          | 11/13735 [02:16<47:14:45, 12.39s/it]\u001b[A\n",
      "Iteration:   0%|          | 12/13735 [02:28<47:10:14, 12.37s/it]\u001b[A\n",
      "Iteration:   0%|          | 13/13735 [02:41<47:08:12, 12.37s/it]\u001b[A\n",
      "Iteration:   0%|          | 14/13735 [02:53<47:06:19, 12.36s/it]\u001b[A\n",
      "Iteration:   0%|          | 15/13735 [03:05<47:02:59, 12.35s/it]\u001b[A\n",
      "Iteration:   0%|          | 16/13735 [03:18<47:02:44, 12.35s/it]\u001b[A\n",
      "Iteration:   0%|          | 17/13735 [03:30<47:03:34, 12.35s/it]\u001b[A\n",
      "Iteration:   0%|          | 18/13735 [03:42<47:06:30, 12.36s/it]\u001b[A\n",
      "Iteration:   0%|          | 19/13735 [03:55<47:03:36, 12.35s/it]\u001b[A\n",
      "Iteration:   0%|          | 20/13735 [04:07<47:04:25, 12.36s/it]\u001b[A\n",
      "Iteration:   0%|          | 21/13735 [04:20<47:05:33, 12.36s/it]\u001b[A\n",
      "Iteration:   0%|          | 22/13735 [04:32<47:05:25, 12.36s/it]\u001b[A\n",
      "Iteration:   0%|          | 23/13735 [04:44<47:06:55, 12.37s/it]\u001b[A\n",
      "Iteration:   0%|          | 24/13735 [04:57<47:11:47, 12.39s/it]\u001b[A\n",
      "Iteration:   0%|          | 25/13735 [05:09<47:06:19, 12.37s/it]\u001b[A\n",
      "Iteration:   0%|          | 26/13735 [05:21<47:05:09, 12.36s/it]\u001b[A\n",
      "Iteration:   0%|          | 27/13735 [05:34<47:02:21, 12.35s/it]\u001b[A\n",
      "Iteration:   0%|          | 28/13735 [05:46<47:02:12, 12.35s/it]\u001b[A\n",
      "Iteration:   0%|          | 29/13735 [05:58<47:02:39, 12.36s/it]\u001b[A\n",
      "Iteration:   0%|          | 30/13735 [06:11<47:00:16, 12.35s/it]\u001b[A\n",
      "Iteration:   0%|          | 31/13735 [06:23<47:01:24, 12.35s/it]\u001b[A\n",
      "Iteration:   0%|          | 32/13735 [06:35<47:01:26, 12.35s/it]\u001b[A\n",
      "Iteration:   0%|          | 33/13735 [06:48<47:01:40, 12.36s/it]\u001b[A\n",
      "Iteration:   0%|          | 34/13735 [07:00<47:00:01, 12.35s/it]\u001b[A\n",
      "Iteration:   0%|          | 35/13735 [07:13<47:00:54, 12.35s/it]\u001b[A\n",
      "Iteration:   0%|          | 36/13735 [07:25<46:58:59, 12.35s/it]\u001b[A\n",
      "Iteration:   0%|          | 37/13735 [07:37<46:57:46, 12.34s/it]\u001b[A\n",
      "Iteration:   0%|          | 38/13735 [07:50<46:56:43, 12.34s/it]\u001b[A\n",
      "Iteration:   0%|          | 39/13735 [08:02<46:58:59, 12.35s/it]\u001b[A\n",
      "Iteration:   0%|          | 40/13735 [08:14<46:56:03, 12.34s/it]\u001b[A\n",
      "Iteration:   0%|          | 41/13735 [08:27<46:56:36, 12.34s/it]\u001b[A\n",
      "Iteration:   0%|          | 42/13735 [08:39<47:01:04, 12.36s/it]\u001b[A\n",
      "Iteration:   0%|          | 43/13735 [08:51<47:00:33, 12.36s/it]\u001b[A\n",
      "Iteration:   0%|          | 44/13735 [09:04<46:56:56, 12.35s/it]\u001b[A\n",
      "Iteration:   0%|          | 45/13735 [09:16<46:57:37, 12.35s/it]\u001b[A\n",
      "Iteration:   0%|          | 46/13735 [09:28<47:00:01, 12.36s/it]\u001b[A\n",
      "Iteration:   0%|          | 47/13735 [09:41<46:58:43, 12.36s/it]\u001b[A\n",
      "Iteration:   0%|          | 48/13735 [09:53<46:59:13, 12.36s/it]\u001b[A\n",
      "Iteration:   0%|          | 49/13735 [10:05<47:00:38, 12.37s/it]\u001b[A\n",
      "Iteration:   0%|          | 50/13735 [10:18<47:38:12, 12.53s/it]\u001b[A\n",
      "Iteration:   0%|          | 51/13735 [10:31<47:25:28, 12.48s/it]\u001b[A\n",
      "Iteration:   0%|          | 52/13735 [10:43<47:11:29, 12.42s/it]\u001b[A\n",
      "Iteration:   0%|          | 53/13735 [10:55<47:07:34, 12.40s/it]\u001b[A\n",
      "Iteration:   0%|          | 54/13735 [11:08<47:00:27, 12.37s/it]\u001b[A\n",
      "Iteration:   0%|          | 55/13735 [11:20<46:58:16, 12.36s/it]\u001b[A\n",
      "Iteration:   0%|          | 56/13735 [11:32<46:57:28, 12.36s/it]\u001b[A\n",
      "Iteration:   0%|          | 57/13735 [11:45<46:55:01, 12.35s/it]\u001b[A\n",
      "Iteration:   0%|          | 58/13735 [11:57<47:00:21, 12.37s/it]\u001b[A\n",
      "Iteration:   0%|          | 59/13735 [12:10<47:00:48, 12.38s/it]\u001b[A\n",
      "Iteration:   0%|          | 60/13735 [12:22<46:59:53, 12.37s/it]\u001b[A\n",
      "Iteration:   0%|          | 61/13735 [12:34<46:54:03, 12.35s/it]\u001b[A\n",
      "Iteration:   0%|          | 62/13735 [12:46<46:52:26, 12.34s/it]\u001b[A\n",
      "Iteration:   0%|          | 63/13735 [12:59<46:49:09, 12.33s/it]\u001b[A\n",
      "Iteration:   0%|          | 64/13735 [13:11<46:45:56, 12.31s/it]\u001b[A\n",
      "Iteration:   0%|          | 65/13735 [13:23<46:44:55, 12.31s/it]\u001b[A\n",
      "Iteration:   0%|          | 66/13735 [13:36<46:45:06, 12.31s/it]\u001b[A\n",
      "Iteration:   0%|          | 67/13735 [13:48<46:47:43, 12.33s/it]\u001b[A\n",
      "Iteration:   0%|          | 68/13735 [14:00<46:48:20, 12.33s/it]\u001b[A\n",
      "Iteration:   1%|          | 69/13735 [14:13<46:53:30, 12.35s/it]\u001b[A\n",
      "Iteration:   1%|          | 70/13735 [14:25<46:53:26, 12.35s/it]\u001b[A\n",
      "Iteration:   1%|          | 71/13735 [14:37<46:51:57, 12.35s/it]\u001b[A\n",
      "Iteration:   1%|          | 72/13735 [14:50<46:48:57, 12.34s/it]\u001b[A\n",
      "Iteration:   1%|          | 73/13735 [15:02<46:53:37, 12.36s/it]\u001b[A\n",
      "Iteration:   1%|          | 74/13735 [15:15<46:51:42, 12.35s/it]\u001b[A\n",
      "Iteration:   1%|          | 75/13735 [15:27<46:52:29, 12.35s/it]\u001b[A\n",
      "Iteration:   1%|          | 76/13735 [15:39<46:48:11, 12.34s/it]\u001b[A\n",
      "Iteration:   1%|          | 77/13735 [15:52<46:51:07, 12.35s/it]\u001b[A\n",
      "Iteration:   1%|          | 78/13735 [16:04<46:48:51, 12.34s/it]\u001b[A\n",
      "Iteration:   1%|          | 79/13735 [16:16<46:48:51, 12.34s/it]\u001b[A\n",
      "Iteration:   1%|          | 80/13735 [16:29<46:46:57, 12.33s/it]\u001b[A\n",
      "Iteration:   1%|          | 81/13735 [16:41<46:50:02, 12.35s/it]\u001b[A\n",
      "Iteration:   1%|          | 82/13735 [16:53<46:51:08, 12.35s/it]\u001b[A\n",
      "Iteration:   1%|          | 83/13735 [17:06<46:54:20, 12.37s/it]\u001b[A\n",
      "Iteration:   1%|          | 84/13735 [17:18<46:50:51, 12.35s/it]\u001b[A\n",
      "Iteration:   1%|          | 85/13735 [17:30<46:47:59, 12.34s/it]\u001b[A\n",
      "Iteration:   1%|          | 86/13735 [17:43<46:45:29, 12.33s/it]\u001b[A\n",
      "Iteration:   1%|          | 87/13735 [17:55<46:54:04, 12.37s/it]\u001b[A\n",
      "Iteration:   1%|          | 88/13735 [18:07<46:53:56, 12.37s/it]\u001b[A\n",
      "Iteration:   1%|          | 89/13735 [18:20<46:55:13, 12.38s/it]\u001b[A\n",
      "Iteration:   1%|          | 90/13735 [18:32<46:50:05, 12.36s/it]\u001b[A\n",
      "Iteration:   1%|          | 91/13735 [18:45<46:48:08, 12.35s/it]\u001b[A\n",
      "Iteration:   1%|          | 92/13735 [18:57<46:45:52, 12.34s/it]\u001b[A\n",
      "Iteration:   1%|          | 93/13735 [19:09<46:49:11, 12.36s/it]\u001b[A\n",
      "Iteration:   1%|          | 94/13735 [19:22<46:46:13, 12.34s/it]\u001b[A\n",
      "Iteration:   1%|          | 95/13735 [19:34<46:43:56, 12.33s/it]\u001b[A\n",
      "Iteration:   1%|          | 96/13735 [19:46<46:41:31, 12.32s/it]\u001b[A\n",
      "Iteration:   1%|          | 97/13735 [19:59<46:43:37, 12.33s/it]\u001b[A\n",
      "Iteration:   1%|          | 98/13735 [20:11<46:41:15, 12.32s/it]\u001b[A\n",
      "Iteration:   1%|          | 99/13735 [20:23<46:41:17, 12.33s/it]\u001b[A\n",
      "Iteration:   1%|          | 100/13735 [20:36<47:16:09, 12.48s/it]\u001b[A\n",
      "Iteration:   1%|          | 101/13735 [20:48<47:09:27, 12.45s/it]\u001b[A\n",
      "Iteration:   1%|          | 102/13735 [21:01<47:03:27, 12.43s/it]\u001b[A\n",
      "Iteration:   1%|          | 103/13735 [21:13<47:00:38, 12.41s/it]\u001b[A\n",
      "Iteration:   1%|          | 104/13735 [21:25<46:52:26, 12.38s/it]\u001b[A\n",
      "Iteration:   1%|          | 105/13735 [21:38<46:46:38, 12.36s/it]\u001b[A\n",
      "Iteration:   1%|          | 106/13735 [21:50<46:42:40, 12.34s/it]\u001b[A\n",
      "Iteration:   1%|          | 107/13735 [22:02<46:43:20, 12.34s/it]\u001b[A\n",
      "Iteration:   1%|          | 108/13735 [22:15<46:47:15, 12.36s/it]\u001b[A\n",
      "Iteration:   1%|          | 109/13735 [22:27<46:44:22, 12.35s/it]\u001b[A\n",
      "Iteration:   1%|          | 110/13735 [22:39<46:43:07, 12.34s/it]\u001b[A\n",
      "Iteration:   1%|          | 111/13735 [22:52<46:42:22, 12.34s/it]\u001b[A\n",
      "Iteration:   1%|          | 112/13735 [23:04<46:43:27, 12.35s/it]\u001b[A\n",
      "Iteration:   1%|          | 113/13735 [23:16<46:44:28, 12.35s/it]\u001b[A\n",
      "Iteration:   1%|          | 114/13735 [23:29<46:41:16, 12.34s/it]\u001b[A\n",
      "Iteration:   1%|          | 115/13735 [23:41<46:40:55, 12.34s/it]\u001b[A\n",
      "Iteration:   1%|          | 116/13735 [23:53<46:39:32, 12.33s/it]\u001b[A\n",
      "Iteration:   1%|          | 117/13735 [24:06<46:50:02, 12.38s/it]\u001b[A\n",
      "Iteration:   1%|          | 118/13735 [24:18<46:46:20, 12.37s/it]\u001b[A\n",
      "Iteration:   1%|          | 119/13735 [24:31<46:44:44, 12.36s/it]\u001b[A\n",
      "Iteration:   1%|          | 120/13735 [24:43<46:41:44, 12.35s/it]\u001b[A\n",
      "Iteration:   1%|          | 121/13735 [24:55<46:41:31, 12.35s/it]\u001b[A\n",
      "Iteration:   1%|          | 122/13735 [25:08<46:38:58, 12.34s/it]\u001b[A\n",
      "Iteration:   1%|          | 123/13735 [25:20<46:38:52, 12.34s/it]\u001b[A\n",
      "Iteration:   1%|          | 124/13735 [25:32<46:39:20, 12.34s/it]\u001b[A\n",
      "Iteration:   1%|          | 125/13735 [25:45<46:41:40, 12.35s/it]\u001b[A\n",
      "Iteration:   1%|          | 126/13735 [25:57<46:38:01, 12.34s/it]\u001b[A\n",
      "Iteration:   1%|          | 127/13735 [26:09<46:39:34, 12.34s/it]\u001b[A\n",
      "Iteration:   1%|          | 128/13735 [26:22<46:35:59, 12.33s/it]\u001b[A\n",
      "Iteration:   1%|          | 129/13735 [26:34<46:36:37, 12.33s/it]\u001b[A\n",
      "Iteration:   1%|          | 130/13735 [26:46<46:33:19, 12.32s/it]\u001b[A\n",
      "Iteration:   1%|          | 131/13735 [26:59<46:34:20, 12.32s/it]\u001b[A\n",
      "Iteration:   1%|          | 132/13735 [27:11<46:32:14, 12.32s/it]\u001b[A\n",
      "Iteration:   1%|          | 133/13735 [27:23<46:32:55, 12.32s/it]\u001b[A\n",
      "Iteration:   1%|          | 134/13735 [27:36<46:31:37, 12.32s/it]\u001b[A\n",
      "Iteration:   1%|          | 135/13735 [27:48<46:32:01, 12.32s/it]\u001b[A\n",
      "Iteration:   1%|          | 136/13735 [28:00<46:32:02, 12.32s/it]\u001b[A\n",
      "Iteration:   1%|          | 137/13735 [28:12<46:32:44, 12.32s/it]\u001b[A\n",
      "Iteration:   1%|          | 138/13735 [28:25<46:31:32, 12.32s/it]\u001b[A\n",
      "Iteration:   1%|          | 139/13735 [28:37<46:33:29, 12.33s/it]\u001b[A\n",
      "Iteration:   1%|          | 140/13735 [28:49<46:33:46, 12.33s/it]\u001b[A\n",
      "Iteration:   1%|          | 141/13735 [29:02<46:35:13, 12.34s/it]\u001b[A\n",
      "Iteration:   1%|          | 142/13735 [29:14<46:37:09, 12.35s/it]\u001b[A\n",
      "Iteration:   1%|          | 143/13735 [29:27<46:39:48, 12.36s/it]\u001b[A\n",
      "Iteration:   1%|          | 144/13735 [29:39<46:36:48, 12.35s/it]\u001b[A\n",
      "Iteration:   1%|          | 145/13735 [29:51<46:42:45, 12.37s/it]\u001b[A\n",
      "Iteration:   1%|          | 146/13735 [30:04<46:42:37, 12.37s/it]\u001b[A\n",
      "Iteration:   1%|          | 147/13735 [30:16<46:39:31, 12.36s/it]\u001b[A\n",
      "Iteration:   1%|          | 148/13735 [30:28<46:34:33, 12.34s/it]\u001b[A\n",
      "Iteration:   1%|          | 149/13735 [30:41<46:33:55, 12.34s/it]\u001b[A\n",
      "Iteration:   1%|          | 150/13735 [30:54<47:13:44, 12.52s/it]\u001b[A\n",
      "Iteration:   1%|          | 151/13735 [31:06<46:58:42, 12.45s/it]\u001b[A\n",
      "Iteration:   1%|          | 152/13735 [31:18<46:49:14, 12.41s/it]\u001b[A\n",
      "Iteration:   1%|          | 153/13735 [31:31<46:46:35, 12.40s/it]\u001b[A\n",
      "Iteration:   1%|          | 154/13735 [31:43<46:39:48, 12.37s/it]\u001b[A\n",
      "Iteration:   1%|          | 155/13735 [31:55<46:34:42, 12.35s/it]\u001b[A\n",
      "Iteration:   1%|          | 156/13735 [32:08<46:34:33, 12.35s/it]\u001b[A\n",
      "Iteration:   1%|          | 157/13735 [32:20<46:33:37, 12.34s/it]\u001b[A\n",
      "Iteration:   1%|          | 158/13735 [32:32<46:38:22, 12.37s/it]\u001b[A\n",
      "Iteration:   1%|          | 159/13735 [32:45<46:36:03, 12.36s/it]\u001b[A\n",
      "Iteration:   1%|          | 160/13735 [32:57<46:36:36, 12.36s/it]\u001b[A\n",
      "Iteration:   1%|          | 161/13735 [33:09<46:35:10, 12.36s/it]\u001b[A\n",
      "Iteration:   1%|          | 162/13735 [33:22<46:36:06, 12.36s/it]\u001b[A\n",
      "Iteration:   1%|          | 163/13735 [33:34<46:39:19, 12.38s/it]\u001b[A\n",
      "Iteration:   1%|          | 164/13735 [33:46<46:38:41, 12.37s/it]\u001b[A\n",
      "Iteration:   1%|          | 165/13735 [33:59<46:35:19, 12.36s/it]\u001b[A\n",
      "Iteration:   1%|          | 166/13735 [34:11<46:37:28, 12.37s/it]\u001b[A\n",
      "Iteration:   1%|          | 167/13735 [34:24<46:44:01, 12.40s/it]\u001b[A\n",
      "Iteration:   1%|          | 168/13735 [34:36<46:42:21, 12.39s/it]\u001b[A\n",
      "Iteration:   1%|          | 169/13735 [34:48<46:40:57, 12.39s/it]\u001b[A\n",
      "Iteration:   1%|          | 170/13735 [35:01<46:35:51, 12.37s/it]\u001b[A\n",
      "Iteration:   1%|          | 171/13735 [35:13<46:31:22, 12.35s/it]\u001b[A\n",
      "Iteration:   1%|▏         | 172/13735 [35:25<46:28:42, 12.34s/it]\u001b[A\n",
      "Iteration:   1%|▏         | 173/13735 [35:38<46:29:35, 12.34s/it]\u001b[A\n",
      "Iteration:   1%|▏         | 174/13735 [35:50<46:27:53, 12.33s/it]\u001b[A\n",
      "Iteration:   1%|▏         | 175/13735 [36:02<46:28:49, 12.34s/it]\u001b[A\n",
      "Iteration:   1%|▏         | 176/13735 [36:15<46:30:18, 12.35s/it]\u001b[A\n",
      "Iteration:   1%|▏         | 177/13735 [36:27<46:30:22, 12.35s/it]\u001b[A\n",
      "Iteration:   1%|▏         | 178/13735 [36:39<46:29:11, 12.34s/it]\u001b[A\n",
      "Iteration:   1%|▏         | 179/13735 [36:52<46:28:25, 12.34s/it]\u001b[A\n",
      "Iteration:   1%|▏         | 180/13735 [37:04<46:27:40, 12.34s/it]\u001b[A\n",
      "Iteration:   1%|▏         | 181/13735 [37:16<46:29:56, 12.35s/it]\u001b[A\n",
      "Iteration:   1%|▏         | 182/13735 [37:29<46:31:02, 12.36s/it]\u001b[A\n",
      "Iteration:   1%|▏         | 183/13735 [37:41<46:28:23, 12.35s/it]\u001b[A\n",
      "Iteration:   1%|▏         | 184/13735 [37:53<46:24:11, 12.33s/it]\u001b[A\n",
      "Iteration:   1%|▏         | 185/13735 [38:06<46:26:48, 12.34s/it]\u001b[A\n",
      "Iteration:   1%|▏         | 186/13735 [38:18<46:24:18, 12.33s/it]\u001b[A\n",
      "Iteration:   1%|▏         | 187/13735 [38:30<46:25:08, 12.33s/it]\u001b[A\n",
      "Iteration:   1%|▏         | 188/13735 [38:43<46:26:43, 12.34s/it]\u001b[A\n",
      "Iteration:   1%|▏         | 189/13735 [38:55<46:25:38, 12.34s/it]\u001b[A\n",
      "Iteration:   1%|▏         | 190/13735 [39:07<46:22:33, 12.33s/it]\u001b[A\n",
      "Iteration:   1%|▏         | 191/13735 [39:20<46:23:57, 12.33s/it]\u001b[A\n",
      "Iteration:   1%|▏         | 192/13735 [39:32<46:21:58, 12.33s/it]\u001b[A\n",
      "Iteration:   1%|▏         | 193/13735 [39:44<46:23:07, 12.33s/it]\u001b[A\n",
      "Iteration:   1%|▏         | 194/13735 [39:57<46:21:06, 12.32s/it]\u001b[A\n",
      "Iteration:   1%|▏         | 195/13735 [40:09<46:23:45, 12.34s/it]\u001b[A\n",
      "Iteration:   1%|▏         | 196/13735 [40:21<46:22:43, 12.33s/it]\u001b[A\n",
      "Iteration:   1%|▏         | 197/13735 [40:34<46:23:54, 12.34s/it]\u001b[A\n",
      "Iteration:   1%|▏         | 198/13735 [40:46<46:24:35, 12.34s/it]\u001b[A\n",
      "Iteration:   1%|▏         | 199/13735 [40:58<46:22:48, 12.34s/it]\u001b[A\n",
      "Iteration:   1%|▏         | 200/13735 [41:11<47:03:08, 12.51s/it]\u001b[A\n",
      "Iteration:   1%|▏         | 201/13735 [41:24<46:50:37, 12.46s/it]\u001b[A\n",
      "Iteration:   1%|▏         | 202/13735 [41:36<46:42:31, 12.43s/it]\u001b[A\n",
      "Iteration:   1%|▏         | 203/13735 [41:48<46:39:06, 12.41s/it]\u001b[A\n",
      "Iteration:   1%|▏         | 204/13735 [42:01<46:32:39, 12.38s/it]\u001b[A\n",
      "Iteration:   1%|▏         | 205/13735 [42:13<46:33:50, 12.39s/it]\u001b[A\n",
      "Iteration:   1%|▏         | 206/13735 [42:26<46:28:21, 12.37s/it]\u001b[A\n",
      "Iteration:   2%|▏         | 207/13735 [42:38<46:30:30, 12.38s/it]\u001b[A\n",
      "Iteration:   2%|▏         | 208/13735 [42:50<46:34:18, 12.39s/it]\u001b[A\n",
      "Iteration:   2%|▏         | 209/13735 [43:03<46:29:52, 12.38s/it]\u001b[A\n",
      "Iteration:   2%|▏         | 210/13735 [43:15<46:25:15, 12.36s/it]\u001b[A\n",
      "Iteration:   2%|▏         | 211/13735 [43:27<46:24:16, 12.35s/it]\u001b[A\n",
      "Iteration:   2%|▏         | 212/13735 [43:40<46:27:57, 12.37s/it]\u001b[A\n",
      "Iteration:   2%|▏         | 213/13735 [43:52<46:27:59, 12.37s/it]\u001b[A\n",
      "Iteration:   2%|▏         | 214/13735 [44:04<46:23:39, 12.35s/it]\u001b[A\n",
      "Iteration:   2%|▏         | 215/13735 [44:17<46:31:25, 12.39s/it]\u001b[A\n",
      "Iteration:   2%|▏         | 216/13735 [44:29<46:28:47, 12.38s/it]\u001b[A\n",
      "Iteration:   2%|▏         | 217/13735 [44:42<46:23:27, 12.35s/it]\u001b[A\n",
      "Iteration:   2%|▏         | 218/13735 [44:54<46:20:57, 12.34s/it]\u001b[A\n",
      "Iteration:   2%|▏         | 219/13735 [45:06<46:21:54, 12.35s/it]\u001b[A\n",
      "Iteration:   2%|▏         | 220/13735 [45:19<46:16:02, 12.32s/it]\u001b[A\n",
      "Iteration:   2%|▏         | 221/13735 [45:31<46:19:39, 12.34s/it]\u001b[A\n",
      "Iteration:   2%|▏         | 222/13735 [45:43<46:15:23, 12.32s/it]\u001b[A\n",
      "Iteration:   2%|▏         | 223/13735 [45:56<46:17:29, 12.33s/it]\u001b[A\n",
      "Iteration:   2%|▏         | 224/13735 [46:08<46:15:53, 12.33s/it]\u001b[A\n",
      "Iteration:   2%|▏         | 225/13735 [46:20<46:17:53, 12.34s/it]\u001b[A\n",
      "Iteration:   2%|▏         | 226/13735 [46:32<46:15:17, 12.33s/it]\u001b[A\n",
      "Iteration:   2%|▏         | 227/13735 [46:45<46:16:37, 12.33s/it]\u001b[A\n",
      "Iteration:   2%|▏         | 228/13735 [46:57<46:16:17, 12.33s/it]\u001b[A\n",
      "Iteration:   2%|▏         | 229/13735 [47:10<46:17:25, 12.34s/it]\u001b[A\n",
      "Iteration:   2%|▏         | 230/13735 [47:22<46:14:58, 12.33s/it]\u001b[A\n",
      "Iteration:   2%|▏         | 231/13735 [47:34<46:15:27, 12.33s/it]\u001b[A\n",
      "Iteration:   2%|▏         | 232/13735 [47:46<46:14:25, 12.33s/it]\u001b[A\n",
      "Iteration:   2%|▏         | 233/13735 [47:59<46:12:34, 12.32s/it]\u001b[A\n",
      "Iteration:   2%|▏         | 234/13735 [48:11<46:14:16, 12.33s/it]\u001b[A\n",
      "Iteration:   2%|▏         | 235/13735 [48:23<46:13:49, 12.33s/it]\u001b[A\n",
      "Iteration:   2%|▏         | 236/13735 [48:36<46:13:31, 12.33s/it]\u001b[A\n",
      "Iteration:   2%|▏         | 237/13735 [48:48<46:18:07, 12.35s/it]\u001b[A\n",
      "Iteration:   2%|▏         | 238/13735 [49:01<46:18:04, 12.35s/it]\u001b[A\n",
      "Iteration:   2%|▏         | 239/13735 [49:13<46:18:14, 12.35s/it]\u001b[A\n",
      "Iteration:   2%|▏         | 240/13735 [49:25<46:16:01, 12.34s/it]\u001b[A\n",
      "Iteration:   2%|▏         | 241/13735 [49:38<46:17:31, 12.35s/it]\u001b[A\n",
      "Iteration:   2%|▏         | 242/13735 [49:50<46:15:25, 12.34s/it]\u001b[A\n",
      "Iteration:   2%|▏         | 243/13735 [50:02<46:17:29, 12.35s/it]\u001b[A\n",
      "Iteration:   2%|▏         | 244/13735 [50:15<46:16:42, 12.35s/it]\u001b[A\n",
      "Iteration:   2%|▏         | 245/13735 [50:27<46:13:55, 12.34s/it]\u001b[A\n",
      "Iteration:   2%|▏         | 246/13735 [50:39<46:12:22, 12.33s/it]\u001b[A\n",
      "Iteration:   2%|▏         | 247/13735 [50:52<46:11:32, 12.33s/it]\u001b[A\n",
      "Iteration:   2%|▏         | 248/13735 [51:04<46:10:39, 12.33s/it]\u001b[A\n",
      "Iteration:   2%|▏         | 249/13735 [51:16<46:07:06, 12.31s/it]\u001b[A\n",
      "Iteration:   2%|▏         | 250/13735 [51:29<46:43:30, 12.47s/it]\u001b[A\n",
      "Iteration:   2%|▏         | 251/13735 [51:41<46:32:04, 12.42s/it]\u001b[A\n",
      "Iteration:   2%|▏         | 252/13735 [51:54<46:21:41, 12.38s/it]\u001b[A\n",
      "Iteration:   2%|▏         | 253/13735 [52:06<46:24:04, 12.39s/it]\u001b[A\n",
      "Iteration:   2%|▏         | 254/13735 [52:18<46:16:45, 12.36s/it]\u001b[A\n",
      "Iteration:   2%|▏         | 255/13735 [52:31<46:17:52, 12.36s/it]\u001b[A\n",
      "Iteration:   2%|▏         | 256/13735 [52:43<46:13:14, 12.34s/it]\u001b[A\n",
      "Iteration:   2%|▏         | 257/13735 [52:55<46:13:59, 12.35s/it]\u001b[A\n",
      "Iteration:   2%|▏         | 258/13735 [53:08<46:12:04, 12.34s/it]\u001b[A\n",
      "Iteration:   2%|▏         | 259/13735 [53:20<46:13:24, 12.35s/it]\u001b[A\n",
      "Iteration:   2%|▏         | 260/13735 [53:32<46:15:46, 12.36s/it]\u001b[A\n",
      "Iteration:   2%|▏         | 261/13735 [53:45<46:15:11, 12.36s/it]\u001b[A\n",
      "Iteration:   2%|▏         | 262/13735 [53:57<46:16:39, 12.37s/it]\u001b[A\n",
      "Iteration:   2%|▏         | 263/13735 [54:10<46:15:52, 12.36s/it]\u001b[A\n",
      "Iteration:   2%|▏         | 264/13735 [54:22<46:17:06, 12.37s/it]\u001b[A\n",
      "Iteration:   2%|▏         | 265/13735 [54:34<46:15:04, 12.36s/it]\u001b[A\n",
      "Iteration:   2%|▏         | 266/13735 [54:47<46:11:55, 12.35s/it]\u001b[A\n",
      "Iteration:   2%|▏         | 267/13735 [54:59<46:13:36, 12.36s/it]\u001b[A\n",
      "Iteration:   2%|▏         | 268/13735 [55:11<46:07:44, 12.33s/it]\u001b[A\n",
      "Iteration:   2%|▏         | 269/13735 [55:24<46:08:46, 12.34s/it]\u001b[A\n",
      "Iteration:   2%|▏         | 270/13735 [55:36<46:05:58, 12.33s/it]\u001b[A\n",
      "Iteration:   2%|▏         | 271/13735 [55:48<46:07:53, 12.33s/it]\u001b[A\n",
      "Iteration:   2%|▏         | 272/13735 [56:00<46:03:30, 12.32s/it]\u001b[A\n",
      "Iteration:   2%|▏         | 273/13735 [56:13<46:05:07, 12.32s/it]\u001b[A\n",
      "Iteration:   2%|▏         | 274/13735 [56:25<46:05:39, 12.33s/it]\u001b[A\n",
      "Iteration:   2%|▏         | 275/13735 [56:38<46:07:43, 12.34s/it]\u001b[A\n",
      "Iteration:   2%|▏         | 276/13735 [56:50<46:03:31, 12.32s/it]\u001b[A\n",
      "Iteration:   2%|▏         | 277/13735 [57:02<46:02:26, 12.32s/it]\u001b[A\n",
      "Iteration:   2%|▏         | 278/13735 [57:14<46:04:32, 12.33s/it]\u001b[A\n",
      "Iteration:   2%|▏         | 279/13735 [57:27<46:05:02, 12.33s/it]\u001b[A\n",
      "Iteration:   2%|▏         | 280/13735 [57:39<46:01:33, 12.31s/it]\u001b[A\n",
      "Iteration:   2%|▏         | 281/13735 [57:51<46:02:41, 12.32s/it]\u001b[A\n",
      "Iteration:   2%|▏         | 282/13735 [58:04<46:05:49, 12.34s/it]\u001b[A\n",
      "Iteration:   2%|▏         | 283/13735 [58:16<46:09:27, 12.35s/it]\u001b[A\n",
      "Iteration:   2%|▏         | 284/13735 [58:28<46:07:03, 12.34s/it]\u001b[A\n",
      "Iteration:   2%|▏         | 285/13735 [58:41<46:08:27, 12.35s/it]\u001b[A\n",
      "Iteration:   2%|▏         | 286/13735 [58:53<46:05:37, 12.34s/it]\u001b[A\n",
      "Iteration:   2%|▏         | 287/13735 [59:06<46:05:33, 12.34s/it]\u001b[A\n",
      "Iteration:   2%|▏         | 288/13735 [59:18<46:01:46, 12.32s/it]\u001b[A\n",
      "Iteration:   2%|▏         | 289/13735 [59:30<46:03:56, 12.33s/it]\u001b[A\n",
      "Iteration:   2%|▏         | 290/13735 [59:42<46:03:39, 12.33s/it]\u001b[A\n",
      "Iteration:   2%|▏         | 291/13735 [59:55<46:05:20, 12.34s/it]\u001b[A\n",
      "Iteration:   2%|▏         | 292/13735 [1:00:07<46:05:16, 12.34s/it]\u001b[A\n",
      "Iteration:   2%|▏         | 293/13735 [1:00:20<46:04:24, 12.34s/it]\u001b[A\n",
      "Iteration:   2%|▏         | 294/13735 [1:00:32<46:01:01, 12.33s/it]\u001b[A\n",
      "Iteration:   2%|▏         | 295/13735 [1:00:44<45:59:04, 12.32s/it]\u001b[A\n",
      "Iteration:   2%|▏         | 296/13735 [1:00:56<45:58:09, 12.31s/it]\u001b[A\n",
      "Iteration:   2%|▏         | 297/13735 [1:01:09<45:57:57, 12.31s/it]\u001b[A\n",
      "Iteration:   2%|▏         | 298/13735 [1:01:21<45:59:55, 12.32s/it]\u001b[A\n",
      "Iteration:   2%|▏         | 299/13735 [1:01:33<45:57:08, 12.31s/it]\u001b[A\n",
      "Iteration:   2%|▏         | 300/13735 [1:01:59<46:15:51, 12.40s/it]\u001b[A\n",
      "Epoch:   0%|          | 0/1 [1:01:59<?, ?it/s]\n"
     ]
    }
   ],
   "source": [
    "init = time()\n",
    "global_step, tr_loss = train(train_dataset, model, tokenizer, hyperparams)\n",
    "train_time = time() - init"
   ]
  },
  {
   "cell_type": "markdown",
   "metadata": {},
   "source": [
    "### Eval after training\n",
    "\n",
    "#### Train sample"
   ]
  },
  {
   "cell_type": "code",
   "execution_count": 13,
   "metadata": {},
   "outputs": [
    {
     "name": "stderr",
     "output_type": "stream",
     "text": [
      "Evaluating: 100%|██████████| 32/32 [01:57<00:00,  3.68s/it]\n"
     ]
    }
   ],
   "source": [
    "train_loss, train_results = evaluate(train_dataset_to_eval, hyperparams, model)\n",
    "train_acc = (train_results.prediction==train_results.label).mean()\n",
    "\n",
    "filtered = filter_df_by_label(df_train_to_eval.dropna()).reset_index(drop=True)\n",
    "assert np.all(filtered.label.map(lambda x: lmap[x]) == train_results.label)\n",
    "\n",
    "\n",
    "\n",
    "meta_results[\"moment\"].append(\"after\")\n",
    "meta_results[\"type\"].append(\"train\")\n",
    "meta_results[\"loss\"].append(train_loss)\n",
    "meta_results[\"acc\"].append(train_acc)\n",
    "meta_results[\"time\"].append(train_time)"
   ]
  },
  {
   "cell_type": "markdown",
   "metadata": {},
   "source": [
    "#### Dev sample"
   ]
  },
  {
   "cell_type": "code",
   "execution_count": 14,
   "metadata": {},
   "outputs": [
    {
     "name": "stderr",
     "output_type": "stream",
     "text": [
      "Evaluating: 100%|██████████| 32/32 [01:57<00:00,  3.68s/it]\n"
     ]
    }
   ],
   "source": [
    "dev_loss, results = evaluate(dev_dataset_to_eval, hyperparams, model)\n",
    "dev_acc = (results.prediction==results.label).mean()\n",
    "\n",
    "\n",
    "filtered = filter_df_by_label(df_dev_to_eval.dropna()).reset_index(drop=True)\n",
    "assert np.all(filtered.label.map(lambda x: lmap[x]) == results.label)\n",
    "\n",
    "\n",
    "\n",
    "meta_results[\"moment\"].append(\"after\")\n",
    "meta_results[\"type\"].append(\"dev\")\n",
    "meta_results[\"loss\"].append(dev_loss)\n",
    "meta_results[\"acc\"].append(dev_acc)\n",
    "meta_results[\"time\"].append(train_time)"
   ]
  },
  {
   "cell_type": "markdown",
   "metadata": {},
   "source": [
    "## Results"
   ]
  },
  {
   "cell_type": "code",
   "execution_count": 15,
   "metadata": {},
   "outputs": [
    {
     "data": {
      "text/html": [
       "<div>\n",
       "<style scoped>\n",
       "    .dataframe tbody tr th:only-of-type {\n",
       "        vertical-align: middle;\n",
       "    }\n",
       "\n",
       "    .dataframe tbody tr th {\n",
       "        vertical-align: top;\n",
       "    }\n",
       "\n",
       "    .dataframe thead th {\n",
       "        text-align: right;\n",
       "    }\n",
       "</style>\n",
       "<table border=\"1\" class=\"dataframe\">\n",
       "  <thead>\n",
       "    <tr style=\"text-align: right;\">\n",
       "      <th></th>\n",
       "      <th>moment</th>\n",
       "      <th>type</th>\n",
       "      <th>loss</th>\n",
       "      <th>acc</th>\n",
       "      <th>time</th>\n",
       "    </tr>\n",
       "  </thead>\n",
       "  <tbody>\n",
       "    <tr>\n",
       "      <th>0</th>\n",
       "      <td>before</td>\n",
       "      <td>train</td>\n",
       "      <td>1.233214</td>\n",
       "      <td>0.330</td>\n",
       "      <td>NaN</td>\n",
       "    </tr>\n",
       "    <tr>\n",
       "      <th>1</th>\n",
       "      <td>before</td>\n",
       "      <td>dev</td>\n",
       "      <td>1.240603</td>\n",
       "      <td>0.325</td>\n",
       "      <td>NaN</td>\n",
       "    </tr>\n",
       "    <tr>\n",
       "      <th>2</th>\n",
       "      <td>after</td>\n",
       "      <td>train</td>\n",
       "      <td>0.598539</td>\n",
       "      <td>0.768</td>\n",
       "      <td>3719.075275</td>\n",
       "    </tr>\n",
       "    <tr>\n",
       "      <th>3</th>\n",
       "      <td>after</td>\n",
       "      <td>dev</td>\n",
       "      <td>0.558100</td>\n",
       "      <td>0.780</td>\n",
       "      <td>3719.075275</td>\n",
       "    </tr>\n",
       "  </tbody>\n",
       "</table>\n",
       "</div>"
      ],
      "text/plain": [
       "   moment   type      loss    acc         time\n",
       "0  before  train  1.233214  0.330          NaN\n",
       "1  before    dev  1.240603  0.325          NaN\n",
       "2   after  train  0.598539  0.768  3719.075275\n",
       "3   after    dev  0.558100  0.780  3719.075275"
      ]
     },
     "execution_count": 15,
     "metadata": {},
     "output_type": "execute_result"
    }
   ],
   "source": [
    "meta_results = pd.DataFrame(meta_results)\n",
    "meta_results.to_csv(\"meta.csv\",index=False)\n",
    "meta_results"
   ]
  },
  {
   "cell_type": "code",
   "execution_count": null,
   "metadata": {},
   "outputs": [],
   "source": [
    "# df_eval = pd.read_csv(\"bert/eval_log.csv\")\n",
    "# df_eval.set_index([\"step\"])[[\"train_acc\",\"dev_acc\"]].plot();"
   ]
  },
  {
   "cell_type": "markdown",
   "metadata": {},
   "source": [
    "### loading models"
   ]
  },
  {
   "cell_type": "code",
   "execution_count": null,
   "metadata": {},
   "outputs": [],
   "source": [
    "from transformers import BertForSequenceClassification\n",
    "s = 'bert/checkpoint-2/'\n",
    "model = BertForSequenceClassification.from_pretrained(s)\n",
    "\n",
    "dev_loss, results = evaluate(dev_dataset_to_eval, hyperparams, model)\n",
    "dev_acc = (results.prediction==results.label).mean()\n",
    "print(dev_acc )"
   ]
  }
 ],
 "metadata": {
  "kernelspec": {
   "display_name": "Python 3",
   "language": "python",
   "name": "python3"
  },
  "language_info": {
   "codemirror_mode": {
    "name": "ipython",
    "version": 3
   },
   "file_extension": ".py",
   "mimetype": "text/x-python",
   "name": "python",
   "nbconvert_exporter": "python",
   "pygments_lexer": "ipython3",
   "version": "3.6.8"
  }
 },
 "nbformat": 4,
 "nbformat_minor": 4
}
