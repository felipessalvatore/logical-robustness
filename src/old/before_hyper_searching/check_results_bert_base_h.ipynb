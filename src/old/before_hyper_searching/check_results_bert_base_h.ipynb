{
 "cells": [
  {
   "cell_type": "markdown",
   "metadata": {},
   "source": [
    "# Results for BERT base when applying syn tranformation to the hypothesis alone"
   ]
  },
  {
   "cell_type": "code",
   "execution_count": 1,
   "metadata": {},
   "outputs": [],
   "source": [
    "import pandas as pd\n",
    "import numpy as np\n",
    "import matplotlib.pyplot as plt\n",
    "import seaborn as sns\n",
    "from IPython.display import display, HTML \n",
    "from lr.stats.h_testing import get_boot_p_value,update_results_with_cochran_test\n",
    "from lr.analysis.util import get_boots, show_df, get_standart_results"
   ]
  },
  {
   "cell_type": "markdown",
   "metadata": {},
   "source": [
    "## Results for $\\rho = 0$"
   ]
  },
  {
   "cell_type": "code",
   "execution_count": 2,
   "metadata": {},
   "outputs": [
    {
     "data": {
      "text/html": [
       "<table border=\"1\" class=\"dataframe\">\n",
       "  <thead>\n",
       "    <tr style=\"text-align: right;\">\n",
       "      <th></th>\n",
       "      <th>data</th>\n",
       "      <th>model</th>\n",
       "      <th>transformation</th>\n",
       "      <th>rho</th>\n",
       "      <th>dgp_seed</th>\n",
       "      <th>random_state</th>\n",
       "      <th>number_of_simulations</th>\n",
       "      <th>validation_accuracy</th>\n",
       "      <th>transformed_validation_accuracy</th>\n",
       "      <th>accuracy_difference</th>\n",
       "      <th>test_size</th>\n",
       "      <th>standart_error</th>\n",
       "      <th>observable_t_stats</th>\n",
       "      <th>p_value</th>\n",
       "      <th>cochran_statistic</th>\n",
       "      <th>cochran_p_value</th>\n",
       "      <th>training_time</th>\n",
       "      <th>test_time</th>\n",
       "    </tr>\n",
       "  </thead>\n",
       "  <tbody>\n",
       "    <tr>\n",
       "      <th>0</th>\n",
       "      <td>snli</td>\n",
       "      <td>bert</td>\n",
       "      <td>wordnet sin tranformation h</td>\n",
       "      <td>0.0</td>\n",
       "      <td>461</td>\n",
       "      <td>338</td>\n",
       "      <td>1000</td>\n",
       "      <td>0.861715</td>\n",
       "      <td>0.770880</td>\n",
       "      <td>0.090835</td>\n",
       "      <td>9842</td>\n",
       "      <td>0.351614</td>\n",
       "      <td>25.628849</td>\n",
       "      <td>0.0</td>\n",
       "      <td>615.744222</td>\n",
       "      <td>0.0</td>\n",
       "      <td>5.283074</td>\n",
       "      <td>5.979416</td>\n",
       "    </tr>\n",
       "    <tr>\n",
       "      <th>1</th>\n",
       "      <td>snli</td>\n",
       "      <td>bert</td>\n",
       "      <td>wordnet sin tranformation h</td>\n",
       "      <td>0.0</td>\n",
       "      <td>8963</td>\n",
       "      <td>477</td>\n",
       "      <td>1000</td>\n",
       "      <td>0.858057</td>\n",
       "      <td>0.791404</td>\n",
       "      <td>0.066653</td>\n",
       "      <td>9842</td>\n",
       "      <td>0.320389</td>\n",
       "      <td>20.638775</td>\n",
       "      <td>0.0</td>\n",
       "      <td>408.288425</td>\n",
       "      <td>0.0</td>\n",
       "      <td>5.267409</td>\n",
       "      <td>5.964489</td>\n",
       "    </tr>\n",
       "  </tbody>\n",
       "</table>"
      ],
      "text/plain": [
       "<IPython.core.display.HTML object>"
      ]
     },
     "metadata": {},
     "output_type": "display_data"
    }
   ],
   "source": [
    "df1 = pd.read_csv(\"results/snli/bert_base/sin_h/rho_0p00_dgp_seed_461_random_state_338.csv\")\n",
    "diff1 = pd.read_csv(\"raw_results/snli/bert_base/sin_h/rho_0p00_dgp_seed_461_random_state_338_results.csv\")\n",
    "df1_new = update_results_with_cochran_test(df1, diff1)\n",
    "\n",
    "df2 = pd.read_csv(\"results/snli/bert_base/sin_h/rho_0p00_dgp_seed_8963_random_state_477.csv\")\n",
    "diff2 = pd.read_csv(\"raw_results/snli/bert_base/sin_h/rho_0p00_dgp_seed_8963_random_state_477_results.csv\")\n",
    "df2_new = update_results_with_cochran_test(df2, diff2)\n",
    "\n",
    "df_rho_0 = pd.concat([df1_new, df2_new]).reset_index(drop=True)\n",
    "df_rho_0 = get_standart_results(df_rho_0)\n",
    "show_df(df_rho_0)"
   ]
  },
  {
   "cell_type": "markdown",
   "metadata": {},
   "source": [
    "## Results for $\\rho = 0.25$"
   ]
  },
  {
   "cell_type": "code",
   "execution_count": 3,
   "metadata": {},
   "outputs": [
    {
     "data": {
      "text/html": [
       "<table border=\"1\" class=\"dataframe\">\n",
       "  <thead>\n",
       "    <tr style=\"text-align: right;\">\n",
       "      <th></th>\n",
       "      <th>data</th>\n",
       "      <th>model</th>\n",
       "      <th>transformation</th>\n",
       "      <th>rho</th>\n",
       "      <th>dgp_seed</th>\n",
       "      <th>random_state</th>\n",
       "      <th>number_of_simulations</th>\n",
       "      <th>validation_accuracy</th>\n",
       "      <th>transformed_validation_accuracy</th>\n",
       "      <th>accuracy_difference</th>\n",
       "      <th>test_size</th>\n",
       "      <th>standart_error</th>\n",
       "      <th>observable_t_stats</th>\n",
       "      <th>p_value</th>\n",
       "      <th>cochran_statistic</th>\n",
       "      <th>cochran_p_value</th>\n",
       "      <th>training_time</th>\n",
       "      <th>test_time</th>\n",
       "    </tr>\n",
       "  </thead>\n",
       "  <tbody>\n",
       "    <tr>\n",
       "      <th>0</th>\n",
       "      <td>snli</td>\n",
       "      <td>bert</td>\n",
       "      <td>wordnet sin tranformation h</td>\n",
       "      <td>0.25</td>\n",
       "      <td>57</td>\n",
       "      <td>43</td>\n",
       "      <td>1000</td>\n",
       "      <td>0.852774</td>\n",
       "      <td>0.811420</td>\n",
       "      <td>0.041353</td>\n",
       "      <td>9842</td>\n",
       "      <td>0.272750</td>\n",
       "      <td>15.041415</td>\n",
       "      <td>0.0</td>\n",
       "      <td>221.160214</td>\n",
       "      <td>0.0</td>\n",
       "      <td>3.946550</td>\n",
       "      <td>4.453022</td>\n",
       "    </tr>\n",
       "    <tr>\n",
       "      <th>1</th>\n",
       "      <td>snli</td>\n",
       "      <td>bert</td>\n",
       "      <td>wordnet sin tranformation h</td>\n",
       "      <td>0.25</td>\n",
       "      <td>189</td>\n",
       "      <td>726</td>\n",
       "      <td>1000</td>\n",
       "      <td>0.852672</td>\n",
       "      <td>0.810303</td>\n",
       "      <td>0.042369</td>\n",
       "      <td>9842</td>\n",
       "      <td>0.273338</td>\n",
       "      <td>15.377805</td>\n",
       "      <td>0.0</td>\n",
       "      <td>230.928287</td>\n",
       "      <td>0.0</td>\n",
       "      <td>3.941633</td>\n",
       "      <td>4.447241</td>\n",
       "    </tr>\n",
       "  </tbody>\n",
       "</table>"
      ],
      "text/plain": [
       "<IPython.core.display.HTML object>"
      ]
     },
     "metadata": {},
     "output_type": "display_data"
    }
   ],
   "source": [
    "df1 = pd.read_csv(\"results/snli/bert_base/sin_h/rho_0p25_dgp_seed_57_random_state_43.csv\")\n",
    "diff1 = pd.read_csv(\"raw_results/snli/bert_base/sin_h/rho_0p25_dgp_seed_57_random_state_43_results.csv\")\n",
    "df1_new = update_results_with_cochran_test(df1, diff1)\n",
    "\n",
    "df2 = pd.read_csv(\"results/snli/bert_base/sin_h/rho_0p25_dgp_seed_189_random_state_726.csv\")\n",
    "diff2 = pd.read_csv(\"raw_results/snli/bert_base/sin_h/rho_0p25_dgp_seed_189_random_state_726_results.csv\")\n",
    "df2_new = update_results_with_cochran_test(df2, diff2)\n",
    "\n",
    "df_rho_0p25 = pd.concat([df1_new, df2_new]).reset_index(drop=True)\n",
    "df_rho_0p25 = get_standart_results(df_rho_0p25)\n",
    "show_df(df_rho_0p25)"
   ]
  },
  {
   "cell_type": "markdown",
   "metadata": {},
   "source": [
    "## Results for $\\rho = 0.5$"
   ]
  },
  {
   "cell_type": "code",
   "execution_count": 4,
   "metadata": {},
   "outputs": [
    {
     "data": {
      "text/html": [
       "<table border=\"1\" class=\"dataframe\">\n",
       "  <thead>\n",
       "    <tr style=\"text-align: right;\">\n",
       "      <th></th>\n",
       "      <th>data</th>\n",
       "      <th>model</th>\n",
       "      <th>transformation</th>\n",
       "      <th>rho</th>\n",
       "      <th>dgp_seed</th>\n",
       "      <th>random_state</th>\n",
       "      <th>number_of_simulations</th>\n",
       "      <th>validation_accuracy</th>\n",
       "      <th>transformed_validation_accuracy</th>\n",
       "      <th>accuracy_difference</th>\n",
       "      <th>test_size</th>\n",
       "      <th>standart_error</th>\n",
       "      <th>observable_t_stats</th>\n",
       "      <th>p_value</th>\n",
       "      <th>cochran_statistic</th>\n",
       "      <th>cochran_p_value</th>\n",
       "      <th>training_time</th>\n",
       "      <th>test_time</th>\n",
       "    </tr>\n",
       "  </thead>\n",
       "  <tbody>\n",
       "    <tr>\n",
       "      <th>0</th>\n",
       "      <td>snli</td>\n",
       "      <td>bert</td>\n",
       "      <td>wordnet sin tranformation h</td>\n",
       "      <td>0.5</td>\n",
       "      <td>22</td>\n",
       "      <td>2202</td>\n",
       "      <td>1000</td>\n",
       "      <td>0.848608</td>\n",
       "      <td>0.819752</td>\n",
       "      <td>0.028856</td>\n",
       "      <td>9842</td>\n",
       "      <td>0.248099</td>\n",
       "      <td>11.538569</td>\n",
       "      <td>0.0</td>\n",
       "      <td>131.361564</td>\n",
       "      <td>0.0</td>\n",
       "      <td>5.262547</td>\n",
       "      <td>5.947405</td>\n",
       "    </tr>\n",
       "    <tr>\n",
       "      <th>1</th>\n",
       "      <td>snli</td>\n",
       "      <td>bert</td>\n",
       "      <td>wordnet sin tranformation h</td>\n",
       "      <td>0.5</td>\n",
       "      <td>66</td>\n",
       "      <td>155</td>\n",
       "      <td>1000</td>\n",
       "      <td>0.859480</td>\n",
       "      <td>0.832554</td>\n",
       "      <td>0.026925</td>\n",
       "      <td>9842</td>\n",
       "      <td>0.230711</td>\n",
       "      <td>11.578073</td>\n",
       "      <td>0.0</td>\n",
       "      <td>132.250471</td>\n",
       "      <td>0.0</td>\n",
       "      <td>5.253583</td>\n",
       "      <td>5.939315</td>\n",
       "    </tr>\n",
       "  </tbody>\n",
       "</table>"
      ],
      "text/plain": [
       "<IPython.core.display.HTML object>"
      ]
     },
     "metadata": {},
     "output_type": "display_data"
    }
   ],
   "source": [
    "df1 = pd.read_csv(\"results/snli/bert_base/sin_h/rho_0p50_dgp_seed_22_random_state_2202.csv\")\n",
    "diff1 = pd.read_csv(\"raw_results/snli/bert_base/sin_h/rho_0p50_dgp_seed_22_random_state_2202_results.csv\")\n",
    "df1_new = update_results_with_cochran_test(df1, diff1)\n",
    "\n",
    "df2 = pd.read_csv(\"results/snli/bert_base/sin_h/rho_0p50_dgp_seed_66_random_state_155.csv\")\n",
    "diff2 = pd.read_csv(\"raw_results/snli/bert_base/sin_h/rho_0p50_dgp_seed_66_random_state_155_results.csv\")\n",
    "df2_new = update_results_with_cochran_test(df2, diff2)\n",
    "\n",
    "df_rho_0p5 = pd.concat([df1_new, df2_new]).reset_index(drop=True)\n",
    "df_rho_0p5 = get_standart_results(df_rho_0p5)\n",
    "show_df(df_rho_0p5)\n",
    "\n"
   ]
  },
  {
   "cell_type": "markdown",
   "metadata": {},
   "source": [
    "## Results for $\\rho = 0.75$"
   ]
  },
  {
   "cell_type": "code",
   "execution_count": 5,
   "metadata": {},
   "outputs": [
    {
     "data": {
      "text/html": [
       "<table border=\"1\" class=\"dataframe\">\n",
       "  <thead>\n",
       "    <tr style=\"text-align: right;\">\n",
       "      <th></th>\n",
       "      <th>data</th>\n",
       "      <th>model</th>\n",
       "      <th>transformation</th>\n",
       "      <th>rho</th>\n",
       "      <th>dgp_seed</th>\n",
       "      <th>random_state</th>\n",
       "      <th>number_of_simulations</th>\n",
       "      <th>validation_accuracy</th>\n",
       "      <th>transformed_validation_accuracy</th>\n",
       "      <th>accuracy_difference</th>\n",
       "      <th>test_size</th>\n",
       "      <th>standart_error</th>\n",
       "      <th>observable_t_stats</th>\n",
       "      <th>p_value</th>\n",
       "      <th>cochran_statistic</th>\n",
       "      <th>cochran_p_value</th>\n",
       "      <th>training_time</th>\n",
       "      <th>test_time</th>\n",
       "    </tr>\n",
       "  </thead>\n",
       "  <tbody>\n",
       "    <tr>\n",
       "      <th>0</th>\n",
       "      <td>snli</td>\n",
       "      <td>bert</td>\n",
       "      <td>wordnet sin tranformation h</td>\n",
       "      <td>0.75</td>\n",
       "      <td>13</td>\n",
       "      <td>444</td>\n",
       "      <td>1000</td>\n",
       "      <td>0.849624</td>\n",
       "      <td>0.831030</td>\n",
       "      <td>0.018594</td>\n",
       "      <td>9842</td>\n",
       "      <td>0.223037</td>\n",
       "      <td>8.270496</td>\n",
       "      <td>0.0</td>\n",
       "      <td>67.929006</td>\n",
       "      <td>0.0</td>\n",
       "      <td>3.939764</td>\n",
       "      <td>4.444963</td>\n",
       "    </tr>\n",
       "    <tr>\n",
       "      <th>1</th>\n",
       "      <td>snli</td>\n",
       "      <td>bert</td>\n",
       "      <td>wordnet sin tranformation h</td>\n",
       "      <td>0.75</td>\n",
       "      <td>57</td>\n",
       "      <td>917</td>\n",
       "      <td>1000</td>\n",
       "      <td>0.852063</td>\n",
       "      <td>0.835806</td>\n",
       "      <td>0.016257</td>\n",
       "      <td>9842</td>\n",
       "      <td>0.223447</td>\n",
       "      <td>7.217768</td>\n",
       "      <td>0.0</td>\n",
       "      <td>51.821862</td>\n",
       "      <td>0.0</td>\n",
       "      <td>3.938150</td>\n",
       "      <td>4.441966</td>\n",
       "    </tr>\n",
       "  </tbody>\n",
       "</table>"
      ],
      "text/plain": [
       "<IPython.core.display.HTML object>"
      ]
     },
     "metadata": {},
     "output_type": "display_data"
    }
   ],
   "source": [
    "df1 = pd.read_csv(\"results/snli/bert_base/sin_h/rho_0p75_dgp_seed_13_random_state_444.csv\")\n",
    "diff1 = pd.read_csv(\"raw_results/snli/bert_base/sin_h/rho_0p75_dgp_seed_13_random_state_444_results.csv\")\n",
    "df1_new = update_results_with_cochran_test(df1, diff1)\n",
    "\n",
    "df2 = pd.read_csv(\"results/snli/bert_base/sin_h/rho_0p75_dgp_seed_57_random_state_917.csv\")\n",
    "diff2 = pd.read_csv(\"raw_results/snli/bert_base/sin_h/rho_0p75_dgp_seed_57_random_state_917_results.csv\")\n",
    "df2_new = update_results_with_cochran_test(df2, diff2)\n",
    "\n",
    "df_rho_0p75 = pd.concat([df1_new, df2_new]).reset_index(drop=True)\n",
    "df_rho_0p75 = get_standart_results(df_rho_0p75)\n",
    "show_df(df_rho_0p75)\n"
   ]
  },
  {
   "cell_type": "markdown",
   "metadata": {},
   "source": [
    "## Results for $\\rho = 1.0$"
   ]
  },
  {
   "cell_type": "code",
   "execution_count": 6,
   "metadata": {},
   "outputs": [
    {
     "data": {
      "text/html": [
       "<table border=\"1\" class=\"dataframe\">\n",
       "  <thead>\n",
       "    <tr style=\"text-align: right;\">\n",
       "      <th></th>\n",
       "      <th>data</th>\n",
       "      <th>model</th>\n",
       "      <th>transformation</th>\n",
       "      <th>rho</th>\n",
       "      <th>dgp_seed</th>\n",
       "      <th>random_state</th>\n",
       "      <th>number_of_simulations</th>\n",
       "      <th>validation_accuracy</th>\n",
       "      <th>transformed_validation_accuracy</th>\n",
       "      <th>accuracy_difference</th>\n",
       "      <th>test_size</th>\n",
       "      <th>standart_error</th>\n",
       "      <th>observable_t_stats</th>\n",
       "      <th>p_value</th>\n",
       "      <th>cochran_statistic</th>\n",
       "      <th>cochran_p_value</th>\n",
       "      <th>training_time</th>\n",
       "      <th>test_time</th>\n",
       "    </tr>\n",
       "  </thead>\n",
       "  <tbody>\n",
       "    <tr>\n",
       "      <th>0</th>\n",
       "      <td>snli</td>\n",
       "      <td>bert</td>\n",
       "      <td>wordnet sin tranformation h</td>\n",
       "      <td>1.0</td>\n",
       "      <td>12</td>\n",
       "      <td>571</td>\n",
       "      <td>1000</td>\n",
       "      <td>0.830319</td>\n",
       "      <td>0.820870</td>\n",
       "      <td>0.009449</td>\n",
       "      <td>9842</td>\n",
       "      <td>0.235561</td>\n",
       "      <td>3.979591</td>\n",
       "      <td>0.0</td>\n",
       "      <td>15.811700</td>\n",
       "      <td>0.0</td>\n",
       "      <td>5.270627</td>\n",
       "      <td>5.969176</td>\n",
       "    </tr>\n",
       "    <tr>\n",
       "      <th>1</th>\n",
       "      <td>snli</td>\n",
       "      <td>bert</td>\n",
       "      <td>wordnet sin tranformation h</td>\n",
       "      <td>1.0</td>\n",
       "      <td>33</td>\n",
       "      <td>15</td>\n",
       "      <td>1000</td>\n",
       "      <td>0.845560</td>\n",
       "      <td>0.837127</td>\n",
       "      <td>0.008433</td>\n",
       "      <td>9842</td>\n",
       "      <td>0.232561</td>\n",
       "      <td>3.597492</td>\n",
       "      <td>0.0</td>\n",
       "      <td>12.924953</td>\n",
       "      <td>0.0</td>\n",
       "      <td>3.952687</td>\n",
       "      <td>4.469419</td>\n",
       "    </tr>\n",
       "  </tbody>\n",
       "</table>"
      ],
      "text/plain": [
       "<IPython.core.display.HTML object>"
      ]
     },
     "metadata": {},
     "output_type": "display_data"
    }
   ],
   "source": [
    "df1 = pd.read_csv(\"results/snli/bert_base/sin_h/rho_1p00_dgp_seed_12_random_state_571.csv\")\n",
    "diff1 = pd.read_csv(\"raw_results/snli/bert_base/sin_h/rho_1p00_dgp_seed_12_random_state_571_results.csv\")\n",
    "df1_new = update_results_with_cochran_test(df1, diff1)\n",
    "\n",
    "df2 = pd.read_csv(\"results/snli/bert_base/sin_h/rho_1p00_dgp_seed_33_random_state_15.csv\")\n",
    "diff2 = pd.read_csv(\"raw_results/snli/bert_base/sin_h/rho_1p00_dgp_seed_33_random_state_15_results.csv\")\n",
    "df2_new = update_results_with_cochran_test(df2, diff2)\n",
    "\n",
    "df_rho_1p0 = pd.concat([df1_new, df2_new]).reset_index(drop=True)\n",
    "df_rho_1p0 = get_standart_results(df_rho_1p0)\n",
    "show_df(df_rho_1p0)\n"
   ]
  },
  {
   "cell_type": "markdown",
   "metadata": {},
   "source": [
    "## Plotting Results"
   ]
  },
  {
   "cell_type": "code",
   "execution_count": 7,
   "metadata": {},
   "outputs": [
    {
     "data": {
      "image/png": "[encoded data removed]",
      "text/plain": [
       "<Figure size 720x360 with 2 Axes>"
      ]
     },
     "metadata": {
      "needs_background": "light"
     },
     "output_type": "display_data"
    },
    {
     "data": {
      "image/png": "[encoded data removed]",
      "text/plain": [
       "<Figure size 720x360 with 2 Axes>"
      ]
     },
     "metadata": {
      "needs_background": "light"
     },
     "output_type": "display_data"
    },
    {
     "data": {
      "image/png": "[encoded data removed]",
      "text/plain": [
       "<Figure size 864x432 with 1 Axes>"
      ]
     },
     "metadata": {
      "needs_background": "light"
     },
     "output_type": "display_data"
    }
   ],
   "source": [
    "dfs = [df_rho_0, df_rho_0p25, df_rho_0p5, df_rho_0p75, df_rho_1p0]\n",
    "names = [\"0.0\", \"0.25\", \"0.5\", \"0.75\", \"1.00\" ]\n",
    "\n",
    "all_p_values = {}\n",
    "for df, name in zip(dfs, names):\n",
    "    results = df.p_value\n",
    "    all_p_values[name] = results \n",
    "\n",
    "fig, ax = plt.subplots(figsize=(10,5))\n",
    "sns.heatmap(pd.DataFrame(all_p_values), annot=True,  cmap=\"YlGnBu\", linewidths=0.3, ax=ax);\n",
    "ax.set_xlabel(r\"$\\rho$\", fontsize=14);\n",
    "ax.set_ylabel(\"number of tests\", fontsize=14);\n",
    "ax.set_title(\"BERT base p-values\\n\\ndataset: SNLI\\ntransformation: synonym substitution only H\\n\");\n",
    "fig.tight_layout()\n",
    "fig.savefig('figs/bert_base_p_values_snli_sin_h.png', bbox_inches=None, pad_inches=0.5)\n",
    "\n",
    "all_p_values = {}\n",
    "for df, name in zip(dfs, names):\n",
    "    results = df.cochran_p_value\n",
    "    all_p_values[name] = results \n",
    "\n",
    "fig, ax = plt.subplots(figsize=(10,5))\n",
    "sns.heatmap(pd.DataFrame(all_p_values), annot=True, cmap=\"YlGnBu\", linewidths=0.3, ax=ax);\n",
    "ax.set_xlabel(r\"$\\rho$\", fontsize=14);\n",
    "ax.set_ylabel(\"number of tests\", fontsize=14);\n",
    "ax.set_title(\"BERT base p-values (cochran test) \\n\\ndataset: SNLI\\ntransformation: synonym substitution only H\\n\");\n",
    "fig.tight_layout()\n",
    "fig.savefig('figs/bert_base_p_values_cochran_snli_sin_h.png', bbox_inches=None, pad_inches=0.5)\n",
    "\n",
    "\n",
    "rhos = []\n",
    "acc_s = []\n",
    "acc_t_s = []\n",
    "\n",
    "for df in dfs:\n",
    "    acc = df.validation_accuracy.values\n",
    "    acc_s.append(acc)\n",
    "    acc_t = df.transformed_validation_accuracy.values\n",
    "    acc_t_s.append(acc_t)\n",
    "    rhos.append(df.rho.values[0])\n",
    "acc_s = np.array(acc_s)\n",
    "acc_t_s = np.array(acc_t_s)\n",
    "\n",
    "acc_c = [\"acc_{}\".format(i) for i in range(acc_s.shape[1])]\n",
    "acc_t_c = [\"acc_t_{}\".format(i) for i in range(acc_t_s.shape[1])]\n",
    "\n",
    "acc = pd.DataFrame(acc_s, index=rhos, columns=acc_c)\n",
    "acc.index.name = \"rho\"\n",
    "acc_t = pd.DataFrame(acc_t_s, index=rhos, columns=acc_t_c)\n",
    "acc_t.index.name = \"rho\"\n",
    "\n",
    "x = acc.mean(1).index\n",
    "y = acc.mean(1).values\n",
    "error = acc.std(1).values\n",
    "\n",
    "x_t = acc_t.mean(1).index\n",
    "y_t = acc_t.mean(1).values\n",
    "error_t = acc_t.std(1).values\n",
    "\n",
    "\n",
    "fig, ax = plt.subplots(figsize=(12,6))\n",
    "ax.errorbar(x, y, yerr=error, fmt='-o', label=\"original validation data\");\n",
    "ax.errorbar(x_t, y_t, yerr=error_t, fmt='-o', label=\"transformed validation data\");\n",
    "ax.legend(loc=\"best\");\n",
    "ax.set_xlabel(r\"$\\rho$\", fontsize=14);\n",
    "ax.set_ylabel(\"accuracy\", fontsize=14);\n",
    "ax.set_title(\"BERT base accuracy\\n\\ndataset: SNLI\\ntransformation: synonym substitution only H\\n\");\n",
    "fig.tight_layout()\n",
    "fig.savefig('figs/bert_base_acc_snli_sin_h.png', bbox_inches=None, pad_inches=0.5)"
   ]
  },
  {
   "cell_type": "code",
   "execution_count": null,
   "metadata": {},
   "outputs": [],
   "source": []
  },
  {
   "cell_type": "code",
   "execution_count": null,
   "metadata": {},
   "outputs": [],
   "source": []
  },
  {
   "cell_type": "code",
   "execution_count": null,
   "metadata": {},
   "outputs": [],
   "source": []
  },
  {
   "cell_type": "code",
   "execution_count": null,
   "metadata": {},
   "outputs": [],
   "source": []
  }
 ],
 "metadata": {
  "kernelspec": {
   "display_name": "Python 3",
   "language": "python",
   "name": "python3"
  },
  "language_info": {
   "codemirror_mode": {
    "name": "ipython",
    "version": 3
   },
   "file_extension": ".py",
   "mimetype": "text/x-python",
   "name": "python",
   "nbconvert_exporter": "python",
   "pygments_lexer": "ipython3",
   "version": "3.6.9"
  }
 },
 "nbformat": 4,
 "nbformat_minor": 2
}
