{
 "cells": [
  {
   "cell_type": "code",
   "execution_count": 1,
   "metadata": {},
   "outputs": [],
   "source": [
    "import pandas as pd\n",
    "import numpy as np\n",
    "import matplotlib.pyplot as plt\n",
    "import seaborn as sns\n",
    "from lr.text_processing.util import pre_process_nli_df\n",
    "from lr.training.util import get_ternary_label\n",
    "from lr.text_processing.transformations.structural import entailment_internalization\n",
    "from lr.text_processing.transformations.synonyms import toy_transformation\n",
    "from lr.stats.h_testing import DGP, get_matched_results, get_paired_t_statistic\n",
    "from lr.stats.h_testing import get_boot_sample_under_H0,get_boot_p_value\n",
    "from lr.stats.h_testing import  LIMts_test\n",
    "from lr.training.language_representation import Tfidf\n",
    "from lr.models.logistic_regression import LRWrapper\n",
    "import warnings\n",
    "warnings.filterwarnings(\"ignore\", category=RuntimeWarning)"
   ]
  },
  {
   "cell_type": "markdown",
   "metadata": {},
   "source": [
    "### Loading data"
   ]
  },
  {
   "cell_type": "code",
   "execution_count": 2,
   "metadata": {},
   "outputs": [],
   "source": [
    "train_path = \"data/toy/train.csv\"\n",
    "dev_path = \"data/toy/dev.csv\"\n",
    "train = pd.read_csv(train_path)\n",
    "dev = pd.read_csv(dev_path)\n",
    "pre_process_nli_df(train)\n",
    "pre_process_nli_df(dev)"
   ]
  },
  {
   "cell_type": "markdown",
   "metadata": {},
   "source": [
    "### Training a model using one version of the modified data"
   ]
  },
  {
   "cell_type": "code",
   "execution_count": 3,
   "metadata": {},
   "outputs": [],
   "source": [
    "max_features = 500\n",
    "rho = 0.001\n",
    "label_translation = get_ternary_label\n",
    "transformation = entailment_internalization \n",
    "\n",
    "dgp = DGP(data=train, transformation=transformation, rho=rho)\n",
    "train_t = dgp.get_sample()\n",
    "\n",
    "hyperparams = {\"RepresentationFunction\": Tfidf,\n",
    "               \"max_features\": max_features,\n",
    "               \"label_translation\": label_translation,\n",
    "               \"penalty\": \"l2\",\n",
    "               \"C\": 1.0,\n",
    "               'solver': 'lbfgs'}\n",
    "lr = LRWrapper(hyperparams)\n",
    "lr.fit(train_t)"
   ]
  },
  {
   "cell_type": "markdown",
   "metadata": {},
   "source": [
    "### Get t statistic for the observable results and matched results"
   ]
  },
  {
   "cell_type": "code",
   "execution_count": 4,
   "metadata": {},
   "outputs": [
    {
     "name": "stdout",
     "output_type": "stream",
     "text": [
      "-1.2964074471043285\n"
     ]
    }
   ],
   "source": [
    "dev_t = transformation(dev)\n",
    "\n",
    "results = get_matched_results(dev, dev_t, lr, lr.label_translation)\n",
    "t_obs = get_paired_t_statistic(results)\n",
    "\n",
    "print(t_obs)"
   ]
  },
  {
   "cell_type": "markdown",
   "metadata": {},
   "source": [
    "### Get $S$ bootstrap replications under H0"
   ]
  },
  {
   "cell_type": "code",
   "execution_count": 5,
   "metadata": {},
   "outputs": [],
   "source": [
    "S = 1000\n",
    "t_boots = []\n",
    "for _ in range(S):\n",
    "    boot_sample = get_boot_sample_under_H0(results)\n",
    "    t = get_paired_t_statistic(boot_sample)\n",
    "    t_boots.append(t)\n",
    "\n",
    "t_boots = pd.Series(t_boots)"
   ]
  },
  {
   "cell_type": "markdown",
   "metadata": {},
   "source": [
    "### Calculating the associated p-value"
   ]
  },
  {
   "cell_type": "code",
   "execution_count": 6,
   "metadata": {},
   "outputs": [
    {
     "data": {
      "image/png": "[encoded data removed]",
      "text/plain": [
       "<Figure size 720x360 with 1 Axes>"
      ]
     },
     "metadata": {
      "needs_background": "light"
     },
     "output_type": "display_data"
    }
   ],
   "source": [
    "p_value = get_boot_p_value(t_boots, t_obs)\n",
    "\n",
    "fig, ax = plt.subplots(figsize=(10,5))\n",
    "t_boots.hist(ax=ax, label=\"bootstrap replications\");\n",
    "plt.axvline(x=t_obs, color='r', linestyle='-', label=\"observed\");\n",
    "ax.set_xlabel(\"t\", fontsize=14);\n",
    "ax.set_ylabel(\"frequency\", fontsize=14);\n",
    "ax.set_title(\"Bootstrap test histogram (p-value = {:.8f})\".format(p_value) +\"\\n\", fontsize=16)\n",
    "plt.legend(loc=\"best\");"
   ]
  },
  {
   "cell_type": "markdown",
   "metadata": {},
   "source": [
    "### Performing multiple tests\n",
    "\n",
    "**test1: entailment internalization**"
   ]
  },
  {
   "cell_type": "code",
   "execution_count": 7,
   "metadata": {},
   "outputs": [
    {
     "data": {
      "text/html": [
       "<div>\n",
       "<style scoped>\n",
       "    .dataframe tbody tr th:only-of-type {\n",
       "        vertical-align: middle;\n",
       "    }\n",
       "\n",
       "    .dataframe tbody tr th {\n",
       "        vertical-align: top;\n",
       "    }\n",
       "\n",
       "    .dataframe thead th {\n",
       "        text-align: right;\n",
       "    }\n",
       "</style>\n",
       "<table border=\"1\" class=\"dataframe\">\n",
       "  <thead>\n",
       "    <tr style=\"text-align: right;\">\n",
       "      <th></th>\n",
       "      <th>m</th>\n",
       "      <th>train_accuracy_mean</th>\n",
       "      <th>train_accuracy_std</th>\n",
       "      <th>train_accuracy_ensemble</th>\n",
       "      <th>validation_accuracy</th>\n",
       "      <th>transformed_validation_accuracy</th>\n",
       "      <th>observable_t_stats</th>\n",
       "      <th>p_value</th>\n",
       "      <th>transformation_time</th>\n",
       "      <th>training_time</th>\n",
       "      <th>...</th>\n",
       "      <th>boot_t_991</th>\n",
       "      <th>boot_t_992</th>\n",
       "      <th>boot_t_993</th>\n",
       "      <th>boot_t_994</th>\n",
       "      <th>boot_t_995</th>\n",
       "      <th>boot_t_996</th>\n",
       "      <th>boot_t_997</th>\n",
       "      <th>boot_t_998</th>\n",
       "      <th>boot_t_999</th>\n",
       "      <th>boot_t_1000</th>\n",
       "    </tr>\n",
       "  </thead>\n",
       "  <tbody>\n",
       "    <tr>\n",
       "      <th>0</th>\n",
       "      <td>1</td>\n",
       "      <td>0.7650</td>\n",
       "      <td>0.0</td>\n",
       "      <td>0.7650</td>\n",
       "      <td>0.305</td>\n",
       "      <td>0.545</td>\n",
       "      <td>-7.947194</td>\n",
       "      <td>0.0</td>\n",
       "      <td>0.012666</td>\n",
       "      <td>0.150603</td>\n",
       "      <td>...</td>\n",
       "      <td>0.324528</td>\n",
       "      <td>0.437805</td>\n",
       "      <td>-0.982559</td>\n",
       "      <td>0.000000</td>\n",
       "      <td>-1.046351</td>\n",
       "      <td>-0.288735</td>\n",
       "      <td>-1.002509</td>\n",
       "      <td>0.000000</td>\n",
       "      <td>2.246624</td>\n",
       "      <td>-1.210455</td>\n",
       "    </tr>\n",
       "    <tr>\n",
       "      <th>1</th>\n",
       "      <td>2</td>\n",
       "      <td>0.7475</td>\n",
       "      <td>0.0</td>\n",
       "      <td>0.7475</td>\n",
       "      <td>0.315</td>\n",
       "      <td>0.565</td>\n",
       "      <td>-8.164966</td>\n",
       "      <td>0.0</td>\n",
       "      <td>0.013650</td>\n",
       "      <td>0.128646</td>\n",
       "      <td>...</td>\n",
       "      <td>0.308680</td>\n",
       "      <td>-0.674967</td>\n",
       "      <td>-0.134846</td>\n",
       "      <td>-1.581221</td>\n",
       "      <td>-1.210455</td>\n",
       "      <td>1.018633</td>\n",
       "      <td>-0.687614</td>\n",
       "      <td>-1.135009</td>\n",
       "      <td>-0.156183</td>\n",
       "      <td>0.420269</td>\n",
       "    </tr>\n",
       "    <tr>\n",
       "      <th>2</th>\n",
       "      <td>3</td>\n",
       "      <td>0.7475</td>\n",
       "      <td>0.0</td>\n",
       "      <td>0.7475</td>\n",
       "      <td>0.310</td>\n",
       "      <td>0.535</td>\n",
       "      <td>-7.620008</td>\n",
       "      <td>0.0</td>\n",
       "      <td>0.011135</td>\n",
       "      <td>0.142053</td>\n",
       "      <td>...</td>\n",
       "      <td>-1.614943</td>\n",
       "      <td>0.950825</td>\n",
       "      <td>0.145873</td>\n",
       "      <td>1.775233</td>\n",
       "      <td>-0.950825</td>\n",
       "      <td>-0.412257</td>\n",
       "      <td>1.727737</td>\n",
       "      <td>-0.164410</td>\n",
       "      <td>0.833494</td>\n",
       "      <td>1.187379</td>\n",
       "    </tr>\n",
       "    <tr>\n",
       "      <th>3</th>\n",
       "      <td>4</td>\n",
       "      <td>0.7400</td>\n",
       "      <td>0.0</td>\n",
       "      <td>0.7400</td>\n",
       "      <td>0.310</td>\n",
       "      <td>0.550</td>\n",
       "      <td>-7.947194</td>\n",
       "      <td>0.0</td>\n",
       "      <td>0.008762</td>\n",
       "      <td>0.138391</td>\n",
       "      <td>...</td>\n",
       "      <td>-0.674967</td>\n",
       "      <td>-0.140035</td>\n",
       "      <td>-0.420269</td>\n",
       "      <td>-1.339299</td>\n",
       "      <td>-0.850060</td>\n",
       "      <td>1.318761</td>\n",
       "      <td>-0.447437</td>\n",
       "      <td>-0.763604</td>\n",
       "      <td>0.000000</td>\n",
       "      <td>-0.817861</td>\n",
       "    </tr>\n",
       "    <tr>\n",
       "      <th>4</th>\n",
       "      <td>5</td>\n",
       "      <td>0.7500</td>\n",
       "      <td>0.0</td>\n",
       "      <td>0.7500</td>\n",
       "      <td>0.315</td>\n",
       "      <td>0.565</td>\n",
       "      <td>-8.164966</td>\n",
       "      <td>0.0</td>\n",
       "      <td>0.006273</td>\n",
       "      <td>0.130111</td>\n",
       "      <td>...</td>\n",
       "      <td>0.867654</td>\n",
       "      <td>-0.132459</td>\n",
       "      <td>-0.869884</td>\n",
       "      <td>0.000000</td>\n",
       "      <td>0.137367</td>\n",
       "      <td>0.590281</td>\n",
       "      <td>-0.145873</td>\n",
       "      <td>-2.575905</td>\n",
       "      <td>0.701000</td>\n",
       "      <td>-0.267309</td>\n",
       "    </tr>\n",
       "  </tbody>\n",
       "</table>\n",
       "<p>5 rows × 1011 columns</p>\n",
       "</div>"
      ],
      "text/plain": [
       "   m  train_accuracy_mean  train_accuracy_std  train_accuracy_ensemble  \\\n",
       "0  1               0.7650                 0.0                   0.7650   \n",
       "1  2               0.7475                 0.0                   0.7475   \n",
       "2  3               0.7475                 0.0                   0.7475   \n",
       "3  4               0.7400                 0.0                   0.7400   \n",
       "4  5               0.7500                 0.0                   0.7500   \n",
       "\n",
       "   validation_accuracy  transformed_validation_accuracy  observable_t_stats  \\\n",
       "0                0.305                            0.545           -7.947194   \n",
       "1                0.315                            0.565           -8.164966   \n",
       "2                0.310                            0.535           -7.620008   \n",
       "3                0.310                            0.550           -7.947194   \n",
       "4                0.315                            0.565           -8.164966   \n",
       "\n",
       "   p_value  transformation_time  training_time  ...  boot_t_991  boot_t_992  \\\n",
       "0      0.0             0.012666       0.150603  ...    0.324528    0.437805   \n",
       "1      0.0             0.013650       0.128646  ...    0.308680   -0.674967   \n",
       "2      0.0             0.011135       0.142053  ...   -1.614943    0.950825   \n",
       "3      0.0             0.008762       0.138391  ...   -0.674967   -0.140035   \n",
       "4      0.0             0.006273       0.130111  ...    0.867654   -0.132459   \n",
       "\n",
       "   boot_t_993  boot_t_994  boot_t_995  boot_t_996  boot_t_997  boot_t_998  \\\n",
       "0   -0.982559    0.000000   -1.046351   -0.288735   -1.002509    0.000000   \n",
       "1   -0.134846   -1.581221   -1.210455    1.018633   -0.687614   -1.135009   \n",
       "2    0.145873    1.775233   -0.950825   -0.412257    1.727737   -0.164410   \n",
       "3   -0.420269   -1.339299   -0.850060    1.318761   -0.447437   -0.763604   \n",
       "4   -0.869884    0.000000    0.137367    0.590281   -0.145873   -2.575905   \n",
       "\n",
       "   boot_t_999  boot_t_1000  \n",
       "0    2.246624    -1.210455  \n",
       "1   -0.156183     0.420269  \n",
       "2    0.833494     1.187379  \n",
       "3    0.000000    -0.817861  \n",
       "4    0.701000    -0.267309  \n",
       "\n",
       "[5 rows x 1011 columns]"
      ]
     },
     "execution_count": 7,
     "metadata": {},
     "output_type": "execute_result"
    }
   ],
   "source": [
    "M,E,S = 5,2,1000\n",
    "\n",
    "\n",
    "tests1 = LIMts_test(train=train,\n",
    "                    dev=dev,\n",
    "                    train_transformation=entailment_internalization,\n",
    "                    dev_transformation=entailment_internalization,\n",
    "                    rho=0.78,\n",
    "                    Model=LRWrapper,\n",
    "                    hyperparams=hyperparams,\n",
    "                    M=M,\n",
    "                    E=E,\n",
    "                    S=S)\n",
    "\n",
    "tests1"
   ]
  },
  {
   "cell_type": "markdown",
   "metadata": {},
   "source": [
    "### Diferent bootstrap distributions for each experiment"
   ]
  },
  {
   "cell_type": "code",
   "execution_count": 8,
   "metadata": {},
   "outputs": [
    {
     "data": {
      "text/plain": [
       "<matplotlib.axes._subplots.AxesSubplot at 0x7f317f0f3518>"
      ]
     },
     "execution_count": 8,
     "metadata": {},
     "output_type": "execute_result"
    },
    {
     "data": {
      "image/png": "[encoded data removed]",
      "text/plain": [
       "<Figure size 432x288 with 1 Axes>"
      ]
     },
     "metadata": {
      "needs_background": "light"
     },
     "output_type": "display_data"
    }
   ],
   "source": [
    "column_cropper(tests1,\"boot\").iloc[0].hist()\n",
    "column_cropper(tests1,\"boot\").iloc[1].hist()\n",
    "column_cropper(tests1,\"boot\").iloc[2].hist()"
   ]
  },
  {
   "cell_type": "markdown",
   "metadata": {},
   "source": [
    "**test2: toy transformation**"
   ]
  },
  {
   "cell_type": "code",
   "execution_count": 9,
   "metadata": {},
   "outputs": [
    {
     "data": {
      "text/html": [
       "<div>\n",
       "<style scoped>\n",
       "    .dataframe tbody tr th:only-of-type {\n",
       "        vertical-align: middle;\n",
       "    }\n",
       "\n",
       "    .dataframe tbody tr th {\n",
       "        vertical-align: top;\n",
       "    }\n",
       "\n",
       "    .dataframe thead th {\n",
       "        text-align: right;\n",
       "    }\n",
       "</style>\n",
       "<table border=\"1\" class=\"dataframe\">\n",
       "  <thead>\n",
       "    <tr style=\"text-align: right;\">\n",
       "      <th></th>\n",
       "      <th>m</th>\n",
       "      <th>train_accuracy_mean</th>\n",
       "      <th>train_accuracy_std</th>\n",
       "      <th>train_accuracy_ensemble</th>\n",
       "      <th>validation_accuracy</th>\n",
       "      <th>transformed_validation_accuracy</th>\n",
       "      <th>observable_t_stats</th>\n",
       "      <th>p_value</th>\n",
       "      <th>transformation_time</th>\n",
       "      <th>training_time</th>\n",
       "      <th>...</th>\n",
       "      <th>boot_t_991</th>\n",
       "      <th>boot_t_992</th>\n",
       "      <th>boot_t_993</th>\n",
       "      <th>boot_t_994</th>\n",
       "      <th>boot_t_995</th>\n",
       "      <th>boot_t_996</th>\n",
       "      <th>boot_t_997</th>\n",
       "      <th>boot_t_998</th>\n",
       "      <th>boot_t_999</th>\n",
       "      <th>boot_t_1000</th>\n",
       "    </tr>\n",
       "  </thead>\n",
       "  <tbody>\n",
       "    <tr>\n",
       "      <th>0</th>\n",
       "      <td>1</td>\n",
       "      <td>0.64875</td>\n",
       "      <td>0.0</td>\n",
       "      <td>0.64875</td>\n",
       "      <td>0.220</td>\n",
       "      <td>0.205</td>\n",
       "      <td>0.906390</td>\n",
       "      <td>0.360</td>\n",
       "      <td>0.007467</td>\n",
       "      <td>0.079197</td>\n",
       "      <td>...</td>\n",
       "      <td>0.728572</td>\n",
       "      <td>-0.577832</td>\n",
       "      <td>0.000000</td>\n",
       "      <td>0.000000</td>\n",
       "      <td>1.002509</td>\n",
       "      <td>0.000000</td>\n",
       "      <td>0.817861</td>\n",
       "      <td>-0.633089</td>\n",
       "      <td>-0.707992</td>\n",
       "      <td>0.707992</td>\n",
       "    </tr>\n",
       "    <tr>\n",
       "      <th>1</th>\n",
       "      <td>2</td>\n",
       "      <td>0.64375</td>\n",
       "      <td>0.0</td>\n",
       "      <td>0.64375</td>\n",
       "      <td>0.205</td>\n",
       "      <td>0.230</td>\n",
       "      <td>-1.678363</td>\n",
       "      <td>0.082</td>\n",
       "      <td>0.004862</td>\n",
       "      <td>0.079196</td>\n",
       "      <td>...</td>\n",
       "      <td>0.447437</td>\n",
       "      <td>2.134484</td>\n",
       "      <td>0.633089</td>\n",
       "      <td>-0.333426</td>\n",
       "      <td>1.002509</td>\n",
       "      <td>-0.707992</td>\n",
       "      <td>-0.333426</td>\n",
       "      <td>-0.378100</td>\n",
       "      <td>-0.301580</td>\n",
       "      <td>-0.817861</td>\n",
       "    </tr>\n",
       "    <tr>\n",
       "      <th>2</th>\n",
       "      <td>3</td>\n",
       "      <td>0.64750</td>\n",
       "      <td>0.0</td>\n",
       "      <td>0.64750</td>\n",
       "      <td>0.220</td>\n",
       "      <td>0.225</td>\n",
       "      <td>-0.378100</td>\n",
       "      <td>0.764</td>\n",
       "      <td>0.004286</td>\n",
       "      <td>0.051267</td>\n",
       "      <td>...</td>\n",
       "      <td>-0.447437</td>\n",
       "      <td>0.000000</td>\n",
       "      <td>1.002509</td>\n",
       "      <td>2.145596</td>\n",
       "      <td>-0.906390</td>\n",
       "      <td>1.002509</td>\n",
       "      <td>0.000000</td>\n",
       "      <td>1.347719</td>\n",
       "      <td>0.000000</td>\n",
       "      <td>0.000000</td>\n",
       "    </tr>\n",
       "    <tr>\n",
       "      <th>3</th>\n",
       "      <td>4</td>\n",
       "      <td>0.64875</td>\n",
       "      <td>0.0</td>\n",
       "      <td>0.64875</td>\n",
       "      <td>0.215</td>\n",
       "      <td>0.225</td>\n",
       "      <td>-1.002509</td>\n",
       "      <td>0.332</td>\n",
       "      <td>0.005410</td>\n",
       "      <td>0.052447</td>\n",
       "      <td>...</td>\n",
       "      <td>0.000000</td>\n",
       "      <td>0.817861</td>\n",
       "      <td>-1.421338</td>\n",
       "      <td>0.447437</td>\n",
       "      <td>0.378100</td>\n",
       "      <td>0.447437</td>\n",
       "      <td>2.264554</td>\n",
       "      <td>-1.745189</td>\n",
       "      <td>-1.643990</td>\n",
       "      <td>1.745189</td>\n",
       "    </tr>\n",
       "    <tr>\n",
       "      <th>4</th>\n",
       "      <td>5</td>\n",
       "      <td>0.65250</td>\n",
       "      <td>0.0</td>\n",
       "      <td>0.65250</td>\n",
       "      <td>0.215</td>\n",
       "      <td>0.225</td>\n",
       "      <td>-1.002509</td>\n",
       "      <td>0.358</td>\n",
       "      <td>0.005289</td>\n",
       "      <td>0.059158</td>\n",
       "      <td>...</td>\n",
       "      <td>1.643990</td>\n",
       "      <td>-1.643990</td>\n",
       "      <td>-2.487080</td>\n",
       "      <td>-0.577832</td>\n",
       "      <td>0.000000</td>\n",
       "      <td>NaN</td>\n",
       "      <td>0.577832</td>\n",
       "      <td>0.000000</td>\n",
       "      <td>1.906925</td>\n",
       "      <td>0.817861</td>\n",
       "    </tr>\n",
       "  </tbody>\n",
       "</table>\n",
       "<p>5 rows × 1011 columns</p>\n",
       "</div>"
      ],
      "text/plain": [
       "   m  train_accuracy_mean  train_accuracy_std  train_accuracy_ensemble  \\\n",
       "0  1              0.64875                 0.0                  0.64875   \n",
       "1  2              0.64375                 0.0                  0.64375   \n",
       "2  3              0.64750                 0.0                  0.64750   \n",
       "3  4              0.64875                 0.0                  0.64875   \n",
       "4  5              0.65250                 0.0                  0.65250   \n",
       "\n",
       "   validation_accuracy  transformed_validation_accuracy  observable_t_stats  \\\n",
       "0                0.220                            0.205            0.906390   \n",
       "1                0.205                            0.230           -1.678363   \n",
       "2                0.220                            0.225           -0.378100   \n",
       "3                0.215                            0.225           -1.002509   \n",
       "4                0.215                            0.225           -1.002509   \n",
       "\n",
       "   p_value  transformation_time  training_time  ...  boot_t_991  boot_t_992  \\\n",
       "0    0.360             0.007467       0.079197  ...    0.728572   -0.577832   \n",
       "1    0.082             0.004862       0.079196  ...    0.447437    2.134484   \n",
       "2    0.764             0.004286       0.051267  ...   -0.447437    0.000000   \n",
       "3    0.332             0.005410       0.052447  ...    0.000000    0.817861   \n",
       "4    0.358             0.005289       0.059158  ...    1.643990   -1.643990   \n",
       "\n",
       "   boot_t_993  boot_t_994  boot_t_995  boot_t_996  boot_t_997  boot_t_998  \\\n",
       "0    0.000000    0.000000    1.002509    0.000000    0.817861   -0.633089   \n",
       "1    0.633089   -0.333426    1.002509   -0.707992   -0.333426   -0.378100   \n",
       "2    1.002509    2.145596   -0.906390    1.002509    0.000000    1.347719   \n",
       "3   -1.421338    0.447437    0.378100    0.447437    2.264554   -1.745189   \n",
       "4   -2.487080   -0.577832    0.000000         NaN    0.577832    0.000000   \n",
       "\n",
       "   boot_t_999  boot_t_1000  \n",
       "0   -0.707992     0.707992  \n",
       "1   -0.301580    -0.817861  \n",
       "2    0.000000     0.000000  \n",
       "3   -1.643990     1.745189  \n",
       "4    1.906925     0.817861  \n",
       "\n",
       "[5 rows x 1011 columns]"
      ]
     },
     "execution_count": 9,
     "metadata": {},
     "output_type": "execute_result"
    }
   ],
   "source": [
    "tests2 = LIMts_test(train=train,\n",
    "                   dev=dev,\n",
    "                   train_transformation=toy_transformation,\n",
    "                   dev_transformation=toy_transformation,\n",
    "                   rho=0.78,\n",
    "                   Model=LRWrapper,\n",
    "                   hyperparams=hyperparams,\n",
    "                   M=M,\n",
    "                   E=1,\n",
    "                   S=S)\n",
    "\n",
    "tests2"
   ]
  },
  {
   "cell_type": "code",
   "execution_count": 10,
   "metadata": {},
   "outputs": [
    {
     "data": {
      "text/plain": [
       "<matplotlib.axes._subplots.AxesSubplot at 0x7f317f08e5c0>"
      ]
     },
     "execution_count": 10,
     "metadata": {},
     "output_type": "execute_result"
    },
    {
     "data": {
      "image/png": "[encoded data removed]",
      "text/plain": [
       "<Figure size 432x288 with 1 Axes>"
      ]
     },
     "metadata": {
      "needs_background": "light"
     },
     "output_type": "display_data"
    }
   ],
   "source": [
    "column_cropper(tests2,\"boot\").iloc[0].hist()\n",
    "column_cropper(tests2,\"boot\").iloc[1].hist()\n",
    "column_cropper(tests2,\"boot\").iloc[2].hist()"
   ]
  },
  {
   "cell_type": "code",
   "execution_count": 11,
   "metadata": {},
   "outputs": [],
   "source": [
    "assert np.any(tests1.p_value < (0.05/M))\n",
    "assert not np.any(tests2.p_value < (0.05/M))"
   ]
  },
  {
   "cell_type": "code",
   "execution_count": null,
   "metadata": {},
   "outputs": [],
   "source": []
  }
 ],
 "metadata": {
  "kernelspec": {
   "display_name": "Python 3",
   "language": "python",
   "name": "python3"
  },
  "language_info": {
   "codemirror_mode": {
    "name": "ipython",
    "version": 3
   },
   "file_extension": ".py",
   "mimetype": "text/x-python",
   "name": "python",
   "nbconvert_exporter": "python",
   "pygments_lexer": "ipython3",
   "version": "3.6.8"
  }
 },
 "nbformat": 4,
 "nbformat_minor": 2
}
