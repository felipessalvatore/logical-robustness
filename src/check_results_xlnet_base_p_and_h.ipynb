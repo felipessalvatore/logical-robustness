{
 "cells": [
  {
   "cell_type": "markdown",
   "metadata": {},
   "source": [
    "# Results for XLNet when applying syn tranformation to both premise and hypothesis"
   ]
  },
  {
   "cell_type": "code",
   "execution_count": 1,
   "metadata": {},
   "outputs": [],
   "source": [
    "import pandas as pd\n",
    "import os\n",
    "import numpy as np\n",
    "import matplotlib.pyplot as plt\n",
    "import seaborn as sns\n",
    "from tqdm import tqdm\n",
    "from IPython.display import display, HTML \n",
    "from lr.analysis.util import get_ts_from_results_folder \n",
    "from lr.analysis.util import get_rho_stats_from_result_list\n",
    "from lr.stats.h_testing import get_ks_stats_from_p_values_compared_to_uniform_dist"
   ]
  },
  {
   "cell_type": "markdown",
   "metadata": {},
   "source": [
    "## Get Results"
   ]
  },
  {
   "cell_type": "code",
   "execution_count": 2,
   "metadata": {},
   "outputs": [
    {
     "name": "stderr",
     "output_type": "stream",
     "text": [
      "100%|██████████| 12/12 [00:01<00:00, 11.15it/s]\n"
     ]
    }
   ],
   "source": [
    "all_accs = []\n",
    "all_transformed_accs = []\n",
    "all_paired_t_p_values = []\n",
    "all_dev_plus_diff = []\n",
    "all_time = []\n",
    "\n",
    "m_name = \"xlnet_base\"\n",
    "test_repetitions = 12\n",
    "batchs = range(1, test_repetitions + 1)\n",
    "# batchs = [1, 2, 3, 5]\n",
    "\n",
    "for i in tqdm(batchs):\n",
    "    test_accuracy  = get_ts_from_results_folder(path=\"results/snli/{}/syn_p_h/batch{}/\".format(m_name, i),\n",
    "                                                 stat=\"test_accuracy\")\n",
    "    \n",
    "    transformed_test_accuracy = get_ts_from_results_folder(path=\"results/snli/{}/syn_p_h/batch{}/\".format(m_name, i),\n",
    "                                                           stat=\"transformed_test_accuracy\")\n",
    "    \n",
    "    paired_t_p_value  = get_ts_from_results_folder(path=\"results/snli/{}/syn_p_h/batch{}/\".format(m_name, i),\n",
    "                                                    stat=\"paired_t_p_value\")\n",
    "    \n",
    "    diff  = get_ts_from_results_folder(path=\"results/snli/{}/syn_p_h/batch{}/\".format(m_name, i),\n",
    "                                                    stat=\"dev_plus_accuracy_difference\")\n",
    "    \n",
    "    t_time  = get_ts_from_results_folder(path=\"results/snli/{}/syn_p_h/batch{}/\".format(m_name,i),\n",
    "                                                    stat=\"test_time\")\n",
    "\n",
    "    \n",
    "    all_accs.append(test_accuracy)\n",
    "    all_transformed_accs.append(transformed_test_accuracy)\n",
    "    all_paired_t_p_values.append(paired_t_p_value)\n",
    "    all_dev_plus_diff.append(diff)\n",
    "    all_time.append(t_time)"
   ]
  },
  {
   "cell_type": "code",
   "execution_count": 9,
   "metadata": {},
   "outputs": [
    {
     "data": {
      "text/html": [
       "<div>\n",
       "<style scoped>\n",
       "    .dataframe tbody tr th:only-of-type {\n",
       "        vertical-align: middle;\n",
       "    }\n",
       "\n",
       "    .dataframe tbody tr th {\n",
       "        vertical-align: top;\n",
       "    }\n",
       "\n",
       "    .dataframe thead th {\n",
       "        text-align: right;\n",
       "    }\n",
       "</style>\n",
       "<table border=\"1\" class=\"dataframe\">\n",
       "  <thead>\n",
       "    <tr style=\"text-align: right;\">\n",
       "      <th></th>\n",
       "      <th>1</th>\n",
       "      <th>2</th>\n",
       "      <th>3</th>\n",
       "      <th>4</th>\n",
       "      <th>5</th>\n",
       "      <th>6</th>\n",
       "      <th>7</th>\n",
       "      <th>8</th>\n",
       "      <th>9</th>\n",
       "      <th>10</th>\n",
       "      <th>11</th>\n",
       "      <th>12</th>\n",
       "    </tr>\n",
       "  </thead>\n",
       "  <tbody>\n",
       "    <tr>\n",
       "      <th>0.0</th>\n",
       "      <td>0.813721</td>\n",
       "      <td>0.342834</td>\n",
       "      <td>0.342834</td>\n",
       "      <td>0.342834</td>\n",
       "      <td>0.769951</td>\n",
       "      <td>0.342834</td>\n",
       "      <td>0.802219</td>\n",
       "      <td>0.329499</td>\n",
       "      <td>0.329499</td>\n",
       "      <td>0.844564</td>\n",
       "      <td>0.327667</td>\n",
       "      <td>0.849959</td>\n",
       "    </tr>\n",
       "    <tr>\n",
       "      <th>0.2</th>\n",
       "      <td>0.578888</td>\n",
       "      <td>0.845480</td>\n",
       "      <td>0.792651</td>\n",
       "      <td>0.798453</td>\n",
       "      <td>0.329499</td>\n",
       "      <td>0.854743</td>\n",
       "      <td>0.329499</td>\n",
       "      <td>0.774735</td>\n",
       "      <td>0.787052</td>\n",
       "      <td>0.342834</td>\n",
       "      <td>0.000000</td>\n",
       "      <td>0.000000</td>\n",
       "    </tr>\n",
       "    <tr>\n",
       "      <th>0.4</th>\n",
       "      <td>0.847211</td>\n",
       "      <td>0.462235</td>\n",
       "      <td>0.813314</td>\n",
       "      <td>0.727199</td>\n",
       "      <td>0.827260</td>\n",
       "      <td>0.742162</td>\n",
       "      <td>0.849145</td>\n",
       "      <td>0.000000</td>\n",
       "      <td>0.000000</td>\n",
       "      <td>0.000000</td>\n",
       "      <td>0.000000</td>\n",
       "      <td>0.000000</td>\n",
       "    </tr>\n",
       "    <tr>\n",
       "      <th>0.5</th>\n",
       "      <td>0.342834</td>\n",
       "      <td>0.329499</td>\n",
       "      <td>0.342834</td>\n",
       "      <td>0.342834</td>\n",
       "      <td>0.327667</td>\n",
       "      <td>0.833469</td>\n",
       "      <td>0.769951</td>\n",
       "      <td>0.841409</td>\n",
       "      <td>0.841816</td>\n",
       "      <td>0.342834</td>\n",
       "      <td>0.745419</td>\n",
       "      <td>0.000000</td>\n",
       "    </tr>\n",
       "    <tr>\n",
       "      <th>0.6</th>\n",
       "      <td>0.327667</td>\n",
       "      <td>0.329499</td>\n",
       "      <td>0.329499</td>\n",
       "      <td>0.329499</td>\n",
       "      <td>0.610953</td>\n",
       "      <td>0.827565</td>\n",
       "      <td>0.837134</td>\n",
       "      <td>0.825835</td>\n",
       "      <td>0.342834</td>\n",
       "      <td>0.821661</td>\n",
       "      <td>0.000000</td>\n",
       "      <td>0.000000</td>\n",
       "    </tr>\n",
       "    <tr>\n",
       "      <th>0.8</th>\n",
       "      <td>0.766287</td>\n",
       "      <td>0.825733</td>\n",
       "      <td>0.329499</td>\n",
       "      <td>0.724552</td>\n",
       "      <td>0.771173</td>\n",
       "      <td>0.698188</td>\n",
       "      <td>0.342834</td>\n",
       "      <td>0.843648</td>\n",
       "      <td>0.000000</td>\n",
       "      <td>0.000000</td>\n",
       "      <td>0.000000</td>\n",
       "      <td>0.000000</td>\n",
       "    </tr>\n",
       "    <tr>\n",
       "      <th>1.0</th>\n",
       "      <td>0.822679</td>\n",
       "      <td>0.838253</td>\n",
       "      <td>0.342834</td>\n",
       "      <td>0.833774</td>\n",
       "      <td>0.342834</td>\n",
       "      <td>0.814332</td>\n",
       "      <td>0.327667</td>\n",
       "      <td>0.342834</td>\n",
       "      <td>0.824410</td>\n",
       "      <td>0.327667</td>\n",
       "      <td>0.703685</td>\n",
       "      <td>0.000000</td>\n",
       "    </tr>\n",
       "  </tbody>\n",
       "</table>\n",
       "</div>"
      ],
      "text/plain": [
       "            1         2         3         4         5         6         7  \\\n",
       "0.0  0.813721  0.342834  0.342834  0.342834  0.769951  0.342834  0.802219   \n",
       "0.2  0.578888  0.845480  0.792651  0.798453  0.329499  0.854743  0.329499   \n",
       "0.4  0.847211  0.462235  0.813314  0.727199  0.827260  0.742162  0.849145   \n",
       "0.5  0.342834  0.329499  0.342834  0.342834  0.327667  0.833469  0.769951   \n",
       "0.6  0.327667  0.329499  0.329499  0.329499  0.610953  0.827565  0.837134   \n",
       "0.8  0.766287  0.825733  0.329499  0.724552  0.771173  0.698188  0.342834   \n",
       "1.0  0.822679  0.838253  0.342834  0.833774  0.342834  0.814332  0.327667   \n",
       "\n",
       "            8         9        10        11        12  \n",
       "0.0  0.329499  0.329499  0.844564  0.327667  0.849959  \n",
       "0.2  0.774735  0.787052  0.342834  0.000000  0.000000  \n",
       "0.4  0.000000  0.000000  0.000000  0.000000  0.000000  \n",
       "0.5  0.841409  0.841816  0.342834  0.745419  0.000000  \n",
       "0.6  0.825835  0.342834  0.821661  0.000000  0.000000  \n",
       "0.8  0.843648  0.000000  0.000000  0.000000  0.000000  \n",
       "1.0  0.342834  0.824410  0.327667  0.703685  0.000000  "
      ]
     },
     "execution_count": 9,
     "metadata": {},
     "output_type": "execute_result"
    }
   ],
   "source": [
    "df = pd.concat(all_accs,1)\n",
    "df.columns = batchs\n",
    "df"
   ]
  },
  {
   "cell_type": "code",
   "execution_count": null,
   "metadata": {},
   "outputs": [],
   "source": [
    "fsfsfsf"
   ]
  },
  {
   "cell_type": "code",
   "execution_count": 4,
   "metadata": {},
   "outputs": [
    {
     "name": "stdout",
     "output_type": "stream",
     "text": [
      "Time for all experiments = 368.2 hours\n"
     ]
    }
   ],
   "source": [
    "total_time = pd.concat(all_time,1).sum().sum()\n",
    "n_params = 125238531\n",
    "print(\"Time for all experiments = {:.1f} hours\".format(total_time))\n",
    "# print(\"Number of paramaters for RoBERTa = {}\".format(n_params))"
   ]
  },
  {
   "cell_type": "markdown",
   "metadata": {},
   "source": [
    "## Accuracy"
   ]
  },
  {
   "cell_type": "code",
   "execution_count": null,
   "metadata": {},
   "outputs": [],
   "source": [
    "rhos, mean_acc, error_acc, _ = get_rho_stats_from_result_list(all_accs)\n",
    "\n",
    "_, mean_acc_t, error_acc_t, _ = get_rho_stats_from_result_list(all_transformed_accs)\n",
    "\n",
    "fig, ax = plt.subplots(figsize=(12,6))\n",
    "ax.errorbar(rhos, mean_acc, yerr=error_acc, fmt='-o', label=\"original test data\");\n",
    "ax.errorbar(rhos, mean_acc_t, yerr=error_acc_t, fmt='-o', label=\"transformed test data\");\n",
    "ax.legend(loc=\"best\");\n",
    "ax.set_xlabel(r\"$\\rho$\", fontsize=14);\n",
    "ax.set_ylabel(\"accuracy\", fontsize=14);\n",
    "ax.set_title(\"XLNet accuracy\\n\\ndataset: SNLI\\ntransformation: synonym substitution\\ntest repetitions: {}\\n\".format(test_repetitions));\n",
    "fig.tight_layout()\n",
    "fig.savefig('figs/xlnet_base_acc_snli_syn_p_h.png', bbox_inches=None, pad_inches=0.5)"
   ]
  },
  {
   "cell_type": "markdown",
   "metadata": {},
   "source": [
    "## P-values"
   ]
  },
  {
   "cell_type": "code",
   "execution_count": null,
   "metadata": {},
   "outputs": [],
   "source": [
    "rhos, mean_p_values, error_p_values, min_p_values = get_rho_stats_from_result_list(all_paired_t_p_values)\n",
    "\n",
    "alpha = 0.05\n",
    "alpha_adj = alpha / test_repetitions\n",
    "\n",
    "rejected_ids = []\n",
    "remain_ids = []\n",
    "\n",
    "for i,p in enumerate(min_p_values):\n",
    "    if p < alpha_adj:\n",
    "        rejected_ids.append(i)\n",
    "    else:\n",
    "        remain_ids.append(i)\n",
    "        \n",
    "rhos_rejected = rhos[rejected_ids]\n",
    "rhos_remain = rhos[remain_ids]\n",
    "y_rejected = mean_p_values[rejected_ids]\n",
    "y_remain = mean_p_values[remain_ids]\n",
    "error_rejected = error_p_values[rejected_ids]\n",
    "error_remain = error_p_values[remain_ids]\n",
    "\n",
    "title_msg = \"XLNet p-values\\n\\ndataset:\"\n",
    "title_msg += \"SNLI\\ntransformation: synonym substitution\\ntest repetitions: {}\\n\".format(test_repetitions)\n",
    "title_msg += \"significance level = {:.1%} \\n\".format(alpha)\n",
    "title_msg += \"adjusted significance level = {:.2%} \\n\".format(alpha_adj)\n",
    "\n",
    "\n",
    "fig, ax = plt.subplots(figsize=(12,6))\n",
    "ax.errorbar(rhos_rejected, y_rejected, yerr=error_rejected, fmt='o', linewidth=0.50, label=\"at least one p-value is smaller than {:.2%}\".format(alpha_adj));\n",
    "ax.errorbar(rhos_remain, y_remain, yerr=error_remain, fmt='o', linewidth=0.50, label=\"all p-values are greater than {:.2%}\".format(alpha_adj));\n",
    "ax.legend(loc=\"best\");\n",
    "ax.set_xlabel(r\"$\\rho$\", fontsize=14);\n",
    "ax.set_ylabel(\"p-value\", fontsize=14);\n",
    "ax.set_title(title_msg);\n",
    "fig.tight_layout()\n",
    "fig.tight_layout()\n",
    "fig.savefig('figs/xlnet_p_values_snli_syn_p_h.png', bbox_inches=None, pad_inches=0.5)"
   ]
  },
  {
   "cell_type": "markdown",
   "metadata": {},
   "source": [
    "## Accuracy difference"
   ]
  },
  {
   "cell_type": "code",
   "execution_count": null,
   "metadata": {},
   "outputs": [],
   "source": [
    "rhos, diff, _,_ = get_rho_stats_from_result_list(all_dev_plus_diff)\n",
    "_, test_acc, _,_ = get_rho_stats_from_result_list(all_accs)\n",
    "_, test_acc_t, _,_ = get_rho_stats_from_result_list(all_transformed_accs)\n",
    "test_diff = np.abs(test_acc - test_acc_t)\n",
    "\n",
    "fig, ax = plt.subplots(figsize=(12,6))\n",
    "ax.errorbar(rhos, diff, fmt='-o', label=\"validation\");\n",
    "ax.errorbar(rhos, test_diff, fmt='-o', label=\"test\");\n",
    "\n",
    "ax.legend(loc=\"best\");\n",
    "ax.set_xlabel(r\"$\\rho$\", fontsize=14);\n",
    "ax.set_ylabel(\"average accuracy difference\", fontsize=14);\n",
    "ax.set_title(\"XLNet accuracy difference\\n\\ndataset: SNLI\\ntransformation: synonym substitution\\ntest repetitions: {}\\n\".format(test_repetitions));\n",
    "fig.tight_layout()\n",
    "fig.savefig('figs/xlnet_acc_diff_snli_syn_p_h.png', bbox_inches=None, pad_inches=0.5)"
   ]
  },
  {
   "cell_type": "markdown",
   "metadata": {},
   "source": [
    "## Selecting the best $\\rho$"
   ]
  },
  {
   "cell_type": "code",
   "execution_count": null,
   "metadata": {},
   "outputs": [],
   "source": [
    "id_min = np.argmin(diff)\n",
    "min_rho = rhos[id_min]\n",
    "min_rho_test_acc = test_acc[id_min]\n",
    "min_rho_transformed_test_acc = test_acc_t[id_min]\n",
    "test_accuracy_loss_pct = np.round(((min_rho_test_acc  - test_acc[0]) / test_acc[0]) * 100, 1)\n",
    "\n",
    "analysis = {\"dataset\":\"snli\",\n",
    "            \"model\": \"XLNet\",\n",
    "            \"rho\":min_rho,\n",
    "            \"test_accuracy_loss_pct\": test_accuracy_loss_pct,\n",
    "            \"average_test_accuracy\": min_rho_test_acc,\n",
    "            \"average_transformed_test_accuracy\": min_rho_transformed_test_acc,\n",
    "            \"combined_accuracy\": np.mean([min_rho_test_acc,min_rho_transformed_test_acc])}\n",
    "analysis = pd.DataFrame(analysis, index=[0])\n",
    "analysis"
   ]
  },
  {
   "cell_type": "code",
   "execution_count": null,
   "metadata": {},
   "outputs": [],
   "source": []
  },
  {
   "cell_type": "code",
   "execution_count": null,
   "metadata": {},
   "outputs": [],
   "source": []
  }
 ],
 "metadata": {
  "kernelspec": {
   "display_name": "Python 3",
   "language": "python",
   "name": "python3"
  },
  "language_info": {
   "codemirror_mode": {
    "name": "ipython",
    "version": 3
   },
   "file_extension": ".py",
   "mimetype": "text/x-python",
   "name": "python",
   "nbconvert_exporter": "python",
   "pygments_lexer": "ipython3",
   "version": "3.6.9"
  }
 },
 "nbformat": 4,
 "nbformat_minor": 2
}
