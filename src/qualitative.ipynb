{
 "cells": [
  {
   "cell_type": "markdown",
   "metadata": {},
   "source": [
    "# Qualitative Analysis"
   ]
  },
  {
   "cell_type": "code",
   "execution_count": 1,
   "metadata": {},
   "outputs": [],
   "source": [
    "import pandas as pd\n",
    "import os\n",
    "import re\n",
    "import numpy as np\n",
    "import matplotlib.pyplot as plt\n",
    "import seaborn as sns\n",
    "from tqdm import tqdm\n",
    "from IPython.display import display, HTML, Markdown\n",
    "from lr.text_processing.util import pre_process_nli_df\n",
    "from collections import Counter"
   ]
  },
  {
   "cell_type": "markdown",
   "metadata": {},
   "source": [
    "## When $\\rho=0$ which test examples are affected by the transformation?"
   ]
  },
  {
   "cell_type": "code",
   "execution_count": 2,
   "metadata": {},
   "outputs": [],
   "source": [
    "m_name = \"roberta_base\"\n",
    "data = \"snli\"\n",
    "batch = 2\n",
    "path = \"raw_results/{}/{}/syn_p_h/batch{}/rho_0p00_results.csv\".format(data, m_name, batch)\n",
    "df = pd.read_csv(path)\n",
    "\n",
    "snli_trans = pd.read_csv(\"data/{}/test_p_h_syn_noun.csv\".format(data))\n",
    "sin_noun = pd.read_csv(\"data/{}/syn_noun.csv\".format(data))\n",
    "key2id = {k:i for k,i in zip(sin_noun.key,sin_noun.index)}\n",
    "f = lambda k: key2id[k]"
   ]
  },
  {
   "cell_type": "code",
   "execution_count": 3,
   "metadata": {},
   "outputs": [],
   "source": [
    "def filter_df_by_label(df, drop_label='-'):\n",
    "    \"\"\"\n",
    "    drop observations with label 'drop_label'\n",
    "    \"\"\"\n",
    "    return df.loc[df.label != drop_label]"
   ]
  },
  {
   "cell_type": "code",
   "execution_count": 4,
   "metadata": {},
   "outputs": [],
   "source": [
    "snli_ori = pd.read_csv(\"data/{}/test.csv\".format(data))\n",
    "snli_ori = filter_df_by_label(snli_ori)\n",
    "pre_process_nli_df(snli_ori)\n",
    "snli_ori = snli_ori.reset_index(drop=True)"
   ]
  },
  {
   "cell_type": "code",
   "execution_count": 5,
   "metadata": {},
   "outputs": [
    {
     "data": {
      "text/markdown": [
       "### When $\\rho=0.0$, the number of disrupted sentences (1 to 0) is 616 (6.3% of the test data)"
      ],
      "text/plain": [
       "<IPython.core.display.Markdown object>"
      ]
     },
     "metadata": {},
     "output_type": "display_data"
    },
    {
     "data": {
      "text/html": [
       "<table border=\"1\" class=\"dataframe\">\n",
       "  <thead>\n",
       "    <tr style=\"text-align: right;\">\n",
       "      <th></th>\n",
       "      <th>premise</th>\n",
       "      <th>hypothesis</th>\n",
       "      <th>label</th>\n",
       "      <th>premise_2</th>\n",
       "      <th>hypothesis_2</th>\n",
       "      <th>label_2</th>\n",
       "    </tr>\n",
       "  </thead>\n",
       "  <tbody>\n",
       "    <tr>\n",
       "      <th>31</th>\n",
       "      <td>3 young man in hoods standing in the middle of a quiet street facing the camera</td>\n",
       "      <td>three hood wearing people pose for a picture</td>\n",
       "      <td>entailment</td>\n",
       "      <td>3 young adult male in hoods standing in the center of a quiet street facing the photographic camera</td>\n",
       "      <td>three punk wearing people pose for a image</td>\n",
       "      <td>entailment</td>\n",
       "    </tr>\n",
       "    <tr>\n",
       "      <th>32</th>\n",
       "      <td>3 young man in hoods standing in the middle of a quiet street facing the camera</td>\n",
       "      <td>three hood wearing people stand in a street</td>\n",
       "      <td>entailment</td>\n",
       "      <td>3 young adult male in hoods standing in the center of a quiet street facing the photographic camera</td>\n",
       "      <td>three punk wearing people base in a street</td>\n",
       "      <td>entailment</td>\n",
       "    </tr>\n",
       "    <tr>\n",
       "      <th>44</th>\n",
       "      <td>male in a blue jacket decides to lay in the grass</td>\n",
       "      <td>the guy wearing a blue jacket is laying on the green grass taking a nap</td>\n",
       "      <td>neutral</td>\n",
       "      <td>male in a blue jacket decides to ballad in the grass</td>\n",
       "      <td>the guy wearing a blue jacket is laying on the green grass taking a sleep</td>\n",
       "      <td>neutral</td>\n",
       "    </tr>\n",
       "  </tbody>\n",
       "</table>"
      ],
      "text/plain": [
       "<IPython.core.display.HTML object>"
      ]
     },
     "metadata": {},
     "output_type": "display_data"
    }
   ],
   "source": [
    "ids = df.loc[(df.A==1) & (df.B==0)]\n",
    "ids = ids.index.tolist()\n",
    "n = len(ids)\n",
    "pct = n/df.shape[0]\n",
    "display(Markdown(r\"### When $\\rho=0.0$, the number of disrupted sentences (1 to 0) is {} ({:.1%} of the test data)\".format(n,pct)))\n",
    "comb = pd.concat([snli_ori, snli_trans.add_suffix(\"_2\")],1)\n",
    "comb = comb.loc[ids] \n",
    "display(HTML(comb.head(3).to_html()))"
   ]
  },
  {
   "cell_type": "markdown",
   "metadata": {},
   "source": [
    "## What are the most commom transformations that appear on the error pairs?"
   ]
  },
  {
   "cell_type": "code",
   "execution_count": 6,
   "metadata": {},
   "outputs": [
    {
     "data": {
      "text/html": [
       "<div>\n",
       "<style scoped>\n",
       "    .dataframe tbody tr th:only-of-type {\n",
       "        vertical-align: middle;\n",
       "    }\n",
       "\n",
       "    .dataframe tbody tr th {\n",
       "        vertical-align: top;\n",
       "    }\n",
       "\n",
       "    .dataframe thead th {\n",
       "        text-align: right;\n",
       "    }\n",
       "</style>\n",
       "<table border=\"1\" class=\"dataframe\">\n",
       "  <thead>\n",
       "    <tr style=\"text-align: right;\">\n",
       "      <th></th>\n",
       "      <th>key</th>\n",
       "      <th>value</th>\n",
       "      <th>freq</th>\n",
       "    </tr>\n",
       "  </thead>\n",
       "  <tbody>\n",
       "    <tr>\n",
       "      <th>3353</th>\n",
       "      <td>man</td>\n",
       "      <td>adult male</td>\n",
       "      <td>11.2%</td>\n",
       "    </tr>\n",
       "    <tr>\n",
       "      <th>6169</th>\n",
       "      <td>woman</td>\n",
       "      <td>adult female</td>\n",
       "      <td>5.2%</td>\n",
       "    </tr>\n",
       "    <tr>\n",
       "      <th>4022</th>\n",
       "      <td>person</td>\n",
       "      <td>individual</td>\n",
       "      <td>2.8%</td>\n",
       "    </tr>\n",
       "    <tr>\n",
       "      <th>637</th>\n",
       "      <td>boy</td>\n",
       "      <td>male child</td>\n",
       "      <td>2.5%</td>\n",
       "    </tr>\n",
       "    <tr>\n",
       "      <th>995</th>\n",
       "      <td>children</td>\n",
       "      <td>child</td>\n",
       "      <td>1.6%</td>\n",
       "    </tr>\n",
       "    <tr>\n",
       "      <th>2768</th>\n",
       "      <td>home</td>\n",
       "      <td>place</td>\n",
       "      <td>1.2%</td>\n",
       "    </tr>\n",
       "    <tr>\n",
       "      <th>3814</th>\n",
       "      <td>outdoors</td>\n",
       "      <td>open</td>\n",
       "      <td>1.1%</td>\n",
       "    </tr>\n",
       "    <tr>\n",
       "      <th>4663</th>\n",
       "      <td>road</td>\n",
       "      <td>route</td>\n",
       "      <td>1.1%</td>\n",
       "    </tr>\n",
       "    <tr>\n",
       "      <th>5296</th>\n",
       "      <td>stand</td>\n",
       "      <td>base</td>\n",
       "      <td>1.1%</td>\n",
       "    </tr>\n",
       "    <tr>\n",
       "      <th>2230</th>\n",
       "      <td>food</td>\n",
       "      <td>nutrient</td>\n",
       "      <td>0.9%</td>\n",
       "    </tr>\n",
       "  </tbody>\n",
       "</table>\n",
       "</div>"
      ],
      "text/plain": [
       "           key         value   freq\n",
       "3353       man    adult male  11.2%\n",
       "6169     woman  adult female   5.2%\n",
       "4022    person    individual   2.8%\n",
       "637        boy    male child   2.5%\n",
       "995   children         child   1.6%\n",
       "2768      home         place   1.2%\n",
       "3814  outdoors          open   1.1%\n",
       "4663      road         route   1.1%\n",
       "5296     stand          base   1.1%\n",
       "2230      food      nutrient   0.9%"
      ]
     },
     "execution_count": 6,
     "metadata": {},
     "output_type": "execute_result"
    }
   ],
   "source": [
    "spaces = re.compile(' +')\n",
    "results = []\n",
    "\n",
    "ids = comb.index.tolist()\n",
    "for id_ in ids:\n",
    "    s = comb.loc[id_].premise + \" \" + comb.loc[id_].hypothesis\n",
    "    st = comb.loc[id_].premise_2 + \" \" + comb.loc[id_].hypothesis_2\n",
    "    s = spaces.sub(\" \",s)\n",
    "    st = spaces.sub(\" \",st)\n",
    "    s = s.strip()\n",
    "    st = st.strip()\n",
    "    s = set(s.split(\" \"))\n",
    "    st = set(st.split(\" \"))\n",
    "    diff = list(s - st)\n",
    "    try:\n",
    "        diff = list(map(f, diff))\n",
    "        results += diff\n",
    "    except KeyError:\n",
    "        print(id_)\n",
    "        print(s)\n",
    "        print(st)\n",
    "    \n",
    "    \n",
    "    \n",
    "results_c = Counter(results)\n",
    "dict_id = [i[0] for i in results_c.most_common(10)]\n",
    "sin_noun.loc[:, \"freq\"] = [results_c[i]/len(results) for i in sin_noun.index]\n",
    "sin_noun = sin_noun.sort_values(\"freq\", ascending=False)\n",
    "sin_noun.loc[:, \"freq\"] = sin_noun.freq.map(lambda x: \"{:.1%}\".format(x))\n",
    "sin_noun.head(10)"
   ]
  },
  {
   "cell_type": "code",
   "execution_count": null,
   "metadata": {},
   "outputs": [],
   "source": []
  },
  {
   "cell_type": "code",
   "execution_count": null,
   "metadata": {},
   "outputs": [],
   "source": []
  }
 ],
 "metadata": {
  "kernelspec": {
   "display_name": "Python 3",
   "language": "python",
   "name": "python3"
  },
  "language_info": {
   "codemirror_mode": {
    "name": "ipython",
    "version": 3
   },
   "file_extension": ".py",
   "mimetype": "text/x-python",
   "name": "python",
   "nbconvert_exporter": "python",
   "pygments_lexer": "ipython3",
   "version": "3.8.5"
  }
 },
 "nbformat": 4,
 "nbformat_minor": 4
}
