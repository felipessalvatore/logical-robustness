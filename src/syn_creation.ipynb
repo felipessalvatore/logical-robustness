{
 "cells": [
  {
   "cell_type": "code",
   "execution_count": 1,
   "metadata": {},
   "outputs": [],
   "source": [
    "import pandas as pd\n",
    "import numpy as np\n",
    "from time import time\n",
    "from lr.text_processing.util import pre_process_nli_df\n",
    "from lr.text_processing.transformations.wordnetsyn import p_h_transformation_noun_minimal_edition\n",
    "from lr.text_processing.transformations.wordnetsyn import parallelize, path_base_transormation"
   ]
  },
  {
   "cell_type": "markdown",
   "metadata": {},
   "source": [
    "### Loading data"
   ]
  },
  {
   "cell_type": "code",
   "execution_count": 2,
   "metadata": {},
   "outputs": [],
   "source": [
    "train_path = \"data/toy/train.csv\"\n",
    "dev_path = \"data/toy/dev.csv\"\n",
    "\n",
    "train_path_mod = \"data/toy/train_mod.csv\"\n",
    "dev_path_mod = \"data/toy/dev_mod.csv\"\n",
    "\n",
    "\n",
    "train = pd.read_csv(train_path)\n",
    "dev = pd.read_csv(dev_path)\n",
    "pre_process_nli_df(train)\n",
    "pre_process_nli_df(dev)"
   ]
  },
  {
   "cell_type": "markdown",
   "metadata": {},
   "source": [
    "### Transforming data"
   ]
  },
  {
   "cell_type": "code",
   "execution_count": 3,
   "metadata": {},
   "outputs": [],
   "source": [
    "n_cores = 2\n",
    "transformation = lambda df: parallelize(df,\n",
    "                                        func=p_h_transformation_noun_minimal_edition,\n",
    "                                        n_cores=n_cores)"
   ]
  },
  {
   "cell_type": "code",
   "execution_count": 4,
   "metadata": {},
   "outputs": [
    {
     "name": "stdout",
     "output_type": "stream",
     "text": [
      "2.738999366760254\n"
     ]
    }
   ],
   "source": [
    "init = time()\n",
    "dev_t = transformation(dev)\n",
    "print(time() - init)"
   ]
  },
  {
   "cell_type": "code",
   "execution_count": 5,
   "metadata": {},
   "outputs": [
    {
     "name": "stdout",
     "output_type": "stream",
     "text": [
      "5.955520391464233\n"
     ]
    }
   ],
   "source": [
    "init = time()\n",
    "train_t = transformation(train)\n",
    "print(time() - init)"
   ]
  },
  {
   "cell_type": "markdown",
   "metadata": {},
   "source": [
    "### Saving transformations"
   ]
  },
  {
   "cell_type": "code",
   "execution_count": 6,
   "metadata": {},
   "outputs": [],
   "source": [
    "dev_t.to_csv(dev_path_mod,index=False)\n",
    "train_t.to_csv(train_path_mod,index=False)"
   ]
  },
  {
   "cell_type": "markdown",
   "metadata": {},
   "source": [
    "### Running M tests"
   ]
  },
  {
   "cell_type": "code",
   "execution_count": 7,
   "metadata": {},
   "outputs": [],
   "source": [
    "from lr.training.util import get_ternary_label\n",
    "from lr.stats.h_testing import DGP\n",
    "from lr.stats.h_testing import  LIMts_test\n",
    "from lr.training.language_representation import Tfidf\n",
    "from lr.models.logistic_regression import LRWrapper"
   ]
  },
  {
   "cell_type": "code",
   "execution_count": 8,
   "metadata": {},
   "outputs": [],
   "source": [
    "train_trans = lambda df: path_base_transormation(df, train_path_mod)\n",
    "dev_trans = lambda df: path_base_transormation(df, dev_path_mod)"
   ]
  },
  {
   "cell_type": "code",
   "execution_count": 9,
   "metadata": {},
   "outputs": [],
   "source": [
    "max_features = 500\n",
    "rho = 0.76\n",
    "label_translation = get_ternary_label\n",
    "\n",
    "hyperparams = {\"RepresentationFunction\": Tfidf,\n",
    "               \"max_features\": max_features,\n",
    "               \"label_translation\": label_translation,\n",
    "               \"penalty\": \"l2\",\n",
    "               \"C\": 1,\n",
    "               'solver': 'lbfgs'}"
   ]
  },
  {
   "cell_type": "code",
   "execution_count": 13,
   "metadata": {},
   "outputs": [
    {
     "name": "stdout",
     "output_type": "stream",
     "text": [
      "m = 1 | e = 1 | time: 2.31 sec\n",
      "m = 2 | e = 1 | time: 2.33 sec\n",
      "m = 3 | e = 1 | time: 2.23 sec\n",
      "m = 4 | e = 1 | time: 2.24 sec\n",
      "m = 5 | e = 1 | time: 2.26 sec\n"
     ]
    }
   ],
   "source": [
    "M,E,S = 5,1,1000\n",
    "\n",
    "\n",
    "tests1 = LIMts_test(train=train,\n",
    "                    dev=dev,\n",
    "                    train_transformation=train_trans,\n",
    "                    dev_transformation=dev_trans,\n",
    "                    rho=rho,\n",
    "                    Model=LRWrapper,\n",
    "                    hyperparams=hyperparams,\n",
    "                    M=M,\n",
    "                    E=E,\n",
    "                    S=S,\n",
    "                    verbose=True)"
   ]
  },
  {
   "cell_type": "code",
   "execution_count": 14,
   "metadata": {},
   "outputs": [
    {
     "data": {
      "text/html": [
       "<div>\n",
       "<style scoped>\n",
       "    .dataframe tbody tr th:only-of-type {\n",
       "        vertical-align: middle;\n",
       "    }\n",
       "\n",
       "    .dataframe tbody tr th {\n",
       "        vertical-align: top;\n",
       "    }\n",
       "\n",
       "    .dataframe thead th {\n",
       "        text-align: right;\n",
       "    }\n",
       "</style>\n",
       "<table border=\"1\" class=\"dataframe\">\n",
       "  <thead>\n",
       "    <tr style=\"text-align: right;\">\n",
       "      <th></th>\n",
       "      <th>m</th>\n",
       "      <th>e</th>\n",
       "      <th>validation_accuracy</th>\n",
       "      <th>transformed_validation_accuracy</th>\n",
       "      <th>observable_t_stats</th>\n",
       "      <th>p_value</th>\n",
       "      <th>transformation_time</th>\n",
       "      <th>training_time</th>\n",
       "      <th>test_time</th>\n",
       "      <th>boot_t_1</th>\n",
       "      <th>...</th>\n",
       "      <th>boot_t_991</th>\n",
       "      <th>boot_t_992</th>\n",
       "      <th>boot_t_993</th>\n",
       "      <th>boot_t_994</th>\n",
       "      <th>boot_t_995</th>\n",
       "      <th>boot_t_996</th>\n",
       "      <th>boot_t_997</th>\n",
       "      <th>boot_t_998</th>\n",
       "      <th>boot_t_999</th>\n",
       "      <th>boot_t_1000</th>\n",
       "    </tr>\n",
       "  </thead>\n",
       "  <tbody>\n",
       "    <tr>\n",
       "      <th>0</th>\n",
       "      <td>1</td>\n",
       "      <td>1</td>\n",
       "      <td>0.265</td>\n",
       "      <td>0.23</td>\n",
       "      <td>1.046351</td>\n",
       "      <td>0.278</td>\n",
       "      <td>0.010079</td>\n",
       "      <td>0.063981</td>\n",
       "      <td>2.314187</td>\n",
       "      <td>-2.948839</td>\n",
       "      <td>...</td>\n",
       "      <td>1.913524</td>\n",
       "      <td>1.096497</td>\n",
       "      <td>1.516196</td>\n",
       "      <td>0.649570</td>\n",
       "      <td>-0.603572</td>\n",
       "      <td>1.053361</td>\n",
       "      <td>0.823387</td>\n",
       "      <td>1.783315</td>\n",
       "      <td>0.590281</td>\n",
       "      <td>1.158569</td>\n",
       "    </tr>\n",
       "    <tr>\n",
       "      <th>1</th>\n",
       "      <td>2</td>\n",
       "      <td>1</td>\n",
       "      <td>0.345</td>\n",
       "      <td>0.20</td>\n",
       "      <td>4.068998</td>\n",
       "      <td>0.000</td>\n",
       "      <td>0.005354</td>\n",
       "      <td>0.050927</td>\n",
       "      <td>2.330168</td>\n",
       "      <td>0.356147</td>\n",
       "      <td>...</td>\n",
       "      <td>0.000000</td>\n",
       "      <td>1.922685</td>\n",
       "      <td>-0.566139</td>\n",
       "      <td>0.397517</td>\n",
       "      <td>0.262658</td>\n",
       "      <td>-0.235735</td>\n",
       "      <td>0.617802</td>\n",
       "      <td>-0.142864</td>\n",
       "      <td>-0.577832</td>\n",
       "      <td>-0.134846</td>\n",
       "    </tr>\n",
       "    <tr>\n",
       "      <th>2</th>\n",
       "      <td>3</td>\n",
       "      <td>1</td>\n",
       "      <td>0.245</td>\n",
       "      <td>0.21</td>\n",
       "      <td>1.023727</td>\n",
       "      <td>0.286</td>\n",
       "      <td>0.004595</td>\n",
       "      <td>0.054964</td>\n",
       "      <td>2.231004</td>\n",
       "      <td>2.002252</td>\n",
       "      <td>...</td>\n",
       "      <td>-0.982559</td>\n",
       "      <td>-1.318478</td>\n",
       "      <td>1.614943</td>\n",
       "      <td>-0.277403</td>\n",
       "      <td>-0.316307</td>\n",
       "      <td>0.428768</td>\n",
       "      <td>-0.457735</td>\n",
       "      <td>0.142864</td>\n",
       "      <td>-0.294948</td>\n",
       "      <td>-0.137367</td>\n",
       "    </tr>\n",
       "  </tbody>\n",
       "</table>\n",
       "<p>3 rows × 1009 columns</p>\n",
       "</div>"
      ],
      "text/plain": [
       "   m  e  validation_accuracy  transformed_validation_accuracy  \\\n",
       "0  1  1                0.265                             0.23   \n",
       "1  2  1                0.345                             0.20   \n",
       "2  3  1                0.245                             0.21   \n",
       "\n",
       "   observable_t_stats  p_value  transformation_time  training_time  test_time  \\\n",
       "0            1.046351    0.278             0.010079       0.063981   2.314187   \n",
       "1            4.068998    0.000             0.005354       0.050927   2.330168   \n",
       "2            1.023727    0.286             0.004595       0.054964   2.231004   \n",
       "\n",
       "   boot_t_1  ...  boot_t_991  boot_t_992  boot_t_993  boot_t_994  boot_t_995  \\\n",
       "0 -2.948839  ...    1.913524    1.096497    1.516196    0.649570   -0.603572   \n",
       "1  0.356147  ...    0.000000    1.922685   -0.566139    0.397517    0.262658   \n",
       "2  2.002252  ...   -0.982559   -1.318478    1.614943   -0.277403   -0.316307   \n",
       "\n",
       "   boot_t_996  boot_t_997  boot_t_998  boot_t_999  boot_t_1000  \n",
       "0    1.053361    0.823387    1.783315    0.590281     1.158569  \n",
       "1   -0.235735    0.617802   -0.142864   -0.577832    -0.134846  \n",
       "2    0.428768   -0.457735    0.142864   -0.294948    -0.137367  \n",
       "\n",
       "[3 rows x 1009 columns]"
      ]
     },
     "execution_count": 14,
     "metadata": {},
     "output_type": "execute_result"
    }
   ],
   "source": [
    "tests1.head(3)"
   ]
  },
  {
   "cell_type": "code",
   "execution_count": null,
   "metadata": {},
   "outputs": [],
   "source": []
  },
  {
   "cell_type": "code",
   "execution_count": null,
   "metadata": {},
   "outputs": [],
   "source": []
  },
  {
   "cell_type": "code",
   "execution_count": null,
   "metadata": {},
   "outputs": [],
   "source": []
  },
  {
   "cell_type": "code",
   "execution_count": null,
   "metadata": {},
   "outputs": [],
   "source": []
  },
  {
   "cell_type": "code",
   "execution_count": null,
   "metadata": {},
   "outputs": [],
   "source": []
  },
  {
   "cell_type": "code",
   "execution_count": null,
   "metadata": {},
   "outputs": [],
   "source": []
  },
  {
   "cell_type": "code",
   "execution_count": null,
   "metadata": {},
   "outputs": [],
   "source": []
  },
  {
   "cell_type": "code",
   "execution_count": null,
   "metadata": {},
   "outputs": [],
   "source": []
  },
  {
   "cell_type": "code",
   "execution_count": null,
   "metadata": {},
   "outputs": [],
   "source": []
  },
  {
   "cell_type": "code",
   "execution_count": null,
   "metadata": {},
   "outputs": [],
   "source": []
  }
 ],
 "metadata": {
  "kernelspec": {
   "display_name": "Python 3",
   "language": "python",
   "name": "python3"
  },
  "language_info": {
   "codemirror_mode": {
    "name": "ipython",
    "version": 3
   },
   "file_extension": ".py",
   "mimetype": "text/x-python",
   "name": "python",
   "nbconvert_exporter": "python",
   "pygments_lexer": "ipython3",
   "version": "3.6.8"
  }
 },
 "nbformat": 4,
 "nbformat_minor": 2
}
