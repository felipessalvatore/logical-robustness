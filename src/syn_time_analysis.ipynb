{
 "cells": [
  {
   "cell_type": "code",
   "execution_count": 1,
   "metadata": {},
   "outputs": [],
   "source": [
    "import pandas as pd\n",
    "import numpy as np\n",
    "import matplotlib.pyplot as plt\n",
    "import seaborn as sns\n",
    "from time import time\n",
    "from lr.text_processing.util import pre_process_nli_df\n",
    "from lr.text_processing.transformations.wordnetsyn import wordnet_modifier, nlp, parallelize\n",
    "from lr.text_processing.transformations.wordnetsyn import p_h_transformation_noun_minimal_edition"
   ]
  },
  {
   "cell_type": "markdown",
   "metadata": {},
   "source": [
    "### Loading data"
   ]
  },
  {
   "cell_type": "code",
   "execution_count": 2,
   "metadata": {},
   "outputs": [],
   "source": [
    "train_path = \"data/toy/train.csv\"\n",
    "dev_path = \"data/toy/dev.csv\"\n",
    "train = pd.read_csv(train_path)\n",
    "dev = pd.read_csv(dev_path)\n",
    "pre_process_nli_df(train)\n",
    "pre_process_nli_df(dev)"
   ]
  },
  {
   "cell_type": "code",
   "execution_count": 3,
   "metadata": {},
   "outputs": [
    {
     "name": "stdout",
     "output_type": "stream",
     "text": [
      "a couple playing with a little boy on the beach\n",
      "a duet playing with a little male child on the beach\n"
     ]
    }
   ],
   "source": [
    "sentence = train.premise[0]\n",
    "t = wordnet_modifier(sentence, nlp)\n",
    "print(sentence)\n",
    "print(t)"
   ]
  },
  {
   "cell_type": "code",
   "execution_count": 4,
   "metadata": {},
   "outputs": [
    {
     "name": "stdout",
     "output_type": "stream",
     "text": [
      "5.98 ms ± 676 µs per loop (mean ± std. dev. of 7 runs, 100 loops each)\n"
     ]
    }
   ],
   "source": [
    "%%timeit\n",
    "t = wordnet_modifier(sentence, nlp)"
   ]
  },
  {
   "cell_type": "code",
   "execution_count": 5,
   "metadata": {},
   "outputs": [
    {
     "name": "stdout",
     "output_type": "stream",
     "text": [
      "7.24 s ± 507 ms per loop (mean ± std. dev. of 7 runs, 1 loop each)\n"
     ]
    }
   ],
   "source": [
    "%%timeit\n",
    "p_h_transformation_noun_minimal_edition(train)"
   ]
  },
  {
   "cell_type": "code",
   "execution_count": 6,
   "metadata": {},
   "outputs": [
    {
     "name": "stdout",
     "output_type": "stream",
     "text": [
      "3.99 s ± 118 ms per loop (mean ± std. dev. of 7 runs, 1 loop each)\n"
     ]
    }
   ],
   "source": [
    "%%timeit\n",
    "\n",
    "parallelize(train,\n",
    "            func=p_h_transformation_noun_minimal_edition,\n",
    "            n_cores=2)"
   ]
  },
  {
   "cell_type": "code",
   "execution_count": 7,
   "metadata": {},
   "outputs": [
    {
     "name": "stdout",
     "output_type": "stream",
     "text": [
      "snli transfomation time cost 23.878 minutes\n",
      "\n"
     ]
    },
    {
     "data": {
      "image/png": "[encoded data removed]",
      "text/plain": [
       "<Figure size 432x288 with 1 Axes>"
      ]
     },
     "metadata": {
      "needs_background": "light"
     },
     "output_type": "display_data"
    }
   ],
   "source": [
    "n_cores = 3\n",
    "x = np.array([250, 300,400, 500, 600, 650, 700, 800, 900, 1000, 1500, 2000])\n",
    "y = np.array([2.29, 2.5, 3.56, 4.18, 5.53, 5.77,6.53, 7.22, 7.16, 8.29,12.2, 16]) / n_cores\n",
    "\n",
    "b1 = np.sum((x - np.mean(x))*(y-np.mean(y)))/ np.sum((x - np.mean(x))**2)\n",
    "b0 = np.mean(y) - b1*np.mean(x)\n",
    "g = lambda x: b0 + b1 *x\n",
    "\n",
    "train_path = \"data/snli/train.csv\"\n",
    "train_snli = pd.read_csv(train_path)\n",
    "cost = g(train_snli.shape[0]) / 60\n",
    "print(\"snli transfomation time cost {:.3f} minutes\\n\".format(cost))\n",
    "\n",
    "\n",
    "plt.plot(x, y, \"o\");\n",
    "plt.plot(x, g(x));"
   ]
  },
  {
   "cell_type": "code",
   "execution_count": null,
   "metadata": {},
   "outputs": [],
   "source": []
  },
  {
   "cell_type": "code",
   "execution_count": null,
   "metadata": {},
   "outputs": [],
   "source": []
  }
 ],
 "metadata": {
  "kernelspec": {
   "display_name": "Python 3",
   "language": "python",
   "name": "python3"
  },
  "language_info": {
   "codemirror_mode": {
    "name": "ipython",
    "version": 3
   },
   "file_extension": ".py",
   "mimetype": "text/x-python",
   "name": "python",
   "nbconvert_exporter": "python",
   "pygments_lexer": "ipython3",
   "version": "3.6.8"
  }
 },
 "nbformat": 4,
 "nbformat_minor": 2
}
