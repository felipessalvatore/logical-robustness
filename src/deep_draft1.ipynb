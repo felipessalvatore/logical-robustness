{
 "cells": [
  {
   "cell_type": "code",
   "execution_count": 1,
   "metadata": {},
   "outputs": [],
   "source": [
    "import pandas as pd\n",
    "import numpy as np\n",
    "import matplotlib.pyplot as plt\n",
    "from lr.text_processing.util import pre_process_nli_df\n",
    "from lr.training.util import get_positive_labels, filter_df_by_label\n",
    "from IPython.display import display, HTML"
   ]
  },
  {
   "cell_type": "markdown",
   "metadata": {},
   "source": [
    "### Trasformers\n",
    "ref https://github.com/huggingface/transformers/blob/master/examples/run_glue.py"
   ]
  },
  {
   "cell_type": "markdown",
   "metadata": {},
   "source": [
    "## Loading data"
   ]
  },
  {
   "cell_type": "code",
   "execution_count": 2,
   "metadata": {},
   "outputs": [
    {
     "name": "stdout",
     "output_type": "stream",
     "text": [
      "(10000, 3)\n",
      "(1000, 3)\n"
     ]
    }
   ],
   "source": [
    "train_path = \"data/snli/train.csv\"\n",
    "dev_path = \"data/snli/dev.csv\"\n",
    "\n",
    "train_path_mod = \"data/snli/train_p_h_syn_noun.csv\"\n",
    "dev_path_mod = \"data/snli/dev_p_h_syn_noun.csv\"\n",
    "\n",
    "train = pd.read_csv(train_path)\n",
    "dev = pd.read_csv(dev_path)\n",
    "train = filter_df_by_label(train.dropna()).reset_index(drop=True)\n",
    "dev = filter_df_by_label(dev.dropna()).reset_index(drop=True)\n",
    "\n",
    "train = train.head(10000)\n",
    "dev = dev.head(1000)\n",
    "pre_process_nli_df(train)\n",
    "pre_process_nli_df(dev)\n",
    "\n",
    "\n",
    "print(train.shape)\n",
    "print(dev.shape)"
   ]
  },
  {
   "cell_type": "code",
   "execution_count": 3,
   "metadata": {},
   "outputs": [],
   "source": [
    "import torch\n",
    "from transformers import BertForSequenceClassification, BertTokenizer, BertConfig\n",
    "import warnings\n",
    "warnings.filterwarnings(\"ignore\", category=FutureWarning)\n"
   ]
  },
  {
   "cell_type": "markdown",
   "metadata": {},
   "source": [
    "### Example of loss generation"
   ]
  },
  {
   "cell_type": "code",
   "execution_count": 4,
   "metadata": {},
   "outputs": [
    {
     "name": "stdout",
     "output_type": "stream",
     "text": [
      "[2656  445 9505] tensor(0.9323, grad_fn=<MeanBackward0>)\n"
     ]
    }
   ],
   "source": [
    "seed = 123 \n",
    "\n",
    "torch.manual_seed(seed)\n",
    "np.random.seed(seed)\n",
    "\n",
    "pretrained_weights = 'bert-base-uncased'\n",
    "tokenizer = BertTokenizer.from_pretrained(pretrained_weights)\n",
    "model = BertForSequenceClassification.from_pretrained(pretrained_weights, num_labels = 3)\n",
    "\n",
    "\n",
    "batch_size = 3\n",
    "sentences = (train.premise + \", \" + train.hypothesis)\n",
    "labels = get_positive_labels(train)\n",
    "sentence_batch = sentences.sample(batch_size)\n",
    "batch_id = sentence_batch.index.values\n",
    "labels_batch = labels[batch_id]\n",
    "sentence_batch = sentence_batch.values\n",
    "sentence_batch_encoded = [tokenizer.encode(s, add_special_tokens=True) for s in sentence_batch]\n",
    "len_max = np.max(list(map(lambda x: len(x),sentence_batch_encoded)))\n",
    "pad_code = 0\n",
    "for i,s in enumerate(sentence_batch_encoded):\n",
    "    diff = len_max - len(s)\n",
    "    if diff > 0:\n",
    "        new_s = s + ([pad_code] * diff) \n",
    "        sentence_batch_encoded[i] = new_s\n",
    "\n",
    "        \n",
    "# to torch\n",
    "input_ids = torch.tensor(sentence_batch_encoded)\n",
    "labels_batch = torch.tensor(labels_batch).unsqueeze(0)  # Batch size 1\n",
    "\n",
    "outputs = model(input_ids, labels=labels_batch)\n",
    "loss = outputs[0].mean()\n",
    "print(batch_id, loss)"
   ]
  },
  {
   "cell_type": "code",
   "execution_count": 5,
   "metadata": {},
   "outputs": [
    {
     "data": {
      "text/plain": [
       "([2656, 445, 9505], 0.9323)"
      ]
     },
     "execution_count": 5,
     "metadata": {},
     "output_type": "execute_result"
    }
   ],
   "source": [
    "[2656,  445, 9505], 0.9323"
   ]
  },
  {
   "cell_type": "code",
   "execution_count": null,
   "metadata": {},
   "outputs": [],
   "source": []
  }
 ],
 "metadata": {
  "kernelspec": {
   "display_name": "Python 3",
   "language": "python",
   "name": "python3"
  },
  "language_info": {
   "codemirror_mode": {
    "name": "ipython",
    "version": 3
   },
   "file_extension": ".py",
   "mimetype": "text/x-python",
   "name": "python",
   "nbconvert_exporter": "python",
   "pygments_lexer": "ipython3",
   "version": "3.6.8"
  }
 },
 "nbformat": 4,
 "nbformat_minor": 4
}
