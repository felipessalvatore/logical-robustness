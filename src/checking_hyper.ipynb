{
 "cells": [
  {
   "cell_type": "code",
   "execution_count": 1,
   "metadata": {},
   "outputs": [],
   "source": [
    "import pandas as pd\n",
    "import glob"
   ]
  },
  {
   "cell_type": "code",
   "execution_count": 2,
   "metadata": {},
   "outputs": [],
   "source": [
    "paths = glob.glob(\"hyperparams/bert_base_mnli/*\")\n",
    "dfs = [pd.read_csv(p) for p in paths]\n",
    "df = pd.concat(dfs)"
   ]
  },
  {
   "cell_type": "code",
   "execution_count": 3,
   "metadata": {},
   "outputs": [
    {
     "data": {
      "text/html": [
       "<div>\n",
       "<style scoped>\n",
       "    .dataframe tbody tr th:only-of-type {\n",
       "        vertical-align: middle;\n",
       "    }\n",
       "\n",
       "    .dataframe tbody tr th {\n",
       "        vertical-align: top;\n",
       "    }\n",
       "\n",
       "    .dataframe thead th {\n",
       "        text-align: right;\n",
       "    }\n",
       "</style>\n",
       "<table border=\"1\" class=\"dataframe\">\n",
       "  <thead>\n",
       "    <tr style=\"text-align: right;\">\n",
       "      <th></th>\n",
       "      <th>search_random_state</th>\n",
       "      <th>number_of_search_trails</th>\n",
       "      <th>expected_val_score</th>\n",
       "      <th>best_val_score</th>\n",
       "      <th>mean_fit_time</th>\n",
       "      <th>search_time</th>\n",
       "      <th>max_seq_length</th>\n",
       "      <th>num_train_epochs</th>\n",
       "      <th>learning_rate</th>\n",
       "      <th>weight_decay</th>\n",
       "      <th>adam_epsilon</th>\n",
       "      <th>max_grad_norm</th>\n",
       "    </tr>\n",
       "  </thead>\n",
       "  <tbody>\n",
       "    <tr>\n",
       "      <th>0</th>\n",
       "      <td>2525</td>\n",
       "      <td>6</td>\n",
       "      <td>0.779633</td>\n",
       "      <td>0.7856</td>\n",
       "      <td>8.360509</td>\n",
       "      <td>51.821717</td>\n",
       "      <td>170</td>\n",
       "      <td>2.0</td>\n",
       "      <td>0.000067</td>\n",
       "      <td>0.008889</td>\n",
       "      <td>1.000000e-08</td>\n",
       "      <td>1.0</td>\n",
       "    </tr>\n",
       "    <tr>\n",
       "      <th>0</th>\n",
       "      <td>3521</td>\n",
       "      <td>10</td>\n",
       "      <td>0.780290</td>\n",
       "      <td>0.7874</td>\n",
       "      <td>6.640000</td>\n",
       "      <td>20.155798</td>\n",
       "      <td>90</td>\n",
       "      <td>2.0</td>\n",
       "      <td>0.000072</td>\n",
       "      <td>0.003333</td>\n",
       "      <td>3.000000e-08</td>\n",
       "      <td>1.0</td>\n",
       "    </tr>\n",
       "  </tbody>\n",
       "</table>\n",
       "</div>"
      ],
      "text/plain": [
       "   search_random_state  number_of_search_trails  expected_val_score  \\\n",
       "0                 2525                        6            0.779633   \n",
       "0                 3521                       10            0.780290   \n",
       "\n",
       "   best_val_score  mean_fit_time  search_time  max_seq_length  \\\n",
       "0          0.7856       8.360509    51.821717             170   \n",
       "0          0.7874       6.640000    20.155798              90   \n",
       "\n",
       "   num_train_epochs  learning_rate  weight_decay  adam_epsilon  max_grad_norm  \n",
       "0               2.0       0.000067      0.008889  1.000000e-08            1.0  \n",
       "0               2.0       0.000072      0.003333  3.000000e-08            1.0  "
      ]
     },
     "execution_count": 3,
     "metadata": {},
     "output_type": "execute_result"
    }
   ],
   "source": [
    "df"
   ]
  },
  {
   "cell_type": "code",
   "execution_count": null,
   "metadata": {},
   "outputs": [],
   "source": [
    "# df.mean_fit_time.mean()"
   ]
  },
  {
   "cell_type": "code",
   "execution_count": null,
   "metadata": {},
   "outputs": [],
   "source": [
    "# df.expected_val_score.mean()"
   ]
  },
  {
   "cell_type": "code",
   "execution_count": null,
   "metadata": {},
   "outputs": [],
   "source": []
  }
 ],
 "metadata": {
  "kernelspec": {
   "display_name": "Python 3",
   "language": "python",
   "name": "python3"
  },
  "language_info": {
   "codemirror_mode": {
    "name": "ipython",
    "version": 3
   },
   "file_extension": ".py",
   "mimetype": "text/x-python",
   "name": "python",
   "nbconvert_exporter": "python",
   "pygments_lexer": "ipython3",
   "version": "3.6.9"
  }
 },
 "nbformat": 4,
 "nbformat_minor": 2
}
