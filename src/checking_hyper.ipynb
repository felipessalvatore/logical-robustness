{
 "cells": [
  {
   "cell_type": "code",
   "execution_count": 1,
   "metadata": {},
   "outputs": [],
   "source": [
    "import pandas as pd\n",
    "import glob"
   ]
  },
  {
   "cell_type": "code",
   "execution_count": 2,
   "metadata": {},
   "outputs": [],
   "source": [
    "paths = glob.glob(\"hyperparams/xlnet_base_snli/*\")\n",
    "dfs = [pd.read_csv(p) for p in paths]\n",
    "df = pd.concat(dfs)"
   ]
  },
  {
   "cell_type": "code",
   "execution_count": 3,
   "metadata": {},
   "outputs": [
    {
     "data": {
      "text/html": [
       "<div>\n",
       "<style scoped>\n",
       "    .dataframe tbody tr th:only-of-type {\n",
       "        vertical-align: middle;\n",
       "    }\n",
       "\n",
       "    .dataframe tbody tr th {\n",
       "        vertical-align: top;\n",
       "    }\n",
       "\n",
       "    .dataframe thead th {\n",
       "        text-align: right;\n",
       "    }\n",
       "</style>\n",
       "<table border=\"1\" class=\"dataframe\">\n",
       "  <thead>\n",
       "    <tr style=\"text-align: right;\">\n",
       "      <th></th>\n",
       "      <th>search_random_state</th>\n",
       "      <th>number_of_search_trails</th>\n",
       "      <th>expected_val_score</th>\n",
       "      <th>best_val_score</th>\n",
       "      <th>mean_fit_time</th>\n",
       "      <th>search_time</th>\n",
       "      <th>max_seq_length</th>\n",
       "      <th>num_train_epochs</th>\n",
       "      <th>learning_rate</th>\n",
       "      <th>weight_decay</th>\n",
       "      <th>adam_epsilon</th>\n",
       "      <th>max_grad_norm</th>\n",
       "    </tr>\n",
       "  </thead>\n",
       "  <tbody>\n",
       "    <tr>\n",
       "      <th>0</th>\n",
       "      <td>84</td>\n",
       "      <td>1</td>\n",
       "      <td>0.338244</td>\n",
       "      <td>0.338244</td>\n",
       "      <td>13.783630</td>\n",
       "      <td>14.193785</td>\n",
       "      <td>150</td>\n",
       "      <td>2.0</td>\n",
       "      <td>0.000100</td>\n",
       "      <td>0.008889</td>\n",
       "      <td>6.000000e-08</td>\n",
       "      <td>0.900000</td>\n",
       "    </tr>\n",
       "    <tr>\n",
       "      <th>0</th>\n",
       "      <td>1976</td>\n",
       "      <td>2</td>\n",
       "      <td>0.577982</td>\n",
       "      <td>0.817720</td>\n",
       "      <td>11.264761</td>\n",
       "      <td>23.242677</td>\n",
       "      <td>130</td>\n",
       "      <td>1.0</td>\n",
       "      <td>0.000083</td>\n",
       "      <td>0.006667</td>\n",
       "      <td>6.000000e-08</td>\n",
       "      <td>0.922222</td>\n",
       "    </tr>\n",
       "    <tr>\n",
       "      <th>0</th>\n",
       "      <td>9383</td>\n",
       "      <td>1</td>\n",
       "      <td>0.846474</td>\n",
       "      <td>0.846474</td>\n",
       "      <td>6.380561</td>\n",
       "      <td>6.799054</td>\n",
       "      <td>150</td>\n",
       "      <td>1.0</td>\n",
       "      <td>0.000056</td>\n",
       "      <td>0.010000</td>\n",
       "      <td>5.000000e-08</td>\n",
       "      <td>0.900000</td>\n",
       "    </tr>\n",
       "    <tr>\n",
       "      <th>0</th>\n",
       "      <td>854</td>\n",
       "      <td>1</td>\n",
       "      <td>0.338244</td>\n",
       "      <td>0.338244</td>\n",
       "      <td>5.815043</td>\n",
       "      <td>6.156669</td>\n",
       "      <td>130</td>\n",
       "      <td>1.0</td>\n",
       "      <td>0.000083</td>\n",
       "      <td>0.004444</td>\n",
       "      <td>5.000000e-08</td>\n",
       "      <td>0.933333</td>\n",
       "    </tr>\n",
       "    <tr>\n",
       "      <th>0</th>\n",
       "      <td>3522</td>\n",
       "      <td>10</td>\n",
       "      <td>0.550000</td>\n",
       "      <td>0.848084</td>\n",
       "      <td>10.500000</td>\n",
       "      <td>56.037535</td>\n",
       "      <td>100</td>\n",
       "      <td>1.0</td>\n",
       "      <td>0.000067</td>\n",
       "      <td>0.010000</td>\n",
       "      <td>4.000000e-08</td>\n",
       "      <td>1.000000</td>\n",
       "    </tr>\n",
       "  </tbody>\n",
       "</table>\n",
       "</div>"
      ],
      "text/plain": [
       "   search_random_state  number_of_search_trails  expected_val_score  \\\n",
       "0                   84                        1            0.338244   \n",
       "0                 1976                        2            0.577982   \n",
       "0                 9383                        1            0.846474   \n",
       "0                  854                        1            0.338244   \n",
       "0                 3522                       10            0.550000   \n",
       "\n",
       "   best_val_score  mean_fit_time  search_time  max_seq_length  \\\n",
       "0        0.338244      13.783630    14.193785             150   \n",
       "0        0.817720      11.264761    23.242677             130   \n",
       "0        0.846474       6.380561     6.799054             150   \n",
       "0        0.338244       5.815043     6.156669             130   \n",
       "0        0.848084      10.500000    56.037535             100   \n",
       "\n",
       "   num_train_epochs  learning_rate  weight_decay  adam_epsilon  max_grad_norm  \n",
       "0               2.0       0.000100      0.008889  6.000000e-08       0.900000  \n",
       "0               1.0       0.000083      0.006667  6.000000e-08       0.922222  \n",
       "0               1.0       0.000056      0.010000  5.000000e-08       0.900000  \n",
       "0               1.0       0.000083      0.004444  5.000000e-08       0.933333  \n",
       "0               1.0       0.000067      0.010000  4.000000e-08       1.000000  "
      ]
     },
     "execution_count": 3,
     "metadata": {},
     "output_type": "execute_result"
    }
   ],
   "source": [
    "df"
   ]
  },
  {
   "cell_type": "code",
   "execution_count": 4,
   "metadata": {},
   "outputs": [
    {
     "data": {
      "text/plain": [
       "9.548798737466337"
      ]
     },
     "execution_count": 4,
     "metadata": {},
     "output_type": "execute_result"
    }
   ],
   "source": [
    "df.mean_fit_time.mean()"
   ]
  },
  {
   "cell_type": "code",
   "execution_count": 5,
   "metadata": {},
   "outputs": [
    {
     "data": {
      "text/plain": [
       "0.5301889859784596"
      ]
     },
     "execution_count": 5,
     "metadata": {},
     "output_type": "execute_result"
    }
   ],
   "source": [
    "df.expected_val_score.mean()"
   ]
  },
  {
   "cell_type": "code",
   "execution_count": 6,
   "metadata": {},
   "outputs": [
    {
     "data": {
      "text/plain": [
       "5.1e-05"
      ]
     },
     "execution_count": 6,
     "metadata": {},
     "output_type": "execute_result"
    }
   ],
   "source": [
    "5.1 * 10**(-5)"
   ]
  },
  {
   "cell_type": "code",
   "execution_count": 7,
   "metadata": {},
   "outputs": [
    {
     "data": {
      "text/plain": [
       "6.7e-05"
      ]
     },
     "execution_count": 7,
     "metadata": {},
     "output_type": "execute_result"
    }
   ],
   "source": [
    "0.000067"
   ]
  },
  {
   "cell_type": "code",
   "execution_count": 8,
   "metadata": {},
   "outputs": [
    {
     "data": {
      "text/plain": [
       "0.01"
      ]
     },
     "execution_count": 8,
     "metadata": {},
     "output_type": "execute_result"
    }
   ],
   "source": [
    "1e-02"
   ]
  },
  {
   "cell_type": "code",
   "execution_count": 9,
   "metadata": {},
   "outputs": [
    {
     "data": {
      "text/plain": [
       "4e-08"
      ]
     },
     "execution_count": 9,
     "metadata": {},
     "output_type": "execute_result"
    }
   ],
   "source": [
    " \t4.000000e-08 \t"
   ]
  },
  {
   "cell_type": "code",
   "execution_count": 10,
   "metadata": {},
   "outputs": [
    {
     "data": {
      "text/plain": [
       "True"
      ]
     },
     "execution_count": 10,
     "metadata": {},
     "output_type": "execute_result"
    }
   ],
   "source": [
    "1e-08<4e-08"
   ]
  },
  {
   "cell_type": "code",
   "execution_count": null,
   "metadata": {},
   "outputs": [],
   "source": []
  }
 ],
 "metadata": {
  "kernelspec": {
   "display_name": "Python 3",
   "language": "python",
   "name": "python3"
  },
  "language_info": {
   "codemirror_mode": {
    "name": "ipython",
    "version": 3
   },
   "file_extension": ".py",
   "mimetype": "text/x-python",
   "name": "python",
   "nbconvert_exporter": "python",
   "pygments_lexer": "ipython3",
   "version": "3.6.9"
  }
 },
 "nbformat": 4,
 "nbformat_minor": 2
}
