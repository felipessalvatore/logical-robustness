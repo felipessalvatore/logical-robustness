{
 "cells": [
  {
   "cell_type": "code",
   "execution_count": 1,
   "metadata": {},
   "outputs": [],
   "source": [
    "import pandas as pd\n",
    "import glob"
   ]
  },
  {
   "cell_type": "code",
   "execution_count": 2,
   "metadata": {},
   "outputs": [],
   "source": [
    "paths = glob.glob(\"hyperparams/albert_base_snli/*.csv\")\n",
    "dfs = [pd.read_csv(p) for p in paths]\n",
    "df = pd.concat(dfs)"
   ]
  },
  {
   "cell_type": "code",
   "execution_count": 3,
   "metadata": {},
   "outputs": [
    {
     "data": {
      "text/html": [
       "<div>\n",
       "<style scoped>\n",
       "    .dataframe tbody tr th:only-of-type {\n",
       "        vertical-align: middle;\n",
       "    }\n",
       "\n",
       "    .dataframe tbody tr th {\n",
       "        vertical-align: top;\n",
       "    }\n",
       "\n",
       "    .dataframe thead th {\n",
       "        text-align: right;\n",
       "    }\n",
       "</style>\n",
       "<table border=\"1\" class=\"dataframe\">\n",
       "  <thead>\n",
       "    <tr style=\"text-align: right;\">\n",
       "      <th></th>\n",
       "      <th>search_random_state</th>\n",
       "      <th>number_of_search_trails</th>\n",
       "      <th>expected_val_score</th>\n",
       "      <th>best_val_score</th>\n",
       "      <th>mean_fit_time</th>\n",
       "      <th>search_time</th>\n",
       "      <th>max_seq_length</th>\n",
       "      <th>num_train_epochs</th>\n",
       "      <th>learning_rate</th>\n",
       "      <th>weight_decay</th>\n",
       "      <th>adam_epsilon</th>\n",
       "      <th>max_grad_norm</th>\n",
       "    </tr>\n",
       "  </thead>\n",
       "  <tbody>\n",
       "    <tr>\n",
       "      <th>0</th>\n",
       "      <td>2135</td>\n",
       "      <td>10</td>\n",
       "      <td>0.588700</td>\n",
       "      <td>0.858769</td>\n",
       "      <td>7.760000</td>\n",
       "      <td>25.637611</td>\n",
       "      <td>90</td>\n",
       "      <td>2.0</td>\n",
       "      <td>0.000067</td>\n",
       "      <td>0.001111</td>\n",
       "      <td>3.000000e-08</td>\n",
       "      <td>0.911111</td>\n",
       "    </tr>\n",
       "    <tr>\n",
       "      <th>0</th>\n",
       "      <td>2591</td>\n",
       "      <td>5</td>\n",
       "      <td>0.639931</td>\n",
       "      <td>0.858057</td>\n",
       "      <td>10.589704</td>\n",
       "      <td>54.165312</td>\n",
       "      <td>60</td>\n",
       "      <td>3.0</td>\n",
       "      <td>0.000050</td>\n",
       "      <td>0.005556</td>\n",
       "      <td>1.000000e-08</td>\n",
       "      <td>1.000000</td>\n",
       "    </tr>\n",
       "  </tbody>\n",
       "</table>\n",
       "</div>"
      ],
      "text/plain": [
       "   search_random_state  number_of_search_trails  expected_val_score  \\\n",
       "0                 2135                       10            0.588700   \n",
       "0                 2591                        5            0.639931   \n",
       "\n",
       "   best_val_score  mean_fit_time  search_time  max_seq_length  \\\n",
       "0        0.858769       7.760000    25.637611              90   \n",
       "0        0.858057      10.589704    54.165312              60   \n",
       "\n",
       "   num_train_epochs  learning_rate  weight_decay  adam_epsilon  max_grad_norm  \n",
       "0               2.0       0.000067      0.001111  3.000000e-08       0.911111  \n",
       "0               3.0       0.000050      0.005556  1.000000e-08       1.000000  "
      ]
     },
     "execution_count": 3,
     "metadata": {},
     "output_type": "execute_result"
    }
   ],
   "source": [
    "df"
   ]
  },
  {
   "cell_type": "code",
   "execution_count": 4,
   "metadata": {},
   "outputs": [
    {
     "data": {
      "text/plain": [
       "9.174851873801813"
      ]
     },
     "execution_count": 4,
     "metadata": {},
     "output_type": "execute_result"
    }
   ],
   "source": [
    "df.mean_fit_time.mean()"
   ]
  },
  {
   "cell_type": "code",
   "execution_count": 5,
   "metadata": {},
   "outputs": [
    {
     "data": {
      "text/plain": [
       "0.6143154541759805"
      ]
     },
     "execution_count": 5,
     "metadata": {},
     "output_type": "execute_result"
    }
   ],
   "source": [
    "df.expected_val_score.mean()"
   ]
  },
  {
   "cell_type": "code",
   "execution_count": null,
   "metadata": {},
   "outputs": [],
   "source": []
  }
 ],
 "metadata": {
  "kernelspec": {
   "display_name": "Python 3",
   "language": "python",
   "name": "python3"
  },
  "language_info": {
   "codemirror_mode": {
    "name": "ipython",
    "version": 3
   },
   "file_extension": ".py",
   "mimetype": "text/x-python",
   "name": "python",
   "nbconvert_exporter": "python",
   "pygments_lexer": "ipython3",
   "version": "3.6.9"
  }
 },
 "nbformat": 4,
 "nbformat_minor": 2
}
