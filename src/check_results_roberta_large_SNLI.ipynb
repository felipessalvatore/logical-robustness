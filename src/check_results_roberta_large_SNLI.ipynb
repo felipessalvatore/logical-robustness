{
 "cells": [
  {
   "cell_type": "markdown",
   "metadata": {},
   "source": [
    "# Results for RoBERTa when applying syn tranformation to both premise and hypothesis"
   ]
  },
  {
   "cell_type": "code",
   "execution_count": 1,
   "metadata": {},
   "outputs": [],
   "source": [
    "import pandas as pd\n",
    "import os\n",
    "import numpy as np\n",
    "import matplotlib.pyplot as plt\n",
    "import seaborn as sns\n",
    "from tqdm import tqdm\n",
    "from IPython.display import display, HTML \n",
    "from lr.analysis.util import get_ts_from_results_folder \n",
    "from lr.analysis.util import get_rho_stats_from_result_list\n",
    "from lr.stats.h_testing import get_ks_stats_from_p_values_compared_to_uniform_dist"
   ]
  },
  {
   "cell_type": "markdown",
   "metadata": {},
   "source": [
    "## Get Results"
   ]
  },
  {
   "cell_type": "code",
   "execution_count": 2,
   "metadata": {},
   "outputs": [
    {
     "name": "stderr",
     "output_type": "stream",
     "text": [
      "100%|██████████| 4/4 [00:00<00:00, 10.36it/s]\n"
     ]
    }
   ],
   "source": [
    "all_accs = []\n",
    "all_transformed_accs = []\n",
    "all_paired_t_p_values = []\n",
    "all_dev_plus_diff = []\n",
    "all_time = []\n",
    "\n",
    "m_name = \"roberta_large\"\n",
    "test_repetitions = 4\n",
    "batchs = range(1, test_repetitions + 1)\n",
    "# batchs = [2,3]\n",
    "\n",
    "for i in tqdm(batchs):\n",
    "    test_accuracy  = get_ts_from_results_folder(path=\"results/snli/{}/syn_p_h/batch{}/\".format(m_name, i),\n",
    "                                                 stat=\"test_accuracy\")\n",
    "    \n",
    "    transformed_test_accuracy = get_ts_from_results_folder(path=\"results/snli/{}/syn_p_h/batch{}/\".format(m_name, i),\n",
    "                                                           stat=\"transformed_test_accuracy\")\n",
    "    \n",
    "    paired_t_p_value  = get_ts_from_results_folder(path=\"results/snli/{}/syn_p_h/batch{}/\".format(m_name, i),\n",
    "                                                    stat=\"paired_t_p_value\")\n",
    "    \n",
    "    diff  = get_ts_from_results_folder(path=\"results/snli/{}/syn_p_h/batch{}/\".format(m_name, i),\n",
    "                                                    stat=\"dev_plus_accuracy_difference\")\n",
    "    \n",
    "    t_time  = get_ts_from_results_folder(path=\"results/snli/{}/syn_p_h/batch{}/\".format(m_name,i),\n",
    "                                                    stat=\"test_time\")\n",
    "\n",
    "    \n",
    "    all_accs.append(test_accuracy)\n",
    "    all_transformed_accs.append(transformed_test_accuracy)\n",
    "    all_paired_t_p_values.append(paired_t_p_value)\n",
    "    all_dev_plus_diff.append(diff)\n",
    "    all_time.append(t_time)"
   ]
  },
  {
   "cell_type": "code",
   "execution_count": 3,
   "metadata": {},
   "outputs": [
    {
     "name": "stdout",
     "output_type": "stream",
     "text": [
      "Time for all experiments = 379.0 hours\n",
      "Number of paramaters for RoBERTa = 125238531\n"
     ]
    }
   ],
   "source": [
    "total_time = pd.concat(all_time,1).sum().sum()\n",
    "n_params = 125238531\n",
    "print(\"Time for all experiments = {:.1f} hours\".format(total_time))\n",
    "print(\"Number of paramaters for RoBERTa = {}\".format(n_params))"
   ]
  },
  {
   "cell_type": "markdown",
   "metadata": {},
   "source": [
    "## Accuracy"
   ]
  },
  {
   "cell_type": "code",
   "execution_count": 4,
   "metadata": {},
   "outputs": [
    {
     "data": {
      "image/png": "[encoded data removed]",
      "text/plain": [
       "<Figure size 864x432 with 1 Axes>"
      ]
     },
     "metadata": {
      "needs_background": "light"
     },
     "output_type": "display_data"
    }
   ],
   "source": [
    "rhos, mean_acc, error_acc, _ = get_rho_stats_from_result_list(all_accs)\n",
    "\n",
    "_, mean_acc_t, error_acc_t, _ = get_rho_stats_from_result_list(all_transformed_accs)\n",
    "\n",
    "fig, ax = plt.subplots(figsize=(12,6))\n",
    "ax.errorbar(rhos, mean_acc, yerr=error_acc, fmt='-o', label=\"original test data\");\n",
    "ax.errorbar(rhos, mean_acc_t, yerr=error_acc_t, fmt='-o', label=\"transformed test data\");\n",
    "ax.legend(loc=\"best\");\n",
    "ax.set_xlabel(r\"$\\rho$\", fontsize=14);\n",
    "ax.set_ylabel(\"accuracy\", fontsize=14);\n",
    "ax.set_title(\"RoBERTa accuracy\\n\\ndataset: SNLI\\ntransformation: synonym substitution\\ntest repetitions: {}\\n\".format(test_repetitions));\n",
    "fig.tight_layout()\n",
    "# fig.savefig('figs/roberta_base_acc_snli_syn_p_h.png', bbox_inches=None, pad_inches=0.5)"
   ]
  },
  {
   "cell_type": "code",
   "execution_count": 5,
   "metadata": {},
   "outputs": [
    {
     "data": {
      "text/html": [
       "<div>\n",
       "<style scoped>\n",
       "    .dataframe tbody tr th:only-of-type {\n",
       "        vertical-align: middle;\n",
       "    }\n",
       "\n",
       "    .dataframe tbody tr th {\n",
       "        vertical-align: top;\n",
       "    }\n",
       "\n",
       "    .dataframe thead th {\n",
       "        text-align: right;\n",
       "    }\n",
       "</style>\n",
       "<table border=\"1\" class=\"dataframe\">\n",
       "  <thead>\n",
       "    <tr style=\"text-align: right;\">\n",
       "      <th></th>\n",
       "      <th>test_accuracy</th>\n",
       "      <th>test_accuracy</th>\n",
       "      <th>test_accuracy</th>\n",
       "      <th>test_accuracy</th>\n",
       "    </tr>\n",
       "  </thead>\n",
       "  <tbody>\n",
       "    <tr>\n",
       "      <th>0.0</th>\n",
       "      <td>0.899430</td>\n",
       "      <td>0.900346</td>\n",
       "      <td>0.904723</td>\n",
       "      <td>0.903502</td>\n",
       "    </tr>\n",
       "    <tr>\n",
       "      <th>0.2</th>\n",
       "      <td>0.904214</td>\n",
       "      <td>0.904825</td>\n",
       "      <td>0.902178</td>\n",
       "      <td>0.905843</td>\n",
       "    </tr>\n",
       "    <tr>\n",
       "      <th>0.4</th>\n",
       "      <td>0.904520</td>\n",
       "      <td>0.901568</td>\n",
       "      <td>0.902178</td>\n",
       "      <td>0.902077</td>\n",
       "    </tr>\n",
       "    <tr>\n",
       "      <th>0.5</th>\n",
       "      <td>0.904621</td>\n",
       "      <td>0.901466</td>\n",
       "      <td>0.905130</td>\n",
       "      <td>0.900855</td>\n",
       "    </tr>\n",
       "    <tr>\n",
       "      <th>0.6</th>\n",
       "      <td>0.902687</td>\n",
       "      <td>0.902382</td>\n",
       "      <td>0.904927</td>\n",
       "      <td>0.901364</td>\n",
       "    </tr>\n",
       "    <tr>\n",
       "      <th>0.8</th>\n",
       "      <td>0.327667</td>\n",
       "      <td>0.901873</td>\n",
       "      <td>0.902484</td>\n",
       "      <td>0.902382</td>\n",
       "    </tr>\n",
       "    <tr>\n",
       "      <th>1.0</th>\n",
       "      <td>0.899226</td>\n",
       "      <td>0.897496</td>\n",
       "      <td>0.898107</td>\n",
       "      <td>0.901364</td>\n",
       "    </tr>\n",
       "  </tbody>\n",
       "</table>\n",
       "</div>"
      ],
      "text/plain": [
       "     test_accuracy  test_accuracy  test_accuracy  test_accuracy\n",
       "0.0       0.899430       0.900346       0.904723       0.903502\n",
       "0.2       0.904214       0.904825       0.902178       0.905843\n",
       "0.4       0.904520       0.901568       0.902178       0.902077\n",
       "0.5       0.904621       0.901466       0.905130       0.900855\n",
       "0.6       0.902687       0.902382       0.904927       0.901364\n",
       "0.8       0.327667       0.901873       0.902484       0.902382\n",
       "1.0       0.899226       0.897496       0.898107       0.901364"
      ]
     },
     "execution_count": 5,
     "metadata": {},
     "output_type": "execute_result"
    }
   ],
   "source": [
    "pd.concat(all_accs, 1)"
   ]
  },
  {
   "cell_type": "code",
   "execution_count": 6,
   "metadata": {},
   "outputs": [
    {
     "data": {
      "text/html": [
       "<div>\n",
       "<style scoped>\n",
       "    .dataframe tbody tr th:only-of-type {\n",
       "        vertical-align: middle;\n",
       "    }\n",
       "\n",
       "    .dataframe tbody tr th {\n",
       "        vertical-align: top;\n",
       "    }\n",
       "\n",
       "    .dataframe thead th {\n",
       "        text-align: right;\n",
       "    }\n",
       "</style>\n",
       "<table border=\"1\" class=\"dataframe\">\n",
       "  <thead>\n",
       "    <tr style=\"text-align: right;\">\n",
       "      <th></th>\n",
       "      <th>transformed_test_accuracy</th>\n",
       "      <th>transformed_test_accuracy</th>\n",
       "      <th>transformed_test_accuracy</th>\n",
       "    </tr>\n",
       "  </thead>\n",
       "  <tbody>\n",
       "    <tr>\n",
       "      <th>0.0</th>\n",
       "      <td>0.861258</td>\n",
       "      <td>0.862683</td>\n",
       "      <td>0.872252</td>\n",
       "    </tr>\n",
       "    <tr>\n",
       "      <th>0.2</th>\n",
       "      <td>0.878664</td>\n",
       "      <td>0.879682</td>\n",
       "      <td>0.878156</td>\n",
       "    </tr>\n",
       "    <tr>\n",
       "      <th>0.4</th>\n",
       "      <td>0.881107</td>\n",
       "      <td>0.879988</td>\n",
       "      <td>0.879581</td>\n",
       "    </tr>\n",
       "    <tr>\n",
       "      <th>0.5</th>\n",
       "      <td>0.887724</td>\n",
       "      <td>0.883856</td>\n",
       "      <td>0.883143</td>\n",
       "    </tr>\n",
       "    <tr>\n",
       "      <th>0.6</th>\n",
       "      <td>0.885281</td>\n",
       "      <td>0.887113</td>\n",
       "      <td>0.885790</td>\n",
       "    </tr>\n",
       "    <tr>\n",
       "      <th>0.8</th>\n",
       "      <td>0.327667</td>\n",
       "      <td>0.886299</td>\n",
       "      <td>0.884670</td>\n",
       "    </tr>\n",
       "    <tr>\n",
       "      <th>1.0</th>\n",
       "      <td>0.888436</td>\n",
       "      <td>0.888335</td>\n",
       "      <td>0.889047</td>\n",
       "    </tr>\n",
       "  </tbody>\n",
       "</table>\n",
       "</div>"
      ],
      "text/plain": [
       "     transformed_test_accuracy  transformed_test_accuracy  \\\n",
       "0.0                   0.861258                   0.862683   \n",
       "0.2                   0.878664                   0.879682   \n",
       "0.4                   0.881107                   0.879988   \n",
       "0.5                   0.887724                   0.883856   \n",
       "0.6                   0.885281                   0.887113   \n",
       "0.8                   0.327667                   0.886299   \n",
       "1.0                   0.888436                   0.888335   \n",
       "\n",
       "     transformed_test_accuracy  \n",
       "0.0                   0.872252  \n",
       "0.2                   0.878156  \n",
       "0.4                   0.879581  \n",
       "0.5                   0.883143  \n",
       "0.6                   0.885790  \n",
       "0.8                   0.884670  \n",
       "1.0                   0.889047  "
      ]
     },
     "execution_count": 6,
     "metadata": {},
     "output_type": "execute_result"
    }
   ],
   "source": [
    "pd.concat(all_transformed_accs, 1)"
   ]
  },
  {
   "cell_type": "code",
   "execution_count": 7,
   "metadata": {},
   "outputs": [
    {
     "data": {
      "text/html": [
       "<div>\n",
       "<style scoped>\n",
       "    .dataframe tbody tr th:only-of-type {\n",
       "        vertical-align: middle;\n",
       "    }\n",
       "\n",
       "    .dataframe tbody tr th {\n",
       "        vertical-align: top;\n",
       "    }\n",
       "\n",
       "    .dataframe thead th {\n",
       "        text-align: right;\n",
       "    }\n",
       "</style>\n",
       "<table border=\"1\" class=\"dataframe\">\n",
       "  <thead>\n",
       "    <tr style=\"text-align: right;\">\n",
       "      <th></th>\n",
       "      <th>paired_t_p_value</th>\n",
       "      <th>paired_t_p_value</th>\n",
       "      <th>paired_t_p_value</th>\n",
       "    </tr>\n",
       "  </thead>\n",
       "  <tbody>\n",
       "    <tr>\n",
       "      <th>0.0</th>\n",
       "      <td>0.0</td>\n",
       "      <td>0.0</td>\n",
       "      <td>0.000</td>\n",
       "    </tr>\n",
       "    <tr>\n",
       "      <th>0.2</th>\n",
       "      <td>0.0</td>\n",
       "      <td>0.0</td>\n",
       "      <td>0.000</td>\n",
       "    </tr>\n",
       "    <tr>\n",
       "      <th>0.4</th>\n",
       "      <td>0.0</td>\n",
       "      <td>0.0</td>\n",
       "      <td>0.000</td>\n",
       "    </tr>\n",
       "    <tr>\n",
       "      <th>0.5</th>\n",
       "      <td>0.0</td>\n",
       "      <td>0.0</td>\n",
       "      <td>0.000</td>\n",
       "    </tr>\n",
       "    <tr>\n",
       "      <th>0.6</th>\n",
       "      <td>0.0</td>\n",
       "      <td>0.0</td>\n",
       "      <td>0.000</td>\n",
       "    </tr>\n",
       "    <tr>\n",
       "      <th>0.8</th>\n",
       "      <td>0.0</td>\n",
       "      <td>0.0</td>\n",
       "      <td>0.000</td>\n",
       "    </tr>\n",
       "    <tr>\n",
       "      <th>1.0</th>\n",
       "      <td>0.0</td>\n",
       "      <td>0.0</td>\n",
       "      <td>0.002</td>\n",
       "    </tr>\n",
       "  </tbody>\n",
       "</table>\n",
       "</div>"
      ],
      "text/plain": [
       "     paired_t_p_value  paired_t_p_value  paired_t_p_value\n",
       "0.0               0.0               0.0             0.000\n",
       "0.2               0.0               0.0             0.000\n",
       "0.4               0.0               0.0             0.000\n",
       "0.5               0.0               0.0             0.000\n",
       "0.6               0.0               0.0             0.000\n",
       "0.8               0.0               0.0             0.000\n",
       "1.0               0.0               0.0             0.002"
      ]
     },
     "execution_count": 7,
     "metadata": {},
     "output_type": "execute_result"
    }
   ],
   "source": [
    "pd.concat(all_paired_t_p_values,1)"
   ]
  },
  {
   "cell_type": "markdown",
   "metadata": {},
   "source": [
    "## P-values"
   ]
  },
  {
   "cell_type": "code",
   "execution_count": 8,
   "metadata": {},
   "outputs": [
    {
     "data": {
      "image/png": "[encoded data removed]",
      "text/plain": [
       "<Figure size 864x432 with 1 Axes>"
      ]
     },
     "metadata": {
      "needs_background": "light"
     },
     "output_type": "display_data"
    }
   ],
   "source": [
    "rhos, mean_p_values, error_p_values, min_p_values = get_rho_stats_from_result_list(all_paired_t_p_values)\n",
    "\n",
    "alpha = 0.05\n",
    "alpha_adj = alpha / test_repetitions\n",
    "\n",
    "rejected_ids = []\n",
    "remain_ids = []\n",
    "\n",
    "for i,p in enumerate(min_p_values):\n",
    "    if p < alpha_adj:\n",
    "        rejected_ids.append(i)\n",
    "    else:\n",
    "        remain_ids.append(i)\n",
    "        \n",
    "rhos_rejected = rhos[rejected_ids]\n",
    "rhos_remain = rhos[remain_ids]\n",
    "y_rejected = mean_p_values[rejected_ids]\n",
    "y_remain = mean_p_values[remain_ids]\n",
    "error_rejected = error_p_values[rejected_ids]\n",
    "error_remain = error_p_values[remain_ids]\n",
    "\n",
    "title_msg = \"RoBERTa p-values\\n\\ndataset:\"\n",
    "title_msg += \"SNLI\\ntransformation: synonym substitution\\ntest repetitions: {}\\n\".format(test_repetitions)\n",
    "title_msg += \"significance level = {:.1%} \\n\".format(alpha)\n",
    "title_msg += \"adjusted significance level = {:.2%} \\n\".format(alpha_adj)\n",
    "\n",
    "\n",
    "fig, ax = plt.subplots(figsize=(12,6))\n",
    "ax.errorbar(rhos_rejected, y_rejected, yerr=error_rejected, fmt='o', linewidth=0.50, label=\"at least one p-value is smaller than {:.2%}\".format(alpha_adj));\n",
    "ax.errorbar(rhos_remain, y_remain, yerr=error_remain, fmt='o', linewidth=0.50, label=\"all p-values are greater than {:.2%}\".format(alpha_adj));\n",
    "ax.legend(loc=\"best\");\n",
    "ax.set_xlabel(r\"$\\rho$\", fontsize=14);\n",
    "ax.set_ylabel(\"p-value\", fontsize=14);\n",
    "ax.set_title(title_msg);\n",
    "fig.tight_layout()\n",
    "fig.tight_layout()\n",
    "# fig.savefig('figs/roberta_p_values_snli_syn_p_h.png', bbox_inches=None, pad_inches=0.5)"
   ]
  },
  {
   "cell_type": "markdown",
   "metadata": {},
   "source": [
    "## Accuracy difference"
   ]
  },
  {
   "cell_type": "code",
   "execution_count": 9,
   "metadata": {},
   "outputs": [
    {
     "data": {
      "image/png": "[encoded data removed]",
      "text/plain": [
       "<Figure size 864x432 with 1 Axes>"
      ]
     },
     "metadata": {
      "needs_background": "light"
     },
     "output_type": "display_data"
    }
   ],
   "source": [
    "rhos, diff, _,_ = get_rho_stats_from_result_list(all_dev_plus_diff)\n",
    "_, test_acc, _,_ = get_rho_stats_from_result_list(all_accs)\n",
    "_, test_acc_t, _,_ = get_rho_stats_from_result_list(all_transformed_accs)\n",
    "test_diff = np.abs(test_acc - test_acc_t)\n",
    "\n",
    "fig, ax = plt.subplots(figsize=(12,6))\n",
    "ax.errorbar(rhos, diff, fmt='-o', label=\"validation\");\n",
    "ax.errorbar(rhos, test_diff, fmt='-o', label=\"test\");\n",
    "\n",
    "ax.legend(loc=\"best\");\n",
    "ax.set_xlabel(r\"$\\rho$\", fontsize=14);\n",
    "ax.set_ylabel(\"average accuracy difference\", fontsize=14);\n",
    "ax.set_title(\"RoBERTa accuracy difference\\n\\ndataset: SNLI\\ntransformation: synonym substitution\\ntest repetitions: {}\\n\".format(test_repetitions));\n",
    "fig.tight_layout()\n",
    "# fig.savefig('figs/roberta_acc_diff_snli_syn_p_h.png', bbox_inches=None, pad_inches=0.5)"
   ]
  },
  {
   "cell_type": "markdown",
   "metadata": {},
   "source": [
    "## Selecting the best $\\rho$"
   ]
  },
  {
   "cell_type": "code",
   "execution_count": 10,
   "metadata": {},
   "outputs": [
    {
     "data": {
      "text/html": [
       "<div>\n",
       "<style scoped>\n",
       "    .dataframe tbody tr th:only-of-type {\n",
       "        vertical-align: middle;\n",
       "    }\n",
       "\n",
       "    .dataframe tbody tr th {\n",
       "        vertical-align: top;\n",
       "    }\n",
       "\n",
       "    .dataframe thead th {\n",
       "        text-align: right;\n",
       "    }\n",
       "</style>\n",
       "<table border=\"1\" class=\"dataframe\">\n",
       "  <thead>\n",
       "    <tr style=\"text-align: right;\">\n",
       "      <th></th>\n",
       "      <th>dataset</th>\n",
       "      <th>model</th>\n",
       "      <th>rho</th>\n",
       "      <th>test_accuracy_loss_pct</th>\n",
       "      <th>average_test_accuracy</th>\n",
       "      <th>average_transformed_test_accuracy</th>\n",
       "      <th>combined_accuracy</th>\n",
       "    </tr>\n",
       "  </thead>\n",
       "  <tbody>\n",
       "    <tr>\n",
       "      <th>0</th>\n",
       "      <td>snli</td>\n",
       "      <td>RoBERTa</td>\n",
       "      <td>0.8</td>\n",
       "      <td>-21.2</td>\n",
       "      <td>0.710675</td>\n",
       "      <td>0.699545</td>\n",
       "      <td>0.70511</td>\n",
       "    </tr>\n",
       "  </tbody>\n",
       "</table>\n",
       "</div>"
      ],
      "text/plain": [
       "  dataset    model  rho  test_accuracy_loss_pct  average_test_accuracy  \\\n",
       "0    snli  RoBERTa  0.8                   -21.2               0.710675   \n",
       "\n",
       "   average_transformed_test_accuracy  combined_accuracy  \n",
       "0                           0.699545            0.70511  "
      ]
     },
     "execution_count": 10,
     "metadata": {},
     "output_type": "execute_result"
    }
   ],
   "source": [
    "id_min = np.argmin(diff)\n",
    "min_rho = rhos[id_min]\n",
    "min_rho_test_acc = test_acc[id_min]\n",
    "min_rho_transformed_test_acc = test_acc_t[id_min]\n",
    "test_accuracy_loss_pct = np.round(((min_rho_test_acc  - test_acc[0]) / test_acc[0]) * 100, 1)\n",
    "\n",
    "analysis = {\"dataset\":\"snli\",\n",
    "            \"model\": \"RoBERTa\",\n",
    "            \"rho\":min_rho,\n",
    "            \"test_accuracy_loss_pct\": test_accuracy_loss_pct,\n",
    "            \"average_test_accuracy\": min_rho_test_acc,\n",
    "            \"average_transformed_test_accuracy\": min_rho_transformed_test_acc,\n",
    "            \"combined_accuracy\": np.mean([min_rho_test_acc,min_rho_transformed_test_acc])}\n",
    "analysis = pd.DataFrame(analysis, index=[0])\n",
    "analysis"
   ]
  },
  {
   "cell_type": "code",
   "execution_count": null,
   "metadata": {},
   "outputs": [],
   "source": []
  }
 ],
 "metadata": {
  "kernelspec": {
   "display_name": "Python 3",
   "language": "python",
   "name": "python3"
  },
  "language_info": {
   "codemirror_mode": {
    "name": "ipython",
    "version": 3
   },
   "file_extension": ".py",
   "mimetype": "text/x-python",
   "name": "python",
   "nbconvert_exporter": "python",
   "pygments_lexer": "ipython3",
   "version": "3.6.9"
  }
 },
 "nbformat": 4,
 "nbformat_minor": 2
}
