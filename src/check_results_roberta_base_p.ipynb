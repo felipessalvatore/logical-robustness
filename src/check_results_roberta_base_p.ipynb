{
 "cells": [
  {
   "cell_type": "markdown",
   "metadata": {},
   "source": [
    "# Results for RoBERTa base when applying syn tranformation to premise only"
   ]
  },
  {
   "cell_type": "code",
   "execution_count": 1,
   "metadata": {},
   "outputs": [],
   "source": [
    "import pandas as pd\n",
    "import numpy as np\n",
    "import matplotlib.pyplot as plt\n",
    "import seaborn as sns\n",
    "from IPython.display import display, HTML \n",
    "from lr.stats.h_testing import get_boot_p_value,update_results_with_cochran_test\n",
    "from lr.analysis.util import get_boots, show_df, get_standart_results"
   ]
  },
  {
   "cell_type": "markdown",
   "metadata": {},
   "source": [
    "## Results for $\\rho = 0$"
   ]
  },
  {
   "cell_type": "code",
   "execution_count": 2,
   "metadata": {},
   "outputs": [
    {
     "data": {
      "text/html": [
       "<table border=\"1\" class=\"dataframe\">\n",
       "  <thead>\n",
       "    <tr style=\"text-align: right;\">\n",
       "      <th></th>\n",
       "      <th>data</th>\n",
       "      <th>model</th>\n",
       "      <th>transformation</th>\n",
       "      <th>rho</th>\n",
       "      <th>dgp_seed</th>\n",
       "      <th>random_state</th>\n",
       "      <th>number_of_simulations</th>\n",
       "      <th>validation_accuracy</th>\n",
       "      <th>transformed_validation_accuracy</th>\n",
       "      <th>accuracy_difference</th>\n",
       "      <th>test_size</th>\n",
       "      <th>standart_error</th>\n",
       "      <th>observable_t_stats</th>\n",
       "      <th>p_value</th>\n",
       "      <th>cochran_statistic</th>\n",
       "      <th>cochran_p_value</th>\n",
       "      <th>training_time</th>\n",
       "      <th>test_time</th>\n",
       "    </tr>\n",
       "  </thead>\n",
       "  <tbody>\n",
       "    <tr>\n",
       "      <th>0</th>\n",
       "      <td>snli</td>\n",
       "      <td>roberta</td>\n",
       "      <td>wordnet sin tranformation p</td>\n",
       "      <td>0.0</td>\n",
       "      <td>138</td>\n",
       "      <td>245</td>\n",
       "      <td>1000</td>\n",
       "      <td>0.873298</td>\n",
       "      <td>0.837635</td>\n",
       "      <td>0.035663</td>\n",
       "      <td>9842</td>\n",
       "      <td>0.257874</td>\n",
       "      <td>13.720130</td>\n",
       "      <td>0.0</td>\n",
       "      <td>184.709145</td>\n",
       "      <td>0.0</td>\n",
       "      <td>3.962759</td>\n",
       "      <td>4.473513</td>\n",
       "    </tr>\n",
       "    <tr>\n",
       "      <th>1</th>\n",
       "      <td>snli</td>\n",
       "      <td>roberta</td>\n",
       "      <td>wordnet sin tranformation p</td>\n",
       "      <td>0.0</td>\n",
       "      <td>294</td>\n",
       "      <td>573</td>\n",
       "      <td>1000</td>\n",
       "      <td>0.876346</td>\n",
       "      <td>0.844544</td>\n",
       "      <td>0.031802</td>\n",
       "      <td>9842</td>\n",
       "      <td>0.247533</td>\n",
       "      <td>12.745861</td>\n",
       "      <td>0.0</td>\n",
       "      <td>159.818923</td>\n",
       "      <td>0.0</td>\n",
       "      <td>3.973480</td>\n",
       "      <td>4.484542</td>\n",
       "    </tr>\n",
       "  </tbody>\n",
       "</table>"
      ],
      "text/plain": [
       "<IPython.core.display.HTML object>"
      ]
     },
     "metadata": {},
     "output_type": "display_data"
    }
   ],
   "source": [
    "df1 = pd.read_csv(\"results/snli/roberta_base/sin_p/rho_0p00_dgp_seed_138_random_state_245.csv\")\n",
    "diff1 = pd.read_csv(\"raw_results/snli/roberta_base/sin_p/rho_0p0_dgp_seed_138_random_state_245_results.csv\")\n",
    "df1_new = update_results_with_cochran_test(df1, diff1)\n",
    "df2 = pd.read_csv(\"results/snli/roberta_base/sin_p/rho_0p00_dgp_seed_294_random_state_573.csv\")\n",
    "diff2 = pd.read_csv(\"raw_results/snli/roberta_base/sin_p/rho_0p0_dgp_seed_294_random_state_573_results.csv\")\n",
    "df2_new = update_results_with_cochran_test(df2, diff2)\n",
    "df_rho_0 = pd.concat([df1_new, df2_new]).reset_index(drop=True)\n",
    "df_rho_0 = get_standart_results(df_rho_0)\n",
    "show_df(df_rho_0)"
   ]
  },
  {
   "cell_type": "markdown",
   "metadata": {},
   "source": [
    "## Results for $\\rho = 0.25$"
   ]
  },
  {
   "cell_type": "code",
   "execution_count": 3,
   "metadata": {},
   "outputs": [
    {
     "data": {
      "text/html": [
       "<table border=\"1\" class=\"dataframe\">\n",
       "  <thead>\n",
       "    <tr style=\"text-align: right;\">\n",
       "      <th></th>\n",
       "      <th>data</th>\n",
       "      <th>model</th>\n",
       "      <th>transformation</th>\n",
       "      <th>rho</th>\n",
       "      <th>dgp_seed</th>\n",
       "      <th>random_state</th>\n",
       "      <th>number_of_simulations</th>\n",
       "      <th>validation_accuracy</th>\n",
       "      <th>transformed_validation_accuracy</th>\n",
       "      <th>accuracy_difference</th>\n",
       "      <th>test_size</th>\n",
       "      <th>standart_error</th>\n",
       "      <th>observable_t_stats</th>\n",
       "      <th>p_value</th>\n",
       "      <th>cochran_statistic</th>\n",
       "      <th>cochran_p_value</th>\n",
       "      <th>training_time</th>\n",
       "      <th>test_time</th>\n",
       "    </tr>\n",
       "  </thead>\n",
       "  <tbody>\n",
       "    <tr>\n",
       "      <th>0</th>\n",
       "      <td>snli</td>\n",
       "      <td>roberta</td>\n",
       "      <td>wordnet sin tranformation p</td>\n",
       "      <td>0.25</td>\n",
       "      <td>573</td>\n",
       "      <td>650</td>\n",
       "      <td>1000</td>\n",
       "      <td>0.871469</td>\n",
       "      <td>0.846169</td>\n",
       "      <td>0.02530</td>\n",
       "      <td>9842</td>\n",
       "      <td>0.239958</td>\n",
       "      <td>10.459781</td>\n",
       "      <td>0.0</td>\n",
       "      <td>108.204188</td>\n",
       "      <td>0.0</td>\n",
       "      <td>3.952947</td>\n",
       "      <td>4.454167</td>\n",
       "    </tr>\n",
       "    <tr>\n",
       "      <th>1</th>\n",
       "      <td>snli</td>\n",
       "      <td>roberta</td>\n",
       "      <td>wordnet sin tranformation p</td>\n",
       "      <td>0.25</td>\n",
       "      <td>1948</td>\n",
       "      <td>74</td>\n",
       "      <td>1000</td>\n",
       "      <td>0.865881</td>\n",
       "      <td>0.843731</td>\n",
       "      <td>0.02215</td>\n",
       "      <td>9842</td>\n",
       "      <td>0.233623</td>\n",
       "      <td>9.405894</td>\n",
       "      <td>0.0</td>\n",
       "      <td>87.682657</td>\n",
       "      <td>0.0</td>\n",
       "      <td>3.963304</td>\n",
       "      <td>4.465069</td>\n",
       "    </tr>\n",
       "  </tbody>\n",
       "</table>"
      ],
      "text/plain": [
       "<IPython.core.display.HTML object>"
      ]
     },
     "metadata": {},
     "output_type": "display_data"
    }
   ],
   "source": [
    "df1 = pd.read_csv(\"results/snli/roberta_base/sin_p/rho_0p25_dgp_seed_573_random_state_650.csv\")\n",
    "diff1 = pd.read_csv(\"raw_results/snli/roberta_base/sin_p/rho_0p25_dgp_seed_573_random_state_650_results.csv\")\n",
    "df1_new = update_results_with_cochran_test(df1, diff1)\n",
    "df2 = pd.read_csv(\"results/snli/roberta_base/sin_p/rho_0p25_dgp_seed_1948_random_state_74.csv\")\n",
    "diff2 = pd.read_csv(\"raw_results/snli/roberta_base/sin_p/rho_0p25_dgp_seed_1948_random_state_74_results.csv\")\n",
    "df2_new = update_results_with_cochran_test(df2, diff2)\n",
    "df_rho_0p25 = pd.concat([df1_new, df2_new]).reset_index(drop=True)\n",
    "df_rho_0p25 = get_standart_results(df_rho_0p25)\n",
    "show_df(df_rho_0p25)"
   ]
  },
  {
   "cell_type": "markdown",
   "metadata": {},
   "source": [
    "## Results for $\\rho = 0.5$"
   ]
  },
  {
   "cell_type": "code",
   "execution_count": 4,
   "metadata": {},
   "outputs": [
    {
     "data": {
      "text/html": [
       "<table border=\"1\" class=\"dataframe\">\n",
       "  <thead>\n",
       "    <tr style=\"text-align: right;\">\n",
       "      <th></th>\n",
       "      <th>data</th>\n",
       "      <th>model</th>\n",
       "      <th>transformation</th>\n",
       "      <th>rho</th>\n",
       "      <th>dgp_seed</th>\n",
       "      <th>random_state</th>\n",
       "      <th>number_of_simulations</th>\n",
       "      <th>validation_accuracy</th>\n",
       "      <th>transformed_validation_accuracy</th>\n",
       "      <th>accuracy_difference</th>\n",
       "      <th>test_size</th>\n",
       "      <th>standart_error</th>\n",
       "      <th>observable_t_stats</th>\n",
       "      <th>p_value</th>\n",
       "      <th>cochran_statistic</th>\n",
       "      <th>cochran_p_value</th>\n",
       "      <th>training_time</th>\n",
       "      <th>test_time</th>\n",
       "    </tr>\n",
       "  </thead>\n",
       "  <tbody>\n",
       "    <tr>\n",
       "      <th>0</th>\n",
       "      <td>snli</td>\n",
       "      <td>roberta</td>\n",
       "      <td>wordnet sin tranformation p</td>\n",
       "      <td>0.5</td>\n",
       "      <td>108</td>\n",
       "      <td>243</td>\n",
       "      <td>1000</td>\n",
       "      <td>0.878277</td>\n",
       "      <td>0.861512</td>\n",
       "      <td>0.016765</td>\n",
       "      <td>9842</td>\n",
       "      <td>0.208105</td>\n",
       "      <td>7.992083</td>\n",
       "      <td>0.0</td>\n",
       "      <td>63.461538</td>\n",
       "      <td>0.0</td>\n",
       "      <td>5.262105</td>\n",
       "      <td>5.943039</td>\n",
       "    </tr>\n",
       "    <tr>\n",
       "      <th>1</th>\n",
       "      <td>snli</td>\n",
       "      <td>roberta</td>\n",
       "      <td>wordnet sin tranformation p</td>\n",
       "      <td>0.5</td>\n",
       "      <td>251</td>\n",
       "      <td>342</td>\n",
       "      <td>1000</td>\n",
       "      <td>0.875737</td>\n",
       "      <td>0.858261</td>\n",
       "      <td>0.017476</td>\n",
       "      <td>9842</td>\n",
       "      <td>0.210715</td>\n",
       "      <td>8.227931</td>\n",
       "      <td>0.0</td>\n",
       "      <td>67.236364</td>\n",
       "      <td>0.0</td>\n",
       "      <td>5.252554</td>\n",
       "      <td>5.932934</td>\n",
       "    </tr>\n",
       "  </tbody>\n",
       "</table>"
      ],
      "text/plain": [
       "<IPython.core.display.HTML object>"
      ]
     },
     "metadata": {},
     "output_type": "display_data"
    }
   ],
   "source": [
    "df1 = pd.read_csv(\"results/snli/roberta_base/sin_p/rho_0p50_dgp_seed_108_random_state_243.csv\")\n",
    "diff1 = pd.read_csv(\"raw_results/snli/roberta_base/sin_p/rho_0p5_dgp_seed_108_random_state_243_results.csv\")\n",
    "df1_new = update_results_with_cochran_test(df1, diff1)\n",
    "df2 = pd.read_csv(\"results/snli/roberta_base/sin_p/rho_0p50_dgp_seed_251_random_state_342.csv\")\n",
    "diff2 = pd.read_csv(\"raw_results/snli/roberta_base/sin_p/rho_0p5_dgp_seed_251_random_state_342_results.csv\")\n",
    "df2_new = update_results_with_cochran_test(df2, diff2)\n",
    "df_rho_0p5 = pd.concat([df1_new, df2_new]).reset_index(drop=True)\n",
    "df_rho_0p5 = get_standart_results(df_rho_0p5)\n",
    "show_df(df_rho_0p5)"
   ]
  },
  {
   "cell_type": "markdown",
   "metadata": {},
   "source": [
    "## Results for $\\rho = 0.75$"
   ]
  },
  {
   "cell_type": "code",
   "execution_count": 5,
   "metadata": {},
   "outputs": [
    {
     "data": {
      "text/html": [
       "<table border=\"1\" class=\"dataframe\">\n",
       "  <thead>\n",
       "    <tr style=\"text-align: right;\">\n",
       "      <th></th>\n",
       "      <th>data</th>\n",
       "      <th>model</th>\n",
       "      <th>transformation</th>\n",
       "      <th>rho</th>\n",
       "      <th>dgp_seed</th>\n",
       "      <th>random_state</th>\n",
       "      <th>number_of_simulations</th>\n",
       "      <th>validation_accuracy</th>\n",
       "      <th>transformed_validation_accuracy</th>\n",
       "      <th>accuracy_difference</th>\n",
       "      <th>test_size</th>\n",
       "      <th>standart_error</th>\n",
       "      <th>observable_t_stats</th>\n",
       "      <th>p_value</th>\n",
       "      <th>cochran_statistic</th>\n",
       "      <th>cochran_p_value</th>\n",
       "      <th>training_time</th>\n",
       "      <th>test_time</th>\n",
       "    </tr>\n",
       "  </thead>\n",
       "  <tbody>\n",
       "    <tr>\n",
       "      <th>0</th>\n",
       "      <td>snli</td>\n",
       "      <td>roberta</td>\n",
       "      <td>wordnet sin tranformation p</td>\n",
       "      <td>0.75</td>\n",
       "      <td>19402</td>\n",
       "      <td>173</td>\n",
       "      <td>1000</td>\n",
       "      <td>0.847897</td>\n",
       "      <td>0.832250</td>\n",
       "      <td>0.015647</td>\n",
       "      <td>9842</td>\n",
       "      <td>0.216564</td>\n",
       "      <td>7.167907</td>\n",
       "      <td>0.0</td>\n",
       "      <td>51.112069</td>\n",
       "      <td>0.0</td>\n",
       "      <td>5.272503</td>\n",
       "      <td>5.957630</td>\n",
       "    </tr>\n",
       "    <tr>\n",
       "      <th>1</th>\n",
       "      <td>snli</td>\n",
       "      <td>roberta</td>\n",
       "      <td>wordnet sin tranformation p</td>\n",
       "      <td>0.75</td>\n",
       "      <td>1332</td>\n",
       "      <td>75</td>\n",
       "      <td>1000</td>\n",
       "      <td>0.752185</td>\n",
       "      <td>0.729323</td>\n",
       "      <td>0.022861</td>\n",
       "      <td>9842</td>\n",
       "      <td>0.268939</td>\n",
       "      <td>8.433083</td>\n",
       "      <td>0.0</td>\n",
       "      <td>70.606695</td>\n",
       "      <td>0.0</td>\n",
       "      <td>5.261263</td>\n",
       "      <td>5.944582</td>\n",
       "    </tr>\n",
       "  </tbody>\n",
       "</table>"
      ],
      "text/plain": [
       "<IPython.core.display.HTML object>"
      ]
     },
     "metadata": {},
     "output_type": "display_data"
    }
   ],
   "source": [
    "df1 = pd.read_csv(\"results/snli/roberta_base/sin_p/rho_0p75_dgp_seed_19402_random_state_173.csv\")\n",
    "diff1 = pd.read_csv(\"raw_results/snli/roberta_base/sin_p/rho_0p75_dgp_seed_19402_random_state_173_results.csv\")\n",
    "df1_new = update_results_with_cochran_test(df1, diff1)\n",
    "df2 = pd.read_csv(\"results/snli/roberta_base/sin_p/rho_0p75_dgp_seed_1332_random_state_75.csv\")\n",
    "diff2 = pd.read_csv(\"raw_results/snli/roberta_base/sin_p/rho_0p75_dgp_seed_1332_random_state_75_results.csv\")\n",
    "df2_new = update_results_with_cochran_test(df2, diff2)\n",
    "\n",
    "df_rho_0p75 = pd.concat([df1_new, df2_new]).reset_index(drop=True)\n",
    "df_rho_0p75 = get_standart_results(df_rho_0p75)\n",
    "show_df(df_rho_0p75)"
   ]
  },
  {
   "cell_type": "markdown",
   "metadata": {},
   "source": [
    "## Results for $\\rho = 1.0$"
   ]
  },
  {
   "cell_type": "code",
   "execution_count": 8,
   "metadata": {},
   "outputs": [
    {
     "data": {
      "text/html": [
       "<table border=\"1\" class=\"dataframe\">\n",
       "  <thead>\n",
       "    <tr style=\"text-align: right;\">\n",
       "      <th></th>\n",
       "      <th>data</th>\n",
       "      <th>model</th>\n",
       "      <th>transformation</th>\n",
       "      <th>rho</th>\n",
       "      <th>dgp_seed</th>\n",
       "      <th>random_state</th>\n",
       "      <th>number_of_simulations</th>\n",
       "      <th>validation_accuracy</th>\n",
       "      <th>transformed_validation_accuracy</th>\n",
       "      <th>accuracy_difference</th>\n",
       "      <th>test_size</th>\n",
       "      <th>standart_error</th>\n",
       "      <th>observable_t_stats</th>\n",
       "      <th>p_value</th>\n",
       "      <th>cochran_statistic</th>\n",
       "      <th>cochran_p_value</th>\n",
       "      <th>training_time</th>\n",
       "      <th>test_time</th>\n",
       "    </tr>\n",
       "  </thead>\n",
       "  <tbody>\n",
       "    <tr>\n",
       "      <th>0</th>\n",
       "      <td>snli</td>\n",
       "      <td>roberta</td>\n",
       "      <td>wordnet sin tranformation p</td>\n",
       "      <td>1.0</td>\n",
       "      <td>893</td>\n",
       "      <td>122</td>\n",
       "      <td>1000</td>\n",
       "      <td>0.875838</td>\n",
       "      <td>0.865373</td>\n",
       "      <td>0.010465</td>\n",
       "      <td>9842</td>\n",
       "      <td>0.195437</td>\n",
       "      <td>5.31237</td>\n",
       "      <td>0.0</td>\n",
       "      <td>28.140584</td>\n",
       "      <td>0.0</td>\n",
       "      <td>3.965438</td>\n",
       "      <td>4.476229</td>\n",
       "    </tr>\n",
       "    <tr>\n",
       "      <th>1</th>\n",
       "      <td>snli</td>\n",
       "      <td>roberta</td>\n",
       "      <td>wordnet sin tranformation p</td>\n",
       "      <td>1.0</td>\n",
       "      <td>893</td>\n",
       "      <td>122</td>\n",
       "      <td>1000</td>\n",
       "      <td>0.875838</td>\n",
       "      <td>0.865373</td>\n",
       "      <td>0.010465</td>\n",
       "      <td>9842</td>\n",
       "      <td>0.195437</td>\n",
       "      <td>5.31237</td>\n",
       "      <td>0.0</td>\n",
       "      <td>28.140584</td>\n",
       "      <td>0.0</td>\n",
       "      <td>3.965438</td>\n",
       "      <td>4.476229</td>\n",
       "    </tr>\n",
       "  </tbody>\n",
       "</table>"
      ],
      "text/plain": [
       "<IPython.core.display.HTML object>"
      ]
     },
     "metadata": {},
     "output_type": "display_data"
    }
   ],
   "source": [
    "# fake\n",
    "df1 = pd.read_csv(\"results/snli/roberta_base/sin_p/rho_1p00_dgp_seed_893_random_state_122.csv\")\n",
    "diff1 = pd.read_csv(\"raw_results/snli/roberta_base/sin_p/rho_1p0_dgp_seed_893_random_state_122_results.csv\")\n",
    "df1_new = update_results_with_cochran_test(df1, diff1)\n",
    "\n",
    "\n",
    "# df1 = pd.read_csv(\"results/snli/roberta_base/sin_p/rho_1p00_dgp_seed_173_random_state_45.csv\")\n",
    "# diff1 = pd.read_csv(\"raw_results/snli/roberta_base/sin_p/rho_1p0_dgp_seed_173_random_state_45_results.csv\")\n",
    "# df1_new = update_results_with_cochran_test(df1, diff1)\n",
    "\n",
    "df2 = pd.read_csv(\"results/snli/roberta_base/sin_p/rho_1p00_dgp_seed_893_random_state_122.csv\")\n",
    "diff2 = pd.read_csv(\"raw_results/snli/roberta_base/sin_p/rho_1p0_dgp_seed_893_random_state_122_results.csv\")\n",
    "df2_new = update_results_with_cochran_test(df2, diff2)\n",
    "\n",
    "\n",
    "df_rho_1p0 = pd.concat([df1_new, df2_new]).reset_index(drop=True)\n",
    "df_rho_1p0 = get_standart_results(df_rho_1p0)\n",
    "show_df(df_rho_1p0)"
   ]
  },
  {
   "cell_type": "markdown",
   "metadata": {},
   "source": [
    "## Plotting Results"
   ]
  },
  {
   "cell_type": "code",
   "execution_count": 9,
   "metadata": {},
   "outputs": [
    {
     "data": {
      "image/png": "[encoded data removed]",
      "text/plain": [
       "<Figure size 720x360 with 2 Axes>"
      ]
     },
     "metadata": {
      "needs_background": "light"
     },
     "output_type": "display_data"
    },
    {
     "data": {
      "image/png": "[encoded data removed]",
      "text/plain": [
       "<Figure size 720x360 with 2 Axes>"
      ]
     },
     "metadata": {
      "needs_background": "light"
     },
     "output_type": "display_data"
    },
    {
     "data": {
      "image/png": "[encoded data removed]",
      "text/plain": [
       "<Figure size 864x432 with 1 Axes>"
      ]
     },
     "metadata": {
      "needs_background": "light"
     },
     "output_type": "display_data"
    }
   ],
   "source": [
    "dfs = [df_rho_0, df_rho_0p25, df_rho_0p5, df_rho_0p75, df_rho_1p0]\n",
    "names = [\"0.0\", \"0.25\", \"0.5\", \"0.75\", \"1.00\" ]\n",
    "\n",
    "all_p_values = {}\n",
    "for df, name in zip(dfs, names):\n",
    "    results = df.p_value\n",
    "    all_p_values[name] = results \n",
    "\n",
    "fig, ax = plt.subplots(figsize=(10,5))\n",
    "sns.heatmap(pd.DataFrame(all_p_values), annot=True, cmap=\"YlGnBu\", linewidths=0.3, ax=ax);\n",
    "ax.set_xlabel(r\"$\\rho$\", fontsize=14);\n",
    "ax.set_ylabel(\"number of tests\", fontsize=14);\n",
    "ax.set_title(\"RoBERTa base p-values (paired t-test) \\n\\ndataset: SNLI\\ntransformation: synonym substitution only P\\n\");\n",
    "fig.tight_layout()\n",
    "fig.savefig('figs/roberta_base_p_values_snli_sin_p.png', bbox_inches=None, pad_inches=0.5)\n",
    "\n",
    "\n",
    "all_p_values = {}\n",
    "for df, name in zip(dfs, names):\n",
    "    results = df.cochran_p_value\n",
    "    all_p_values[name] = results \n",
    "\n",
    "fig, ax = plt.subplots(figsize=(10,5))\n",
    "sns.heatmap(pd.DataFrame(all_p_values), annot=True, cmap=\"YlGnBu\", linewidths=0.3, ax=ax);\n",
    "ax.set_xlabel(r\"$\\rho$\", fontsize=14);\n",
    "ax.set_ylabel(\"number of tests\", fontsize=14);\n",
    "ax.set_title(\"RoBERTa base p-values (cochran test) \\n\\ndataset: SNLI\\ntransformation: synonym substitution only P\\n\");\n",
    "fig.tight_layout()\n",
    "fig.savefig('figs/roberta_base_p_values_cochran_snli_sin_p.png', bbox_inches=None, pad_inches=0.5)\n",
    "\n",
    "\n",
    "rhos = []\n",
    "acc_s = []\n",
    "acc_t_s = []\n",
    "\n",
    "for df in dfs:\n",
    "    acc = df.validation_accuracy.values\n",
    "    acc_s.append(acc)\n",
    "    acc_t = df.transformed_validation_accuracy.values\n",
    "    acc_t_s.append(acc_t)\n",
    "    rhos.append(df.rho.values[0])\n",
    "acc_s = np.array(acc_s)\n",
    "acc_t_s = np.array(acc_t_s)\n",
    "\n",
    "acc_c = [\"acc_{}\".format(i) for i in range(acc_s.shape[1])]\n",
    "acc_t_c = [\"acc_t_{}\".format(i) for i in range(acc_t_s.shape[1])]\n",
    "\n",
    "acc = pd.DataFrame(acc_s, index=rhos, columns=acc_c)\n",
    "acc.index.name = \"rho\"\n",
    "acc_t = pd.DataFrame(acc_t_s, index=rhos, columns=acc_t_c)\n",
    "acc_t.index.name = \"rho\"\n",
    "\n",
    "x = acc.mean(1).index\n",
    "y = acc.mean(1).values\n",
    "error = acc.std(1).values\n",
    "\n",
    "x_t = acc_t.mean(1).index\n",
    "y_t = acc_t.mean(1).values\n",
    "error_t = acc_t.std(1).values\n",
    "\n",
    "\n",
    "fig, ax = plt.subplots(figsize=(12,6))\n",
    "ax.errorbar(x, y, yerr=error, fmt='-o', label=\"original validation data\");\n",
    "ax.errorbar(x_t, y_t, yerr=error_t, fmt='-o', label=\"transformed validation data\");\n",
    "ax.legend(loc=\"best\");\n",
    "ax.set_xlabel(r\"$\\rho$\", fontsize=14);\n",
    "ax.set_ylabel(\"accuracy\", fontsize=14);\n",
    "ax.set_title(\"RoBERTa base accuracy\\n\\ndataset: SNLI\\ntransformation: synonym substitution only P\\n\");\n",
    "fig.tight_layout()\n",
    "fig.savefig('figs/roberta_base_acc_snli_sin_p.png', bbox_inches=None, pad_inches=0.5)\n"
   ]
  },
  {
   "cell_type": "code",
   "execution_count": null,
   "metadata": {},
   "outputs": [],
   "source": []
  }
 ],
 "metadata": {
  "kernelspec": {
   "display_name": "Python 3",
   "language": "python",
   "name": "python3"
  },
  "language_info": {
   "codemirror_mode": {
    "name": "ipython",
    "version": 3
   },
   "file_extension": ".py",
   "mimetype": "text/x-python",
   "name": "python",
   "nbconvert_exporter": "python",
   "pygments_lexer": "ipython3",
   "version": "3.6.9"
  }
 },
 "nbformat": 4,
 "nbformat_minor": 2
}
