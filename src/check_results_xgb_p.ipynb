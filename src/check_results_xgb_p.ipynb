{
 "cells": [
  {
   "cell_type": "markdown",
   "metadata": {},
   "source": [
    "# Results for XGB when applying syn tranformation to  premise only"
   ]
  },
  {
   "cell_type": "code",
   "execution_count": 1,
   "metadata": {},
   "outputs": [],
   "source": [
    "import pandas as pd\n",
    "import numpy as np\n",
    "import matplotlib.pyplot as plt\n",
    "import seaborn as sns\n",
    "from IPython.display import display, HTML \n",
    "from lr.stats.h_testing import get_boot_p_value\n",
    "from lr.analysis.util import get_boots, show_df, get_standart_results"
   ]
  },
  {
   "cell_type": "markdown",
   "metadata": {},
   "source": [
    "## Results for $\\rho = 0$"
   ]
  },
  {
   "cell_type": "code",
   "execution_count": 3,
   "metadata": {},
   "outputs": [
    {
     "data": {
      "text/html": [
       "<table border=\"1\" class=\"dataframe\">\n",
       "  <thead>\n",
       "    <tr style=\"text-align: right;\">\n",
       "      <th></th>\n",
       "      <th>data</th>\n",
       "      <th>model</th>\n",
       "      <th>transformation</th>\n",
       "      <th>rho</th>\n",
       "      <th>dgp_seed</th>\n",
       "      <th>random_state</th>\n",
       "      <th>number_of_simulations</th>\n",
       "      <th>validation_accuracy</th>\n",
       "      <th>transformed_validation_accuracy</th>\n",
       "      <th>accuracy_difference</th>\n",
       "      <th>test_size</th>\n",
       "      <th>standart_error</th>\n",
       "      <th>observable_t_stats</th>\n",
       "      <th>p_value</th>\n",
       "      <th>training_time</th>\n",
       "      <th>test_time</th>\n",
       "    </tr>\n",
       "  </thead>\n",
       "  <tbody>\n",
       "    <tr>\n",
       "      <th>0</th>\n",
       "      <td>snli</td>\n",
       "      <td>gradient boosting</td>\n",
       "      <td>wordnet sin tranformation p only</td>\n",
       "      <td>0.0</td>\n",
       "      <td>526</td>\n",
       "      <td>5</td>\n",
       "      <td>1000</td>\n",
       "      <td>0.572546</td>\n",
       "      <td>0.557407</td>\n",
       "      <td>0.015139</td>\n",
       "      <td>9842</td>\n",
       "      <td>0.354485</td>\n",
       "      <td>4.236881</td>\n",
       "      <td>0.0</td>\n",
       "      <td>3026.175056</td>\n",
       "      <td>3036.392119</td>\n",
       "    </tr>\n",
       "    <tr>\n",
       "      <th>1</th>\n",
       "      <td>snli</td>\n",
       "      <td>gradient boosting</td>\n",
       "      <td>wordnet sin tranformation p only</td>\n",
       "      <td>0.0</td>\n",
       "      <td>4548</td>\n",
       "      <td>3243</td>\n",
       "      <td>1000</td>\n",
       "      <td>0.578541</td>\n",
       "      <td>0.563199</td>\n",
       "      <td>0.015342</td>\n",
       "      <td>9842</td>\n",
       "      <td>0.322666</td>\n",
       "      <td>4.717176</td>\n",
       "      <td>0.0</td>\n",
       "      <td>3777.374537</td>\n",
       "      <td>3787.521940</td>\n",
       "    </tr>\n",
       "  </tbody>\n",
       "</table>"
      ],
      "text/plain": [
       "<IPython.core.display.HTML object>"
      ]
     },
     "metadata": {},
     "output_type": "display_data"
    }
   ],
   "source": [
    "df_rho_0 = pd.read_csv(\"results/snli/xgb/sin_p/rho_0p00_random_state_5_3243.csv\")\n",
    "df_rho_0 = get_standart_results(df_rho_0)\n",
    "show_df(df_rho_0)"
   ]
  },
  {
   "cell_type": "markdown",
   "metadata": {},
   "source": [
    "## Results for $\\rho = 0.25$"
   ]
  },
  {
   "cell_type": "code",
   "execution_count": 4,
   "metadata": {},
   "outputs": [
    {
     "data": {
      "text/html": [
       "<table border=\"1\" class=\"dataframe\">\n",
       "  <thead>\n",
       "    <tr style=\"text-align: right;\">\n",
       "      <th></th>\n",
       "      <th>data</th>\n",
       "      <th>model</th>\n",
       "      <th>transformation</th>\n",
       "      <th>rho</th>\n",
       "      <th>dgp_seed</th>\n",
       "      <th>random_state</th>\n",
       "      <th>number_of_simulations</th>\n",
       "      <th>validation_accuracy</th>\n",
       "      <th>transformed_validation_accuracy</th>\n",
       "      <th>accuracy_difference</th>\n",
       "      <th>test_size</th>\n",
       "      <th>standart_error</th>\n",
       "      <th>observable_t_stats</th>\n",
       "      <th>p_value</th>\n",
       "      <th>training_time</th>\n",
       "      <th>test_time</th>\n",
       "    </tr>\n",
       "  </thead>\n",
       "  <tbody>\n",
       "    <tr>\n",
       "      <th>0</th>\n",
       "      <td>snli</td>\n",
       "      <td>gradient boosting</td>\n",
       "      <td>wordnet sin tranformation p only</td>\n",
       "      <td>0.25</td>\n",
       "      <td>127</td>\n",
       "      <td>4213</td>\n",
       "      <td>1000</td>\n",
       "      <td>0.574578</td>\n",
       "      <td>0.574375</td>\n",
       "      <td>0.000203</td>\n",
       "      <td>9842</td>\n",
       "      <td>0.283675</td>\n",
       "      <td>0.071067</td>\n",
       "      <td>0.960</td>\n",
       "      <td>3263.310727</td>\n",
       "      <td>3273.509290</td>\n",
       "    </tr>\n",
       "    <tr>\n",
       "      <th>1</th>\n",
       "      <td>snli</td>\n",
       "      <td>gradient boosting</td>\n",
       "      <td>wordnet sin tranformation p only</td>\n",
       "      <td>0.25</td>\n",
       "      <td>1237</td>\n",
       "      <td>143</td>\n",
       "      <td>1000</td>\n",
       "      <td>0.570413</td>\n",
       "      <td>0.573867</td>\n",
       "      <td>-0.003455</td>\n",
       "      <td>9842</td>\n",
       "      <td>0.278958</td>\n",
       "      <td>-1.228564</td>\n",
       "      <td>0.204</td>\n",
       "      <td>3486.981509</td>\n",
       "      <td>3497.270955</td>\n",
       "    </tr>\n",
       "  </tbody>\n",
       "</table>"
      ],
      "text/plain": [
       "<IPython.core.display.HTML object>"
      ]
     },
     "metadata": {},
     "output_type": "display_data"
    }
   ],
   "source": [
    "df_rho_0p25 = pd.read_csv(\"results/snli/xgb/sin_p/rho_0p25_random_state_4213_143.csv\")\n",
    "df_rho_0p25 = get_standart_results(df_rho_0p25)\n",
    "show_df(df_rho_0p25)"
   ]
  },
  {
   "cell_type": "markdown",
   "metadata": {},
   "source": [
    "## Results for $\\rho = 0.5$"
   ]
  },
  {
   "cell_type": "code",
   "execution_count": 5,
   "metadata": {},
   "outputs": [
    {
     "data": {
      "text/html": [
       "<table border=\"1\" class=\"dataframe\">\n",
       "  <thead>\n",
       "    <tr style=\"text-align: right;\">\n",
       "      <th></th>\n",
       "      <th>data</th>\n",
       "      <th>model</th>\n",
       "      <th>transformation</th>\n",
       "      <th>rho</th>\n",
       "      <th>dgp_seed</th>\n",
       "      <th>random_state</th>\n",
       "      <th>number_of_simulations</th>\n",
       "      <th>validation_accuracy</th>\n",
       "      <th>transformed_validation_accuracy</th>\n",
       "      <th>accuracy_difference</th>\n",
       "      <th>test_size</th>\n",
       "      <th>standart_error</th>\n",
       "      <th>observable_t_stats</th>\n",
       "      <th>p_value</th>\n",
       "      <th>training_time</th>\n",
       "      <th>test_time</th>\n",
       "    </tr>\n",
       "  </thead>\n",
       "  <tbody>\n",
       "    <tr>\n",
       "      <th>0</th>\n",
       "      <td>snli</td>\n",
       "      <td>gradient boosting</td>\n",
       "      <td>wordnet sin tranformation p only</td>\n",
       "      <td>0.5</td>\n",
       "      <td>22</td>\n",
       "      <td>191</td>\n",
       "      <td>1000</td>\n",
       "      <td>0.566348</td>\n",
       "      <td>0.572648</td>\n",
       "      <td>-0.006300</td>\n",
       "      <td>9842</td>\n",
       "      <td>0.287519</td>\n",
       "      <td>-2.173620</td>\n",
       "      <td>0.028</td>\n",
       "      <td>3983.724497</td>\n",
       "      <td>3994.10201</td>\n",
       "    </tr>\n",
       "    <tr>\n",
       "      <th>1</th>\n",
       "      <td>snli</td>\n",
       "      <td>gradient boosting</td>\n",
       "      <td>wordnet sin tranformation p only</td>\n",
       "      <td>0.5</td>\n",
       "      <td>411</td>\n",
       "      <td>212</td>\n",
       "      <td>1000</td>\n",
       "      <td>0.571632</td>\n",
       "      <td>0.575594</td>\n",
       "      <td>-0.003963</td>\n",
       "      <td>9842</td>\n",
       "      <td>0.276941</td>\n",
       "      <td>-1.419501</td>\n",
       "      <td>0.150</td>\n",
       "      <td>3887.984030</td>\n",
       "      <td>3898.18558</td>\n",
       "    </tr>\n",
       "  </tbody>\n",
       "</table>"
      ],
      "text/plain": [
       "<IPython.core.display.HTML object>"
      ]
     },
     "metadata": {},
     "output_type": "display_data"
    }
   ],
   "source": [
    "df_rho_0p5 = pd.read_csv(\"results/snli/xgb/sin_p/rho_0p50_random_state_191_212.csv\")\n",
    "df_rho_0p5 = get_standart_results(df_rho_0p5)\n",
    "show_df(df_rho_0p5)"
   ]
  },
  {
   "cell_type": "markdown",
   "metadata": {},
   "source": [
    "## Results for $\\rho = 0.75$"
   ]
  },
  {
   "cell_type": "code",
   "execution_count": 6,
   "metadata": {},
   "outputs": [
    {
     "data": {
      "text/html": [
       "<table border=\"1\" class=\"dataframe\">\n",
       "  <thead>\n",
       "    <tr style=\"text-align: right;\">\n",
       "      <th></th>\n",
       "      <th>data</th>\n",
       "      <th>model</th>\n",
       "      <th>transformation</th>\n",
       "      <th>rho</th>\n",
       "      <th>dgp_seed</th>\n",
       "      <th>random_state</th>\n",
       "      <th>number_of_simulations</th>\n",
       "      <th>validation_accuracy</th>\n",
       "      <th>transformed_validation_accuracy</th>\n",
       "      <th>accuracy_difference</th>\n",
       "      <th>test_size</th>\n",
       "      <th>standart_error</th>\n",
       "      <th>observable_t_stats</th>\n",
       "      <th>p_value</th>\n",
       "      <th>training_time</th>\n",
       "      <th>test_time</th>\n",
       "    </tr>\n",
       "  </thead>\n",
       "  <tbody>\n",
       "    <tr>\n",
       "      <th>0</th>\n",
       "      <td>snli</td>\n",
       "      <td>gradient boosting</td>\n",
       "      <td>wordnet sin tranformation p only</td>\n",
       "      <td>0.75</td>\n",
       "      <td>119</td>\n",
       "      <td>3212</td>\n",
       "      <td>1000</td>\n",
       "      <td>0.569701</td>\n",
       "      <td>0.577626</td>\n",
       "      <td>-0.007925</td>\n",
       "      <td>9842</td>\n",
       "      <td>0.278138</td>\n",
       "      <td>-2.826789</td>\n",
       "      <td>0.004</td>\n",
       "      <td>4480.603190</td>\n",
       "      <td>4490.822839</td>\n",
       "    </tr>\n",
       "    <tr>\n",
       "      <th>1</th>\n",
       "      <td>snli</td>\n",
       "      <td>gradient boosting</td>\n",
       "      <td>wordnet sin tranformation p only</td>\n",
       "      <td>0.75</td>\n",
       "      <td>116</td>\n",
       "      <td>55</td>\n",
       "      <td>1000</td>\n",
       "      <td>0.557407</td>\n",
       "      <td>0.567060</td>\n",
       "      <td>-0.009653</td>\n",
       "      <td>9842</td>\n",
       "      <td>0.284762</td>\n",
       "      <td>-3.362789</td>\n",
       "      <td>0.000</td>\n",
       "      <td>4281.792054</td>\n",
       "      <td>4292.058416</td>\n",
       "    </tr>\n",
       "  </tbody>\n",
       "</table>"
      ],
      "text/plain": [
       "<IPython.core.display.HTML object>"
      ]
     },
     "metadata": {},
     "output_type": "display_data"
    }
   ],
   "source": [
    "df_rho_0p75 = pd.read_csv(\"results/snli/xgb/sin_p/rho_0p75_random_state_3212_55.csv\")\n",
    "df_rho_0p75 = get_standart_results(df_rho_0p75)\n",
    "show_df(df_rho_0p75)"
   ]
  },
  {
   "cell_type": "markdown",
   "metadata": {},
   "source": [
    "## Results for $\\rho = 1.0$"
   ]
  },
  {
   "cell_type": "code",
   "execution_count": 7,
   "metadata": {},
   "outputs": [
    {
     "data": {
      "text/html": [
       "<table border=\"1\" class=\"dataframe\">\n",
       "  <thead>\n",
       "    <tr style=\"text-align: right;\">\n",
       "      <th></th>\n",
       "      <th>data</th>\n",
       "      <th>model</th>\n",
       "      <th>transformation</th>\n",
       "      <th>rho</th>\n",
       "      <th>dgp_seed</th>\n",
       "      <th>random_state</th>\n",
       "      <th>number_of_simulations</th>\n",
       "      <th>validation_accuracy</th>\n",
       "      <th>transformed_validation_accuracy</th>\n",
       "      <th>accuracy_difference</th>\n",
       "      <th>test_size</th>\n",
       "      <th>standart_error</th>\n",
       "      <th>observable_t_stats</th>\n",
       "      <th>p_value</th>\n",
       "      <th>training_time</th>\n",
       "      <th>test_time</th>\n",
       "    </tr>\n",
       "  </thead>\n",
       "  <tbody>\n",
       "    <tr>\n",
       "      <th>0</th>\n",
       "      <td>snli</td>\n",
       "      <td>gradient boosting</td>\n",
       "      <td>wordnet sin tranformation p only</td>\n",
       "      <td>1.0</td>\n",
       "      <td>455</td>\n",
       "      <td>11</td>\n",
       "      <td>1000</td>\n",
       "      <td>0.551616</td>\n",
       "      <td>0.574883</td>\n",
       "      <td>-0.023268</td>\n",
       "      <td>9842</td>\n",
       "      <td>0.316464</td>\n",
       "      <td>-7.294060</td>\n",
       "      <td>0.0</td>\n",
       "      <td>4452.733428</td>\n",
       "      <td>4462.978499</td>\n",
       "    </tr>\n",
       "    <tr>\n",
       "      <th>1</th>\n",
       "      <td>snli</td>\n",
       "      <td>gradient boosting</td>\n",
       "      <td>wordnet sin tranformation p only</td>\n",
       "      <td>1.0</td>\n",
       "      <td>5152</td>\n",
       "      <td>762</td>\n",
       "      <td>1000</td>\n",
       "      <td>0.550803</td>\n",
       "      <td>0.580167</td>\n",
       "      <td>-0.029364</td>\n",
       "      <td>9842</td>\n",
       "      <td>0.338019</td>\n",
       "      <td>-8.618178</td>\n",
       "      <td>0.0</td>\n",
       "      <td>4079.344533</td>\n",
       "      <td>4089.550395</td>\n",
       "    </tr>\n",
       "  </tbody>\n",
       "</table>"
      ],
      "text/plain": [
       "<IPython.core.display.HTML object>"
      ]
     },
     "metadata": {},
     "output_type": "display_data"
    }
   ],
   "source": [
    "df_rho_1p0 = pd.read_csv(\"results/snli/xgb/sin_p/rho_1p00_random_state_11_762.csv\")\n",
    "df_rho_1p0 = get_standart_results(df_rho_1p0)\n",
    "show_df(df_rho_1p0)"
   ]
  },
  {
   "cell_type": "markdown",
   "metadata": {},
   "source": [
    "## Plotting Results"
   ]
  },
  {
   "cell_type": "code",
   "execution_count": 8,
   "metadata": {},
   "outputs": [
    {
     "data": {
      "image/png": "[encoded data removed]",
      "text/plain": [
       "<Figure size 720x360 with 2 Axes>"
      ]
     },
     "metadata": {
      "needs_background": "light"
     },
     "output_type": "display_data"
    },
    {
     "data": {
      "image/png": "[encoded data removed]",
      "text/plain": [
       "<Figure size 864x432 with 1 Axes>"
      ]
     },
     "metadata": {
      "needs_background": "light"
     },
     "output_type": "display_data"
    }
   ],
   "source": [
    "dfs = [df_rho_0, df_rho_0p25, df_rho_0p5, df_rho_0p75, df_rho_1p0]\n",
    "names = [\"0.0\", \"0.25\", \"0.5\", \"0.75\", \"1.00\" ]\n",
    "\n",
    "all_p_values = {}\n",
    "for df, name in zip(dfs, names):\n",
    "    results = df.p_value\n",
    "    all_p_values[name] = results \n",
    "\n",
    "fig, ax = plt.subplots(figsize=(10,5))\n",
    "sns.heatmap(pd.DataFrame(all_p_values), annot=True, cmap=\"YlGnBu\", linewidths=0.3, ax=ax);\n",
    "ax.set_xlabel(r\"$\\rho$\", fontsize=14);\n",
    "ax.set_ylabel(\"number of tests\", fontsize=14);\n",
    "ax.set_title(\"Gradient Boosting p-values\\n\\ndataset: SNLI\\ntransformation: synonym substitution only P\\n\");\n",
    "fig.tight_layout()\n",
    "fig.savefig('figs/gb_p_values_snli_sin_p.png', bbox_inches=None, pad_inches=0.5)\n",
    "\n",
    "\n",
    "rhos = []\n",
    "acc_s = []\n",
    "acc_t_s = []\n",
    "\n",
    "for df in dfs:\n",
    "    acc = df.validation_accuracy.values\n",
    "    acc_s.append(acc)\n",
    "    acc_t = df.transformed_validation_accuracy.values\n",
    "    acc_t_s.append(acc_t)\n",
    "    rhos.append(df.rho.values[0])\n",
    "acc_s = np.array(acc_s)\n",
    "acc_t_s = np.array(acc_t_s)\n",
    "\n",
    "acc_c = [\"acc_{}\".format(i) for i in range(acc_s.shape[1])]\n",
    "acc_t_c = [\"acc_t_{}\".format(i) for i in range(acc_t_s.shape[1])]\n",
    "\n",
    "acc = pd.DataFrame(acc_s, index=rhos, columns=acc_c)\n",
    "acc.index.name = \"rho\"\n",
    "acc_t = pd.DataFrame(acc_t_s, index=rhos, columns=acc_t_c)\n",
    "acc_t.index.name = \"rho\"\n",
    "\n",
    "x = acc.mean(1).index\n",
    "y = acc.mean(1).values\n",
    "error = acc.std(1).values\n",
    "\n",
    "x_t = acc_t.mean(1).index\n",
    "y_t = acc_t.mean(1).values\n",
    "error_t = acc_t.std(1).values\n",
    "\n",
    "\n",
    "fig, ax = plt.subplots(figsize=(12,6))\n",
    "ax.errorbar(x, y, yerr=error, fmt='-o', label=\"original validation data\");\n",
    "ax.errorbar(x_t, y_t, yerr=error_t, fmt='-o', label=\"transformed validation data\");\n",
    "ax.legend(loc=\"best\");\n",
    "ax.set_xlabel(r\"$\\rho$\", fontsize=14);\n",
    "ax.set_ylabel(\"accuracy\", fontsize=14);\n",
    "ax.set_title(\"Gradient Boosting accuracy\\n\\ndataset: SNLI\\ntransformation: synonym substitution only P\\n\");\n",
    "fig.tight_layout()\n",
    "fig.savefig('figs/gb_acc_snli_sin_p.png', bbox_inches=None, pad_inches=0.5)\n",
    "\n"
   ]
  },
  {
   "cell_type": "code",
   "execution_count": null,
   "metadata": {},
   "outputs": [],
   "source": []
  }
 ],
 "metadata": {
  "kernelspec": {
   "display_name": "Python 3",
   "language": "python",
   "name": "python3"
  },
  "language_info": {
   "codemirror_mode": {
    "name": "ipython",
    "version": 3
   },
   "file_extension": ".py",
   "mimetype": "text/x-python",
   "name": "python",
   "nbconvert_exporter": "python",
   "pygments_lexer": "ipython3",
   "version": "3.6.9"
  }
 },
 "nbformat": 4,
 "nbformat_minor": 2
}
