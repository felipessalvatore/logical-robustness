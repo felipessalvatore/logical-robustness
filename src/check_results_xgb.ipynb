{
 "cells": [
  {
   "cell_type": "markdown",
   "metadata": {},
   "source": [
    "# Results for XGB when applying syn tranformation to both premise and hypothesis"
   ]
  },
  {
   "cell_type": "code",
   "execution_count": 1,
   "metadata": {},
   "outputs": [],
   "source": [
    "import pandas as pd\n",
    "import numpy as np\n",
    "import matplotlib.pyplot as plt\n",
    "import seaborn as sns\n",
    "from IPython.display import display, HTML \n",
    "from lr.stats.h_testing import get_boot_p_value"
   ]
  },
  {
   "cell_type": "code",
   "execution_count": 2,
   "metadata": {},
   "outputs": [],
   "source": [
    "# np.random.choice(range(30)), np.random.choice(range(50))"
   ]
  },
  {
   "cell_type": "code",
   "execution_count": 3,
   "metadata": {},
   "outputs": [],
   "source": [
    "def show_df(df):\n",
    "    not_boot_columns = [c for c in df.columns if c.find(\"boot\") == -1]\n",
    "    display(HTML(df[not_boot_columns].to_html()))\n",
    "    \n",
    "def get_boots(df):\n",
    "    boot_columns = [c for c in df.columns if c.find(\"boot\") > -1]\n",
    "    boots = df[boot_columns].transpose().reset_index(drop=True)\n",
    "    boots = boots[0]\n",
    "    boots.name = \"boots_rho_{}_dgp_seed_{}_rs_{}\".format(df.rho[0],\n",
    "                                                             df.dgp_seed[0],\n",
    "                                                             df.random_state[0])\n",
    "    return boots\n",
    "\n",
    "def show_test(df):\n",
    "    t_boots = get_boots(df)\n",
    "    t_obs = df.observable_t_stats[0]\n",
    "    p_value = df.p_value[0]\n",
    "    new_p = get_boot_p_value(t_boots, t_obs)\n",
    "    assert new_p == p_value     \n",
    "    fig, ax = plt.subplots(figsize=(10,5))\n",
    "    t_boots.hist(ax=ax, label=\"bootstrap replications\");\n",
    "    plt.axvline(x=t_obs, color='r', linestyle='-', label=\"observed (t={:.1f})\".format(t_obs));\n",
    "    ax.set_xlabel(\"t\", fontsize=14);\n",
    "    ax.set_ylabel(\"frequency\", fontsize=14);\n",
    "    ax.set_title(\"Bootstrap test histogram (p-value = {:.8f})\".format(p_value) +\"\\n\", fontsize=16)\n",
    "    plt.legend(loc=\"best\");"
   ]
  },
  {
   "cell_type": "markdown",
   "metadata": {},
   "source": [
    "## Results for $\\rho = 0$"
   ]
  },
  {
   "cell_type": "code",
   "execution_count": 4,
   "metadata": {},
   "outputs": [
    {
     "data": {
      "text/html": [
       "<table border=\"1\" class=\"dataframe\">\n",
       "  <thead>\n",
       "    <tr style=\"text-align: right;\">\n",
       "      <th></th>\n",
       "      <th>m</th>\n",
       "      <th>train_accuracy_mean</th>\n",
       "      <th>train_accuracy_std</th>\n",
       "      <th>validation_accuracy</th>\n",
       "      <th>transformed_validation_accuracy</th>\n",
       "      <th>observable_t_stats</th>\n",
       "      <th>accuracy_difference</th>\n",
       "      <th>test_size</th>\n",
       "      <th>standart_error</th>\n",
       "      <th>p_value</th>\n",
       "      <th>transformation_time</th>\n",
       "      <th>training_time</th>\n",
       "      <th>test_time</th>\n",
       "    </tr>\n",
       "  </thead>\n",
       "  <tbody>\n",
       "    <tr>\n",
       "      <th>0</th>\n",
       "      <td>1</td>\n",
       "      <td>0.562648</td>\n",
       "      <td>0.0</td>\n",
       "      <td>0.557509</td>\n",
       "      <td>0.515241</td>\n",
       "      <td>11.116414</td>\n",
       "      <td>0.042268</td>\n",
       "      <td>9842</td>\n",
       "      <td>0.377213</td>\n",
       "      <td>0.0</td>\n",
       "      <td>0.890891</td>\n",
       "      <td>918.358759</td>\n",
       "      <td>927.873776</td>\n",
       "    </tr>\n",
       "    <tr>\n",
       "      <th>1</th>\n",
       "      <td>2</td>\n",
       "      <td>0.555849</td>\n",
       "      <td>0.0</td>\n",
       "      <td>0.557204</td>\n",
       "      <td>0.514936</td>\n",
       "      <td>10.893126</td>\n",
       "      <td>0.042268</td>\n",
       "      <td>9842</td>\n",
       "      <td>0.384945</td>\n",
       "      <td>0.0</td>\n",
       "      <td>0.921309</td>\n",
       "      <td>643.518823</td>\n",
       "      <td>653.108380</td>\n",
       "    </tr>\n",
       "  </tbody>\n",
       "</table>"
      ],
      "text/plain": [
       "<IPython.core.display.HTML object>"
      ]
     },
     "metadata": {},
     "output_type": "display_data"
    }
   ],
   "source": [
    "df_rho_0 = pd.read_csv(\"results/snli/xgb/sin_p_h/rho_0p00_random_state_42.csv\")\n",
    "show_df(df_rho_0)\n"
   ]
  },
  {
   "cell_type": "markdown",
   "metadata": {},
   "source": [
    "## Results for $\\rho = 0.25$"
   ]
  },
  {
   "cell_type": "code",
   "execution_count": 5,
   "metadata": {},
   "outputs": [
    {
     "data": {
      "text/html": [
       "<table border=\"1\" class=\"dataframe\">\n",
       "  <thead>\n",
       "    <tr style=\"text-align: right;\">\n",
       "      <th></th>\n",
       "      <th>m</th>\n",
       "      <th>train_accuracy_mean</th>\n",
       "      <th>train_accuracy_std</th>\n",
       "      <th>validation_accuracy</th>\n",
       "      <th>transformed_validation_accuracy</th>\n",
       "      <th>observable_t_stats</th>\n",
       "      <th>accuracy_difference</th>\n",
       "      <th>test_size</th>\n",
       "      <th>standart_error</th>\n",
       "      <th>p_value</th>\n",
       "      <th>transformation_time</th>\n",
       "      <th>training_time</th>\n",
       "      <th>test_time</th>\n",
       "    </tr>\n",
       "  </thead>\n",
       "  <tbody>\n",
       "    <tr>\n",
       "      <th>0</th>\n",
       "      <td>1</td>\n",
       "      <td>0.554766</td>\n",
       "      <td>0.0</td>\n",
       "      <td>0.554765</td>\n",
       "      <td>0.545824</td>\n",
       "      <td>2.998661</td>\n",
       "      <td>0.008941</td>\n",
       "      <td>9842</td>\n",
       "      <td>0.295811</td>\n",
       "      <td>0.002</td>\n",
       "      <td>0.970845</td>\n",
       "      <td>780.376662</td>\n",
       "      <td>789.837063</td>\n",
       "    </tr>\n",
       "    <tr>\n",
       "      <th>1</th>\n",
       "      <td>2</td>\n",
       "      <td>0.553691</td>\n",
       "      <td>0.0</td>\n",
       "      <td>0.554359</td>\n",
       "      <td>0.544808</td>\n",
       "      <td>3.044795</td>\n",
       "      <td>0.009551</td>\n",
       "      <td>9842</td>\n",
       "      <td>0.311192</td>\n",
       "      <td>0.002</td>\n",
       "      <td>0.989917</td>\n",
       "      <td>714.181519</td>\n",
       "      <td>723.599875</td>\n",
       "    </tr>\n",
       "  </tbody>\n",
       "</table>"
      ],
      "text/plain": [
       "<IPython.core.display.HTML object>"
      ]
     },
     "metadata": {},
     "output_type": "display_data"
    }
   ],
   "source": [
    "df_rho_0p25 = pd.read_csv(\"results/snli/xgb/sin_p_h/rho_0p25_random_state_43.csv\")\n",
    "show_df(df_rho_0p25)"
   ]
  },
  {
   "cell_type": "markdown",
   "metadata": {},
   "source": [
    "## Results for $\\rho = 0.5$"
   ]
  },
  {
   "cell_type": "code",
   "execution_count": 6,
   "metadata": {},
   "outputs": [
    {
     "data": {
      "text/html": [
       "<table border=\"1\" class=\"dataframe\">\n",
       "  <thead>\n",
       "    <tr style=\"text-align: right;\">\n",
       "      <th></th>\n",
       "      <th>m</th>\n",
       "      <th>train_accuracy_mean</th>\n",
       "      <th>train_accuracy_std</th>\n",
       "      <th>validation_accuracy</th>\n",
       "      <th>transformed_validation_accuracy</th>\n",
       "      <th>observable_t_stats</th>\n",
       "      <th>accuracy_difference</th>\n",
       "      <th>test_size</th>\n",
       "      <th>standart_error</th>\n",
       "      <th>p_value</th>\n",
       "      <th>transformation_time</th>\n",
       "      <th>training_time</th>\n",
       "      <th>test_time</th>\n",
       "    </tr>\n",
       "  </thead>\n",
       "  <tbody>\n",
       "    <tr>\n",
       "      <th>0</th>\n",
       "      <td>1</td>\n",
       "      <td>0.543908</td>\n",
       "      <td>0.0</td>\n",
       "      <td>0.537289</td>\n",
       "      <td>0.538102</td>\n",
       "      <td>-0.294485</td>\n",
       "      <td>-0.000813</td>\n",
       "      <td>9842</td>\n",
       "      <td>0.273832</td>\n",
       "      <td>0.806</td>\n",
       "      <td>0.998752</td>\n",
       "      <td>839.227551</td>\n",
       "      <td>848.711188</td>\n",
       "    </tr>\n",
       "    <tr>\n",
       "      <th>1</th>\n",
       "      <td>2</td>\n",
       "      <td>0.566564</td>\n",
       "      <td>0.0</td>\n",
       "      <td>0.563300</td>\n",
       "      <td>0.569092</td>\n",
       "      <td>-2.117409</td>\n",
       "      <td>-0.005792</td>\n",
       "      <td>9842</td>\n",
       "      <td>0.271349</td>\n",
       "      <td>0.038</td>\n",
       "      <td>1.053300</td>\n",
       "      <td>588.082037</td>\n",
       "      <td>597.556483</td>\n",
       "    </tr>\n",
       "  </tbody>\n",
       "</table>"
      ],
      "text/plain": [
       "<IPython.core.display.HTML object>"
      ]
     },
     "metadata": {},
     "output_type": "display_data"
    }
   ],
   "source": [
    "df_rho_0p5 = pd.read_csv(\"results/snli/xgb/sin_p_h/rho_0p50_random_state_44.csv\")\n",
    "show_df(df_rho_0p5)"
   ]
  },
  {
   "cell_type": "markdown",
   "metadata": {},
   "source": [
    "## Results for $\\rho = 0.75$"
   ]
  },
  {
   "cell_type": "code",
   "execution_count": 7,
   "metadata": {},
   "outputs": [
    {
     "data": {
      "text/html": [
       "<table border=\"1\" class=\"dataframe\">\n",
       "  <thead>\n",
       "    <tr style=\"text-align: right;\">\n",
       "      <th></th>\n",
       "      <th>m</th>\n",
       "      <th>train_accuracy_mean</th>\n",
       "      <th>train_accuracy_std</th>\n",
       "      <th>validation_accuracy</th>\n",
       "      <th>transformed_validation_accuracy</th>\n",
       "      <th>observable_t_stats</th>\n",
       "      <th>accuracy_difference</th>\n",
       "      <th>test_size</th>\n",
       "      <th>standart_error</th>\n",
       "      <th>p_value</th>\n",
       "      <th>transformation_time</th>\n",
       "      <th>training_time</th>\n",
       "      <th>test_time</th>\n",
       "    </tr>\n",
       "  </thead>\n",
       "  <tbody>\n",
       "    <tr>\n",
       "      <th>0</th>\n",
       "      <td>1</td>\n",
       "      <td>0.546428</td>\n",
       "      <td>0.0</td>\n",
       "      <td>0.533022</td>\n",
       "      <td>0.548364</td>\n",
       "      <td>-4.667339</td>\n",
       "      <td>-0.015342</td>\n",
       "      <td>9842</td>\n",
       "      <td>0.326111</td>\n",
       "      <td>0.0</td>\n",
       "      <td>1.054477</td>\n",
       "      <td>826.456741</td>\n",
       "      <td>835.907482</td>\n",
       "    </tr>\n",
       "    <tr>\n",
       "      <th>1</th>\n",
       "      <td>2</td>\n",
       "      <td>0.570079</td>\n",
       "      <td>0.0</td>\n",
       "      <td>0.559642</td>\n",
       "      <td>0.572343</td>\n",
       "      <td>-3.957971</td>\n",
       "      <td>-0.012701</td>\n",
       "      <td>9842</td>\n",
       "      <td>0.318343</td>\n",
       "      <td>0.0</td>\n",
       "      <td>1.047333</td>\n",
       "      <td>731.224401</td>\n",
       "      <td>740.627168</td>\n",
       "    </tr>\n",
       "  </tbody>\n",
       "</table>"
      ],
      "text/plain": [
       "<IPython.core.display.HTML object>"
      ]
     },
     "metadata": {},
     "output_type": "display_data"
    }
   ],
   "source": [
    "df_rho_0p75 = pd.read_csv(\"results/snli/xgb/sin_p_h/rho_0p75_random_state_45.csv\")\n",
    "show_df(df_rho_0p75)"
   ]
  },
  {
   "cell_type": "markdown",
   "metadata": {},
   "source": [
    "## Results for $\\rho = 1.0$"
   ]
  },
  {
   "cell_type": "code",
   "execution_count": 8,
   "metadata": {},
   "outputs": [
    {
     "data": {
      "text/html": [
       "<table border=\"1\" class=\"dataframe\">\n",
       "  <thead>\n",
       "    <tr style=\"text-align: right;\">\n",
       "      <th></th>\n",
       "      <th>m</th>\n",
       "      <th>train_accuracy_mean</th>\n",
       "      <th>train_accuracy_std</th>\n",
       "      <th>validation_accuracy</th>\n",
       "      <th>transformed_validation_accuracy</th>\n",
       "      <th>observable_t_stats</th>\n",
       "      <th>accuracy_difference</th>\n",
       "      <th>test_size</th>\n",
       "      <th>standart_error</th>\n",
       "      <th>p_value</th>\n",
       "      <th>transformation_time</th>\n",
       "      <th>training_time</th>\n",
       "      <th>test_time</th>\n",
       "    </tr>\n",
       "  </thead>\n",
       "  <tbody>\n",
       "    <tr>\n",
       "      <th>0</th>\n",
       "      <td>1</td>\n",
       "      <td>0.572558</td>\n",
       "      <td>0.0</td>\n",
       "      <td>0.496749</td>\n",
       "      <td>0.572038</td>\n",
       "      <td>-17.102584</td>\n",
       "      <td>-0.075290</td>\n",
       "      <td>9842</td>\n",
       "      <td>0.436732</td>\n",
       "      <td>0.0</td>\n",
       "      <td>1.013596</td>\n",
       "      <td>1206.526560</td>\n",
       "      <td>1215.975755</td>\n",
       "    </tr>\n",
       "    <tr>\n",
       "      <th>1</th>\n",
       "      <td>2</td>\n",
       "      <td>0.557837</td>\n",
       "      <td>0.0</td>\n",
       "      <td>0.491668</td>\n",
       "      <td>0.552022</td>\n",
       "      <td>-13.984603</td>\n",
       "      <td>-0.060354</td>\n",
       "      <td>9842</td>\n",
       "      <td>0.428149</td>\n",
       "      <td>0.0</td>\n",
       "      <td>1.023427</td>\n",
       "      <td>576.751087</td>\n",
       "      <td>586.185998</td>\n",
       "    </tr>\n",
       "  </tbody>\n",
       "</table>"
      ],
      "text/plain": [
       "<IPython.core.display.HTML object>"
      ]
     },
     "metadata": {},
     "output_type": "display_data"
    }
   ],
   "source": [
    "df_rho_1p0 = pd.read_csv(\"results/snli/xgb/sin_p_h/rho_1p00_random_state_46.csv\")\n",
    "show_df(df_rho_1p0)"
   ]
  },
  {
   "cell_type": "markdown",
   "metadata": {},
   "source": [
    "## Gathering all p-values"
   ]
  },
  {
   "cell_type": "code",
   "execution_count": 9,
   "metadata": {},
   "outputs": [
    {
     "data": {
      "image/png": "[encoded data removed]",
      "text/plain": [
       "<Figure size 720x360 with 2 Axes>"
      ]
     },
     "metadata": {
      "needs_background": "light"
     },
     "output_type": "display_data"
    }
   ],
   "source": [
    "dfs = [df_rho_0, df_rho_0p25, df_rho_0p5, df_rho_0p75, df_rho_1p0]\n",
    "names = [r\"$\\rho = 0$\", r\"$\\rho = 0.25$\", r\"$\\rho = 0.5$\", r\"$\\rho = 0.75$\", r\"$\\rho = 1$\"]\n",
    "\n",
    "all_p_values = {}\n",
    "for df, name in zip(dfs, names):\n",
    "    results = df.p_value\n",
    "    all_p_values[name] = results \n",
    "\n",
    "fig, ax = plt.subplots(figsize=(10,5))\n",
    "sns.heatmap(pd.DataFrame(all_p_values), annot=True, cmap=\"Reds\", ax=ax);\n",
    "\n",
    "\n"
   ]
  },
  {
   "cell_type": "code",
   "execution_count": 11,
   "metadata": {},
   "outputs": [
    {
     "data": {
      "text/plain": [
       "3.351462666666667"
      ]
     },
     "execution_count": 11,
     "metadata": {},
     "output_type": "execute_result"
    }
   ],
   "source": [
    "(1206.526560*2*5)/3600"
   ]
  },
  {
   "cell_type": "code",
   "execution_count": null,
   "metadata": {},
   "outputs": [],
   "source": []
  },
  {
   "cell_type": "code",
   "execution_count": null,
   "metadata": {},
   "outputs": [],
   "source": []
  },
  {
   "cell_type": "code",
   "execution_count": null,
   "metadata": {},
   "outputs": [],
   "source": []
  },
  {
   "cell_type": "code",
   "execution_count": null,
   "metadata": {},
   "outputs": [],
   "source": []
  },
  {
   "cell_type": "code",
   "execution_count": null,
   "metadata": {},
   "outputs": [],
   "source": []
  },
  {
   "cell_type": "code",
   "execution_count": null,
   "metadata": {},
   "outputs": [],
   "source": []
  }
 ],
 "metadata": {
  "kernelspec": {
   "display_name": "Python 3",
   "language": "python",
   "name": "python3"
  },
  "language_info": {
   "codemirror_mode": {
    "name": "ipython",
    "version": 3
   },
   "file_extension": ".py",
   "mimetype": "text/x-python",
   "name": "python",
   "nbconvert_exporter": "python",
   "pygments_lexer": "ipython3",
   "version": "3.6.9"
  }
 },
 "nbformat": 4,
 "nbformat_minor": 2
}
