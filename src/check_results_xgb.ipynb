{
 "cells": [
  {
   "cell_type": "markdown",
   "metadata": {},
   "source": [
    "# Results for XGB when applying syn tranformation to both premise and hypothesis"
   ]
  },
  {
   "cell_type": "code",
   "execution_count": 1,
   "metadata": {},
   "outputs": [],
   "source": [
    "import pandas as pd\n",
    "import numpy as np\n",
    "import matplotlib.pyplot as plt\n",
    "import seaborn as sns\n",
    "from IPython.display import display, HTML \n",
    "from lr.stats.h_testing import get_boot_p_value\n",
    "from lr.analysis.util import get_boots, show_df, get_standart_results"
   ]
  },
  {
   "cell_type": "markdown",
   "metadata": {},
   "source": [
    "## Results for $\\rho = 0$"
   ]
  },
  {
   "cell_type": "code",
   "execution_count": 2,
   "metadata": {},
   "outputs": [
    {
     "data": {
      "text/html": [
       "<table border=\"1\" class=\"dataframe\">\n",
       "  <thead>\n",
       "    <tr style=\"text-align: right;\">\n",
       "      <th></th>\n",
       "      <th>data</th>\n",
       "      <th>model</th>\n",
       "      <th>transformation</th>\n",
       "      <th>rho</th>\n",
       "      <th>dgp_seed</th>\n",
       "      <th>random_state</th>\n",
       "      <th>number_of_simulations</th>\n",
       "      <th>validation_accuracy</th>\n",
       "      <th>transformed_validation_accuracy</th>\n",
       "      <th>accuracy_difference</th>\n",
       "      <th>test_size</th>\n",
       "      <th>standart_error</th>\n",
       "      <th>observable_t_stats</th>\n",
       "      <th>p_value</th>\n",
       "      <th>training_time</th>\n",
       "      <th>test_time</th>\n",
       "    </tr>\n",
       "  </thead>\n",
       "  <tbody>\n",
       "    <tr>\n",
       "      <th>0</th>\n",
       "      <td>snli</td>\n",
       "      <td>gradient boosting</td>\n",
       "      <td>wordnet sin tranformation p and h</td>\n",
       "      <td>0.0</td>\n",
       "      <td>26</td>\n",
       "      <td>42</td>\n",
       "      <td>1000</td>\n",
       "      <td>0.569396</td>\n",
       "      <td>0.534038</td>\n",
       "      <td>0.035359</td>\n",
       "      <td>9842</td>\n",
       "      <td>0.394755</td>\n",
       "      <td>8.886070</td>\n",
       "      <td>0.0</td>\n",
       "      <td>1994.063306</td>\n",
       "      <td>2004.075684</td>\n",
       "    </tr>\n",
       "    <tr>\n",
       "      <th>1</th>\n",
       "      <td>snli</td>\n",
       "      <td>gradient boosting</td>\n",
       "      <td>wordnet sin tranformation p and h</td>\n",
       "      <td>0.0</td>\n",
       "      <td>48</td>\n",
       "      <td>343</td>\n",
       "      <td>1000</td>\n",
       "      <td>0.578744</td>\n",
       "      <td>0.536070</td>\n",
       "      <td>0.042674</td>\n",
       "      <td>9842</td>\n",
       "      <td>0.390405</td>\n",
       "      <td>10.844076</td>\n",
       "      <td>0.0</td>\n",
       "      <td>1913.271296</td>\n",
       "      <td>1923.058316</td>\n",
       "    </tr>\n",
       "  </tbody>\n",
       "</table>"
      ],
      "text/plain": [
       "<IPython.core.display.HTML object>"
      ]
     },
     "metadata": {},
     "output_type": "display_data"
    }
   ],
   "source": [
    "df_rho_0 = pd.read_csv(\"results/snli/xgb/sin_p_h/rho_0p00_random_state_42_343.csv\")\n",
    "df_rho_0 = get_standart_results(df_rho_0)\n",
    "show_df(df_rho_0)"
   ]
  },
  {
   "cell_type": "markdown",
   "metadata": {},
   "source": [
    "## Results for $\\rho = 0.25$"
   ]
  },
  {
   "cell_type": "code",
   "execution_count": 3,
   "metadata": {},
   "outputs": [
    {
     "data": {
      "text/html": [
       "<table border=\"1\" class=\"dataframe\">\n",
       "  <thead>\n",
       "    <tr style=\"text-align: right;\">\n",
       "      <th></th>\n",
       "      <th>data</th>\n",
       "      <th>model</th>\n",
       "      <th>transformation</th>\n",
       "      <th>rho</th>\n",
       "      <th>dgp_seed</th>\n",
       "      <th>random_state</th>\n",
       "      <th>number_of_simulations</th>\n",
       "      <th>validation_accuracy</th>\n",
       "      <th>transformed_validation_accuracy</th>\n",
       "      <th>accuracy_difference</th>\n",
       "      <th>test_size</th>\n",
       "      <th>standart_error</th>\n",
       "      <th>observable_t_stats</th>\n",
       "      <th>p_value</th>\n",
       "      <th>training_time</th>\n",
       "      <th>test_time</th>\n",
       "    </tr>\n",
       "  </thead>\n",
       "  <tbody>\n",
       "    <tr>\n",
       "      <th>0</th>\n",
       "      <td>snli</td>\n",
       "      <td>gradient boosting</td>\n",
       "      <td>wordnet sin tranformation p and h</td>\n",
       "      <td>0.25</td>\n",
       "      <td>27</td>\n",
       "      <td>413</td>\n",
       "      <td>1000</td>\n",
       "      <td>0.579049</td>\n",
       "      <td>0.568380</td>\n",
       "      <td>0.010669</td>\n",
       "      <td>9842</td>\n",
       "      <td>0.305387</td>\n",
       "      <td>3.465743</td>\n",
       "      <td>0.002</td>\n",
       "      <td>2063.697896</td>\n",
       "      <td>2073.848349</td>\n",
       "    </tr>\n",
       "    <tr>\n",
       "      <th>1</th>\n",
       "      <td>snli</td>\n",
       "      <td>gradient boosting</td>\n",
       "      <td>wordnet sin tranformation p and h</td>\n",
       "      <td>0.25</td>\n",
       "      <td>37</td>\n",
       "      <td>13</td>\n",
       "      <td>1000</td>\n",
       "      <td>0.573969</td>\n",
       "      <td>0.571429</td>\n",
       "      <td>0.002540</td>\n",
       "      <td>9842</td>\n",
       "      <td>0.305231</td>\n",
       "      <td>0.825601</td>\n",
       "      <td>0.430</td>\n",
       "      <td>2112.721880</td>\n",
       "      <td>2122.764684</td>\n",
       "    </tr>\n",
       "  </tbody>\n",
       "</table>"
      ],
      "text/plain": [
       "<IPython.core.display.HTML object>"
      ]
     },
     "metadata": {},
     "output_type": "display_data"
    }
   ],
   "source": [
    "df_rho_0p25 = pd.read_csv(\"results/snli/xgb/sin_p_h/rho_0p25_random_state_413_13.csv\")\n",
    "df_rho_0p25 = get_standart_results(df_rho_0p25)\n",
    "show_df(df_rho_0p25)"
   ]
  },
  {
   "cell_type": "markdown",
   "metadata": {},
   "source": [
    "## Results for $\\rho = 0.5$"
   ]
  },
  {
   "cell_type": "code",
   "execution_count": 4,
   "metadata": {},
   "outputs": [
    {
     "data": {
      "text/html": [
       "<table border=\"1\" class=\"dataframe\">\n",
       "  <thead>\n",
       "    <tr style=\"text-align: right;\">\n",
       "      <th></th>\n",
       "      <th>data</th>\n",
       "      <th>model</th>\n",
       "      <th>transformation</th>\n",
       "      <th>rho</th>\n",
       "      <th>dgp_seed</th>\n",
       "      <th>random_state</th>\n",
       "      <th>number_of_simulations</th>\n",
       "      <th>validation_accuracy</th>\n",
       "      <th>transformed_validation_accuracy</th>\n",
       "      <th>accuracy_difference</th>\n",
       "      <th>test_size</th>\n",
       "      <th>standart_error</th>\n",
       "      <th>observable_t_stats</th>\n",
       "      <th>p_value</th>\n",
       "      <th>training_time</th>\n",
       "      <th>test_time</th>\n",
       "    </tr>\n",
       "  </thead>\n",
       "  <tbody>\n",
       "    <tr>\n",
       "      <th>0</th>\n",
       "      <td>snli</td>\n",
       "      <td>gradient boosting</td>\n",
       "      <td>wordnet sin tranformation p and h</td>\n",
       "      <td>0.5</td>\n",
       "      <td>2</td>\n",
       "      <td>19</td>\n",
       "      <td>1000</td>\n",
       "      <td>0.565637</td>\n",
       "      <td>0.565840</td>\n",
       "      <td>-0.000203</td>\n",
       "      <td>9842</td>\n",
       "      <td>0.267071</td>\n",
       "      <td>-0.075485</td>\n",
       "      <td>0.968</td>\n",
       "      <td>2190.877096</td>\n",
       "      <td>2201.152337</td>\n",
       "    </tr>\n",
       "    <tr>\n",
       "      <th>1</th>\n",
       "      <td>snli</td>\n",
       "      <td>gradient boosting</td>\n",
       "      <td>wordnet sin tranformation p and h</td>\n",
       "      <td>0.5</td>\n",
       "      <td>41</td>\n",
       "      <td>22</td>\n",
       "      <td>1000</td>\n",
       "      <td>0.568177</td>\n",
       "      <td>0.568787</td>\n",
       "      <td>-0.000610</td>\n",
       "      <td>9842</td>\n",
       "      <td>0.281878</td>\n",
       "      <td>-0.214560</td>\n",
       "      <td>0.790</td>\n",
       "      <td>1647.986430</td>\n",
       "      <td>1658.106770</td>\n",
       "    </tr>\n",
       "  </tbody>\n",
       "</table>"
      ],
      "text/plain": [
       "<IPython.core.display.HTML object>"
      ]
     },
     "metadata": {},
     "output_type": "display_data"
    }
   ],
   "source": [
    "df_rho_0p5 = pd.read_csv(\"results/snli/xgb/sin_p_h/rho_0p50_random_state_19_22.csv\")\n",
    "df_rho_0p5 = get_standart_results(df_rho_0p5)\n",
    "show_df(df_rho_0p5)"
   ]
  },
  {
   "cell_type": "markdown",
   "metadata": {},
   "source": [
    "## Results for $\\rho = 0.75$"
   ]
  },
  {
   "cell_type": "code",
   "execution_count": 5,
   "metadata": {},
   "outputs": [
    {
     "data": {
      "text/html": [
       "<table border=\"1\" class=\"dataframe\">\n",
       "  <thead>\n",
       "    <tr style=\"text-align: right;\">\n",
       "      <th></th>\n",
       "      <th>data</th>\n",
       "      <th>model</th>\n",
       "      <th>transformation</th>\n",
       "      <th>rho</th>\n",
       "      <th>dgp_seed</th>\n",
       "      <th>random_state</th>\n",
       "      <th>number_of_simulations</th>\n",
       "      <th>validation_accuracy</th>\n",
       "      <th>transformed_validation_accuracy</th>\n",
       "      <th>accuracy_difference</th>\n",
       "      <th>test_size</th>\n",
       "      <th>standart_error</th>\n",
       "      <th>observable_t_stats</th>\n",
       "      <th>p_value</th>\n",
       "      <th>training_time</th>\n",
       "      <th>test_time</th>\n",
       "    </tr>\n",
       "  </thead>\n",
       "  <tbody>\n",
       "    <tr>\n",
       "      <th>0</th>\n",
       "      <td>snli</td>\n",
       "      <td>gradient boosting</td>\n",
       "      <td>wordnet sin tranformation p and h</td>\n",
       "      <td>0.75</td>\n",
       "      <td>19</td>\n",
       "      <td>322</td>\n",
       "      <td>1000</td>\n",
       "      <td>0.554460</td>\n",
       "      <td>0.568076</td>\n",
       "      <td>-0.013615</td>\n",
       "      <td>9842</td>\n",
       "      <td>0.312994</td>\n",
       "      <td>-4.315456</td>\n",
       "      <td>0.0</td>\n",
       "      <td>2122.824829</td>\n",
       "      <td>2133.028179</td>\n",
       "    </tr>\n",
       "    <tr>\n",
       "      <th>1</th>\n",
       "      <td>snli</td>\n",
       "      <td>gradient boosting</td>\n",
       "      <td>wordnet sin tranformation p and h</td>\n",
       "      <td>0.75</td>\n",
       "      <td>16</td>\n",
       "      <td>5</td>\n",
       "      <td>1000</td>\n",
       "      <td>0.562589</td>\n",
       "      <td>0.572749</td>\n",
       "      <td>-0.010161</td>\n",
       "      <td>9842</td>\n",
       "      <td>0.322398</td>\n",
       "      <td>-3.126552</td>\n",
       "      <td>0.0</td>\n",
       "      <td>1925.047720</td>\n",
       "      <td>1935.181782</td>\n",
       "    </tr>\n",
       "  </tbody>\n",
       "</table>"
      ],
      "text/plain": [
       "<IPython.core.display.HTML object>"
      ]
     },
     "metadata": {},
     "output_type": "display_data"
    }
   ],
   "source": [
    "df_rho_0p75 = pd.read_csv(\"results/snli/xgb/sin_p_h/rho_0p75_random_state_322_5.csv\")\n",
    "df_rho_0p75 = get_standart_results(df_rho_0p75)\n",
    "show_df(df_rho_0p75)"
   ]
  },
  {
   "cell_type": "markdown",
   "metadata": {},
   "source": [
    "## Results for $\\rho = 1.0$"
   ]
  },
  {
   "cell_type": "code",
   "execution_count": 6,
   "metadata": {},
   "outputs": [
    {
     "data": {
      "text/html": [
       "<table border=\"1\" class=\"dataframe\">\n",
       "  <thead>\n",
       "    <tr style=\"text-align: right;\">\n",
       "      <th></th>\n",
       "      <th>data</th>\n",
       "      <th>model</th>\n",
       "      <th>transformation</th>\n",
       "      <th>rho</th>\n",
       "      <th>dgp_seed</th>\n",
       "      <th>random_state</th>\n",
       "      <th>number_of_simulations</th>\n",
       "      <th>validation_accuracy</th>\n",
       "      <th>transformed_validation_accuracy</th>\n",
       "      <th>accuracy_difference</th>\n",
       "      <th>test_size</th>\n",
       "      <th>standart_error</th>\n",
       "      <th>observable_t_stats</th>\n",
       "      <th>p_value</th>\n",
       "      <th>training_time</th>\n",
       "      <th>test_time</th>\n",
       "    </tr>\n",
       "  </thead>\n",
       "  <tbody>\n",
       "    <tr>\n",
       "      <th>0</th>\n",
       "      <td>snli</td>\n",
       "      <td>gradient boosting</td>\n",
       "      <td>wordnet sin tranformation p and h</td>\n",
       "      <td>1.0</td>\n",
       "      <td>45</td>\n",
       "      <td>1</td>\n",
       "      <td>1000</td>\n",
       "      <td>0.515038</td>\n",
       "      <td>0.570921</td>\n",
       "      <td>-0.055883</td>\n",
       "      <td>9842</td>\n",
       "      <td>0.441366</td>\n",
       "      <td>-12.560927</td>\n",
       "      <td>0.0</td>\n",
       "      <td>1907.924211</td>\n",
       "      <td>1917.853004</td>\n",
       "    </tr>\n",
       "    <tr>\n",
       "      <th>1</th>\n",
       "      <td>snli</td>\n",
       "      <td>gradient boosting</td>\n",
       "      <td>wordnet sin tranformation p and h</td>\n",
       "      <td>1.0</td>\n",
       "      <td>152</td>\n",
       "      <td>76</td>\n",
       "      <td>1000</td>\n",
       "      <td>0.512599</td>\n",
       "      <td>0.572851</td>\n",
       "      <td>-0.060252</td>\n",
       "      <td>9842</td>\n",
       "      <td>0.442746</td>\n",
       "      <td>-13.500757</td>\n",
       "      <td>0.0</td>\n",
       "      <td>1954.653093</td>\n",
       "      <td>1964.643256</td>\n",
       "    </tr>\n",
       "  </tbody>\n",
       "</table>"
      ],
      "text/plain": [
       "<IPython.core.display.HTML object>"
      ]
     },
     "metadata": {},
     "output_type": "display_data"
    }
   ],
   "source": [
    "df_rho_1p0 = pd.read_csv(\"results/snli/xgb/sin_p_h/rho_1p00_random_state_1_76.csv\")\n",
    "df_rho_1p0 = get_standart_results(df_rho_1p0)\n",
    "show_df(df_rho_1p0)"
   ]
  },
  {
   "cell_type": "markdown",
   "metadata": {},
   "source": [
    "## Gathering all p-values"
   ]
  },
  {
   "cell_type": "code",
   "execution_count": 7,
   "metadata": {},
   "outputs": [
    {
     "data": {
      "image/png": "[encoded data removed]",
      "text/plain": [
       "<Figure size 720x360 with 2 Axes>"
      ]
     },
     "metadata": {
      "needs_background": "light"
     },
     "output_type": "display_data"
    }
   ],
   "source": [
    "dfs = [df_rho_0, df_rho_0p25, df_rho_0p5, df_rho_0p75, df_rho_1p0]\n",
    "names = [r\"$\\rho = 0$\", r\"$\\rho = 0.25$\", r\"$\\rho = 0.5$\", r\"$\\rho = 0.75$\", r\"$\\rho = 1$\"]\n",
    "\n",
    "all_p_values = {}\n",
    "for df, name in zip(dfs, names):\n",
    "    results = df.p_value\n",
    "    all_p_values[name] = results \n",
    "\n",
    "fig, ax = plt.subplots(figsize=(10,5))\n",
    "sns.heatmap(pd.DataFrame(all_p_values), annot=True, cmap=\"Reds\", ax=ax);"
   ]
  },
  {
   "cell_type": "code",
   "execution_count": null,
   "metadata": {},
   "outputs": [],
   "source": []
  },
  {
   "cell_type": "code",
   "execution_count": null,
   "metadata": {},
   "outputs": [],
   "source": []
  },
  {
   "cell_type": "code",
   "execution_count": null,
   "metadata": {},
   "outputs": [],
   "source": []
  },
  {
   "cell_type": "code",
   "execution_count": null,
   "metadata": {},
   "outputs": [],
   "source": []
  },
  {
   "cell_type": "code",
   "execution_count": null,
   "metadata": {},
   "outputs": [],
   "source": []
  },
  {
   "cell_type": "code",
   "execution_count": null,
   "metadata": {},
   "outputs": [],
   "source": []
  }
 ],
 "metadata": {
  "kernelspec": {
   "display_name": "Python 3",
   "language": "python",
   "name": "python3"
  },
  "language_info": {
   "codemirror_mode": {
    "name": "ipython",
    "version": 3
   },
   "file_extension": ".py",
   "mimetype": "text/x-python",
   "name": "python",
   "nbconvert_exporter": "python",
   "pygments_lexer": "ipython3",
   "version": "3.6.9"
  }
 },
 "nbformat": 4,
 "nbformat_minor": 2
}
