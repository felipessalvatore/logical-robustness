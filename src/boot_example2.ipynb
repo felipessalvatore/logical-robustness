{
 "cells": [
  {
   "cell_type": "code",
   "execution_count": 1,
   "metadata": {},
   "outputs": [],
   "source": [
    "import pandas as pd\n",
    "import numpy as np\n",
    "import scipy.stats\n",
    "import matplotlib.pyplot as plt\n",
    "import seaborn as sns\n",
    "from matplotlib.ticker import PercentFormatter\n",
    "from tqdm import tqdm\n",
    "from functools import reduce\n",
    "from lr.text_processing.util import pre_process_nli_df, get_vocab_count\n",
    "from lr.text_processing.transformations.util import get_augmented_data\n",
    "from lr.training.util import get_binary_label, get_ternary_label\n",
    "from lr.text_processing.transformations.structural import entailment_internalization\n",
    "from lr.training.language_representation import Tfidf\n",
    "from lr.models.logistic_regression import LRWrapper\n",
    "from lr.stats.matched_comparison import get_disagreement_statistics, get_matched_results\n",
    "from lr.stats.bootstrap import get_bootstrap_replications, apply_transformation_under_H0\n",
    "from IPython.display import HTML, display\n",
    "import warnings\n",
    "warnings.filterwarnings(\"ignore\", category=RuntimeWarning)\n",
    "warnings.filterwarnings(\"ignore\", category=UserWarning)"
   ]
  },
  {
   "cell_type": "markdown",
   "metadata": {},
   "source": [
    "# load data"
   ]
  },
  {
   "cell_type": "code",
   "execution_count": 2,
   "metadata": {},
   "outputs": [],
   "source": [
    "train_path = \"data/toy/train.csv\"\n",
    "dev_path = \"data/toy/dev.csv\"\n",
    "df = pd.read_csv(train_path)\n",
    "dev = pd.read_csv(dev_path)\n",
    "pre_process_nli_df(df)\n",
    "pre_process_nli_df(dev)"
   ]
  },
  {
   "cell_type": "markdown",
   "metadata": {},
   "source": [
    "## Creating transformation that forces difference"
   ]
  },
  {
   "cell_type": "code",
   "execution_count": 3,
   "metadata": {},
   "outputs": [
    {
     "data": {
      "text/html": [
       "<table border=\"1\" class=\"dataframe\">\n",
       "  <thead>\n",
       "    <tr style=\"text-align: right;\">\n",
       "      <th></th>\n",
       "      <th>premise</th>\n",
       "      <th>hypothesis</th>\n",
       "      <th>label</th>\n",
       "    </tr>\n",
       "  </thead>\n",
       "  <tbody>\n",
       "    <tr>\n",
       "      <th>0</th>\n",
       "      <td>a couple playing with a little boy on the beach</td>\n",
       "      <td>a couple are playing with a young child outside entailment</td>\n",
       "      <td>entailment</td>\n",
       "    </tr>\n",
       "    <tr>\n",
       "      <th>1</th>\n",
       "      <td>a man with a red shirt is watching another man who is standing on top of a attached cart filled to the top</td>\n",
       "      <td>the men are outside neutral</td>\n",
       "      <td>neutral</td>\n",
       "    </tr>\n",
       "    <tr>\n",
       "      <th>2</th>\n",
       "      <td>a busy city that looks like new york city</td>\n",
       "      <td>the city looks like lawrence kansas contradiction</td>\n",
       "      <td>contradiction</td>\n",
       "    </tr>\n",
       "    <tr>\n",
       "      <th>3</th>\n",
       "      <td>a blond woman with two children is checking out at a walmart register</td>\n",
       "      <td>a mother is with her two children at walmart buying food neutral</td>\n",
       "      <td>neutral</td>\n",
       "    </tr>\n",
       "  </tbody>\n",
       "</table>"
      ],
      "text/plain": [
       "<IPython.core.display.HTML object>"
      ]
     },
     "metadata": {},
     "output_type": "display_data"
    }
   ],
   "source": [
    "def label_internalization(df):\n",
    "    df_new = df.copy()\n",
    "    df_new.loc[:,\"hypothesis\"] = df.hypothesis + \" \" + df.label\n",
    "    return df_new\n",
    "\n",
    "transformation = label_internalization\n",
    "# transformation = entailment_internalization\n",
    "\n",
    "display(HTML(transformation(df.head(4)).to_html()))"
   ]
  },
  {
   "cell_type": "markdown",
   "metadata": {},
   "source": [
    "## Applaying transformation to a part of the data"
   ]
  },
  {
   "cell_type": "code",
   "execution_count": 4,
   "metadata": {},
   "outputs": [
    {
     "data": {
      "text/html": [
       "<table border=\"1\" class=\"dataframe\">\n",
       "  <thead>\n",
       "    <tr style=\"text-align: right;\">\n",
       "      <th></th>\n",
       "      <th>premise</th>\n",
       "      <th>hypothesis</th>\n",
       "      <th>label</th>\n",
       "    </tr>\n",
       "  </thead>\n",
       "  <tbody>\n",
       "    <tr>\n",
       "      <th>0</th>\n",
       "      <td>a couple playing with a little boy on the beach</td>\n",
       "      <td>a couple are playing with a young child outside entailment</td>\n",
       "      <td>entailment</td>\n",
       "    </tr>\n",
       "    <tr>\n",
       "      <th>1</th>\n",
       "      <td>a man with a red shirt is watching another man who is standing on top of a attached cart filled to the top</td>\n",
       "      <td>the men are outside neutral</td>\n",
       "      <td>neutral</td>\n",
       "    </tr>\n",
       "    <tr>\n",
       "      <th>2</th>\n",
       "      <td>a busy city that looks like new york city</td>\n",
       "      <td>the city looks like lawrence kansas</td>\n",
       "      <td>contradiction</td>\n",
       "    </tr>\n",
       "    <tr>\n",
       "      <th>3</th>\n",
       "      <td>a blond woman with two children is checking out at a walmart register</td>\n",
       "      <td>a mother is with her two children at walmart buying food</td>\n",
       "      <td>neutral</td>\n",
       "    </tr>\n",
       "  </tbody>\n",
       "</table>"
      ],
      "text/plain": [
       "<IPython.core.display.HTML object>"
      ]
     },
     "metadata": {},
     "output_type": "display_data"
    }
   ],
   "source": [
    "df_ = get_augmented_data(df=df.head(4),\n",
    "                         transformation=transformation,\n",
    "                         frac=0.5)\n",
    "\n",
    "display(HTML(df_.to_html()))"
   ]
  },
  {
   "cell_type": "markdown",
   "metadata": {},
   "source": [
    "### Check `apply_transformation_under_H0`"
   ]
  },
  {
   "cell_type": "code",
   "execution_count": 5,
   "metadata": {},
   "outputs": [
    {
     "name": "stdout",
     "output_type": "stream",
     "text": [
      "original under h0\n"
     ]
    },
    {
     "data": {
      "text/html": [
       "<table border=\"1\" class=\"dataframe\">\n",
       "  <thead>\n",
       "    <tr style=\"text-align: right;\">\n",
       "      <th></th>\n",
       "      <th>premise</th>\n",
       "      <th>hypothesis</th>\n",
       "      <th>label</th>\n",
       "    </tr>\n",
       "  </thead>\n",
       "  <tbody>\n",
       "    <tr>\n",
       "      <th>0</th>\n",
       "      <td>a couple playing with a little boy on the beach</td>\n",
       "      <td>a couple are playing with a young child outside</td>\n",
       "      <td>entailment</td>\n",
       "    </tr>\n",
       "    <tr>\n",
       "      <th>1</th>\n",
       "      <td>a man with a red shirt is watching another man who is standing on top of a attached cart filled to the top</td>\n",
       "      <td>the men are outside neutral</td>\n",
       "      <td>neutral</td>\n",
       "    </tr>\n",
       "    <tr>\n",
       "      <th>2</th>\n",
       "      <td>a busy city that looks like new york city</td>\n",
       "      <td>the city looks like lawrence kansas contradiction</td>\n",
       "      <td>contradiction</td>\n",
       "    </tr>\n",
       "    <tr>\n",
       "      <th>3</th>\n",
       "      <td>a blond woman with two children is checking out at a walmart register</td>\n",
       "      <td>a mother is with her two children at walmart buying food</td>\n",
       "      <td>neutral</td>\n",
       "    </tr>\n",
       "  </tbody>\n",
       "</table>"
      ],
      "text/plain": [
       "<IPython.core.display.HTML object>"
      ]
     },
     "metadata": {},
     "output_type": "display_data"
    },
    {
     "name": "stdout",
     "output_type": "stream",
     "text": [
      "transformed  under h0\n"
     ]
    },
    {
     "data": {
      "text/html": [
       "<table border=\"1\" class=\"dataframe\">\n",
       "  <thead>\n",
       "    <tr style=\"text-align: right;\">\n",
       "      <th></th>\n",
       "      <th>premise</th>\n",
       "      <th>hypothesis</th>\n",
       "      <th>label</th>\n",
       "    </tr>\n",
       "  </thead>\n",
       "  <tbody>\n",
       "    <tr>\n",
       "      <th>0</th>\n",
       "      <td>a couple playing with a little boy on the beach</td>\n",
       "      <td>a couple are playing with a young child outside entailment</td>\n",
       "      <td>entailment</td>\n",
       "    </tr>\n",
       "    <tr>\n",
       "      <th>1</th>\n",
       "      <td>a man with a red shirt is watching another man who is standing on top of a attached cart filled to the top</td>\n",
       "      <td>the men are outside</td>\n",
       "      <td>neutral</td>\n",
       "    </tr>\n",
       "    <tr>\n",
       "      <th>2</th>\n",
       "      <td>a busy city that looks like new york city</td>\n",
       "      <td>the city looks like lawrence kansas</td>\n",
       "      <td>contradiction</td>\n",
       "    </tr>\n",
       "    <tr>\n",
       "      <th>3</th>\n",
       "      <td>a blond woman with two children is checking out at a walmart register</td>\n",
       "      <td>a mother is with her two children at walmart buying food neutral</td>\n",
       "      <td>neutral</td>\n",
       "    </tr>\n",
       "  </tbody>\n",
       "</table>"
      ],
      "text/plain": [
       "<IPython.core.display.HTML object>"
      ]
     },
     "metadata": {},
     "output_type": "display_data"
    }
   ],
   "source": [
    "original_h0, transformed_h0 = apply_transformation_under_H0(df.head(4), df_transformation_f=transformation)\n",
    "\n",
    "print(\"original under h0\")\n",
    "\n",
    "display(HTML(original_h0.to_html()))\n",
    "print(\"transformed  under h0\")\n",
    "display(HTML(transformed_h0.to_html()))"
   ]
  },
  {
   "cell_type": "markdown",
   "metadata": {},
   "source": [
    "## Bootstrap hypothesis testing"
   ]
  },
  {
   "cell_type": "code",
   "execution_count": 6,
   "metadata": {},
   "outputs": [
    {
     "name": "stderr",
     "output_type": "stream",
     "text": [
      "100%|██████████| 6000/6000 [01:59<00:00, 50.39it/s]\n"
     ]
    }
   ],
   "source": [
    "def invert_df(df):\n",
    "    new_A = df.B.values\n",
    "    new_B = df.A.values\n",
    "    new = pd.DataFrame({\"A\":new_A, \"B\":new_B},index=df.index)\n",
    "    return new\n",
    "\n",
    "B = 3\n",
    "max_features = 500\n",
    "pcts = [0.345]\n",
    "label_translation = get_ternary_label\n",
    "\n",
    "ids = [[i] * B for i in pcts]\n",
    "ids = reduce(lambda x,y: x + y, ids)\n",
    "\n",
    "boot_stats = []\n",
    "\n",
    "hyperparams = {\"RepresentationFunction\": Tfidf,\n",
    "               \"max_features\": max_features,\n",
    "               \"label_translation\": label_translation,\n",
    "               \"penalty\": \"l2\",\n",
    "               \"C\": 1,\n",
    "               'solver': 'lbfgs'}\n",
    "\n",
    "pct = pcts[0]\n",
    "train = df.copy()\n",
    "train_aug = get_augmented_data(df=train,\n",
    "                               transformation=transformation,\n",
    "                               frac=pct)\n",
    "dev_t = transformation(dev)\n",
    "lr = LRWrapper(hyperparams)\n",
    "lr.fit(train_aug)\n",
    "sample_pairs = get_matched_results(df=dev,\n",
    "                                   df_t=dev_t,\n",
    "                                   model=lr,\n",
    "                                   label_translation=label_translation)\n",
    "\n",
    "sample_pairs = sample_pairs[[\"A\", \"B\"]]\n",
    "\n",
    "def invert_df(df):\n",
    "    new_A = df.B.values\n",
    "    new_B = df.A.values\n",
    "    new = pd.DataFrame({\"A\":new_A, \"B\":new_B},index=df.index)\n",
    "    return new\n",
    "\n",
    "def get_t_stats(df):\n",
    "    A_minus_B = df.A - df.B\n",
    "    mean = A_minus_B.mean()\n",
    "    std = A_minus_B.std(ddof=0)\n",
    "    n = df.shape[0]\n",
    "    S = std / np.sqrt(n)\n",
    "    t = mean / S\n",
    "    return t\n",
    "    \n",
    "boots_replication = []\n",
    "B = 6000\n",
    "for b in tqdm(range(B)):\n",
    "    \n",
    "    boot_sample = sample_pairs.sample(frac=1, replace=True)\n",
    "\n",
    "    old_index = list(boot_sample.index)\n",
    "    boot_sample = boot_sample.reset_index(drop=True)\n",
    "    boot_sample_inverted = invert_df(boot_sample.sample(frac=0.5))\n",
    "    original_index  = [i for i in boot_sample.index.unique() if i not in boot_sample_inverted.index.unique()]\n",
    "    half_inverted = pd.concat([boot_sample.loc[original_index],boot_sample_inverted])\n",
    "\n",
    "    boot_t = get_t_stats(half_inverted)\n",
    "    boots_replication.append(boot_t)\n",
    "\n"
   ]
  },
  {
   "cell_type": "markdown",
   "metadata": {},
   "source": [
    "## Observable stats"
   ]
  },
  {
   "cell_type": "code",
   "execution_count": 7,
   "metadata": {},
   "outputs": [
    {
     "data": {
      "text/plain": [
       "-26.246692913372705"
      ]
     },
     "execution_count": 7,
     "metadata": {},
     "output_type": "execute_result"
    }
   ],
   "source": [
    "get_t_stats(sample_pairs)"
   ]
  },
  {
   "cell_type": "code",
   "execution_count": 14,
   "metadata": {},
   "outputs": [
    {
     "data": {
      "image/png": "[encoded data removed]",
      "text/plain": [
       "<Figure size 432x288 with 1 Axes>"
      ]
     },
     "metadata": {
      "needs_background": "light"
     },
     "output_type": "display_data"
    }
   ],
   "source": [
    "boot_result = pd.Series(boots_replication)\n",
    "boot_result.name = \"t\"\n",
    "boot_result = boot_result.to_frame()\n",
    "boot_result.loc[:, \"p_values\"]  = 1 - scipy.stats.chi2.cdf(boot_result.t ** 2, df=1)\n",
    "boot_result.t.hist();"
   ]
  },
  {
   "cell_type": "code",
   "execution_count": 15,
   "metadata": {},
   "outputs": [],
   "source": [
    "lower_tail_f = lambda x: (boot_result.sort_values() <= x).astype(int).mean()\n",
    "upper_tail_f = lambda x: (boot_result.sort_values() > x).astype(int).mean()\n",
    "equal_tail_boot_p_value = lambda x: 2* np.min([lower_tail_f(x), upper_tail_f(x)])"
   ]
  },
  {
   "cell_type": "code",
   "execution_count": 16,
   "metadata": {},
   "outputs": [
    {
     "data": {
      "image/png": "[encoded data removed]",
      "text/plain": [
       "<Figure size 720x360 with 1 Axes>"
      ]
     },
     "metadata": {
      "needs_background": "light"
     },
     "output_type": "display_data"
    }
   ],
   "source": [
    "boot_result.loc[:, \"p_values\"]  = 1 - scipy.stats.chi2.cdf(boot_result.t ** 2, df=1)\n",
    "alpha_t_test = 0.05\n",
    "rho = pcts[0]\n",
    "\n",
    "p_values = boot_result.p_values\n",
    "alpha_rho = np.quantile(p_values.dropna(), alpha_t_test)\n",
    "\n",
    "\n",
    "# for comparison\n",
    "# p_values = pd.Series(np.random.uniform(0,1,B))\n",
    "# alpha_rho = np.quantile(p_values, alpha_t_test)\n",
    "\n",
    "\n",
    "\n",
    "fig, ax = plt.subplots(figsize=(10,5))\n",
    "p_values.hist(ax=ax);\n",
    "plt.axvline(x=alpha_rho, color='r', linestyle='-', label=r\"$\\alpha_\\rho$={:.2f} ($\\alpha = {:.2f}$)\".format(alpha_rho, alpha_t_test));\n",
    "ax.set_xlabel(\"p-value\", fontsize=14);\n",
    "ax.set_ylabel(\"frequency\", fontsize=14);\n",
    "ax.set_title(r\"p-values histogram for $\\rho$ = {:.0%}\".format(rho) +\"\\n\", fontsize=16)\n",
    "plt.legend(loc=\"best\");"
   ]
  },
  {
   "cell_type": "code",
   "execution_count": null,
   "metadata": {},
   "outputs": [],
   "source": []
  },
  {
   "cell_type": "code",
   "execution_count": null,
   "metadata": {},
   "outputs": [],
   "source": []
  },
  {
   "cell_type": "code",
   "execution_count": null,
   "metadata": {},
   "outputs": [],
   "source": []
  },
  {
   "cell_type": "code",
   "execution_count": null,
   "metadata": {},
   "outputs": [],
   "source": []
  },
  {
   "cell_type": "code",
   "execution_count": null,
   "metadata": {},
   "outputs": [],
   "source": []
  },
  {
   "cell_type": "code",
   "execution_count": null,
   "metadata": {},
   "outputs": [],
   "source": []
  },
  {
   "cell_type": "code",
   "execution_count": null,
   "metadata": {},
   "outputs": [],
   "source": []
  },
  {
   "cell_type": "code",
   "execution_count": null,
   "metadata": {},
   "outputs": [],
   "source": []
  },
  {
   "cell_type": "code",
   "execution_count": null,
   "metadata": {},
   "outputs": [],
   "source": []
  },
  {
   "cell_type": "code",
   "execution_count": null,
   "metadata": {},
   "outputs": [],
   "source": []
  },
  {
   "cell_type": "code",
   "execution_count": null,
   "metadata": {},
   "outputs": [],
   "source": []
  },
  {
   "cell_type": "code",
   "execution_count": null,
   "metadata": {},
   "outputs": [],
   "source": []
  },
  {
   "cell_type": "code",
   "execution_count": null,
   "metadata": {},
   "outputs": [],
   "source": []
  }
 ],
 "metadata": {
  "kernelspec": {
   "display_name": "Python 3",
   "language": "python",
   "name": "python3"
  },
  "language_info": {
   "codemirror_mode": {
    "name": "ipython",
    "version": 3
   },
   "file_extension": ".py",
   "mimetype": "text/x-python",
   "name": "python",
   "nbconvert_exporter": "python",
   "pygments_lexer": "ipython3",
   "version": "3.6.8"
  }
 },
 "nbformat": 4,
 "nbformat_minor": 2
}
