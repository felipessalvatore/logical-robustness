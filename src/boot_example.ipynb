{
 "cells": [
  {
   "cell_type": "code",
   "execution_count": 42,
   "metadata": {},
   "outputs": [],
   "source": [
    "import pandas as pd\n",
    "import numpy as np\n",
    "import scipy.stats\n",
    "import matplotlib.pyplot as plt\n",
    "import seaborn as sns\n",
    "from matplotlib.ticker import PercentFormatter\n",
    "from tqdm import tqdm\n",
    "from functools import reduce\n",
    "from lr.text_processing.util import pre_process_nli_df, get_vocab_count\n",
    "from lr.text_processing.transformations.util import get_augmented_data\n",
    "from lr.training.util import get_binary_label, get_ternary_label\n",
    "from lr.text_processing.transformations.structural import entailment_internalization\n",
    "from lr.training.language_representation import Tfidf\n",
    "from lr.models.logistic_regression import LRWrapper\n",
    "from lr.stats.matched_comparison import get_disagreement_statistics\n",
    "from lr.stats.bootstrap import get_bootstrap_replications, apply_transformation_under_H0\n",
    "from IPython.display import HTML, display\n",
    "import warnings\n",
    "warnings.filterwarnings(\"ignore\", category=RuntimeWarning)\n",
    "warnings.filterwarnings(\"ignore\", category=UserWarning)"
   ]
  },
  {
   "cell_type": "markdown",
   "metadata": {},
   "source": [
    "# load data"
   ]
  },
  {
   "cell_type": "code",
   "execution_count": 2,
   "metadata": {},
   "outputs": [],
   "source": [
    "train_path = \"data/toy/train.csv\"\n",
    "dev_path = \"data/toy/dev.csv\"\n",
    "df = pd.read_csv(train_path)\n",
    "dev = pd.read_csv(dev_path)\n",
    "pre_process_nli_df(df)\n",
    "pre_process_nli_df(dev)"
   ]
  },
  {
   "cell_type": "markdown",
   "metadata": {},
   "source": [
    "## Creating transformation that forces difference"
   ]
  },
  {
   "cell_type": "code",
   "execution_count": 3,
   "metadata": {},
   "outputs": [
    {
     "data": {
      "text/html": [
       "<table border=\"1\" class=\"dataframe\">\n",
       "  <thead>\n",
       "    <tr style=\"text-align: right;\">\n",
       "      <th></th>\n",
       "      <th>premise</th>\n",
       "      <th>hypothesis</th>\n",
       "      <th>label</th>\n",
       "    </tr>\n",
       "  </thead>\n",
       "  <tbody>\n",
       "    <tr>\n",
       "      <th>0</th>\n",
       "      <td></td>\n",
       "      <td>a couple playing with a little boy on the beach implies that a couple are playing with a young child outside</td>\n",
       "      <td>entailment</td>\n",
       "    </tr>\n",
       "    <tr>\n",
       "      <th>1</th>\n",
       "      <td></td>\n",
       "      <td>a man with a red shirt is watching another man who is standing on top of a attached cart filled to the top implies that the men are outside</td>\n",
       "      <td>neutral</td>\n",
       "    </tr>\n",
       "    <tr>\n",
       "      <th>2</th>\n",
       "      <td></td>\n",
       "      <td>a busy city that looks like new york city , the city looks like lawrence kansas</td>\n",
       "      <td>contradiction</td>\n",
       "    </tr>\n",
       "    <tr>\n",
       "      <th>3</th>\n",
       "      <td></td>\n",
       "      <td>a blond woman with two children is checking out at a walmart register implies that a mother is with her two children at walmart buying food</td>\n",
       "      <td>neutral</td>\n",
       "    </tr>\n",
       "  </tbody>\n",
       "</table>"
      ],
      "text/plain": [
       "<IPython.core.display.HTML object>"
      ]
     },
     "metadata": {},
     "output_type": "display_data"
    }
   ],
   "source": [
    "def label_internalization(df):\n",
    "    df_new = df.copy()\n",
    "    df_new.loc[:,\"hypothesis\"] = df.hypothesis + \" \" + df.label\n",
    "    return df_new\n",
    "\n",
    "# transformation = label_internalization\n",
    "transformation = entailment_internalization\n",
    "\n",
    "display(HTML(transformation(df.head(4)).to_html()))"
   ]
  },
  {
   "cell_type": "markdown",
   "metadata": {},
   "source": [
    "## Applaying transformation to a part of the data"
   ]
  },
  {
   "cell_type": "code",
   "execution_count": 4,
   "metadata": {},
   "outputs": [
    {
     "data": {
      "text/html": [
       "<table border=\"1\" class=\"dataframe\">\n",
       "  <thead>\n",
       "    <tr style=\"text-align: right;\">\n",
       "      <th></th>\n",
       "      <th>premise</th>\n",
       "      <th>hypothesis</th>\n",
       "      <th>label</th>\n",
       "    </tr>\n",
       "  </thead>\n",
       "  <tbody>\n",
       "    <tr>\n",
       "      <th>0</th>\n",
       "      <td>a couple playing with a little boy on the beach</td>\n",
       "      <td>a couple are playing with a young child outside</td>\n",
       "      <td>entailment</td>\n",
       "    </tr>\n",
       "    <tr>\n",
       "      <th>1</th>\n",
       "      <td></td>\n",
       "      <td>a man with a red shirt is watching another man who is standing on top of a attached cart filled to the top implies that the men are outside</td>\n",
       "      <td>neutral</td>\n",
       "    </tr>\n",
       "    <tr>\n",
       "      <th>2</th>\n",
       "      <td>a busy city that looks like new york city</td>\n",
       "      <td>the city looks like lawrence kansas</td>\n",
       "      <td>contradiction</td>\n",
       "    </tr>\n",
       "    <tr>\n",
       "      <th>3</th>\n",
       "      <td></td>\n",
       "      <td>a blond woman with two children is checking out at a walmart register implies that a mother is with her two children at walmart buying food</td>\n",
       "      <td>neutral</td>\n",
       "    </tr>\n",
       "  </tbody>\n",
       "</table>"
      ],
      "text/plain": [
       "<IPython.core.display.HTML object>"
      ]
     },
     "metadata": {},
     "output_type": "display_data"
    }
   ],
   "source": [
    "df_ = get_augmented_data(df=df.head(4),\n",
    "                         transformation=transformation,\n",
    "                         frac=0.5)\n",
    "\n",
    "display(HTML(df_.to_html()))"
   ]
  },
  {
   "cell_type": "markdown",
   "metadata": {},
   "source": [
    "### Check `apply_transformation_under_H0`"
   ]
  },
  {
   "cell_type": "code",
   "execution_count": 5,
   "metadata": {},
   "outputs": [
    {
     "name": "stdout",
     "output_type": "stream",
     "text": [
      "original under h0\n"
     ]
    },
    {
     "data": {
      "text/html": [
       "<table border=\"1\" class=\"dataframe\">\n",
       "  <thead>\n",
       "    <tr style=\"text-align: right;\">\n",
       "      <th></th>\n",
       "      <th>premise</th>\n",
       "      <th>hypothesis</th>\n",
       "      <th>label</th>\n",
       "    </tr>\n",
       "  </thead>\n",
       "  <tbody>\n",
       "    <tr>\n",
       "      <th>0</th>\n",
       "      <td>a couple playing with a little boy on the beach</td>\n",
       "      <td>a couple are playing with a young child outside</td>\n",
       "      <td>entailment</td>\n",
       "    </tr>\n",
       "    <tr>\n",
       "      <th>1</th>\n",
       "      <td>a man with a red shirt is watching another man who is standing on top of a attached cart filled to the top</td>\n",
       "      <td>the men are outside</td>\n",
       "      <td>neutral</td>\n",
       "    </tr>\n",
       "    <tr>\n",
       "      <th>2</th>\n",
       "      <td></td>\n",
       "      <td>a busy city that looks like new york city , the city looks like lawrence kansas</td>\n",
       "      <td>contradiction</td>\n",
       "    </tr>\n",
       "    <tr>\n",
       "      <th>3</th>\n",
       "      <td></td>\n",
       "      <td>a blond woman with two children is checking out at a walmart register implies that a mother is with her two children at walmart buying food</td>\n",
       "      <td>neutral</td>\n",
       "    </tr>\n",
       "  </tbody>\n",
       "</table>"
      ],
      "text/plain": [
       "<IPython.core.display.HTML object>"
      ]
     },
     "metadata": {},
     "output_type": "display_data"
    },
    {
     "name": "stdout",
     "output_type": "stream",
     "text": [
      "transformed  under h0\n"
     ]
    },
    {
     "data": {
      "text/html": [
       "<table border=\"1\" class=\"dataframe\">\n",
       "  <thead>\n",
       "    <tr style=\"text-align: right;\">\n",
       "      <th></th>\n",
       "      <th>premise</th>\n",
       "      <th>hypothesis</th>\n",
       "      <th>label</th>\n",
       "    </tr>\n",
       "  </thead>\n",
       "  <tbody>\n",
       "    <tr>\n",
       "      <th>0</th>\n",
       "      <td></td>\n",
       "      <td>a couple playing with a little boy on the beach implies that a couple are playing with a young child outside</td>\n",
       "      <td>entailment</td>\n",
       "    </tr>\n",
       "    <tr>\n",
       "      <th>1</th>\n",
       "      <td></td>\n",
       "      <td>a man with a red shirt is watching another man who is standing on top of a attached cart filled to the top implies that the men are outside</td>\n",
       "      <td>neutral</td>\n",
       "    </tr>\n",
       "    <tr>\n",
       "      <th>2</th>\n",
       "      <td>a busy city that looks like new york city</td>\n",
       "      <td>the city looks like lawrence kansas</td>\n",
       "      <td>contradiction</td>\n",
       "    </tr>\n",
       "    <tr>\n",
       "      <th>3</th>\n",
       "      <td>a blond woman with two children is checking out at a walmart register</td>\n",
       "      <td>a mother is with her two children at walmart buying food</td>\n",
       "      <td>neutral</td>\n",
       "    </tr>\n",
       "  </tbody>\n",
       "</table>"
      ],
      "text/plain": [
       "<IPython.core.display.HTML object>"
      ]
     },
     "metadata": {},
     "output_type": "display_data"
    }
   ],
   "source": [
    "original_h0, transformed_h0 = apply_transformation_under_H0(df.head(4), df_transformation_f=transformation)\n",
    "\n",
    "print(\"original under h0\")\n",
    "\n",
    "display(HTML(original_h0.to_html()))\n",
    "print(\"transformed  under h0\")\n",
    "display(HTML(transformed_h0.to_html()))"
   ]
  },
  {
   "cell_type": "markdown",
   "metadata": {},
   "source": [
    "## Bootstrap hypothesis testing"
   ]
  },
  {
   "cell_type": "code",
   "execution_count": 6,
   "metadata": {},
   "outputs": [
    {
     "name": "stderr",
     "output_type": "stream",
     "text": [
      "100%|██████████| 1000/1000 [02:13<00:00,  7.45it/s]\n"
     ]
    }
   ],
   "source": [
    "B = 1000\n",
    "max_features = 500\n",
    "pcts = [0.345]\n",
    "label_translation = get_ternary_label\n",
    "\n",
    "ids = [[i] * B for i in pcts]\n",
    "ids = reduce(lambda x,y: x + y, ids)\n",
    "\n",
    "boot_stats = []\n",
    "\n",
    "hyperparams = {\"RepresentationFunction\": Tfidf,\n",
    "               \"max_features\": max_features,\n",
    "               \"label_translation\": label_translation,\n",
    "               \"penalty\": \"l2\",\n",
    "               \"C\": 1,\n",
    "               'solver': 'lbfgs'}\n",
    "\n",
    "for pct in tqdm(ids):\n",
    "    train_b = get_bootstrap_replications(df)\n",
    "    dev_b = get_bootstrap_replications(dev)\n",
    "    train_b_aug = get_augmented_data(df=train_b,\n",
    "                                     transformation=transformation,\n",
    "                                     frac=pct)\n",
    "    dev_b_original, dev_b_t = apply_transformation_under_H0(dev_b, df_transformation_f=transformation)\n",
    "    \n",
    "    lr = LRWrapper(hyperparams)\n",
    "    lr.fit(train_b_aug)\n",
    "\n",
    "    st = get_disagreement_statistics(df=dev_b_original,\n",
    "                                     df_t=dev_b_t,\n",
    "                                     model=lr,\n",
    "                                     label_translation=label_translation)\n",
    "\n",
    "\n",
    "    boot_stats.append(st)\n",
    "    del lr, train_b, dev_b\n",
    "    \n",
    "\n",
    "boot_result = pd.concat(boot_stats)\n",
    "boot_result.index = ids\n",
    "boot_result.index.name = \"pcts\""
   ]
  },
  {
   "cell_type": "markdown",
   "metadata": {},
   "source": [
    "### Bootstrap results"
   ]
  },
  {
   "cell_type": "code",
   "execution_count": 7,
   "metadata": {},
   "outputs": [
    {
     "data": {
      "text/html": [
       "<div>\n",
       "<style scoped>\n",
       "    .dataframe tbody tr th:only-of-type {\n",
       "        vertical-align: middle;\n",
       "    }\n",
       "\n",
       "    .dataframe tbody tr th {\n",
       "        vertical-align: top;\n",
       "    }\n",
       "\n",
       "    .dataframe thead th {\n",
       "        text-align: right;\n",
       "    }\n",
       "</style>\n",
       "<table border=\"1\" class=\"dataframe\">\n",
       "  <thead>\n",
       "    <tr style=\"text-align: right;\">\n",
       "      <th></th>\n",
       "      <th>acc</th>\n",
       "      <th>acct</th>\n",
       "      <th>acc_minus_acct</th>\n",
       "      <th>t1</th>\n",
       "      <th>C</th>\n",
       "      <th>D</th>\n",
       "      <th>E</th>\n",
       "      <th>F</th>\n",
       "      <th>t2</th>\n",
       "      <th>pos_trans_rate</th>\n",
       "      <th>neg_trans_rate</th>\n",
       "    </tr>\n",
       "    <tr>\n",
       "      <th>pcts</th>\n",
       "      <th></th>\n",
       "      <th></th>\n",
       "      <th></th>\n",
       "      <th></th>\n",
       "      <th></th>\n",
       "      <th></th>\n",
       "      <th></th>\n",
       "      <th></th>\n",
       "      <th></th>\n",
       "      <th></th>\n",
       "      <th></th>\n",
       "    </tr>\n",
       "  </thead>\n",
       "  <tbody>\n",
       "    <tr>\n",
       "      <th>0.345</th>\n",
       "      <td>0.300</td>\n",
       "      <td>0.330</td>\n",
       "      <td>-0.03</td>\n",
       "      <td>-0.973200</td>\n",
       "      <td>44</td>\n",
       "      <td>16</td>\n",
       "      <td>22</td>\n",
       "      <td>118</td>\n",
       "      <td>0.947368</td>\n",
       "      <td>0.578947</td>\n",
       "      <td>0.421053</td>\n",
       "    </tr>\n",
       "    <tr>\n",
       "      <th>0.345</th>\n",
       "      <td>0.345</td>\n",
       "      <td>0.355</td>\n",
       "      <td>-0.01</td>\n",
       "      <td>-0.342239</td>\n",
       "      <td>53</td>\n",
       "      <td>16</td>\n",
       "      <td>18</td>\n",
       "      <td>113</td>\n",
       "      <td>0.117647</td>\n",
       "      <td>0.529412</td>\n",
       "      <td>0.470588</td>\n",
       "    </tr>\n",
       "    <tr>\n",
       "      <th>0.345</th>\n",
       "      <td>0.325</td>\n",
       "      <td>0.325</td>\n",
       "      <td>0.00</td>\n",
       "      <td>0.000000</td>\n",
       "      <td>48</td>\n",
       "      <td>17</td>\n",
       "      <td>17</td>\n",
       "      <td>118</td>\n",
       "      <td>0.000000</td>\n",
       "      <td>0.500000</td>\n",
       "      <td>0.500000</td>\n",
       "    </tr>\n",
       "  </tbody>\n",
       "</table>\n",
       "</div>"
      ],
      "text/plain": [
       "         acc   acct  acc_minus_acct        t1   C   D   E    F        t2  \\\n",
       "pcts                                                                       \n",
       "0.345  0.300  0.330           -0.03 -0.973200  44  16  22  118  0.947368   \n",
       "0.345  0.345  0.355           -0.01 -0.342239  53  16  18  113  0.117647   \n",
       "0.345  0.325  0.325            0.00  0.000000  48  17  17  118  0.000000   \n",
       "\n",
       "       pos_trans_rate  neg_trans_rate  \n",
       "pcts                                   \n",
       "0.345        0.578947        0.421053  \n",
       "0.345        0.529412        0.470588  \n",
       "0.345        0.500000        0.500000  "
      ]
     },
     "execution_count": 7,
     "metadata": {},
     "output_type": "execute_result"
    }
   ],
   "source": [
    "boot_result.head(3)"
   ]
  },
  {
   "cell_type": "markdown",
   "metadata": {},
   "source": [
    "## Bootstrap distribution of the paired t-test statistic"
   ]
  },
  {
   "cell_type": "code",
   "execution_count": 8,
   "metadata": {},
   "outputs": [
    {
     "data": {
      "image/png": "[encoded data removed]",
      "text/plain": [
       "<Figure size 432x288 with 1 Axes>"
      ]
     },
     "metadata": {
      "needs_background": "light"
     },
     "output_type": "display_data"
    }
   ],
   "source": [
    "boot_result.t1.hist();"
   ]
  },
  {
   "cell_type": "markdown",
   "metadata": {},
   "source": [
    "## Bootstrap p-values"
   ]
  },
  {
   "cell_type": "code",
   "execution_count": 9,
   "metadata": {},
   "outputs": [],
   "source": [
    "lower_tail_f = lambda x: (boot_result.t1.sort_values() <= x).astype(int).mean()\n",
    "upper_tail_f = lambda x: (boot_result.t1.sort_values() > x).astype(int).mean()\n",
    "equal_tail_boot_p_value = lambda x: 2* np.min([lower_tail_f(x), upper_tail_f(x)])"
   ]
  },
  {
   "cell_type": "markdown",
   "metadata": {},
   "source": [
    "## Observable test statistic"
   ]
  },
  {
   "cell_type": "code",
   "execution_count": 10,
   "metadata": {},
   "outputs": [
    {
     "data": {
      "text/html": [
       "<div>\n",
       "<style scoped>\n",
       "    .dataframe tbody tr th:only-of-type {\n",
       "        vertical-align: middle;\n",
       "    }\n",
       "\n",
       "    .dataframe tbody tr th {\n",
       "        vertical-align: top;\n",
       "    }\n",
       "\n",
       "    .dataframe thead th {\n",
       "        text-align: right;\n",
       "    }\n",
       "</style>\n",
       "<table border=\"1\" class=\"dataframe\">\n",
       "  <thead>\n",
       "    <tr style=\"text-align: right;\">\n",
       "      <th></th>\n",
       "      <th>acc</th>\n",
       "      <th>acct</th>\n",
       "      <th>acc_minus_acct</th>\n",
       "      <th>t1</th>\n",
       "      <th>C</th>\n",
       "      <th>D</th>\n",
       "      <th>E</th>\n",
       "      <th>F</th>\n",
       "      <th>t2</th>\n",
       "      <th>pos_trans_rate</th>\n",
       "      <th>neg_trans_rate</th>\n",
       "    </tr>\n",
       "  </thead>\n",
       "  <tbody>\n",
       "    <tr>\n",
       "      <th>0</th>\n",
       "      <td>0.225</td>\n",
       "      <td>0.4</td>\n",
       "      <td>-0.175</td>\n",
       "      <td>-5.749281</td>\n",
       "      <td>41</td>\n",
       "      <td>4</td>\n",
       "      <td>39</td>\n",
       "      <td>116</td>\n",
       "      <td>28.488372</td>\n",
       "      <td>0.906977</td>\n",
       "      <td>0.093023</td>\n",
       "    </tr>\n",
       "  </tbody>\n",
       "</table>\n",
       "</div>"
      ],
      "text/plain": [
       "     acc  acct  acc_minus_acct        t1   C  D   E    F         t2  \\\n",
       "0  0.225   0.4          -0.175 -5.749281  41  4  39  116  28.488372   \n",
       "\n",
       "   pos_trans_rate  neg_trans_rate  \n",
       "0        0.906977        0.093023  "
      ]
     },
     "execution_count": 10,
     "metadata": {},
     "output_type": "execute_result"
    }
   ],
   "source": [
    "train = df.copy()\n",
    "\n",
    "train_aug = get_augmented_data(df=train,\n",
    "                               transformation=transformation,\n",
    "                               frac=pct)\n",
    "dev_t = transformation(dev)\n",
    "\n",
    "\n",
    "\n",
    "lr = LRWrapper(hyperparams)\n",
    "lr.fit(train_aug)\n",
    "\n",
    "\n",
    "observable = get_disagreement_statistics(df=dev,\n",
    "                                         df_t=dev_t,\n",
    "                                         model=lr,\n",
    "                                         label_translation=label_translation)\n",
    "\n",
    "observable"
   ]
  },
  {
   "cell_type": "markdown",
   "metadata": {},
   "source": [
    "### 1) Bootstrap hypothesis test "
   ]
  },
  {
   "cell_type": "code",
   "execution_count": 11,
   "metadata": {},
   "outputs": [
    {
     "name": "stdout",
     "output_type": "stream",
     "text": [
      "0.0\n",
      "True\n"
     ]
    }
   ],
   "source": [
    "alpha_t_test = 0.05\n",
    "print(equal_tail_boot_p_value(observable.t1.values[0]))\n",
    "print(equal_tail_boot_p_value(observable.t1.values[0]) < alpha_t_test)"
   ]
  },
  {
   "cell_type": "markdown",
   "metadata": {},
   "source": [
    "### 2) Using bootstrap to correct the choice of alpha \n",
    "\n",
    "- Using asymptotic theory to calculate the simulated P-values\n",
    "- Finding the $\\alpha$-quantile of the empirical distribution of the P-values, $\\alpha_\\rho$\n",
    "- Performing hypothesis test using  $\\alpha_\\rho$\n",
    "\n",
    "#### Checking type I error rate"
   ]
  },
  {
   "cell_type": "code",
   "execution_count": 12,
   "metadata": {},
   "outputs": [
    {
     "name": "stdout",
     "output_type": "stream",
     "text": [
      "(0.345): type I error rate = 0.030 | expected = 0.050\n"
     ]
    }
   ],
   "source": [
    "alpha_t_test = 0.05\n",
    "rho = pcts[0]\n",
    "boot_result.loc[:, \"p_values\"]  = 1 - scipy.stats.chi2.cdf(boot_result.t1 ** 2, df=1)\n",
    "boot_result.loc[:, \"paired_t_test\"] = (boot_result.p_values < alpha_t_test).astype(int)\n",
    "type_I_error_rate = boot_result.paired_t_test.mean()\n",
    "print(\"({}): type I error rate = {:.3f} | expected = {:.3f}\".format(rho, type_I_error_rate, alpha_t_test))"
   ]
  },
  {
   "cell_type": "markdown",
   "metadata": {},
   "source": [
    "#### Plotting P-values frequency"
   ]
  },
  {
   "cell_type": "code",
   "execution_count": 13,
   "metadata": {},
   "outputs": [
    {
     "name": "stdout",
     "output_type": "stream",
     "text": [
      "test =  True\n"
     ]
    },
    {
     "data": {
      "image/png": "[encoded data removed]",
      "text/plain": [
       "<Figure size 720x360 with 1 Axes>"
      ]
     },
     "metadata": {
      "needs_background": "light"
     },
     "output_type": "display_data"
    }
   ],
   "source": [
    "p_values = boot_result.p_values\n",
    "alpha_rho = np.quantile(p_values.dropna(), alpha_t_test)\n",
    "\n",
    "# for comparison\n",
    "# p_values = pd.Series(np.random.uniform(0,1,B))\n",
    "# alpha_rho = np.quantile(p_values, alpha_t_test)\n",
    "\n",
    "\n",
    "\n",
    "fig, ax = plt.subplots(figsize=(10,5))\n",
    "p_values.hist(ax=ax);\n",
    "plt.axvline(x=alpha_rho, color='r', linestyle='-', label=r\"$\\alpha_\\rho$={:.2f} ($\\alpha = {:.2f}$)\".format(alpha_rho, alpha_t_test));\n",
    "ax.set_xlabel(\"p-value\", fontsize=14);\n",
    "ax.set_ylabel(\"frequency\", fontsize=14);\n",
    "ax.set_title(r\"p-values histogram for $\\rho$ = {:.0%}\".format(rho) +\"\\n\", fontsize=16)\n",
    "plt.legend(loc=\"best\");\n",
    "\n",
    "test = (1 - scipy.stats.chi2.cdf(observable.t1 ** 2, df=1)[0]) < alpha_rho\n",
    "\n",
    "print(\"test = \", test)"
   ]
  },
  {
   "cell_type": "markdown",
   "metadata": {},
   "source": [
    "## Finding the $\\alpha$-quantile for different $\\rho$'s"
   ]
  },
  {
   "cell_type": "code",
   "execution_count": 31,
   "metadata": {},
   "outputs": [
    {
     "name": "stderr",
     "output_type": "stream",
     "text": [
      "100%|██████████| 6600/6600 [17:03<00:00,  3.48it/s]\n"
     ]
    }
   ],
   "source": [
    "B = 600\n",
    "pcts = np.array(range(0,11,))/10\n",
    "ids = [[i] * B for i in pcts]\n",
    "ids = reduce(lambda x,y: x + y, ids)\n",
    "\n",
    "boot_stats = []\n",
    "\n",
    "hyperparams = {\"RepresentationFunction\": Tfidf,\n",
    "               \"max_features\": max_features,\n",
    "               \"label_translation\": label_translation,\n",
    "               \"penalty\": \"l2\",\n",
    "               \"C\": 1,\n",
    "               'solver': 'lbfgs'}\n",
    "\n",
    "for pct in tqdm(ids):\n",
    "    train_b = get_bootstrap_replications(df)\n",
    "    dev_b = get_bootstrap_replications(dev)\n",
    "    train_b_aug = get_augmented_data(df=train_b,\n",
    "                                     transformation=transformation,\n",
    "                                     frac=pct)\n",
    "    dev_b_original, dev_b_t = apply_transformation_under_H0(dev_b, df_transformation_f=transformation)\n",
    "    \n",
    "    lr = LRWrapper(hyperparams)\n",
    "    lr.fit(train_b_aug)\n",
    "\n",
    "    st = get_disagreement_statistics(df=dev_b_original,\n",
    "                                     df_t=dev_b_t,\n",
    "                                     model=lr,\n",
    "                                     label_translation=label_translation)\n",
    "\n",
    "\n",
    "    boot_stats.append(st)\n",
    "    del lr, train_b, dev_b\n",
    "    \n",
    "\n",
    "boot_result = pd.concat(boot_stats)\n",
    "boot_result.index = ids\n",
    "boot_result.index.name = \"pcts\""
   ]
  },
  {
   "cell_type": "code",
   "execution_count": 36,
   "metadata": {},
   "outputs": [
    {
     "data": {
      "text/html": [
       "<table border=\"1\" class=\"dataframe\">\n",
       "  <thead>\n",
       "    <tr style=\"text-align: right;\">\n",
       "      <th>$\\rho$</th>\n",
       "      <th>0%</th>\n",
       "      <th>10%</th>\n",
       "      <th>20%</th>\n",
       "      <th>30%</th>\n",
       "      <th>40%</th>\n",
       "      <th>50%</th>\n",
       "      <th>60%</th>\n",
       "      <th>70%</th>\n",
       "      <th>80%</th>\n",
       "      <th>90%</th>\n",
       "      <th>100%</th>\n",
       "    </tr>\n",
       "  </thead>\n",
       "  <tbody>\n",
       "    <tr>\n",
       "      <th>$\\alpha_\\rho$</th>\n",
       "      <td>NaN</td>\n",
       "      <td>0.057151</td>\n",
       "      <td>0.058851</td>\n",
       "      <td>0.076368</td>\n",
       "      <td>0.084814</td>\n",
       "      <td>0.075522</td>\n",
       "      <td>0.094099</td>\n",
       "      <td>0.112229</td>\n",
       "      <td>0.075129</td>\n",
       "      <td>0.099497</td>\n",
       "      <td>0.09461</td>\n",
       "    </tr>\n",
       "  </tbody>\n",
       "</table>"
      ],
      "text/plain": [
       "<IPython.core.display.HTML object>"
      ]
     },
     "metadata": {},
     "output_type": "display_data"
    },
    {
     "data": {
      "image/png": "[encoded data removed]",
      "text/plain": [
       "<Figure size 1008x504 with 1 Axes>"
      ]
     },
     "metadata": {
      "needs_background": "light"
     },
     "output_type": "display_data"
    }
   ],
   "source": [
    "alpha_t_test = 0.05\n",
    "boot_result.loc[:, \"p_values\"]  = 1 - scipy.stats.chi2.cdf(boot_result.t1 ** 2, df=1)\n",
    "alpha_rho = pd.Series([np.quantile(boot_result.loc[rho].p_values, alpha_t_test) for rho in pcts], index=pcts)\n",
    "\n",
    "# for comparison\n",
    "# alpha_rho = pd.Series([np.quantile(np.random.uniform(0,1,B), alpha_t_test) for rho in pcts], index=pcts)\n",
    "\n",
    "\n",
    "alpha_rho.index = alpha_rho.index.map(lambda x: \"{:.0%}\".format(x))\n",
    "alpha_rho.index.name = r'$\\rho$'\n",
    "\n",
    "alpha_rho.name = r'$\\alpha_\\rho$'\n",
    "display(HTML(alpha_rho.to_frame().transpose().to_html()))\n",
    "\n",
    "\n",
    "fig, ax = plt.subplots(figsize=(14,7))\n",
    "plt.axhline(y=alpha_t_test + 0.01, color='r', linestyle='-', label=r\"$\\alpha + 0.005$\")\n",
    "plt.axhline(y=alpha_t_test - 0.01, color='r', linestyle='-', label=r\"$\\alpha - 0.005$\")\n",
    "alpha_rho.plot(ax=ax,style='.-');\n",
    "ax.set_xlabel(\"Modification percentage\", fontsize=14);\n",
    "ax.set_ylabel(r\"$\\alpha$-quantile\", fontsize=14);\n",
    "ax.set_title(r\"$\\alpha$-quantile for the empirical distribution of the p-values for each simulation ($\\alpha = {:.2f}$)\".format(alpha_t_test), fontsize=16)\n",
    "plt.legend(loc=\"best\");"
   ]
  },
  {
   "cell_type": "code",
   "execution_count": 46,
   "metadata": {},
   "outputs": [
    {
     "data": {
      "text/html": [
       "<table border=\"1\" class=\"dataframe\">\n",
       "  <thead>\n",
       "    <tr style=\"text-align: right;\">\n",
       "      <th></th>\n",
       "      <th>[0.0 - 0.01]</th>\n",
       "      <th>[0.01 - 0.02]</th>\n",
       "      <th>[0.02 - 0.03]</th>\n",
       "      <th>[0.03 - 0.04]</th>\n",
       "      <th>[0.04 - 0.05]</th>\n",
       "    </tr>\n",
       "  </thead>\n",
       "  <tbody>\n",
       "    <tr>\n",
       "      <th>count</th>\n",
       "      <td>11.000000</td>\n",
       "      <td>11.000000</td>\n",
       "      <td>11.000000</td>\n",
       "      <td>11.000000</td>\n",
       "      <td>11.000000</td>\n",
       "    </tr>\n",
       "    <tr>\n",
       "      <th>mean</th>\n",
       "      <td>0.097879</td>\n",
       "      <td>0.103939</td>\n",
       "      <td>0.106515</td>\n",
       "      <td>0.103485</td>\n",
       "      <td>0.099697</td>\n",
       "    </tr>\n",
       "    <tr>\n",
       "      <th>std</th>\n",
       "      <td>0.011133</td>\n",
       "      <td>0.011433</td>\n",
       "      <td>0.008513</td>\n",
       "      <td>0.017037</td>\n",
       "      <td>0.011076</td>\n",
       "    </tr>\n",
       "    <tr>\n",
       "      <th>min</th>\n",
       "      <td>0.076667</td>\n",
       "      <td>0.088333</td>\n",
       "      <td>0.095000</td>\n",
       "      <td>0.078333</td>\n",
       "      <td>0.080000</td>\n",
       "    </tr>\n",
       "    <tr>\n",
       "      <th>25%</th>\n",
       "      <td>0.090000</td>\n",
       "      <td>0.095000</td>\n",
       "      <td>0.100000</td>\n",
       "      <td>0.093333</td>\n",
       "      <td>0.093333</td>\n",
       "    </tr>\n",
       "    <tr>\n",
       "      <th>50%</th>\n",
       "      <td>0.100000</td>\n",
       "      <td>0.100000</td>\n",
       "      <td>0.106667</td>\n",
       "      <td>0.103333</td>\n",
       "      <td>0.098333</td>\n",
       "    </tr>\n",
       "    <tr>\n",
       "      <th>75%</th>\n",
       "      <td>0.107500</td>\n",
       "      <td>0.114167</td>\n",
       "      <td>0.113333</td>\n",
       "      <td>0.114167</td>\n",
       "      <td>0.107500</td>\n",
       "    </tr>\n",
       "    <tr>\n",
       "      <th>max</th>\n",
       "      <td>0.110000</td>\n",
       "      <td>0.120000</td>\n",
       "      <td>0.120000</td>\n",
       "      <td>0.136667</td>\n",
       "      <td>0.116667</td>\n",
       "    </tr>\n",
       "  </tbody>\n",
       "</table>"
      ],
      "text/plain": [
       "<IPython.core.display.HTML object>"
      ]
     },
     "metadata": {},
     "output_type": "display_data"
    },
    {
     "data": {
      "image/png": "[encoded data removed]",
      "text/plain": [
       "<Figure size 1800x720 with 2 Axes>"
      ]
     },
     "metadata": {
      "needs_background": "light"
     },
     "output_type": "display_data"
    }
   ],
   "source": [
    "space = np.array(range(0,6))/100\n",
    "columns = []\n",
    "p_values_freqs = []\n",
    "\n",
    "\n",
    "for i,pc in enumerate(space):\n",
    "    try:\n",
    "        columns.append(\"[{} - {}]\".format(pc, space[i+1]))\n",
    "    except IndexError:\n",
    "        pass\n",
    "\n",
    "for rho in pcts:\n",
    "    ps = boot_result.loc[rho].p_values\n",
    "\n",
    "#     for comparison\n",
    "#     ps = np.random.uniform(0,1,B*10)\n",
    "    \n",
    "    p_values_freq = np.histogram(ps, bins=space)[0] / B\n",
    "    p_values_freq = pd.DataFrame(p_values_freq).transpose()\n",
    "    p_values_freq.index = [rho]\n",
    "    p_values_freq.columns = columns\n",
    "    p_values_freqs.append(p_values_freq)\n",
    "\n",
    "freqs = pd.concat(p_values_freqs)\n",
    "freqs.index = freqs.index.map(lambda x: \"{:.0%}\".format(x))\n",
    "\n",
    "display(HTML(freqs.describe().to_html()))\n",
    "\n",
    "\n",
    "cmap = sns.light_palette((210, 90, 60), input=\"husl\")\n",
    "\n",
    "fig, ax = plt.subplots(figsize=(25,10))\n",
    "sns.heatmap(freqs[columns[::-1]].transpose(),cmap=cmap, cbar=True, annot=True, fmt='.2%');\n",
    "cbar = ax.collections[0].colorbar\n",
    "cbar.ax.yaxis.set_major_formatter(PercentFormatter(1, 2))\n",
    "ax.set_xlabel(\"Modification percentage\", fontsize=14);\n",
    "ax.set_ylabel(r\"intervals\", fontsize=14);\n",
    "ax.set_title(\"p-values frequency for different intervals (in percentages)\\n\", fontsize=16)\n",
    "plt.yticks(rotation=45);\n",
    "# fig.savefig(\"t.png\")"
   ]
  },
  {
   "cell_type": "code",
   "execution_count": null,
   "metadata": {},
   "outputs": [],
   "source": []
  },
  {
   "cell_type": "code",
   "execution_count": null,
   "metadata": {},
   "outputs": [],
   "source": []
  }
 ],
 "metadata": {
  "kernelspec": {
   "display_name": "Python 3",
   "language": "python",
   "name": "python3"
  },
  "language_info": {
   "codemirror_mode": {
    "name": "ipython",
    "version": 3
   },
   "file_extension": ".py",
   "mimetype": "text/x-python",
   "name": "python",
   "nbconvert_exporter": "python",
   "pygments_lexer": "ipython3",
   "version": "3.6.8"
  }
 },
 "nbformat": 4,
 "nbformat_minor": 2
}
