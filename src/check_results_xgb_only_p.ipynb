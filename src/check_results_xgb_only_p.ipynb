{
 "cells": [
  {
   "cell_type": "markdown",
   "metadata": {},
   "source": [
    "# Results for Gradient Boosting when applying syn tranformation to premise only"
   ]
  },
  {
   "cell_type": "code",
   "execution_count": 1,
   "metadata": {},
   "outputs": [],
   "source": [
    "import pandas as pd\n",
    "import numpy as np\n",
    "import matplotlib.pyplot as plt\n",
    "import seaborn as sns\n",
    "from IPython.display import display, HTML "
   ]
  },
  {
   "cell_type": "markdown",
   "metadata": {},
   "source": [
    "## Loading Results"
   ]
  },
  {
   "cell_type": "code",
   "execution_count": 2,
   "metadata": {},
   "outputs": [],
   "source": [
    "path_0 = \"results/snli/xgb/wordnet_only_p_rho_0p0.csv\"\n",
    "path_0p25 = \"results/snli/xgb/wordnet_only_p_rho_0p25.csv\"\n",
    "path_0p5 = \"results/snli/xgb/wordnet_only_p_rho_0p5.csv\"\n",
    "path_0p75 = \"results/snli/xgb/wordnet_only_p_rho_0p75.csv\"\n",
    "path_1 = \"results/snli/xgb/wordnet_only_p_rho_1p0.csv\""
   ]
  },
  {
   "cell_type": "markdown",
   "metadata": {},
   "source": [
    "## Results for $\\rho = 0$"
   ]
  },
  {
   "cell_type": "code",
   "execution_count": 3,
   "metadata": {},
   "outputs": [
    {
     "data": {
      "text/html": [
       "<table border=\"1\" class=\"dataframe\">\n",
       "  <thead>\n",
       "    <tr style=\"text-align: right;\">\n",
       "      <th></th>\n",
       "      <th>m</th>\n",
       "      <th>train_accuracy_mean</th>\n",
       "      <th>train_accuracy_std</th>\n",
       "      <th>validation_accuracy</th>\n",
       "      <th>transformed_validation_accuracy</th>\n",
       "      <th>observable_t_stats</th>\n",
       "      <th>p_value</th>\n",
       "      <th>transformation_time</th>\n",
       "      <th>training_time</th>\n",
       "      <th>test_time</th>\n",
       "    </tr>\n",
       "  </thead>\n",
       "  <tbody>\n",
       "    <tr>\n",
       "      <th>0</th>\n",
       "      <td>1</td>\n",
       "      <td>0.553392</td>\n",
       "      <td>0.008841</td>\n",
       "      <td>0.558728</td>\n",
       "      <td>0.542877</td>\n",
       "      <td>5.155715</td>\n",
       "      <td>0.0</td>\n",
       "      <td>0.960791</td>\n",
       "      <td>1047.332031</td>\n",
       "      <td>1057.979434</td>\n",
       "    </tr>\n",
       "    <tr>\n",
       "      <th>1</th>\n",
       "      <td>2</td>\n",
       "      <td>0.557297</td>\n",
       "      <td>0.005001</td>\n",
       "      <td>0.565332</td>\n",
       "      <td>0.547958</td>\n",
       "      <td>5.146428</td>\n",
       "      <td>0.0</td>\n",
       "      <td>0.991956</td>\n",
       "      <td>1069.670436</td>\n",
       "      <td>1080.326061</td>\n",
       "    </tr>\n",
       "    <tr>\n",
       "      <th>2</th>\n",
       "      <td>3</td>\n",
       "      <td>0.556015</td>\n",
       "      <td>0.010216</td>\n",
       "      <td>0.557204</td>\n",
       "      <td>0.539931</td>\n",
       "      <td>5.613700</td>\n",
       "      <td>0.0</td>\n",
       "      <td>0.968363</td>\n",
       "      <td>1177.309628</td>\n",
       "      <td>1188.049416</td>\n",
       "    </tr>\n",
       "    <tr>\n",
       "      <th>3</th>\n",
       "      <td>4</td>\n",
       "      <td>0.561076</td>\n",
       "      <td>0.012257</td>\n",
       "      <td>0.564418</td>\n",
       "      <td>0.551920</td>\n",
       "      <td>3.898456</td>\n",
       "      <td>0.0</td>\n",
       "      <td>0.941000</td>\n",
       "      <td>982.311549</td>\n",
       "      <td>992.966820</td>\n",
       "    </tr>\n",
       "    <tr>\n",
       "      <th>4</th>\n",
       "      <td>5</td>\n",
       "      <td>0.555824</td>\n",
       "      <td>0.016563</td>\n",
       "      <td>0.566043</td>\n",
       "      <td>0.552022</td>\n",
       "      <td>4.218655</td>\n",
       "      <td>0.0</td>\n",
       "      <td>0.948702</td>\n",
       "      <td>815.788807</td>\n",
       "      <td>826.440564</td>\n",
       "    </tr>\n",
       "  </tbody>\n",
       "</table>"
      ],
      "text/plain": [
       "<IPython.core.display.HTML object>"
      ]
     },
     "metadata": {},
     "output_type": "display_data"
    }
   ],
   "source": [
    "results = pd.read_csv(path_0)\n",
    "not_boot_columns = [c for c in results.columns if c.find(\"boot\") == -1]\n",
    "display(HTML(results[not_boot_columns].to_html()))"
   ]
  },
  {
   "cell_type": "markdown",
   "metadata": {},
   "source": [
    "## Results for $\\rho = 0.25$"
   ]
  },
  {
   "cell_type": "code",
   "execution_count": 4,
   "metadata": {},
   "outputs": [
    {
     "data": {
      "text/html": [
       "<table border=\"1\" class=\"dataframe\">\n",
       "  <thead>\n",
       "    <tr style=\"text-align: right;\">\n",
       "      <th></th>\n",
       "      <th>m</th>\n",
       "      <th>train_accuracy_mean</th>\n",
       "      <th>train_accuracy_std</th>\n",
       "      <th>validation_accuracy</th>\n",
       "      <th>transformed_validation_accuracy</th>\n",
       "      <th>observable_t_stats</th>\n",
       "      <th>p_value</th>\n",
       "      <th>transformation_time</th>\n",
       "      <th>training_time</th>\n",
       "      <th>test_time</th>\n",
       "    </tr>\n",
       "  </thead>\n",
       "  <tbody>\n",
       "    <tr>\n",
       "      <th>0</th>\n",
       "      <td>1</td>\n",
       "      <td>0.558055</td>\n",
       "      <td>0.006857</td>\n",
       "      <td>0.565129</td>\n",
       "      <td>0.567466</td>\n",
       "      <td>-0.905662</td>\n",
       "      <td>0.378</td>\n",
       "      <td>0.988781</td>\n",
       "      <td>1159.921956</td>\n",
       "      <td>1170.530624</td>\n",
       "    </tr>\n",
       "    <tr>\n",
       "      <th>1</th>\n",
       "      <td>2</td>\n",
       "      <td>0.552736</td>\n",
       "      <td>0.011976</td>\n",
       "      <td>0.560862</td>\n",
       "      <td>0.556797</td>\n",
       "      <td>1.509878</td>\n",
       "      <td>0.132</td>\n",
       "      <td>1.010517</td>\n",
       "      <td>999.449441</td>\n",
       "      <td>1010.179435</td>\n",
       "    </tr>\n",
       "    <tr>\n",
       "      <th>2</th>\n",
       "      <td>3</td>\n",
       "      <td>0.552883</td>\n",
       "      <td>0.016834</td>\n",
       "      <td>0.563808</td>\n",
       "      <td>0.561878</td>\n",
       "      <td>0.694262</td>\n",
       "      <td>0.462</td>\n",
       "      <td>0.980933</td>\n",
       "      <td>911.125050</td>\n",
       "      <td>921.767982</td>\n",
       "    </tr>\n",
       "    <tr>\n",
       "      <th>3</th>\n",
       "      <td>4</td>\n",
       "      <td>0.555925</td>\n",
       "      <td>0.019739</td>\n",
       "      <td>0.569396</td>\n",
       "      <td>0.569803</td>\n",
       "      <td>-0.153393</td>\n",
       "      <td>0.832</td>\n",
       "      <td>1.008223</td>\n",
       "      <td>1054.533804</td>\n",
       "      <td>1065.207027</td>\n",
       "    </tr>\n",
       "    <tr>\n",
       "      <th>4</th>\n",
       "      <td>5</td>\n",
       "      <td>0.554816</td>\n",
       "      <td>0.014947</td>\n",
       "      <td>0.566145</td>\n",
       "      <td>0.565231</td>\n",
       "      <td>0.331972</td>\n",
       "      <td>0.758</td>\n",
       "      <td>0.995222</td>\n",
       "      <td>976.912874</td>\n",
       "      <td>987.507411</td>\n",
       "    </tr>\n",
       "  </tbody>\n",
       "</table>"
      ],
      "text/plain": [
       "<IPython.core.display.HTML object>"
      ]
     },
     "metadata": {},
     "output_type": "display_data"
    }
   ],
   "source": [
    "results = pd.read_csv(path_0p25)\n",
    "not_boot_columns = [c for c in results.columns if c.find(\"boot\") == -1]\n",
    "display(HTML(results[not_boot_columns].to_html()))"
   ]
  },
  {
   "cell_type": "markdown",
   "metadata": {},
   "source": [
    "## Results for $\\rho = 0.5$"
   ]
  },
  {
   "cell_type": "code",
   "execution_count": 5,
   "metadata": {},
   "outputs": [
    {
     "data": {
      "text/html": [
       "<table border=\"1\" class=\"dataframe\">\n",
       "  <thead>\n",
       "    <tr style=\"text-align: right;\">\n",
       "      <th></th>\n",
       "      <th>m</th>\n",
       "      <th>train_accuracy_mean</th>\n",
       "      <th>train_accuracy_std</th>\n",
       "      <th>validation_accuracy</th>\n",
       "      <th>transformed_validation_accuracy</th>\n",
       "      <th>observable_t_stats</th>\n",
       "      <th>p_value</th>\n",
       "      <th>transformation_time</th>\n",
       "      <th>training_time</th>\n",
       "      <th>test_time</th>\n",
       "    </tr>\n",
       "  </thead>\n",
       "  <tbody>\n",
       "    <tr>\n",
       "      <th>0</th>\n",
       "      <td>1</td>\n",
       "      <td>0.549009</td>\n",
       "      <td>0.021667</td>\n",
       "      <td>0.554969</td>\n",
       "      <td>0.551107</td>\n",
       "      <td>1.531246</td>\n",
       "      <td>0.130</td>\n",
       "      <td>1.024998</td>\n",
       "      <td>840.796628</td>\n",
       "      <td>851.482898</td>\n",
       "    </tr>\n",
       "    <tr>\n",
       "      <th>1</th>\n",
       "      <td>2</td>\n",
       "      <td>0.553336</td>\n",
       "      <td>0.005618</td>\n",
       "      <td>0.554969</td>\n",
       "      <td>0.557102</td>\n",
       "      <td>-0.866796</td>\n",
       "      <td>0.424</td>\n",
       "      <td>1.068393</td>\n",
       "      <td>1212.744727</td>\n",
       "      <td>1223.425655</td>\n",
       "    </tr>\n",
       "    <tr>\n",
       "      <th>2</th>\n",
       "      <td>3</td>\n",
       "      <td>0.542368</td>\n",
       "      <td>0.012101</td>\n",
       "      <td>0.549787</td>\n",
       "      <td>0.548059</td>\n",
       "      <td>0.688891</td>\n",
       "      <td>0.446</td>\n",
       "      <td>1.032583</td>\n",
       "      <td>975.127163</td>\n",
       "      <td>985.822619</td>\n",
       "    </tr>\n",
       "    <tr>\n",
       "      <th>3</th>\n",
       "      <td>4</td>\n",
       "      <td>0.544684</td>\n",
       "      <td>0.012426</td>\n",
       "      <td>0.546738</td>\n",
       "      <td>0.547856</td>\n",
       "      <td>-0.459537</td>\n",
       "      <td>0.680</td>\n",
       "      <td>1.060651</td>\n",
       "      <td>1112.003988</td>\n",
       "      <td>1122.709323</td>\n",
       "    </tr>\n",
       "    <tr>\n",
       "      <th>4</th>\n",
       "      <td>5</td>\n",
       "      <td>0.549501</td>\n",
       "      <td>0.009184</td>\n",
       "      <td>0.553546</td>\n",
       "      <td>0.556594</td>\n",
       "      <td>-1.193422</td>\n",
       "      <td>0.224</td>\n",
       "      <td>1.027437</td>\n",
       "      <td>1016.778573</td>\n",
       "      <td>1027.468555</td>\n",
       "    </tr>\n",
       "  </tbody>\n",
       "</table>"
      ],
      "text/plain": [
       "<IPython.core.display.HTML object>"
      ]
     },
     "metadata": {},
     "output_type": "display_data"
    }
   ],
   "source": [
    "results = pd.read_csv(path_0p5)\n",
    "not_boot_columns = [c for c in results.columns if c.find(\"boot\") == -1]\n",
    "display(HTML(results[not_boot_columns].to_html()))"
   ]
  },
  {
   "cell_type": "markdown",
   "metadata": {},
   "source": [
    "## Results for $\\rho = 0.75$"
   ]
  },
  {
   "cell_type": "code",
   "execution_count": 6,
   "metadata": {},
   "outputs": [
    {
     "data": {
      "text/html": [
       "<table border=\"1\" class=\"dataframe\">\n",
       "  <thead>\n",
       "    <tr style=\"text-align: right;\">\n",
       "      <th></th>\n",
       "      <th>m</th>\n",
       "      <th>train_accuracy_mean</th>\n",
       "      <th>train_accuracy_std</th>\n",
       "      <th>validation_accuracy</th>\n",
       "      <th>transformed_validation_accuracy</th>\n",
       "      <th>observable_t_stats</th>\n",
       "      <th>p_value</th>\n",
       "      <th>transformation_time</th>\n",
       "      <th>training_time</th>\n",
       "      <th>test_time</th>\n",
       "    </tr>\n",
       "  </thead>\n",
       "  <tbody>\n",
       "    <tr>\n",
       "      <th>0</th>\n",
       "      <td>1</td>\n",
       "      <td>0.549273</td>\n",
       "      <td>0.012002</td>\n",
       "      <td>0.548974</td>\n",
       "      <td>0.554359</td>\n",
       "      <td>-2.120484</td>\n",
       "      <td>0.028</td>\n",
       "      <td>1.067726</td>\n",
       "      <td>1157.590997</td>\n",
       "      <td>1168.186304</td>\n",
       "    </tr>\n",
       "    <tr>\n",
       "      <th>1</th>\n",
       "      <td>2</td>\n",
       "      <td>0.528366</td>\n",
       "      <td>0.018196</td>\n",
       "      <td>0.527840</td>\n",
       "      <td>0.536375</td>\n",
       "      <td>-3.707668</td>\n",
       "      <td>0.000</td>\n",
       "      <td>1.104385</td>\n",
       "      <td>905.198088</td>\n",
       "      <td>915.901269</td>\n",
       "    </tr>\n",
       "    <tr>\n",
       "      <th>2</th>\n",
       "      <td>3</td>\n",
       "      <td>0.554988</td>\n",
       "      <td>0.001740</td>\n",
       "      <td>0.554867</td>\n",
       "      <td>0.559439</td>\n",
       "      <td>-1.755892</td>\n",
       "      <td>0.100</td>\n",
       "      <td>1.075953</td>\n",
       "      <td>1246.384464</td>\n",
       "      <td>1257.048998</td>\n",
       "    </tr>\n",
       "    <tr>\n",
       "      <th>3</th>\n",
       "      <td>4</td>\n",
       "      <td>0.546437</td>\n",
       "      <td>0.024680</td>\n",
       "      <td>0.554765</td>\n",
       "      <td>0.555172</td>\n",
       "      <td>-0.160644</td>\n",
       "      <td>0.864</td>\n",
       "      <td>1.101587</td>\n",
       "      <td>1132.648300</td>\n",
       "      <td>1143.390358</td>\n",
       "    </tr>\n",
       "    <tr>\n",
       "      <th>4</th>\n",
       "      <td>5</td>\n",
       "      <td>0.549955</td>\n",
       "      <td>0.009047</td>\n",
       "      <td>0.554257</td>\n",
       "      <td>0.560049</td>\n",
       "      <td>-2.280602</td>\n",
       "      <td>0.018</td>\n",
       "      <td>1.075598</td>\n",
       "      <td>1306.845507</td>\n",
       "      <td>1317.556408</td>\n",
       "    </tr>\n",
       "  </tbody>\n",
       "</table>"
      ],
      "text/plain": [
       "<IPython.core.display.HTML object>"
      ]
     },
     "metadata": {},
     "output_type": "display_data"
    }
   ],
   "source": [
    "results = pd.read_csv(path_0p75)\n",
    "not_boot_columns = [c for c in results.columns if c.find(\"boot\") == -1]\n",
    "display(HTML(results[not_boot_columns].to_html()))"
   ]
  },
  {
   "cell_type": "markdown",
   "metadata": {},
   "source": [
    "## Results for $\\rho = 1.0$"
   ]
  },
  {
   "cell_type": "code",
   "execution_count": 7,
   "metadata": {},
   "outputs": [
    {
     "data": {
      "text/html": [
       "<table border=\"1\" class=\"dataframe\">\n",
       "  <thead>\n",
       "    <tr style=\"text-align: right;\">\n",
       "      <th></th>\n",
       "      <th>m</th>\n",
       "      <th>train_accuracy_mean</th>\n",
       "      <th>train_accuracy_std</th>\n",
       "      <th>validation_accuracy</th>\n",
       "      <th>transformed_validation_accuracy</th>\n",
       "      <th>observable_t_stats</th>\n",
       "      <th>p_value</th>\n",
       "      <th>transformation_time</th>\n",
       "      <th>training_time</th>\n",
       "      <th>test_time</th>\n",
       "    </tr>\n",
       "  </thead>\n",
       "  <tbody>\n",
       "    <tr>\n",
       "      <th>0</th>\n",
       "      <td>1</td>\n",
       "      <td>0.545421</td>\n",
       "      <td>0.015963</td>\n",
       "      <td>0.543385</td>\n",
       "      <td>0.555578</td>\n",
       "      <td>-4.134155</td>\n",
       "      <td>0.000</td>\n",
       "      <td>1.114448</td>\n",
       "      <td>957.267796</td>\n",
       "      <td>967.940522</td>\n",
       "    </tr>\n",
       "    <tr>\n",
       "      <th>1</th>\n",
       "      <td>2</td>\n",
       "      <td>0.563240</td>\n",
       "      <td>0.009646</td>\n",
       "      <td>0.558321</td>\n",
       "      <td>0.575493</td>\n",
       "      <td>-5.333332</td>\n",
       "      <td>0.000</td>\n",
       "      <td>1.149899</td>\n",
       "      <td>1525.342724</td>\n",
       "      <td>1536.041770</td>\n",
       "    </tr>\n",
       "    <tr>\n",
       "      <th>2</th>\n",
       "      <td>3</td>\n",
       "      <td>0.560618</td>\n",
       "      <td>0.010024</td>\n",
       "      <td>0.547145</td>\n",
       "      <td>0.569498</td>\n",
       "      <td>-6.838097</td>\n",
       "      <td>0.000</td>\n",
       "      <td>1.129840</td>\n",
       "      <td>1619.168010</td>\n",
       "      <td>1629.888438</td>\n",
       "    </tr>\n",
       "    <tr>\n",
       "      <th>3</th>\n",
       "      <td>4</td>\n",
       "      <td>0.547820</td>\n",
       "      <td>0.010618</td>\n",
       "      <td>0.537696</td>\n",
       "      <td>0.551412</td>\n",
       "      <td>-4.595059</td>\n",
       "      <td>0.000</td>\n",
       "      <td>1.131167</td>\n",
       "      <td>1558.443308</td>\n",
       "      <td>1569.100408</td>\n",
       "    </tr>\n",
       "    <tr>\n",
       "      <th>4</th>\n",
       "      <td>5</td>\n",
       "      <td>0.538542</td>\n",
       "      <td>0.012735</td>\n",
       "      <td>0.539118</td>\n",
       "      <td>0.546738</td>\n",
       "      <td>-2.870997</td>\n",
       "      <td>0.002</td>\n",
       "      <td>1.131626</td>\n",
       "      <td>1302.902459</td>\n",
       "      <td>1313.559728</td>\n",
       "    </tr>\n",
       "  </tbody>\n",
       "</table>"
      ],
      "text/plain": [
       "<IPython.core.display.HTML object>"
      ]
     },
     "metadata": {},
     "output_type": "display_data"
    }
   ],
   "source": [
    "results = pd.read_csv(path_1)\n",
    "not_boot_columns = [c for c in results.columns if c.find(\"boot\") == -1]\n",
    "display(HTML(results[not_boot_columns].to_html()))"
   ]
  },
  {
   "cell_type": "markdown",
   "metadata": {},
   "source": [
    "### Vizualizing all p-values"
   ]
  },
  {
   "cell_type": "code",
   "execution_count": 8,
   "metadata": {},
   "outputs": [
    {
     "data": {
      "image/png": "[encoded data removed]",
      "text/plain": [
       "<Figure size 720x360 with 2 Axes>"
      ]
     },
     "metadata": {
      "needs_background": "light"
     },
     "output_type": "display_data"
    }
   ],
   "source": [
    "paths = [path_0, path_0p25, path_0p5, path_0p75, path_1]\n",
    "names = [r\"$\\rho = 0$\", r\"$\\rho = 0.25$\", r\"$\\rho = 0.5$\", r\"$\\rho = 0.75$\", r\"$\\rho = 1$\"]\n",
    "\n",
    "all_p_values = {}\n",
    "for path, name in zip(paths, names):\n",
    "    results = pd.read_csv(path).p_value\n",
    "    all_p_values[name] = results \n",
    "\n",
    "fig, ax = plt.subplots(figsize=(10,5))\n",
    "sns.heatmap(pd.DataFrame(all_p_values), annot=True, cmap=\"Reds\", ax=ax);"
   ]
  },
  {
   "cell_type": "code",
   "execution_count": null,
   "metadata": {},
   "outputs": [],
   "source": []
  },
  {
   "cell_type": "code",
   "execution_count": null,
   "metadata": {},
   "outputs": [],
   "source": []
  },
  {
   "cell_type": "code",
   "execution_count": null,
   "metadata": {},
   "outputs": [],
   "source": []
  },
  {
   "cell_type": "code",
   "execution_count": null,
   "metadata": {},
   "outputs": [],
   "source": []
  },
  {
   "cell_type": "code",
   "execution_count": null,
   "metadata": {},
   "outputs": [],
   "source": []
  },
  {
   "cell_type": "code",
   "execution_count": null,
   "metadata": {},
   "outputs": [],
   "source": []
  },
  {
   "cell_type": "code",
   "execution_count": null,
   "metadata": {},
   "outputs": [],
   "source": []
  }
 ],
 "metadata": {
  "kernelspec": {
   "display_name": "Python 3",
   "language": "python",
   "name": "python3"
  },
  "language_info": {
   "codemirror_mode": {
    "name": "ipython",
    "version": 3
   },
   "file_extension": ".py",
   "mimetype": "text/x-python",
   "name": "python",
   "nbconvert_exporter": "python",
   "pygments_lexer": "ipython3",
   "version": "3.6.9"
  }
 },
 "nbformat": 4,
 "nbformat_minor": 2
}
